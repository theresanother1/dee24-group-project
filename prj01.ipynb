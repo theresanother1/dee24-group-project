{
 "cells": [
  {
   "cell_type": "markdown",
   "id": "e12ece56-fcd4-4665-bf8b-773b5e8c789d",
   "metadata": {
    "id": "e12ece56-fcd4-4665-bf8b-773b5e8c789d",
    "tags": []
   },
   "source": [
    "# Project Dogs  - Data Engineering\n",
    "\n",
    "This notebook is for the implementation of task \"2 Data Exploration and Analysis\", as listed in the **Project Instructions**."
   ]
  },
  {
   "cell_type": "markdown",
   "id": "45dfc955-b808-45ff-b0d8-c2425da31416",
   "metadata": {
    "id": "45dfc955-b808-45ff-b0d8-c2425da31416"
   },
   "source": [
    "<div class=\"alert alert-success\">\n",
    "<b>Overview:</b><br>\n",
    "Data Exploration and Analysis consists of the following parts worth 70 points:\n",
    "<ul>\n",
    "    <li><b>E1 - Obtain and Scrub</b> (15 points)</li>\n",
    "    <li><b>E2 - Exploratory data analysis (EDA) </b>(20 points)</li>\n",
    "    <li><b>E3 - Formulate hypotheses </b>(25 points)</li>\n",
    "    <li><b>Follow the guidelines for Data Exploration and Analysis below </b>(10 points)</li>\n",
    "</ul></div>"
   ]
  },
  {
   "cell_type": "markdown",
   "id": "3c8a055f",
   "metadata": {
    "id": "3c8a055f"
   },
   "source": [
    "<div class=\"alert alert-success\">\n",
    "<b>Guidelines for Data Exploration and Analysis:</b><br>\n",
    "    <ol>\n",
    "        <li>Use a single Jupyer notebook for your project.</li>\n",
    "        <li>Use only Python-code for your project.</li>\n",
    "        <li>The use of automatic and semi-automatic data analyis tools is not allowed (e. g., PandasGUI, D-Tale, Mito, etc.). Only use packages we used in the coded lectures.</li>\n",
    "        <li>Export your environment for submission as 'prj01-environment.txt'.</li>\n",
    "        <li>Upload your resulting work as a zip file containing only a single jupyter notebook and required files to run the notebook. All cell outputs and <b>figures must display in jupyter lab</b>. (Test this, in particular when you use another environment like VS Code.)</li>\n",
    "        <li>All code cells in your notebook must be runnable without errors or warnings (e. g., deprecated functions). Each error/warning subtracts -2 points (up to the full 10 points for following the  guidelines).</li>\n",
    "        <li>Use only relative paths in your project.</li>\n",
    "        <li>Avoid (excessive) code duplication.</li>\n",
    "        <li>Avoid loops iterating over pandas objects (Series, DataFrames). Explicitly justify each exception via a comment. </li>\n",
    "        <li>All coded steps in your analysis must be commented.</li>\n",
    "        <li>Keep your code as well as outputs short, precise and readable. Each long or unnecessary output subtracts -2 points (up to the full 10 points for following the project guidelines).</li>\n",
    "    </ol>\n",
    "    <b>Late submissions are not accepted and earn you 0 points on the python project. </b>\n",
    "</div>"
   ]
  },
  {
   "cell_type": "markdown",
   "id": "ea992ba9-f942-445d-a515-16dc32837466",
   "metadata": {
    "id": "ea992ba9-f942-445d-a515-16dc32837466"
   },
   "source": [
    "Explicitly list which notebook toolset was used (jupyter lab/jupyter notebook/VS Code/etc.)\n",
    "\n",
    "**here**: jupyter lab"
   ]
  },
  {
   "cell_type": "markdown",
   "id": "92f63424-1d61-4b8b-94a6-f50afea65d79",
   "metadata": {
    "id": "92f63424-1d61-4b8b-94a6-f50afea65d79",
    "tags": []
   },
   "source": [
    "Explicitly and clearly state the chosen dataset number and title:\n",
    "### Bevölkerung ODÖ Hunde\n",
    "#### Hundebestand seit 2002 - Bezirke Wien --> contains info about dog density per districts over years\n",
    "#### Hunde pro Bezirk Wien --> contains info about dog breeds count per district in 2024\n",
    "#### Hunderassen Wien --> contains info about dog breeds count per district 2012 - 2017\n"
   ]
  },
  {
   "cell_type": "markdown",
   "id": "33535533184625d2",
   "metadata": {},
   "source": [
    "## Imports"
   ]
  },
  {
   "cell_type": "code",
   "execution_count": null,
   "id": "5417f795-37f5-4c57-bdbe-36c1a00fedfe",
   "metadata": {
    "id": "5417f795-37f5-4c57-bdbe-36c1a00fedfe"
   },
   "outputs": [],
   "source": [
    "# Importing necessary packages:\n",
    "import pandas as pd\n",
    "import numpy as np\n",
    "import seaborn as sns\n",
    "import plotly.express as px\n",
    "import plotly.io as pio\n",
    "import matplotlib.pyplot as plt\n",
    "import matplotlib.colors as mcolors\n",
    "from matplotlib import colormaps\n",
    "import geopandas as gpd\n",
    "import json # to read in geojson\n",
    "from matplotlib.lines import Line2D # for custom legend\n",
    "import re\n",
    "import os\n",
    "%matplotlib inline"
   ]
  },
  {
   "cell_type": "markdown",
   "id": "0999a549-323a-4537-963f-3a1a746b77fd",
   "metadata": {
    "id": "0999a549-323a-4537-963f-3a1a746b77fd"
   },
   "source": [
    "## E1 - Obtain and Scrub"
   ]
  },
  {
   "cell_type": "markdown",
   "id": "937713cc-715f-4930-ae10-ebeeaec55685",
   "metadata": {
    "id": "937713cc-715f-4930-ae10-ebeeaec55685"
   },
   "source": [
    "### Obtain\n",
    "Download the dataset and understand both:\n",
    "- format: wide vs. long, separaters, decimal points, encoding, etc., and\n",
    "- content: what variables are in the columns, what is their meaning?\n",
    "To this end, identify and download metadata such as headers, category listings, explanatory reports, etc.\n",
    "### Scrub\n",
    "The aim of scrub is to create a clean version of the data for further analysis.\n",
    "- Load the dataset and take care of dtypes (dates, numbers, categories, etc.). Justify why you don't load/use specific columns.\n",
    "- Check for footnotes or any other notifications on special cell content, such as time series breaks. Follow up that information, and document your decision how to deal with it. Remember: A homework contained such info in the cell \"76.1 b\". The metadata defines what that \"b\" stands for.\n",
    "- Choose an appropriate (Multi-)Index.\n",
    "- Identify:\n",
    "    1. missing values and get row and column overviews. Use graphical and/or numeric approaches. Once identified, handle missing values according to column type, time series property and data set size.\n",
    "    2. duplicates (justify the used column subset). Remove duplicates - if any - and inspect what you removed.\n",
    "- Transform to shape (tidy vs. wide) best suited for further analysis.\n",
    "- Export the clean data to a file for inspection with an external data browser (e.g., MS Excel).\n",
    "- Provide an overview of the clean dataset:\n",
    "    1. show the dtypes\n",
    "    2. quantitative column descriptions:\n",
    "        1. categorical columns: number of unique values, counts\n",
    "        2. numeric columns: range and median"
   ]
  },
  {
   "cell_type": "markdown",
   "id": "zmdvK0BezPWW",
   "metadata": {
    "id": "zmdvK0BezPWW"
   },
   "source": []
  },
  {
   "cell_type": "markdown",
   "id": "CM15Z24i0wnM",
   "metadata": {
    "id": "CM15Z24i0wnM"
   },
   "source": [
    "### Dataset 1 (Hundebestand seit 2002 - Bezirke Wien)\n",
    "Number of dogs (absolute and per 1,000 inhabitants) since 2002 - districts of Vienna\n",
    " \t* NUTS | NUTS2-Region (Bundesland)\n",
    "  * DISTRICT_CODE | Gemeindebezirkskennzahl (Schema: 9BBZZ, BB=Nummer Bezirk, ZZ=00)\n",
    "  * SUB_DISTRICT_CODE | Zählbezirkskennzahl gemäß Stadt Wien (Schema: 9BBZZ, 9=Kennzeichnung Wien, BB=Nummer Bezirk, ZZ=Nummer Zählbezirk, **ZZ=99 bei fehlender Zählbezirkskennzeichnung**)\n",
    "  * REF_YEAR | Referenzjahr\n",
    "  * REF_DATE | Referenzdatum\n",
    "  * DOG_VALUE | Anzahl der Hunde (absolut)\n",
    "  * DOG_DENSITY | Anzahl der Hunde pro 1.000 EinwohnerInnen\n",
    "\n",
    "Source: https://www.data.gv.at/katalog/dataset/1a48e78a-c660-41e0-ac32-8b675c0ea39c#additional-info\n",
    "\n",
    "   TODO: add more description?"
   ]
  },
  {
   "cell_type": "markdown",
   "id": "SqP0q91O-iim",
   "metadata": {
    "id": "SqP0q91O-iim"
   },
   "source": [
    "#### Obtain"
   ]
  },
  {
   "cell_type": "code",
   "execution_count": null,
   "id": "cc301dcd",
   "metadata": {},
   "outputs": [],
   "source": [
    "# Import the first data set\n",
    "dogs_2002 = pd.read_csv(\"vie-bez-biz-spo-dog-2002f.csv\", sep=';', skiprows=1, dtype={\"DOG_VALUE\": \"object\", \"DOG_DENSITY\": \"object\"})\n",
    "print(\"Dataframe shape: \", dogs_2002.shape)\n",
    "dogs_2002.head(5)"
   ]
  },
  {
   "cell_type": "markdown",
   "id": "cYHcuGm_0vRs",
   "metadata": {
    "id": "cYHcuGm_0vRs"
   },
   "source": [
    "* The separator is ';'.\n",
    "* The encoding is 'utf-8'.\n",
    "* The original shape is (528, 17) - but many columns full of NaNs (later: cleaned up data => shape=(528, 7)).\n",
    "* Long format:  \n",
    "  * Contains entries for years by district of overall dog density sorted by years.\n",
    "  * each row represents a single observation of district by year and dog breeds\n",
    "* The first row contains the csv title. It is dropped and the second row is used for column titles.\n",
    "* First column 'NUTS' (= identification and classification system for european states) contains always the same value, since 'AT13' stands for Vienna (and we only have data for Vienna in this dataset). We could drop it, but it also doesn't bother us too much right now\n",
    "* DISTRICT_CODE '90000' stands for all districts combined\n",
    "* Need to import DOG_VALUE as objects because the '.' in some values does not allow conversion to integer right now. Without specifying it, the values are recognised as floats.\n",
    "* We also import DOG_DENSITY as objects because we need to convert the ',' to '.' to allow conversion to floats afterwards\n"
   ]
  },
  {
   "cell_type": "markdown",
   "id": "PMX1AMbE-nAF",
   "metadata": {
    "id": "PMX1AMbE-nAF"
   },
   "source": [
    "#### Scrub"
   ]
  },
  {
   "cell_type": "code",
   "execution_count": null,
   "id": "3685b415",
   "metadata": {},
   "outputs": [],
   "source": [
    "# check columns and their missing data ratio\n",
    "((dogs_2002.isnull().sum() / len(dogs_2002)) * 100).sort_values(ascending=False)"
   ]
  },
  {
   "cell_type": "code",
   "execution_count": null,
   "id": "4a5762f0",
   "metadata": {},
   "outputs": [],
   "source": [
    "# drop all cols with NaN --> lots because of multiple 'unnecessary' seperators ';' in last columns\n",
    "# other columns have no missing values\n",
    "dogs_2002 = dogs_2002.dropna(axis=1, how='any')\n",
    "print(\"Dataframe shape: \", dogs_2002.shape)"
   ]
  },
  {
   "cell_type": "code",
   "execution_count": null,
   "id": "PPMkfTio-dM1",
   "metadata": {
    "colab": {
     "base_uri": "https://localhost:8080/"
    },
    "id": "PPMkfTio-dM1",
    "outputId": "d71ebb33-3561-46d0-a5c9-232b19d34e3f"
   },
   "outputs": [],
   "source": [
    "print(dogs_2002.dtypes)"
   ]
  },
  {
   "cell_type": "markdown",
   "id": "C17S4bNNA_Kj",
   "metadata": {
    "id": "C17S4bNNA_Kj"
   },
   "source": [
    "Remove '.' in DOG_VALUE and convert to integer.\n",
    "\n",
    "Change DOG_DENSITY to use '.' instead of ',' and the format to float to be able to calculate with it, if needed.\n",
    "\n",
    "Change REF_DATE to format datetime since its currently int64."
   ]
  },
  {
   "cell_type": "code",
   "execution_count": null,
   "id": "O_UvJZKM_Hba",
   "metadata": {
    "id": "O_UvJZKM_Hba"
   },
   "outputs": [],
   "source": [
    "dogs_2002['DOG_VALUE'] = dogs_2002['DOG_VALUE'].str.replace('.', '', regex=False).astype(int)\n",
    "dogs_2002['DOG_DENSITY'] = dogs_2002['DOG_DENSITY'].str.replace(',', '.', regex=False).astype(float)\n",
    "dogs_2002['REF_DATE'] = pd.to_datetime(dogs_2002['REF_DATE'].astype(str), format='%Y%m%d')"
   ]
  },
  {
   "cell_type": "code",
   "execution_count": null,
   "id": "u8LNjDOZ_6LA",
   "metadata": {
    "colab": {
     "base_uri": "https://localhost:8080/",
     "height": 275
    },
    "id": "u8LNjDOZ_6LA",
    "outputId": "56ce61ba-57c2-45bb-c4ee-08bccb4b1388"
   },
   "outputs": [],
   "source": [
    "print(dogs_2002.dtypes)\n",
    "dogs_2002.head(2)"
   ]
  },
  {
   "cell_type": "markdown",
   "id": "RSZJCWbVDdm_",
   "metadata": {
    "id": "RSZJCWbVDdm_"
   },
   "source": [
    "* District Code and Sub District Code are the same --> removing Sub District Code\n",
    "* add Postal_CODE column for better comparison between datasets"
   ]
  },
  {
   "cell_type": "code",
   "execution_count": null,
   "id": "0ElC1KTTCTrW",
   "metadata": {
    "colab": {
     "base_uri": "https://localhost:8080/"
    },
    "id": "0ElC1KTTCTrW",
    "outputId": "363fd93d-c1d0-4c8c-bedc-489e3c407c54"
   },
   "outputs": [],
   "source": [
    "# only execute if not already done (avoids errors)\n",
    "if 'SUB_DISTRICT_CODE' in dogs_2002.columns:\n",
    "    print(np.unique([dogs_2002['DISTRICT_CODE'] == dogs_2002['SUB_DISTRICT_CODE']], return_counts=True)) # check that columns are actually the same\n",
    "    dogs_2002.drop(columns=['SUB_DISTRICT_CODE'], inplace=True)\n",
    "dogs_2002[\"Postal_CODE\"] = \"1\" + dogs_2002['DISTRICT_CODE'].astype(str).str[1:3] + \"0\"\n",
    "dogs_2002.head(2) # Postal_CODE=1000 represents Vienna in total"
   ]
  },
  {
   "cell_type": "markdown",
   "id": "KP8umAEWEaKh",
   "metadata": {
    "id": "KP8umAEWEaKh"
   },
   "source": [
    "Check for duplicates --> looks good:"
   ]
  },
  {
   "cell_type": "code",
   "execution_count": null,
   "id": "4c954974",
   "metadata": {},
   "outputs": [],
   "source": [
    "dogs_2002.duplicated(subset=['DISTRICT_CODE', 'REF_YEAR']).any()"
   ]
  },
  {
   "cell_type": "markdown",
   "id": "Yb9o7VSC3PmW",
   "metadata": {
    "id": "Yb9o7VSC3PmW"
   },
   "source": [
    "### Dataset 2 (Hunde pro Bezirk Wien)\n",
    "  Number of registered dogs in Vienna per district and dog breed in the year 2024.\n",
    "\n",
    "  * NUTS1 NUTS2 NUTS3: same as before, but NUTS3 in addition: provides district information for Vienna\n",
    "  * DISTRICT_CODE: same structure as before\n",
    "  * SUB_DISTRICT_CODE\n",
    "  * Postal_CODE\n",
    "  * Dog Breed\n",
    "  * Anzahl\n",
    "  * Ref_Date\n",
    "\n",
    "Source: https://www.data.gv.at/katalog/dataset/71edef44-9d6c-4042-ab71-7207dc930ba7#additional-info"
   ]
  },
  {
   "cell_type": "markdown",
   "id": "o3r727dnBgMa",
   "metadata": {
    "id": "o3r727dnBgMa"
   },
   "source": [
    "#### Obtain"
   ]
  },
  {
   "cell_type": "code",
   "execution_count": null,
   "id": "OZ33eJS5uLoR",
   "metadata": {
    "colab": {
     "base_uri": "https://localhost:8080/",
     "height": 311
    },
    "id": "OZ33eJS5uLoR",
    "outputId": "d5847ce1-9657-4d88-f4ae-28ff9db150d5"
   },
   "outputs": [],
   "source": [
    "# Import dataset 2\n",
    "dog_types_2024 = pd.read_csv(\"hunde-wien.csv\", sep=';', encoding='latin-1', skiprows=1, dtype={\"Anzahl\": \"object\"})\n",
    "\n",
    "print(\"Dataframe shape: \", dog_types_2024.shape)\n",
    "dog_types_2024.head(5)"
   ]
  },
  {
   "cell_type": "markdown",
   "id": "wOsgnkig3lLM",
   "metadata": {
    "id": "wOsgnkig3lLM"
   },
   "source": [
    "* The separator is ';'\n",
    "* The encoding is 'latin-1'.\n",
    "* The shape is (11117, 9).\n",
    "* Mixed breeds are also included, like 'Hovawart / Golden Retriever'.\n",
    "* Format is long:\n",
    "  * dog breeds can appear multiple times in breed-column. This is the case if at least two dogs of a breed are registered in different districts. If there is no dog of a specific breed registered in a distric, it is not listed in the dataset for this district.\n",
    "  * Every district and breed combination has a single count value\n",
    "* We import 'Anzahl'-column as objects, because there is a value that contains a '.' (Point). Therefore, it would be recognised as a float even though these values should be all integers."
   ]
  },
  {
   "cell_type": "markdown",
   "id": "LD3kkP6yBjxE",
   "metadata": {
    "id": "LD3kkP6yBjxE"
   },
   "source": [
    "#### Scrub"
   ]
  },
  {
   "cell_type": "code",
   "execution_count": null,
   "id": "b8c1c6dc",
   "metadata": {},
   "outputs": [],
   "source": [
    "# check columns and their missing data ratio => no missing data\n",
    "((dog_types_2024.isnull().sum() / len(dog_types_2024)) * 100).sort_values(ascending=False)"
   ]
  },
  {
   "cell_type": "code",
   "execution_count": null,
   "id": "P41XHNLCBktj",
   "metadata": {
    "colab": {
     "base_uri": "https://localhost:8080/"
    },
    "id": "P41XHNLCBktj",
    "outputId": "aef54597-595a-4d45-fd22-56336480ba50"
   },
   "outputs": [],
   "source": [
    "dog_types_2024.dtypes.to_frame().T"
   ]
  },
  {
   "cell_type": "markdown",
   "id": "b_-WR17pGj9e",
   "metadata": {
    "id": "b_-WR17pGj9e"
   },
   "source": [
    "Looks like some columns only have 1 unique value => NUTS1-3, SUB_DISTRICT_CODE and Ref_Date to be exact. Also, no district is missing, which is good."
   ]
  },
  {
   "cell_type": "code",
   "execution_count": null,
   "id": "0d75f7a4",
   "metadata": {},
   "outputs": [],
   "source": [
    "dog_types_2024.nunique()"
   ]
  },
  {
   "cell_type": "code",
   "execution_count": null,
   "id": "36757578",
   "metadata": {},
   "outputs": [],
   "source": [
    "print(\"DISTRICT_CODE:\", dog_types_2024[\"DISTRICT_CODE\"].unique())\n",
    "print(\"Postal_CODE:\", dog_types_2024[\"Postal_CODE\"].unique())"
   ]
  },
  {
   "cell_type": "markdown",
   "id": "5hVfZLltI_8L",
   "metadata": {
    "id": "5hVfZLltI_8L"
   },
   "source": [
    "Drop NUTS1, NUTS2, NUTS3 and SUB_DISTRICT CODE. Don't want to drop Ref_Date yet, maybe could be used for some insights with the above data frame."
   ]
  },
  {
   "cell_type": "code",
   "execution_count": null,
   "id": "KTKCaSY2JUqT",
   "metadata": {
    "id": "KTKCaSY2JUqT"
   },
   "outputs": [],
   "source": [
    "dog_types_2024 = dog_types_2024.drop(['NUTS1', 'NUTS2', 'NUTS3', 'SUB_DISTRICT_CODE'], axis=1)\n",
    "dog_types_2024['Ref_Date'] = pd.to_datetime(dog_types_2024['Ref_Date'].astype(str), format='%Y%m%d')\n",
    "dog_types_2024.dtypes.to_frame().T"
   ]
  },
  {
   "cell_type": "markdown",
   "id": "012410ea",
   "metadata": {},
   "source": [
    "The 'Anzahl'-column contains one value that currently cannot be converted to an integer without losing information. It seems that there are 1012 dogs of mixed breed 'Unbekannt / Mischling', which would be recognised as a float with decimal places:"
   ]
  },
  {
   "cell_type": "code",
   "execution_count": null,
   "id": "43f99915",
   "metadata": {},
   "outputs": [],
   "source": [
    "dog_types_2024[dog_types_2024[\"Anzahl\"].str.contains(\".\", regex=False)]"
   ]
  },
  {
   "cell_type": "code",
   "execution_count": null,
   "id": "hfAVhC4hK1kd",
   "metadata": {
    "colab": {
     "base_uri": "https://localhost:8080/",
     "height": 219
    },
    "id": "hfAVhC4hK1kd",
    "outputId": "b7fc8a8f-73c7-413d-87d2-9a8f9889f64b"
   },
   "outputs": [],
   "source": [
    "dog_types_2024[\"Anzahl\"] = dog_types_2024[\"Anzahl\"].str.replace('.','', regex=False).astype(int)\n",
    "print(dog_types_2024.dtypes) # we could also change dtype for 'Dog Breed' to 'category', but 3500 categories are a bit much. We leave it for now\n",
    "dog_types_2024.head(2)"
   ]
  },
  {
   "cell_type": "markdown",
   "id": "6gGBC4cuKEXn",
   "metadata": {
    "id": "6gGBC4cuKEXn"
   },
   "source": [
    "Check if some Dog Breeds have duplicates per district --> looks good."
   ]
  },
  {
   "cell_type": "code",
   "execution_count": null,
   "id": "_mhXva3xLtnm",
   "metadata": {
    "colab": {
     "base_uri": "https://localhost:8080/"
    },
    "id": "_mhXva3xLtnm",
    "outputId": "86ab4548-0ae4-4467-828b-67becf533b67"
   },
   "outputs": [],
   "source": [
    "dog_types_2024.duplicated(subset=['Dog Breed', 'Postal_CODE']).any()"
   ]
  },
  {
   "cell_type": "markdown",
   "id": "wA1JypRoMm_R",
   "metadata": {
    "id": "wA1JypRoMm_R"
   },
   "source": [
    "Check if there are unknown Dog Breeds:\n",
    "  * There appear to be in total 50 entries in the dataset with at least partly unknown Dog Breeds.\n",
    "  * There are in total 8200 dogs with an at least partly uknown dog breed.\n",
    "  * The dataset has only 6 unique values in the 'Dog Breed'-column that contain an unknown dog breed.\n",
    "  * They are kept for the moment."
   ]
  },
  {
   "cell_type": "code",
   "execution_count": null,
   "id": "efZTyQAPMra8",
   "metadata": {
    "colab": {
     "base_uri": "https://localhost:8080/"
    },
    "id": "efZTyQAPMra8",
    "outputId": "d0033e84-e6c2-404f-f750-e1bd7e8bdc58"
   },
   "outputs": [],
   "source": [
    "def check_for_unknown_dog_breeds(df: pd.DataFrame):\n",
    "    bool_unknown = df['Dog Breed'].str.contains('Unbekannt', case=False)\n",
    "    print(\"Total number of entries with unknown dog breed:\", bool_unknown.sum())\n",
    "    print(\"Total number of dogs with at least partly unknown dog breed:\", df[bool_unknown][\"Anzahl\"].sum())\n",
    "    tmp_array = df[bool_unknown]['Dog Breed'].unique()\n",
    "    print(\"Number of unknown dog breeds:\", len(tmp_array))\n",
    "    print(\"Unknown dog breeds:\", tmp_array)\n",
    "\n",
    "check_for_unknown_dog_breeds(dog_types_2024)"
   ]
  },
  {
   "cell_type": "code",
   "execution_count": null,
   "id": "k7MhWV0sQEf2",
   "metadata": {
    "colab": {
     "base_uri": "https://localhost:8080/",
     "height": 206
    },
    "id": "k7MhWV0sQEf2",
    "outputId": "25354a4c-fa8f-47cf-bb60-23eb3ccf77ce"
   },
   "outputs": [],
   "source": [
    "dog_types_2024.head()"
   ]
  },
  {
   "cell_type": "markdown",
   "id": "sN1aYp3MS4E1",
   "metadata": {
    "id": "sN1aYp3MS4E1"
   },
   "source": [
    "We could also drop the postal_code column, since it basically provides the same data as the district_code column:"
   ]
  },
  {
   "cell_type": "code",
   "execution_count": null,
   "id": "422cb121",
   "metadata": {},
   "outputs": [],
   "source": [
    "(dog_types_2024[\"DISTRICT_CODE\"].astype(str).str[1:3] == dog_types_2024[\"Postal_CODE\"].astype(str).str[1:3]).unique() # compare 2-digit district code"
   ]
  },
  {
   "cell_type": "markdown",
   "id": "olBy7Wpa9HEn",
   "metadata": {
    "id": "olBy7Wpa9HEn"
   },
   "source": [
    "### Dataset 3 (Hunderassen Wien)\n",
    "Number of registered dogs in Vienna per district and dog breed in the years 2012 to 2017. \n",
    "\n",
    "The layout of the dataset is basically the same as the one before, we only have data for multiple years.\n",
    "\n",
    "  * NUTS1: AT1\n",
    "  * NUTS2: AT13\n",
    "  * NUTS3: AT113\n",
    "  * DISTRICT_CODE: Bezirke, Format 9BB00\n",
    "  * SUB_DISTRICT_CODE: Zählbezirk, leer\n",
    "  * Postal_CODE: Postleitzahl, Format 1BB0\n",
    "  * Dog Breed: Hunderasse\n",
    "  * Anzahl: Anzahl der jeweiligen Hunderasse\n",
    "  * Ref_Date: Jahr\n",
    "\n",
    "Source: https://www.data.gv.at/katalog/dataset/31f526f5-2cf2-49f8-a63d-0c63a0f87a3e\n",
    "\n",
    "#### Obtain"
   ]
  },
  {
   "cell_type": "code",
   "execution_count": null,
   "id": "Z7IybtAVr_xa",
   "metadata": {
    "colab": {
     "base_uri": "https://localhost:8080/",
     "height": 276
    },
    "id": "Z7IybtAVr_xa",
    "outputId": "9377503e-bdf4-407b-ac2d-d5b28ba3a252"
   },
   "outputs": [],
   "source": [
    "# Import dataset 3\n",
    "dog_types_2012 = pd.read_csv(\"hunde-vie.csv\", sep=';', encoding='latin-1', skiprows=1, dtype={\"Anzahl\": \"object\"})\n",
    "\n",
    "print(\"Dataframe shape: \", dog_types_2012.shape)\n",
    "dog_types_2012.head(5)"
   ]
  },
  {
   "cell_type": "markdown",
   "id": "BKBsLUD09YSo",
   "metadata": {
    "id": "BKBsLUD09YSo"
   },
   "source": [
    "* The separator is ';'\n",
    "* The encoding is 'latin-1'.\n",
    "* The shape is (33793, 9).\n",
    "* Format is long:\n",
    "  * dog breeds can appear multiple times in breed-column. This is the case if at least two dogs of a breed are registered in different districts or in different years. If there is no dog of a specific breed registered in a distric, it is not listed in the dataset for this district.\n",
    "  * Every district, ref_date and breed combination has a single count value\n",
    "* We import the 'Anzahl'-column as objects and process them the same way as in the previous dataset.\n",
    "\n"
   ]
  },
  {
   "cell_type": "markdown",
   "id": "_fynsjn1VPj7",
   "metadata": {
    "id": "_fynsjn1VPj7"
   },
   "source": [
    "#### Scrub\n",
    "\n",
    "Repeat steps as with dataframe 2, since they have the same format."
   ]
  },
  {
   "cell_type": "code",
   "execution_count": null,
   "id": "06ddb564",
   "metadata": {},
   "outputs": [],
   "source": [
    "# check columns and their missing data ratio => no missing data\n",
    "((dog_types_2012.isnull().sum() / len(dog_types_2012)) * 100).sort_values(ascending=False)"
   ]
  },
  {
   "cell_type": "markdown",
   "id": "18884731",
   "metadata": {},
   "source": [
    "Looks like some columns only have 1 unique value => NUTS1-3 and SUB_DISTRICT_CODE to be exact. Also, no district is missing, which is good. We have 6 different years in the dataset:"
   ]
  },
  {
   "cell_type": "code",
   "execution_count": null,
   "id": "18f633b2",
   "metadata": {},
   "outputs": [],
   "source": [
    "dog_types_2012.nunique()"
   ]
  },
  {
   "cell_type": "markdown",
   "id": "3fabd2ed-a34b-4fde-95af-dc5991e7732a",
   "metadata": {},
   "source": [
    "Column Ref_Date contains more entries than above, lets see which years are included: 2012 to 2017"
   ]
  },
  {
   "cell_type": "code",
   "execution_count": null,
   "id": "814bb703-4a26-4e55-8fb2-2aad5fd033eb",
   "metadata": {},
   "outputs": [],
   "source": [
    "dog_types_2012['Ref_Date'].value_counts()"
   ]
  },
  {
   "cell_type": "code",
   "execution_count": null,
   "id": "407d4c02",
   "metadata": {},
   "outputs": [],
   "source": [
    "print(dog_types_2012.groupby(\"Ref_Date\")[\"DISTRICT_CODE\"].nunique()) # no districts missing in each year\n",
    "print(dog_types_2012.groupby(\"Ref_Date\")[\"Postal_CODE\"].nunique())"
   ]
  },
  {
   "cell_type": "code",
   "execution_count": null,
   "id": "c9bee236",
   "metadata": {},
   "outputs": [],
   "source": [
    "dog_types_2012.dtypes.to_frame().T"
   ]
  },
  {
   "cell_type": "markdown",
   "id": "1a7f3a39",
   "metadata": {},
   "source": [
    "'Anzahl' can be converted to integer this time without any additional steps:"
   ]
  },
  {
   "cell_type": "code",
   "execution_count": null,
   "id": "f83bb30d",
   "metadata": {},
   "outputs": [],
   "source": [
    "print(dog_types_2012[dog_types_2012[\"Anzahl\"].str.contains(r\"[\\.\\,]\", regex=True)]) # no entry with '.' or ','\n",
    "dog_types_2012[\"Anzahl\"] = dog_types_2012[\"Anzahl\"].astype(int)"
   ]
  },
  {
   "cell_type": "markdown",
   "id": "g8AKqKFpjIsM",
   "metadata": {
    "id": "g8AKqKFpjIsM"
   },
   "source": [
    "Change Ref_Date from int64 to date (important: format is now different to before: yyyy**dd**mm, not yyyymm**dd**):"
   ]
  },
  {
   "cell_type": "code",
   "execution_count": null,
   "id": "ov71siqvZqZR",
   "metadata": {
    "colab": {
     "base_uri": "https://localhost:8080/"
    },
    "id": "ov71siqvZqZR",
    "outputId": "e345e9d7-5ff0-403f-8032-9989a62c1b29"
   },
   "outputs": [],
   "source": [
    "dog_types_2012 = dog_types_2012.drop(['NUTS1', 'NUTS2', 'NUTS3', 'SUB_DISTRICT_CODE'], axis=1)\n",
    "dog_types_2012['Ref_Date'] = pd.to_datetime(dog_types_2012['Ref_Date'].astype(str), format='%Y%d%m') # convert int to real datetime\n",
    "print(dog_types_2012.dtypes.to_frame().T)"
   ]
  },
  {
   "cell_type": "markdown",
   "id": "SFdnZM0ZZ3Kt",
   "metadata": {
    "id": "SFdnZM0ZZ3Kt"
   },
   "source": [
    "Check for duplicates and unkown dog breeds --> has only the unknown dog breed 'Unbekannt' and no duplicates too.\n",
    "* Unkown can stay for now, even though their number is very high with 98.707 dogs (even if we consider that the dataset contains multiple years of data).\n",
    "\n"
   ]
  },
  {
   "cell_type": "code",
   "execution_count": null,
   "id": "fc4745b1",
   "metadata": {},
   "outputs": [],
   "source": [
    "dog_types_2012.duplicated(subset=['Dog Breed', 'Postal_CODE', 'Ref_Date']).any()"
   ]
  },
  {
   "cell_type": "code",
   "execution_count": null,
   "id": "GKd5YQOrVOIv",
   "metadata": {
    "colab": {
     "base_uri": "https://localhost:8080/"
    },
    "id": "GKd5YQOrVOIv",
    "outputId": "4d53a1a4-6a00-4360-a77b-79ecca8fccdd"
   },
   "outputs": [],
   "source": [
    "check_for_unknown_dog_breeds(dog_types_2012)"
   ]
  },
  {
   "cell_type": "markdown",
   "id": "MeNL89tTmUnb",
   "metadata": {
    "id": "MeNL89tTmUnb"
   },
   "source": [
    "### Merging Dataset 2 and 3 as they contain the same info for different years"
   ]
  },
  {
   "cell_type": "code",
   "execution_count": null,
   "id": "ZIagR3NNdPEZ",
   "metadata": {
    "colab": {
     "base_uri": "https://localhost:8080/",
     "height": 421
    },
    "id": "ZIagR3NNdPEZ",
    "outputId": "2219585f-18a8-4db2-bae5-72ddbd8d31d4"
   },
   "outputs": [],
   "source": [
    "print(dog_types_2024.dtypes.to_frame().T)\n",
    "print(dog_types_2012.dtypes.to_frame().T)"
   ]
  },
  {
   "cell_type": "code",
   "execution_count": null,
   "id": "FyBenE93erHj",
   "metadata": {
    "id": "FyBenE93erHj"
   },
   "outputs": [],
   "source": [
    "combined_dog_types = pd.concat([dog_types_2012, dog_types_2024]) # dataframes have same columns => concat\n",
    "print(\"Shape:\", combined_dog_types.shape)"
   ]
  },
  {
   "cell_type": "code",
   "execution_count": null,
   "id": "oUbGYC1hZnCy",
   "metadata": {
    "colab": {
     "base_uri": "https://localhost:8080/",
     "height": 245
    },
    "id": "oUbGYC1hZnCy",
    "outputId": "ea9ce383-27c4-41d2-fc81-b877d53aaa1d"
   },
   "outputs": [],
   "source": [
    "combined_dog_types_by_year_and_district = combined_dog_types.pivot_table(index=['Ref_Date', 'Postal_CODE'], columns='Dog Breed', values='Anzahl', fill_value=0).sort_values(by='Ref_Date', ascending=False)\n",
    "combined_dog_types_by_year_and_district.head(2)"
   ]
  },
  {
   "cell_type": "markdown",
   "id": "abbec008-d77f-4231-82dc-07badc957d84",
   "metadata": {},
   "source": [
    "Sanity Check: \n",
    "\n",
    "Values are the same (apart from 0) --> looks good. "
   ]
  },
  {
   "cell_type": "code",
   "execution_count": null,
   "id": "2f2dac57-7a61-419b-8f6d-b68ba824a1ad",
   "metadata": {},
   "outputs": [],
   "source": [
    "unique_values = []\n",
    "unique_values_single = []\n",
    "for col in combined_dog_types_by_year_and_district.columns:\n",
    "    unique_values.extend(combined_dog_types_by_year_and_district[col].unique())\n",
    "\n",
    "unique_values_single.extend(dog_types_2012['Anzahl'].unique())\n",
    "unique_values_single.extend(dog_types_2024['Anzahl'].unique())\n",
    "unique_values_single = set(unique_values_single)\n",
    "unique_values = set(unique_values)\n",
    "differences = unique_values.symmetric_difference(unique_values_single)\n",
    "print(differences)"
   ]
  },
  {
   "cell_type": "markdown",
   "id": "b041e827-fd81-4eb8-95d3-9e6ae1c77ca7",
   "metadata": {
    "id": "b041e827-fd81-4eb8-95d3-9e6ae1c77ca7"
   },
   "source": [
    "## E2 - Exploratory data analysis (EDA)\n",
    "Use the clean dataset and understand and explore the relationships in the data (numerical, visual, statistical). This includes at least but is not limited to:\n",
    "- A comprehensive textual description of meaning for relevant fields in the dataset\n",
    "- Statistical/numerical descriptions and visualization techniques we learned in the course inluding correlations, distributions and groupings of variing degrees.\n",
    "- Checks for data quality, e. g., completeness, plausibility, outliers\n",
    "- Handling any identified problems with the data\n",
    "- If necessary, use additional data wrangling in line with your EDA and only keep what's necessary for the following steps of your analysis with appropriate data granularity and form (\"tidy data\")\n",
    "\n",
    "Don't:\n",
    "- test/prove hypotheses here. EDA should only motivate hypotheses.\n",
    "\n",
    "Advanced/bonus:\n",
    "- Depending on your hypothesis you may want to join external data (e.g., merge external highest education level to existing vaccination data) for additional insights.\n",
    "\n",
    "Explain all steps taken and your thinking why you deem them necessary."
   ]
  },
  {
   "cell_type": "markdown",
   "id": "707747a81a54e126",
   "metadata": {},
   "source": [
    "### Descriptive Statistics\n"
   ]
  },
  {
   "cell_type": "markdown",
   "id": "1e874fcf-7af6-426f-b497-7615e23c5720",
   "metadata": {},
   "source": [
    "No data is missing as seen previously during the data scrubbing. The fields of every dataset is explained at the beginning of each scrubbing. "
   ]
  },
  {
   "cell_type": "code",
   "execution_count": null,
   "id": "864b5a7f310bb06c",
   "metadata": {},
   "outputs": [],
   "source": [
    "dogs_2002.describe()"
   ]
  },
  {
   "cell_type": "code",
   "execution_count": null,
   "id": "9276a03a44e1b978",
   "metadata": {},
   "outputs": [],
   "source": [
    "combined_dog_types_by_year_and_district.describe()"
   ]
  },
  {
   "cell_type": "markdown",
   "id": "4a6760f8fb1a24ad",
   "metadata": {},
   "source": [
    "### Visual EDA"
   ]
  },
  {
   "cell_type": "markdown",
   "id": "5215f224",
   "metadata": {},
   "source": [
    "#### Box Plots"
   ]
  },
  {
   "cell_type": "code",
   "execution_count": null,
   "id": "763c2354",
   "metadata": {},
   "outputs": [],
   "source": [
    "df_dogs_2002_boxplots = dogs_2002[(dogs_2002[\"Postal_CODE\"] != \"1000\")].sort_values(by=[\"REF_YEAR\", \"Postal_CODE\"], ascending=[True, True]) # sort for year first, so we can correctly append the isOutlier column\n",
    "array_is_outlier = np.array([], dtype=bool)\n",
    "whis_ratio = 1.5\n",
    "for year in range(df_dogs_2002_boxplots[\"REF_YEAR\"].min(), df_dogs_2002_boxplots[\"REF_YEAR\"].max() + 1): # using loop across years to calculate quartiles only once per year\n",
    "    tmp_filtered_df = df_dogs_2002_boxplots[df_dogs_2002_boxplots[\"REF_YEAR\"] == year] # save filtered df because we need it multiple times\n",
    "    first_quartile, median, third_quartile = tmp_filtered_df[\"DOG_VALUE\"].quantile([0.25, 0.5, 0.75])\n",
    "    len_whisk = (third_quartile - first_quartile) * whis_ratio\n",
    "    upper_whisk_limit = third_quartile + len_whisk\n",
    "    lower_whisk_limit = first_quartile - len_whisk\n",
    "    array_is_outlier = np.append(array_is_outlier, \n",
    "                                 np.where( (tmp_filtered_df[\"DOG_VALUE\"] > upper_whisk_limit) | (tmp_filtered_df[\"DOG_VALUE\"] < lower_whisk_limit), # if outlier, set True\n",
    "                                          True, False))\n",
    "df_dogs_2002_boxplots[\"Outlier\"] = array_is_outlier\n",
    "\n",
    "palette = sns.color_palette(\"Set2\")[0:2] # get two colors from a sns palette\n",
    "g = sns.boxplot(df_dogs_2002_boxplots, y=\"DOG_VALUE\", x='REF_YEAR', width=.5, whis = whis_ratio, legend=False)\n",
    "g = sns.swarmplot(df_dogs_2002_boxplots, y=\"DOG_VALUE\", x='REF_YEAR', size=3.25, hue='Outlier', palette=palette, legend=False)\n",
    "outlier_districts = df_dogs_2002_boxplots[df_dogs_2002_boxplots[\"Outlier\"]][\"Postal_CODE\"].unique()\n",
    "plt.legend(title=None, labels=[f\"Outlier districts: {', '.join(outlier_districts)}\"], handles=[Line2D([0],[0], marker='o', color='w', label='Scatter', markerfacecolor=palette[1], markersize=7)])\n",
    "sns.despine()    # remove the top and right line in graph\n",
    "g.figure.set_size_inches(15,6)\n",
    "g.set(xlabel=\"Year\", ylabel=\"Absolute number of dogs\")\n",
    "g.set_title(\"Absolute number of dogs in Vienna per year\", loc=\"left\", weight='bold', fontsize=18)\n",
    "x_location = g.axes.get_xticklabels()[-1].get_position()[0]\n",
    "for district in outlier_districts:\n",
    "    y_location = df_dogs_2002_boxplots[(df_dogs_2002_boxplots[\"REF_YEAR\"]==2023) & (df_dogs_2002_boxplots[\"Postal_CODE\"]==district)][\"DOG_VALUE\"].values[0] + 150\n",
    "    plt.annotate(text=district, xy=(x_location, y_location))\n",
    "plt.show()"
   ]
  },
  {
   "cell_type": "markdown",
   "id": "19c01921-a67b-4af4-a74e-9c0f0b81d93f",
   "metadata": {},
   "source": [
    "Two districts have a signifcant higher number of dogs: 1210 and 1220. This is quite reasonable because they are very big districts."
   ]
  },
  {
   "cell_type": "markdown",
   "id": "d67258d0",
   "metadata": {},
   "source": [
    "#### Bar Plots"
   ]
  },
  {
   "cell_type": "code",
   "execution_count": null,
   "id": "f48127df",
   "metadata": {},
   "outputs": [],
   "source": [
    "# Plot: Absolute number of dogs of the top 30 breeds (across all districts in 2024)\n",
    "sum_dog_types_2024 = pd.DataFrame(dog_types_2024.groupby(\"Dog Breed\")[\"Anzahl\"].sum())\n",
    "top30_sum_dog_types_2024 = sum_dog_types_2024.sort_values(by=\"Anzahl\", ascending=False).head(30).reset_index()\n",
    "bool_unbekannt_top30_2024 = top30_sum_dog_types_2024[\"Dog Breed\"].str.contains(\"Unbekannt\", case=False)\n",
    "\n",
    "fig, ax = plt.subplots(figsize=(10,7))\n",
    "sns.barplot(top30_sum_dog_types_2024, x=\"Anzahl\", y=\"Dog Breed\", color=\"blue\", ax=ax)\n",
    "sns.despine(ax=ax, trim=True)\n",
    "for i in np.arange(len(top30_sum_dog_types_2024))[bool_unbekannt_top30_2024]:\n",
    "    ax.patches[i].set_color('orange')\n",
    "ax.set_title(\"Absolute number of dogs of the top 30 breeds (across all districts in 2024)\\n[Unknown marked in orange]\", loc=\"left\")\n",
    "ax.grid(axis=\"x\")"
   ]
  },
  {
   "cell_type": "markdown",
   "id": "739ef52b-057f-46ec-82de-13aa5d18138b",
   "metadata": {},
   "source": [
    "A lot of dog breeds are unknown. Depending on the hyptohesis, we might have to get rid of them."
   ]
  },
  {
   "cell_type": "markdown",
   "id": "e2487a57",
   "metadata": {},
   "source": [
    "**Barplot motivates Hypothesis 3**: Small dogs like Chihuahuas, Malteser, French Bulldog are very popular. Does this correlate with other factors like the green space per district?"
   ]
  },
  {
   "cell_type": "code",
   "execution_count": null,
   "id": "36da04cc",
   "metadata": {},
   "outputs": [],
   "source": [
    "# Barplot: Absolute number of dogs across all districts in Vienna per year (dogs_2002)\n",
    "fig = px.bar(dogs_2002[dogs_2002[\"Postal_CODE\"] != \"1000\"], x=\"REF_YEAR\", y=\"DOG_VALUE\", color=\"Postal_CODE\", title=\"Absolute number of dogs across all districts in Vienna per year (2002-2023)\",\n",
    "             labels={\"REF_YEAR\": \"year\",\"DOG_VALUE\": \"Absolute number of dogs\",\"Postal_CODE\": \"postal code\"}\n",
    "            )\n",
    "fig.update_xaxes(dtick=1)\n",
    "fig.show()"
   ]
  },
  {
   "cell_type": "markdown",
   "id": "f7996a77-44db-4090-8ded-a24d6b1c1192",
   "metadata": {},
   "source": [
    "Here, we can again take a deeper look at the distribution per district. It seems that the number of dogs did rise every year until 2012. After that there was not much movement."
   ]
  },
  {
   "cell_type": "markdown",
   "id": "28fd21e97343ec53",
   "metadata": {},
   "source": [
    "#### Geo Plots"
   ]
  },
  {
   "cell_type": "code",
   "execution_count": null,
   "id": "73cfc26f",
   "metadata": {},
   "outputs": [],
   "source": [
    "# preprocessing for geo-data plots\n",
    "df_beznr_district_mapping = pd.read_csv(\"beznr-district-mapping.csv\", sep=',', dtype={\"BEZNR\": object}) # additional mapping between beznr and district name because geojson contains only name of district\n",
    "df_beznr_district_mapping.head(2)"
   ]
  },
  {
   "cell_type": "code",
   "execution_count": null,
   "id": "751cdf69",
   "metadata": {},
   "outputs": [],
   "source": [
    "# plot: total number of dogs per district and year\n",
    "df_years_district = pd.DataFrame(combined_dog_types.groupby([\"Ref_Date\", \"Postal_CODE\"])[\"Anzahl\"].sum().reset_index())\n",
    "df_years_district[\"BEZNR\"] = df_years_district[\"Postal_CODE\"].astype(str).str[1:3].astype(\"int32\").astype(str)\n",
    "df_years_district[\"year\"] = df_years_district[\"Ref_Date\"].dt.strftime(\"%Y\").astype(\"int32\")\n",
    "df_years_district = df_years_district.merge(df_beznr_district_mapping, on=\"BEZNR\", how=\"left\")\n",
    "\n",
    "min_value = df_years_district[\"Anzahl\"].min()  # set min & max values, so scale stays the same throughout time\n",
    "max_value = df_years_district[\"Anzahl\"].max()\n",
    "\n",
    "with open('vienna_.geojson', 'r', encoding=\"utf8\") as file:\n",
    "    geo_json = json.load(file)\n",
    "fig = px.choropleth(df_years_district,\n",
    "                    geojson=geo_json,\n",
    "                    color=\"Anzahl\",\n",
    "                    animation_frame='year',\n",
    "                    locations=\"District_Name\",\n",
    "                    featureidkey=\"properties.name\",\n",
    "                    projection=\"mercator\",\n",
    "                    color_continuous_scale=\"RdYlBu\",  # small changes are better seen with this scale\n",
    "                    range_color=[min_value, max_value],\n",
    "                    title=\"Total number of dogs per district and year\"\n",
    "                   )\n",
    "fig.update_geos(fitbounds=\"locations\", visible=False)\n",
    "fig.update_layout(height=500,width=500)\n",
    "fig.show()"
   ]
  },
  {
   "cell_type": "markdown",
   "id": "c65c68c9-906e-4279-899f-3583685082bf",
   "metadata": {},
   "source": [
    "Using the combined dataset, we can also see that the relative change between the districts does not change that much over time becase the colors are basically the same for each district."
   ]
  },
  {
   "cell_type": "code",
   "execution_count": null,
   "id": "69d85c49",
   "metadata": {},
   "outputs": [],
   "source": [
    "# plot: log scale - absolute number of dogs since 2002\n",
    "geo_dogs_2002 = dogs_2002.copy()\n",
    "geo_dogs_2002[\"BEZNR\"] = geo_dogs_2002[\"DISTRICT_CODE\"].astype(str).str[1:3].astype(\"int32\").astype(str)\n",
    "geo_dogs_2002 = geo_dogs_2002.merge(df_beznr_district_mapping, on=\"BEZNR\", how=\"left\")\n",
    "\n",
    "min_value = geo_dogs_2002[\"DOG_VALUE\"].min()\n",
    "max_value = geo_dogs_2002[\"DOG_VALUE\"].max()\n",
    "\n",
    "fig = px.choropleth(geo_dogs_2002,\n",
    "                    geojson=geo_json,\n",
    "                    color=np.log2(geo_dogs_2002[\"DOG_VALUE\"]), # using log scaling\n",
    "                    animation_frame='REF_YEAR',\n",
    "                    locations=\"District_Name\",\n",
    "                    featureidkey=\"properties.name\",\n",
    "                    projection=\"mercator\",\n",
    "                    color_continuous_scale=\"deep\",\n",
    "                    range_color=[np.log2(min_value), np.log2(max_value)],\n",
    "                    title=\"Log2 of absolute number of dogs in Vienna since 2002\"\n",
    "                   ) \n",
    "fig.update_geos(fitbounds=\"locations\", visible=False)\n",
    "fig.update_layout(height=500,width=500)\n",
    "fig.update_layout(coloraxis_colorbar=dict(\n",
    "    title=\"Absolute number [log2]\"#,\n",
    "))\n",
    "fig.show()"
   ]
  },
  {
   "cell_type": "markdown",
   "id": "aadbf3f2-801c-480d-b1c7-41493818f362",
   "metadata": {},
   "source": [
    "Using a logarithmic scale does not really result in any additional information in our case."
   ]
  },
  {
   "cell_type": "markdown",
   "id": "24f413c3-912c-4e38-aa31-fb3b925edf17",
   "metadata": {},
   "source": [
    "#### Cat Plots\n",
    "Distribution of dog breeds over districts --> how many different dog breeds are there per district?"
   ]
  },
  {
   "cell_type": "code",
   "execution_count": null,
   "id": "42e95deb-b273-4bbb-941b-555dc5dbb92a",
   "metadata": {},
   "outputs": [],
   "source": [
    "df_count_breeds_per_district = (combined_dog_types_by_year_and_district > 0).astype(int).sum(axis=1)\n",
    "df_count_breeds_per_district = df_count_breeds_per_district.reset_index().sort_values(by=['Ref_Date'])\n",
    "df_count_breeds_per_district.columns = ['Ref_Date', 'Postal_CODE', 'Count']\n",
    "df_count_breeds_per_district"
   ]
  },
  {
   "cell_type": "code",
   "execution_count": null,
   "id": "42c6e92b-717a-4cce-91cc-541e309b49af",
   "metadata": {},
   "outputs": [],
   "source": [
    "df_count_breeds_per_district['Ref_Date'] = df_count_breeds_per_district['Ref_Date'].dt.date\n",
    "\n",
    "# Plot the data in a facet grid\n",
    "plt.figure(figsize=(10, 6))\n",
    "sns.set_style('whitegrid')\n",
    "\n",
    "# used catplot for categorical data \n",
    "g = sns.catplot(\n",
    "    x='Postal_CODE', \n",
    "    y='Count', \n",
    "    col='Ref_Date', \n",
    "    col_wrap=3, \n",
    "    data=df_count_breeds_per_district, \n",
    "    kind='bar'\n",
    ")\n",
    "for ax in g.axes.flat:\n",
    "    ax.tick_params(axis='x', rotation=45)\n",
    "plt.tight_layout()\n",
    "plt.show();"
   ]
  },
  {
   "cell_type": "markdown",
   "id": "bf222027-4ae2-4862-af37-29d6c13d870e",
   "metadata": {},
   "source": [
    "Observation: The diversity of dogs in Vienna increased noticeably between 2017 and 2024."
   ]
  },
  {
   "cell_type": "markdown",
   "id": "277ea477-7d0c-407b-970e-212d64b5ec94",
   "metadata": {
    "id": "277ea477-7d0c-407b-970e-212d64b5ec94"
   },
   "source": [
    "## E3 - Formulate hypotheses\n",
    "\n",
    "*Note: Read this section entirely and understand it - every group member.*\n",
    "\n",
    "A hypothesis is an idea or explanation for something that is based on known facts but has not yet been proved. A hypothesis is a compact, concise statement, such as: \"Individuals with higher income have (on average) more offspring.\", that will be answered based on facts (the data). https://gradcoach.com/what-is-a-research-hypothesis-or-scientific-hypothesis/\n",
    "\n",
    "Formulate *N* non-trivial hypotheses, 1 per group member, and regard the following criteria:\n",
    "- State the hypothesis explicitly in concise language.\n",
    "- The hypothesis must be **motivated** by either **EDA results** or **literature** (citation in the report needed).\n",
    "- The hypothesis must refer to **endpoints** that are **testable**. Specifically, the endpoint must be derived from the data.\n",
    "- Think of real-life use cases/consequences of your results (textual description).\n",
    "- For each hypothesis explain all executed steps.\n",
    "- In case of extreme or implausible results check the validity of your data.\n",
    "- For each hypothesis export the artifacts (figures, tables, etc.) required for the report.\n",
    "- If you decide to use a statistical test, use it properly. In particular, check the validity and comparability of the samples.\n",
    "\n",
    "Do not:\n",
    "- State nebulous, vague hypotheses. These don't contain endpoints and are unclear to test (i.e., answer).\n",
    "- Use post-hoc hypotheses. Portraying an empirically inspired **post hoc hypothesis as a priori** violates the **falsification principle** crucial for hypothesis-driven (that is, confirmatory) empirical research. Falsification is severe scientific fraud.\n",
    "- State trivial hypotheses (e.g., hypthesis 2: \"Not Hypothesis 1\").\n",
    "- Answer based on \"common knowledge\".\n",
    "- Try to **produce positively tested hypotheses**. If a well motivated hypothesis is negative, this is an important finding (see Simpson's Paradox). The value of a tested hypothesis lies in the information or learning it provides.\n",
    "\n",
    "Example: The homework with Simpson's Paradox. The pooled overall comparison between the genders would be the EDA motivating the hypothesis: \"At UC Berkeley the by-department admissions rate for females is lower than for males.\" It should be tested using samples of department admission rates for the 2 **groups** male and female. No steps of the test should be done in EDA (or a priory to stating the hypothesis). The groups should be compared graphically, e.g., via a stripplot overlayed with a boxplot. The figure should be labelled properly and exported for the report. A (paired) t-test **may** be used (it's optional) to test this hypothesis statistically. For different data (e.g., time series) different approaches may be required. You don't have to use statistical tests, in particular if you don't know what they are doing.\n"
   ]
  },
  {
   "cell_type": "markdown",
   "id": "09613f9f-d3ff-4b8d-b975-88437a72815c",
   "metadata": {
    "id": "09613f9f-d3ff-4b8d-b975-88437a72815c"
   },
   "source": [
    "---\n",
    "\n",
    "### E3-H1: \"The prevalence of specific dog breeds in Vienna is strongly influenced by real estate prices.\"\n",
    "\n",
    "Rationale: Higher real estate prices may attract certain dog breeds, indicating a potential link between the types of dogs found in high-income areas and local housing costs.\n",
    "\n",
    "Data Needed: \n",
    "- Dog breed data (`hunde-vie.csv` / `hunde-wien.csv`).\n",
    "- Real estate prices dataset.\n",
    "\n",
    "Author: Carlos Eduardo Tichy\n",
    "\n",
    "---\n",
    "\n",
    "### Supporting Evidence and Insights\n",
    "\n",
    "While there is no direct study linking **dog breed prevalence** to **real estate prices** specifically in Vienna, several sources suggest that **housing conditions and socio-economic factors** do influence dog breed choices across Europe.\n",
    "\n",
    "1. **Housing Conditions**: A study noted that housing conditions, such as **living in an apartment or house with a garden**, strongly influence the types of dogs people own. In urban areas with high real estate prices, smaller breeds, like **French Bulldogs or Chihuahuas**, are more common due to space constraints. In contrast, **larger breeds**, such as Golden Retrievers or German Shepherds, tend to be more prevalent in suburban or rural areas where properties are larger and more affordable  .\n",
    "\n",
    "2. **Socio-Demographic Factors**: Research also highlights that wealthier households or those in areas with **higher disposable income** are more likely to own certain breeds that are more expensive to maintain, such as **purebred dogs**. Similarly, a rise in **single-person households** and more flexible work patterns (like remote work) have made dog ownership more common in urban areas, further influencing breed choices based on lifestyle  .\n",
    "\n",
    "3. **Popularity and Behavior**: Another study found that certain breeds become popular in specific socio-economic environments due to **behavioral traits** that suit urban living. For example, dogs that are **trainable, less aggressive, or more adaptable to confined spaces** are preferred in cities .\n",
    "\n",
    "These insights suggest a clear relationship between the environment (including **real estate prices**) and **dog breed selection**, even if specific studies on Vienna are yet to emerge.\n",
    "\n",
    "---\n",
    "\n",
    "**Sources**:\n",
    "\n",
    "1. [The Influence of Breed, Sex, Origin and Housing Conditions on Undesirable Behaviors in Ancient Dog Breeds](https://www.mdpi.com/2076-2615/11/5/1435)\n",
    "2. [The Rise of Dog Ownership in Europe: A Decade in Review](https://rochsociety.com/research-european-dog-ownership-2010-2022/)\n",
    "3. [Socio-demographic factors associated with pet ownership amongst adolescents from a UK birth cohort](https://bmcvetres.biomedcentral.com/articles/10.1186/s12917-019-2063-x)\n",
    "4. [Fashion vs. Function in Cultural Evolution: The Case of Dog Breed Popularity](https://journals.plos.org/plosone/article?id=10.1371/journal.pone.0074770)\n",
    "\n",
    "---"
   ]
  },
  {
   "cell_type": "code",
   "execution_count": null,
   "id": "702cdce9-5d4f-41f3-8b9e-a4363ec5d8d5",
   "metadata": {
    "id": "702cdce9-5d4f-41f3-8b9e-a4363ec5d8d5"
   },
   "outputs": [],
   "source": [
    "# !pip install odfpy   # (This line has to be uncommented if odfpy is not yet installed).\n",
    "import pandas as pd\n",
    "\n",
    "# Load the ODS file, specifying the appropriate sheet\n",
    "file_path = 'Wohnungspreise2022.ods'\n",
    "\n",
    "# Load real estate prices with external areas (skip the first 31 rows and end on row 56)\n",
    "df_with_external_area = pd.read_excel(file_path, sheet_name='Wien', skiprows=31, nrows=23, header=[0, 1])\n",
    "\n",
    "# Adjusting the Bezirke column reference using MultiIndex structure\n",
    "bezirke_column_name = ('Bezirke', 'Unnamed: 0_level_1')\n",
    "\n",
    "# Ensure the 'Bezirke' column is treated as a string\n",
    "df_with_external_area[bezirke_column_name] = df_with_external_area[bezirke_column_name].astype(str)\n",
    "\n",
    "# Extract district number and name, and create Postal_CODE\n",
    "df_with_external_area['district_number'] = df_with_external_area[bezirke_column_name].str.extract(r'Wien\\s*(\\d+)').astype(int)\n",
    "df_with_external_area['Postal_CODE'] = df_with_external_area['district_number'].apply(lambda x: f'1{x:02d}0')\n",
    "df_with_external_area['district_name'] = df_with_external_area[bezirke_column_name].str.extract(r',\\s*(.*)')\n",
    "\n",
    "# Columns to keep: only the 'Ab 1991' prices and Postal_CODE\n",
    "columns_to_keep = [\n",
    "    ('Ab 1991', 'Weniger als 55 m²'),\n",
    "    ('Ab 1991', '55 - 78 m²'),\n",
    "    ('Ab 1991', 'Mehr als  78 m²'),\n",
    "    ('Postal_CODE', '')\n",
    "]\n",
    "\n",
    "# Filter and keep only the necessary columns in df_with_external_area\n",
    "df_with_external_area_filtered = df_with_external_area[columns_to_keep].copy()\n",
    "\n",
    "# Rename and flatten the 'Postal_CODE' column in df_with_external_area\n",
    "df_with_external_area_filtered.columns = pd.MultiIndex.from_tuples(\n",
    "    [(a if a != 'Postal_CODE' else 'Postal_CODE', b if b != '' else 'Postal_CODE') for a, b in df_with_external_area_filtered.columns]\n",
    ")\n",
    "df_with_external_area_filtered.columns = df_with_external_area_filtered.columns.get_level_values(1)\n",
    "\n",
    "# Calculate the mean price per square meter for each district\n",
    "df_with_external_area_filtered['mean_price_m2'] = df_with_external_area_filtered[\n",
    "    ['Weniger als 55 m²', '55 - 78 m²', 'Mehr als  78 m²']\n",
    "].mean(axis=1).round(0).astype('int64')\n",
    "\n",
    "# Convert Postal_CODE in the real estate dataset to int64\n",
    "df_with_external_area_filtered['Postal_CODE'] = df_with_external_area_filtered['Postal_CODE'].astype('int64')\n",
    "\n",
    "# Print out the data types to ensure consistency\n",
    "print(df_with_external_area_filtered.dtypes)  # Ensure Postal_CODE is now int64\n",
    "print('\\n', dog_types_2024.dtypes)  # Check types in the dog breeds dataset"
   ]
  },
  {
   "cell_type": "code",
   "execution_count": null,
   "id": "15580d4f-234e-4ba6-92ee-4f1dd7b3dd29",
   "metadata": {},
   "outputs": [],
   "source": [
    "import numpy as np\n",
    "import pandas as pd\n",
    "from rapidfuzz import fuzz, process\n",
    "\n",
    "# Load the dog breeds height data\n",
    "breed_heights = pd.read_csv(\"breed_heights.csv\")\n",
    "breed_heights['mean_height'] = breed_heights[['Min Height', 'Max Height']].mean(axis=1)\n",
    "\n",
    "# Function to get the closest matching breed from breed_heights using fuzzy logic\n",
    "def get_closest_breed(breed_name, breed_height_df, threshold=80):\n",
    "    \"\"\"Find the closest matching breed from breed_heights using fuzzy matching.\"\"\"\n",
    "    result = process.extractOne(breed_name, breed_height_df['Dog Breed'], scorer=fuzz.ratio)\n",
    "    if result:\n",
    "        match, score, _ = result\n",
    "        if score >= threshold:\n",
    "            return breed_height_df.loc[breed_height_df['Dog Breed'] == match, 'mean_height'].values[0]\n",
    "    return np.nan\n",
    "\n",
    "# Function to handle mixed breed cases\n",
    "def get_mean_height_for_breed(breed_name, breed_height_df):\n",
    "    \"\"\"Calculate the mean height for a breed or combination of breeds.\"\"\"\n",
    "    if '/' in breed_name:  # Handle mixed breeds\n",
    "        breeds = breed_name.split('/')\n",
    "        heights = [get_closest_breed(breed.strip(), breed_height_df) for breed in breeds]\n",
    "        heights = [h for h in heights if not np.isnan(h)]  # Filter out NaN values\n",
    "        if heights:\n",
    "            return np.mean(heights)\n",
    "    else:  # Single breed case\n",
    "        return get_closest_breed(breed_name, breed_height_df)\n",
    "    return np.nan\n",
    "\n",
    "# Create a copy of the dog_types_2024 dataframe to avoid modifying the original\n",
    "dog_types_2024_copy = dog_types_2024.copy()\n",
    "\n",
    "# Apply the function to calculate mean_height for each breed in the dataset\n",
    "dog_types_2024_copy['mean_height'] = dog_types_2024_copy['Dog Breed'].apply(lambda x: get_mean_height_for_breed(x, breed_heights))\n",
    "\n",
    "# Display the first rows of Dog Breed and their corresponding mean_height\n",
    "print(dog_types_2024_copy[['Dog Breed', 'mean_height']].head())\n",
    "\n",
    "# Count the number of breeds with known mean_height (not NaN)\n",
    "known_breeds_count = dog_types_2024_copy[dog_types_2024_copy['mean_height'].notna()].shape[0]\n",
    "print(f\"Number of rows with known breeds and mean height: {known_breeds_count}\")\n",
    "\n",
    "# Display the first rows with known breeds and mean height\n",
    "known_breeds = dog_types_2024_copy[dog_types_2024_copy['mean_height'].notna()]\n",
    "print(known_breeds.head())"
   ]
  },
  {
   "cell_type": "code",
   "execution_count": null,
   "id": "c2ff2294-de18-4ae5-94c3-1464fef73ed6",
   "metadata": {},
   "outputs": [],
   "source": [
    "# Get the total number of unique dog breeds in the dataset\n",
    "total_unique_breeds = dog_types_2024_copy['Dog Breed'].nunique()\n",
    "\n",
    "# Filter the data for dog breeds where mean_height is known and count unique breeds\n",
    "unique_known_breeds = dog_types_2024_copy[dog_types_2024_copy['mean_height'].notna()]['Dog Breed'].nunique()\n",
    "\n",
    "# Calculate the ratio of identified breeds (those with known mean height) to the total unique breeds\n",
    "breed_identified_ratio = unique_known_breeds / total_unique_breeds\n",
    "\n",
    "# Display the result\n",
    "print(f\"Total unique breeds: {total_unique_breeds}\")\n",
    "print(f\"Unique breeds with known mean height: {unique_known_breeds}\")\n",
    "print(f\"Ratio of identified breeds (without duplicates) to total breeds: {breed_identified_ratio:.2f}\")"
   ]
  },
  {
   "cell_type": "code",
   "execution_count": null,
   "id": "6be9f0ee-c0b0-4a9f-a77d-05a73e371faa",
   "metadata": {},
   "outputs": [],
   "source": [
    "import pandas as pd\n",
    "import plotly.express as px\n",
    "\n",
    "# Merge dog breed data with real estate price data based on Postal_CODE\n",
    "merged_data = pd.merge(df_with_external_area_filtered[['Postal_CODE', 'mean_price_m2']], \n",
    "                       dog_types_2024_copy[['Postal_CODE', 'Dog Breed', 'Anzahl', 'mean_height']], \n",
    "                       how='left', \n",
    "                       on='Postal_CODE')\n",
    "\n",
    "# Group the data by 'mean_price_m2' and 'Postal_CODE' to get the total dog count ('Anzahl')\n",
    "price_dog_distribution = merged_data.groupby(['mean_price_m2', 'Postal_CODE']).agg({\n",
    "    'Anzahl': 'sum'  # Total number of dogs per district\n",
    "}).reset_index()\n",
    "\n",
    "# Create an interactive scatter plot with hover functionality using Plotly\n",
    "fig = px.scatter(price_dog_distribution, \n",
    "                 x='mean_price_m2', \n",
    "                 y='Anzahl', \n",
    "                 size='Anzahl',   # Dot size represents the number of dogs\n",
    "                 color='mean_price_m2', \n",
    "                 hover_name='Postal_CODE',  # Hover shows the district Postal_CODE\n",
    "                 hover_data={\n",
    "                     'Anzahl': True,  # Show the number of dogs on hover\n",
    "                     'Postal_CODE': True  # Show the district number\n",
    "                 },\n",
    "                 labels={\n",
    "                     'mean_price_m2': 'Mean Price per m² (€)', \n",
    "                     'Anzahl': 'Number of Dogs',\n",
    "                     'Postal_CODE': 'District'\n",
    "                 },\n",
    "                 title='Distribution of Dog Amount per Mean Price per m²',\n",
    "                 height=600,  # Set the height of the plot\n",
    "                 width=1200,  # Set the width of the plot\n",
    "                 size_max=50  # Adjust the max dot size for readability\n",
    "                )\n",
    "\n",
    "# Update layout for better visuals\n",
    "fig.update_layout(\n",
    "    xaxis_title=\"Mean Price per m² (€)\",  # Label for x-axis\n",
    "    yaxis_title=\"Number of Dogs\",         # Label for y-axis\n",
    "    coloraxis_colorbar=dict(title=\"Mean Price per m² (€)\"),  # Color bar label\n",
    "    hoverlabel=dict(bgcolor=\"white\", font_size=12)  # Customize hover style\n",
    ")\n",
    "\n",
    "# Show the interactive plot\n",
    "fig.show()"
   ]
  },
  {
   "cell_type": "markdown",
   "id": "8f71492f-9a3a-4988-82d9-76796e28c365",
   "metadata": {},
   "source": [
    "This plot helps evaluate the relationship between real estate prices and the number of dogs in each district, which directly tests the hypothesis about dog ownership patterns in wealthier areas.\n",
    "\n",
    "### Hypothesis:\n",
    "- **Wealthier districts** (higher prices) are expected to have **fewer dogs** due to smaller living spaces.\n",
    "\n",
    "### Key Plot Elements:\n",
    "- **X-axis (Mean Price per m²)**: Indicates district wealth.\n",
    "- **Y-axis (Number of Dogs)**: Shows total dogs in each district.\n",
    "- **Dot Size**: Represents the number of dogs (larger dots = more dogs).\n",
    "- **Color**: Reflects housing price per m².\n",
    "\n",
    "### Supporting the Hypothesis:\n",
    "- If districts with **higher prices** (right) show **fewer dogs** (lower y-axis), this supports the hypothesis.\n",
    "- **Outliers** (high prices, many dogs) could challenge the hypothesis.\n",
    "\n",
    "### Conclusion:\n",
    "- **Support**: Higher prices correlate with fewer dogs.\n",
    "- **Reject**: No clear inverse trend; wealthy areas may still have many dogs.\n",
    "---\n"
   ]
  },
  {
   "cell_type": "code",
   "execution_count": null,
   "id": "70549c6f-45e2-41da-896d-c6a1740d66f8",
   "metadata": {},
   "outputs": [],
   "source": [
    "# Group the data by 'Postal_CODE' to calculate median dog size and mean price per district\n",
    "district_data = merged_data.groupby('Postal_CODE').agg({\n",
    "    'mean_price_m2': 'mean',   # Mean price per m² for each district\n",
    "    'mean_height': 'median'    # Median dog size in the district\n",
    "}).reset_index()\n",
    "\n",
    "# Create an interactive scatter plot with hover functionality\n",
    "fig = px.scatter(district_data, \n",
    "                 x='mean_price_m2', \n",
    "                 y='mean_height', \n",
    "                 size='mean_height',       # Dot size represents the median dog size\n",
    "                 color='mean_price_m2',    # Dot color represents mean price per m²\n",
    "                 hover_name='Postal_CODE',  # Show district number on hover\n",
    "                 hover_data={\n",
    "                     'mean_height': ':.2f',  # Median dog size, rounded to 2 decimals\n",
    "                     'Postal_CODE': True     # Show district code on hover\n",
    "                 },\n",
    "                 labels={\n",
    "                     'mean_price_m2': 'Mean Price per m² (€)', \n",
    "                     'mean_height': 'Median Dog Size (cm)',\n",
    "                     'Postal_CODE': 'District'\n",
    "                 },\n",
    "                 title='Median Dog Size per District vs. Mean Price per m²',\n",
    "                 size_max=15,   # Maximum dot size for readability\n",
    "                 height=600,    # Height of the plot\n",
    "                 width=1200     # Width of the plot\n",
    "                )\n",
    "\n",
    "# Update layout for improved visuals\n",
    "fig.update_layout(\n",
    "    xaxis_title=\"Mean Price per m² (€)\",  # X-axis label\n",
    "    yaxis_title=\"Median Dog Size (cm)\",   # Y-axis label\n",
    "    coloraxis_colorbar=dict(title=\"Mean Price per m² (€)\"),  # Color bar title\n",
    "    hoverlabel=dict(bgcolor=\"white\", font_size=12)  # Customize hover label\n",
    ")\n",
    "\n",
    "# Show the interactive plot\n",
    "fig.show()\n"
   ]
  },
  {
   "cell_type": "markdown",
   "id": "9034fd93-b6a9-4c24-b02d-b2a2728abc83",
   "metadata": {},
   "source": [
    "This plot analyzes the relationship between real estate prices and the median size of dog breeds in each district. It allows us to assess the hypothesis that wealthier districts with higher real estate prices might have smaller dog breeds.\n",
    "\n",
    "### Hypothesis:\n",
    "- **Wealthier districts** (higher prices) are expected to have **smaller dog breeds** due to limited living space.\n",
    "\n",
    "### Key Plot Elements:\n",
    "- **X-axis (Mean Price per m²)**: Represents district wealth.\n",
    "- **Y-axis (Median Dog Size in cm)**: Indicates the median size of dogs in each district.\n",
    "- **Dot Size**: Represents the size of the dogs (larger dots = larger dogs).\n",
    "- **Color**: Reflects the mean price per m² in each district.\n",
    "\n",
    "### Supporting the Hypothesis:\n",
    "- If districts with **higher prices** (right) show **smaller median dog sizes** (lower y-axis and smaller dots), this supports the hypothesis.\n",
    "- **Larger dogs in wealthier districts** may contradict the assumption that wealthy areas prefer smaller dogs.\n",
    "\n",
    "### Conclusion:\n",
    "- **Support**: Higher prices correlate with smaller dogs.\n",
    "- **Reject**: Larger dogs are found in high-price districts.\n",
    "---"
   ]
  },
  {
   "cell_type": "code",
   "execution_count": null,
   "id": "a1a3bcc0-3736-4b06-a875-403d2a396d9d",
   "metadata": {},
   "outputs": [],
   "source": [
    "# Filter out rows where 'mean_height' is NaN (no breed size available)\n",
    "merged_data = merged_data[merged_data['mean_height'].notna()]\n",
    "\n",
    "# Aggregate to get the total number of dogs (Anzahl) and mean height for each breed\n",
    "breed_stats = merged_data.groupby('Dog Breed').agg({\n",
    "    'Anzahl': 'sum',           # Total number of dogs per breed\n",
    "    'mean_height': 'mean'      # Average height of each breed\n",
    "}).reset_index()\n",
    "\n",
    "# Sort breeds by Anzahl (dog count) and select the top 30 breeds\n",
    "top_breeds = breed_stats.sort_values(by='Anzahl', ascending=False).head(30)\n",
    "\n",
    "# Group by breed and district to get the number of dogs per breed in each district\n",
    "districts_per_breed = merged_data.groupby(['Dog Breed', 'Postal_CODE']).agg({\n",
    "    'Anzahl': 'sum'  # Sum of dogs per breed per district\n",
    "}).reset_index()\n",
    "\n",
    "# Get the top 5 districts per breed based on dog count\n",
    "top_5_districts_per_breed = districts_per_breed.groupby('Dog Breed').apply(\n",
    "    lambda x: x.nlargest(5, 'Anzahl')[['Dog Breed', 'Postal_CODE', 'Anzahl']]  # Explicitly select columns after groupby\n",
    ").reset_index(drop=True)\n",
    "\n",
    "# Combine top 5 districts for each breed into a single string for display\n",
    "top_5_districts_per_breed['Postal_CODE'] = top_5_districts_per_breed['Postal_CODE'].astype(str)\n",
    "district_summary = top_5_districts_per_breed.groupby('Dog Breed').agg({\n",
    "    'Postal_CODE': lambda x: ', '.join(x[:5])  # Concatenate top 5 districts into one string\n",
    "}).reset_index()\n",
    "\n",
    "# Merge the top 5 districts information into the top_breeds dataframe\n",
    "top_breeds = pd.merge(top_breeds, district_summary, on='Dog Breed')\n",
    "\n",
    "# Create an interactive horizontal bar plot with Plotly, colored by mean_height\n",
    "fig = px.bar(top_breeds, \n",
    "             x='Anzahl', \n",
    "             y='Dog Breed', \n",
    "             orientation='h',  # Horizontal bars\n",
    "             color='mean_height',  # Color by mean breed size\n",
    "             hover_name='Dog Breed', \n",
    "             hover_data={\n",
    "                 'Anzahl': True,                 # Show total number of dogs\n",
    "                 'mean_height': ':.2f',          # Show mean breed size (2 decimals)\n",
    "                 'Postal_CODE': True             # Show top 5 districts for the breed\n",
    "             },\n",
    "             labels={'Anzahl': 'Total Number of Dogs', \n",
    "                     'Dog Breed': 'Breed', \n",
    "                     'mean_height': 'Mean Size (cm)'},  # Label the color axis\n",
    "             title='Total Amount of Dogs per Breed (Top 30, Colored by Mean Size)',\n",
    "             width=1000,                        # Plot width\n",
    "             height=800,                        # Plot height\n",
    "             color_continuous_scale='Viridis')   # Color scale\n",
    "\n",
    "# Customize the plot layout\n",
    "fig.update_layout(\n",
    "    yaxis_title=\"Dog Breed\",\n",
    "    xaxis_title=\"Total Number of Dogs\",\n",
    "    hoverlabel=dict(bgcolor=\"white\", font_size=12),  # Customize hover label\n",
    "    xaxis_range=[0, top_breeds['Anzahl'].max() * 1.1],  # Add space on the x-axis\n",
    "    yaxis={'categoryorder': 'total ascending'},  # Sort breeds by total dogs in ascending order\n",
    "    coloraxis_colorbar=dict(title='Mean Size (cm)')  # Title for the color legend\n",
    ")\n",
    "\n",
    "# Show the plot\n",
    "fig.show()\n"
   ]
  },
  {
   "cell_type": "markdown",
   "id": "b97b4c61-a6ce-4e65-8a7e-53782947d5a8",
   "metadata": {},
   "source": [
    "This code provides an **intermediate step** that helps analyze the distribution of dog breeds and their sizes in different districts. It can indirectly support or reject the hypothesis that wealthier districts tend to have smaller dog breeds.\n",
    "\n",
    "### Key Insights:\n",
    "\n",
    "1. **Aggregation**:\n",
    "   - It aggregates the **total number of dogs** and **average size** of each breed, providing a broad overview of the most common dog breeds.\n",
    "   - By doing this, it identifies the **top 30 most populous breeds**, highlighting which breeds dominate across all districts.\n",
    "\n",
    "2. **District Distribution**:\n",
    "   - For each breed, it finds the **top 5 districts** where the breed is most common. This data is useful for understanding where certain breeds tend to cluster and helps in further analysis.\n",
    "\n",
    "3. **Bar Plot**:\n",
    "   - The **bar plot** visualizes the **number of dogs per breed** and color codes the bars by the **average size of each breed**. The color coding helps link the size of the breed with its prevalence.\n",
    "\n",
    "### How It Relates to the Hypothesis:\n",
    "- **District Analysis**:\n",
    "  - While this analysis doesn’t directly map dog sizes to real estate prices, it lays the foundation for understanding **which breeds** are present in each district and their respective sizes.\n",
    "  - This data can later be cross-referenced with district real estate prices to see if wealthier areas tend to have smaller breeds.\n",
    "\n",
    "### Conclusion:\n",
    "- **Intermediate Step**: This plot itself doesn't test the hypothesis but helps identify breed patterns across districts. It can later be used to correlate **breed size** and **dog counts** with **district wealth**.\n",
    "---"
   ]
  },
  {
   "cell_type": "code",
   "execution_count": null,
   "id": "92624a67-c118-4f22-905c-a4e36a1d4bae",
   "metadata": {},
   "outputs": [],
   "source": [
    "import pandas as pd\n",
    "from sklearn.cluster import KMeans\n",
    "import plotly.express as px\n",
    "from sklearn.preprocessing import StandardScaler\n",
    "\n",
    "# To avoid warning\n",
    "import os\n",
    "os.environ['OMP_NUM_THREADS'] = '1'\n",
    "\n",
    "\n",
    "# Step 1: Prepare the data\n",
    "# Group by Postal_CODE (district) to get mean price per m² and average dog size (mean_height) per district\n",
    "district_features = merged_data.groupby('Postal_CODE').agg({\n",
    "    'mean_price_m2': 'mean',   # Mean price per m² for each district\n",
    "    'mean_height': 'mean',     # Average dog height for all breeds in the district\n",
    "    'Anzahl': 'sum'            # Total number of dogs in the district\n",
    "}).reset_index()\n",
    "\n",
    "# Step 2: Normalize the data\n",
    "# We normalize the data to ensure that the features are on the same scale\n",
    "scaler = StandardScaler()\n",
    "scaled_features = scaler.fit_transform(district_features[['mean_price_m2', 'mean_height']])\n",
    "\n",
    "# Step 3: Apply K-Means Clustering\n",
    "kmeans = KMeans(n_clusters=3, random_state=42)  # We choose 3 clusters (can be modified)\n",
    "district_features['Cluster'] = kmeans.fit_predict(scaled_features)\n",
    "\n",
    "# Step 4: Visualize the clusters\n",
    "fig = px.scatter(district_features, \n",
    "                 x='mean_price_m2', \n",
    "                 y='mean_height', \n",
    "                 color='Cluster', \n",
    "                 size='Anzahl',   # Size of dots represents the number of dogs\n",
    "                 hover_name='Postal_CODE',  # Hover shows the district Postal_CODE\n",
    "                 hover_data={\n",
    "                     'mean_price_m2': ':.2f',  # Show mean price per m² on hover\n",
    "                     'mean_height': ':.2f',    # Show mean height of dogs on hover\n",
    "                     'Anzahl': True            # Show number of dogs on hover\n",
    "                 },\n",
    "                 labels={\n",
    "                     'mean_price_m2': 'Mean Price per m² (€)', \n",
    "                     'mean_height': 'Average Dog Size (cm)',\n",
    "                     'Cluster': 'Cluster'\n",
    "                 },\n",
    "                 title='Clustering of Districts Based on Wealth and Dog Size',\n",
    "                 size_max=60,  # Adjust the size of the bubbles for better visibility\n",
    "                 height=800,\n",
    "                 width=1000)\n",
    "\n",
    "# Customize the layout\n",
    "fig.update_layout(\n",
    "    xaxis_title=\"Mean Price per m² (€)\",\n",
    "    yaxis_title=\"Average Dog Size (cm)\",\n",
    "    hoverlabel=dict(font_size=12, bgcolor=\"white\"),\n",
    "    coloraxis_colorbar=dict(title=\"Cluster\")\n",
    ")\n",
    "\n",
    "# Show the plot\n",
    "fig.show()\n",
    "\n",
    "# Step 5: Analyze cluster centers (optional)\n",
    "print(\"Cluster Centers (Mean Price per m² and Mean Dog Size):\")\n",
    "print(kmeans.cluster_centers_)"
   ]
  },
  {
   "cell_type": "markdown",
   "id": "03f8fdc5-1795-446c-b72c-01826e6ae787",
   "metadata": {},
   "source": [
    "### Clustering Analysis of District Wealth and Dog Size\n",
    "\n",
    "The clustering analysis provides insights into the relationship between district wealth (mean price per m²) and dog size (mean height). The K-means clustering algorithm grouped the districts into three clusters based on these two variables.\n",
    "\n",
    "#### Clusters Explanation:\n",
    "1. **Cluster 0** (Purple/Blue Dots):\n",
    "   - **Mean price per m²**: Below average (€5k - €8k).\n",
    "   - **Average dog size**: 42-44 cm (larger dogs).\n",
    "   - This cluster represents districts with lower wealth and larger dogs, supporting the hypothesis that less wealthy districts have larger dogs.\n",
    "\n",
    "2. **Cluster 1** (Red/Pink Dots):\n",
    "   - **Mean price per m²**: Average (€6k - €8k).\n",
    "   - **Average dog size**: 44-47 cm (larger dogs).\n",
    "   - These districts are moderately wealthy but still tend to have larger dogs. This could suggest more external space available in these districts (e.g., gardens or larger homes).\n",
    "\n",
    "3. **Cluster 2** (Yellow Dot):\n",
    "   - **Mean price per m²**: Significantly higher (around €18k).\n",
    "   - **Average dog size**: 46-47 cm (smaller dogs).\n",
    "   - This cluster represents the wealthiest districts, where smaller dogs are more common. This strongly supports the hypothesis that wealthier districts tend to have smaller dog breeds.\n",
    "\n",
    "#### Conclusion:\n",
    "- **Support for the Hypothesis**: The clustering analysis supports the hypothesis that smaller dog breeds are more common in wealthier districts. Cluster 2, representing the wealthiest districts, has significantly smaller dogs compared to the less wealthy clusters.\n",
    "- **Middle Income Districts**: Cluster 1, representing middle-income districts, still shows a tendency toward larger dogs, potentially due to more external space in these areas.\n",
    "\n",
    "Overall, the trend from this clustering analysis supports the hypothesis that smaller dogs are prevalent in wealthier districts, particularly in the highest wealth bracket.\n",
    "\n",
    "---"
   ]
  },
  {
   "cell_type": "code",
   "execution_count": null,
   "id": "e8de2057-39e0-4274-aa1e-9f45b10e1a4c",
   "metadata": {},
   "outputs": [],
   "source": [
    "import pandas as pd\n",
    "from scipy.stats import pearsonr\n",
    "\n",
    "# Group the data by 'Postal_CODE' to calculate mean dog size and mean price per district\n",
    "district_data = merged_data.groupby('Postal_CODE').agg({\n",
    "    'mean_price_m2': 'mean',   # Mean price per m² for each district\n",
    "    'mean_height': 'median'    # Median dog size in the district\n",
    "}).reset_index()\n",
    "\n",
    "# Drop any rows with missing data (if any)\n",
    "district_data = district_data.dropna()\n",
    "\n",
    "# Calculate Pearson's correlation coefficient\n",
    "correlation_coefficient, p_value = pearsonr(district_data['mean_price_m2'], district_data['mean_height'])\n",
    "\n",
    "# Display the correlation result\n",
    "print(f\"Pearson's Correlation Coefficient between Mean Price per m² and Median Dog Size: {correlation_coefficient:.3f}\")\n",
    "print(f\"P-Value: {p_value:.5f}\")\n",
    "\n",
    "# Interpret the result based on the correlation value\n",
    "if correlation_coefficient > 0:\n",
    "    print(\"Positive correlation: Larger dog breeds are more common in wealthier districts.\")\n",
    "elif correlation_coefficient < 0:\n",
    "    print(\"Negative correlation: Smaller dog breeds are more common in wealthier districts (supporting the hypothesis).\")\n",
    "else:\n",
    "    print(\"No significant correlation between district wealth and dog breed size.\")"
   ]
  },
  {
   "cell_type": "markdown",
   "id": "2e3a4c84-81ca-4a80-9bdc-8dde3c34e152",
   "metadata": {},
   "source": [
    "## Correlation Analysis (Wealth vs. Dog Size)\n",
    "\n",
    "We performed a Pearson's correlation analysis to examine the relationship between district wealth (mean_price_m²) and dog breed size (mean_height). This helps quantify the strength and direction of the relationship.\n",
    "\n",
    "**Results:**\n",
    "\n",
    "- **Pearson's Correlation Coefficient between Mean Price per m² and Median Dog Size:** `-0.537`\n",
    "- **P-Value:** `0.00826`\n",
    "\n",
    "**Interpretation:**\n",
    "\n",
    "- The correlation coefficient of `-0.537` indicates a **negative correlation** between district wealth and dog breed size.\n",
    "- The **p-value** of `0.00826` shows that this result is statistically significant (p < 0.05), providing evidence that smaller dog breeds are more common in wealthier districts.\n",
    "\n",
    "**Conclusion:**\n",
    "\n",
    "This analysis **supports the hypothesis** that smaller breeds are more prevalent in wealthier districts with higher real estate prices.\n",
    "\n",
    "---"
   ]
  },
  {
   "cell_type": "code",
   "execution_count": null,
   "id": "0ee813f2-27bc-4cf8-ac2e-21a30eb06cb9",
   "metadata": {},
   "outputs": [],
   "source": [
    "# !pip install statsmodels # (This line has to be uncommented if statsmodels is not yet installed).()\n",
    "import statsmodels.api as sm\n",
    "import pandas as pd\n",
    "\n",
    "# Prepare the independent and dependent variables\n",
    "X = district_data['mean_price_m2']  # Mean price per m² (district wealth)\n",
    "y = district_data['mean_height']    # Median/mean dog size (cm)\n",
    "\n",
    "# Add a constant to the independent variable (for the intercept)\n",
    "X = sm.add_constant(X)\n",
    "\n",
    "# Perform the linear regression using OLS (Ordinary Least Squares)\n",
    "model = sm.OLS(y, X)\n",
    "results = model.fit()\n",
    "\n",
    "# Print the summary of the regression results\n",
    "print(results.summary())"
   ]
  },
  {
   "cell_type": "markdown",
   "id": "d1d652a9-23c5-415d-818a-f927e9317b0b",
   "metadata": {},
   "source": [
    "## Regression Analysis: Dog Size vs. District Wealth\n",
    "\n",
    "**Objective:** To evaluate how much dog breed size (mean height) is influenced by district wealth (mean price per m²) using a linear regression model.\n",
    "\n",
    "### Results:\n",
    "\n",
    "- **Dependent Variable (Y):** Mean Dog Size (cm)\n",
    "- **Independent Variable (X):** Mean Price per m² (€)\n",
    "  \n",
    "**Model Summary:**\n",
    "- **R-squared:** 0.288  \n",
    "   The model explains approximately 28.8% of the variance in dog breed size based on district wealth.\n",
    "  \n",
    "- **Adjusted R-squared:** 0.254  \n",
    "   After accounting for the number of predictors in the model, the adjusted R-squared is 25.4%, indicating moderate explanatory power.\n",
    "\n",
    "- **F-statistic:** 8.503 (p-value = 0.00826)  \n",
    "   The F-statistic and its low p-value indicate that the regression model is statistically significant, meaning district wealth has a measurable impact on dog size.\n",
    "\n",
    "### Coefficients:\n",
    "\n",
    "- **Intercept (const):** 52.5874  \n",
    "   When district wealth is zero, the predicted average dog size is 52.59 cm. This is more of a theoretical value since district wealth can't be zero in this context.\n",
    "\n",
    "- **Mean Price per m² (mean_price_m2) coefficient:** -0.0007  \n",
    "   For each €1 increase in the price per m², the average dog size decreases by 0.0007 cm. Although the value is small, the negative sign shows an inverse relationship between district wealth and dog breed size.\n",
    "\n",
    "### Statistical Significance:\n",
    "\n",
    "- **p-value (for Mean Price per m²):** 0.008  \n",
    "   A p-value below 0.05 suggests that the relationship between district wealth and dog size is statistically significant, meaning we can reject the null hypothesis that there's no relationship.\n",
    "\n",
    "### Conclusion:\n",
    "\n",
    "- The regression results show a statistically significant **negative relationship** between district wealth and dog size. As district wealth increases, dog size tends to decrease.\n",
    "- This finding **supports the hypothesis** that smaller dog breeds are more common in wealthier districts, as reflected by higher prices per m².\n",
    "\n",
    "---\n"
   ]
  },
  {
   "cell_type": "markdown",
   "id": "0588530a-868d-43dd-b258-9041aa566574",
   "metadata": {},
   "source": [
    "---\n",
    "\n",
    "### Final Conclusion on the Hypothesis: \"The Prevalence of Specific Dog Breeds in Vienna is Strongly Influenced by Real Estate Prices\"\n",
    "\n",
    "#### Hypothesis Recap:\n",
    "The hypothesis states that **the distribution and prevalence of specific dog breeds across districts in Vienna are influenced by real estate prices**. The idea is that wealthier districts may attract certain breeds, implying a relationship between real estate costs and the types of dogs found in these areas.\n",
    "\n",
    "#### 1. **Correlation Analysis**:\n",
    "   - **Pearson's correlation** showed a **moderate negative correlation** (-0.537) between **real estate prices (mean price per m²)** and **dog breed size**. This indicates that smaller dog breeds tend to be more prevalent in districts with higher real estate prices, suggesting that housing size and conditions may influence breed preferences in wealthier areas.\n",
    "\n",
    "#### 2. **Regression Analysis**:\n",
    "   - The **linear regression** model also supported the hypothesis, revealing a significant negative relationship between **real estate prices and dog size**. With a coefficient of **-0.0007** and an **R-squared value of 0.288**, the model suggests that **wealthier districts are more likely to have smaller dog breeds**, though other factors may also contribute to this distribution.\n",
    "\n",
    "#### 3. **Clustering Analysis**:\n",
    "   - **K-means clustering** identified three distinct clusters of districts based on wealth and dog size:\n",
    "     - **Wealthiest districts** tend to have smaller dog breeds.\n",
    "     - **Less wealthy districts** are home to larger dog breeds.\n",
    "     - An intermediate cluster represented a mix of these characteristics.\n",
    "   \n",
    "   The clustering pattern clearly aligns with the hypothesis, as smaller breeds were more concentrated in wealthier clusters, supporting the idea that **real estate prices influence breed selection**.\n",
    "\n",
    "### Final Conclusion:\n",
    "- **The hypothesis is supported by the data**. Across multiple analyses, the findings consistently indicate a relationship between **real estate prices and the prevalence of certain dog breeds**. Wealthier districts tend to have **smaller dog breeds**, likely influenced by factors such as housing space, lifestyle, and socio-economic conditions.\n",
    "\n",
    "- **Strength of the Evidence**: The correlation and regression analyses show statistically significant relationships, while the clustering and other analyses provide strong visual and categorical support for the hypothesis. However, the **moderate R-squared value** in the regression suggests that other factors, such as housing conditions, family size, or personal preferences, may also play a role.\n",
    "\n",
    "### Recommendations for Further Research:\n",
    "1. **Expand the Analysis**: Include additional variables like the presence of **external space** (gardens or parks), **family size**, and **type of housing** (apartments vs. houses) to strengthen the model.\n",
    "   \n",
    "2. **Investigate Other Cities**: Conduct similar studies in other cities to validate whether this trend holds in different socio-economic environments.\n",
    "   \n",
    "3. **Time Series Analysis**: Perform a **temporal analysis** to determine how breed distribution and real estate prices have evolved over time. This could uncover longer-term trends in dog ownership and housing patterns.\n",
    "\n",
    "### Final Statement:\n",
    "- The hypothesis that **the prevalence of specific dog breeds in Vienna is strongly influenced by real estate prices** is valid based on the data analyzed. Smaller dog breeds are more common in wealthier districts, and this relationship is statistically significant. Further research is encouraged to explore additional influencing factors and broader applicability of this finding.\n",
    "\n",
    "---"
   ]
  },
  {
   "cell_type": "markdown",
   "id": "b1c08454-d5fe-4e5a-8dd7-1caf22003bb2",
   "metadata": {},
   "source": [
    "---"
   ]
  },
  {
   "cell_type": "markdown",
   "id": "8a404fa7-19f3-49bc-adc7-9a6ae07da0c9",
   "metadata": {
    "id": "8a404fa7-19f3-49bc-adc7-9a6ae07da0c9",
    "tags": []
   },
   "source": [
    "### E3-H2: \"There is a positive correlation between the ownership of Listenhunde and district, with a higher prevalence of Listenhunde ownership in outer viennese districts compared to inner districts.\"\n",
    "\n",
    "Listenhunde are specific dog breeds which must be registered and owning them comes with specific regulations, such as always walk your dog with a muzzle and a leash, except when in fully gated dog areas. Owners must complete a 'Hundeführerschein' as well, for which you have to be at least 16 years old. Thereby, if you are under the age of 16, you are not allowed to walk this dog breed. Note that all dogs, which contain one of the breeds from the list are considered a Listenhund.  \n",
    "\n",
    "Rationale: It could be easier to own a Listenhund in an outer district, as there aren't as many people around (acceptance) as well as more free spaces. Additionally, other provinces have different regulations, which might be more favorable and would make traveling distances shorter. \n",
    "\n",
    "Data Needed: Dog breed data ('hunde-vie.csv'/hunde-wien.csv)\n",
    "\n",
    "Author: Theresa Spiel\n",
    "\n",
    "---\n",
    "\n",
    "**Sources**: \n",
    "1. [Haltung von Listenhunden in Wien](https://www.oesterreich.gv.at/themen/reisen_und_freizeit/haustiere/1/2/Seite.742280.html)\n",
    "2. [All regulations for Listenhunde in Austria](https://www.oesterreich.gv.at/themen/reisen_und_freizeit/haustiere/1/2.html)\n",
    "---\n"
   ]
  },
  {
   "cell_type": "markdown",
   "id": "6d2b6802-802e-4cc9-ad8c-10c222c76df1",
   "metadata": {},
   "source": [
    "Start with getting all dog breeds per district."
   ]
  },
  {
   "cell_type": "code",
   "execution_count": null,
   "id": "4a3711e0-13d6-4115-9d64-c9f154d27f7f",
   "metadata": {
    "id": "4a3711e0-13d6-4115-9d64-c9f154d27f7f"
   },
   "outputs": [],
   "source": [
    "dog_breeds_per_district = combined_dog_types_by_year_and_district.reset_index().melt(id_vars=[ 'Ref_Date', 'Postal_CODE'], value_vars=combined_dog_types_by_year_and_district.columns, value_name='Count')\n",
    "dog_breeds_per_district[\"year\"] = dog_breeds_per_district[\"Ref_Date\"].dt.strftime(\"%Y\").astype(\"int32\")\n",
    "dog_breeds_per_district"
   ]
  },
  {
   "cell_type": "markdown",
   "id": "3e115b47-b47d-4bdf-addf-374860ec3f91",
   "metadata": {},
   "source": [
    "There are many mixed breeds --> aggregate mixed breeds and introduce Primary and Secondary Breed. "
   ]
  },
  {
   "cell_type": "code",
   "execution_count": null,
   "id": "f66f297b-6c64-45a9-aaa3-d459f9f9d67e",
   "metadata": {},
   "outputs": [],
   "source": [
    "#[print(x) for x in dog_breeds_per_district[\"Dog Breed\"].unique()];\n",
    "dog_breeds_per_district['Dog Breed'] = dog_breeds_per_district['Dog Breed'].str.replace('-', '')\n",
    "\n",
    "dog_breeds_per_district[['Primary Breed', 'Secondary Breed']] = dog_breeds_per_district['Dog Breed'].str.split(' / ', n=1, expand=True).astype(str)\n",
    "dog_breeds_per_district['Secondary Breed'] = dog_breeds_per_district['Secondary Breed'].replace('None', np.nan)\n",
    "\n",
    "# Check for potentially redundant breed names\n",
    "potentially_redundant = {}\n",
    "for breed in dog_breeds_per_district[\"Primary Breed\"].unique():\n",
    "    stripped = re.sub(r'[^a-zA-Z]', '', breed).lower()\n",
    "    if stripped in potentially_redundant:\n",
    "        potentially_redundant[stripped].append(breed)\n",
    "    else:\n",
    "        potentially_redundant[stripped] = [breed]\n",
    "\n",
    "# fix redundant breeds (same breed, but written different, only upper lower differences, missing space and such) \n",
    "for stripped, breeds in potentially_redundant.items():\n",
    "    if len(breeds) > 1:\n",
    "        dog_breeds_per_district.loc[dog_breeds_per_district['Primary Breed'] == breeds[1], 'Primary Breed'] = str(breeds[0])\n",
    "\n",
    "# add (rein) to every entry where secondary is NaN to not mix pure breeds and mixed breeds\n",
    "dog_breeds_per_district.loc[dog_breeds_per_district['Secondary Breed'].isna(), 'Primary Breed'] += ' (pure)'\n",
    "dog_breeds_per_district.loc[~dog_breeds_per_district['Secondary Breed'].isna(), 'Primary Breed'] += ' (mixed)'\n",
    "\n",
    "# drop entries with Unbekannt (rein) \n",
    "dog_breeds_per_district = dog_breeds_per_district[dog_breeds_per_district['Primary Breed'] != 'Unbekannt (pure)']\n",
    "dog_breeds_per_district = dog_breeds_per_district[dog_breeds_per_district['Primary Breed'] != 'Unbekannt (mixed)']\n",
    "\n",
    "dog_breeds_per_district.sort_values(by=['Ref_Date'], ascending=True)\n",
    "dog_breeds_per_district.head()"
   ]
  },
  {
   "cell_type": "markdown",
   "id": "021b2f00-b770-4b3c-83b0-16fd17217b25",
   "metadata": {},
   "source": [
    "There is still 1044 unique values, but we need to take mixed vs pure into account. "
   ]
  },
  {
   "cell_type": "code",
   "execution_count": null,
   "id": "da46ef89-f705-47a9-991a-8f2a165fe9d7",
   "metadata": {},
   "outputs": [],
   "source": [
    "len(dog_breeds_per_district['Primary Breed'].unique())"
   ]
  },
  {
   "cell_type": "markdown",
   "id": "ebd7d3ff-367f-4abc-973c-55e68aaf7349",
   "metadata": {},
   "source": [
    "Plot all primary breeds as histogram per breed, separated by year (with an animation frame) and the histogram being split into the districts. Upon zooming in, we can see there is a prevalesence for specific dog breeds, but this plot is too crowded yet, to gain insights for Listenhunde. "
   ]
  },
  {
   "cell_type": "code",
   "execution_count": null,
   "id": "9a570543-c5ba-4248-9b1d-0d641ca44b28",
   "metadata": {},
   "outputs": [],
   "source": [
    "# Using a interactive histogram to display the distribution of dog breeds per district \n",
    "def show_interactive_histogram(dataframe, x, y, color, title, yaxes_text):\n",
    "    fig = px.histogram(data_frame=dataframe, x=x, y=y, color=color, height=1000,\n",
    "                     title=title, animation_frame=\"year\")\n",
    "    fig.update_yaxes(title_text=yaxes_text)\n",
    "    fig.update_xaxes(tickangle=45)\n",
    "    fig.update_layout(\n",
    "        updatemenus=[dict(y=-0.22, x=-0.16, xanchor=\"left\", yanchor=\"top\")],\n",
    "        sliders=[dict(y=-0.2, x=0.1, xanchor=\"left\", yanchor=\"top\")],\n",
    "        margin=dict(b=150)\n",
    "    )\n",
    "    fig.show()"
   ]
  },
  {
   "cell_type": "code",
   "execution_count": null,
   "id": "7aa95989-12a0-4e6b-8b6f-f238cb345c18",
   "metadata": {},
   "outputs": [],
   "source": [
    "show_interactive_histogram(\n",
    "    dataframe=dog_breeds_per_district, \n",
    "    x = 'Primary Breed', \n",
    "    y = 'Count', \n",
    "    color = 'Postal_CODE', \n",
    "    title='Dog Breeds per Year/District', \n",
    "    yaxes_text='Count',\n",
    ")"
   ]
  },
  {
   "cell_type": "code",
   "execution_count": null,
   "id": "23708289-2ddc-4c36-b43b-2565864f1ad5",
   "metadata": {},
   "outputs": [],
   "source": [
    "list_dogs = ['Bullterrier', 'Staffordshire Bullterrier', 'American Staffordshire Terrier', 'Mastino Napoletano', 'Mastin Espanol', 'Fila Brasileiro', 'Mastiff', 'Bullmastiff', 'Tosa Inu', \n",
    "    'Pit Bull Terrier', 'Rottweiler', 'Dogo Argentino', 'Argentinischer Mastiff']\n",
    "[x.strip(\" \") for x in list_dogs];"
   ]
  },
  {
   "cell_type": "markdown",
   "id": "14dbfc4f-4064-4f7f-8c64-f56cf3dbee93",
   "metadata": {},
   "source": [
    "Filter for Listenhunde and display those. Shows general distribution of Listenhunde. "
   ]
  },
  {
   "cell_type": "code",
   "execution_count": null,
   "id": "aa5cb19d-3240-4e2a-9b5b-d0b939d97f5e",
   "metadata": {},
   "outputs": [],
   "source": [
    "mask = dog_breeds_per_district['Primary Breed'].str.strip(\" \").str.contains('|'.join(list_dogs), case=False, na=False)\n",
    "matching_breeds = dog_breeds_per_district[mask].sort_values(by=['Ref_Date'], ascending=True)\n",
    "matching_breeds['Primary Breed'] = matching_breeds['Primary Breed'].str.replace(\" (pure)\", \"\", regex=False).str.replace(\" (mixed)\", \"\", regex=False)"
   ]
  },
  {
   "cell_type": "code",
   "execution_count": null,
   "id": "cf44fa3c-ae1a-4964-b195-2c76882ae66f",
   "metadata": {},
   "outputs": [],
   "source": [
    "show_interactive_histogram(\n",
    "    dataframe=matching_breeds, \n",
    "    x = 'Primary Breed', \n",
    "    y = 'Count', \n",
    "    color = 'Postal_CODE', \n",
    "    title='Listenhunde per Year/District', \n",
    "    yaxes_text='Count',\n",
    ")"
   ]
  },
  {
   "cell_type": "markdown",
   "id": "ec48254c-11ab-4f41-8300-288a2f739b7c",
   "metadata": {},
   "source": [
    "Show Listenhunde by year and district. "
   ]
  },
  {
   "cell_type": "code",
   "execution_count": null,
   "id": "75854758-144d-47c5-b92f-74ad0123d3d1",
   "metadata": {},
   "outputs": [],
   "source": [
    "def show_interactive_histogram_per_district(dataframe, x, y, color, title, yaxes_text):\n",
    "    fig = px.histogram(data_frame=dataframe, \n",
    "                       x=x, \n",
    "                       y=y, \n",
    "                       color=color, \n",
    "                       height=1000,\n",
    "                       title=title,\n",
    "                       animation_frame=\"year\",  \n",
    "                       nbins=len(matching_breeds['Postal_CODE'].unique())\n",
    "                      )\n",
    "    fig.update_yaxes(title_text=yaxes_text)\n",
    "    fig.update_xaxes(tickangle=45, tickvals=dataframe[x].unique() )\n",
    "    fig.update_layout(bargap=0.2)\n",
    "    fig.show()"
   ]
  },
  {
   "cell_type": "code",
   "execution_count": null,
   "id": "1cd0be93-4e78-4a98-a18f-62d6f251f5c1",
   "metadata": {},
   "outputs": [],
   "source": [
    "show_interactive_histogram_per_district(\n",
    "    dataframe=matching_breeds, \n",
    "    x = 'Postal_CODE', \n",
    "    y = 'Count', \n",
    "    color = 'Primary Breed', \n",
    "    title='Listenhunde per Year/District', \n",
    "    yaxes_text='Count',\n",
    ")"
   ]
  },
  {
   "cell_type": "markdown",
   "id": "23756f24-1ef4-440b-8f15-42aed23ecaf9",
   "metadata": {},
   "source": [
    "Recall Vienna's district borders. Outer districts are those districts which border to neighbouring provinces.\n",
    "- outer_districts = [1100, 1110, 1130, 1140, 1170,  1190, 1210, 1220, 1230]\n",
    "- inner_districts = [1010, 1020, 1030, 1040, 1050, 1060, 1070, 1080, 1090, 1120, 1150, 1160, 1180, 1200]\n",
    "\n"
   ]
  },
  {
   "cell_type": "code",
   "execution_count": null,
   "id": "5dcc508d-2d8c-4af2-b4e8-a72b6adc37b7",
   "metadata": {},
   "outputs": [],
   "source": [
    "gdf = gpd.read_file(\"BEZIRKSGRENZEOGD.json\")\n",
    "gdf = gdf.set_index('BEZNR').sort_index()\n",
    "\n",
    "ax = gdf.plot(color='none', edgecolor='red')\n",
    "# gcf -> get current figure , set title\n",
    "plt.gcf().suptitle('Vienna\\'s district borders')\n",
    "ax.set_xlabel('Lon °')\n",
    "ax.set_ylabel('Lat °')\n",
    "\n",
    "# Plot the index for each district\n",
    "for idx, row in gdf.iterrows():\n",
    "    ax.text(row.geometry.centroid.x, row.geometry.centroid.y, str(idx), ha='center')\n",
    "\n",
    "plt.show()"
   ]
  },
  {
   "cell_type": "markdown",
   "id": "9cf248f6-300f-408f-b579-bfba7767853b",
   "metadata": {},
   "source": [
    "Split into outer and inner districts and look for distribution difference "
   ]
  },
  {
   "cell_type": "code",
   "execution_count": null,
   "id": "e0b82205-7a53-4278-a326-91d03f775eb5",
   "metadata": {},
   "outputs": [],
   "source": [
    "matching_breeds.head()"
   ]
  },
  {
   "cell_type": "code",
   "execution_count": null,
   "id": "c6b00bd2-7211-4dec-af13-7e32a39e53b4",
   "metadata": {},
   "outputs": [],
   "source": [
    "outer_districts = [1100, 1110, 1130, 1140, 1170,  1190, 1210, 1220, 1230]\n",
    "inner_districts = [1010, 1020, 1030, 1040, 1050, 1060, 1070, 1080, 1090, 1120, 1150, 1160, 1180, 1200]\n",
    "\n",
    "matching_breeds_inner = matching_breeds[matching_breeds['Postal_CODE'].isin(inner_districts)]\n",
    "matching_breeds_outer = matching_breeds[matching_breeds['Postal_CODE'].isin(outer_districts)]\n",
    "\n",
    "print(\"Sanity Check - number of postal codes in both dfs: \") \n",
    "matching_breeds_inner['Postal_CODE'].nunique() + matching_breeds_outer['Postal_CODE'].nunique()"
   ]
  },
  {
   "cell_type": "markdown",
   "id": "17350603-3cba-48e1-955f-1d5fbddf5219",
   "metadata": {},
   "source": [
    "Comparing the absolute sum of Listenhunde in inner and outer districts supports the hypothesis. "
   ]
  },
  {
   "cell_type": "code",
   "execution_count": null,
   "id": "ad9b3842-de06-40c7-8fd3-c19c92ff7738",
   "metadata": {},
   "outputs": [],
   "source": [
    "print(\"Listenhunde innere Bezirke: \", matching_breeds_inner['Count'].sum())\n",
    "print(\"Einträge: \", len(matching_breeds_inner))"
   ]
  },
  {
   "cell_type": "code",
   "execution_count": null,
   "id": "f3fe3407-bbc4-4398-966d-33072c5e7f83",
   "metadata": {},
   "outputs": [],
   "source": [
    "print(\"Listenhund äußere Bezirke: \", matching_breeds_outer['Count'].sum())\n",
    "print(\"Einträge: \", len(matching_breeds_outer))"
   ]
  },
  {
   "cell_type": "markdown",
   "id": "608a8fb6-b56a-455c-9050-fe395a1564cc",
   "metadata": {},
   "source": [
    "Lets look at the subgroups in more detail: "
   ]
  },
  {
   "cell_type": "code",
   "execution_count": null,
   "id": "61cbd7a6-b714-4715-a143-36b122ec14a5",
   "metadata": {},
   "outputs": [],
   "source": [
    "show_interactive_histogram_per_district(\n",
    "    dataframe=matching_breeds_inner, \n",
    "    x = 'Postal_CODE', \n",
    "    y = 'Count', \n",
    "    color = 'Primary Breed', \n",
    "    title='Listenhunde per Year / Inner Districts', \n",
    "    yaxes_text='Count',\n",
    ")"
   ]
  },
  {
   "cell_type": "code",
   "execution_count": null,
   "id": "a11fc1a0-c522-4236-9f14-c6c128d71683",
   "metadata": {},
   "outputs": [],
   "source": [
    "show_interactive_histogram_per_district(\n",
    "    dataframe=matching_breeds_outer, \n",
    "    x = 'Postal_CODE', \n",
    "    y = 'Count', \n",
    "    color = 'Primary Breed', \n",
    "    title='Listenhunde per Year/ Outer Districts', \n",
    "    yaxes_text='Count',\n",
    ")"
   ]
  },
  {
   "cell_type": "markdown",
   "id": "c31c1775-b9fb-489d-9033-235e68c6cbf3",
   "metadata": {},
   "source": [
    "Lets see if there is a correlation between breed and district. "
   ]
  },
  {
   "cell_type": "code",
   "execution_count": null,
   "id": "3beeb249-7657-46a1-80a6-e77f494826c8",
   "metadata": {},
   "outputs": [],
   "source": [
    "from scipy import stats\n",
    "\n",
    "# calculate correlation between Listenhund breed and postal code\n",
    "def calculate_correlation(breed):\n",
    "    breed_data = matching_breeds[matching_breeds['Primary Breed'] == breed]\n",
    "    return stats.pearsonr(breed_data['Count'], breed_data['Postal_CODE'])[0]\n",
    "\n",
    "top_breeds = matching_breeds.groupby('Primary Breed')['Count'].sum().index\n",
    "correlations = {breed: calculate_correlation(breed) for breed in top_breeds}\n",
    "\n",
    "plt.figure(figsize=(12, 6))\n",
    "breeds = list(correlations.keys())\n",
    "values = list(correlations.values())\n",
    "plt.scatter(breeds, values, label='Correlation Coefficients')\n",
    "\n",
    "plt.title('Correlation between Listenhund Breed Popularity and District')\n",
    "plt.xticks(rotation=45, ha='right')\n",
    "plt.ylabel('Correlation Coefficient')\n",
    "plt.xlabel('Breed')\n",
    "plt.legend()\n",
    "plt.tight_layout()\n",
    "plt.show()"
   ]
  },
  {
   "cell_type": "markdown",
   "id": "303db61b-3072-43de-b53b-46adf1923d43",
   "metadata": {},
   "source": [
    "There is a weak correaltion between list dog breed owned and district, with only three breeds > 0.2. The lower the result, the less relationship there is, therefore, a value of ~0.3 and less is not statistically significant. \n",
    "[Pearson Correlation Coefficient](https://www.scribbr.com/statistics/pearson-correlation-coefficient/)"
   ]
  },
  {
   "cell_type": "markdown",
   "id": "778928e5-84bf-4417-bd51-8e97b851069e",
   "metadata": {},
   "source": [
    "Get the relation to dog ownership in inner and outer districts in general: "
   ]
  },
  {
   "cell_type": "code",
   "execution_count": null,
   "id": "8a2843d0-eda7-41b9-a71d-d92af34dfdf8",
   "metadata": {},
   "outputs": [],
   "source": [
    "district_dog_breeds_inner = dog_breeds_per_district[dog_breeds_per_district['Postal_CODE'].isin(inner_districts)]\n",
    "district_dog_breeds_outer = dog_breeds_per_district[dog_breeds_per_district['Postal_CODE'].isin(outer_districts)]"
   ]
  },
  {
   "cell_type": "code",
   "execution_count": null,
   "id": "cfdec592-0f0a-4ff6-b979-221cbf930d77",
   "metadata": {},
   "outputs": [],
   "source": [
    "def print_relative(matching_breeds, all_breeds): \n",
    "    print(\"Number of Listenhunde: \", matching_breeds['Count'].sum())\n",
    "    print(\"Number of dogs overall: \", all_breeds['Count'].sum())\n",
    "    print(f\"Percentage of Listenhunde in dogs overall: {((matching_breeds['Count'].sum()/all_breeds['Count'].sum()) *100):.2f} %\")"
   ]
  },
  {
   "cell_type": "code",
   "execution_count": null,
   "id": "e2fb7659-e746-4ac0-bd4f-7bd872d818ef",
   "metadata": {},
   "outputs": [],
   "source": [
    "print(\"Inner Districts: \")\n",
    "print_relative(matching_breeds_inner, district_dog_breeds_inner)"
   ]
  },
  {
   "cell_type": "code",
   "execution_count": null,
   "id": "ac5e87b9-856d-4c7c-891f-68606218d687",
   "metadata": {},
   "outputs": [],
   "source": [
    "print(\"Outer Districts: \")\n",
    "print_relative(matching_breeds_outer, district_dog_breeds_outer)"
   ]
  },
  {
   "cell_type": "markdown",
   "id": "775f2ade-f6f8-47ec-b561-30d661579686",
   "metadata": {},
   "source": [
    "#### Anser H2: \n",
    "No, there is no statistically significant positive correlation between the ownership of Listenhunde and districts. While the absolute number of Listenhunde is higher in the outer districts, the relative number of Listenhunde in outer districts is only slightly higher than the relative number of Listenhunde in inner districts. Additionally only a weak correlation between Listenhund breed owned and district could be found. "
   ]
  },
  {
   "cell_type": "markdown",
   "id": "70e60944-b857-4a32-872a-6db028c51c87",
   "metadata": {
    "id": "70e60944-b857-4a32-872a-6db028c51c87",
    "tags": []
   },
   "source": [
    "---\n",
    "\n",
    "### E3-H3: \"The Height of registered Dogs correlates positively with the ratio of green space in a district.\"\n",
    "\n",
    "Rationale: In districts with less green space, smaller dogs might be preferred because they need less area to run around. Bigger dogs usually need to be able to run/exercise more freely in a less confined area. They usually need more time outside.\n",
    "\n",
    "Use-Case: this could be important information for marketing purposes, e.g., dogs of different sizes need different foods, toys, etc. By knowing which group you can target in which districts, you can save money by not wasting it on the wrong audience.\n",
    "\n",
    "Author: Martin Stasek\n",
    "\n",
    "\n",
    "* Height categories (<a href=\"https://futalis.de/hunderatgeber/hunderassen#:~:text=Kleine%20Hunderassen%20haben%20eine%20Schulterh%C3%B6he,eine%20Schulterh%C3%B6he%20ab%2060%20cm.\">Link</a>):\n",
    "    * Small dogs: Shoulder Height < 40 cm \n",
    "    * Medium sized dogs:  40 cm <= Shoulder Height < 60 cm\n",
    "    * Big dogs: Shoulder Height >= 60 cm\n",
    "\n",
    "\n",
    "* Used datasets: the combined dataframe of hunde-vie.csv and hunde-wien.csv\n",
    "\n",
    "\n",
    "* Additional data (downloaded on 10.10.2024)\n",
    "    * to get height of dog breeds:\n",
    "        * https://hund-gewicht.de/rassenverzeichnis => exported to hypo3_material/breed_heights.csv\n",
    "        * https://www.hoomansfriend.com/dog-breed-size-chart => exported to hypo3_material/h3_hoomansfriend.csv\n",
    "    * green spaces: https://www.wien.gv.at/statistik/lebensraum/stadtgebiet/#daten => downloaded to hypo3_material/stadtgebiet_nutzungsflaechen.csv\n",
    "\n"
   ]
  },
  {
   "cell_type": "markdown",
   "id": "b0d7201a",
   "metadata": {},
   "source": [
    "Since we cannot know the height when the breed is unknown, we, first, take a look at how many entries have completely unknown breeds per year:"
   ]
  },
  {
   "cell_type": "code",
   "execution_count": null,
   "id": "f43e1734",
   "metadata": {},
   "outputs": [],
   "source": [
    "df_h3_dogs = combined_dog_types.drop(columns=\"DISTRICT_CODE\")\n",
    "df_h3_dogs[\"year\"] = pd.DatetimeIndex(df_h3_dogs[\"Ref_Date\"]).year\n",
    "tmp_check_unknown = df_h3_dogs.copy()\n",
    "tmp_check_unknown[\"is Unknown\"] = np.where((df_h3_dogs[\"Dog Breed\"] == \"Unbekannt\") | (df_h3_dogs[\"Dog Breed\"] == \"Unbekannt / Mischling\"),\n",
    "                                          True, False)\n",
    "tmp_check_unknown = pd.DataFrame(tmp_check_unknown.groupby([\"year\", \"is Unknown\"])[\"Anzahl\"].sum()).reset_index().pivot(index=\"year\",columns=\"is Unknown\", values=\"Anzahl\")\n",
    "tmp_check_unknown.plot(kind=\"bar\", stacked=True)\n",
    "plt.xticks(rotation=0)\n",
    "plt.title(\"Number of dogs per year that have completely unknown breeds\", fontweight=\"bold\")\n",
    "plt.ylabel(\"Abs. num of dogs\")\n",
    "plt.grid(axis=\"y\")\n",
    "\n",
    "print(\"Total number (across all years) of dogs where the breed is completely unknown:\",\n",
    "      df_h3_dogs[(df_h3_dogs[\"Dog Breed\"] == \"Unbekannt\") | (df_h3_dogs[\"Dog Breed\"] == \"Unbekannt / Mischling\")][\"Anzahl\"].sum()\n",
    ")\n",
    "df_h3_dogs_known = df_h3_dogs[(df_h3_dogs[\"Dog Breed\"] != \"Unbekannt\") & (df_h3_dogs[\"Dog Breed\"] != \"Unbekannt / Mischling\")]\n",
    "print(\"Total number (across all years) of dogs where at least one breed is known:\",\n",
    "      df_h3_dogs_known[\"Anzahl\"].sum()\n",
    ")\n",
    "print(\"Ratio of dogs where at least one breed is known in 2024:\",\n",
    "      (df_h3_dogs_known[df_h3_dogs_known[\"year\"] == 2024][\"Anzahl\"].sum() / df_h3_dogs[df_h3_dogs[\"year\"] == 2024][\"Anzahl\"].sum()) * 100,\"%\"\n",
    ")"
   ]
  },
  {
   "cell_type": "markdown",
   "id": "94b8fa58",
   "metadata": {},
   "source": [
    "We see that in the years 2012 to 2017 the percentage of completely unknown breeds is quite high. In 2024 only around 14% of the dogs have completely unknown breeds. Therefore, I will focus on the year 2024 so that the used data and also the results will resemble the actual truth more accurately."
   ]
  },
  {
   "cell_type": "markdown",
   "id": "569fde4e",
   "metadata": {},
   "source": [
    "The additional height-data is not provided as a csv on the websites. I scraped the data using a html parser. As an example, the next cell provides the code for scraping the website https://hund-gewicht.de/rassenverzeichnis. It is commented out right now, because I already exported the data as csv files in case something changes on the sites. So, I will just load these."
   ]
  },
  {
   "cell_type": "code",
   "execution_count": null,
   "id": "d3893f72",
   "metadata": {},
   "outputs": [],
   "source": [
    "# already exported it to breed_heights.csv in case something changes on website\n",
    "r'''\n",
    "from bs4 import BeautifulSoup # parse html\n",
    "import urllib.request # get html\n",
    "import re\n",
    "html_dog_heigths = urllib.request.urlopen(\"https://hund-gewicht.de/rassenverzeichnis\").read()\n",
    "parsed_html = BeautifulSoup(html_dog_heigths)\n",
    "breeds_html = parsed_html.body.find_all('a', attrs={'class':'card breed'})\n",
    "names = np.array([])\n",
    "height_min = np.array([])\n",
    "height_max = np.array([])\n",
    "for breed in breeds_html:\n",
    "    names = np.append(names, breed.find('div', attrs={'class':'name'}).text.strip())\n",
    "    infos_html = breed.find('div', attrs={'class':'breed-infos'})\n",
    "    infos_html = infos_html.find_all('li')\n",
    "    for info in infos_html:\n",
    "        if \"Größe\" in info.find('div', attrs={'class':'label'}).text:\n",
    "            heights = info.find('div', attrs={'class':'value'}).text.strip()\n",
    "            heights = re.findall(r\"\\d+\", heights)\n",
    "            height_min = np.append(height_min, heights[0])\n",
    "            height_max = np.append(height_max, heights[1])\n",
    "df_breed_heights = pd.DataFrame({\"Dog Breed\": names, \"Min Height\": height_min, \"Max Height\": height_max})\n",
    "df_breed_heights.to_csv(os.path.join(\"hypo3_material\",\"breed_heights.csv\"), sep=\",\", encoding=\"utf8\", index=False)\n",
    "df_breed_heights.head()\n",
    "'''\n",
    "# multiline comment returns warning without using r'''"
   ]
  },
  {
   "cell_type": "markdown",
   "id": "f282420a",
   "metadata": {},
   "source": [
    "Create a dataframe consisting of different breeds and their mean heights. As mentioned above, we use mainly two internet sources:"
   ]
  },
  {
   "cell_type": "code",
   "execution_count": null,
   "id": "c2d74b67",
   "metadata": {},
   "outputs": [],
   "source": [
    "df_breed_heights = pd.read_csv(os.path.join(\"hypo3_material\",\"breed_heights.csv\"), sep=\",\", encoding=\"utf8\") # load first dataset with heights\n",
    "df_breed_heights[\"Mean Height\"] = df_breed_heights.mean(axis=1, numeric_only=True) # data contains typical minimal and maximal heights of breeds => take mean\n",
    "df_breed_heights = df_breed_heights.drop(columns=[\"Min Height\", \"Max Height\"])\n",
    "\n",
    "df_breed_heights_hoomansfriend = pd.read_csv(os.path.join(\"hypo3_material\",\"h3_hoomansfriend.csv\"), sep=\",\")[[\"Dog Breed\", \"Mean Height\"]] # load second height data\n",
    "df_breed_heights_hoomansfriend.loc[:, \"Dog Breed\"] = df_breed_heights_hoomansfriend[\"Dog Breed\"].str.replace(r\"German\\s*\", \"\", regex=True, case=False) # dont need the word german in breeds\n",
    "\n",
    "df_breed_heights = pd.concat([df_breed_heights, \n",
    "                              df_breed_heights_hoomansfriend], axis=0)\n",
    "df_breed_heights.drop_duplicates(subset=[\"Dog Breed\"], inplace=True)\n",
    "df_breed_heights = df_breed_heights.reset_index(drop=True)\n",
    "df_breed_heights.loc[:, \"Dog Breed\"] = df_breed_heights[\"Dog Breed\"].str.lower()\n",
    "df_breed_heights"
   ]
  },
  {
   "cell_type": "markdown",
   "id": "143ef81a",
   "metadata": {},
   "source": [
    "We have to modify the dog breeds from our original combined dog dataframe quite heavily to make the breeds matchable to our height data:\n",
    "\n",
    "    * lowercase\n",
    "    * drop breed if there are not more than 5 dogs registered for it\n",
    "    * remove additional breed-info like the color and texture of the fur\n",
    "    * trim strings\n",
    "    * drop completely unknown breed"
   ]
  },
  {
   "cell_type": "code",
   "execution_count": null,
   "id": "951fbcdd",
   "metadata": {},
   "outputs": [],
   "source": [
    "df_h3_dogs = combined_dog_types.drop(columns=\"DISTRICT_CODE\")\n",
    "df_h3_dogs[\"Dog Breed\"] = df_h3_dogs[\"Dog Breed\"].str.lower()\n",
    "df_h3_dogs[\"year\"] = pd.DatetimeIndex(df_h3_dogs[\"Ref_Date\"]).year # add a year column for later\n",
    "df_h3_dogs[\"Dog Breed\"] = df_h3_dogs[\"Dog Breed\"].str.replace(\" / .*\", \"\", regex=True) # take first breed of mixed breeds since big differences in heights for the parent breeds are rather uncommon\n",
    "df_h3_dogs = df_h3_dogs[(df_h3_dogs[\"Anzahl\"]>5) & (df_h3_dogs[\"Dog Breed\"] != \"unbekannt\")].reset_index(drop=True)\n",
    "df_h3_dogbreeds = pd.DataFrame({\"Dog Breed\": df_h3_dogs[\"Dog Breed\"]}, dtype=\"object\")\n",
    "df_h3_dogbreeds.loc[:, \"Dog Breed\"] = df_h3_dogbreeds[\"Dog Breed\"].str.replace(r\"\\((?!zwergdackel).*\\)\", \"\", regex=True, case=False) # ?! to look forward to not remove zwergdackel\n",
    "df_h3_dogbreeds.loc[:, \"Dog Breed\"] = df_h3_dogbreeds[\"Dog Breed\"].str.replace(r\"(-|\\s)and(-|\\s)\", \"  \", regex=True, case=False)\n",
    "df_h3_dogbreeds.loc[:, \"Dog Breed\"] = df_h3_dogbreeds[\"Dog Breed\"].str.replace(r\"-\", \" \", regex=True, case=False)\n",
    "df_h3_dogbreeds.loc[:, \"Dog Breed\"] = df_h3_dogbreeds[\"Dog Breed\"].str.replace(r\"(kurz|lang|draht|glatt|raub|rauh)haar(ige(r)?)?\", \"\", regex=True, case=False)\n",
    "df_h3_dogbreeds.loc[:, \"Dog Breed\"] = df_h3_dogbreeds[\"Dog Breed\"].str.replace(r\"(^|\\s)(mehrfarben|black|white|tan|red|and)\\s\", \" \", regex=True, case=False)\n",
    "df_h3_dogbreeds.loc[:, \"Dog Breed\"] = df_h3_dogbreeds[\"Dog Breed\"].str.replace(r\"\\s(falb)?\\s*aus Mehrfarben\", \"\", regex=True, case=False)\n",
    "df_h3_dogbreeds.loc[:, \"Dog Breed\"] = df_h3_dogbreeds[\"Dog Breed\"].str.replace(r\"\\s(braun|grau|creme|rot|schwarz|(ein|mehr|anders|neu)(färbig|farben|farbig)|pfeffer|salz|apricot|weiss|silber|powderpuff)[^\\s]*\", \"\", regex=True, case=False)\n",
    "df_h3_dogbreeds.loc[:, \"Dog Breed\"] = df_h3_dogbreeds[\"Dog Breed\"].str.replace(r\"\\s(schlag|schla|s|loh)$\", \"\", regex=True, case=False)\n",
    "df_h3_dogbreeds.loc[:, \"Dog Breed\"] = df_h3_dogbreeds[\"Dog Breed\"].str.replace(r\"smooth|hairless|rough\", \"\", regex=True, case=False)\n",
    "df_h3_dogbreeds.loc[:, \"Dog Breed\"] = df_h3_dogbreeds[\"Dog Breed\"].str.replace(r\"\\spomeranian\\s\", \"\", regex=True, case=False)\n",
    "df_h3_dogbreeds.loc[:, \"Dog Breed\"] = df_h3_dogbreeds[\"Dog Breed\"].str.replace(r\"\\s(kaninchen|normal|zwerg|standard)(\\s|$)\", \"\", regex=True, case=False)\n",
    "df_h3_dogbreeds.loc[:, \"Dog Breed\"] = df_h3_dogbreeds[\"Dog Breed\"].str.strip()"
   ]
  },
  {
   "cell_type": "markdown",
   "id": "e3982223",
   "metadata": {},
   "source": [
    "Use tool similar to edit_distance/fuzzy_search to match breed names of height-dataframe to vienna-dataframe"
   ]
  },
  {
   "cell_type": "code",
   "execution_count": null,
   "id": "6fe8666d",
   "metadata": {},
   "outputs": [],
   "source": [
    "import difflib # could also use nltk edit_distance but difflib is standard library and way cleaner implementation this way\n",
    "df_h3_dogbreeds_tmp = df_h3_dogbreeds.copy()\n",
    "df_h3_dogbreeds_tmp[\"Dog Breed\"] = df_h3_dogbreeds[\"Dog Breed\"].apply(lambda x: (difflib.get_close_matches(x, df_breed_heights[\"Dog Breed\"], cutoff=0.6)[:1] or [x])[0]) # if good match is found harmonize breed name, if not leave it\n",
    "df_h3_dogbreeds_tmp.loc[:, \"Dog Breed\"] = df_h3_dogbreeds_tmp[\"Dog Breed\"].str.strip()"
   ]
  },
  {
   "cell_type": "markdown",
   "id": "5f25b22e",
   "metadata": {},
   "source": [
    "18 breeds not matchable at all:"
   ]
  },
  {
   "cell_type": "code",
   "execution_count": null,
   "id": "8667e64f",
   "metadata": {},
   "outputs": [],
   "source": [
    "df_all_breeds_heights = pd.DataFrame({\"Dog Breed\": df_h3_dogbreeds_tmp[\"Dog Breed\"].unique()}).merge(df_breed_heights, on=\"Dog Breed\", how=\"left\")\n",
    "tmp = df_all_breeds_heights[df_all_breeds_heights[\"Mean Height\"].isna()]\n",
    "len(tmp)"
   ]
  },
  {
   "cell_type": "code",
   "execution_count": null,
   "id": "e12448b2",
   "metadata": {},
   "outputs": [],
   "source": [
    "df_breed_heights = pd.concat([df_breed_heights,\n",
    "                              pd.DataFrame({ # add the few still missing ones\n",
    "                                  \"Dog Breed\": np.array(['sheltie', 'landseer', 'hollandse herdershond', 'prager rattler', 'schapendoes', 'italienisches windspiel', 'cao de agua portugues',\n",
    "                                                         'berger de pyrénées', 'welsh corgi pembroke', 'chinese crested dog', 'nova scotia duck tolling retriever', 'berger blanc suisse', 'perro de agua espanol',\n",
    "                                                         'welsh corgi cardigan', 'dog de bordeaux']),\n",
    "                                  \"Mean Height\": [36, 73, 60, 22, 45, 35, 50, 43, 27.5, 27, 49, 50.5, 40, 28, 62]\n",
    "                              })], axis=0)"
   ]
  },
  {
   "cell_type": "markdown",
   "id": "4ca8ae0b",
   "metadata": {},
   "source": [
    "I also compared the original breed names with the newly ones manually by converting them to a csv. Most matches are very good. But for some breeds we have to add a new entry to our height-data to fix wrong mappings"
   ]
  },
  {
   "cell_type": "code",
   "execution_count": null,
   "id": "6dcf246a",
   "metadata": {},
   "outputs": [],
   "source": [
    "df_h3_dogbreeds_tmp[[\"Dog Breed\"]].to_csv(os.path.join(\"hypo3_material\",\"after_first_column_matching.csv\"))\n",
    "df_h3_dogs[[\"Dog Breed\"]].to_csv(os.path.join(\"hypo3_material\",\"before_first_column_matching.csv\"))"
   ]
  },
  {
   "cell_type": "code",
   "execution_count": null,
   "id": "1024f1be",
   "metadata": {},
   "outputs": [],
   "source": [
    "df_breed_heights = pd.concat([df_breed_heights,\n",
    "                              pd.DataFrame({ # fix important wrong mappings using different dog source like zooplus.de\n",
    "                                  \"Dog Breed\": [\"gebirgsschweisshund\", \"zwergpinscher\", \"zwergschnauzer\", \"zwergdackel\", \"kleiner münsterländer\", \"entlebucher sennenhund\", \"bernhardiner\", \n",
    "                                                \"polnischer niederungshütehund\", \"jagdterrier\", \"biewer terrier\", \"schnauzer\", \"riesenschnauzer\", \"pudel\"],\n",
    "                                  \"Mean Height\": [48, 27.5, 33, 35, 53, 48, 78, 46, 37, 22, 48.5, 67.5, 50]\n",
    "                              })], axis=0)"
   ]
  },
  {
   "cell_type": "code",
   "execution_count": null,
   "id": "8bb7fde7",
   "metadata": {},
   "outputs": [],
   "source": [
    "# just in case format new height-entries again for better matching\n",
    "df_breed_heights.drop_duplicates(subset=[\"Dog Breed\"], inplace=True)\n",
    "df_breed_heights = df_breed_heights.reset_index(drop=True)\n",
    "df_breed_heights.loc[:, \"Dog Breed\"] = df_breed_heights[\"Dog Breed\"].str.lower()\n",
    "len(df_breed_heights)"
   ]
  },
  {
   "cell_type": "markdown",
   "id": "6b8d0121",
   "metadata": {},
   "source": [
    "Now, we can try the mapping again on all unique breeds => No non matchable breed remains"
   ]
  },
  {
   "cell_type": "code",
   "execution_count": null,
   "id": "bf6e2d7a",
   "metadata": {},
   "outputs": [],
   "source": [
    "df_h3_dogbreeds[\"Dog Breed\"] = df_h3_dogbreeds[\"Dog Breed\"].apply(lambda x: (difflib.get_close_matches(x, df_breed_heights[\"Dog Breed\"], cutoff=0.6)[:1] or [x])[0]) # if good match is found harmonize breed name, if not leave it\n",
    "df_h3_dogbreeds.loc[:, \"Dog Breed\"] = df_h3_dogbreeds[\"Dog Breed\"].str.strip()\n",
    "df_all_breeds_heights = pd.DataFrame({\"Dog Breed\": df_h3_dogbreeds[\"Dog Breed\"].unique()}).merge(df_breed_heights, on=\"Dog Breed\", how=\"left\")\n",
    "len(df_all_breeds_heights[df_all_breeds_heights[\"Mean Height\"].isna()])"
   ]
  },
  {
   "cell_type": "markdown",
   "id": "60eb3f5c",
   "metadata": {},
   "source": [
    "Manually comparing the two following csv's confirms that our mapping is very good this time:"
   ]
  },
  {
   "cell_type": "code",
   "execution_count": null,
   "id": "7e280a77",
   "metadata": {},
   "outputs": [],
   "source": [
    "df_h3_dogbreeds[[\"Dog Breed\"]].to_csv(os.path.join(\"hypo3_material\",\"after_second_column_matching.csv\"))\n",
    "df_h3_dogs[[\"Dog Breed\"]].to_csv(os.path.join(\"hypo3_material\",\"before_second_column_matching.csv\"))"
   ]
  },
  {
   "cell_type": "code",
   "execution_count": null,
   "id": "fc10cade",
   "metadata": {},
   "outputs": [],
   "source": [
    "# Overwrite original datacolumn\n",
    "df_h3_dogs[\"Dog Breed\"] = df_h3_dogbreeds[\"Dog Breed\"]"
   ]
  },
  {
   "cell_type": "markdown",
   "id": "c69fd3e5",
   "metadata": {},
   "source": [
    "Boxplot + Histogram: Check Mean Height per dog breed:"
   ]
  },
  {
   "cell_type": "code",
   "execution_count": null,
   "id": "afa9c48e",
   "metadata": {},
   "outputs": [],
   "source": [
    "fig, (ax_hist, ax_box) = plt.subplots(2, sharex=True, gridspec_kw={\"height_ratios\": (.60, .40)}, figsize=(12,6))\n",
    "sns.boxplot(df_all_breeds_heights, x=\"Mean Height\", width=.5, whis = 1.5, ax=ax_box)\n",
    "#sns.swarmplot(df_all_breeds_heights, x='Mean Height', size=2.65, legend=False, ax=ax_box)\n",
    "sns.histplot(df_all_breeds_heights, x=\"Mean Height\", kde=True, stat='density', ax=ax_hist)\n",
    "\n",
    "ax_box.set(yticks=[], xlabel=\"Mean Height [cm]\")\n",
    "sns.despine(ax=ax_hist)\n",
    "sns.despine(ax=ax_box, left=True)\n",
    "fig.suptitle(\"Mean Height per dog breed\", fontweight=\"bold\")"
   ]
  },
  {
   "cell_type": "markdown",
   "id": "cd8dcfcd",
   "metadata": {},
   "source": [
    "Most dog breeds are medium sized (40 <= height < 60). Roughly 25% of breeds are usually of bigger size. \n",
    "\n",
    "Distribution does not resemble a normal distribution."
   ]
  },
  {
   "cell_type": "markdown",
   "id": "d3b0b2af",
   "metadata": {},
   "source": [
    "Now, we can merge the vienna-dataframe with our height-dataframe:"
   ]
  },
  {
   "cell_type": "code",
   "execution_count": null,
   "id": "3322498f",
   "metadata": {},
   "outputs": [],
   "source": [
    "df_h3_dogs_height_merged = df_h3_dogs.merge(df_breed_heights[[\"Dog Breed\", \"Mean Height\"]], on=\"Dog Breed\", how=\"left\")\n",
    "df_h3_dogs_height_merged.head(5)"
   ]
  },
  {
   "cell_type": "markdown",
   "id": "1bf4ec03",
   "metadata": {},
   "source": [
    "Boxplot + Histogram: Height distribution across all breeds and districts [in 2024]"
   ]
  },
  {
   "cell_type": "code",
   "execution_count": null,
   "id": "acf3e230",
   "metadata": {},
   "outputs": [],
   "source": [
    "df_h3_dogs_height_exploded = df_h3_dogs_height_merged.loc[df_h3_dogs_height_merged.index.repeat(df_h3_dogs_height_merged[\"Anzahl\"])] # if Anzahl > 1, repeat entry 'Anzahl'-times\n",
    "df_h3_dogs_height_exploded = df_h3_dogs_height_exploded.reset_index(drop=True)\n",
    "fig, (ax_hist, ax_box) = plt.subplots(2, sharex=True, gridspec_kw={\"height_ratios\": (.85, .15)})\n",
    "sns.boxplot(df_h3_dogs_height_exploded[df_h3_dogs_height_exploded[\"year\"] == 2024][[\"Mean Height\"]], x=\"Mean Height\", width=.5, whis = 1.5, ax=ax_box)\n",
    "sns.histplot(df_h3_dogs_height_exploded[df_h3_dogs_height_exploded[\"year\"] == 2024][[\"Mean Height\"]], x=\"Mean Height\", kde=True, stat='density', ax=ax_hist)\n",
    "\n",
    "ax_box.set(yticks=[], xlabel=\"Height [cm]\")\n",
    "sns.despine(ax=ax_hist)\n",
    "sns.despine(ax=ax_box, left=True)\n",
    "fig.suptitle(\"Height distribution across all breeds and districts [in 2024]\", fontweight=\"bold\")"
   ]
  },
  {
   "cell_type": "markdown",
   "id": "562adddf",
   "metadata": {},
   "source": [
    "We can clearly see a tendency to two groups, a group for smaller dogs around 20 cm and one for bigger dogs around 58cm. In general, smaller dogs seem to be preferred."
   ]
  },
  {
   "cell_type": "markdown",
   "id": "e269ba34",
   "metadata": {},
   "source": [
    "Load in dataset for green spaces:\n",
    "\n",
    "* for every district it contains the size of different subareas, like green spaces, building space, body of waters."
   ]
  },
  {
   "cell_type": "code",
   "execution_count": null,
   "id": "70c4a999",
   "metadata": {},
   "outputs": [],
   "source": [
    "df_green_spaces = pd.read_csv(os.path.join(\"hypo3_material\",\"stadtgebiet_nutzungsflaechen.csv\"), sep=\";\", index_col=0)\n",
    "df_green_spaces.index = df_green_spaces.index.str.extract(r\"(\\d+)\")[0]\n",
    "df_green_spaces.index = [f\"10{nr}0\" if len(nr)==1 else f\"1{nr}0\" for nr in df_green_spaces.index.values]\n",
    "df_green_spaces.index.rename(\"Postal_CODE\", inplace=True)\n",
    "df_green_spaces = df_green_spaces.map(lambda x: x.replace(\",\",\".\"))\n",
    "df_green_spaces = df_green_spaces.replace(r\"–\",np.NaN)\n",
    "df_green_spaces[\"green ratio\"] = df_green_spaces.astype(\"float\").apply(lambda x: x[\"Grünland\"] / x.sum() *100, axis=1)\n",
    "df_green_spaces = df_green_spaces.reset_index()\n",
    "df_green_spaces[\"Postal_CODE\"] = df_green_spaces[\"Postal_CODE\"].astype(int)\n",
    "df_green_spaces.head()"
   ]
  },
  {
   "cell_type": "code",
   "execution_count": null,
   "id": "0f2d410f",
   "metadata": {},
   "outputs": [],
   "source": [
    "df_green_spaces.plot(kind=\"barh\", x=\"Postal_CODE\", y=\"green ratio\", legend=False, title=\"Ratio of green spaces in each district [2023]\")\n",
    "plt.xlabel(\"Ratio of green space out of total useable space [%]\")\n",
    "plt.ylabel(\"District\")"
   ]
  },
  {
   "cell_type": "markdown",
   "id": "61c283cc",
   "metadata": {},
   "source": [
    "I grouped the districts into two subgroups using the data from the barplot above. If the green ratio is above 20%, I count the district as a greener district."
   ]
  },
  {
   "cell_type": "code",
   "execution_count": null,
   "id": "e2584a04",
   "metadata": {},
   "outputs": [],
   "source": [
    "greener_districts = df_green_spaces[df_green_spaces[\"green ratio\"] > 20][\"Postal_CODE\"].values\n",
    "df_h3_dogs_height_exploded[\">20 % Green ratio\"] = [True if district in greener_districts else False for district in np.array(df_h3_dogs_height_exploded[\"Postal_CODE\"])]\n",
    "fig = px.box(data_frame=df_h3_dogs_height_exploded[df_h3_dogs_height_exploded[\"year\"] == 2024], \n",
    "             x='Mean Height', \n",
    "             y='Postal_CODE', \n",
    "             height=1000,\n",
    "             title=\"Height distribution across all breeds per district [in 2024]\",\n",
    "             orientation=\"h\",\n",
    "             color=\">20 % Green ratio\"\n",
    "            )\n",
    "fig.update_yaxes(title_text=\"District\")\n",
    "fig.update_yaxes(tickvals=df_h3_dogs_height_exploded[\"Postal_CODE\"].unique())\n",
    "fig.update_layout(boxgap = 0, boxgroupgap=0.4,boxmode = \"overlay\")\n",
    "fig.show()"
   ]
  },
  {
   "cell_type": "markdown",
   "id": "2ee958d6",
   "metadata": {},
   "source": [
    "Using these boxplots we can already see that the median of our greener group usually tends to be higher than for the others."
   ]
  },
  {
   "cell_type": "code",
   "execution_count": null,
   "id": "28ae0f90",
   "metadata": {},
   "outputs": [],
   "source": [
    "df_h3_heights_2024 = df_h3_dogs_height_exploded[df_h3_dogs_height_exploded[\"year\"] == 2024]\n",
    "fig, (ax_hist, ax_box, ax_box2) = plt.subplots(3, sharex=True, gridspec_kw={\"height_ratios\": (.8, .1,.1)})\n",
    "palette = sns.color_palette(\"tab10\")[:2]\n",
    "sns.boxplot(df_h3_heights_2024[df_h3_heights_2024[\">20 % Green ratio\"] == True][[\"Mean Height\"]], x=\"Mean Height\", width=.5, whis = 1.5, ax=ax_box, color=palette[1])\n",
    "sns.boxplot(df_h3_heights_2024[df_h3_heights_2024[\">20 % Green ratio\"] == False][[\"Mean Height\"]], x=\"Mean Height\", width=.5, whis = 1.5, ax=ax_box2, color=palette[0])\n",
    "sns.histplot(df_h3_heights_2024[[\">20 % Green ratio\",\"Mean Height\"]], x=\"Mean Height\", kde=True, stat='density', ax=ax_hist, hue=\">20 % Green ratio\", \n",
    "             palette=sns.set_palette(palette), multiple=\"stack\", legend=True)\n",
    "ax_box2.set(yticks=[], xlabel=\"Mean Height [cm]\")\n",
    "sns.despine(ax=ax_hist)\n",
    "sns.despine(ax=ax_box, left=True)\n",
    "sns.despine(ax=ax_box2, left=True)\n",
    "fig.suptitle(\"Height distribution across all breeds and districts [in 2024]\", fontweight=\"bold\")"
   ]
  },
  {
   "cell_type": "markdown",
   "id": "a9c14087",
   "metadata": {},
   "source": [
    "Apart from the significant difference in the total number of entries in both groups (green and not so green districts), we can see that the inner box of the greener group is shifted a bit to higher values."
   ]
  },
  {
   "cell_type": "code",
   "execution_count": null,
   "id": "26f0fd55",
   "metadata": {},
   "outputs": [],
   "source": [
    "df_h3_heights_2024 = df_h3_heights_2024.merge(df_green_spaces, on=\"Postal_CODE\")\n",
    "df_h3_heights_2024[\"Mean Height\"].corr(df_h3_heights_2024[\"green ratio\"], method='pearson')"
   ]
  },
  {
   "cell_type": "markdown",
   "id": "19187e1e",
   "metadata": {},
   "source": [
    "The calculated correlation between the mean height of dogs and their corresponding green space ratio is very weak. These variables do not seem to correlate that much, even though we can see a small increase in the median and third quartile in the previous boxplot. We probably would have to dig more into the details/subgroups to explain why this difference emerges.\n",
    "\n",
    "Using this information, I would rather dismiss the hypothesis."
   ]
  },
  {
   "cell_type": "markdown",
   "id": "ede91b90-ee3d-40c0-b2c4-4712413fe0e6",
   "metadata": {
    "id": "ede91b90-ee3d-40c0-b2c4-4712413fe0e6",
    "tags": []
   },
   "source": [
    "### E3-H4: \"Dog ownership is inversely correlated with population density in Vienna districts.\"\n",
    "Rationale: In more densely populated areas, people might have less space for pets, leading to fewer dogs being owned. Additionally, less densly populated districst might have more green space, making it more favorable to dog ownership.\n",
    "\n",
    "Data Needed: Dog ownership (Data1/Data2), Population density dataset ([Link](https://www.data.gv.at/katalog/dataset/091a085f-2652-429f-8dde-c69199440ddf))\n",
    "\n",
    "Author: Anna Punzengruber"
   ]
  },
  {
   "cell_type": "markdown",
   "id": "0a5612ab",
   "metadata": {},
   "source": [
    "##### Obtain and Scrub Dataset of Population Density in Vienna Districts"
   ]
  },
  {
   "cell_type": "markdown",
   "id": "36c4456f",
   "metadata": {},
   "source": [
    "This dataset shows the population and population density in each district of Vienna from the year 2002 to 2023.\n",
    "* NUTS | NUTS2-Region (Bundesland) DISTRICT_CODE | Gemeindebezirkskennzahl (Schema: 9BBZZ, BB=Nummer Bezirk, ZZ=00)\n",
    "\n",
    "* SUB_DISTRICT_CODE | Zählbezirkskennzahl gemäß Stadt Wien (Schema: 9BBZZ, 9=Kennzeichnung Wien, BB=Nummer Bezirk, ZZ=Nummer Zählbezirk)\n",
    "\n",
    "* REF_YEAR | Referenzjahr\n",
    "\n",
    "* REF_DATE | Referenzdatum POP_VALUE | Bevölkerungszahl zu Jahresbeginn\n",
    "\n",
    "* AREA | Fläche in km²\n",
    "\n",
    "* POP_DENSITY | Bevölkerungsdichte (Bevölkerung zu Jahresbeginn pro km²)\n",
    "\n",
    "\n",
    "Source: https://www.data.gv.at/katalog/dataset/1a48e78a-c660-41e0-ac32-8b675c0ea39c#additional-info"
   ]
  },
  {
   "cell_type": "code",
   "execution_count": null,
   "id": "049914bd",
   "metadata": {},
   "outputs": [],
   "source": [
    "#Load dataset\n",
    "#Only use columns with data with usecols (there are a lot of empty columns in the dataset)\n",
    "bev_dichte = pd.read_csv('vie-bez-biz-pop-den-2002f.csv', sep=';', skiprows=1, usecols=[0,1,2,3,4,5,6,7])\n",
    "print(\"Dataframe shape: \", bev_dichte.shape)\n",
    "bev_dichte.head(5)"
   ]
  },
  {
   "cell_type": "code",
   "execution_count": null,
   "id": "710a7064-05e8-4d52-9c1b-a6dcd143a4ae",
   "metadata": {
    "id": "710a7064-05e8-4d52-9c1b-a6dcd143a4ae"
   },
   "outputs": [],
   "source": [
    "#Some columns are redundant\n",
    "# NUTS - is the same for every row\n",
    "print(\"Number of unique values in column NUTS:\",bev_dichte['NUTS'].nunique()) \n",
    "# SUB_DISTRICT_CODE - same as district code\n",
    "print(\"Columns DISTRICT_CODE and SUB_DISTRICT_CODE are the same:\",bev_dichte['DISTRICT_CODE'].equals(bev_dichte['SUB_DISTRICT_CODE']))"
   ]
  },
  {
   "cell_type": "code",
   "execution_count": null,
   "id": "f341d228",
   "metadata": {},
   "outputs": [],
   "source": [
    "#Drop unnecessary columns:\n",
    "bev_dichte.drop(['NUTS','SUB_DISTRICT_CODE'], axis=1, inplace=True)\n",
    "bev_dichte.head()"
   ]
  },
  {
   "cell_type": "code",
   "execution_count": null,
   "id": "29d0b245",
   "metadata": {},
   "outputs": [],
   "source": [
    "#Datatypes of some of the columns aren't correct yet\n",
    "bev_dichte.dtypes.to_frame().T"
   ]
  },
  {
   "cell_type": "code",
   "execution_count": null,
   "id": "edd07ef9",
   "metadata": {},
   "outputs": [],
   "source": [
    "#Change columns to correct datatypes\n",
    "#POP_VALUE to int\n",
    "bev_dichte['POP_VALUE'] = bev_dichte['POP_VALUE'].str.replace('.', '').astype(int)\n",
    "#AREA and POP_DENSITY to float\n",
    "bev_dichte['AREA'] = bev_dichte['AREA'].str.replace(',', '.').astype(float)\n",
    "bev_dichte['POP_DENSITY'] = bev_dichte['POP_DENSITY'].str.replace(',', '.').astype(float)\n",
    "#REF_DATE to date\n",
    "bev_dichte['REF_DATE'] = pd.to_datetime(bev_dichte['REF_DATE'].astype(str), format='%Y%m%d')\n",
    "\n",
    "bev_dichte.dtypes.to_frame().T"
   ]
  },
  {
   "cell_type": "code",
   "execution_count": null,
   "id": "2973515d",
   "metadata": {},
   "outputs": [],
   "source": [
    "#Check for missing data\n",
    "print(bev_dichte.shape)\n",
    "print(((bev_dichte.isnull().sum() / len(bev_dichte)) * 100).sort_values(ascending=False))"
   ]
  },
  {
   "cell_type": "code",
   "execution_count": null,
   "id": "4efacdec",
   "metadata": {},
   "outputs": [],
   "source": [
    "#Heatmap to show all data is there\n",
    "colours = ['blue','red'] \n",
    "ax = sns.heatmap(data=bev_dichte.isnull(),cmap=sns.color_palette(colours), vmin=0, vmax=1)\n",
    "colorbar = ax.collections[0].colorbar\n",
    "\n",
    "colorbar.set_ticks([0.25,0.75])\n",
    "colorbar.set_ticklabels(['Data', 'Null'])"
   ]
  },
  {
   "cell_type": "code",
   "execution_count": null,
   "id": "b7067b84",
   "metadata": {},
   "outputs": [],
   "source": [
    "#Check if all districts are represented\n",
    "print(bev_dichte['DISTRICT_CODE'].unique())\n",
    "#Check if all years have 24 rows (so 1 value for each district + 1 row for whole of Vienna)\n",
    "bev_dichte.groupby(by=['REF_YEAR']).size()"
   ]
  },
  {
   "cell_type": "code",
   "execution_count": null,
   "id": "fa1d59bc",
   "metadata": {},
   "outputs": [],
   "source": [
    "#Check for duplicates (no duplicate rows with same year and same district code)\n",
    "bev_dichte.duplicated(subset=['DISTRICT_CODE', 'REF_YEAR']).any()"
   ]
  },
  {
   "cell_type": "markdown",
   "id": "a7a28636",
   "metadata": {},
   "source": [
    "#### Analyse the Data\n",
    "\n",
    "Now that we have the population density data for each district we can merge it with the dog data and compare it"
   ]
  },
  {
   "cell_type": "code",
   "execution_count": null,
   "id": "dd703fde",
   "metadata": {},
   "outputs": [],
   "source": [
    "#Merge population values and dog data, so we can analyse it\n",
    "df_h4_dogs_pop = dogs_2002.merge(bev_dichte, how='inner', left_on=['DISTRICT_CODE','REF_YEAR'], right_on=['DISTRICT_CODE','REF_YEAR'], suffixes=('_dogs', '_population'))\n",
    "df_h4_dogs_pop.head(10)"
   ]
  },
  {
   "cell_type": "code",
   "execution_count": null,
   "id": "9ea0e3f9",
   "metadata": {},
   "outputs": [],
   "source": [
    "#Check if all districts are still there\n",
    "print(df_h4_dogs_pop['DISTRICT_CODE'].unique())\n",
    "#Check if all years have 24 rows (so 1 value for each district + 1 row for whole of Vienna)\n",
    "print(df_h4_dogs_pop.groupby(by=['REF_YEAR']).size())"
   ]
  },
  {
   "cell_type": "code",
   "execution_count": null,
   "id": "a6b0c37e",
   "metadata": {},
   "outputs": [],
   "source": [
    "#Check for missing values in merged dataframe\n",
    "print(((df_h4_dogs_pop.isnull().sum() / len(df_h4_dogs_pop)) * 100).sort_values(ascending=False))"
   ]
  },
  {
   "cell_type": "markdown",
   "id": "4b5e3bc2",
   "metadata": {},
   "source": [
    "Now that the data is merged we can analyse it"
   ]
  },
  {
   "cell_type": "code",
   "execution_count": null,
   "id": "ee5a8218",
   "metadata": {},
   "outputs": [],
   "source": [
    "#Firstly, lets look at the number of dogs in districts over the years\n",
    "fig = px.line(dogs_2002[dogs_2002['DISTRICT_CODE']!=90000], x='REF_YEAR', y='DOG_VALUE',\n",
    "              color='Postal_CODE', markers=True,\n",
    "              width=800, height=500,\n",
    "                 labels={\n",
    "                     \"DOG_VALUE\": \"Number of Dogs\",\n",
    "                     \"REF_YEAR\": \"Year\",\n",
    "                     \"Postal_CODE\": \"Postal Code\"\n",
    "                  },\n",
    "              title='Number of Dogs in each District from 2002 to 2023')\n",
    "fig.show()"
   ]
  },
  {
   "cell_type": "code",
   "execution_count": null,
   "id": "f6136330",
   "metadata": {},
   "outputs": [],
   "source": [
    "#Plot the population density for each district\n",
    "#Need to exclude rows that show data for whole of Vienna\n",
    "df_h4_dogs_pop_dist = df_h4_dogs_pop[df_h4_dogs_pop['DISTRICT_CODE']!=90000]\n",
    "\n",
    "fig = px.scatter(df_h4_dogs_pop_dist, x='Postal_CODE', y='POP_DENSITY',\n",
    "              color='Postal_CODE',\n",
    "              hover_data='REF_YEAR',\n",
    "              width=800, height=650,\n",
    "                 labels={\n",
    "                     \"POP_DENSITY\": \"Density of Population (Population per km^2)\",\n",
    "                     \"Postal_CODE\": \"Postal Code\",\n",
    "                     \"REF_YEAR\": \"Year\"\n",
    "                  },\n",
    "              title='Population Density in each District from 2002 to 2023')\n",
    "fig.show()"
   ]
  },
  {
   "cell_type": "markdown",
   "id": "d75f2ad4",
   "metadata": {},
   "source": [
    "To find out if there is a correlation between the number of dogs and the population density we can plot the number of dogs in each district and the population density for those districts against each other"
   ]
  },
  {
   "cell_type": "code",
   "execution_count": null,
   "id": "aa88b5b6",
   "metadata": {},
   "outputs": [],
   "source": [
    "#Show the number of dogs vs the population density for the most recent year (2023)\n",
    "#Only data from 2023\n",
    "df_h4_dogs_pop_2023 = df_h4_dogs_pop_dist[df_h4_dogs_pop_dist['REF_YEAR']==2023]\n",
    "\n",
    "#Only show data for most recent year to make it clearer\n",
    "fig = px.scatter(df_h4_dogs_pop_dist[df_h4_dogs_pop_dist['REF_YEAR']==2023], \n",
    "                y='DOG_VALUE', x='POP_DENSITY',\n",
    "                hover_data='Postal_CODE',\n",
    "                 color='Postal_CODE',\n",
    "                 #text='Postal_CODE',\n",
    "                 width=800, height=700,\n",
    "                 labels={\n",
    "                     \"DOG_VALUE\": \"Number of Dogs\",\n",
    "                     \"POP_DENSITY\": \"Density of Population\",\n",
    "                     \"Postal_CODE\": \"Postal Code\"\n",
    "                 },\n",
    "              title='Density of Population vs Number of Dogs in Vienna by District in 2023')\n",
    "fig.update_traces(marker=dict(size=10))\n",
    "#fig.update_traces(textposition=label_pos)\n",
    "fig.show()"
   ]
  },
  {
   "cell_type": "markdown",
   "id": "0b20a48e",
   "metadata": {},
   "source": [
    "You can already tell that there is a negative correlation between the number of dogs and the population density in this plot, but let's plot a trendline over the data to make it more visible."
   ]
  },
  {
   "cell_type": "code",
   "execution_count": null,
   "id": "ee5f1266",
   "metadata": {},
   "outputs": [],
   "source": [
    "#Add trendline\n",
    "coeffs = np.polyfit(df_h4_dogs_pop_2023['POP_DENSITY'], df_h4_dogs_pop_2023['DOG_VALUE'], 1)\n",
    "vals = np.polyval(coeffs, df_h4_dogs_pop_2023['POP_DENSITY'])\n",
    "    \n",
    "line = px.line(x=df_h4_dogs_pop_2023['POP_DENSITY'], y=vals)\n",
    "\n",
    "fig.add_trace(line.data[0])"
   ]
  },
  {
   "cell_type": "markdown",
   "id": "7a26ae60",
   "metadata": {},
   "source": [
    "The trendline shows there is a negative correlation.\n",
    "Let's also calculate the pearson correlation coefficient:"
   ]
  },
  {
   "cell_type": "code",
   "execution_count": null,
   "id": "bf924e09",
   "metadata": {},
   "outputs": [],
   "source": [
    "df_h4_dogs_pop_dist['POP_DENSITY'].corr(df_h4_dogs_pop_dist['DOG_VALUE'], method='pearson')"
   ]
  },
  {
   "cell_type": "markdown",
   "id": "7edee46e",
   "metadata": {},
   "source": [
    "The Pearson correlation coefficient indicates a negative correlation between the data, if the value is negative. Between 0 and –0.3 there is a weak negative correlation, between –0.3 and –0.5 there is a moderate negative correlation and if the value is less than –0.5 there is a strong negative correlation. \n",
    "\n",
    "The Pearson correlation coefficient we calculated is -0.61, which means that there is a moderate to strong correlation between the population density and the number of dogs."
   ]
  },
  {
   "cell_type": "markdown",
   "id": "5da06647-b803-4ad3-8e40-b372cf7044df",
   "metadata": {
    "id": "5da06647-b803-4ad3-8e40-b372cf7044df",
    "tags": []
   },
   "source": [
    "### E3-H5: \"The number of dogs in a Viennese district correlates positively with the number of dog waste bag dispensers that district.\"\n",
    "\n",
    "Rationale: With the increasing number of dogs in Vienna, it needs to be assured that dog waste does not become an environmental or a public health issue. For this reason, it is desirable to have more dog poo bag dispensers in districts with a higher dog population. Therefore, the distribution of dog poo bag dispensers in each district is a crucial part in achieving an effective dog waste disposal. However, it remains unclear if this correlation between the dog population and number of dispensers exists or how it looks like. Understanding this relationship can help identify districts which are either underserved or overserved in terms of dog waste bag dispensers. Such insight can be taken into account for future city planning.\n",
    "\n",
    "Datasets needed: vie-bez-biz-spo-dog-2002f.csv, HUNDESACKERLOGD.json, BEZIRKSGRENZEOGD.json\n",
    "\n",
    "Further considerations: The data for the dog waste bag dispenser is up-to-date (file downloaded on 2024-10-10) for the dog data only the most recent data is considered, which is 2023. It is assumed that there is a negligible fluctuation in number and location of dispensers since 2023. Additionally, dogs and their owners are not restricted to their home district for their walks and the need for a dog poo bag dispenser.\n",
    "\n",
    "Author: Anna Till\n"
   ]
  },
  {
   "cell_type": "markdown",
   "id": "1297be0ab4f8b677",
   "metadata": {},
   "source": [
    "#### Obtain and scrub additional dataset\n",
    "Dataset: Hundekotsackerlspender Standorte Wien (Dog poo bag dispensers)\n",
    "File name: HUNDESACKERLOGD.json \n",
    "Source: https://www.data.gv.at/katalog/dataset/98908792-f315-4834-9b5e-20fed66cbe5a\n",
    "Description: Location of each dog poo bag dispenser in Vienna up-to-date.\n",
    "\n",
    "BEZ: Bezirk\n",
    "STRNAM: Straßenname\n",
    "ONRTEXT: Ordnungsnummer oder zusätzliche Lagebeschreibung\n",
    "BEMERKUNG: weitere Informationen\n",
    "ID_NR: Identifikationsnummer des Standortes"
   ]
  },
  {
   "cell_type": "code",
   "execution_count": null,
   "id": "25d727fb3fe067f9",
   "metadata": {},
   "outputs": [],
   "source": [
    "import geopandas as gpd\n",
    "\n",
    "dog_poo_bag_dispensers= gpd.read_file('HUNDESACKERLOGD.json') # load dog waste bag dispenser data\n",
    "\n",
    "# Preview and info\n",
    "print(dog_poo_bag_dispensers.info())\n",
    "print(dog_poo_bag_dispensers.head())\n",
    "\n",
    "# Missing values\n",
    "print(\"Missing values: \",dog_poo_bag_dispensers.isnull().sum())\n",
    "# missing data is irrelevant except for the district ('Bezirk') which is needed for each dispenser, which is zero\n",
    "\n",
    "# Delete duplicates\n",
    "dog_poo_bag_dispensers = dog_poo_bag_dispensers.drop_duplicates()\n",
    "\n",
    "# Check geography (and delete if invalid)\n",
    "print(\"Valid geography: \", dog_poo_bag_dispensers.geometry.is_valid.all())\n",
    "dog_poo_bag_dispensers = dog_poo_bag_dispensers[dog_poo_bag_dispensers.geometry.is_valid]\n",
    "\n",
    "# Check coordinate system\n",
    "print(\"Coordindate system: \", dog_poo_bag_dispensers.crs)"
   ]
  },
  {
   "cell_type": "markdown",
   "id": "f523d8978e27dd2e",
   "metadata": {},
   "source": [
    "#### Results:"
   ]
  },
  {
   "cell_type": "code",
   "execution_count": null,
   "id": "9f174ed8-3291-4b1e-80a3-ea441b7efc19",
   "metadata": {
    "id": "9f174ed8-3291-4b1e-80a3-ea441b7efc19"
   },
   "outputs": [],
   "source": [
    "from scipy.stats import pearsonr\n",
    "\n",
    "# Data for dog poo bag dispenser\n",
    "dispensers_by_district = dog_poo_bag_dispensers.groupby('BEZIRK').size().reset_index(name='NUMBER_DISPENSER')  # count number of dispenser per district\n",
    "\n",
    "# Dog data\n",
    "dogs = dogs_2002.copy()\n",
    "dogs['DISTRICT_CODE'] = dogs['DISTRICT_CODE'].astype(str)\n",
    "\n",
    "# Filter for the latest year\n",
    "latest_year = dogs['REF_YEAR'].max()\n",
    "dogs_year = dogs[dogs['REF_YEAR'] == latest_year]\n",
    "\n",
    "dogs_year = dogs_year.assign(BEZIRK=dogs_year['DISTRICT_CODE'].str[1:3].astype(int)) # district code has form 9BBZZ, we want only BB in order to merge\n",
    "\n",
    "# Aggregate for each district\n",
    "dogs_year = dogs_year.groupby('BEZIRK', as_index=False)[['DOG_VALUE', 'DOG_DENSITY']].sum()\n",
    "\n",
    "# Merge data for dogs with data for dispensers\n",
    "merged_data = pd.merge(dogs_year, dispensers_by_district, left_on='BEZIRK', right_on='BEZIRK', how='left')\n",
    "merged_data['NUMBER_DISPENSER'] = merged_data['NUMBER_DISPENSER'].fillna(0)\n",
    "\n",
    "# Calculation correlation and rations\n",
    "correlation, _ = pearsonr(merged_data['DOG_DENSITY'], merged_data['NUMBER_DISPENSER'])\n",
    "print(f'Pearson correlation: {correlation:.2f}')\n",
    "# Ratios\n",
    "merged_data['DOGS_TO_DISPENSER'] = merged_data['DOG_VALUE'] / merged_data['NUMBER_DISPENSER']\n",
    "merged_data['DOGS_DENS_TO_DISPENSER'] = (merged_data['DOG_DENSITY'] / merged_data['NUMBER_DISPENSER'])*100\n",
    "\n",
    "# District borders for graphical presentation\n",
    "district_borders = gpd.read_file('BEZIRKSGRENZEOGD.json')\n",
    "district_borders = district_borders.to_crs(epsg=4326)  # transform coordinates\n",
    "\n",
    "# Merge district borders with dog and dispenser data\n",
    "merged_data = district_borders.merge(merged_data, left_on='BEZNR', right_on='BEZIRK', how='left')\n",
    "\n",
    "# Scatter plot for correlation\n",
    "plt.figure(figsize=(10, 6))\n",
    "plt.scatter(merged_data['DOG_DENSITY'], merged_data['NUMBER_DISPENSER'], color='blue')\n",
    "sns.regplot(x='DOG_DENSITY', y='NUMBER_DISPENSER', data=merged_data, scatter=False, ax=plt.gca(), color='red') # adds fit to plot\n",
    "plt.xlabel('Dog Density (Dogs per 1000 People)')\n",
    "plt.ylabel('Number of Dog Poo Bag Dispensers')\n",
    "plt.title(f'Correlation between Dog Density and Number of Dog Poo Bag Dispensers ({latest_year})')\n",
    "plt.grid()\n",
    "plt.show()\n",
    "\n",
    "# Maps with analysis of correlation in each district\n",
    "fig, (ax1, ax2) = plt.subplots(1, 2, figsize=(20, 10))\n",
    "merged_data.boundary.plot(ax=ax1, color='black')  # plot district borders\n",
    "merged_data.boundary.plot(ax=ax2, color='black')    \n",
    "fig.suptitle(f'Analysis of Dogs and Poo Bag Dispensers in Viennese Districts for {latest_year}', fontsize=16)\n",
    "\n",
    "# First map: absloute number of dogs\n",
    "merged_data.plot(column='DOGS_TO_DISPENSER', ax=ax1, legend=True, cmap='viridis', edgecolor='black', alpha=0.5, legend_kwds={'orientation': \"horizontal\", 'label': \"number of dogs / number of dispensers\", 'shrink': 0.8})\n",
    "ax1.set_title('Ratio: Number of dogs to number of poo bag dispensers')\n",
    "ax1.set_xlabel('Longitude [degrees]')\n",
    "ax1.set_ylabel('Latitude [degrees]')\n",
    "\n",
    "for idx, row in merged_data.iterrows():  # ratio in each district in plot\n",
    "    point = row.geometry.representative_point() \n",
    "    ax1.text(point.x, point.y, f'{int(round(row[\"DOGS_TO_DISPENSER\"]))}', fontsize=10, ha='center', va='center', color='black')\n",
    "\n",
    "# Second map: dog density per 1000 pop\n",
    "merged_data.plot(column='DOGS_DENS_TO_DISPENSER', ax=ax2, legend=True, cmap='viridis', edgecolor='black', alpha=0.5,\n",
    "                 legend_kwds={'orientation': \"horizontal\", 'label': \"dog density / number of dispensers\", 'shrink': 0.8})\n",
    "ax2.set_title('Ratio: Dog density to number of poo bag dispensers')\n",
    "ax2.set_xlabel('Longitude [degrees]')\n",
    "ax2.set_ylabel('Latitude [degrees]')\n",
    "for idx, row in merged_data.iterrows():\n",
    "    point = row.geometry.representative_point() \n",
    "    ax2.text(point.x, point.y, f'{row[\"DOGS_DENS_TO_DISPENSER\"]:.2f}', fontsize=10, ha='center', va='center', color='black')\n",
    "\n",
    "plt.tight_layout()\n",
    "plt.show()\n",
    "\n",
    "# categorization\n",
    "# low, medium, high\n",
    "def categorize(value):\n",
    "    if value <= merged_data['DOGS_DENS_TO_DISPENSER'].quantile(1/3):\n",
    "        return 'Low'\n",
    "    elif value <= merged_data['DOGS_DENS_TO_DISPENSER'].quantile(2/3):\n",
    "        return 'Medium'\n",
    "    else:\n",
    "        return 'High'\n",
    "\n",
    "merged_data['CATEGORY_DOG_TO_BAG'] = merged_data['DOGS_DENS_TO_DISPENSER'].apply(categorize)\n",
    "\n",
    "fig, ax = plt.subplots(1, 1, figsize=(12, 12))\n",
    "merged_data.boundary.plot(ax=ax, color='black')\n",
    "merged_data.plot(column='CATEGORY_DOG_TO_BAG', ax=ax, legend=True, cmap='Set1', edgecolor='black', alpha=0.5)\n",
    "ax.set_title(f'Categorization: Dog Density per 1000 people to Dog Poo Bag Dispenser ({latest_year})')\n",
    "ax.set_xlabel('Longitude [degrees]')\n",
    "ax.set_ylabel('Latitude [degrees]')\n",
    "for idx, row in merged_data.iterrows():\n",
    "    point = row.geometry.representative_point()\n",
    "    ax.text(point.x, point.y, row['BEZ_RZ'], fontsize=10, ha='center', va='center', color='black')\n",
    "\n",
    "plt.tight_layout()\n",
    "plt.show()"
   ]
  },
  {
   "cell_type": "markdown",
   "id": "4bf28ebf5f6298df",
   "metadata": {},
   "source": [
    "#### Answer:\n",
    "The Pearson correlation coefficient of 0.70 indicates a positive correlation between the number of dogs and of dispensers in a district. Which means, that indeed in districts with a higher dog population also a higher number of dog poo bag dispensers is installed. However, in the scatter plot (\"Correlation between Dog Density and Number of Dog Poo Bag Dispensers (2023)\") it can be seen that there are some outliers despite the correlation depicted by the trend line.\n",
    "\n",
    "Another aspect is the comparison (\"Analysis of Dogs and Poo Bag Dispensers in Viennese Districts for 2023\") between the ratios of the number of dogs per dog waste bag dispenser in each district and of the density of dogs per dispenser, which takes also population density into account. The direct comparison between the absolute numbers - dogs per dispenser - suggests that a higher ratio may need a more frequent refill, assuming one waste bag per dog poo. As displayed in the results (\"Ratio: Number of dogs to number of poo bag dispensers\") this is the case especially in the outer districts of Vienna. Whereas, the broader context of the dog density per dog waste bag dispenser, normalizing the number of dogs against the population, implies whether there are enough dispensers available for each resident (regardless if or how many dogs they own). In this case, the results (\"Ratio: Dog density to number of poo bag dispensers\") show a different picture than for the direct ratio. Here, the inner districts of Vienna are affected the most by having the higher dog density to dispenser ratio. For instance, the first district, \"Innere Stadt\", has a rather low number of dogs per dispenser. However, value of the dog density to dispensers is exceedingly high compared to other districts. \n",
    "\n",
    "Finally, the map \"Categorization: Dog Density per 1000 people to Dog Poo Bag Dispenser (2023)\" provides a further investigation of dog density per dispenser by categorizing the districts into \"high\", \"medium\" and \"low\" based on tertiles. It can be seen at glance that the innermost districts might profit most from additional dog waste bag dispensers with respect to each resident.\n",
    "\n",
    "In summary, there is a correlation between the dog population and the number of dog waste bag dispensers. The number of dogs per dispenser is larger in the outer districts of Vienna, whereas when also taking the population per district into account, the picture reverses."
   ]
  },
  {
   "cell_type": "markdown",
   "id": "5e128df06ac2f4e6",
   "metadata": {},
   "source": [
    "### E3-H6: \"xxx\"\n",
    "Author: Group member 6\n"
   ]
  },
  {
   "cell_type": "code",
   "execution_count": null,
   "id": "69813a6c37b3e54d",
   "metadata": {},
   "outputs": [],
   "source": []
  }
 ],
 "metadata": {
  "colab": {
   "provenance": []
  },
  "kernelspec": {
   "display_name": "Python 3 (ipykernel)",
   "language": "python",
   "name": "python3"
  },
  "language_info": {
   "codemirror_mode": {
    "name": "ipython",
    "version": 3
   },
   "file_extension": ".py",
   "mimetype": "text/x-python",
   "name": "python",
   "nbconvert_exporter": "python",
   "pygments_lexer": "ipython3",
   "version": "3.12.3"
  },
  "nbdime-conflicts": {
   "local_diff": [
    {
     "diff": [
      {
       "diff": [
        {
         "diff": [
          {
           "key": 5,
           "op": "addrange",
           "valuelist": "7"
          },
          {
           "key": 5,
           "length": 1,
           "op": "removerange"
          }
         ],
         "key": 0,
         "op": "patch"
        }
       ],
       "key": "version",
       "op": "patch"
      }
     ],
     "key": "language_info",
     "op": "patch"
    }
   ],
   "remote_diff": [
    {
     "diff": [
      {
       "diff": [
        {
         "key": 0,
         "length": 1,
         "op": "removerange"
        }
       ],
       "key": "version",
       "op": "patch"
      }
     ],
     "key": "language_info",
     "op": "patch"
    }
   ]
  }
 },
 "nbformat": 4,
 "nbformat_minor": 5
}
