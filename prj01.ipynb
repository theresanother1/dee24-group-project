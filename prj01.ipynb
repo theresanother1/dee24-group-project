{
 "cells": [
  {
   "cell_type": "markdown",
   "id": "e12ece56-fcd4-4665-bf8b-773b5e8c789d",
   "metadata": {
    "id": "e12ece56-fcd4-4665-bf8b-773b5e8c789d",
    "tags": []
   },
   "source": [
    "# Project 1 - Data Engineering\n",
    "## 2 Data Exploration and Analysis\n",
    "This notebook is for the implementation of task \"2 Data Exploration and Analysis\", as listed in the **Project Instructions**."
   ]
  },
  {
   "cell_type": "markdown",
   "id": "45dfc955-b808-45ff-b0d8-c2425da31416",
   "metadata": {
    "id": "45dfc955-b808-45ff-b0d8-c2425da31416"
   },
   "source": [
    "<div class=\"alert alert-success\">\n",
    "<b>Overview:</b><br>\n",
    "Data Exploration and Analysis consists of the following parts worth 70 points:\n",
    "<ul>\n",
    "    <li><b>E1 - Obtain and Scrub</b> (15 points)</li>\n",
    "    <li><b>E2 - Exploratory data analysis (EDA) </b>(20 points)</li>\n",
    "    <li><b>E3 - Formulate hypotheses </b>(25 points)</li>\n",
    "    <li><b>Follow the guidelines for Data Exploration and Analysis below </b>(10 points)</li>\n",
    "</ul></div>"
   ]
  },
  {
   "cell_type": "markdown",
   "id": "3c8a055f",
   "metadata": {
    "id": "3c8a055f"
   },
   "source": [
    "<div class=\"alert alert-success\">\n",
    "<b>Guidelines for Data Exploration and Analysis:</b><br>\n",
    "    <ol>\n",
    "        <li>Use a single Jupyer notebook for your project.</li>\n",
    "        <li>Use only Python-code for your project.</li>\n",
    "        <li>The use of automatic and semi-automatic data analyis tools is not allowed (e. g., PandasGUI, D-Tale, Mito, etc.). Only use packages we used in the coded lectures.</li>\n",
    "        <li>Export your environment for submission as 'prj01-environment.txt'.</li>\n",
    "        <li>Upload your resulting work as a zip file containing only a single jupyter notebook and required files to run the notebook. All cell outputs and <b>figures must display in jupyter lab</b>. (Test this, in particular when you use another environment like VS Code.)</li>\n",
    "        <li>All code cells in your notebook must be runnable without errors or warnings (e. g., deprecated functions). Each error/warning subtracts -2 points (up to the full 10 points for following the  guidelines).</li>\n",
    "        <li>Use only relative paths in your project.</li>\n",
    "        <li>Avoid (excessive) code duplication.</li>\n",
    "        <li>Avoid loops iterating over pandas objects (Series, DataFrames). Explicitly justify each exception via a comment. </li>\n",
    "        <li>All coded steps in your analysis must be commented.</li>\n",
    "        <li>Keep your code as well as outputs short, precise and readable. Each long or unnecessary output subtracts -2 points (up to the full 10 points for following the project guidelines).</li>\n",
    "    </ol>\n",
    "    <b>Late submissions are not accepted and earn you 0 points on the python project. </b>\n",
    "</div>"
   ]
  },
  {
   "cell_type": "markdown",
   "id": "ea992ba9-f942-445d-a515-16dc32837466",
   "metadata": {
    "id": "ea992ba9-f942-445d-a515-16dc32837466"
   },
   "source": [
    "Explicitly list which notebook toolset was used (jupyter lab/jupyter notebook/VS Code/etc.)\n",
    "\n",
    "**here**: MY_TOOL, MY_BROWSER"
   ]
  },
  {
   "cell_type": "markdown",
   "id": "92f63424-1d61-4b8b-94a6-f50afea65d79",
   "metadata": {
    "id": "92f63424-1d61-4b8b-94a6-f50afea65d79",
    "tags": []
   },
   "source": [
    "Explicitly and clearly state the chosen dataset number and title:\n",
    "### Bevölkerung ODÖ Hunde\n",
    "## Hunde pro Bezirk Wien, Hunderassen Wien, Hundebestand seit 2002 - Bezirke Wien\n"
   ]
  },
  {
   "cell_type": "markdown",
   "id": "0999a549-323a-4537-963f-3a1a746b77fd",
   "metadata": {
    "id": "0999a549-323a-4537-963f-3a1a746b77fd"
   },
   "source": [
    "## E1 - Obtain and Scrub"
   ]
  },
  {
   "cell_type": "markdown",
   "id": "937713cc-715f-4930-ae10-ebeeaec55685",
   "metadata": {
    "id": "937713cc-715f-4930-ae10-ebeeaec55685"
   },
   "source": [
    "### Obtain\n",
    "Download the dataset and understand both:\n",
    "- format: wide vs. long, separaters, decimal points, encoding, etc., and\n",
    "- content: what variables are in the columns, what is their meaning?\n",
    "To this end, identify and download metadata such as headers, category listings, explanatory reports, etc.\n",
    "### Scrub\n",
    "The aim of scrub is to create a clean version of the data for further analysis.\n",
    "- Load the dataset and take care of dtypes (dates, numbers, categories, etc.). Justify why you don't load/use specific columns.\n",
    "- Check for footnotes or any other notifications on special cell content, such as time series breaks. Follow up that information, and document your decision how to deal with it. Remember: A homework contained such info in the cell \"76.1 b\". The metadata defines what that \"b\" stands for.\n",
    "- Choose an appropriate (Multi-)Index.\n",
    "- Identify:\n",
    "    1. missing values and get row and column overviews. Use graphical and/or numeric approaches. Once identified, handle missing values according to column type, time series property and data set size.\n",
    "    2. duplicates (justify the used column subset). Remove duplicates - if any - and inspect what you removed.\n",
    "- Transform to shape (tidy vs. wide) best suited for further analysis.\n",
    "- Export the clean data to a file for inspection with an external data browser (e.g., MS Excel).\n",
    "- Provide an overview of the clean dataset:\n",
    "    1. show the dtypes\n",
    "    2. quantitative column descriptions:\n",
    "        1. categorical columns: number of unique values, counts\n",
    "        2. numeric columns: range and median"
   ]
  },
  {
   "cell_type": "code",
   "execution_count": 59,
   "id": "5417f795-37f5-4c57-bdbe-36c1a00fedfe",
   "metadata": {
    "id": "5417f795-37f5-4c57-bdbe-36c1a00fedfe"
   },
   "outputs": [],
   "source": [
    "# Importing necessary packages:\n",
    "import pandas as pd\n",
    "import numpy as np\n",
    "import plotly.express as px\n",
    "import plotly.io as pio\n",
    "import matplotlib.pyplot as plt\n",
    "import matplotlib.colors as mcolors\n",
    "from matplotlib import colormaps\n",
    "import geopandas as gpd"
   ]
  },
  {
   "cell_type": "markdown",
   "id": "zmdvK0BezPWW",
   "metadata": {
    "id": "zmdvK0BezPWW"
   },
   "source": [
    "## 1) Obtain the datasets and scrub data\n"
   ]
  },
  {
   "cell_type": "markdown",
   "id": "CM15Z24i0wnM",
   "metadata": {
    "id": "CM15Z24i0wnM"
   },
   "source": [
    "#### 1) Dataset 1\n",
    "Number of dogs (absolute and per 1,000 inhabitants) since 2002 - districts of Vienna\n",
    " \t* NUTS | NUTS2-Region (Bundesland)\n",
    "  * DISTRICT_CODE | Gemeindebezirkskennzahl (Schema: 9BBZZ, BB=Nummer Bezirk, ZZ=00)\n",
    "  * SUB_DISTRICT_CODE | Zählbezirkskennzahl gemäß Stadt Wien (Schema: 9BBZZ, 9=Kennzeichnung Wien, BB=Nummer Bezirk, ZZ=Nummer Zählbezirk, **ZZ=99 bei fehlender Zählbezirkskennzeichnung**)\n",
    "  * REF_YEAR | Referenzjahr\n",
    "  * REF_DATE | Referenzdatum\n",
    "  * DOG_VALUE | Anzahl der Hunde (absolut)\n",
    "  * DOG_DENSITY | Anzahl der Hunde pro 1.000 EinwohnerInnen\n",
    "\n",
    "Source: https://www.data.gv.at/katalog/dataset/1a48e78a-c660-41e0-ac32-8b675c0ea39c#additional-info\n",
    "\n",
    "   TODO: add more description?"
   ]
  },
  {
   "cell_type": "markdown",
   "id": "SqP0q91O-iim",
   "metadata": {
    "id": "SqP0q91O-iim"
   },
   "source": [
    "##### Obtain"
   ]
  },
  {
   "cell_type": "code",
   "execution_count": 60,
   "id": "cc301dcd",
   "metadata": {},
   "outputs": [
    {
     "name": "stdout",
     "output_type": "stream",
     "text": [
      "Dataframe shape:  (528, 17)\n"
     ]
    },
    {
     "data": {
      "text/html": [
       "<div>\n",
       "<style scoped>\n",
       "    .dataframe tbody tr th:only-of-type {\n",
       "        vertical-align: middle;\n",
       "    }\n",
       "\n",
       "    .dataframe tbody tr th {\n",
       "        vertical-align: top;\n",
       "    }\n",
       "\n",
       "    .dataframe thead th {\n",
       "        text-align: right;\n",
       "    }\n",
       "</style>\n",
       "<table border=\"1\" class=\"dataframe\">\n",
       "  <thead>\n",
       "    <tr style=\"text-align: right;\">\n",
       "      <th></th>\n",
       "      <th>NUTS</th>\n",
       "      <th>DISTRICT_CODE</th>\n",
       "      <th>SUB_DISTRICT_CODE</th>\n",
       "      <th>REF_YEAR</th>\n",
       "      <th>REF_DATE</th>\n",
       "      <th>DOG_VALUE</th>\n",
       "      <th>DOG_DENSITY</th>\n",
       "      <th>Unnamed: 7</th>\n",
       "      <th>Unnamed: 8</th>\n",
       "      <th>Unnamed: 9</th>\n",
       "      <th>Unnamed: 10</th>\n",
       "      <th>Unnamed: 11</th>\n",
       "      <th>Unnamed: 12</th>\n",
       "      <th>Unnamed: 13</th>\n",
       "      <th>Unnamed: 14</th>\n",
       "      <th>Unnamed: 15</th>\n",
       "      <th>Unnamed: 16</th>\n",
       "    </tr>\n",
       "  </thead>\n",
       "  <tbody>\n",
       "    <tr>\n",
       "      <th>0</th>\n",
       "      <td>AT13</td>\n",
       "      <td>90000</td>\n",
       "      <td>90000</td>\n",
       "      <td>2002</td>\n",
       "      <td>20020101</td>\n",
       "      <td>46.933</td>\n",
       "      <td>29,87</td>\n",
       "      <td>NaN</td>\n",
       "      <td>NaN</td>\n",
       "      <td>NaN</td>\n",
       "      <td>NaN</td>\n",
       "      <td>NaN</td>\n",
       "      <td>NaN</td>\n",
       "      <td>NaN</td>\n",
       "      <td>NaN</td>\n",
       "      <td>NaN</td>\n",
       "      <td>NaN</td>\n",
       "    </tr>\n",
       "    <tr>\n",
       "      <th>1</th>\n",
       "      <td>AT13</td>\n",
       "      <td>90100</td>\n",
       "      <td>90100</td>\n",
       "      <td>2002</td>\n",
       "      <td>20020101</td>\n",
       "      <td>542.000</td>\n",
       "      <td>30,74</td>\n",
       "      <td>NaN</td>\n",
       "      <td>NaN</td>\n",
       "      <td>NaN</td>\n",
       "      <td>NaN</td>\n",
       "      <td>NaN</td>\n",
       "      <td>NaN</td>\n",
       "      <td>NaN</td>\n",
       "      <td>NaN</td>\n",
       "      <td>NaN</td>\n",
       "      <td>NaN</td>\n",
       "    </tr>\n",
       "    <tr>\n",
       "      <th>2</th>\n",
       "      <td>AT13</td>\n",
       "      <td>90200</td>\n",
       "      <td>90200</td>\n",
       "      <td>2002</td>\n",
       "      <td>20020101</td>\n",
       "      <td>2.251</td>\n",
       "      <td>25,29</td>\n",
       "      <td>NaN</td>\n",
       "      <td>NaN</td>\n",
       "      <td>NaN</td>\n",
       "      <td>NaN</td>\n",
       "      <td>NaN</td>\n",
       "      <td>NaN</td>\n",
       "      <td>NaN</td>\n",
       "      <td>NaN</td>\n",
       "      <td>NaN</td>\n",
       "      <td>NaN</td>\n",
       "    </tr>\n",
       "    <tr>\n",
       "      <th>3</th>\n",
       "      <td>AT13</td>\n",
       "      <td>90300</td>\n",
       "      <td>90300</td>\n",
       "      <td>2002</td>\n",
       "      <td>20020101</td>\n",
       "      <td>1.904</td>\n",
       "      <td>23,16</td>\n",
       "      <td>NaN</td>\n",
       "      <td>NaN</td>\n",
       "      <td>NaN</td>\n",
       "      <td>NaN</td>\n",
       "      <td>NaN</td>\n",
       "      <td>NaN</td>\n",
       "      <td>NaN</td>\n",
       "      <td>NaN</td>\n",
       "      <td>NaN</td>\n",
       "      <td>NaN</td>\n",
       "    </tr>\n",
       "    <tr>\n",
       "      <th>4</th>\n",
       "      <td>AT13</td>\n",
       "      <td>90400</td>\n",
       "      <td>90400</td>\n",
       "      <td>2002</td>\n",
       "      <td>20020101</td>\n",
       "      <td>615.000</td>\n",
       "      <td>21,23</td>\n",
       "      <td>NaN</td>\n",
       "      <td>NaN</td>\n",
       "      <td>NaN</td>\n",
       "      <td>NaN</td>\n",
       "      <td>NaN</td>\n",
       "      <td>NaN</td>\n",
       "      <td>NaN</td>\n",
       "      <td>NaN</td>\n",
       "      <td>NaN</td>\n",
       "      <td>NaN</td>\n",
       "    </tr>\n",
       "  </tbody>\n",
       "</table>\n",
       "</div>"
      ],
      "text/plain": [
       "   NUTS  DISTRICT_CODE  SUB_DISTRICT_CODE  REF_YEAR  REF_DATE  DOG_VALUE  \\\n",
       "0  AT13          90000              90000      2002  20020101     46.933   \n",
       "1  AT13          90100              90100      2002  20020101    542.000   \n",
       "2  AT13          90200              90200      2002  20020101      2.251   \n",
       "3  AT13          90300              90300      2002  20020101      1.904   \n",
       "4  AT13          90400              90400      2002  20020101    615.000   \n",
       "\n",
       "  DOG_DENSITY  Unnamed: 7  Unnamed: 8  Unnamed: 9  Unnamed: 10  Unnamed: 11  \\\n",
       "0      29,87          NaN         NaN         NaN          NaN          NaN   \n",
       "1      30,74          NaN         NaN         NaN          NaN          NaN   \n",
       "2      25,29          NaN         NaN         NaN          NaN          NaN   \n",
       "3      23,16          NaN         NaN         NaN          NaN          NaN   \n",
       "4      21,23          NaN         NaN         NaN          NaN          NaN   \n",
       "\n",
       "   Unnamed: 12  Unnamed: 13  Unnamed: 14  Unnamed: 15  Unnamed: 16  \n",
       "0          NaN          NaN          NaN          NaN          NaN  \n",
       "1          NaN          NaN          NaN          NaN          NaN  \n",
       "2          NaN          NaN          NaN          NaN          NaN  \n",
       "3          NaN          NaN          NaN          NaN          NaN  \n",
       "4          NaN          NaN          NaN          NaN          NaN  "
      ]
     },
     "execution_count": 60,
     "metadata": {},
     "output_type": "execute_result"
    }
   ],
   "source": [
    "# Import the first data set\n",
    "dogs_2002 = pd.read_csv(\"vie-bez-biz-spo-dog-2002f.csv\", sep=';', skiprows=1)\n",
    "print(\"Dataframe shape: \", dogs_2002.shape)\n",
    "dogs_2002.head(5)"
   ]
  },
  {
   "cell_type": "markdown",
   "id": "cYHcuGm_0vRs",
   "metadata": {
    "id": "cYHcuGm_0vRs"
   },
   "source": [
    "* The separator is ';'.\n",
    "* The encoding is 'utf-8'.\n",
    "* The original shape is (528, 17) - but many columns full of NaNs (later: cleaned up data => shape=(528, 7)).\n",
    "* Long format:  \n",
    "  * Contains entries for years by district of overall dog density sorted by years.\n",
    "  * each row represents a single observation of district by year and dog breeds\n",
    "* The first row contains the csv title. It is dropped and the second row is used for column titles.\n",
    "* First column 'NUTS' (= identification and classification system for european states) contains always the same value, since 'AT13' stands for Vienna (and we only have data for Vienna in this dataset). We could drop it, but it also doesn't bother us too much right now\n",
    "\n"
   ]
  },
  {
   "cell_type": "markdown",
   "id": "PMX1AMbE-nAF",
   "metadata": {
    "id": "PMX1AMbE-nAF"
   },
   "source": [
    "##### Scrub"
   ]
  },
  {
   "cell_type": "code",
   "execution_count": 61,
   "id": "3685b415",
   "metadata": {},
   "outputs": [
    {
     "data": {
      "text/plain": [
       "Unnamed: 7           100.0\n",
       "Unnamed: 15          100.0\n",
       "Unnamed: 8           100.0\n",
       "Unnamed: 14          100.0\n",
       "Unnamed: 13          100.0\n",
       "Unnamed: 12          100.0\n",
       "Unnamed: 11          100.0\n",
       "Unnamed: 10          100.0\n",
       "Unnamed: 9           100.0\n",
       "Unnamed: 16          100.0\n",
       "NUTS                   0.0\n",
       "DOG_VALUE              0.0\n",
       "DOG_DENSITY            0.0\n",
       "SUB_DISTRICT_CODE      0.0\n",
       "DISTRICT_CODE          0.0\n",
       "REF_YEAR               0.0\n",
       "REF_DATE               0.0\n",
       "dtype: float64"
      ]
     },
     "execution_count": 61,
     "metadata": {},
     "output_type": "execute_result"
    }
   ],
   "source": [
    "# check columns and their missing data ratio\n",
    "((dogs_2002.isnull().sum() / len(dogs_2002)) * 100).sort_values(ascending=False)"
   ]
  },
  {
   "cell_type": "code",
   "execution_count": 62,
   "id": "4a5762f0",
   "metadata": {},
   "outputs": [
    {
     "name": "stdout",
     "output_type": "stream",
     "text": [
      "Dataframe shape:  (528, 7)\n"
     ]
    }
   ],
   "source": [
    "# drop all cols with NaN --> lots because of multiple 'unnecessary' seperators ';' in last columns\n",
    "# other columns have no missing values\n",
    "dogs_2002 = dogs_2002.dropna(axis=1, how='any')\n",
    "print(\"Dataframe shape: \", dogs_2002.shape)"
   ]
  },
  {
   "cell_type": "code",
   "execution_count": 63,
   "id": "PPMkfTio-dM1",
   "metadata": {
    "colab": {
     "base_uri": "https://localhost:8080/"
    },
    "id": "PPMkfTio-dM1",
    "outputId": "d71ebb33-3561-46d0-a5c9-232b19d34e3f"
   },
   "outputs": [
    {
     "name": "stdout",
     "output_type": "stream",
     "text": [
      "NUTS                  object\n",
      "DISTRICT_CODE          int64\n",
      "SUB_DISTRICT_CODE      int64\n",
      "REF_YEAR               int64\n",
      "REF_DATE               int64\n",
      "DOG_VALUE            float64\n",
      "DOG_DENSITY           object\n",
      "dtype: object\n"
     ]
    }
   ],
   "source": [
    "print(dogs_2002.dtypes)"
   ]
  },
  {
   "cell_type": "markdown",
   "id": "C17S4bNNA_Kj",
   "metadata": {
    "id": "C17S4bNNA_Kj"
   },
   "source": [
    "Change DOG_DENSITY to use '.' instead of ',' and the format to float to be able to calculate with it, if needed.\n",
    "\n",
    "Change REF_DATE to format datetime since its currently int64."
   ]
  },
  {
   "cell_type": "code",
   "execution_count": 64,
   "id": "O_UvJZKM_Hba",
   "metadata": {
    "id": "O_UvJZKM_Hba"
   },
   "outputs": [],
   "source": [
    "dogs_2002['DOG_DENSITY'] = dogs_2002['DOG_DENSITY'].str.replace(',', '.').astype(float)\n",
    "dogs_2002['REF_DATE'] = pd.to_datetime(dogs_2002['REF_DATE'].astype(str), format='%Y%m%d')"
   ]
  },
  {
   "cell_type": "code",
   "execution_count": 65,
   "id": "u8LNjDOZ_6LA",
   "metadata": {
    "colab": {
     "base_uri": "https://localhost:8080/",
     "height": 275
    },
    "id": "u8LNjDOZ_6LA",
    "outputId": "56ce61ba-57c2-45bb-c4ee-08bccb4b1388"
   },
   "outputs": [
    {
     "name": "stdout",
     "output_type": "stream",
     "text": [
      "NUTS                         object\n",
      "DISTRICT_CODE                 int64\n",
      "SUB_DISTRICT_CODE             int64\n",
      "REF_YEAR                      int64\n",
      "REF_DATE             datetime64[ns]\n",
      "DOG_VALUE                   float64\n",
      "DOG_DENSITY                 float64\n",
      "dtype: object\n"
     ]
    },
    {
     "data": {
      "text/html": [
       "<div>\n",
       "<style scoped>\n",
       "    .dataframe tbody tr th:only-of-type {\n",
       "        vertical-align: middle;\n",
       "    }\n",
       "\n",
       "    .dataframe tbody tr th {\n",
       "        vertical-align: top;\n",
       "    }\n",
       "\n",
       "    .dataframe thead th {\n",
       "        text-align: right;\n",
       "    }\n",
       "</style>\n",
       "<table border=\"1\" class=\"dataframe\">\n",
       "  <thead>\n",
       "    <tr style=\"text-align: right;\">\n",
       "      <th></th>\n",
       "      <th>NUTS</th>\n",
       "      <th>DISTRICT_CODE</th>\n",
       "      <th>SUB_DISTRICT_CODE</th>\n",
       "      <th>REF_YEAR</th>\n",
       "      <th>REF_DATE</th>\n",
       "      <th>DOG_VALUE</th>\n",
       "      <th>DOG_DENSITY</th>\n",
       "    </tr>\n",
       "  </thead>\n",
       "  <tbody>\n",
       "    <tr>\n",
       "      <th>0</th>\n",
       "      <td>AT13</td>\n",
       "      <td>90000</td>\n",
       "      <td>90000</td>\n",
       "      <td>2002</td>\n",
       "      <td>2002-01-01</td>\n",
       "      <td>46.933</td>\n",
       "      <td>29.87</td>\n",
       "    </tr>\n",
       "    <tr>\n",
       "      <th>1</th>\n",
       "      <td>AT13</td>\n",
       "      <td>90100</td>\n",
       "      <td>90100</td>\n",
       "      <td>2002</td>\n",
       "      <td>2002-01-01</td>\n",
       "      <td>542.000</td>\n",
       "      <td>30.74</td>\n",
       "    </tr>\n",
       "  </tbody>\n",
       "</table>\n",
       "</div>"
      ],
      "text/plain": [
       "   NUTS  DISTRICT_CODE  SUB_DISTRICT_CODE  REF_YEAR   REF_DATE  DOG_VALUE  \\\n",
       "0  AT13          90000              90000      2002 2002-01-01     46.933   \n",
       "1  AT13          90100              90100      2002 2002-01-01    542.000   \n",
       "\n",
       "   DOG_DENSITY  \n",
       "0        29.87  \n",
       "1        30.74  "
      ]
     },
     "execution_count": 65,
     "metadata": {},
     "output_type": "execute_result"
    }
   ],
   "source": [
    "print(dogs_2002.dtypes)\n",
    "dogs_2002.head(2)"
   ]
  },
  {
   "cell_type": "markdown",
   "id": "RSZJCWbVDdm_",
   "metadata": {
    "id": "RSZJCWbVDdm_"
   },
   "source": [
    "District Code and Sub District Code are the same --> removing Sub District Code:"
   ]
  },
  {
   "cell_type": "code",
   "execution_count": 66,
   "id": "0ElC1KTTCTrW",
   "metadata": {
    "colab": {
     "base_uri": "https://localhost:8080/"
    },
    "id": "0ElC1KTTCTrW",
    "outputId": "363fd93d-c1d0-4c8c-bedc-489e3c407c54"
   },
   "outputs": [
    {
     "name": "stdout",
     "output_type": "stream",
     "text": [
      "(array([ True]), array([528]))\n"
     ]
    }
   ],
   "source": [
    "# only execute if not already done (avoids errors)\n",
    "if 'SUB_DISTRICT_CODE' in dogs_2002.columns:\n",
    "    print(np.unique([dogs_2002['DISTRICT_CODE'] == dogs_2002['SUB_DISTRICT_CODE']], return_counts=True)) # check that columns are actually the same\n",
    "    dogs_2002.drop(columns=['SUB_DISTRICT_CODE'], inplace=True)"
   ]
  },
  {
   "cell_type": "markdown",
   "id": "KP8umAEWEaKh",
   "metadata": {
    "id": "KP8umAEWEaKh"
   },
   "source": [
    "Check for duplicates --> looks good:"
   ]
  },
  {
   "cell_type": "code",
   "execution_count": 67,
   "id": "4c954974",
   "metadata": {},
   "outputs": [
    {
     "data": {
      "text/plain": [
       "np.False_"
      ]
     },
     "execution_count": 67,
     "metadata": {},
     "output_type": "execute_result"
    }
   ],
   "source": [
    "dogs_2002.duplicated(subset=['DISTRICT_CODE', 'REF_YEAR']).any()"
   ]
  },
  {
   "cell_type": "markdown",
   "id": "Yb9o7VSC3PmW",
   "metadata": {
    "id": "Yb9o7VSC3PmW"
   },
   "source": [
    "#### Dataset 2\n",
    "  Number of registered dogs in Vienna per district and dog breed in the year 2024.\n",
    "\n",
    "  * NUTS1 NUTS2 NUTS3: same as before, but NUTS3 in addition: provides district information for Vienna\n",
    "  * DISTRICT_CODE: same structure as before\n",
    "  * SUB_DISTRICT_CODE\n",
    "  * Postal_CODE\n",
    "  * Dog Breed\n",
    "  * Anzahl\n",
    "  * Ref_Date\n",
    "\n",
    "Source: https://www.data.gv.at/katalog/dataset/71edef44-9d6c-4042-ab71-7207dc930ba7#additional-info"
   ]
  },
  {
   "cell_type": "markdown",
   "id": "o3r727dnBgMa",
   "metadata": {
    "id": "o3r727dnBgMa"
   },
   "source": [
    "##### Obtain"
   ]
  },
  {
   "cell_type": "code",
   "execution_count": 68,
   "id": "OZ33eJS5uLoR",
   "metadata": {
    "colab": {
     "base_uri": "https://localhost:8080/",
     "height": 311
    },
    "id": "OZ33eJS5uLoR",
    "outputId": "d5847ce1-9657-4d88-f4ae-28ff9db150d5"
   },
   "outputs": [
    {
     "name": "stdout",
     "output_type": "stream",
     "text": [
      "Dataframe shape:  (11117, 9)\n"
     ]
    },
    {
     "data": {
      "text/html": [
       "<div>\n",
       "<style scoped>\n",
       "    .dataframe tbody tr th:only-of-type {\n",
       "        vertical-align: middle;\n",
       "    }\n",
       "\n",
       "    .dataframe tbody tr th {\n",
       "        vertical-align: top;\n",
       "    }\n",
       "\n",
       "    .dataframe thead th {\n",
       "        text-align: right;\n",
       "    }\n",
       "</style>\n",
       "<table border=\"1\" class=\"dataframe\">\n",
       "  <thead>\n",
       "    <tr style=\"text-align: right;\">\n",
       "      <th></th>\n",
       "      <th>NUTS1</th>\n",
       "      <th>NUTS2</th>\n",
       "      <th>NUTS3</th>\n",
       "      <th>DISTRICT_CODE</th>\n",
       "      <th>SUB_DISTRICT_CODE</th>\n",
       "      <th>Postal_CODE</th>\n",
       "      <th>Dog Breed</th>\n",
       "      <th>Anzahl</th>\n",
       "      <th>Ref_Date</th>\n",
       "    </tr>\n",
       "  </thead>\n",
       "  <tbody>\n",
       "    <tr>\n",
       "      <th>0</th>\n",
       "      <td>AT1</td>\n",
       "      <td>AT13</td>\n",
       "      <td>AT113</td>\n",
       "      <td>90100</td>\n",
       "      <td>.</td>\n",
       "      <td>1010</td>\n",
       "      <td>Afghanischer Windhund / Mischling</td>\n",
       "      <td>1.0</td>\n",
       "      <td>20240603</td>\n",
       "    </tr>\n",
       "    <tr>\n",
       "      <th>1</th>\n",
       "      <td>AT1</td>\n",
       "      <td>AT13</td>\n",
       "      <td>AT113</td>\n",
       "      <td>90100</td>\n",
       "      <td>.</td>\n",
       "      <td>1010</td>\n",
       "      <td>Akita / Belgischer Schäferhund</td>\n",
       "      <td>1.0</td>\n",
       "      <td>20240603</td>\n",
       "    </tr>\n",
       "    <tr>\n",
       "      <th>2</th>\n",
       "      <td>AT1</td>\n",
       "      <td>AT13</td>\n",
       "      <td>AT113</td>\n",
       "      <td>90100</td>\n",
       "      <td>.</td>\n",
       "      <td>1010</td>\n",
       "      <td>Alaskan Malamute</td>\n",
       "      <td>1.0</td>\n",
       "      <td>20240603</td>\n",
       "    </tr>\n",
       "    <tr>\n",
       "      <th>3</th>\n",
       "      <td>AT1</td>\n",
       "      <td>AT13</td>\n",
       "      <td>AT113</td>\n",
       "      <td>90100</td>\n",
       "      <td>.</td>\n",
       "      <td>1010</td>\n",
       "      <td>American Cocker Spaniel</td>\n",
       "      <td>2.0</td>\n",
       "      <td>20240603</td>\n",
       "    </tr>\n",
       "    <tr>\n",
       "      <th>4</th>\n",
       "      <td>AT1</td>\n",
       "      <td>AT13</td>\n",
       "      <td>AT113</td>\n",
       "      <td>90100</td>\n",
       "      <td>.</td>\n",
       "      <td>1010</td>\n",
       "      <td>American Cocker Spaniel / Kleinpudel Schwarz</td>\n",
       "      <td>1.0</td>\n",
       "      <td>20240603</td>\n",
       "    </tr>\n",
       "  </tbody>\n",
       "</table>\n",
       "</div>"
      ],
      "text/plain": [
       "  NUTS1 NUTS2  NUTS3  DISTRICT_CODE SUB_DISTRICT_CODE  Postal_CODE  \\\n",
       "0   AT1  AT13  AT113          90100                 .         1010   \n",
       "1   AT1  AT13  AT113          90100                 .         1010   \n",
       "2   AT1  AT13  AT113          90100                 .         1010   \n",
       "3   AT1  AT13  AT113          90100                 .         1010   \n",
       "4   AT1  AT13  AT113          90100                 .         1010   \n",
       "\n",
       "                                      Dog Breed  Anzahl  Ref_Date  \n",
       "0             Afghanischer Windhund / Mischling     1.0  20240603  \n",
       "1                Akita / Belgischer Schäferhund     1.0  20240603  \n",
       "2                              Alaskan Malamute     1.0  20240603  \n",
       "3                       American Cocker Spaniel     2.0  20240603  \n",
       "4  American Cocker Spaniel / Kleinpudel Schwarz     1.0  20240603  "
      ]
     },
     "execution_count": 68,
     "metadata": {},
     "output_type": "execute_result"
    }
   ],
   "source": [
    "# Import dataset 2\n",
    "dog_types_2024 = pd.read_csv(\"hunde-wien.csv\", sep=';', encoding='latin-1', skiprows=1)\n",
    "\n",
    "print(\"Dataframe shape: \", dog_types_2024.shape)\n",
    "dog_types_2024.head(5)"
   ]
  },
  {
   "cell_type": "markdown",
   "id": "wOsgnkig3lLM",
   "metadata": {
    "id": "wOsgnkig3lLM"
   },
   "source": [
    "* The separator is ';'\n",
    "* The encoding is 'latin-1'.\n",
    "* The shape is (11117, 9).\n",
    "* Mixed breeds are also included, like 'Hovawart / Golden Retriever'.\n",
    "* Format is long:\n",
    "  * dog breeds can appear multiple times in breed-column. This is the case if at least two dogs of a breed are registered in different districts. If there is no dog of a specific breed registered in a distric, it is not listed in the dataset for this district.\n",
    "  * Every district and breed combination has a single count value"
   ]
  },
  {
   "cell_type": "markdown",
   "id": "LD3kkP6yBjxE",
   "metadata": {
    "id": "LD3kkP6yBjxE"
   },
   "source": [
    "##### Scrub"
   ]
  },
  {
   "cell_type": "code",
   "execution_count": 69,
   "id": "b8c1c6dc",
   "metadata": {},
   "outputs": [
    {
     "data": {
      "text/plain": [
       "NUTS1                0.0\n",
       "NUTS2                0.0\n",
       "NUTS3                0.0\n",
       "DISTRICT_CODE        0.0\n",
       "SUB_DISTRICT_CODE    0.0\n",
       "Postal_CODE          0.0\n",
       "Dog Breed            0.0\n",
       "Anzahl               0.0\n",
       "Ref_Date             0.0\n",
       "dtype: float64"
      ]
     },
     "execution_count": 69,
     "metadata": {},
     "output_type": "execute_result"
    }
   ],
   "source": [
    "# check columns and their missing data ratio => no missing data\n",
    "((dog_types_2024.isnull().sum() / len(dog_types_2024)) * 100).sort_values(ascending=False)"
   ]
  },
  {
   "cell_type": "code",
   "execution_count": 70,
   "id": "P41XHNLCBktj",
   "metadata": {
    "colab": {
     "base_uri": "https://localhost:8080/"
    },
    "id": "P41XHNLCBktj",
    "outputId": "aef54597-595a-4d45-fd22-56336480ba50"
   },
   "outputs": [
    {
     "data": {
      "text/html": [
       "<div>\n",
       "<style scoped>\n",
       "    .dataframe tbody tr th:only-of-type {\n",
       "        vertical-align: middle;\n",
       "    }\n",
       "\n",
       "    .dataframe tbody tr th {\n",
       "        vertical-align: top;\n",
       "    }\n",
       "\n",
       "    .dataframe thead th {\n",
       "        text-align: right;\n",
       "    }\n",
       "</style>\n",
       "<table border=\"1\" class=\"dataframe\">\n",
       "  <thead>\n",
       "    <tr style=\"text-align: right;\">\n",
       "      <th></th>\n",
       "      <th>NUTS1</th>\n",
       "      <th>NUTS2</th>\n",
       "      <th>NUTS3</th>\n",
       "      <th>DISTRICT_CODE</th>\n",
       "      <th>SUB_DISTRICT_CODE</th>\n",
       "      <th>Postal_CODE</th>\n",
       "      <th>Dog Breed</th>\n",
       "      <th>Anzahl</th>\n",
       "      <th>Ref_Date</th>\n",
       "    </tr>\n",
       "  </thead>\n",
       "  <tbody>\n",
       "    <tr>\n",
       "      <th>0</th>\n",
       "      <td>object</td>\n",
       "      <td>object</td>\n",
       "      <td>object</td>\n",
       "      <td>int64</td>\n",
       "      <td>object</td>\n",
       "      <td>int64</td>\n",
       "      <td>object</td>\n",
       "      <td>float64</td>\n",
       "      <td>int64</td>\n",
       "    </tr>\n",
       "  </tbody>\n",
       "</table>\n",
       "</div>"
      ],
      "text/plain": [
       "    NUTS1   NUTS2   NUTS3 DISTRICT_CODE SUB_DISTRICT_CODE Postal_CODE  \\\n",
       "0  object  object  object         int64            object       int64   \n",
       "\n",
       "  Dog Breed   Anzahl Ref_Date  \n",
       "0    object  float64    int64  "
      ]
     },
     "execution_count": 70,
     "metadata": {},
     "output_type": "execute_result"
    }
   ],
   "source": [
    "dog_types_2024.dtypes.to_frame().T"
   ]
  },
  {
   "cell_type": "markdown",
   "id": "b_-WR17pGj9e",
   "metadata": {
    "id": "b_-WR17pGj9e"
   },
   "source": [
    "Looks like some columns only have 1 unique value => NUTS1-3, SUB_DISTRICT_CODE and Ref_Date to be exact. Also, no district is missing, which is good."
   ]
  },
  {
   "cell_type": "code",
   "execution_count": 71,
   "id": "0d75f7a4",
   "metadata": {},
   "outputs": [
    {
     "data": {
      "text/plain": [
       "NUTS1                   1\n",
       "NUTS2                   1\n",
       "NUTS3                   1\n",
       "DISTRICT_CODE          23\n",
       "SUB_DISTRICT_CODE       1\n",
       "Postal_CODE            23\n",
       "Dog Breed            3481\n",
       "Anzahl                152\n",
       "Ref_Date                1\n",
       "dtype: int64"
      ]
     },
     "execution_count": 71,
     "metadata": {},
     "output_type": "execute_result"
    }
   ],
   "source": [
    "dog_types_2024.nunique()"
   ]
  },
  {
   "cell_type": "code",
   "execution_count": 72,
   "id": "36757578",
   "metadata": {},
   "outputs": [
    {
     "name": "stdout",
     "output_type": "stream",
     "text": [
      "DISTRICT_CODE: [90100 90200 90300 90400 90500 90600 90700 90800 90900 91000 91100 91200\n",
      " 91300 91400 91500 91600 91700 91800 91900 92000 92100 92200 92300]\n",
      "Postal_CODE: [1010 1020 1030 1040 1050 1060 1070 1080 1090 1100 1110 1120 1130 1140\n",
      " 1150 1160 1170 1180 1190 1200 1210 1220 1230]\n"
     ]
    }
   ],
   "source": [
    "print(\"DISTRICT_CODE:\", dog_types_2024[\"DISTRICT_CODE\"].unique())\n",
    "print(\"Postal_CODE:\", dog_types_2024[\"Postal_CODE\"].unique())"
   ]
  },
  {
   "cell_type": "markdown",
   "id": "5hVfZLltI_8L",
   "metadata": {
    "id": "5hVfZLltI_8L"
   },
   "source": [
    "Drop NUTS1, NUTS2, NUTS3 and SUB_DISTRICT CODE. Don't want to drop Ref_Date yet, maybe could be used for some insights with the above data frame."
   ]
  },
  {
   "cell_type": "code",
   "execution_count": 73,
   "id": "KTKCaSY2JUqT",
   "metadata": {
    "id": "KTKCaSY2JUqT"
   },
   "outputs": [
    {
     "data": {
      "text/html": [
       "<div>\n",
       "<style scoped>\n",
       "    .dataframe tbody tr th:only-of-type {\n",
       "        vertical-align: middle;\n",
       "    }\n",
       "\n",
       "    .dataframe tbody tr th {\n",
       "        vertical-align: top;\n",
       "    }\n",
       "\n",
       "    .dataframe thead th {\n",
       "        text-align: right;\n",
       "    }\n",
       "</style>\n",
       "<table border=\"1\" class=\"dataframe\">\n",
       "  <thead>\n",
       "    <tr style=\"text-align: right;\">\n",
       "      <th></th>\n",
       "      <th>DISTRICT_CODE</th>\n",
       "      <th>Postal_CODE</th>\n",
       "      <th>Dog Breed</th>\n",
       "      <th>Anzahl</th>\n",
       "      <th>Ref_Date</th>\n",
       "    </tr>\n",
       "  </thead>\n",
       "  <tbody>\n",
       "    <tr>\n",
       "      <th>0</th>\n",
       "      <td>int64</td>\n",
       "      <td>int64</td>\n",
       "      <td>object</td>\n",
       "      <td>float64</td>\n",
       "      <td>datetime64[ns]</td>\n",
       "    </tr>\n",
       "  </tbody>\n",
       "</table>\n",
       "</div>"
      ],
      "text/plain": [
       "  DISTRICT_CODE Postal_CODE Dog Breed   Anzahl        Ref_Date\n",
       "0         int64       int64    object  float64  datetime64[ns]"
      ]
     },
     "execution_count": 73,
     "metadata": {},
     "output_type": "execute_result"
    }
   ],
   "source": [
    "dog_types_2024 = dog_types_2024.drop(['NUTS1', 'NUTS2', 'NUTS3', 'SUB_DISTRICT_CODE'], axis=1)\n",
    "dog_types_2024['Ref_Date'] = pd.to_datetime(dog_types_2024['Ref_Date'].astype(str), format='%Y%m%d')\n",
    "dog_types_2024.dtypes.to_frame().T"
   ]
  },
  {
   "cell_type": "markdown",
   "id": "012410ea",
   "metadata": {},
   "source": [
    "The 'Anzahl'-column contains one value that currently cannot be converted to an integer without losing information. It seems that there are 1012 dogs of breed 'Unbekannt / Mischling', which was recognised as a float with decimal places:"
   ]
  },
  {
   "cell_type": "code",
   "execution_count": 74,
   "id": "43f99915",
   "metadata": {},
   "outputs": [
    {
     "data": {
      "text/html": [
       "<div>\n",
       "<style scoped>\n",
       "    .dataframe tbody tr th:only-of-type {\n",
       "        vertical-align: middle;\n",
       "    }\n",
       "\n",
       "    .dataframe tbody tr th {\n",
       "        vertical-align: top;\n",
       "    }\n",
       "\n",
       "    .dataframe thead th {\n",
       "        text-align: right;\n",
       "    }\n",
       "</style>\n",
       "<table border=\"1\" class=\"dataframe\">\n",
       "  <thead>\n",
       "    <tr style=\"text-align: right;\">\n",
       "      <th></th>\n",
       "      <th>DISTRICT_CODE</th>\n",
       "      <th>Postal_CODE</th>\n",
       "      <th>Dog Breed</th>\n",
       "      <th>Anzahl</th>\n",
       "      <th>Ref_Date</th>\n",
       "    </tr>\n",
       "  </thead>\n",
       "  <tbody>\n",
       "    <tr>\n",
       "      <th>10314</th>\n",
       "      <td>92200</td>\n",
       "      <td>1220</td>\n",
       "      <td>Unbekannt / Mischling</td>\n",
       "      <td>1.012</td>\n",
       "      <td>2024-06-03</td>\n",
       "    </tr>\n",
       "  </tbody>\n",
       "</table>\n",
       "</div>"
      ],
      "text/plain": [
       "       DISTRICT_CODE  Postal_CODE              Dog Breed  Anzahl   Ref_Date\n",
       "10314          92200         1220  Unbekannt / Mischling   1.012 2024-06-03"
      ]
     },
     "execution_count": 74,
     "metadata": {},
     "output_type": "execute_result"
    }
   ],
   "source": [
    "dog_types_2024[(dog_types_2024[\"Anzahl\"] != dog_types_2024[\"Anzahl\"].astype(int))]"
   ]
  },
  {
   "cell_type": "code",
   "execution_count": 75,
   "id": "cabb8e4c",
   "metadata": {},
   "outputs": [
    {
     "data": {
      "text/plain": [
       "array([ True])"
      ]
     },
     "execution_count": 75,
     "metadata": {},
     "output_type": "execute_result"
    }
   ],
   "source": [
    "dog_types_2024.loc[10314, \"Anzahl\"] = int(str(dog_types_2024.loc[10314, \"Anzahl\"]).replace('.','')) # could apply this type conversion on whole column to be future proof for future data\n",
    "(dog_types_2024[\"Anzahl\"] == dog_types_2024[\"Anzahl\"].astype(int)).unique() # now ready to be formatted to int"
   ]
  },
  {
   "cell_type": "code",
   "execution_count": 76,
   "id": "hfAVhC4hK1kd",
   "metadata": {
    "colab": {
     "base_uri": "https://localhost:8080/",
     "height": 219
    },
    "id": "hfAVhC4hK1kd",
    "outputId": "b7fc8a8f-73c7-413d-87d2-9a8f9889f64b"
   },
   "outputs": [
    {
     "name": "stdout",
     "output_type": "stream",
     "text": [
      "DISTRICT_CODE             int64\n",
      "Postal_CODE               int64\n",
      "Dog Breed                object\n",
      "Anzahl                    int64\n",
      "Ref_Date         datetime64[ns]\n",
      "dtype: object\n"
     ]
    },
    {
     "data": {
      "text/html": [
       "<div>\n",
       "<style scoped>\n",
       "    .dataframe tbody tr th:only-of-type {\n",
       "        vertical-align: middle;\n",
       "    }\n",
       "\n",
       "    .dataframe tbody tr th {\n",
       "        vertical-align: top;\n",
       "    }\n",
       "\n",
       "    .dataframe thead th {\n",
       "        text-align: right;\n",
       "    }\n",
       "</style>\n",
       "<table border=\"1\" class=\"dataframe\">\n",
       "  <thead>\n",
       "    <tr style=\"text-align: right;\">\n",
       "      <th></th>\n",
       "      <th>DISTRICT_CODE</th>\n",
       "      <th>Postal_CODE</th>\n",
       "      <th>Dog Breed</th>\n",
       "      <th>Anzahl</th>\n",
       "      <th>Ref_Date</th>\n",
       "    </tr>\n",
       "  </thead>\n",
       "  <tbody>\n",
       "    <tr>\n",
       "      <th>0</th>\n",
       "      <td>90100</td>\n",
       "      <td>1010</td>\n",
       "      <td>Afghanischer Windhund / Mischling</td>\n",
       "      <td>1</td>\n",
       "      <td>2024-06-03</td>\n",
       "    </tr>\n",
       "    <tr>\n",
       "      <th>1</th>\n",
       "      <td>90100</td>\n",
       "      <td>1010</td>\n",
       "      <td>Akita / Belgischer Schäferhund</td>\n",
       "      <td>1</td>\n",
       "      <td>2024-06-03</td>\n",
       "    </tr>\n",
       "  </tbody>\n",
       "</table>\n",
       "</div>"
      ],
      "text/plain": [
       "   DISTRICT_CODE  Postal_CODE                          Dog Breed  Anzahl  \\\n",
       "0          90100         1010  Afghanischer Windhund / Mischling       1   \n",
       "1          90100         1010     Akita / Belgischer Schäferhund       1   \n",
       "\n",
       "    Ref_Date  \n",
       "0 2024-06-03  \n",
       "1 2024-06-03  "
      ]
     },
     "execution_count": 76,
     "metadata": {},
     "output_type": "execute_result"
    }
   ],
   "source": [
    "dog_types_2024[\"Anzahl\"] = dog_types_2024[\"Anzahl\"].astype(\"int\")\n",
    "print(dog_types_2024.dtypes) # we could also change dtype for 'Dog Breed' to 'category', but 3500 categories are a bit much. We leave it for now\n",
    "dog_types_2024.head(2)"
   ]
  },
  {
   "cell_type": "markdown",
   "id": "6gGBC4cuKEXn",
   "metadata": {
    "id": "6gGBC4cuKEXn"
   },
   "source": [
    "Check if some Dog Breeds have duplicates per district --> looks good."
   ]
  },
  {
   "cell_type": "code",
   "execution_count": 77,
   "id": "_mhXva3xLtnm",
   "metadata": {
    "colab": {
     "base_uri": "https://localhost:8080/"
    },
    "id": "_mhXva3xLtnm",
    "outputId": "86ab4548-0ae4-4467-828b-67becf533b67"
   },
   "outputs": [
    {
     "data": {
      "text/plain": [
       "np.False_"
      ]
     },
     "execution_count": 77,
     "metadata": {},
     "output_type": "execute_result"
    }
   ],
   "source": [
    "dog_types_2024.duplicated(subset=['Dog Breed', 'Postal_CODE']).any()"
   ]
  },
  {
   "cell_type": "markdown",
   "id": "wA1JypRoMm_R",
   "metadata": {
    "id": "wA1JypRoMm_R"
   },
   "source": [
    "Check if there are unknown Dog Breeds:\n",
    "  * There appear to be in total 50 entries in the dataset with at least partly unknown Dog Breeds.\n",
    "  * The dataset has only 6 unique values in the 'Dog Breed'-column that contain an unknown dog breed.\n",
    "  * They are kept for the moment."
   ]
  },
  {
   "cell_type": "code",
   "execution_count": 78,
   "id": "efZTyQAPMra8",
   "metadata": {
    "colab": {
     "base_uri": "https://localhost:8080/"
    },
    "id": "efZTyQAPMra8",
    "outputId": "d0033e84-e6c2-404f-f750-e1bd7e8bdc58"
   },
   "outputs": [
    {
     "name": "stdout",
     "output_type": "stream",
     "text": [
      "Total number of entries with unknown dog breed: 50\n",
      "Number of unknown dog breeds: 6\n",
      "Unknown dog breeds: ['Unbekannt' 'Unbekannt / Mischling' 'Unbekannt / Dackel'\n",
      " 'Unbekannt / Kleiner Münsterländer' 'Unbekannt / Mudi'\n",
      " 'Unbekannt / Pit Bull Terrier']\n"
     ]
    }
   ],
   "source": [
    "def check_for_unknown_dog_breeds(df: pd.DataFrame):\n",
    "    print(\"Total number of entries with unknown dog breed:\", df['Dog Breed'].str.contains('Unbekannt', case=False).sum())\n",
    "    tmp_array = dog_types_2024[dog_types_2024['Dog Breed'].str.contains('Unbekannt', case=False)]['Dog Breed'].unique()\n",
    "    print(\"Number of unknown dog breeds:\", len(tmp_array))\n",
    "    print(\"Unknown dog breeds:\", tmp_array)\n",
    "\n",
    "check_for_unknown_dog_breeds(dog_types_2024)"
   ]
  },
  {
   "cell_type": "code",
   "execution_count": 79,
   "id": "k7MhWV0sQEf2",
   "metadata": {
    "colab": {
     "base_uri": "https://localhost:8080/",
     "height": 206
    },
    "id": "k7MhWV0sQEf2",
    "outputId": "25354a4c-fa8f-47cf-bb60-23eb3ccf77ce"
   },
   "outputs": [
    {
     "data": {
      "text/html": [
       "<div>\n",
       "<style scoped>\n",
       "    .dataframe tbody tr th:only-of-type {\n",
       "        vertical-align: middle;\n",
       "    }\n",
       "\n",
       "    .dataframe tbody tr th {\n",
       "        vertical-align: top;\n",
       "    }\n",
       "\n",
       "    .dataframe thead th {\n",
       "        text-align: right;\n",
       "    }\n",
       "</style>\n",
       "<table border=\"1\" class=\"dataframe\">\n",
       "  <thead>\n",
       "    <tr style=\"text-align: right;\">\n",
       "      <th></th>\n",
       "      <th>DISTRICT_CODE</th>\n",
       "      <th>Postal_CODE</th>\n",
       "      <th>Dog Breed</th>\n",
       "      <th>Anzahl</th>\n",
       "      <th>Ref_Date</th>\n",
       "    </tr>\n",
       "  </thead>\n",
       "  <tbody>\n",
       "    <tr>\n",
       "      <th>0</th>\n",
       "      <td>90100</td>\n",
       "      <td>1010</td>\n",
       "      <td>Afghanischer Windhund / Mischling</td>\n",
       "      <td>1</td>\n",
       "      <td>2024-06-03</td>\n",
       "    </tr>\n",
       "    <tr>\n",
       "      <th>1</th>\n",
       "      <td>90100</td>\n",
       "      <td>1010</td>\n",
       "      <td>Akita / Belgischer Schäferhund</td>\n",
       "      <td>1</td>\n",
       "      <td>2024-06-03</td>\n",
       "    </tr>\n",
       "    <tr>\n",
       "      <th>2</th>\n",
       "      <td>90100</td>\n",
       "      <td>1010</td>\n",
       "      <td>Alaskan Malamute</td>\n",
       "      <td>1</td>\n",
       "      <td>2024-06-03</td>\n",
       "    </tr>\n",
       "    <tr>\n",
       "      <th>3</th>\n",
       "      <td>90100</td>\n",
       "      <td>1010</td>\n",
       "      <td>American Cocker Spaniel</td>\n",
       "      <td>2</td>\n",
       "      <td>2024-06-03</td>\n",
       "    </tr>\n",
       "    <tr>\n",
       "      <th>4</th>\n",
       "      <td>90100</td>\n",
       "      <td>1010</td>\n",
       "      <td>American Cocker Spaniel / Kleinpudel Schwarz</td>\n",
       "      <td>1</td>\n",
       "      <td>2024-06-03</td>\n",
       "    </tr>\n",
       "  </tbody>\n",
       "</table>\n",
       "</div>"
      ],
      "text/plain": [
       "   DISTRICT_CODE  Postal_CODE                                     Dog Breed  \\\n",
       "0          90100         1010             Afghanischer Windhund / Mischling   \n",
       "1          90100         1010                Akita / Belgischer Schäferhund   \n",
       "2          90100         1010                              Alaskan Malamute   \n",
       "3          90100         1010                       American Cocker Spaniel   \n",
       "4          90100         1010  American Cocker Spaniel / Kleinpudel Schwarz   \n",
       "\n",
       "   Anzahl   Ref_Date  \n",
       "0       1 2024-06-03  \n",
       "1       1 2024-06-03  \n",
       "2       1 2024-06-03  \n",
       "3       2 2024-06-03  \n",
       "4       1 2024-06-03  "
      ]
     },
     "execution_count": 79,
     "metadata": {},
     "output_type": "execute_result"
    }
   ],
   "source": [
    "dog_types_2024.head()"
   ]
  },
  {
   "cell_type": "markdown",
   "id": "sN1aYp3MS4E1",
   "metadata": {
    "id": "sN1aYp3MS4E1"
   },
   "source": [
    "We could also drop the postal_code column, since it basically provides the same data as the district_code column:"
   ]
  },
  {
   "cell_type": "code",
   "execution_count": 80,
   "id": "422cb121",
   "metadata": {},
   "outputs": [
    {
     "data": {
      "text/plain": [
       "array([ True])"
      ]
     },
     "execution_count": 80,
     "metadata": {},
     "output_type": "execute_result"
    }
   ],
   "source": [
    "(dog_types_2024[\"DISTRICT_CODE\"].astype(str).str[1:3] == dog_types_2024[\"Postal_CODE\"].astype(str).str[1:3]).unique()"
   ]
  },
  {
   "cell_type": "markdown",
   "id": "olBy7Wpa9HEn",
   "metadata": {
    "id": "olBy7Wpa9HEn"
   },
   "source": [
    "#### Dataset 3\n",
    "Number of registered dogs in Vienna per district and dog breed in the years 2012 to 2017. \n",
    "\n",
    "The layout of the dataset is basically the same as the one before, we only have data for multiple years.\n",
    "\n",
    "  * NUTS1: AT1\n",
    "  * NUTS2: AT13\n",
    "  * NUTS3: AT113\n",
    "  * DISTRICT_CODE: Bezirke, Format 9BB00\n",
    "  * SUB_DISTRICT_CODE: Zählbezirk, leer\n",
    "  * Postal_CODE: Postleitzahl, Format 1BB0\n",
    "  * Dog Breed: Hunderasse\n",
    "  * Anzahl: Anzahl der jeweiligen Hunderasse\n",
    "  * Ref_Date: Jahr\n",
    "\n",
    "Source: https://www.data.gv.at/katalog/dataset/31f526f5-2cf2-49f8-a63d-0c63a0f87a3e"
   ]
  },
  {
   "cell_type": "code",
   "execution_count": 81,
   "id": "Z7IybtAVr_xa",
   "metadata": {
    "colab": {
     "base_uri": "https://localhost:8080/",
     "height": 276
    },
    "id": "Z7IybtAVr_xa",
    "outputId": "9377503e-bdf4-407b-ac2d-d5b28ba3a252"
   },
   "outputs": [
    {
     "name": "stdout",
     "output_type": "stream",
     "text": [
      "Dataframe shape:  (33793, 9)\n"
     ]
    },
    {
     "data": {
      "text/html": [
       "<div>\n",
       "<style scoped>\n",
       "    .dataframe tbody tr th:only-of-type {\n",
       "        vertical-align: middle;\n",
       "    }\n",
       "\n",
       "    .dataframe tbody tr th {\n",
       "        vertical-align: top;\n",
       "    }\n",
       "\n",
       "    .dataframe thead th {\n",
       "        text-align: right;\n",
       "    }\n",
       "</style>\n",
       "<table border=\"1\" class=\"dataframe\">\n",
       "  <thead>\n",
       "    <tr style=\"text-align: right;\">\n",
       "      <th></th>\n",
       "      <th>NUTS1</th>\n",
       "      <th>NUTS2</th>\n",
       "      <th>NUTS3</th>\n",
       "      <th>DISTRICT_CODE</th>\n",
       "      <th>SUB_DISTRICT_CODE</th>\n",
       "      <th>Postal_CODE</th>\n",
       "      <th>Dog Breed</th>\n",
       "      <th>Anzahl</th>\n",
       "      <th>Ref_Date</th>\n",
       "    </tr>\n",
       "  </thead>\n",
       "  <tbody>\n",
       "    <tr>\n",
       "      <th>0</th>\n",
       "      <td>AT1</td>\n",
       "      <td>AT13</td>\n",
       "      <td>AT113</td>\n",
       "      <td>90100</td>\n",
       "      <td>.</td>\n",
       "      <td>1010</td>\n",
       "      <td>Afghanischer Windhund</td>\n",
       "      <td>1</td>\n",
       "      <td>20123112</td>\n",
       "    </tr>\n",
       "    <tr>\n",
       "      <th>1</th>\n",
       "      <td>AT1</td>\n",
       "      <td>AT13</td>\n",
       "      <td>AT113</td>\n",
       "      <td>90100</td>\n",
       "      <td>.</td>\n",
       "      <td>1010</td>\n",
       "      <td>Amerikanischer Cockerspaniel</td>\n",
       "      <td>1</td>\n",
       "      <td>20123112</td>\n",
       "    </tr>\n",
       "    <tr>\n",
       "      <th>2</th>\n",
       "      <td>AT1</td>\n",
       "      <td>AT13</td>\n",
       "      <td>AT113</td>\n",
       "      <td>90100</td>\n",
       "      <td>.</td>\n",
       "      <td>1010</td>\n",
       "      <td>Amerikanischer Staffordshire-Terrier</td>\n",
       "      <td>2</td>\n",
       "      <td>20123112</td>\n",
       "    </tr>\n",
       "    <tr>\n",
       "      <th>3</th>\n",
       "      <td>AT1</td>\n",
       "      <td>AT13</td>\n",
       "      <td>AT113</td>\n",
       "      <td>90100</td>\n",
       "      <td>.</td>\n",
       "      <td>1010</td>\n",
       "      <td>Australian Shepherd Dog</td>\n",
       "      <td>2</td>\n",
       "      <td>20123112</td>\n",
       "    </tr>\n",
       "    <tr>\n",
       "      <th>4</th>\n",
       "      <td>AT1</td>\n",
       "      <td>AT13</td>\n",
       "      <td>AT113</td>\n",
       "      <td>90100</td>\n",
       "      <td>.</td>\n",
       "      <td>1010</td>\n",
       "      <td>Australian Terrier</td>\n",
       "      <td>1</td>\n",
       "      <td>20123112</td>\n",
       "    </tr>\n",
       "  </tbody>\n",
       "</table>\n",
       "</div>"
      ],
      "text/plain": [
       "  NUTS1 NUTS2  NUTS3  DISTRICT_CODE SUB_DISTRICT_CODE  Postal_CODE  \\\n",
       "0   AT1  AT13  AT113          90100                 .         1010   \n",
       "1   AT1  AT13  AT113          90100                 .         1010   \n",
       "2   AT1  AT13  AT113          90100                 .         1010   \n",
       "3   AT1  AT13  AT113          90100                 .         1010   \n",
       "4   AT1  AT13  AT113          90100                 .         1010   \n",
       "\n",
       "                              Dog Breed  Anzahl  Ref_Date  \n",
       "0                 Afghanischer Windhund       1  20123112  \n",
       "1          Amerikanischer Cockerspaniel       1  20123112  \n",
       "2  Amerikanischer Staffordshire-Terrier       2  20123112  \n",
       "3               Australian Shepherd Dog       2  20123112  \n",
       "4                    Australian Terrier       1  20123112  "
      ]
     },
     "execution_count": 81,
     "metadata": {},
     "output_type": "execute_result"
    }
   ],
   "source": [
    "# Import dataset 3\n",
    "dog_types_2012 = pd.read_csv(\"hunde-vie.csv\", sep=';', encoding='latin-1', skiprows=1)\n",
    "\n",
    "print(\"Dataframe shape: \", dog_types_2012.shape)\n",
    "dog_types_2012.head(5)"
   ]
  },
  {
   "cell_type": "markdown",
   "id": "BKBsLUD09YSo",
   "metadata": {
    "id": "BKBsLUD09YSo"
   },
   "source": [
    "* The separator is ';'\n",
    "* The encoding is 'latin-1'.\n",
    "* The shape is (33793, 9).\n",
    "* Format is long:\n",
    "  * dog breeds can appear multiple times in breed-column. This is the case if at least two dogs of a breed are registered in different districts or in different years. If there is no dog of a specific breed registered in a distric, it is not listed in the dataset for this district.\n",
    "  * Every district, ref_date and breed combination has a single count value\n"
   ]
  },
  {
   "cell_type": "markdown",
   "id": "_fynsjn1VPj7",
   "metadata": {
    "id": "_fynsjn1VPj7"
   },
   "source": [
    "Repeat steps as with dataframe 2, since they have the same format."
   ]
  },
  {
   "cell_type": "code",
   "execution_count": 82,
   "id": "06ddb564",
   "metadata": {},
   "outputs": [
    {
     "data": {
      "text/plain": [
       "NUTS1                0.0\n",
       "NUTS2                0.0\n",
       "NUTS3                0.0\n",
       "DISTRICT_CODE        0.0\n",
       "SUB_DISTRICT_CODE    0.0\n",
       "Postal_CODE          0.0\n",
       "Dog Breed            0.0\n",
       "Anzahl               0.0\n",
       "Ref_Date             0.0\n",
       "dtype: float64"
      ]
     },
     "execution_count": 82,
     "metadata": {},
     "output_type": "execute_result"
    }
   ],
   "source": [
    "# check columns and their missing data ratio => no missing data\n",
    "((dog_types_2012.isnull().sum() / len(dog_types_2012)) * 100).sort_values(ascending=False)"
   ]
  },
  {
   "cell_type": "markdown",
   "id": "18884731",
   "metadata": {},
   "source": [
    "Looks like some columns only have 1 unique value => NUTS1-3 and SUB_DISTRICT_CODE to be exact. Also, no district is missing, which is good. We have 6 different years in the dataset:"
   ]
  },
  {
   "cell_type": "code",
   "execution_count": 83,
   "id": "18f633b2",
   "metadata": {},
   "outputs": [
    {
     "data": {
      "text/plain": [
       "NUTS1                   1\n",
       "NUTS2                   1\n",
       "NUTS3                   1\n",
       "DISTRICT_CODE          23\n",
       "SUB_DISTRICT_CODE       1\n",
       "Postal_CODE            23\n",
       "Dog Breed            1286\n",
       "Anzahl                337\n",
       "Ref_Date                6\n",
       "dtype: int64"
      ]
     },
     "execution_count": 83,
     "metadata": {},
     "output_type": "execute_result"
    }
   ],
   "source": [
    "dog_types_2012.nunique()"
   ]
  },
  {
   "cell_type": "code",
   "execution_count": 84,
   "id": "407d4c02",
   "metadata": {},
   "outputs": [
    {
     "name": "stdout",
     "output_type": "stream",
     "text": [
      "Ref_Date\n",
      "20123112    23\n",
      "20133112    23\n",
      "20143112    23\n",
      "20153112    23\n",
      "20163112    23\n",
      "20173112    23\n",
      "Name: DISTRICT_CODE, dtype: int64\n",
      "Ref_Date\n",
      "20123112    23\n",
      "20133112    23\n",
      "20143112    23\n",
      "20153112    23\n",
      "20163112    23\n",
      "20173112    23\n",
      "Name: Postal_CODE, dtype: int64\n"
     ]
    }
   ],
   "source": [
    "print(dog_types_2012.groupby(\"Ref_Date\")[\"DISTRICT_CODE\"].nunique()) # no districts missing in each year\n",
    "print(dog_types_2012.groupby(\"Ref_Date\")[\"Postal_CODE\"].nunique())"
   ]
  },
  {
   "cell_type": "code",
   "execution_count": 85,
   "id": "c9bee236",
   "metadata": {},
   "outputs": [
    {
     "data": {
      "text/html": [
       "<div>\n",
       "<style scoped>\n",
       "    .dataframe tbody tr th:only-of-type {\n",
       "        vertical-align: middle;\n",
       "    }\n",
       "\n",
       "    .dataframe tbody tr th {\n",
       "        vertical-align: top;\n",
       "    }\n",
       "\n",
       "    .dataframe thead th {\n",
       "        text-align: right;\n",
       "    }\n",
       "</style>\n",
       "<table border=\"1\" class=\"dataframe\">\n",
       "  <thead>\n",
       "    <tr style=\"text-align: right;\">\n",
       "      <th></th>\n",
       "      <th>NUTS1</th>\n",
       "      <th>NUTS2</th>\n",
       "      <th>NUTS3</th>\n",
       "      <th>DISTRICT_CODE</th>\n",
       "      <th>SUB_DISTRICT_CODE</th>\n",
       "      <th>Postal_CODE</th>\n",
       "      <th>Dog Breed</th>\n",
       "      <th>Anzahl</th>\n",
       "      <th>Ref_Date</th>\n",
       "    </tr>\n",
       "  </thead>\n",
       "  <tbody>\n",
       "    <tr>\n",
       "      <th>0</th>\n",
       "      <td>object</td>\n",
       "      <td>object</td>\n",
       "      <td>object</td>\n",
       "      <td>int64</td>\n",
       "      <td>object</td>\n",
       "      <td>int64</td>\n",
       "      <td>object</td>\n",
       "      <td>int64</td>\n",
       "      <td>int64</td>\n",
       "    </tr>\n",
       "  </tbody>\n",
       "</table>\n",
       "</div>"
      ],
      "text/plain": [
       "    NUTS1   NUTS2   NUTS3 DISTRICT_CODE SUB_DISTRICT_CODE Postal_CODE  \\\n",
       "0  object  object  object         int64            object       int64   \n",
       "\n",
       "  Dog Breed Anzahl Ref_Date  \n",
       "0    object  int64    int64  "
      ]
     },
     "execution_count": 85,
     "metadata": {},
     "output_type": "execute_result"
    }
   ],
   "source": [
    "dog_types_2012.dtypes.to_frame().T"
   ]
  },
  {
   "cell_type": "markdown",
   "id": "g8AKqKFpjIsM",
   "metadata": {
    "id": "g8AKqKFpjIsM"
   },
   "source": [
    "'Anzahl' is already an int this time. \n",
    "\n",
    "Change Ref_Date from int64 to date (important: format is now different to before: yyyy**dd**mm, not yyyymm**dd**):"
   ]
  },
  {
   "cell_type": "code",
   "execution_count": 86,
   "id": "ov71siqvZqZR",
   "metadata": {
    "colab": {
     "base_uri": "https://localhost:8080/"
    },
    "id": "ov71siqvZqZR",
    "outputId": "e345e9d7-5ff0-403f-8032-9989a62c1b29"
   },
   "outputs": [
    {
     "name": "stdout",
     "output_type": "stream",
     "text": [
      "  DISTRICT_CODE Postal_CODE Dog Breed Anzahl        Ref_Date\n",
      "0         int64       int64    object  int64  datetime64[ns]\n"
     ]
    }
   ],
   "source": [
    "dog_types_2012 = dog_types_2012.drop(['NUTS1', 'NUTS2', 'NUTS3', 'SUB_DISTRICT_CODE'], axis=1)\n",
    "dog_types_2012['Ref_Date'] = pd.to_datetime(dog_types_2012['Ref_Date'].astype(str), format='%Y%d%m') # convert int to real datetime\n",
    "print(dog_types_2012.dtypes.to_frame().T)"
   ]
  },
  {
   "cell_type": "markdown",
   "id": "SFdnZM0ZZ3Kt",
   "metadata": {
    "id": "SFdnZM0ZZ3Kt"
   },
   "source": [
    "Check for duplicates and unkown dog breeds --> has the same 6 unknown (mixed) dog breeds and no duplicates too.\n",
    "* Unkown can stay for now.\n",
    "\n"
   ]
  },
  {
   "cell_type": "code",
   "execution_count": 92,
   "id": "fc4745b1",
   "metadata": {},
   "outputs": [
    {
     "data": {
      "text/plain": [
       "np.False_"
      ]
     },
     "execution_count": 92,
     "metadata": {},
     "output_type": "execute_result"
    }
   ],
   "source": [
    "dog_types_2012.duplicated(subset=['Dog Breed', 'Postal_CODE', 'Ref_Date']).any()"
   ]
  },
  {
   "cell_type": "code",
   "execution_count": 93,
   "id": "GKd5YQOrVOIv",
   "metadata": {
    "colab": {
     "base_uri": "https://localhost:8080/"
    },
    "id": "GKd5YQOrVOIv",
    "outputId": "4d53a1a4-6a00-4360-a77b-79ecca8fccdd"
   },
   "outputs": [
    {
     "name": "stdout",
     "output_type": "stream",
     "text": [
      "Total number of entries with unknown dog breed: 138\n",
      "Number of unknown dog breeds: 6\n",
      "Unknown dog breeds: ['Unbekannt' 'Unbekannt / Mischling' 'Unbekannt / Dackel'\n",
      " 'Unbekannt / Kleiner Münsterländer' 'Unbekannt / Mudi'\n",
      " 'Unbekannt / Pit Bull Terrier']\n"
     ]
    }
   ],
   "source": [
    "check_for_unknown_dog_breeds(dog_types_2012)"
   ]
  },
  {
   "cell_type": "markdown",
   "id": "MeNL89tTmUnb",
   "metadata": {
    "id": "MeNL89tTmUnb"
   },
   "source": [
    "### Merging Dataset 2 and 3 as they contain the same info for different years"
   ]
  },
  {
   "cell_type": "code",
   "execution_count": 101,
   "id": "ZIagR3NNdPEZ",
   "metadata": {
    "colab": {
     "base_uri": "https://localhost:8080/",
     "height": 421
    },
    "id": "ZIagR3NNdPEZ",
    "outputId": "2219585f-18a8-4db2-bae5-72ddbd8d31d4"
   },
   "outputs": [
    {
     "name": "stdout",
     "output_type": "stream",
     "text": [
      "  DISTRICT_CODE Postal_CODE Dog Breed Anzahl        Ref_Date\n",
      "0         int64       int64    object  int64  datetime64[ns]\n",
      "  DISTRICT_CODE Postal_CODE Dog Breed Anzahl        Ref_Date\n",
      "0         int64       int64    object  int64  datetime64[ns]\n"
     ]
    }
   ],
   "source": [
    "print(dog_types_2024.dtypes.to_frame().T)\n",
    "print(dog_types_2012.dtypes.to_frame().T)"
   ]
  },
  {
   "cell_type": "code",
   "execution_count": 99,
   "id": "FyBenE93erHj",
   "metadata": {
    "id": "FyBenE93erHj"
   },
   "outputs": [
    {
     "name": "stdout",
     "output_type": "stream",
     "text": [
      "Shape: (44910, 5)\n"
     ]
    }
   ],
   "source": [
    "combined_dog_types = pd.concat([dog_types_2012, dog_types_2024]) # dataframes have same columns => concat\n",
    "print(\"Shape:\", combined_dog_types.shape)"
   ]
  },
  {
   "cell_type": "code",
   "execution_count": 105,
   "id": "oUbGYC1hZnCy",
   "metadata": {
    "colab": {
     "base_uri": "https://localhost:8080/",
     "height": 245
    },
    "id": "oUbGYC1hZnCy",
    "outputId": "ea9ce383-27c4-41d2-fc81-b877d53aaa1d"
   },
   "outputs": [
    {
     "data": {
      "text/html": [
       "<div>\n",
       "<style scoped>\n",
       "    .dataframe tbody tr th:only-of-type {\n",
       "        vertical-align: middle;\n",
       "    }\n",
       "\n",
       "    .dataframe tbody tr th {\n",
       "        vertical-align: top;\n",
       "    }\n",
       "\n",
       "    .dataframe thead th {\n",
       "        text-align: right;\n",
       "    }\n",
       "</style>\n",
       "<table border=\"1\" class=\"dataframe\">\n",
       "  <thead>\n",
       "    <tr style=\"text-align: right;\">\n",
       "      <th></th>\n",
       "      <th>Dog Breed</th>\n",
       "      <th>Affenpinscher</th>\n",
       "      <th>Affenpinscher / Afghanischer Windhund</th>\n",
       "      <th>Affenpinscher / Beagle</th>\n",
       "      <th>Affenpinscher / Border Terrier</th>\n",
       "      <th>Affenpinscher / Cairn Terrier</th>\n",
       "      <th>Affenpinscher / Griffon belge</th>\n",
       "      <th>Affenpinscher / Mischling</th>\n",
       "      <th>Affenpinscher / Scottish Terrier</th>\n",
       "      <th>Affenpinscher / Shih Tzu</th>\n",
       "      <th>Affenpinscher / Zwergschnauzer pfeffer-salz</th>\n",
       "      <th>...</th>\n",
       "      <th>Österreichischer Pinscher / Prager Rattler</th>\n",
       "      <th>Österreichischer Pinscher / Rauhhaar Dachshund Normal</th>\n",
       "      <th>Österreichischer Pinscher / Shar Pei</th>\n",
       "      <th>Österreichischer Pinscher / Spitz</th>\n",
       "      <th>Österreichischer Pinscher / Tibetan Spaniel</th>\n",
       "      <th>Österreichischer Pinscher / Weimaraner Kurzhaar</th>\n",
       "      <th>Österreichischer Pinscher / Whippet</th>\n",
       "      <th>Österreichischer Pinscher / Yorkshire Terrier</th>\n",
       "      <th>Österreichischer Pinscher / Zwergpudel Rot</th>\n",
       "      <th>Österreichischer Pinscher / Zwergspitz (Pomeranian)</th>\n",
       "    </tr>\n",
       "    <tr>\n",
       "      <th>Ref_Date</th>\n",
       "      <th>Postal_CODE</th>\n",
       "      <th></th>\n",
       "      <th></th>\n",
       "      <th></th>\n",
       "      <th></th>\n",
       "      <th></th>\n",
       "      <th></th>\n",
       "      <th></th>\n",
       "      <th></th>\n",
       "      <th></th>\n",
       "      <th></th>\n",
       "      <th></th>\n",
       "      <th></th>\n",
       "      <th></th>\n",
       "      <th></th>\n",
       "      <th></th>\n",
       "      <th></th>\n",
       "      <th></th>\n",
       "      <th></th>\n",
       "      <th></th>\n",
       "      <th></th>\n",
       "      <th></th>\n",
       "    </tr>\n",
       "  </thead>\n",
       "  <tbody>\n",
       "    <tr>\n",
       "      <th rowspan=\"2\" valign=\"top\">2024-06-03</th>\n",
       "      <th>1230</th>\n",
       "      <td>0.0</td>\n",
       "      <td>0.0</td>\n",
       "      <td>0.0</td>\n",
       "      <td>0.0</td>\n",
       "      <td>0.0</td>\n",
       "      <td>0.0</td>\n",
       "      <td>2.0</td>\n",
       "      <td>0.0</td>\n",
       "      <td>0.0</td>\n",
       "      <td>0.0</td>\n",
       "      <td>...</td>\n",
       "      <td>0.0</td>\n",
       "      <td>0.0</td>\n",
       "      <td>0.0</td>\n",
       "      <td>0.0</td>\n",
       "      <td>0.0</td>\n",
       "      <td>0.0</td>\n",
       "      <td>0.0</td>\n",
       "      <td>0.0</td>\n",
       "      <td>0.0</td>\n",
       "      <td>0.0</td>\n",
       "    </tr>\n",
       "    <tr>\n",
       "      <th>1120</th>\n",
       "      <td>1.0</td>\n",
       "      <td>0.0</td>\n",
       "      <td>0.0</td>\n",
       "      <td>0.0</td>\n",
       "      <td>0.0</td>\n",
       "      <td>0.0</td>\n",
       "      <td>0.0</td>\n",
       "      <td>0.0</td>\n",
       "      <td>0.0</td>\n",
       "      <td>0.0</td>\n",
       "      <td>...</td>\n",
       "      <td>0.0</td>\n",
       "      <td>0.0</td>\n",
       "      <td>0.0</td>\n",
       "      <td>0.0</td>\n",
       "      <td>0.0</td>\n",
       "      <td>0.0</td>\n",
       "      <td>0.0</td>\n",
       "      <td>0.0</td>\n",
       "      <td>0.0</td>\n",
       "      <td>0.0</td>\n",
       "    </tr>\n",
       "  </tbody>\n",
       "</table>\n",
       "<p>2 rows × 4312 columns</p>\n",
       "</div>"
      ],
      "text/plain": [
       "Dog Breed               Affenpinscher  Affenpinscher / Afghanischer Windhund  \\\n",
       "Ref_Date   Postal_CODE                                                         \n",
       "2024-06-03 1230                   0.0                                    0.0   \n",
       "           1120                   1.0                                    0.0   \n",
       "\n",
       "Dog Breed               Affenpinscher / Beagle  \\\n",
       "Ref_Date   Postal_CODE                           \n",
       "2024-06-03 1230                            0.0   \n",
       "           1120                            0.0   \n",
       "\n",
       "Dog Breed               Affenpinscher / Border Terrier  \\\n",
       "Ref_Date   Postal_CODE                                   \n",
       "2024-06-03 1230                                    0.0   \n",
       "           1120                                    0.0   \n",
       "\n",
       "Dog Breed               Affenpinscher / Cairn Terrier  \\\n",
       "Ref_Date   Postal_CODE                                  \n",
       "2024-06-03 1230                                   0.0   \n",
       "           1120                                   0.0   \n",
       "\n",
       "Dog Breed               Affenpinscher / Griffon belge  \\\n",
       "Ref_Date   Postal_CODE                                  \n",
       "2024-06-03 1230                                   0.0   \n",
       "           1120                                   0.0   \n",
       "\n",
       "Dog Breed               Affenpinscher / Mischling  \\\n",
       "Ref_Date   Postal_CODE                              \n",
       "2024-06-03 1230                               2.0   \n",
       "           1120                               0.0   \n",
       "\n",
       "Dog Breed               Affenpinscher / Scottish Terrier  \\\n",
       "Ref_Date   Postal_CODE                                     \n",
       "2024-06-03 1230                                      0.0   \n",
       "           1120                                      0.0   \n",
       "\n",
       "Dog Breed               Affenpinscher / Shih Tzu  \\\n",
       "Ref_Date   Postal_CODE                             \n",
       "2024-06-03 1230                              0.0   \n",
       "           1120                              0.0   \n",
       "\n",
       "Dog Breed               Affenpinscher / Zwergschnauzer pfeffer-salz  ...  \\\n",
       "Ref_Date   Postal_CODE                                               ...   \n",
       "2024-06-03 1230                                                 0.0  ...   \n",
       "           1120                                                 0.0  ...   \n",
       "\n",
       "Dog Breed               Österreichischer Pinscher / Prager Rattler  \\\n",
       "Ref_Date   Postal_CODE                                               \n",
       "2024-06-03 1230                                                0.0   \n",
       "           1120                                                0.0   \n",
       "\n",
       "Dog Breed               Österreichischer Pinscher / Rauhhaar Dachshund Normal  \\\n",
       "Ref_Date   Postal_CODE                                                          \n",
       "2024-06-03 1230                                                       0.0       \n",
       "           1120                                                       0.0       \n",
       "\n",
       "Dog Breed               Österreichischer Pinscher / Shar Pei  \\\n",
       "Ref_Date   Postal_CODE                                         \n",
       "2024-06-03 1230                                          0.0   \n",
       "           1120                                          0.0   \n",
       "\n",
       "Dog Breed               Österreichischer Pinscher / Spitz  \\\n",
       "Ref_Date   Postal_CODE                                      \n",
       "2024-06-03 1230                                       0.0   \n",
       "           1120                                       0.0   \n",
       "\n",
       "Dog Breed               Österreichischer Pinscher / Tibetan Spaniel  \\\n",
       "Ref_Date   Postal_CODE                                                \n",
       "2024-06-03 1230                                                 0.0   \n",
       "           1120                                                 0.0   \n",
       "\n",
       "Dog Breed               Österreichischer Pinscher / Weimaraner Kurzhaar  \\\n",
       "Ref_Date   Postal_CODE                                                    \n",
       "2024-06-03 1230                                                     0.0   \n",
       "           1120                                                     0.0   \n",
       "\n",
       "Dog Breed               Österreichischer Pinscher / Whippet  \\\n",
       "Ref_Date   Postal_CODE                                        \n",
       "2024-06-03 1230                                         0.0   \n",
       "           1120                                         0.0   \n",
       "\n",
       "Dog Breed               Österreichischer Pinscher / Yorkshire Terrier  \\\n",
       "Ref_Date   Postal_CODE                                                  \n",
       "2024-06-03 1230                                                   0.0   \n",
       "           1120                                                   0.0   \n",
       "\n",
       "Dog Breed               Österreichischer Pinscher / Zwergpudel Rot  \\\n",
       "Ref_Date   Postal_CODE                                               \n",
       "2024-06-03 1230                                                0.0   \n",
       "           1120                                                0.0   \n",
       "\n",
       "Dog Breed               Österreichischer Pinscher / Zwergspitz (Pomeranian)  \n",
       "Ref_Date   Postal_CODE                                                       \n",
       "2024-06-03 1230                                                       0.0    \n",
       "           1120                                                       0.0    \n",
       "\n",
       "[2 rows x 4312 columns]"
      ]
     },
     "execution_count": 105,
     "metadata": {},
     "output_type": "execute_result"
    }
   ],
   "source": [
    "combined_dog_types_by_year_and_district = combined_dog_types.pivot_table(index=['Ref_Date', 'Postal_CODE'], columns='Dog Breed', values='Anzahl', fill_value=0).sort_values(by='Ref_Date', ascending=False)\n",
    "combined_dog_types_by_year_and_district.head(2)"
   ]
  },
  {
   "cell_type": "markdown",
   "id": "abbec008-d77f-4231-82dc-07badc957d84",
   "metadata": {},
   "source": [
    "Sanity Check: \n",
    "\n",
    "Values are the same (apart from 0) --> looks good. "
   ]
  },
  {
   "cell_type": "code",
   "execution_count": 36,
   "id": "2f2dac57-7a61-419b-8f6d-b68ba824a1ad",
   "metadata": {},
   "outputs": [
    {
     "name": "stdout",
     "output_type": "stream",
     "text": [
      "{np.float64(0.0)}\n"
     ]
    }
   ],
   "source": [
    "unique_values = []\n",
    "unique_values_single = []\n",
    "for col in combined_dog_types_by_year_and_district.columns:\n",
    "    unique_values.extend(combined_dog_types_by_year_and_district[col].unique())\n",
    "\n",
    "unique_values_single.extend(dog_types_2012['Anzahl'].unique())\n",
    "unique_values_single.extend(dog_types_2024['Anzahl'].unique())\n",
    "unique_values_single = set(unique_values_single)\n",
    "unique_values = set(unique_values)\n",
    "differences = unique_values.symmetric_difference(unique_values_single)\n",
    "print(differences)"
   ]
  },
  {
   "cell_type": "code",
   "execution_count": null,
   "id": "8240d46a-026b-4ef6-82ff-b6c234b35466",
   "metadata": {},
   "outputs": [],
   "source": []
  },
  {
   "cell_type": "markdown",
   "id": "b041e827-fd81-4eb8-95d3-9e6ae1c77ca7",
   "metadata": {
    "id": "b041e827-fd81-4eb8-95d3-9e6ae1c77ca7"
   },
   "source": [
    "## E2 - Exploratory data analysis (EDA)\n",
    "Use the clean dataset and understand and explore the relationships in the data (numerical, visual, statistical). This includes at least but is not limited to:\n",
    "- A comprehensive textual description of meaning for relevant fields in the dataset\n",
    "- Statistical/numerical descriptions and visualization techniques we learned in the course inluding correlations, distributions and groupings of variing degrees.\n",
    "- Checks for data quality, e. g., completeness, plausibility, outliers\n",
    "- Handling any identified problems with the data\n",
    "- If necessary, use additional data wrangling in line with your EDA and only keep what's necessary for the following steps of your analysis with appropriate data granularity and form (\"tidy data\")\n",
    "\n",
    "Don't:\n",
    "- test/prove hypotheses here. EDA should only motivate hypotheses.\n",
    "\n",
    "Advanced/bonus:\n",
    "- Depending on your hypothesis you may want to join external data (e.g., merge external highest education level to existing vaccination data) for additional insights.\n",
    "\n",
    "Explain all steps taken and your thinking why you deem them necessary."
   ]
  },
  {
   "cell_type": "code",
   "execution_count": 37,
   "id": "370ab718-fa85-4fd8-adee-7643970042ad",
   "metadata": {
    "id": "370ab718-fa85-4fd8-adee-7643970042ad"
   },
   "outputs": [],
   "source": [
    "# E2:\n",
    "\n",
    "\n",
    "\n",
    "\n",
    "\n",
    "\n"
   ]
  },
  {
   "cell_type": "code",
   "execution_count": null,
   "id": "bc62f132-be6d-46cc-9697-25546ac356cb",
   "metadata": {
    "id": "bc62f132-be6d-46cc-9697-25546ac356cb"
   },
   "outputs": [],
   "source": []
  },
  {
   "cell_type": "markdown",
   "id": "277ea477-7d0c-407b-970e-212d64b5ec94",
   "metadata": {
    "id": "277ea477-7d0c-407b-970e-212d64b5ec94"
   },
   "source": [
    "## E3 - Formulate hypotheses\n",
    "\n",
    "*Note: Read this section entirely and understand it - every group member.*\n",
    "\n",
    "A hypothesis is an idea or explanation for something that is based on known facts but has not yet been proved. A hypothesis is a compact, concise statement, such as: \"Individuals with higher income have (on average) more offspring.\", that will be answered based on facts (the data). https://gradcoach.com/what-is-a-research-hypothesis-or-scientific-hypothesis/\n",
    "\n",
    "Formulate *N* non-trivial hypotheses, 1 per group member, and regard the following criteria:\n",
    "- State the hypothesis explicitly in concise language.\n",
    "- The hypothesis must be **motivated** by either **EDA results** or **literature** (citation in the report needed).\n",
    "- The hypothesis must refer to **endpoints** that are **testable**. Specifically, the endpoint must be derived from the data.\n",
    "- Think of real-life use cases/consequences of your results (textual description).\n",
    "- For each hypothesis explain all executed steps.\n",
    "- In case of extreme or implausible results check the validity of your data.\n",
    "- For each hypothesis export the artifacts (figures, tables, etc.) required for the report.\n",
    "- If you decide to use a statistical test, use it properly. In particular, check the validity and comparability of the samples.\n",
    "\n",
    "Do not:\n",
    "- State nebulous, vague hypotheses. These don't contain endpoints and are unclear to test (i.e., answer).\n",
    "- Use post-hoc hypotheses. Portraying an empirically inspired **post hoc hypothesis as a priori** violates the **falsification principle** crucial for hypothesis-driven (that is, confirmatory) empirical research. Falsification is severe scientific fraud.\n",
    "- State trivial hypotheses (e.g., hypthesis 2: \"Not Hypothesis 1\").\n",
    "- Answer based on \"common knowledge\".\n",
    "- Try to **produce positively tested hypotheses**. If a well motivated hypothesis is negative, this is an important finding (see Simpson's Paradox). The value of a tested hypothesis lies in the information or learning it provides.\n",
    "\n",
    "Example: The homework with Simpson's Paradox. The pooled overall comparison between the genders would be the EDA motivating the hypothesis: \"At UC Berkeley the by-department admissions rate for females is lower than for males.\" It should be tested using samples of department admission rates for the 2 **groups** male and female. No steps of the test should be done in EDA (or a priory to stating the hypothesis). The groups should be compared graphically, e.g., via a stripplot overlayed with a boxplot. The figure should be labelled properly and exported for the report. A (paired) t-test **may** be used (it's optional) to test this hypothesis statistically. For different data (e.g., time series) different approaches may be required. You don't have to use statistical tests, in particular if you don't know what they are doing.\n"
   ]
  },
  {
   "cell_type": "markdown",
   "id": "09613f9f-d3ff-4b8d-b975-88437a72815c",
   "metadata": {
    "id": "09613f9f-d3ff-4b8d-b975-88437a72815c"
   },
   "source": [
    "### E3-H1: \"The prevalence of specific dog breeds in Vienna is strongly influenced by real estate prices.\"\n",
    "Rationale: Higher real estate prices may attract certain dog breeds, indicating a potential link between the types of dogs found in high-income areas and local housing costs.\n",
    "Data Needed: Dog breed data ('hunde-vie.csv'/hunde-wien.csv), Real estate prices dataset.\n",
    "\n",
    "Author: Carlos Eduardo Tichy\n"
   ]
  },
  {
   "cell_type": "code",
   "execution_count": null,
   "id": "702cdce9-5d4f-41f3-8b9e-a4363ec5d8d5",
   "metadata": {
    "id": "702cdce9-5d4f-41f3-8b9e-a4363ec5d8d5"
   },
   "outputs": [],
   "source": []
  },
  {
   "cell_type": "markdown",
   "id": "8a404fa7-19f3-49bc-adc7-9a6ae07da0c9",
   "metadata": {
    "id": "8a404fa7-19f3-49bc-adc7-9a6ae07da0c9"
   },
   "source": [
    "### E3-H2: \"xxx\"\n",
    "Author: Group member 2\n",
    "\n"
   ]
  },
  {
   "cell_type": "code",
   "execution_count": null,
   "id": "4a3711e0-13d6-4115-9d64-c9f154d27f7f",
   "metadata": {
    "id": "4a3711e0-13d6-4115-9d64-c9f154d27f7f"
   },
   "outputs": [],
   "source": []
  },
  {
   "cell_type": "markdown",
   "id": "70e60944-b857-4a32-872a-6db028c51c87",
   "metadata": {
    "id": "70e60944-b857-4a32-872a-6db028c51c87",
    "tags": []
   },
   "source": [
    "### E3-H3: \"xxx\"\n",
    "Author: Group member 3\n"
   ]
  },
  {
   "cell_type": "code",
   "execution_count": null,
   "id": "6bf1314d-47bb-4440-90f9-bef900320597",
   "metadata": {
    "id": "6bf1314d-47bb-4440-90f9-bef900320597"
   },
   "outputs": [],
   "source": []
  },
  {
   "cell_type": "markdown",
   "id": "ede91b90-ee3d-40c0-b2c4-4712413fe0e6",
   "metadata": {
    "id": "ede91b90-ee3d-40c0-b2c4-4712413fe0e6",
    "tags": []
   },
   "source": [
    "### E3-H4: \"xxx\"\n",
    "Author: Group member 4\n"
   ]
  },
  {
   "cell_type": "code",
   "execution_count": null,
   "id": "710a7064-05e8-4d52-9c1b-a6dcd143a4ae",
   "metadata": {
    "id": "710a7064-05e8-4d52-9c1b-a6dcd143a4ae"
   },
   "outputs": [],
   "source": []
  },
  {
   "cell_type": "markdown",
   "id": "5da06647-b803-4ad3-8e40-b372cf7044df",
   "metadata": {
    "id": "5da06647-b803-4ad3-8e40-b372cf7044df",
    "tags": []
   },
   "source": [
    "### E3-H5: \"xxx\"\n",
    "Author: Group member 5\n"
   ]
  },
  {
   "cell_type": "code",
   "execution_count": null,
   "id": "9f174ed8-3291-4b1e-80a3-ea441b7efc19",
   "metadata": {
    "id": "9f174ed8-3291-4b1e-80a3-ea441b7efc19"
   },
   "outputs": [],
   "source": []
  }
 ],
 "metadata": {
  "colab": {
   "provenance": []
  },
  "kernelspec": {
   "display_name": "Python 3 (ipykernel)",
   "language": "python",
   "name": "python3"
  },
  "language_info": {
   "codemirror_mode": {
    "name": "ipython",
    "version": 3
   },
   "file_extension": ".py",
   "mimetype": "text/x-python",
   "name": "python",
   "nbconvert_exporter": "python",
   "pygments_lexer": "ipython3",
   "version": "3.12.7"
  }
 },
 "nbformat": 4,
 "nbformat_minor": 5
}
