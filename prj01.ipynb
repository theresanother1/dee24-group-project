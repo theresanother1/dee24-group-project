{
 "cells": [
  {
   "cell_type": "markdown",
   "id": "e12ece56-fcd4-4665-bf8b-773b5e8c789d",
   "metadata": {
    "id": "e12ece56-fcd4-4665-bf8b-773b5e8c789d",
    "tags": []
   },
   "source": [
    "# Project Dogs  - Data Engineering\n",
    "\n",
    "This notebook is for the implementation of task \"2 Data Exploration and Analysis\", as listed in the **Project Instructions**."
   ]
  },
  {
   "cell_type": "markdown",
   "id": "507dd0c9-b92e-42a8-9635-842c2209a104",
   "metadata": {},
   "source": [
    "Group 4: \n",
    "\n",
    "Contributions made by: Punzengruber Anna Marie, Stasek Martin, Spiel Theresa, Tichy Carlos Eduardo, Till Anna "
   ]
  },
  {
   "cell_type": "markdown",
   "id": "45dfc955-b808-45ff-b0d8-c2425da31416",
   "metadata": {
    "id": "45dfc955-b808-45ff-b0d8-c2425da31416"
   },
   "source": [
    "<div class=\"alert alert-success\">\n",
    "<b>Overview:</b><br>\n",
    "Data Exploration and Analysis consists of the following parts worth 70 points:\n",
    "<ul>\n",
    "    <li><b>E1 - Obtain and Scrub</b> (15 points)</li>\n",
    "    <li><b>E2 - Exploratory data analysis (EDA) </b>(20 points)</li>\n",
    "    <li><b>E3 - Formulate hypotheses </b>(25 points)</li>\n",
    "    <li><b>Follow the guidelines for Data Exploration and Analysis below </b>(10 points)</li>\n",
    "</ul></div>"
   ]
  },
  {
   "cell_type": "markdown",
   "id": "3c8a055f",
   "metadata": {
    "id": "3c8a055f"
   },
   "source": [
    "<div class=\"alert alert-success\">\n",
    "<b>Guidelines for Data Exploration and Analysis:</b><br>\n",
    "    <ol>\n",
    "        <li>Use a single Jupyer notebook for your project.</li>\n",
    "        <li>Use only Python-code for your project.</li>\n",
    "        <li>The use of automatic and semi-automatic data analyis tools is not allowed (e. g., PandasGUI, D-Tale, Mito, etc.). Only use packages we used in the coded lectures.</li>\n",
    "        <li>Export your environment for submission as 'prj01-environment.txt'.</li>\n",
    "        <li>Upload your resulting work as a zip file containing only a single jupyter notebook and required files to run the notebook. All cell outputs and <b>figures must display in jupyter lab</b>. (Test this, in particular when you use another environment like VS Code.)</li>\n",
    "        <li>All code cells in your notebook must be runnable without errors or warnings (e. g., deprecated functions). Each error/warning subtracts -2 points (up to the full 10 points for following the  guidelines).</li>\n",
    "        <li>Use only relative paths in your project.</li>\n",
    "        <li>Avoid (excessive) code duplication.</li>\n",
    "        <li>Avoid loops iterating over pandas objects (Series, DataFrames). Explicitly justify each exception via a comment. </li>\n",
    "        <li>All coded steps in your analysis must be commented.</li>\n",
    "        <li>Keep your code as well as outputs short, precise and readable. Each long or unnecessary output subtracts -2 points (up to the full 10 points for following the project guidelines).</li>\n",
    "    </ol>\n",
    "    <b>Late submissions are not accepted and earn you 0 points on the python project. </b>\n",
    "</div>"
   ]
  },
  {
   "cell_type": "markdown",
   "id": "ea992ba9-f942-445d-a515-16dc32837466",
   "metadata": {
    "id": "ea992ba9-f942-445d-a515-16dc32837466"
   },
   "source": [
    "Explicitly list which notebook toolset was used (jupyter lab/jupyter notebook/VS Code/etc.)\n",
    "\n",
    "**here**: jupyter lab"
   ]
  },
  {
   "cell_type": "markdown",
   "id": "92f63424-1d61-4b8b-94a6-f50afea65d79",
   "metadata": {
    "id": "92f63424-1d61-4b8b-94a6-f50afea65d79",
    "tags": []
   },
   "source": [
    "Explicitly and clearly state the chosen dataset number and title:\n",
    "### Dataset 4: Bevölkerung ODÖ Hunde\n",
    "##### Hundebestand seit 2002 - Bezirke Wien --> contains info about dog density per districts over years\n",
    "##### Hunde pro Bezirk Wien --> contains info about dog breeds count per district in 2024\n",
    "##### Hunderassen Wien --> contains info about dog breeds count per district 2012 - 2017\n"
   ]
  },
  {
   "cell_type": "markdown",
   "id": "33535533184625d2",
   "metadata": {},
   "source": [
    "## Imports"
   ]
  },
  {
   "cell_type": "code",
   "execution_count": 157,
   "id": "5417f795-37f5-4c57-bdbe-36c1a00fedfe",
   "metadata": {
    "id": "5417f795-37f5-4c57-bdbe-36c1a00fedfe"
   },
   "outputs": [],
   "source": [
    "# Importing necessary packages:\n",
    "import pandas as pd\n",
    "import numpy as np\n",
    "import seaborn as sns\n",
    "import plotly.express as px\n",
    "import plotly.io as pio\n",
    "import matplotlib.pyplot as plt\n",
    "import matplotlib.colors as mcolors\n",
    "from matplotlib import colormaps\n",
    "import geopandas as gpd\n",
    "import json # to read in geojson\n",
    "from matplotlib.lines import Line2D # for custom legend\n",
    "import re\n",
    "import os\n",
    "%matplotlib inline"
   ]
  },
  {
   "cell_type": "markdown",
   "id": "0999a549-323a-4537-963f-3a1a746b77fd",
   "metadata": {
    "id": "0999a549-323a-4537-963f-3a1a746b77fd"
   },
   "source": [
    "## E1 - Obtain and Scrub"
   ]
  },
  {
   "cell_type": "markdown",
   "id": "937713cc-715f-4930-ae10-ebeeaec55685",
   "metadata": {
    "id": "937713cc-715f-4930-ae10-ebeeaec55685"
   },
   "source": [
    "### Obtain\n",
    "Download the dataset and understand both:\n",
    "- format: wide vs. long, separaters, decimal points, encoding, etc., and\n",
    "- content: what variables are in the columns, what is their meaning?\n",
    "To this end, identify and download metadata such as headers, category listings, explanatory reports, etc.\n",
    "### Scrub\n",
    "The aim of scrub is to create a clean version of the data for further analysis.\n",
    "- Load the dataset and take care of dtypes (dates, numbers, categories, etc.). Justify why you don't load/use specific columns.\n",
    "- Check for footnotes or any other notifications on special cell content, such as time series breaks. Follow up that information, and document your decision how to deal with it. Remember: A homework contained such info in the cell \"76.1 b\". The metadata defines what that \"b\" stands for.\n",
    "- Choose an appropriate (Multi-)Index.\n",
    "- Identify:\n",
    "    1. missing values and get row and column overviews. Use graphical and/or numeric approaches. Once identified, handle missing values according to column type, time series property and data set size.\n",
    "    2. duplicates (justify the used column subset). Remove duplicates - if any - and inspect what you removed.\n",
    "- Transform to shape (tidy vs. wide) best suited for further analysis.\n",
    "- Export the clean data to a file for inspection with an external data browser (e.g., MS Excel).\n",
    "- Provide an overview of the clean dataset:\n",
    "    1. show the dtypes\n",
    "    2. quantitative column descriptions:\n",
    "        1. categorical columns: number of unique values, counts\n",
    "        2. numeric columns: range and median"
   ]
  },
  {
   "cell_type": "markdown",
   "id": "CM15Z24i0wnM",
   "metadata": {
    "id": "CM15Z24i0wnM",
    "tags": []
   },
   "source": [
    "### Dataset 1 (Hundebestand seit 2002 - Bezirke Wien)\n",
    "Number of dogs (absolute and per 1,000 inhabitants) since 2002 - districts of Vienna\n",
    " \t* NUTS | NUTS2-Region (Bundesland)\n",
    "  * DISTRICT_CODE | Gemeindebezirkskennzahl (Schema: 9BBZZ, BB=Nummer Bezirk, ZZ=00)\n",
    "  * SUB_DISTRICT_CODE | Zählbezirkskennzahl gemäß Stadt Wien (Schema: 9BBZZ, 9=Kennzeichnung Wien, BB=Nummer Bezirk, ZZ=Nummer Zählbezirk, **ZZ=99 bei fehlender Zählbezirkskennzeichnung**)\n",
    "  * REF_YEAR | Referenzjahr\n",
    "  * REF_DATE | Referenzdatum\n",
    "  * DOG_VALUE | Anzahl der Hunde (absolut)\n",
    "  * DOG_DENSITY | Anzahl der Hunde pro 1.000 EinwohnerInnen\n",
    "\n",
    "Source: https://www.data.gv.at/katalog/dataset/1a48e78a-c660-41e0-ac32-8b675c0ea39c#additional-info\n",
    "\n"
   ]
  },
  {
   "cell_type": "markdown",
   "id": "SqP0q91O-iim",
   "metadata": {
    "id": "SqP0q91O-iim"
   },
   "source": [
    "#### Obtain"
   ]
  },
  {
   "cell_type": "code",
   "execution_count": 158,
   "id": "cc301dcd",
   "metadata": {},
   "outputs": [
    {
     "name": "stdout",
     "output_type": "stream",
     "text": [
      "Dataframe shape:  (528, 17)\n"
     ]
    },
    {
     "data": {
      "text/html": [
       "<div>\n",
       "<style scoped>\n",
       "    .dataframe tbody tr th:only-of-type {\n",
       "        vertical-align: middle;\n",
       "    }\n",
       "\n",
       "    .dataframe tbody tr th {\n",
       "        vertical-align: top;\n",
       "    }\n",
       "\n",
       "    .dataframe thead th {\n",
       "        text-align: right;\n",
       "    }\n",
       "</style>\n",
       "<table border=\"1\" class=\"dataframe\">\n",
       "  <thead>\n",
       "    <tr style=\"text-align: right;\">\n",
       "      <th></th>\n",
       "      <th>NUTS</th>\n",
       "      <th>DISTRICT_CODE</th>\n",
       "      <th>SUB_DISTRICT_CODE</th>\n",
       "      <th>REF_YEAR</th>\n",
       "      <th>REF_DATE</th>\n",
       "      <th>DOG_VALUE</th>\n",
       "      <th>DOG_DENSITY</th>\n",
       "      <th>Unnamed: 7</th>\n",
       "      <th>Unnamed: 8</th>\n",
       "      <th>Unnamed: 9</th>\n",
       "      <th>Unnamed: 10</th>\n",
       "      <th>Unnamed: 11</th>\n",
       "      <th>Unnamed: 12</th>\n",
       "      <th>Unnamed: 13</th>\n",
       "      <th>Unnamed: 14</th>\n",
       "      <th>Unnamed: 15</th>\n",
       "      <th>Unnamed: 16</th>\n",
       "    </tr>\n",
       "  </thead>\n",
       "  <tbody>\n",
       "    <tr>\n",
       "      <th>0</th>\n",
       "      <td>AT13</td>\n",
       "      <td>90000</td>\n",
       "      <td>90000</td>\n",
       "      <td>2002</td>\n",
       "      <td>20020101</td>\n",
       "      <td>46.933</td>\n",
       "      <td>29,87</td>\n",
       "      <td>NaN</td>\n",
       "      <td>NaN</td>\n",
       "      <td>NaN</td>\n",
       "      <td>NaN</td>\n",
       "      <td>NaN</td>\n",
       "      <td>NaN</td>\n",
       "      <td>NaN</td>\n",
       "      <td>NaN</td>\n",
       "      <td>NaN</td>\n",
       "      <td>NaN</td>\n",
       "    </tr>\n",
       "    <tr>\n",
       "      <th>1</th>\n",
       "      <td>AT13</td>\n",
       "      <td>90100</td>\n",
       "      <td>90100</td>\n",
       "      <td>2002</td>\n",
       "      <td>20020101</td>\n",
       "      <td>542</td>\n",
       "      <td>30,74</td>\n",
       "      <td>NaN</td>\n",
       "      <td>NaN</td>\n",
       "      <td>NaN</td>\n",
       "      <td>NaN</td>\n",
       "      <td>NaN</td>\n",
       "      <td>NaN</td>\n",
       "      <td>NaN</td>\n",
       "      <td>NaN</td>\n",
       "      <td>NaN</td>\n",
       "      <td>NaN</td>\n",
       "    </tr>\n",
       "    <tr>\n",
       "      <th>2</th>\n",
       "      <td>AT13</td>\n",
       "      <td>90200</td>\n",
       "      <td>90200</td>\n",
       "      <td>2002</td>\n",
       "      <td>20020101</td>\n",
       "      <td>2.251</td>\n",
       "      <td>25,29</td>\n",
       "      <td>NaN</td>\n",
       "      <td>NaN</td>\n",
       "      <td>NaN</td>\n",
       "      <td>NaN</td>\n",
       "      <td>NaN</td>\n",
       "      <td>NaN</td>\n",
       "      <td>NaN</td>\n",
       "      <td>NaN</td>\n",
       "      <td>NaN</td>\n",
       "      <td>NaN</td>\n",
       "    </tr>\n",
       "    <tr>\n",
       "      <th>3</th>\n",
       "      <td>AT13</td>\n",
       "      <td>90300</td>\n",
       "      <td>90300</td>\n",
       "      <td>2002</td>\n",
       "      <td>20020101</td>\n",
       "      <td>1.904</td>\n",
       "      <td>23,16</td>\n",
       "      <td>NaN</td>\n",
       "      <td>NaN</td>\n",
       "      <td>NaN</td>\n",
       "      <td>NaN</td>\n",
       "      <td>NaN</td>\n",
       "      <td>NaN</td>\n",
       "      <td>NaN</td>\n",
       "      <td>NaN</td>\n",
       "      <td>NaN</td>\n",
       "      <td>NaN</td>\n",
       "    </tr>\n",
       "    <tr>\n",
       "      <th>4</th>\n",
       "      <td>AT13</td>\n",
       "      <td>90400</td>\n",
       "      <td>90400</td>\n",
       "      <td>2002</td>\n",
       "      <td>20020101</td>\n",
       "      <td>615</td>\n",
       "      <td>21,23</td>\n",
       "      <td>NaN</td>\n",
       "      <td>NaN</td>\n",
       "      <td>NaN</td>\n",
       "      <td>NaN</td>\n",
       "      <td>NaN</td>\n",
       "      <td>NaN</td>\n",
       "      <td>NaN</td>\n",
       "      <td>NaN</td>\n",
       "      <td>NaN</td>\n",
       "      <td>NaN</td>\n",
       "    </tr>\n",
       "  </tbody>\n",
       "</table>\n",
       "</div>"
      ],
      "text/plain": [
       "   NUTS  DISTRICT_CODE  SUB_DISTRICT_CODE  REF_YEAR  REF_DATE DOG_VALUE  \\\n",
       "0  AT13          90000              90000      2002  20020101   46.933    \n",
       "1  AT13          90100              90100      2002  20020101      542    \n",
       "2  AT13          90200              90200      2002  20020101    2.251    \n",
       "3  AT13          90300              90300      2002  20020101    1.904    \n",
       "4  AT13          90400              90400      2002  20020101      615    \n",
       "\n",
       "  DOG_DENSITY  Unnamed: 7  Unnamed: 8  Unnamed: 9  Unnamed: 10  Unnamed: 11  \\\n",
       "0      29,87          NaN         NaN         NaN          NaN          NaN   \n",
       "1      30,74          NaN         NaN         NaN          NaN          NaN   \n",
       "2      25,29          NaN         NaN         NaN          NaN          NaN   \n",
       "3      23,16          NaN         NaN         NaN          NaN          NaN   \n",
       "4      21,23          NaN         NaN         NaN          NaN          NaN   \n",
       "\n",
       "   Unnamed: 12  Unnamed: 13  Unnamed: 14  Unnamed: 15  Unnamed: 16  \n",
       "0          NaN          NaN          NaN          NaN          NaN  \n",
       "1          NaN          NaN          NaN          NaN          NaN  \n",
       "2          NaN          NaN          NaN          NaN          NaN  \n",
       "3          NaN          NaN          NaN          NaN          NaN  \n",
       "4          NaN          NaN          NaN          NaN          NaN  "
      ]
     },
     "execution_count": 158,
     "metadata": {},
     "output_type": "execute_result"
    }
   ],
   "source": [
    "# Import the first data set\n",
    "dogs_2002 = pd.read_csv(\"vie-bez-biz-spo-dog-2002f.csv\", sep=';', skiprows=1, dtype={\"DOG_VALUE\": \"object\", \"DOG_DENSITY\": \"object\"})\n",
    "print(\"Dataframe shape: \", dogs_2002.shape)\n",
    "dogs_2002.head(5)"
   ]
  },
  {
   "cell_type": "markdown",
   "id": "cYHcuGm_0vRs",
   "metadata": {
    "id": "cYHcuGm_0vRs"
   },
   "source": [
    "* The separator is ';'.\n",
    "* The encoding is 'utf-8'.\n",
    "* The original shape is (528, 17) - but many columns full of NaNs (later: cleaned up data => shape=(528, 7)).\n",
    "* Long format:  \n",
    "  * Contains entries for years by district of overall dog density sorted by years.\n",
    "  * each row represents a single observation of district by year and dog breeds\n",
    "* The first row contains the csv title. It is dropped and the second row is used for column titles.\n",
    "* First column 'NUTS' (= identification and classification system for european states) contains always the same value, since 'AT13' stands for Vienna (and we only have data for Vienna in this dataset). We could drop it, but it also doesn't bother us too much right now\n",
    "* DISTRICT_CODE '90000' stands for all districts combined\n",
    "* Need to import DOG_VALUE as objects because the '.' in some values does not allow conversion to integer right now. Without specifying it, the values are recognised as floats.\n",
    "* We also import DOG_DENSITY as objects because we need to convert the ',' to '.' to allow conversion to floats afterwards\n"
   ]
  },
  {
   "cell_type": "markdown",
   "id": "PMX1AMbE-nAF",
   "metadata": {
    "id": "PMX1AMbE-nAF"
   },
   "source": [
    "#### Scrub"
   ]
  },
  {
   "cell_type": "code",
   "execution_count": 159,
   "id": "3685b415",
   "metadata": {},
   "outputs": [
    {
     "data": {
      "text/plain": [
       "Unnamed: 8           100.0\n",
       "Unnamed: 9           100.0\n",
       "Unnamed: 15          100.0\n",
       "Unnamed: 14          100.0\n",
       "Unnamed: 13          100.0\n",
       "Unnamed: 12          100.0\n",
       "Unnamed: 11          100.0\n",
       "Unnamed: 10          100.0\n",
       "Unnamed: 16          100.0\n",
       "Unnamed: 7           100.0\n",
       "DISTRICT_CODE          0.0\n",
       "DOG_DENSITY            0.0\n",
       "DOG_VALUE              0.0\n",
       "REF_DATE               0.0\n",
       "REF_YEAR               0.0\n",
       "SUB_DISTRICT_CODE      0.0\n",
       "NUTS                   0.0\n",
       "dtype: float64"
      ]
     },
     "execution_count": 159,
     "metadata": {},
     "output_type": "execute_result"
    }
   ],
   "source": [
    "# check columns and their missing data ratio\n",
    "((dogs_2002.isnull().sum() / len(dogs_2002)) * 100).sort_values(ascending=False)"
   ]
  },
  {
   "cell_type": "code",
   "execution_count": 160,
   "id": "4a5762f0",
   "metadata": {},
   "outputs": [
    {
     "name": "stdout",
     "output_type": "stream",
     "text": [
      "Dataframe shape:  (528, 7)\n"
     ]
    }
   ],
   "source": [
    "# drop all cols with NaN --> lots because of multiple 'unnecessary' seperators ';' in last columns\n",
    "# other columns have no missing values\n",
    "dogs_2002 = dogs_2002.dropna(axis=1, how='any')\n",
    "print(\"Dataframe shape: \", dogs_2002.shape)"
   ]
  },
  {
   "cell_type": "code",
   "execution_count": 161,
   "id": "PPMkfTio-dM1",
   "metadata": {
    "colab": {
     "base_uri": "https://localhost:8080/"
    },
    "id": "PPMkfTio-dM1",
    "outputId": "d71ebb33-3561-46d0-a5c9-232b19d34e3f"
   },
   "outputs": [
    {
     "name": "stdout",
     "output_type": "stream",
     "text": [
      "NUTS                 object\n",
      "DISTRICT_CODE         int64\n",
      "SUB_DISTRICT_CODE     int64\n",
      "REF_YEAR              int64\n",
      "REF_DATE              int64\n",
      "DOG_VALUE            object\n",
      "DOG_DENSITY          object\n",
      "dtype: object\n"
     ]
    }
   ],
   "source": [
    "print(dogs_2002.dtypes)"
   ]
  },
  {
   "cell_type": "markdown",
   "id": "C17S4bNNA_Kj",
   "metadata": {
    "id": "C17S4bNNA_Kj"
   },
   "source": [
    "Remove '.' in DOG_VALUE and convert to integer.\n",
    "\n",
    "Change DOG_DENSITY to use '.' instead of ',' and the format to float to be able to calculate with it, if needed.\n",
    "\n",
    "Change REF_DATE to format datetime since its currently int64."
   ]
  },
  {
   "cell_type": "code",
   "execution_count": 162,
   "id": "O_UvJZKM_Hba",
   "metadata": {
    "id": "O_UvJZKM_Hba"
   },
   "outputs": [],
   "source": [
    "dogs_2002['DOG_VALUE'] = dogs_2002['DOG_VALUE'].str.replace('.', '', regex=False).astype(int)\n",
    "dogs_2002['DOG_DENSITY'] = dogs_2002['DOG_DENSITY'].str.replace(',', '.', regex=False).astype(float)\n",
    "dogs_2002['REF_DATE'] = pd.to_datetime(dogs_2002['REF_DATE'].astype(str), format='%Y%m%d')"
   ]
  },
  {
   "cell_type": "code",
   "execution_count": 163,
   "id": "u8LNjDOZ_6LA",
   "metadata": {
    "colab": {
     "base_uri": "https://localhost:8080/",
     "height": 275
    },
    "id": "u8LNjDOZ_6LA",
    "outputId": "56ce61ba-57c2-45bb-c4ee-08bccb4b1388"
   },
   "outputs": [
    {
     "name": "stdout",
     "output_type": "stream",
     "text": [
      "NUTS                         object\n",
      "DISTRICT_CODE                 int64\n",
      "SUB_DISTRICT_CODE             int64\n",
      "REF_YEAR                      int64\n",
      "REF_DATE             datetime64[ns]\n",
      "DOG_VALUE                     int32\n",
      "DOG_DENSITY                 float64\n",
      "dtype: object\n"
     ]
    },
    {
     "data": {
      "text/html": [
       "<div>\n",
       "<style scoped>\n",
       "    .dataframe tbody tr th:only-of-type {\n",
       "        vertical-align: middle;\n",
       "    }\n",
       "\n",
       "    .dataframe tbody tr th {\n",
       "        vertical-align: top;\n",
       "    }\n",
       "\n",
       "    .dataframe thead th {\n",
       "        text-align: right;\n",
       "    }\n",
       "</style>\n",
       "<table border=\"1\" class=\"dataframe\">\n",
       "  <thead>\n",
       "    <tr style=\"text-align: right;\">\n",
       "      <th></th>\n",
       "      <th>NUTS</th>\n",
       "      <th>DISTRICT_CODE</th>\n",
       "      <th>SUB_DISTRICT_CODE</th>\n",
       "      <th>REF_YEAR</th>\n",
       "      <th>REF_DATE</th>\n",
       "      <th>DOG_VALUE</th>\n",
       "      <th>DOG_DENSITY</th>\n",
       "    </tr>\n",
       "  </thead>\n",
       "  <tbody>\n",
       "    <tr>\n",
       "      <th>0</th>\n",
       "      <td>AT13</td>\n",
       "      <td>90000</td>\n",
       "      <td>90000</td>\n",
       "      <td>2002</td>\n",
       "      <td>2002-01-01</td>\n",
       "      <td>46933</td>\n",
       "      <td>29.87</td>\n",
       "    </tr>\n",
       "    <tr>\n",
       "      <th>1</th>\n",
       "      <td>AT13</td>\n",
       "      <td>90100</td>\n",
       "      <td>90100</td>\n",
       "      <td>2002</td>\n",
       "      <td>2002-01-01</td>\n",
       "      <td>542</td>\n",
       "      <td>30.74</td>\n",
       "    </tr>\n",
       "  </tbody>\n",
       "</table>\n",
       "</div>"
      ],
      "text/plain": [
       "   NUTS  DISTRICT_CODE  SUB_DISTRICT_CODE  REF_YEAR   REF_DATE  DOG_VALUE  \\\n",
       "0  AT13          90000              90000      2002 2002-01-01      46933   \n",
       "1  AT13          90100              90100      2002 2002-01-01        542   \n",
       "\n",
       "   DOG_DENSITY  \n",
       "0        29.87  \n",
       "1        30.74  "
      ]
     },
     "execution_count": 163,
     "metadata": {},
     "output_type": "execute_result"
    }
   ],
   "source": [
    "print(dogs_2002.dtypes)\n",
    "dogs_2002.head(2)"
   ]
  },
  {
   "cell_type": "markdown",
   "id": "RSZJCWbVDdm_",
   "metadata": {
    "id": "RSZJCWbVDdm_"
   },
   "source": [
    "* District Code and Sub District Code are the same --> removing Sub District Code\n",
    "* add Postal_CODE column for better comparison between datasets"
   ]
  },
  {
   "cell_type": "code",
   "execution_count": 164,
   "id": "0ElC1KTTCTrW",
   "metadata": {
    "colab": {
     "base_uri": "https://localhost:8080/"
    },
    "id": "0ElC1KTTCTrW",
    "outputId": "363fd93d-c1d0-4c8c-bedc-489e3c407c54"
   },
   "outputs": [
    {
     "name": "stdout",
     "output_type": "stream",
     "text": [
      "(array([ True]), array([528], dtype=int64))\n"
     ]
    },
    {
     "data": {
      "text/html": [
       "<div>\n",
       "<style scoped>\n",
       "    .dataframe tbody tr th:only-of-type {\n",
       "        vertical-align: middle;\n",
       "    }\n",
       "\n",
       "    .dataframe tbody tr th {\n",
       "        vertical-align: top;\n",
       "    }\n",
       "\n",
       "    .dataframe thead th {\n",
       "        text-align: right;\n",
       "    }\n",
       "</style>\n",
       "<table border=\"1\" class=\"dataframe\">\n",
       "  <thead>\n",
       "    <tr style=\"text-align: right;\">\n",
       "      <th></th>\n",
       "      <th>NUTS</th>\n",
       "      <th>DISTRICT_CODE</th>\n",
       "      <th>REF_YEAR</th>\n",
       "      <th>REF_DATE</th>\n",
       "      <th>DOG_VALUE</th>\n",
       "      <th>DOG_DENSITY</th>\n",
       "      <th>Postal_CODE</th>\n",
       "    </tr>\n",
       "  </thead>\n",
       "  <tbody>\n",
       "    <tr>\n",
       "      <th>0</th>\n",
       "      <td>AT13</td>\n",
       "      <td>90000</td>\n",
       "      <td>2002</td>\n",
       "      <td>2002-01-01</td>\n",
       "      <td>46933</td>\n",
       "      <td>29.87</td>\n",
       "      <td>1000</td>\n",
       "    </tr>\n",
       "    <tr>\n",
       "      <th>1</th>\n",
       "      <td>AT13</td>\n",
       "      <td>90100</td>\n",
       "      <td>2002</td>\n",
       "      <td>2002-01-01</td>\n",
       "      <td>542</td>\n",
       "      <td>30.74</td>\n",
       "      <td>1010</td>\n",
       "    </tr>\n",
       "  </tbody>\n",
       "</table>\n",
       "</div>"
      ],
      "text/plain": [
       "   NUTS  DISTRICT_CODE  REF_YEAR   REF_DATE  DOG_VALUE  DOG_DENSITY  \\\n",
       "0  AT13          90000      2002 2002-01-01      46933        29.87   \n",
       "1  AT13          90100      2002 2002-01-01        542        30.74   \n",
       "\n",
       "  Postal_CODE  \n",
       "0        1000  \n",
       "1        1010  "
      ]
     },
     "execution_count": 164,
     "metadata": {},
     "output_type": "execute_result"
    }
   ],
   "source": [
    "# only execute if not already done (avoids errors)\n",
    "if 'SUB_DISTRICT_CODE' in dogs_2002.columns:\n",
    "    print(np.unique([dogs_2002['DISTRICT_CODE'] == dogs_2002['SUB_DISTRICT_CODE']], return_counts=True)) # check that columns are actually the same\n",
    "    dogs_2002.drop(columns=['SUB_DISTRICT_CODE'], inplace=True)\n",
    "dogs_2002[\"Postal_CODE\"] = \"1\" + dogs_2002['DISTRICT_CODE'].astype(str).str[1:3] + \"0\"\n",
    "dogs_2002.head(2) # Postal_CODE=1000 represents Vienna in total"
   ]
  },
  {
   "cell_type": "markdown",
   "id": "KP8umAEWEaKh",
   "metadata": {
    "id": "KP8umAEWEaKh"
   },
   "source": [
    "Check for duplicates --> looks good:"
   ]
  },
  {
   "cell_type": "code",
   "execution_count": 165,
   "id": "4c954974",
   "metadata": {},
   "outputs": [
    {
     "data": {
      "text/plain": [
       "False"
      ]
     },
     "execution_count": 165,
     "metadata": {},
     "output_type": "execute_result"
    }
   ],
   "source": [
    "dogs_2002.duplicated(subset=['DISTRICT_CODE', 'REF_YEAR']).any()"
   ]
  },
  {
   "cell_type": "code",
   "execution_count": 166,
   "id": "581135e2-0fdb-406f-a925-db5889f6e61f",
   "metadata": {},
   "outputs": [
    {
     "data": {
      "text/plain": [
       "count    528.000000\n",
       "mean      28.048258\n",
       "std        8.464126\n",
       "min       16.450000\n",
       "25%       20.832500\n",
       "50%       25.655000\n",
       "75%       33.167500\n",
       "max       49.660000\n",
       "Name: DOG_DENSITY, dtype: float64"
      ]
     },
     "execution_count": 166,
     "metadata": {},
     "output_type": "execute_result"
    }
   ],
   "source": [
    "# get statistcs for DOG_DENSITY\n",
    "dogs_2002['DOG_DENSITY'].describe()"
   ]
  },
  {
   "cell_type": "code",
   "execution_count": 167,
   "id": "78ec34e9-f224-40b2-bb26-1a5640cb4ba5",
   "metadata": {},
   "outputs": [],
   "source": [
    "# export dataset to excel\n",
    "dogs_2002.to_excel('dataset_1_cleaned.xlsx')"
   ]
  },
  {
   "cell_type": "markdown",
   "id": "Yb9o7VSC3PmW",
   "metadata": {
    "id": "Yb9o7VSC3PmW"
   },
   "source": [
    "### Dataset 2 (Hunde pro Bezirk Wien)\n",
    "  Number of registered dogs in Vienna per district and dog breed in the year 2024.\n",
    "\n",
    "  * NUTS1 NUTS2 NUTS3: same as before, but NUTS3 in addition: provides district information for Vienna\n",
    "  * DISTRICT_CODE: same structure as before\n",
    "  * SUB_DISTRICT_CODE\n",
    "  * Postal_CODE\n",
    "  * Dog Breed\n",
    "  * Anzahl\n",
    "  * Ref_Date\n",
    "\n",
    "Source: https://www.data.gv.at/katalog/dataset/71edef44-9d6c-4042-ab71-7207dc930ba7#additional-info"
   ]
  },
  {
   "cell_type": "markdown",
   "id": "o3r727dnBgMa",
   "metadata": {
    "id": "o3r727dnBgMa"
   },
   "source": [
    "#### Obtain"
   ]
  },
  {
   "cell_type": "code",
   "execution_count": 168,
   "id": "OZ33eJS5uLoR",
   "metadata": {
    "colab": {
     "base_uri": "https://localhost:8080/",
     "height": 311
    },
    "id": "OZ33eJS5uLoR",
    "outputId": "d5847ce1-9657-4d88-f4ae-28ff9db150d5"
   },
   "outputs": [
    {
     "name": "stdout",
     "output_type": "stream",
     "text": [
      "Dataframe shape:  (11117, 9)\n"
     ]
    },
    {
     "data": {
      "text/html": [
       "<div>\n",
       "<style scoped>\n",
       "    .dataframe tbody tr th:only-of-type {\n",
       "        vertical-align: middle;\n",
       "    }\n",
       "\n",
       "    .dataframe tbody tr th {\n",
       "        vertical-align: top;\n",
       "    }\n",
       "\n",
       "    .dataframe thead th {\n",
       "        text-align: right;\n",
       "    }\n",
       "</style>\n",
       "<table border=\"1\" class=\"dataframe\">\n",
       "  <thead>\n",
       "    <tr style=\"text-align: right;\">\n",
       "      <th></th>\n",
       "      <th>NUTS1</th>\n",
       "      <th>NUTS2</th>\n",
       "      <th>NUTS3</th>\n",
       "      <th>DISTRICT_CODE</th>\n",
       "      <th>SUB_DISTRICT_CODE</th>\n",
       "      <th>Postal_CODE</th>\n",
       "      <th>Dog Breed</th>\n",
       "      <th>Anzahl</th>\n",
       "      <th>Ref_Date</th>\n",
       "    </tr>\n",
       "  </thead>\n",
       "  <tbody>\n",
       "    <tr>\n",
       "      <th>0</th>\n",
       "      <td>AT1</td>\n",
       "      <td>AT13</td>\n",
       "      <td>AT113</td>\n",
       "      <td>90100</td>\n",
       "      <td>.</td>\n",
       "      <td>1010</td>\n",
       "      <td>Afghanischer Windhund / Mischling</td>\n",
       "      <td>1</td>\n",
       "      <td>20240603</td>\n",
       "    </tr>\n",
       "    <tr>\n",
       "      <th>1</th>\n",
       "      <td>AT1</td>\n",
       "      <td>AT13</td>\n",
       "      <td>AT113</td>\n",
       "      <td>90100</td>\n",
       "      <td>.</td>\n",
       "      <td>1010</td>\n",
       "      <td>Akita / Belgischer Schäferhund</td>\n",
       "      <td>1</td>\n",
       "      <td>20240603</td>\n",
       "    </tr>\n",
       "  </tbody>\n",
       "</table>\n",
       "</div>"
      ],
      "text/plain": [
       "  NUTS1 NUTS2  NUTS3  DISTRICT_CODE SUB_DISTRICT_CODE  Postal_CODE  \\\n",
       "0   AT1  AT13  AT113          90100                 .         1010   \n",
       "1   AT1  AT13  AT113          90100                 .         1010   \n",
       "\n",
       "                           Dog Breed Anzahl  Ref_Date  \n",
       "0  Afghanischer Windhund / Mischling      1  20240603  \n",
       "1     Akita / Belgischer Schäferhund      1  20240603  "
      ]
     },
     "execution_count": 168,
     "metadata": {},
     "output_type": "execute_result"
    }
   ],
   "source": [
    "# Import dataset 2\n",
    "dog_types_2024 = pd.read_csv(\"hunde-wien.csv\", sep=';', encoding='latin-1', skiprows=1, dtype={\"Anzahl\": \"object\"})\n",
    "\n",
    "print(\"Dataframe shape: \", dog_types_2024.shape)\n",
    "dog_types_2024.head(2)"
   ]
  },
  {
   "cell_type": "markdown",
   "id": "wOsgnkig3lLM",
   "metadata": {
    "id": "wOsgnkig3lLM"
   },
   "source": [
    "* The separator is ';'\n",
    "* The encoding is 'latin-1'.\n",
    "* The shape is (11117, 9).\n",
    "* Mixed breeds are also included, like 'Hovawart / Golden Retriever'.\n",
    "* Format is long:\n",
    "  * dog breeds can appear multiple times in breed-column. This is the case if at least two dogs of a breed are registered in different districts. If there is no dog of a specific breed registered in a distric, it is not listed in the dataset for this district.\n",
    "  * Every district and breed combination has a single count value\n",
    "* We import 'Anzahl'-column as objects, because there is a value that contains a '.' (Point). Therefore, it would be recognised as a float even though these values should be all integers."
   ]
  },
  {
   "cell_type": "markdown",
   "id": "LD3kkP6yBjxE",
   "metadata": {
    "id": "LD3kkP6yBjxE"
   },
   "source": [
    "#### Scrub"
   ]
  },
  {
   "cell_type": "code",
   "execution_count": 169,
   "id": "b8c1c6dc",
   "metadata": {},
   "outputs": [
    {
     "data": {
      "text/plain": [
       "NUTS1                0.0\n",
       "NUTS2                0.0\n",
       "NUTS3                0.0\n",
       "DISTRICT_CODE        0.0\n",
       "SUB_DISTRICT_CODE    0.0\n",
       "Postal_CODE          0.0\n",
       "Dog Breed            0.0\n",
       "Anzahl               0.0\n",
       "Ref_Date             0.0\n",
       "dtype: float64"
      ]
     },
     "execution_count": 169,
     "metadata": {},
     "output_type": "execute_result"
    }
   ],
   "source": [
    "# check columns and their missing data ratio => no missing data\n",
    "((dog_types_2024.isnull().sum() / len(dog_types_2024)) * 100).sort_values(ascending=False)"
   ]
  },
  {
   "cell_type": "code",
   "execution_count": 170,
   "id": "P41XHNLCBktj",
   "metadata": {
    "colab": {
     "base_uri": "https://localhost:8080/"
    },
    "id": "P41XHNLCBktj",
    "outputId": "aef54597-595a-4d45-fd22-56336480ba50"
   },
   "outputs": [
    {
     "data": {
      "text/html": [
       "<div>\n",
       "<style scoped>\n",
       "    .dataframe tbody tr th:only-of-type {\n",
       "        vertical-align: middle;\n",
       "    }\n",
       "\n",
       "    .dataframe tbody tr th {\n",
       "        vertical-align: top;\n",
       "    }\n",
       "\n",
       "    .dataframe thead th {\n",
       "        text-align: right;\n",
       "    }\n",
       "</style>\n",
       "<table border=\"1\" class=\"dataframe\">\n",
       "  <thead>\n",
       "    <tr style=\"text-align: right;\">\n",
       "      <th></th>\n",
       "      <th>NUTS1</th>\n",
       "      <th>NUTS2</th>\n",
       "      <th>NUTS3</th>\n",
       "      <th>DISTRICT_CODE</th>\n",
       "      <th>SUB_DISTRICT_CODE</th>\n",
       "      <th>Postal_CODE</th>\n",
       "      <th>Dog Breed</th>\n",
       "      <th>Anzahl</th>\n",
       "      <th>Ref_Date</th>\n",
       "    </tr>\n",
       "  </thead>\n",
       "  <tbody>\n",
       "    <tr>\n",
       "      <th>0</th>\n",
       "      <td>object</td>\n",
       "      <td>object</td>\n",
       "      <td>object</td>\n",
       "      <td>int64</td>\n",
       "      <td>object</td>\n",
       "      <td>int64</td>\n",
       "      <td>object</td>\n",
       "      <td>object</td>\n",
       "      <td>int64</td>\n",
       "    </tr>\n",
       "  </tbody>\n",
       "</table>\n",
       "</div>"
      ],
      "text/plain": [
       "    NUTS1   NUTS2   NUTS3 DISTRICT_CODE SUB_DISTRICT_CODE Postal_CODE  \\\n",
       "0  object  object  object         int64            object       int64   \n",
       "\n",
       "  Dog Breed  Anzahl Ref_Date  \n",
       "0    object  object    int64  "
      ]
     },
     "execution_count": 170,
     "metadata": {},
     "output_type": "execute_result"
    }
   ],
   "source": [
    "dog_types_2024.dtypes.to_frame().T"
   ]
  },
  {
   "cell_type": "markdown",
   "id": "b_-WR17pGj9e",
   "metadata": {
    "id": "b_-WR17pGj9e"
   },
   "source": [
    "Looks like some columns only have 1 unique value => NUTS1-3, SUB_DISTRICT_CODE and Ref_Date to be exact. Also, no district is missing, which is good."
   ]
  },
  {
   "cell_type": "code",
   "execution_count": 171,
   "id": "0d75f7a4",
   "metadata": {},
   "outputs": [
    {
     "data": {
      "text/plain": [
       "NUTS1                   1\n",
       "NUTS2                   1\n",
       "NUTS3                   1\n",
       "DISTRICT_CODE          23\n",
       "SUB_DISTRICT_CODE       1\n",
       "Postal_CODE            23\n",
       "Dog Breed            3481\n",
       "Anzahl                152\n",
       "Ref_Date                1\n",
       "dtype: int64"
      ]
     },
     "execution_count": 171,
     "metadata": {},
     "output_type": "execute_result"
    }
   ],
   "source": [
    "#get count of unique values in each col\n",
    "dog_types_2024.nunique()"
   ]
  },
  {
   "cell_type": "code",
   "execution_count": 172,
   "id": "36757578",
   "metadata": {},
   "outputs": [
    {
     "name": "stdout",
     "output_type": "stream",
     "text": [
      "DISTRICT_CODE: [90100 90200 90300 90400 90500 90600 90700 90800 90900 91000 91100 91200\n",
      " 91300 91400 91500 91600 91700 91800 91900 92000 92100 92200 92300]\n",
      "Postal_CODE: [1010 1020 1030 1040 1050 1060 1070 1080 1090 1100 1110 1120 1130 1140\n",
      " 1150 1160 1170 1180 1190 1200 1210 1220 1230]\n"
     ]
    }
   ],
   "source": [
    "print(\"DISTRICT_CODE:\", dog_types_2024[\"DISTRICT_CODE\"].unique())\n",
    "print(\"Postal_CODE:\", dog_types_2024[\"Postal_CODE\"].unique())"
   ]
  },
  {
   "cell_type": "markdown",
   "id": "5hVfZLltI_8L",
   "metadata": {
    "id": "5hVfZLltI_8L"
   },
   "source": [
    "Drop NUTS1, NUTS2, NUTS3 and SUB_DISTRICT CODE. Don't want to drop Ref_Date yet, maybe could be used for some insights with the above data frame."
   ]
  },
  {
   "cell_type": "code",
   "execution_count": 173,
   "id": "KTKCaSY2JUqT",
   "metadata": {
    "id": "KTKCaSY2JUqT"
   },
   "outputs": [
    {
     "data": {
      "text/html": [
       "<div>\n",
       "<style scoped>\n",
       "    .dataframe tbody tr th:only-of-type {\n",
       "        vertical-align: middle;\n",
       "    }\n",
       "\n",
       "    .dataframe tbody tr th {\n",
       "        vertical-align: top;\n",
       "    }\n",
       "\n",
       "    .dataframe thead th {\n",
       "        text-align: right;\n",
       "    }\n",
       "</style>\n",
       "<table border=\"1\" class=\"dataframe\">\n",
       "  <thead>\n",
       "    <tr style=\"text-align: right;\">\n",
       "      <th></th>\n",
       "      <th>DISTRICT_CODE</th>\n",
       "      <th>Postal_CODE</th>\n",
       "      <th>Dog Breed</th>\n",
       "      <th>Anzahl</th>\n",
       "      <th>Ref_Date</th>\n",
       "    </tr>\n",
       "  </thead>\n",
       "  <tbody>\n",
       "    <tr>\n",
       "      <th>0</th>\n",
       "      <td>int64</td>\n",
       "      <td>int64</td>\n",
       "      <td>object</td>\n",
       "      <td>object</td>\n",
       "      <td>datetime64[ns]</td>\n",
       "    </tr>\n",
       "  </tbody>\n",
       "</table>\n",
       "</div>"
      ],
      "text/plain": [
       "  DISTRICT_CODE Postal_CODE Dog Breed  Anzahl        Ref_Date\n",
       "0         int64       int64    object  object  datetime64[ns]"
      ]
     },
     "execution_count": 173,
     "metadata": {},
     "output_type": "execute_result"
    }
   ],
   "source": [
    "# drop unnecessary cols, convert Ref_Date to datetime\n",
    "dog_types_2024 = dog_types_2024.drop(['NUTS1', 'NUTS2', 'NUTS3', 'SUB_DISTRICT_CODE'], axis=1)\n",
    "dog_types_2024['Ref_Date'] = pd.to_datetime(dog_types_2024['Ref_Date'].astype(str), format='%Y%m%d')\n",
    "dog_types_2024.dtypes.to_frame().T"
   ]
  },
  {
   "cell_type": "markdown",
   "id": "012410ea",
   "metadata": {},
   "source": [
    "The 'Anzahl'-column contains one value that currently cannot be converted to an integer without losing information. It seems that there are 1012 dogs of mixed breed 'Unbekannt / Mischling', which would be recognised as a float with decimal places:"
   ]
  },
  {
   "cell_type": "code",
   "execution_count": 174,
   "id": "43f99915",
   "metadata": {},
   "outputs": [
    {
     "data": {
      "text/html": [
       "<div>\n",
       "<style scoped>\n",
       "    .dataframe tbody tr th:only-of-type {\n",
       "        vertical-align: middle;\n",
       "    }\n",
       "\n",
       "    .dataframe tbody tr th {\n",
       "        vertical-align: top;\n",
       "    }\n",
       "\n",
       "    .dataframe thead th {\n",
       "        text-align: right;\n",
       "    }\n",
       "</style>\n",
       "<table border=\"1\" class=\"dataframe\">\n",
       "  <thead>\n",
       "    <tr style=\"text-align: right;\">\n",
       "      <th></th>\n",
       "      <th>DISTRICT_CODE</th>\n",
       "      <th>Postal_CODE</th>\n",
       "      <th>Dog Breed</th>\n",
       "      <th>Anzahl</th>\n",
       "      <th>Ref_Date</th>\n",
       "    </tr>\n",
       "  </thead>\n",
       "  <tbody>\n",
       "    <tr>\n",
       "      <th>10314</th>\n",
       "      <td>92200</td>\n",
       "      <td>1220</td>\n",
       "      <td>Unbekannt / Mischling</td>\n",
       "      <td>1.012</td>\n",
       "      <td>2024-06-03</td>\n",
       "    </tr>\n",
       "  </tbody>\n",
       "</table>\n",
       "</div>"
      ],
      "text/plain": [
       "       DISTRICT_CODE  Postal_CODE              Dog Breed Anzahl   Ref_Date\n",
       "10314          92200         1220  Unbekannt / Mischling  1.012 2024-06-03"
      ]
     },
     "execution_count": 174,
     "metadata": {},
     "output_type": "execute_result"
    }
   ],
   "source": [
    "dog_types_2024[dog_types_2024[\"Anzahl\"].str.contains(\".\", regex=False)]"
   ]
  },
  {
   "cell_type": "code",
   "execution_count": 175,
   "id": "hfAVhC4hK1kd",
   "metadata": {
    "colab": {
     "base_uri": "https://localhost:8080/",
     "height": 219
    },
    "id": "hfAVhC4hK1kd",
    "outputId": "b7fc8a8f-73c7-413d-87d2-9a8f9889f64b"
   },
   "outputs": [
    {
     "name": "stdout",
     "output_type": "stream",
     "text": [
      "DISTRICT_CODE             int64\n",
      "Postal_CODE               int64\n",
      "Dog Breed                object\n",
      "Anzahl                    int32\n",
      "Ref_Date         datetime64[ns]\n",
      "dtype: object\n"
     ]
    },
    {
     "data": {
      "text/html": [
       "<div>\n",
       "<style scoped>\n",
       "    .dataframe tbody tr th:only-of-type {\n",
       "        vertical-align: middle;\n",
       "    }\n",
       "\n",
       "    .dataframe tbody tr th {\n",
       "        vertical-align: top;\n",
       "    }\n",
       "\n",
       "    .dataframe thead th {\n",
       "        text-align: right;\n",
       "    }\n",
       "</style>\n",
       "<table border=\"1\" class=\"dataframe\">\n",
       "  <thead>\n",
       "    <tr style=\"text-align: right;\">\n",
       "      <th></th>\n",
       "      <th>DISTRICT_CODE</th>\n",
       "      <th>Postal_CODE</th>\n",
       "      <th>Dog Breed</th>\n",
       "      <th>Anzahl</th>\n",
       "      <th>Ref_Date</th>\n",
       "    </tr>\n",
       "  </thead>\n",
       "  <tbody>\n",
       "    <tr>\n",
       "      <th>0</th>\n",
       "      <td>90100</td>\n",
       "      <td>1010</td>\n",
       "      <td>Afghanischer Windhund / Mischling</td>\n",
       "      <td>1</td>\n",
       "      <td>2024-06-03</td>\n",
       "    </tr>\n",
       "    <tr>\n",
       "      <th>1</th>\n",
       "      <td>90100</td>\n",
       "      <td>1010</td>\n",
       "      <td>Akita / Belgischer Schäferhund</td>\n",
       "      <td>1</td>\n",
       "      <td>2024-06-03</td>\n",
       "    </tr>\n",
       "  </tbody>\n",
       "</table>\n",
       "</div>"
      ],
      "text/plain": [
       "   DISTRICT_CODE  Postal_CODE                          Dog Breed  Anzahl  \\\n",
       "0          90100         1010  Afghanischer Windhund / Mischling       1   \n",
       "1          90100         1010     Akita / Belgischer Schäferhund       1   \n",
       "\n",
       "    Ref_Date  \n",
       "0 2024-06-03  \n",
       "1 2024-06-03  "
      ]
     },
     "execution_count": 175,
     "metadata": {},
     "output_type": "execute_result"
    }
   ],
   "source": [
    "dog_types_2024[\"Anzahl\"] = dog_types_2024[\"Anzahl\"].str.replace('.','', regex=False).astype(int)\n",
    "# we could also change dtype for 'Dog Breed' to 'category', but 3500 categories are a bit much. We leave it for now\n",
    "print(dog_types_2024.dtypes)\n",
    "dog_types_2024.head(2)"
   ]
  },
  {
   "cell_type": "markdown",
   "id": "6gGBC4cuKEXn",
   "metadata": {
    "id": "6gGBC4cuKEXn"
   },
   "source": [
    "Check if some Dog Breeds have duplicates per district --> looks good."
   ]
  },
  {
   "cell_type": "code",
   "execution_count": 176,
   "id": "_mhXva3xLtnm",
   "metadata": {
    "colab": {
     "base_uri": "https://localhost:8080/"
    },
    "id": "_mhXva3xLtnm",
    "outputId": "86ab4548-0ae4-4467-828b-67becf533b67"
   },
   "outputs": [
    {
     "data": {
      "text/plain": [
       "False"
      ]
     },
     "execution_count": 176,
     "metadata": {},
     "output_type": "execute_result"
    }
   ],
   "source": [
    "dog_types_2024.duplicated(subset=['Dog Breed', 'Postal_CODE']).any()"
   ]
  },
  {
   "cell_type": "markdown",
   "id": "wA1JypRoMm_R",
   "metadata": {
    "id": "wA1JypRoMm_R"
   },
   "source": [
    "Check if there are unknown Dog Breeds:\n",
    "  * There appear to be in total 50 entries in the dataset with at least partly unknown Dog Breeds.\n",
    "  * There are in total 8200 dogs with an at least partly uknown dog breed.\n",
    "  * The dataset has only 6 unique values in the 'Dog Breed'-column that contain an unknown dog breed.\n",
    "  * They are kept for the moment."
   ]
  },
  {
   "cell_type": "code",
   "execution_count": 177,
   "id": "efZTyQAPMra8",
   "metadata": {
    "colab": {
     "base_uri": "https://localhost:8080/"
    },
    "id": "efZTyQAPMra8",
    "outputId": "d0033e84-e6c2-404f-f750-e1bd7e8bdc58"
   },
   "outputs": [
    {
     "name": "stdout",
     "output_type": "stream",
     "text": [
      "Total number of entries with unknown dog breed: 50\n",
      "Total number of dogs with at least partly unknown dog breed: 8200\n",
      "Number of unknown dog breeds: 6\n",
      "Unknown dog breeds: ['Unbekannt' 'Unbekannt / Mischling' 'Unbekannt / Dackel'\n",
      " 'Unbekannt / Kleiner Münsterländer' 'Unbekannt / Mudi'\n",
      " 'Unbekannt / Pit Bull Terrier']\n"
     ]
    }
   ],
   "source": [
    "def check_for_unknown_dog_breeds(df: pd.DataFrame):\n",
    "    # create a boolean mask for Dog Breed containing 'Unbekannt'\n",
    "    bool_unknown = df['Dog Breed'].str.contains('Unbekannt', case=False)\n",
    "    print(\"Total number of entries with unknown dog breed:\", bool_unknown.sum())\n",
    "    print(\"Total number of dogs with at least partly unknown dog breed:\", df[bool_unknown][\"Anzahl\"].sum())\n",
    "    \n",
    "    # get Unbekannt containing entries\n",
    "    tmp_array = df[bool_unknown]['Dog Breed'].unique()\n",
    "    print(\"Number of unknown dog breeds:\", len(tmp_array))\n",
    "    print(\"Unknown dog breeds:\", tmp_array)\n",
    "\n",
    "check_for_unknown_dog_breeds(dog_types_2024)"
   ]
  },
  {
   "cell_type": "code",
   "execution_count": 178,
   "id": "k7MhWV0sQEf2",
   "metadata": {
    "colab": {
     "base_uri": "https://localhost:8080/",
     "height": 206
    },
    "id": "k7MhWV0sQEf2",
    "outputId": "25354a4c-fa8f-47cf-bb60-23eb3ccf77ce"
   },
   "outputs": [
    {
     "data": {
      "text/html": [
       "<div>\n",
       "<style scoped>\n",
       "    .dataframe tbody tr th:only-of-type {\n",
       "        vertical-align: middle;\n",
       "    }\n",
       "\n",
       "    .dataframe tbody tr th {\n",
       "        vertical-align: top;\n",
       "    }\n",
       "\n",
       "    .dataframe thead th {\n",
       "        text-align: right;\n",
       "    }\n",
       "</style>\n",
       "<table border=\"1\" class=\"dataframe\">\n",
       "  <thead>\n",
       "    <tr style=\"text-align: right;\">\n",
       "      <th></th>\n",
       "      <th>DISTRICT_CODE</th>\n",
       "      <th>Postal_CODE</th>\n",
       "      <th>Dog Breed</th>\n",
       "      <th>Anzahl</th>\n",
       "      <th>Ref_Date</th>\n",
       "    </tr>\n",
       "  </thead>\n",
       "  <tbody>\n",
       "    <tr>\n",
       "      <th>0</th>\n",
       "      <td>90100</td>\n",
       "      <td>1010</td>\n",
       "      <td>Afghanischer Windhund / Mischling</td>\n",
       "      <td>1</td>\n",
       "      <td>2024-06-03</td>\n",
       "    </tr>\n",
       "    <tr>\n",
       "      <th>1</th>\n",
       "      <td>90100</td>\n",
       "      <td>1010</td>\n",
       "      <td>Akita / Belgischer Schäferhund</td>\n",
       "      <td>1</td>\n",
       "      <td>2024-06-03</td>\n",
       "    </tr>\n",
       "  </tbody>\n",
       "</table>\n",
       "</div>"
      ],
      "text/plain": [
       "   DISTRICT_CODE  Postal_CODE                          Dog Breed  Anzahl  \\\n",
       "0          90100         1010  Afghanischer Windhund / Mischling       1   \n",
       "1          90100         1010     Akita / Belgischer Schäferhund       1   \n",
       "\n",
       "    Ref_Date  \n",
       "0 2024-06-03  \n",
       "1 2024-06-03  "
      ]
     },
     "execution_count": 178,
     "metadata": {},
     "output_type": "execute_result"
    }
   ],
   "source": [
    "dog_types_2024.head(2)"
   ]
  },
  {
   "cell_type": "markdown",
   "id": "sN1aYp3MS4E1",
   "metadata": {
    "id": "sN1aYp3MS4E1"
   },
   "source": [
    "We could also drop the postal_code column, since it basically provides the same data as the district_code column:"
   ]
  },
  {
   "cell_type": "code",
   "execution_count": 179,
   "id": "422cb121",
   "metadata": {},
   "outputs": [
    {
     "data": {
      "text/plain": [
       "array([ True])"
      ]
     },
     "execution_count": 179,
     "metadata": {},
     "output_type": "execute_result"
    }
   ],
   "source": [
    "# compare 2-digit district code\n",
    "(dog_types_2024[\"DISTRICT_CODE\"].astype(str).str[1:3] == dog_types_2024[\"Postal_CODE\"].astype(str).str[1:3]).unique() "
   ]
  },
  {
   "cell_type": "markdown",
   "id": "44e59c13-189b-45ad-8501-4d23a6324460",
   "metadata": {},
   "source": [
    "However it is left for now, for readability. The 'Anzahl' column contains the counted value for each registered dog. There appears to be a great variety of breeds with some very popular exceptions. "
   ]
  },
  {
   "cell_type": "code",
   "execution_count": 180,
   "id": "4c1c5e1c-25c2-463e-9687-c2bcafd46fa1",
   "metadata": {},
   "outputs": [
    {
     "data": {
      "text/plain": [
       "count    11117.000000\n",
       "mean         5.261581\n",
       "std         22.865163\n",
       "min          1.000000\n",
       "25%          1.000000\n",
       "50%          1.000000\n",
       "75%          3.000000\n",
       "max       1012.000000\n",
       "Name: Anzahl, dtype: float64"
      ]
     },
     "execution_count": 180,
     "metadata": {},
     "output_type": "execute_result"
    }
   ],
   "source": [
    "# get statistics for 'Anzahl'\n",
    "dog_types_2024['Anzahl'].describe()"
   ]
  },
  {
   "cell_type": "code",
   "execution_count": 181,
   "id": "9b587ce0-0f02-4aff-a110-67df4b4fd11a",
   "metadata": {},
   "outputs": [],
   "source": [
    "# export the dataset\n",
    "dog_types_2024.to_excel('dataset_2_cleaned.xlsx')"
   ]
  },
  {
   "cell_type": "markdown",
   "id": "olBy7Wpa9HEn",
   "metadata": {
    "id": "olBy7Wpa9HEn"
   },
   "source": [
    "### Dataset 3 (Hunderassen Wien)\n",
    "Number of registered dogs in Vienna per district and dog breed in the years 2012 to 2017. \n",
    "\n",
    "The layout of the dataset is basically the same as the one before, we only have data for multiple years.\n",
    "\n",
    "  * NUTS1: AT1\n",
    "  * NUTS2: AT13\n",
    "  * NUTS3: AT113\n",
    "  * DISTRICT_CODE: Bezirke, Format 9BB00\n",
    "  * SUB_DISTRICT_CODE: Zählbezirk, leer\n",
    "  * Postal_CODE: Postleitzahl, Format 1BB0\n",
    "  * Dog Breed: Hunderasse\n",
    "  * Anzahl: Anzahl der jeweiligen Hunderasse\n",
    "  * Ref_Date: Jahr\n",
    "\n",
    "Source: https://www.data.gv.at/katalog/dataset/31f526f5-2cf2-49f8-a63d-0c63a0f87a3e\n",
    "\n",
    "#### Obtain"
   ]
  },
  {
   "cell_type": "code",
   "execution_count": 182,
   "id": "Z7IybtAVr_xa",
   "metadata": {
    "colab": {
     "base_uri": "https://localhost:8080/",
     "height": 276
    },
    "id": "Z7IybtAVr_xa",
    "outputId": "9377503e-bdf4-407b-ac2d-d5b28ba3a252"
   },
   "outputs": [
    {
     "name": "stdout",
     "output_type": "stream",
     "text": [
      "Dataframe shape:  (33793, 9)\n"
     ]
    },
    {
     "data": {
      "text/html": [
       "<div>\n",
       "<style scoped>\n",
       "    .dataframe tbody tr th:only-of-type {\n",
       "        vertical-align: middle;\n",
       "    }\n",
       "\n",
       "    .dataframe tbody tr th {\n",
       "        vertical-align: top;\n",
       "    }\n",
       "\n",
       "    .dataframe thead th {\n",
       "        text-align: right;\n",
       "    }\n",
       "</style>\n",
       "<table border=\"1\" class=\"dataframe\">\n",
       "  <thead>\n",
       "    <tr style=\"text-align: right;\">\n",
       "      <th></th>\n",
       "      <th>NUTS1</th>\n",
       "      <th>NUTS2</th>\n",
       "      <th>NUTS3</th>\n",
       "      <th>DISTRICT_CODE</th>\n",
       "      <th>SUB_DISTRICT_CODE</th>\n",
       "      <th>Postal_CODE</th>\n",
       "      <th>Dog Breed</th>\n",
       "      <th>Anzahl</th>\n",
       "      <th>Ref_Date</th>\n",
       "    </tr>\n",
       "  </thead>\n",
       "  <tbody>\n",
       "    <tr>\n",
       "      <th>0</th>\n",
       "      <td>AT1</td>\n",
       "      <td>AT13</td>\n",
       "      <td>AT113</td>\n",
       "      <td>90100</td>\n",
       "      <td>.</td>\n",
       "      <td>1010</td>\n",
       "      <td>Afghanischer Windhund</td>\n",
       "      <td>1</td>\n",
       "      <td>20123112</td>\n",
       "    </tr>\n",
       "    <tr>\n",
       "      <th>1</th>\n",
       "      <td>AT1</td>\n",
       "      <td>AT13</td>\n",
       "      <td>AT113</td>\n",
       "      <td>90100</td>\n",
       "      <td>.</td>\n",
       "      <td>1010</td>\n",
       "      <td>Amerikanischer Cockerspaniel</td>\n",
       "      <td>1</td>\n",
       "      <td>20123112</td>\n",
       "    </tr>\n",
       "  </tbody>\n",
       "</table>\n",
       "</div>"
      ],
      "text/plain": [
       "  NUTS1 NUTS2  NUTS3  DISTRICT_CODE SUB_DISTRICT_CODE  Postal_CODE  \\\n",
       "0   AT1  AT13  AT113          90100                 .         1010   \n",
       "1   AT1  AT13  AT113          90100                 .         1010   \n",
       "\n",
       "                      Dog Breed Anzahl  Ref_Date  \n",
       "0         Afghanischer Windhund      1  20123112  \n",
       "1  Amerikanischer Cockerspaniel      1  20123112  "
      ]
     },
     "execution_count": 182,
     "metadata": {},
     "output_type": "execute_result"
    }
   ],
   "source": [
    "# Import dataset 3\n",
    "dog_types_2012 = pd.read_csv(\"hunde-vie.csv\", sep=';', encoding='latin-1', skiprows=1, dtype={\"Anzahl\": \"object\"})\n",
    "\n",
    "print(\"Dataframe shape: \", dog_types_2012.shape)\n",
    "dog_types_2012.head(2)"
   ]
  },
  {
   "cell_type": "markdown",
   "id": "BKBsLUD09YSo",
   "metadata": {
    "id": "BKBsLUD09YSo"
   },
   "source": [
    "* The separator is ';'\n",
    "* The encoding is 'latin-1'.\n",
    "* The shape is (33793, 9).\n",
    "* Format is long:\n",
    "  * dog breeds can appear multiple times in breed-column. This is the case if at least two dogs of a breed are registered in different districts or in different years. If there is no dog of a specific breed registered in a distric, it is not listed in the dataset for this district.\n",
    "  * Every district, ref_date and breed combination has a single count value\n",
    "* We import the 'Anzahl'-column as objects and process them the same way as in the previous dataset.\n",
    "\n"
   ]
  },
  {
   "cell_type": "markdown",
   "id": "_fynsjn1VPj7",
   "metadata": {
    "id": "_fynsjn1VPj7"
   },
   "source": [
    "#### Scrub\n",
    "\n",
    "Repeat steps as with dataframe 2, since they have the same format."
   ]
  },
  {
   "cell_type": "code",
   "execution_count": 183,
   "id": "06ddb564",
   "metadata": {},
   "outputs": [
    {
     "data": {
      "text/plain": [
       "NUTS1                0.0\n",
       "NUTS2                0.0\n",
       "NUTS3                0.0\n",
       "DISTRICT_CODE        0.0\n",
       "SUB_DISTRICT_CODE    0.0\n",
       "Postal_CODE          0.0\n",
       "Dog Breed            0.0\n",
       "Anzahl               0.0\n",
       "Ref_Date             0.0\n",
       "dtype: float64"
      ]
     },
     "execution_count": 183,
     "metadata": {},
     "output_type": "execute_result"
    }
   ],
   "source": [
    "# check columns and their missing data ratio => no missing data\n",
    "((dog_types_2012.isnull().sum() / len(dog_types_2012)) * 100).sort_values(ascending=False)"
   ]
  },
  {
   "cell_type": "markdown",
   "id": "18884731",
   "metadata": {},
   "source": [
    "Looks like some columns only have 1 unique value => NUTS1-3 and SUB_DISTRICT_CODE to be exact. Also, no district is missing, which is good. We have 6 different years in the dataset:"
   ]
  },
  {
   "cell_type": "code",
   "execution_count": 184,
   "id": "18f633b2",
   "metadata": {},
   "outputs": [
    {
     "data": {
      "text/plain": [
       "NUTS1                   1\n",
       "NUTS2                   1\n",
       "NUTS3                   1\n",
       "DISTRICT_CODE          23\n",
       "SUB_DISTRICT_CODE       1\n",
       "Postal_CODE            23\n",
       "Dog Breed            1286\n",
       "Anzahl                337\n",
       "Ref_Date                6\n",
       "dtype: int64"
      ]
     },
     "execution_count": 184,
     "metadata": {},
     "output_type": "execute_result"
    }
   ],
   "source": [
    "# get count of unique values in each col\n",
    "dog_types_2012.nunique()"
   ]
  },
  {
   "cell_type": "markdown",
   "id": "3fabd2ed-a34b-4fde-95af-dc5991e7732a",
   "metadata": {},
   "source": [
    "Lets see which years are included: 2012 to 2017. We can see a steady increase in entries. "
   ]
  },
  {
   "cell_type": "code",
   "execution_count": 185,
   "id": "814bb703-4a26-4e55-8fb2-2aad5fd033eb",
   "metadata": {},
   "outputs": [
    {
     "data": {
      "text/plain": [
       "Ref_Date\n",
       "20173112    5886\n",
       "20163112    5822\n",
       "20153112    5768\n",
       "20143112    5691\n",
       "20133112    5501\n",
       "20123112    5125\n",
       "Name: count, dtype: int64"
      ]
     },
     "execution_count": 185,
     "metadata": {},
     "output_type": "execute_result"
    }
   ],
   "source": [
    "# get amount value counts for each entry and each entry of Ref_Date\n",
    "dog_types_2012['Ref_Date'].value_counts()"
   ]
  },
  {
   "cell_type": "markdown",
   "id": "85383820-268b-44b5-83b0-855fdb7766c7",
   "metadata": {},
   "source": [
    "Each year has entries for each district. "
   ]
  },
  {
   "cell_type": "code",
   "execution_count": 186,
   "id": "407d4c02",
   "metadata": {},
   "outputs": [
    {
     "name": "stdout",
     "output_type": "stream",
     "text": [
      "Ref_Date\n",
      "20123112    23\n",
      "20133112    23\n",
      "20143112    23\n",
      "20153112    23\n",
      "20163112    23\n",
      "20173112    23\n",
      "Name: DISTRICT_CODE, dtype: int64\n",
      "Ref_Date\n",
      "20123112    23\n",
      "20133112    23\n",
      "20143112    23\n",
      "20153112    23\n",
      "20163112    23\n",
      "20173112    23\n",
      "Name: Postal_CODE, dtype: int64\n"
     ]
    }
   ],
   "source": [
    "# compare if District_Code and Postal_CODE entries have the same amount of values\n",
    "print(dog_types_2012.groupby(\"Ref_Date\")[\"DISTRICT_CODE\"].nunique()) \n",
    "print(dog_types_2012.groupby(\"Ref_Date\")[\"Postal_CODE\"].nunique())"
   ]
  },
  {
   "cell_type": "code",
   "execution_count": 187,
   "id": "c9bee236",
   "metadata": {},
   "outputs": [
    {
     "data": {
      "text/html": [
       "<div>\n",
       "<style scoped>\n",
       "    .dataframe tbody tr th:only-of-type {\n",
       "        vertical-align: middle;\n",
       "    }\n",
       "\n",
       "    .dataframe tbody tr th {\n",
       "        vertical-align: top;\n",
       "    }\n",
       "\n",
       "    .dataframe thead th {\n",
       "        text-align: right;\n",
       "    }\n",
       "</style>\n",
       "<table border=\"1\" class=\"dataframe\">\n",
       "  <thead>\n",
       "    <tr style=\"text-align: right;\">\n",
       "      <th></th>\n",
       "      <th>NUTS1</th>\n",
       "      <th>NUTS2</th>\n",
       "      <th>NUTS3</th>\n",
       "      <th>DISTRICT_CODE</th>\n",
       "      <th>SUB_DISTRICT_CODE</th>\n",
       "      <th>Postal_CODE</th>\n",
       "      <th>Dog Breed</th>\n",
       "      <th>Anzahl</th>\n",
       "      <th>Ref_Date</th>\n",
       "    </tr>\n",
       "  </thead>\n",
       "  <tbody>\n",
       "    <tr>\n",
       "      <th>0</th>\n",
       "      <td>object</td>\n",
       "      <td>object</td>\n",
       "      <td>object</td>\n",
       "      <td>int64</td>\n",
       "      <td>object</td>\n",
       "      <td>int64</td>\n",
       "      <td>object</td>\n",
       "      <td>object</td>\n",
       "      <td>int64</td>\n",
       "    </tr>\n",
       "  </tbody>\n",
       "</table>\n",
       "</div>"
      ],
      "text/plain": [
       "    NUTS1   NUTS2   NUTS3 DISTRICT_CODE SUB_DISTRICT_CODE Postal_CODE  \\\n",
       "0  object  object  object         int64            object       int64   \n",
       "\n",
       "  Dog Breed  Anzahl Ref_Date  \n",
       "0    object  object    int64  "
      ]
     },
     "execution_count": 187,
     "metadata": {},
     "output_type": "execute_result"
    }
   ],
   "source": [
    "# get column dtypes\n",
    "dog_types_2012.dtypes.to_frame().T"
   ]
  },
  {
   "cell_type": "markdown",
   "id": "1a7f3a39",
   "metadata": {},
   "source": [
    "'Anzahl' can be converted to integer this time without any additional steps:"
   ]
  },
  {
   "cell_type": "code",
   "execution_count": 188,
   "id": "f83bb30d",
   "metadata": {},
   "outputs": [
    {
     "name": "stdout",
     "output_type": "stream",
     "text": [
      "Empty DataFrame\n",
      "Columns: [NUTS1, NUTS2, NUTS3, DISTRICT_CODE, SUB_DISTRICT_CODE, Postal_CODE, Dog Breed, Anzahl, Ref_Date]\n",
      "Index: []\n"
     ]
    }
   ],
   "source": [
    "# check 'Anzahl' for floats: no entry with '.' or ','\n",
    "print(dog_types_2012[dog_types_2012[\"Anzahl\"].str.contains(r\"[\\.\\,]\", regex=True)]) \n",
    "\n",
    "# can convert 'Anzahl' to int\n",
    "dog_types_2012[\"Anzahl\"] = dog_types_2012[\"Anzahl\"].astype(int)"
   ]
  },
  {
   "cell_type": "markdown",
   "id": "g8AKqKFpjIsM",
   "metadata": {
    "id": "g8AKqKFpjIsM"
   },
   "source": [
    "Change Ref_Date from int64 to date (important: format is now different to before: yyyy**dd**mm, not yyyymm**dd**):"
   ]
  },
  {
   "cell_type": "code",
   "execution_count": 189,
   "id": "ov71siqvZqZR",
   "metadata": {
    "colab": {
     "base_uri": "https://localhost:8080/"
    },
    "id": "ov71siqvZqZR",
    "outputId": "e345e9d7-5ff0-403f-8032-9989a62c1b29"
   },
   "outputs": [
    {
     "name": "stdout",
     "output_type": "stream",
     "text": [
      "  DISTRICT_CODE Postal_CODE Dog Breed Anzahl        Ref_Date\n",
      "0         int64       int64    object  int32  datetime64[ns]\n"
     ]
    }
   ],
   "source": [
    "# drop unnecessary cols and convert Ref_Date to datetime\n",
    "dog_types_2012 = dog_types_2012.drop(['NUTS1', 'NUTS2', 'NUTS3', 'SUB_DISTRICT_CODE'], axis=1)\n",
    "dog_types_2012['Ref_Date'] = pd.to_datetime(dog_types_2012['Ref_Date'].astype(str), format='%Y%d%m') # convert int to real datetime\n",
    "print(dog_types_2012.dtypes.to_frame().T)"
   ]
  },
  {
   "cell_type": "markdown",
   "id": "SFdnZM0ZZ3Kt",
   "metadata": {
    "id": "SFdnZM0ZZ3Kt"
   },
   "source": [
    "Check for duplicates and unkown dog breeds --> has only the unknown dog breed 'Unbekannt' and no duplicates too.\n",
    "* Unkown can stay for now, even though their number is very high with 98.707 dogs (even if we consider that the dataset contains multiple years of data).\n",
    "\n"
   ]
  },
  {
   "cell_type": "markdown",
   "id": "c9422f19-35a7-4ac6-bbb2-2b52e4f67d5d",
   "metadata": {},
   "source": [
    "Check for duplicate entries: "
   ]
  },
  {
   "cell_type": "code",
   "execution_count": 190,
   "id": "fc4745b1",
   "metadata": {},
   "outputs": [
    {
     "data": {
      "text/plain": [
       "False"
      ]
     },
     "execution_count": 190,
     "metadata": {},
     "output_type": "execute_result"
    }
   ],
   "source": [
    "dog_types_2012.duplicated(subset=['Dog Breed', 'Postal_CODE', 'Ref_Date']).any()"
   ]
  },
  {
   "cell_type": "code",
   "execution_count": 191,
   "id": "GKd5YQOrVOIv",
   "metadata": {
    "colab": {
     "base_uri": "https://localhost:8080/"
    },
    "id": "GKd5YQOrVOIv",
    "outputId": "4d53a1a4-6a00-4360-a77b-79ecca8fccdd"
   },
   "outputs": [
    {
     "name": "stdout",
     "output_type": "stream",
     "text": [
      "Total number of entries with unknown dog breed: 138\n",
      "Total number of dogs with at least partly unknown dog breed: 98707\n",
      "Number of unknown dog breeds: 1\n",
      "Unknown dog breeds: ['Unbekannt']\n"
     ]
    }
   ],
   "source": [
    "check_for_unknown_dog_breeds(dog_types_2012)"
   ]
  },
  {
   "cell_type": "markdown",
   "id": "b921c1d1-f44f-4b9c-90c0-85b2ca4a35ca",
   "metadata": {},
   "source": [
    "Again, there is a great variety in dog breeds with some being more popular. "
   ]
  },
  {
   "cell_type": "code",
   "execution_count": 192,
   "id": "6d66d91c-591f-4b43-8c0d-cff278e8dd99",
   "metadata": {},
   "outputs": [
    {
     "data": {
      "text/plain": [
       "count    33793.000000\n",
       "mean         9.893883\n",
       "std         62.171147\n",
       "min          1.000000\n",
       "25%          1.000000\n",
       "50%          2.000000\n",
       "75%          5.000000\n",
       "max       2717.000000\n",
       "Name: Anzahl, dtype: float64"
      ]
     },
     "execution_count": 192,
     "metadata": {},
     "output_type": "execute_result"
    }
   ],
   "source": [
    "# get statistics for col 'Anzahl'\n",
    "dog_types_2012['Anzahl'].describe()"
   ]
  },
  {
   "cell_type": "code",
   "execution_count": 193,
   "id": "eb721c81-ba8c-4c81-8b80-ecf31c8af132",
   "metadata": {},
   "outputs": [],
   "source": [
    "# export to excel file\n",
    "dog_types_2012.to_excel('dataset_3_cleaned.xlsx')"
   ]
  },
  {
   "cell_type": "markdown",
   "id": "MeNL89tTmUnb",
   "metadata": {
    "id": "MeNL89tTmUnb"
   },
   "source": [
    "### Merging Dataset 2 and 3 as they contain the same info for different years"
   ]
  },
  {
   "cell_type": "code",
   "execution_count": 194,
   "id": "ZIagR3NNdPEZ",
   "metadata": {
    "colab": {
     "base_uri": "https://localhost:8080/",
     "height": 421
    },
    "id": "ZIagR3NNdPEZ",
    "outputId": "2219585f-18a8-4db2-bae5-72ddbd8d31d4"
   },
   "outputs": [
    {
     "name": "stdout",
     "output_type": "stream",
     "text": [
      "  DISTRICT_CODE Postal_CODE Dog Breed Anzahl        Ref_Date\n",
      "0         int64       int64    object  int32  datetime64[ns]\n",
      "  DISTRICT_CODE Postal_CODE Dog Breed Anzahl        Ref_Date\n",
      "0         int64       int64    object  int32  datetime64[ns]\n"
     ]
    }
   ],
   "source": [
    "print(dog_types_2024.dtypes.to_frame().T)\n",
    "print(dog_types_2012.dtypes.to_frame().T)"
   ]
  },
  {
   "cell_type": "code",
   "execution_count": 195,
   "id": "FyBenE93erHj",
   "metadata": {
    "id": "FyBenE93erHj"
   },
   "outputs": [
    {
     "name": "stdout",
     "output_type": "stream",
     "text": [
      "Shape: (44910, 5)\n"
     ]
    }
   ],
   "source": [
    "# dataframes have same columns => concat\n",
    "combined_dog_types = pd.concat([dog_types_2012, dog_types_2024]) \n",
    "print(\"Shape:\", combined_dog_types.shape)"
   ]
  },
  {
   "cell_type": "code",
   "execution_count": 196,
   "id": "6b772456-807d-4620-842e-42ad6c450fdf",
   "metadata": {},
   "outputs": [
    {
     "data": {
      "text/html": [
       "<div>\n",
       "<style scoped>\n",
       "    .dataframe tbody tr th:only-of-type {\n",
       "        vertical-align: middle;\n",
       "    }\n",
       "\n",
       "    .dataframe tbody tr th {\n",
       "        vertical-align: top;\n",
       "    }\n",
       "\n",
       "    .dataframe thead th {\n",
       "        text-align: right;\n",
       "    }\n",
       "</style>\n",
       "<table border=\"1\" class=\"dataframe\">\n",
       "  <thead>\n",
       "    <tr style=\"text-align: right;\">\n",
       "      <th></th>\n",
       "      <th>DISTRICT_CODE</th>\n",
       "      <th>Postal_CODE</th>\n",
       "      <th>Dog Breed</th>\n",
       "      <th>Anzahl</th>\n",
       "      <th>Ref_Date</th>\n",
       "    </tr>\n",
       "  </thead>\n",
       "  <tbody>\n",
       "    <tr>\n",
       "      <th>0</th>\n",
       "      <td>90100</td>\n",
       "      <td>1010</td>\n",
       "      <td>Afghanischer Windhund</td>\n",
       "      <td>1</td>\n",
       "      <td>2012-12-31</td>\n",
       "    </tr>\n",
       "    <tr>\n",
       "      <th>1</th>\n",
       "      <td>90100</td>\n",
       "      <td>1010</td>\n",
       "      <td>Amerikanischer Cockerspaniel</td>\n",
       "      <td>1</td>\n",
       "      <td>2012-12-31</td>\n",
       "    </tr>\n",
       "    <tr>\n",
       "      <th>2</th>\n",
       "      <td>90100</td>\n",
       "      <td>1010</td>\n",
       "      <td>Amerikanischer Staffordshire-Terrier</td>\n",
       "      <td>2</td>\n",
       "      <td>2012-12-31</td>\n",
       "    </tr>\n",
       "    <tr>\n",
       "      <th>3</th>\n",
       "      <td>90100</td>\n",
       "      <td>1010</td>\n",
       "      <td>Australian Shepherd Dog</td>\n",
       "      <td>2</td>\n",
       "      <td>2012-12-31</td>\n",
       "    </tr>\n",
       "    <tr>\n",
       "      <th>4</th>\n",
       "      <td>90100</td>\n",
       "      <td>1010</td>\n",
       "      <td>Australian Terrier</td>\n",
       "      <td>1</td>\n",
       "      <td>2012-12-31</td>\n",
       "    </tr>\n",
       "  </tbody>\n",
       "</table>\n",
       "</div>"
      ],
      "text/plain": [
       "   DISTRICT_CODE  Postal_CODE                             Dog Breed  Anzahl  \\\n",
       "0          90100         1010                 Afghanischer Windhund       1   \n",
       "1          90100         1010          Amerikanischer Cockerspaniel       1   \n",
       "2          90100         1010  Amerikanischer Staffordshire-Terrier       2   \n",
       "3          90100         1010               Australian Shepherd Dog       2   \n",
       "4          90100         1010                    Australian Terrier       1   \n",
       "\n",
       "    Ref_Date  \n",
       "0 2012-12-31  \n",
       "1 2012-12-31  \n",
       "2 2012-12-31  \n",
       "3 2012-12-31  \n",
       "4 2012-12-31  "
      ]
     },
     "execution_count": 196,
     "metadata": {},
     "output_type": "execute_result"
    }
   ],
   "source": [
    "combined_dog_types.head()"
   ]
  },
  {
   "cell_type": "code",
   "execution_count": 197,
   "id": "032c6497-c542-4668-bbfa-54b56bf3532c",
   "metadata": {},
   "outputs": [
    {
     "data": {
      "text/html": [
       "<div>\n",
       "<style scoped>\n",
       "    .dataframe tbody tr th:only-of-type {\n",
       "        vertical-align: middle;\n",
       "    }\n",
       "\n",
       "    .dataframe tbody tr th {\n",
       "        vertical-align: top;\n",
       "    }\n",
       "\n",
       "    .dataframe thead th {\n",
       "        text-align: right;\n",
       "    }\n",
       "</style>\n",
       "<table border=\"1\" class=\"dataframe\">\n",
       "  <thead>\n",
       "    <tr style=\"text-align: right;\">\n",
       "      <th></th>\n",
       "      <th>DISTRICT_CODE</th>\n",
       "      <th>Postal_CODE</th>\n",
       "      <th>Dog Breed</th>\n",
       "      <th>Anzahl</th>\n",
       "      <th>Ref_Date</th>\n",
       "    </tr>\n",
       "  </thead>\n",
       "  <tbody>\n",
       "    <tr>\n",
       "      <th>0</th>\n",
       "      <td>int64</td>\n",
       "      <td>int64</td>\n",
       "      <td>object</td>\n",
       "      <td>int32</td>\n",
       "      <td>datetime64[ns]</td>\n",
       "    </tr>\n",
       "  </tbody>\n",
       "</table>\n",
       "</div>"
      ],
      "text/plain": [
       "  DISTRICT_CODE Postal_CODE Dog Breed Anzahl        Ref_Date\n",
       "0         int64       int64    object  int32  datetime64[ns]"
      ]
     },
     "execution_count": 197,
     "metadata": {},
     "output_type": "execute_result"
    }
   ],
   "source": [
    "combined_dog_types.dtypes.to_frame().T"
   ]
  },
  {
   "cell_type": "code",
   "execution_count": 198,
   "id": "4ad45b10-aa90-4a1d-b692-a18c51839326",
   "metadata": {},
   "outputs": [],
   "source": [
    "# export combined dataset to excel\n",
    "combined_dog_types.to_excel('dataset_2_and_3_combined_cleaned.xlsx')"
   ]
  },
  {
   "cell_type": "markdown",
   "id": "e3fd48c2-95f3-4065-89be-26657aad16b4",
   "metadata": {},
   "source": [
    "To obtain the new dataset in wide format, we pivot the combined dataset. Now the dog breeds are the new columns. The index contains 'Ref_Date' and 'Postal_CODE'. "
   ]
  },
  {
   "cell_type": "code",
   "execution_count": 199,
   "id": "oUbGYC1hZnCy",
   "metadata": {
    "colab": {
     "base_uri": "https://localhost:8080/",
     "height": 245
    },
    "id": "oUbGYC1hZnCy",
    "outputId": "ea9ce383-27c4-41d2-fc81-b877d53aaa1d"
   },
   "outputs": [
    {
     "data": {
      "text/html": [
       "<div>\n",
       "<style scoped>\n",
       "    .dataframe tbody tr th:only-of-type {\n",
       "        vertical-align: middle;\n",
       "    }\n",
       "\n",
       "    .dataframe tbody tr th {\n",
       "        vertical-align: top;\n",
       "    }\n",
       "\n",
       "    .dataframe thead th {\n",
       "        text-align: right;\n",
       "    }\n",
       "</style>\n",
       "<table border=\"1\" class=\"dataframe\">\n",
       "  <thead>\n",
       "    <tr style=\"text-align: right;\">\n",
       "      <th></th>\n",
       "      <th>Dog Breed</th>\n",
       "      <th>Affenpinscher</th>\n",
       "      <th>Affenpinscher / Afghanischer Windhund</th>\n",
       "      <th>Affenpinscher / Beagle</th>\n",
       "      <th>Affenpinscher / Border Terrier</th>\n",
       "      <th>Affenpinscher / Cairn Terrier</th>\n",
       "      <th>Affenpinscher / Griffon belge</th>\n",
       "      <th>Affenpinscher / Mischling</th>\n",
       "      <th>Affenpinscher / Scottish Terrier</th>\n",
       "      <th>Affenpinscher / Shih Tzu</th>\n",
       "      <th>Affenpinscher / Zwergschnauzer pfeffer-salz</th>\n",
       "      <th>...</th>\n",
       "      <th>Österreichischer Pinscher / Prager Rattler</th>\n",
       "      <th>Österreichischer Pinscher / Rauhhaar Dachshund Normal</th>\n",
       "      <th>Österreichischer Pinscher / Shar Pei</th>\n",
       "      <th>Österreichischer Pinscher / Spitz</th>\n",
       "      <th>Österreichischer Pinscher / Tibetan Spaniel</th>\n",
       "      <th>Österreichischer Pinscher / Weimaraner Kurzhaar</th>\n",
       "      <th>Österreichischer Pinscher / Whippet</th>\n",
       "      <th>Österreichischer Pinscher / Yorkshire Terrier</th>\n",
       "      <th>Österreichischer Pinscher / Zwergpudel Rot</th>\n",
       "      <th>Österreichischer Pinscher / Zwergspitz (Pomeranian)</th>\n",
       "    </tr>\n",
       "    <tr>\n",
       "      <th>Ref_Date</th>\n",
       "      <th>Postal_CODE</th>\n",
       "      <th></th>\n",
       "      <th></th>\n",
       "      <th></th>\n",
       "      <th></th>\n",
       "      <th></th>\n",
       "      <th></th>\n",
       "      <th></th>\n",
       "      <th></th>\n",
       "      <th></th>\n",
       "      <th></th>\n",
       "      <th></th>\n",
       "      <th></th>\n",
       "      <th></th>\n",
       "      <th></th>\n",
       "      <th></th>\n",
       "      <th></th>\n",
       "      <th></th>\n",
       "      <th></th>\n",
       "      <th></th>\n",
       "      <th></th>\n",
       "      <th></th>\n",
       "    </tr>\n",
       "  </thead>\n",
       "  <tbody>\n",
       "    <tr>\n",
       "      <th rowspan=\"2\" valign=\"top\">2024-06-03</th>\n",
       "      <th>1230</th>\n",
       "      <td>0.0</td>\n",
       "      <td>0.0</td>\n",
       "      <td>0.0</td>\n",
       "      <td>0.0</td>\n",
       "      <td>0.0</td>\n",
       "      <td>0.0</td>\n",
       "      <td>2.0</td>\n",
       "      <td>0.0</td>\n",
       "      <td>0.0</td>\n",
       "      <td>0.0</td>\n",
       "      <td>...</td>\n",
       "      <td>0.0</td>\n",
       "      <td>0.0</td>\n",
       "      <td>0.0</td>\n",
       "      <td>0.0</td>\n",
       "      <td>0.0</td>\n",
       "      <td>0.0</td>\n",
       "      <td>0.0</td>\n",
       "      <td>0.0</td>\n",
       "      <td>0.0</td>\n",
       "      <td>0.0</td>\n",
       "    </tr>\n",
       "    <tr>\n",
       "      <th>1120</th>\n",
       "      <td>1.0</td>\n",
       "      <td>0.0</td>\n",
       "      <td>0.0</td>\n",
       "      <td>0.0</td>\n",
       "      <td>0.0</td>\n",
       "      <td>0.0</td>\n",
       "      <td>0.0</td>\n",
       "      <td>0.0</td>\n",
       "      <td>0.0</td>\n",
       "      <td>0.0</td>\n",
       "      <td>...</td>\n",
       "      <td>0.0</td>\n",
       "      <td>0.0</td>\n",
       "      <td>0.0</td>\n",
       "      <td>0.0</td>\n",
       "      <td>0.0</td>\n",
       "      <td>0.0</td>\n",
       "      <td>0.0</td>\n",
       "      <td>0.0</td>\n",
       "      <td>0.0</td>\n",
       "      <td>0.0</td>\n",
       "    </tr>\n",
       "  </tbody>\n",
       "</table>\n",
       "<p>2 rows × 4312 columns</p>\n",
       "</div>"
      ],
      "text/plain": [
       "Dog Breed               Affenpinscher  Affenpinscher / Afghanischer Windhund  \\\n",
       "Ref_Date   Postal_CODE                                                         \n",
       "2024-06-03 1230                   0.0                                    0.0   \n",
       "           1120                   1.0                                    0.0   \n",
       "\n",
       "Dog Breed               Affenpinscher / Beagle  \\\n",
       "Ref_Date   Postal_CODE                           \n",
       "2024-06-03 1230                            0.0   \n",
       "           1120                            0.0   \n",
       "\n",
       "Dog Breed               Affenpinscher / Border Terrier  \\\n",
       "Ref_Date   Postal_CODE                                   \n",
       "2024-06-03 1230                                    0.0   \n",
       "           1120                                    0.0   \n",
       "\n",
       "Dog Breed               Affenpinscher / Cairn Terrier  \\\n",
       "Ref_Date   Postal_CODE                                  \n",
       "2024-06-03 1230                                   0.0   \n",
       "           1120                                   0.0   \n",
       "\n",
       "Dog Breed               Affenpinscher / Griffon belge  \\\n",
       "Ref_Date   Postal_CODE                                  \n",
       "2024-06-03 1230                                   0.0   \n",
       "           1120                                   0.0   \n",
       "\n",
       "Dog Breed               Affenpinscher / Mischling  \\\n",
       "Ref_Date   Postal_CODE                              \n",
       "2024-06-03 1230                               2.0   \n",
       "           1120                               0.0   \n",
       "\n",
       "Dog Breed               Affenpinscher / Scottish Terrier  \\\n",
       "Ref_Date   Postal_CODE                                     \n",
       "2024-06-03 1230                                      0.0   \n",
       "           1120                                      0.0   \n",
       "\n",
       "Dog Breed               Affenpinscher / Shih Tzu  \\\n",
       "Ref_Date   Postal_CODE                             \n",
       "2024-06-03 1230                              0.0   \n",
       "           1120                              0.0   \n",
       "\n",
       "Dog Breed               Affenpinscher / Zwergschnauzer pfeffer-salz  ...  \\\n",
       "Ref_Date   Postal_CODE                                               ...   \n",
       "2024-06-03 1230                                                 0.0  ...   \n",
       "           1120                                                 0.0  ...   \n",
       "\n",
       "Dog Breed               Österreichischer Pinscher / Prager Rattler  \\\n",
       "Ref_Date   Postal_CODE                                               \n",
       "2024-06-03 1230                                                0.0   \n",
       "           1120                                                0.0   \n",
       "\n",
       "Dog Breed               Österreichischer Pinscher / Rauhhaar Dachshund Normal  \\\n",
       "Ref_Date   Postal_CODE                                                          \n",
       "2024-06-03 1230                                                       0.0       \n",
       "           1120                                                       0.0       \n",
       "\n",
       "Dog Breed               Österreichischer Pinscher / Shar Pei  \\\n",
       "Ref_Date   Postal_CODE                                         \n",
       "2024-06-03 1230                                          0.0   \n",
       "           1120                                          0.0   \n",
       "\n",
       "Dog Breed               Österreichischer Pinscher / Spitz  \\\n",
       "Ref_Date   Postal_CODE                                      \n",
       "2024-06-03 1230                                       0.0   \n",
       "           1120                                       0.0   \n",
       "\n",
       "Dog Breed               Österreichischer Pinscher / Tibetan Spaniel  \\\n",
       "Ref_Date   Postal_CODE                                                \n",
       "2024-06-03 1230                                                 0.0   \n",
       "           1120                                                 0.0   \n",
       "\n",
       "Dog Breed               Österreichischer Pinscher / Weimaraner Kurzhaar  \\\n",
       "Ref_Date   Postal_CODE                                                    \n",
       "2024-06-03 1230                                                     0.0   \n",
       "           1120                                                     0.0   \n",
       "\n",
       "Dog Breed               Österreichischer Pinscher / Whippet  \\\n",
       "Ref_Date   Postal_CODE                                        \n",
       "2024-06-03 1230                                         0.0   \n",
       "           1120                                         0.0   \n",
       "\n",
       "Dog Breed               Österreichischer Pinscher / Yorkshire Terrier  \\\n",
       "Ref_Date   Postal_CODE                                                  \n",
       "2024-06-03 1230                                                   0.0   \n",
       "           1120                                                   0.0   \n",
       "\n",
       "Dog Breed               Österreichischer Pinscher / Zwergpudel Rot  \\\n",
       "Ref_Date   Postal_CODE                                               \n",
       "2024-06-03 1230                                                0.0   \n",
       "           1120                                                0.0   \n",
       "\n",
       "Dog Breed               Österreichischer Pinscher / Zwergspitz (Pomeranian)  \n",
       "Ref_Date   Postal_CODE                                                       \n",
       "2024-06-03 1230                                                       0.0    \n",
       "           1120                                                       0.0    \n",
       "\n",
       "[2 rows x 4312 columns]"
      ]
     },
     "execution_count": 199,
     "metadata": {},
     "output_type": "execute_result"
    }
   ],
   "source": [
    "combined_dog_types_by_year_and_district = combined_dog_types.pivot_table(index=['Ref_Date', 'Postal_CODE'], columns='Dog Breed', values='Anzahl', fill_value=0).sort_values(by='Ref_Date', ascending=False)\n",
    "combined_dog_types_by_year_and_district.head(2)"
   ]
  },
  {
   "cell_type": "markdown",
   "id": "abbec008-d77f-4231-82dc-07badc957d84",
   "metadata": {},
   "source": [
    "Sanity Check: \n",
    "\n",
    "'Anzahl' values are the same (apart from 0) --> looks good, no new values accidentally added. "
   ]
  },
  {
   "cell_type": "code",
   "execution_count": 200,
   "id": "2f2dac57-7a61-419b-8f6d-b68ba824a1ad",
   "metadata": {},
   "outputs": [
    {
     "name": "stdout",
     "output_type": "stream",
     "text": [
      "{0.0}\n"
     ]
    }
   ],
   "source": [
    "unique_values = []\n",
    "unique_values_single = []\n",
    "\n",
    "# loop over the cols and get the unique count values, loop chosen to get each col unique values\n",
    "for col in combined_dog_types_by_year_and_district.columns:\n",
    "    unique_values.extend(combined_dog_types_by_year_and_district[col].unique())\n",
    "\n",
    "# take unique 'Anzahl' vals from 2012 and 2024\n",
    "unique_values_single.extend(dog_types_2012['Anzahl'].unique())\n",
    "unique_values_single.extend(dog_types_2024['Anzahl'].unique())\n",
    "\n",
    "# create sets \n",
    "unique_values_single = set(unique_values_single)\n",
    "unique_values = set(unique_values)\n",
    "\n",
    "# get the symmetric difference --> get all values which are not in both sets\n",
    "differences = unique_values.symmetric_difference(unique_values_single)\n",
    "\n",
    "print(differences)"
   ]
  },
  {
   "cell_type": "markdown",
   "id": "b041e827-fd81-4eb8-95d3-9e6ae1c77ca7",
   "metadata": {
    "id": "b041e827-fd81-4eb8-95d3-9e6ae1c77ca7"
   },
   "source": [
    "## E2 - Exploratory data analysis (EDA)\n",
    "Use the clean dataset and understand and explore the relationships in the data (numerical, visual, statistical). This includes at least but is not limited to:\n",
    "- A comprehensive textual description of meaning for relevant fields in the dataset\n",
    "- Statistical/numerical descriptions and visualization techniques we learned in the course inluding correlations, distributions and groupings of variing degrees.\n",
    "- Checks for data quality, e. g., completeness, plausibility, outliers\n",
    "- Handling any identified problems with the data\n",
    "- If necessary, use additional data wrangling in line with your EDA and only keep what's necessary for the following steps of your analysis with appropriate data granularity and form (\"tidy data\")\n",
    "\n",
    "Don't:\n",
    "- test/prove hypotheses here. EDA should only motivate hypotheses.\n",
    "\n",
    "Advanced/bonus:\n",
    "- Depending on your hypothesis you may want to join external data (e.g., merge external highest education level to existing vaccination data) for additional insights.\n",
    "\n",
    "Explain all steps taken and your thinking why you deem them necessary."
   ]
  },
  {
   "cell_type": "markdown",
   "id": "707747a81a54e126",
   "metadata": {},
   "source": [
    "### Descriptive Statistics\n"
   ]
  },
  {
   "cell_type": "markdown",
   "id": "1e874fcf-7af6-426f-b497-7615e23c5720",
   "metadata": {},
   "source": [
    "No data is missing as seen previously during the data scrubbing. The fields of every dataset is explained at the beginning of each scrubbing. "
   ]
  },
  {
   "cell_type": "code",
   "execution_count": null,
   "id": "864b5a7f310bb06c",
   "metadata": {},
   "outputs": [],
   "source": [
    "dogs_2002.describe()"
   ]
  },
  {
   "cell_type": "code",
   "execution_count": null,
   "id": "9276a03a44e1b978",
   "metadata": {},
   "outputs": [],
   "source": [
    "combined_dog_types_by_year_and_district.describe()"
   ]
  },
  {
   "cell_type": "markdown",
   "id": "4a6760f8fb1a24ad",
   "metadata": {},
   "source": [
    "### Visual EDA"
   ]
  },
  {
   "cell_type": "markdown",
   "id": "5215f224",
   "metadata": {},
   "source": [
    "#### Box Plots"
   ]
  },
  {
   "cell_type": "code",
   "execution_count": null,
   "id": "763c2354",
   "metadata": {},
   "outputs": [],
   "source": [
    "df_dogs_2002_boxplots = dogs_2002[(dogs_2002[\"Postal_CODE\"] != \"1000\")].sort_values(by=[\"REF_YEAR\", \"Postal_CODE\"], ascending=[True, True]) # sort for year first, so we can correctly append the isOutlier column\n",
    "array_is_outlier = np.array([], dtype=bool)\n",
    "whis_ratio = 1.5\n",
    "\n",
    "# create whiskers \n",
    "for year in range(df_dogs_2002_boxplots[\"REF_YEAR\"].min(), df_dogs_2002_boxplots[\"REF_YEAR\"].max() + 1): # using loop across years to calculate quartiles only once per year\n",
    "    tmp_filtered_df = df_dogs_2002_boxplots[df_dogs_2002_boxplots[\"REF_YEAR\"] == year] # save filtered df because we need it multiple times\n",
    "    first_quartile, median, third_quartile = tmp_filtered_df[\"DOG_VALUE\"].quantile([0.25, 0.5, 0.75])\n",
    "    len_whisk = (third_quartile - first_quartile) * whis_ratio\n",
    "    upper_whisk_limit = third_quartile + len_whisk\n",
    "    lower_whisk_limit = first_quartile - len_whisk\n",
    "    \n",
    "    # get outliers\n",
    "    array_is_outlier = np.append(array_is_outlier, \n",
    "                                 np.where( (tmp_filtered_df[\"DOG_VALUE\"] > upper_whisk_limit) | (tmp_filtered_df[\"DOG_VALUE\"] < lower_whisk_limit), # if outlier, set True\n",
    "                                          True, False))\n",
    "    \n",
    "df_dogs_2002_boxplots[\"Outlier\"] = array_is_outlier\n",
    "\n",
    "palette = sns.color_palette(\"Set2\")[0:2] # get two colors from a sns palette\n",
    "\n",
    "g = sns.boxplot(df_dogs_2002_boxplots, y=\"DOG_VALUE\", x='REF_YEAR', width=.5, whis = whis_ratio, legend=False)\n",
    "g = sns.swarmplot(df_dogs_2002_boxplots, y=\"DOG_VALUE\", x='REF_YEAR', size=3.25, hue='Outlier', palette=palette, legend=False)\n",
    "outlier_districts = df_dogs_2002_boxplots[df_dogs_2002_boxplots[\"Outlier\"]][\"Postal_CODE\"].unique()\n",
    "\n",
    "# add description for outlier districts\n",
    "plt.legend(title=None, labels=[f\"Outlier districts: {', '.join(outlier_districts)}\"], handles=[Line2D([0],[0], marker='o', color='w', label='Scatter', markerfacecolor=palette[1], markersize=7)])\n",
    "sns.despine()    # remove the top and right line in graph\n",
    "g.figure.set_size_inches(15,6)\n",
    "g.set(xlabel=\"Year\", ylabel=\"Absolute number of dogs\")\n",
    "g.set_title(\"Absolute number of dogs in Vienna per year\", loc=\"left\", weight='bold', fontsize=18)\n",
    "x_location = g.axes.get_xticklabels()[-1].get_position()[0]\n",
    "\n",
    "# annotate last outlier scatter with value \n",
    "for district in outlier_districts:\n",
    "    y_location = df_dogs_2002_boxplots[(df_dogs_2002_boxplots[\"REF_YEAR\"]==2023) & (df_dogs_2002_boxplots[\"Postal_CODE\"]==district)][\"DOG_VALUE\"].values[0] + 150\n",
    "    plt.annotate(text=district, xy=(x_location, y_location))\n",
    "\n",
    "plt.savefig(\"box_plot_absolute_dogs_since_2002.png\")\n",
    "plt.show()"
   ]
  },
  {
   "cell_type": "markdown",
   "id": "19c01921-a67b-4af4-a74e-9c0f0b81d93f",
   "metadata": {},
   "source": [
    "Two districts have a signifcant higher number of dogs: 1210 and 1220. This is quite reasonable because they are very big districts."
   ]
  },
  {
   "cell_type": "markdown",
   "id": "d67258d0",
   "metadata": {},
   "source": [
    "#### Bar Plots"
   ]
  },
  {
   "cell_type": "code",
   "execution_count": null,
   "id": "f48127df",
   "metadata": {},
   "outputs": [],
   "source": [
    "# Plot: Absolute number of dogs of the top 30 breeds (across all districts in 2024)\n",
    "sum_dog_types_2024 = pd.DataFrame(dog_types_2024.groupby(\"Dog Breed\")[\"Anzahl\"].sum())\n",
    "top30_sum_dog_types_2024 = sum_dog_types_2024.sort_values(by=\"Anzahl\", ascending=False).head(30).reset_index()\n",
    "bool_unbekannt_top30_2024 = top30_sum_dog_types_2024[\"Dog Breed\"].str.contains(\"Unbekannt\", case=False)\n",
    "\n",
    "fig, ax = plt.subplots(figsize=(10,7))\n",
    "sns.barplot(top30_sum_dog_types_2024, x=\"Anzahl\", y=\"Dog Breed\", color=\"blue\", ax=ax)\n",
    "sns.despine(ax=ax, trim=True)\n",
    "for i in np.arange(len(top30_sum_dog_types_2024))[bool_unbekannt_top30_2024]:\n",
    "    ax.patches[i].set_color('orange')\n",
    "ax.set_title(\"Absolute number of dogs of the top 30 breeds (across all districts in 2024)\\n[Unknown marked in orange]\", loc=\"left\")\n",
    "ax.grid(axis=\"x\")\n",
    "plt.savefig(\"top_30_breeds_2024.png\")"
   ]
  },
  {
   "cell_type": "markdown",
   "id": "739ef52b-057f-46ec-82de-13aa5d18138b",
   "metadata": {},
   "source": [
    "A lot of dog breeds are unknown. Depending on the hyptohesis, we might have to get rid of them."
   ]
  },
  {
   "cell_type": "markdown",
   "id": "e2487a57",
   "metadata": {},
   "source": [
    "**Barplot motivates Hypothesis 3**: Small dogs like Chihuahuas, Malteser, French Bulldog are very popular. Does this correlate with other factors like the green space per district?"
   ]
  },
  {
   "cell_type": "code",
   "execution_count": null,
   "id": "36da04cc",
   "metadata": {},
   "outputs": [],
   "source": [
    "# Barplot: Absolute number of dogs across all districts in Vienna per year (dogs_2002)\n",
    "fig = px.bar(dogs_2002[dogs_2002[\"Postal_CODE\"] != \"1000\"], x=\"REF_YEAR\", y=\"DOG_VALUE\", color=\"Postal_CODE\", title=\"Absolute number of dogs across all districts in Vienna per year (2002-2023)\",\n",
    "             labels={\"REF_YEAR\": \"year\",\"DOG_VALUE\": \"Absolute number of dogs\",\"Postal_CODE\": \"postal code\"}\n",
    "            )\n",
    "fig.update_xaxes(dtick=1)\n",
    "fig.update_layout(\n",
    "    annotations=[\n",
    "        dict(\n",
    "            text=\"Districts stacked on top of each otherstarting with 1010 at y-axis = 0\",\n",
    "            showarrow=False,\n",
    "            xref=\"paper\",\n",
    "            yref=\"paper\",\n",
    "            x=0,\n",
    "            y=1.1\n",
    "        )\n",
    "    ]\n",
    ")\n",
    "fig.show()"
   ]
  },
  {
   "cell_type": "markdown",
   "id": "f7996a77-44db-4090-8ded-a24d6b1c1192",
   "metadata": {},
   "source": [
    "Here, we can again take a deeper look at the distribution per district. It seems that the number of dogs did rise every year until 2012. After that there was not much movement."
   ]
  },
  {
   "cell_type": "markdown",
   "id": "28fd21e97343ec53",
   "metadata": {},
   "source": [
    "#### Geo Plots"
   ]
  },
  {
   "cell_type": "code",
   "execution_count": null,
   "id": "73cfc26f",
   "metadata": {},
   "outputs": [],
   "source": [
    "# preprocessing for geo-data plots\n",
    "df_beznr_district_mapping = pd.read_csv(\"beznr-district-mapping.csv\", sep=',', dtype={\"BEZNR\": object}) # additional mapping between beznr and district name because geojson contains only name of district\n",
    "df_beznr_district_mapping.head(2)"
   ]
  },
  {
   "cell_type": "code",
   "execution_count": null,
   "id": "751cdf69",
   "metadata": {},
   "outputs": [],
   "source": [
    "# plot: total number of dogs per district and year\n",
    "df_years_district = pd.DataFrame(combined_dog_types.groupby([\"Ref_Date\", \"Postal_CODE\"])[\"Anzahl\"].sum().reset_index())\n",
    "df_years_district[\"BEZNR\"] = df_years_district[\"Postal_CODE\"].astype(str).str[1:3].astype(\"int32\").astype(str)\n",
    "df_years_district[\"year\"] = df_years_district[\"Ref_Date\"].dt.strftime(\"%Y\").astype(\"int32\")\n",
    "df_years_district = df_years_district.merge(df_beznr_district_mapping, on=\"BEZNR\", how=\"left\")\n",
    "\n",
    "min_value = df_years_district[\"Anzahl\"].min()  # set min & max values, so scale stays the same throughout time\n",
    "max_value = df_years_district[\"Anzahl\"].max()\n",
    "\n",
    "with open('vienna_.geojson', 'r', encoding=\"utf8\") as file:\n",
    "    geo_json = json.load(file)\n",
    "fig = px.choropleth(df_years_district,\n",
    "                    geojson=geo_json,\n",
    "                    color=\"Anzahl\",\n",
    "                    animation_frame='year',\n",
    "                    locations=\"District_Name\",\n",
    "                    featureidkey=\"properties.name\",\n",
    "                    projection=\"mercator\",\n",
    "                    color_continuous_scale=\"RdYlBu\",  # small changes are better seen with this scale\n",
    "                    range_color=[min_value, max_value],\n",
    "                    title=\"Total number of dogs per district 2024\"\n",
    "                   )\n",
    "fig.update_geos(fitbounds=\"locations\", visible=False)\n",
    "fig.update_layout(height=500,width=500)\n",
    "fig.show()"
   ]
  },
  {
   "cell_type": "markdown",
   "id": "c65c68c9-906e-4279-899f-3583685082bf",
   "metadata": {},
   "source": [
    "Using the combined dataset, we can also see that the relative change between the districts does not change that much over time becase the colors are basically the same for each district."
   ]
  },
  {
   "cell_type": "code",
   "execution_count": null,
   "id": "69d85c49",
   "metadata": {},
   "outputs": [],
   "source": [
    "# plot: log scale - absolute number of dogs since 2002\n",
    "geo_dogs_2002 = dogs_2002.copy()\n",
    "geo_dogs_2002[\"BEZNR\"] = geo_dogs_2002[\"DISTRICT_CODE\"].astype(str).str[1:3].astype(\"int32\").astype(str)\n",
    "geo_dogs_2002 = geo_dogs_2002.merge(df_beznr_district_mapping, on=\"BEZNR\", how=\"left\")\n",
    "\n",
    "min_value = geo_dogs_2002[\"DOG_VALUE\"].min()\n",
    "max_value = geo_dogs_2002[\"DOG_VALUE\"].max()\n",
    "\n",
    "fig = px.choropleth(geo_dogs_2002,\n",
    "                    geojson=geo_json,\n",
    "                    color=np.log2(geo_dogs_2002[\"DOG_VALUE\"]), # using log scaling\n",
    "                    animation_frame='REF_YEAR',\n",
    "                    locations=\"District_Name\",\n",
    "                    featureidkey=\"properties.name\",\n",
    "                    projection=\"mercator\",\n",
    "                    color_continuous_scale=\"deep\",\n",
    "                    range_color=[np.log2(min_value), np.log2(max_value)],\n",
    "                    title=\"Log2 of absolute number of dogs in Vienna since 2002\"\n",
    "                   ) \n",
    "fig.update_geos(fitbounds=\"locations\", visible=False)\n",
    "fig.update_layout(height=500,width=500)\n",
    "fig.update_layout(coloraxis_colorbar=dict(\n",
    "    title=\"Absolute number [log2]\"#,\n",
    "))\n",
    "fig.show()"
   ]
  },
  {
   "cell_type": "markdown",
   "id": "aadbf3f2-801c-480d-b1c7-41493818f362",
   "metadata": {},
   "source": [
    "Using a logarithmic scale does not really result in any additional information in our case."
   ]
  },
  {
   "cell_type": "markdown",
   "id": "24f413c3-912c-4e38-aa31-fb3b925edf17",
   "metadata": {},
   "source": [
    "#### Cat Plot\n",
    "Distribution of dog breeds over districts --> how many different dog breeds are there per district?"
   ]
  },
  {
   "cell_type": "code",
   "execution_count": null,
   "id": "42e95deb-b273-4bbb-941b-555dc5dbb92a",
   "metadata": {},
   "outputs": [],
   "source": [
    "# take all entries in combined_dog_types_by_year_and_district and create the sum over each column to get the amount of different \n",
    "# dog breeds per district \n",
    "df_count_breeds_per_district = (combined_dog_types_by_year_and_district > 0).astype(int).sum(axis=1)\n",
    "\n",
    "# reset the multiindex and resort the values\n",
    "df_count_breeds_per_district = df_count_breeds_per_district.reset_index().sort_values(by=['Ref_Date'])\n",
    "\n",
    "# only keep Ref_Date, Postal_CODE and Count \n",
    "df_count_breeds_per_district.columns = ['Ref_Date', 'Postal_CODE', 'Count']\n",
    "\n",
    "# reduce Ref_Date to date value without hour values for readability in plot \n",
    "df_count_breeds_per_district['Ref_Date'] = df_count_breeds_per_district['Ref_Date'].dt.date\n",
    "\n",
    "df_count_breeds_per_district.head(2)"
   ]
  },
  {
   "cell_type": "code",
   "execution_count": null,
   "id": "42c6e92b-717a-4cce-91cc-541e309b49af",
   "metadata": {},
   "outputs": [],
   "source": [
    "# set style for plot\n",
    "sns.set_style('whitegrid')\n",
    "\n",
    "# used catplot for categorical data \n",
    "g = sns.catplot(\n",
    "    x='Postal_CODE', \n",
    "    y='Count', \n",
    "    col='Ref_Date', \n",
    "    col_wrap=3, \n",
    "    data=df_count_breeds_per_district, \n",
    "    kind='bar',\n",
    "    palette=sns.color_palette(\"husl\", len(df_count_breeds_per_district['Postal_CODE'].unique())), \n",
    "    hue='Postal_CODE', \n",
    ")\n",
    "\n",
    "g._legend.remove()\n",
    "g.fig.legend(loc='lower right', fontsize=15,  title='Postal Codes', title_fontsize=20, ncol=3, bbox_to_anchor=(0., 0.02))\n",
    "g.fig.suptitle('Distribution of dog breed count over districts', fontsize=25, x=0.5, y=0.99, ha='center')\n",
    "\n",
    "# rotate labels for readability\n",
    "for ax in g.axes.flat:\n",
    "    ax.set_xticklabels([])\n",
    "    #ax.tick_params(axis='x', rotation=45)\n",
    "    ax.tick_params(axis='y', labelsize=25)\n",
    "    #ax.tick_params(axis='x', labelsize=18, width=0.5, length=6)\n",
    "    ax.set_title(ax.get_title(), fontsize=25)\n",
    "    #ax.set_xlabel(ax.get_xlabel(), fontsize=25)\n",
    "    ax.set_ylabel(ax.get_ylabel(), fontsize=25)\n",
    "\n",
    "\n",
    "\n",
    "g.fig.tight_layout()\n",
    "plt.savefig(\"Count_of_different_dog_breeds_per_district_year.png\")\n",
    "plt.show()"
   ]
  },
  {
   "cell_type": "markdown",
   "id": "bf222027-4ae2-4862-af37-29d6c13d870e",
   "metadata": {},
   "source": [
    "Observation: The diversity of dogs in Vienna increased noticeably between 2017 and 2024."
   ]
  },
  {
   "cell_type": "markdown",
   "id": "277ea477-7d0c-407b-970e-212d64b5ec94",
   "metadata": {
    "id": "277ea477-7d0c-407b-970e-212d64b5ec94"
   },
   "source": [
    "## E3 - Formulate hypotheses\n",
    "\n",
    "*Note: Read this section entirely and understand it - every group member.*\n",
    "\n",
    "A hypothesis is an idea or explanation for something that is based on known facts but has not yet been proved. A hypothesis is a compact, concise statement, such as: \"Individuals with higher income have (on average) more offspring.\", that will be answered based on facts (the data). https://gradcoach.com/what-is-a-research-hypothesis-or-scientific-hypothesis/\n",
    "\n",
    "Formulate *N* non-trivial hypotheses, 1 per group member, and regard the following criteria:\n",
    "- State the hypothesis explicitly in concise language.\n",
    "- The hypothesis must be **motivated** by either **EDA results** or **literature** (citation in the report needed).\n",
    "- The hypothesis must refer to **endpoints** that are **testable**. Specifically, the endpoint must be derived from the data.\n",
    "- Think of real-life use cases/consequences of your results (textual description).\n",
    "- For each hypothesis explain all executed steps.\n",
    "- In case of extreme or implausible results check the validity of your data.\n",
    "- For each hypothesis export the artifacts (figures, tables, etc.) required for the report.\n",
    "- If you decide to use a statistical test, use it properly. In particular, check the validity and comparability of the samples.\n",
    "\n",
    "Do not:\n",
    "- State nebulous, vague hypotheses. These don't contain endpoints and are unclear to test (i.e., answer).\n",
    "- Use post-hoc hypotheses. Portraying an empirically inspired **post hoc hypothesis as a priori** violates the **falsification principle** crucial for hypothesis-driven (that is, confirmatory) empirical research. Falsification is severe scientific fraud.\n",
    "- State trivial hypotheses (e.g., hypthesis 2: \"Not Hypothesis 1\").\n",
    "- Answer based on \"common knowledge\".\n",
    "- Try to **produce positively tested hypotheses**. If a well motivated hypothesis is negative, this is an important finding (see Simpson's Paradox). The value of a tested hypothesis lies in the information or learning it provides.\n",
    "\n",
    "Example: The homework with Simpson's Paradox. The pooled overall comparison between the genders would be the EDA motivating the hypothesis: \"At UC Berkeley the by-department admissions rate for females is lower than for males.\" It should be tested using samples of department admission rates for the 2 **groups** male and female. No steps of the test should be done in EDA (or a priory to stating the hypothesis). The groups should be compared graphically, e.g., via a stripplot overlayed with a boxplot. The figure should be labelled properly and exported for the report. A (paired) t-test **may** be used (it's optional) to test this hypothesis statistically. For different data (e.g., time series) different approaches may be required. You don't have to use statistical tests, in particular if you don't know what they are doing.\n"
   ]
  },
  {
   "cell_type": "markdown",
   "id": "09613f9f-d3ff-4b8d-b975-88437a72815c",
   "metadata": {
    "id": "09613f9f-d3ff-4b8d-b975-88437a72815c"
   },
   "source": [
    "---\n",
    "\n",
    "### E3-H1: \"The prevalence of specific dog breeds in Vienna is strongly influenced by real estate prices.\"\n",
    "\n",
    "Rationale: Higher real estate prices may attract certain dog breeds, indicating a potential link between the types of dogs found in high-income areas and local housing costs.\n",
    "\n",
    "Data Needed: \n",
    "- Dog breed data (`hunde-vie.csv` / `hunde-wien.csv`).\n",
    "- Real estate prices dataset.\n",
    "\n",
    "Author: Carlos Eduardo Tichy\n",
    "\n",
    "---\n",
    "\n",
    "### Supporting Evidence and Insights\n",
    "\n",
    "While there is no direct study linking **dog breed prevalence** to **real estate prices** specifically in Vienna, several sources suggest that **housing conditions and socio-economic factors** do influence dog breed choices across Europe.\n",
    "\n",
    "1. **Housing Conditions**: A study noted that housing conditions, such as **living in an apartment or house with a garden**, strongly influence the types of dogs people own. In urban areas with high real estate prices, smaller breeds, like **French Bulldogs or Chihuahuas**, are more common due to space constraints. In contrast, **larger breeds**, such as Golden Retrievers or German Shepherds, tend to be more prevalent in suburban or rural areas where properties are larger and more affordable  .\n",
    "\n",
    "2. **Socio-Demographic Factors**: Research also highlights that wealthier households or those in areas with **higher disposable income** are more likely to own certain breeds that are more expensive to maintain, such as **purebred dogs**. Similarly, a rise in **single-person households** and more flexible work patterns (like remote work) have made dog ownership more common in urban areas, further influencing breed choices based on lifestyle  .\n",
    "\n",
    "3. **Popularity and Behavior**: Another study found that certain breeds become popular in specific socio-economic environments due to **behavioral traits** that suit urban living. For example, dogs that are **trainable, less aggressive, or more adaptable to confined spaces** are preferred in cities .\n",
    "\n",
    "These insights suggest a clear relationship between the environment (including **real estate prices**) and **dog breed selection**, even if specific studies on Vienna are yet to emerge.\n",
    "\n",
    "---\n",
    "\n",
    "**Sources**:\n",
    "\n",
    "1. [The Influence of Breed, Sex, Origin and Housing Conditions on Undesirable Behaviors in Ancient Dog Breeds](https://www.mdpi.com/2076-2615/11/5/1435)\n",
    "2. [The Rise of Dog Ownership in Europe: A Decade in Review](https://rochsociety.com/research-european-dog-ownership-2010-2022/)\n",
    "3. [Socio-demographic factors associated with pet ownership amongst adolescents from a UK birth cohort](https://bmcvetres.biomedcentral.com/articles/10.1186/s12917-019-2063-x)\n",
    "4. [Fashion vs. Function in Cultural Evolution: The Case of Dog Breed Popularity](https://journals.plos.org/plosone/article?id=10.1371/journal.pone.0074770)\n",
    "\n",
    "---"
   ]
  },
  {
   "cell_type": "code",
   "execution_count": null,
   "id": "702cdce9-5d4f-41f3-8b9e-a4363ec5d8d5",
   "metadata": {
    "id": "702cdce9-5d4f-41f3-8b9e-a4363ec5d8d5"
   },
   "outputs": [],
   "source": [
    "# !pip install odfpy   # (This line has to be uncommented if odfpy is not yet installed).\n",
    "import pandas as pd\n",
    "\n",
    "# Load the ODS file, specifying the appropriate sheet\n",
    "file_path = './hypo1_material/Wohnungspreise2022.ods'\n",
    "\n",
    "# Load real estate prices with external areas (skip the first 31 rows and end on row 56)\n",
    "df_with_external_area = pd.read_excel(file_path, sheet_name='Wien', skiprows=31, nrows=23, header=[0, 1])\n",
    "\n",
    "# Adjusting the Bezirke column reference using MultiIndex structure\n",
    "bezirke_column_name = ('Bezirke', 'Unnamed: 0_level_1')\n",
    "\n",
    "# Ensure the 'Bezirke' column is treated as a string\n",
    "df_with_external_area[bezirke_column_name] = df_with_external_area[bezirke_column_name].astype(str)\n",
    "\n",
    "# Extract district number and name, and create Postal_CODE\n",
    "df_with_external_area['district_number'] = df_with_external_area[bezirke_column_name].str.extract(r'Wien\\s*(\\d+)').astype(int)\n",
    "df_with_external_area['Postal_CODE'] = df_with_external_area['district_number'].apply(lambda x: f'1{x:02d}0')\n",
    "df_with_external_area['district_name'] = df_with_external_area[bezirke_column_name].str.extract(r',\\s*(.*)')\n",
    "\n",
    "# Columns to keep: only the 'Ab 1991' prices and Postal_CODE\n",
    "columns_to_keep = [\n",
    "    ('Ab 1991', 'Weniger als 55 m²'),\n",
    "    ('Ab 1991', '55 - 78 m²'),\n",
    "    ('Ab 1991', 'Mehr als  78 m²'),\n",
    "    ('Postal_CODE', '')\n",
    "]\n",
    "\n",
    "# Filter and keep only the necessary columns in df_with_external_area\n",
    "df_with_external_area_filtered = df_with_external_area[columns_to_keep].copy()\n",
    "\n",
    "# Rename and flatten the 'Postal_CODE' column in df_with_external_area\n",
    "df_with_external_area_filtered.columns = pd.MultiIndex.from_tuples(\n",
    "    [(a if a != 'Postal_CODE' else 'Postal_CODE', b if b != '' else 'Postal_CODE') for a, b in df_with_external_area_filtered.columns]\n",
    ")\n",
    "df_with_external_area_filtered.columns = df_with_external_area_filtered.columns.get_level_values(1)\n",
    "\n",
    "# Calculate the mean price per square meter for each district\n",
    "df_with_external_area_filtered['mean_price_m2'] = df_with_external_area_filtered[\n",
    "    ['Weniger als 55 m²', '55 - 78 m²', 'Mehr als  78 m²']\n",
    "].mean(axis=1).round(0).astype('int64')\n",
    "\n",
    "# Convert Postal_CODE in the real estate dataset to int64\n",
    "df_with_external_area_filtered['Postal_CODE'] = df_with_external_area_filtered['Postal_CODE'].astype('int64')\n",
    "\n",
    "# Print out the data types to ensure consistency\n",
    "print(df_with_external_area_filtered.dtypes)  # Ensure Postal_CODE is now int64\n",
    "print('\\n', dog_types_2024.dtypes)  # Check types in the dog breeds dataset"
   ]
  },
  {
   "cell_type": "code",
   "execution_count": null,
   "id": "15580d4f-234e-4ba6-92ee-4f1dd7b3dd29",
   "metadata": {},
   "outputs": [],
   "source": [
    "import numpy as np\n",
    "import pandas as pd\n",
    "from rapidfuzz import fuzz, process\n",
    "\n",
    "# Load the CSV file for sizes\n",
    "file_path = './hypo1_material/StdBreedsSizes.csv'\n",
    "\n",
    "# Load the dog breeds height data\n",
    "breed_heights = pd.read_csv(file_path)\n",
    "breed_heights['mean_height'] = breed_heights[['Min Height', 'Max Height']].mean(axis=1)\n",
    "\n",
    "# Function to get the closest matching breed from breed_heights using fuzzy logic\n",
    "def get_closest_breed(breed_name, breed_height_df, threshold=82):\n",
    "    \"\"\"Find the closest matching breed from breed_heights using fuzzy matching.\"\"\"\n",
    "    result = process.extractOne(breed_name, breed_height_df['Dog Breed'], scorer=fuzz.ratio)\n",
    "    if result:\n",
    "        match, score, _ = result\n",
    "        if score >= threshold:\n",
    "            return breed_height_df.loc[breed_height_df['Dog Breed'] == match, 'mean_height'].values[0]\n",
    "    return np.nan\n",
    "\n",
    "# Function to handle mixed breed cases\n",
    "def get_mean_height_for_breed(breed_name, breed_height_df):\n",
    "    \"\"\"Calculate the mean height for a breed or combination of breeds.\"\"\"\n",
    "    if '/' in breed_name:  # Handle mixed breeds\n",
    "        breeds = breed_name.split('/')\n",
    "        heights = [get_closest_breed(breed.strip(), breed_height_df) for breed in breeds]\n",
    "        heights = [h for h in heights if not np.isnan(h)]  # Filter out NaN values\n",
    "        if heights:\n",
    "            return np.mean(heights)\n",
    "    else:  # Single breed case\n",
    "        return get_closest_breed(breed_name, breed_height_df)\n",
    "    return np.nan\n",
    "\n",
    "# Create a copy of the dog_types_2024 dataframe to avoid modifying the original\n",
    "dog_types_2024_copy = dog_types_2024.copy()\n",
    "\n",
    "# Apply the function to calculate mean_height for each breed in the dataset\n",
    "dog_types_2024_copy['mean_height'] = dog_types_2024_copy['Dog Breed'].apply(lambda x: get_mean_height_for_breed(x, breed_heights))\n",
    "\n",
    "# Display the first rows of Dog Breed and their corresponding mean_height\n",
    "print(dog_types_2024_copy[['Dog Breed', 'mean_height']].head())\n",
    "\n",
    "# Count the number of breeds with known mean_height (not NaN)\n",
    "known_breeds_count = dog_types_2024_copy[dog_types_2024_copy['mean_height'].notna()].shape[0]\n",
    "print(f\"Number of rows with known breeds and mean height: {known_breeds_count}\")\n",
    "\n",
    "# Display the first rows with known breeds and mean height\n",
    "known_breeds = dog_types_2024_copy[dog_types_2024_copy['mean_height'].notna()]\n",
    "print(known_breeds.head())"
   ]
  },
  {
   "cell_type": "code",
   "execution_count": null,
   "id": "c2ff2294-de18-4ae5-94c3-1464fef73ed6",
   "metadata": {},
   "outputs": [],
   "source": [
    "# Get the total number of unique dog breeds in the dataset\n",
    "total_unique_breeds = dog_types_2024_copy['Dog Breed'].nunique()\n",
    "\n",
    "# Filter the data for dog breeds where mean_height is known and count unique breeds\n",
    "unique_known_breeds = dog_types_2024_copy[dog_types_2024_copy['mean_height'].notna()]['Dog Breed'].nunique()\n",
    "\n",
    "# Calculate the ratio of identified breeds (those with known mean height) to the total unique breeds\n",
    "breed_identified_ratio = unique_known_breeds / total_unique_breeds\n",
    "\n",
    "# Display the result\n",
    "print(f\"Total unique breeds: {total_unique_breeds}\")\n",
    "print(f\"Unique breeds with known mean height: {unique_known_breeds}\")\n",
    "print(f\"Ratio of identified breeds (without duplicates) to total breeds: {breed_identified_ratio:.2f}\")"
   ]
  },
  {
   "cell_type": "code",
   "execution_count": null,
   "id": "6be9f0ee-c0b0-4a9f-a77d-05a73e371faa",
   "metadata": {},
   "outputs": [],
   "source": [
    "import pandas as pd\n",
    "import plotly.express as px\n",
    "\n",
    "# Merge dog breed data with real estate price data based on Postal_CODE\n",
    "merged_data = pd.merge(df_with_external_area_filtered[['Postal_CODE', 'mean_price_m2']], \n",
    "                       dog_types_2024_copy[['Postal_CODE', 'Dog Breed', 'Anzahl', 'mean_height']], \n",
    "                       how='left', \n",
    "                       on='Postal_CODE')\n",
    "\n",
    "# Group the data by 'mean_price_m2' and 'Postal_CODE' to get the total dog count ('Anzahl')\n",
    "price_dog_distribution = merged_data.groupby(['mean_price_m2', 'Postal_CODE']).agg({\n",
    "    'Anzahl': 'sum'  # Total number of dogs per district\n",
    "}).reset_index()\n",
    "\n",
    "# Create an interactive scatter plot with hover functionality using Plotly\n",
    "fig = px.scatter(price_dog_distribution, \n",
    "                 x='mean_price_m2', \n",
    "                 y='Anzahl', \n",
    "                 size='Anzahl',   # Dot size represents the number of dogs\n",
    "                 color='mean_price_m2', \n",
    "                 hover_name='Postal_CODE',  # Hover shows the district Postal_CODE\n",
    "                 hover_data={\n",
    "                     'Anzahl': True,  # Show the number of dogs on hover\n",
    "                     'Postal_CODE': True  # Show the district number\n",
    "                 },\n",
    "                 labels={\n",
    "                     'mean_price_m2': 'Mean Price per m² (€)', \n",
    "                     'Anzahl': 'Number of Dogs',\n",
    "                     'Postal_CODE': 'District'\n",
    "                 },\n",
    "                 title='Distribution of Dog Amount per Mean Price per m²',\n",
    "                 height=600,  # Set the height of the plot\n",
    "                 width=1200,  # Set the width of the plot\n",
    "                 size_max=50  # Adjust the max dot size for readability\n",
    "                )\n",
    "\n",
    "# Update layout for better visuals\n",
    "fig.update_layout(\n",
    "    xaxis_title=\"Mean Price per m² (€)\",  # Label for x-axis\n",
    "    yaxis_title=\"Number of Dogs\",         # Label for y-axis\n",
    "    coloraxis_colorbar=dict(title=\"Mean Price per m² (€)\"),  # Color bar label\n",
    "    hoverlabel=dict(bgcolor=\"white\", font_size=12)  # Customize hover style\n",
    ")\n",
    "\n",
    "# Show the interactive plot\n",
    "fig.show()"
   ]
  },
  {
   "cell_type": "markdown",
   "id": "8f71492f-9a3a-4988-82d9-76796e28c365",
   "metadata": {},
   "source": [
    "This plot helps evaluate the relationship between real estate prices and the number of dogs in each district, which directly tests the hypothesis about dog ownership patterns in wealthier areas.\n",
    "\n",
    "### Hypothesis:\n",
    "- **Wealthier districts** (higher prices) are expected to have **fewer dogs** due to smaller living spaces.\n",
    "\n",
    "### Key Plot Elements:\n",
    "- **X-axis (Mean Price per m²)**: Indicates district wealth.\n",
    "- **Y-axis (Number of Dogs)**: Shows total dogs in each district.\n",
    "- **Dot Size**: Represents the number of dogs (larger dots = more dogs).\n",
    "- **Color**: Reflects housing price per m².\n",
    "\n",
    "### Supporting the Hypothesis:\n",
    "- If districts with **higher prices** (right) show **fewer dogs** (lower y-axis), this supports the hypothesis.\n",
    "- **Outliers** (high prices, many dogs) could challenge the hypothesis.\n",
    "\n",
    "### Conclusion:\n",
    "- **Support**: Higher prices correlate with fewer dogs.\n",
    "- **Reject**: No clear inverse trend; wealthy areas may still have many dogs.\n",
    "---\n"
   ]
  },
  {
   "cell_type": "code",
   "execution_count": null,
   "id": "70549c6f-45e2-41da-896d-c6a1740d66f8",
   "metadata": {},
   "outputs": [],
   "source": [
    "# Group the data by 'Postal_CODE' to calculate median dog size and mean price per district\n",
    "district_data = merged_data.groupby('Postal_CODE').agg({\n",
    "    'mean_price_m2': 'mean',   # Mean price per m² for each district\n",
    "    'mean_height': 'median'    # Median dog size in the district\n",
    "}).reset_index()\n",
    "\n",
    "# Create an interactive scatter plot with hover functionality\n",
    "fig = px.scatter(district_data, \n",
    "                 x='mean_price_m2', \n",
    "                 y='mean_height', \n",
    "                 size='mean_height',       # Dot size represents the median dog size\n",
    "                 color='mean_price_m2',    # Dot color represents mean price per m²\n",
    "                 hover_name='Postal_CODE',  # Show district number on hover\n",
    "                 hover_data={\n",
    "                     'mean_height': ':.2f',  # Median dog size, rounded to 2 decimals\n",
    "                     'Postal_CODE': True     # Show district code on hover\n",
    "                 },\n",
    "                 labels={\n",
    "                     'mean_price_m2': 'Mean Price per m² (€)', \n",
    "                     'mean_height': 'Median Dog Size (cm)',\n",
    "                     'Postal_CODE': 'District'\n",
    "                 },\n",
    "                 title='Median Dog Size per District vs. Mean Price per m²',\n",
    "                 size_max=15,   # Maximum dot size for readability\n",
    "                 height=600,    # Height of the plot\n",
    "                 width=1200     # Width of the plot\n",
    "                )\n",
    "\n",
    "# Update layout for improved visuals\n",
    "fig.update_layout(\n",
    "    xaxis_title=\"Mean Price per m² (€)\",  # X-axis label\n",
    "    yaxis_title=\"Median Dog Size (cm)\",   # Y-axis label\n",
    "    coloraxis_colorbar=dict(title=\"Mean Price per m² (€)\"),  # Color bar title\n",
    "    hoverlabel=dict(bgcolor=\"white\", font_size=12)  # Customize hover label\n",
    ")\n",
    "\n",
    "# Show the interactive plot\n",
    "fig.show()\n"
   ]
  },
  {
   "cell_type": "markdown",
   "id": "9034fd93-b6a9-4c24-b02d-b2a2728abc83",
   "metadata": {},
   "source": [
    "This plot analyzes the relationship between real estate prices and the median size of dog breeds in each district. It allows us to assess the hypothesis that wealthier districts with higher real estate prices might have smaller dog breeds.\n",
    "\n",
    "### Hypothesis:\n",
    "- **Wealthier districts** (higher prices) are expected to have **smaller dog breeds** due to limited living space.\n",
    "\n",
    "### Key Plot Elements:\n",
    "- **X-axis (Mean Price per m²)**: Represents district wealth.\n",
    "- **Y-axis (Median Dog Size in cm)**: Indicates the median size of dogs in each district.\n",
    "- **Dot Size**: Represents the size of the dogs (larger dots = larger dogs).\n",
    "- **Color**: Reflects the mean price per m² in each district.\n",
    "\n",
    "### Supporting the Hypothesis:\n",
    "- If districts with **higher prices** (right) show **smaller median dog sizes** (lower y-axis and smaller dots), this supports the hypothesis.\n",
    "- **Larger dogs in wealthier districts** may contradict the assumption that wealthy areas prefer smaller dogs.\n",
    "\n",
    "### Conclusion:\n",
    "- **Support**: Higher prices correlate with smaller dogs.\n",
    "- **Reject**: Larger dogs are found in high-price districts.\n",
    "---"
   ]
  },
  {
   "cell_type": "code",
   "execution_count": null,
   "id": "a1a3bcc0-3736-4b06-a875-403d2a396d9d",
   "metadata": {},
   "outputs": [],
   "source": [
    "# Filter out rows where 'mean_height' is NaN (no breed size available)\n",
    "merged_data = merged_data[merged_data['mean_height'].notna()]\n",
    "\n",
    "# Aggregate to get the total number of dogs (Anzahl) and mean height for each breed\n",
    "breed_stats = merged_data.groupby('Dog Breed').agg({\n",
    "    'Anzahl': 'sum',           # Total number of dogs per breed\n",
    "    'mean_height': 'mean'      # Average height of each breed\n",
    "}).reset_index()\n",
    "\n",
    "# Sort breeds by Anzahl (dog count) and select the top 30 breeds\n",
    "top_breeds = breed_stats.sort_values(by='Anzahl', ascending=False).head(30)\n",
    "\n",
    "# Group by breed and district to get the number of dogs per breed in each district\n",
    "districts_per_breed = merged_data.groupby(['Dog Breed', 'Postal_CODE']).agg({\n",
    "    'Anzahl': 'sum'  # Sum of dogs per breed per district\n",
    "}).reset_index()\n",
    "\n",
    "# Get the top 5 districts per breed based on dog count, using include_groups=False to avoid deprecated behavior\n",
    "top_5_districts_per_breed = districts_per_breed.groupby('Dog Breed').apply(\n",
    "    lambda x: x.nlargest(5, 'Anzahl')[['Postal_CODE', 'Anzahl']],\n",
    "    include_groups=False  # Exclude the grouping columns (Dog Breed) from the applied function\n",
    ").reset_index()\n",
    "\n",
    "# Combine top 5 districts for each breed into a single string for display\n",
    "top_5_districts_per_breed['Postal_CODE'] = top_5_districts_per_breed['Postal_CODE'].astype(str)\n",
    "district_summary = top_5_districts_per_breed.groupby('Dog Breed').agg({\n",
    "    'Postal_CODE': lambda x: ', '.join(x[:5])  # Concatenate top 5 districts into one string\n",
    "}).reset_index()\n",
    "\n",
    "# Merge the top 5 districts information into the top_breeds dataframe\n",
    "top_breeds = pd.merge(top_breeds, district_summary, on='Dog Breed')\n",
    "\n",
    "# Create an interactive horizontal bar plot with Plotly, colored by mean_height\n",
    "fig = px.bar(top_breeds, \n",
    "             x='Anzahl', \n",
    "             y='Dog Breed', \n",
    "             orientation='h',  # Horizontal bars\n",
    "             color='mean_height',  # Color by mean breed size\n",
    "             hover_name='Dog Breed', \n",
    "             hover_data={\n",
    "                 'Anzahl': True,                 # Show total number of dogs\n",
    "                 'mean_height': ':.2f',          # Show mean breed size (2 decimals)\n",
    "                 'Postal_CODE': True             # Show top 5 districts for the breed\n",
    "             },\n",
    "             labels={'Anzahl': 'Total Number of Dogs', \n",
    "                     'Dog Breed': 'Breed', \n",
    "                     'mean_height': 'Mean Size (cm)'},  # Label the color axis\n",
    "             title='Total Amount of Dogs per Breed (Top 30, Colored by Mean Size)',\n",
    "             width=1000,                        # Plot width\n",
    "             height=800,                        # Plot height\n",
    "             color_continuous_scale='Viridis')   # Color scale\n",
    "\n",
    "# Customize the plot layout\n",
    "fig.update_layout(\n",
    "    yaxis_title=\"Dog Breed\",\n",
    "    xaxis_title=\"Total Number of Dogs\",\n",
    "    hoverlabel=dict(bgcolor=\"white\", font_size=12),  # Customize hover label\n",
    "    xaxis_range=[0, top_breeds['Anzahl'].max() * 1.1],  # Add space on the x-axis\n",
    "    yaxis={'categoryorder': 'total ascending'},  # Sort breeds by total dogs in ascending order\n",
    "    coloraxis_colorbar=dict(title='Mean Size (cm)')  # Title for the color legend\n",
    ")\n",
    "\n",
    "# Show the plot\n",
    "fig.show()\n"
   ]
  },
  {
   "cell_type": "markdown",
   "id": "b97b4c61-a6ce-4e65-8a7e-53782947d5a8",
   "metadata": {},
   "source": [
    "This code provides an **intermediate step** that helps analyze the distribution of dog breeds and their sizes in different districts. It can indirectly support or reject the hypothesis that wealthier districts tend to have smaller dog breeds.\n",
    "\n",
    "### Key Insights:\n",
    "\n",
    "1. **Aggregation**:\n",
    "   - It aggregates the **total number of dogs** and **average size** of each breed, providing a broad overview of the most common dog breeds.\n",
    "   - By doing this, it identifies the **top 30 most populous breeds**, highlighting which breeds dominate across all districts.\n",
    "\n",
    "2. **District Distribution**:\n",
    "   - For each breed, it finds the **top 5 districts** where the breed is most common. This data is useful for understanding where certain breeds tend to cluster and helps in further analysis.\n",
    "\n",
    "3. **Bar Plot**:\n",
    "   - The **bar plot** visualizes the **number of dogs per breed** and color codes the bars by the **average size of each breed**. The color coding helps link the size of the breed with its prevalence.\n",
    "\n",
    "### How It Relates to the Hypothesis:\n",
    "- **District Analysis**:\n",
    "  - While this analysis doesn’t directly map dog sizes to real estate prices, it lays the foundation for understanding **which breeds** are present in each district and their respective sizes.\n",
    "  - This data can later be cross-referenced with district real estate prices to see if wealthier areas tend to have smaller breeds.\n",
    "\n",
    "### Conclusion:\n",
    "- **Intermediate Step**: This plot itself doesn't test the hypothesis but helps identify breed patterns across districts. It can later be used to correlate **breed size** and **dog counts** with **district wealth**.\n",
    "---"
   ]
  },
  {
   "cell_type": "code",
   "execution_count": null,
   "id": "92624a67-c118-4f22-905c-a4e36a1d4bae",
   "metadata": {},
   "outputs": [],
   "source": [
    "# Set the environment variable to avoid the warning, before importing any libraries that use OpenMP\n",
    "import os\n",
    "os.environ['OMP_NUM_THREADS'] = '1'\n",
    "\n",
    "# Now, import necessary libraries\n",
    "import pandas as pd\n",
    "from sklearn.cluster import KMeans\n",
    "import plotly.express as px\n",
    "from sklearn.preprocessing import StandardScaler\n",
    "\n",
    "# Step 1: Prepare the data\n",
    "# Group by Postal_CODE (district) to get mean price per m² and average dog size (mean_height) per district\n",
    "district_features = merged_data.groupby('Postal_CODE').agg({\n",
    "    'mean_price_m2': 'mean',   # Mean price per m² for each district\n",
    "    'mean_height': 'mean',     # Average dog height for all breeds in the district\n",
    "    'Anzahl': 'sum'            # Total number of dogs in the district\n",
    "}).reset_index()\n",
    "\n",
    "# Step 2: Normalize the data\n",
    "# We normalize the data to ensure that the features are on the same scale\n",
    "scaler = StandardScaler()\n",
    "scaled_features = scaler.fit_transform(district_features[['mean_price_m2', 'mean_height']])\n",
    "\n",
    "# Step 3: Apply K-Means Clustering (without n_jobs, as it's not supported anymore)\n",
    "kmeans = KMeans(n_clusters=3, random_state=42, n_init=10)  # Removed n_jobs argument\n",
    "district_features['Cluster'] = kmeans.fit_predict(scaled_features)\n",
    "\n",
    "# Step 4: Visualize the clusters\n",
    "fig = px.scatter(district_features, \n",
    "                 x='mean_price_m2', \n",
    "                 y='mean_height', \n",
    "                 color='Cluster', \n",
    "                 size='Anzahl',   # Size of dots represents the number of dogs\n",
    "                 hover_name='Postal_CODE',  # Hover shows the district Postal_CODE\n",
    "                 hover_data={\n",
    "                     'mean_price_m2': ':.2f',  # Show mean price per m² on hover\n",
    "                     'mean_height': ':.2f',    # Show mean height of dogs on hover\n",
    "                     'Anzahl': True            # Show number of dogs on hover\n",
    "                 },\n",
    "                 labels={\n",
    "                     'mean_price_m2': 'Mean Price per m² (€)', \n",
    "                     'mean_height': 'Average Dog Size (cm)',\n",
    "                     'Cluster': 'Cluster'\n",
    "                 },\n",
    "                 title='Clustering of Districts Based on Wealth and Dog Size',\n",
    "                 size_max=60,  # Adjust the size of the bubbles for better visibility\n",
    "                 height=800,\n",
    "                 width=1000)\n",
    "\n",
    "# Customize the layout\n",
    "fig.update_layout(\n",
    "    xaxis_title=\"Mean Price per m² (€)\",\n",
    "    yaxis_title=\"Average Dog Size (cm)\",\n",
    "    hoverlabel=dict(font_size=12, bgcolor=\"white\"),\n",
    "    coloraxis_colorbar=dict(title=\"Cluster\")\n",
    ")\n",
    "\n",
    "# Show the plot\n",
    "fig.show()\n",
    "\n",
    "# Step 5: Analyze cluster centers (optional)\n",
    "print(\"Cluster Centers (Mean Price per m² and Mean Dog Size):\")\n",
    "print(kmeans.cluster_centers_)\n"
   ]
  },
  {
   "cell_type": "markdown",
   "id": "03f8fdc5-1795-446c-b72c-01826e6ae787",
   "metadata": {},
   "source": [
    "### Clustering Analysis of District Wealth and Dog Size\n",
    "\n",
    "The clustering analysis provides insights into the relationship between district wealth (mean price per m²) and dog size (mean height). The K-means clustering algorithm grouped the districts into three clusters based on these two variables.\n",
    "\n",
    "#### Clusters Explanation:\n",
    "1. **Cluster 0** (Purple/Blue Dots):\n",
    "   - **Mean price per m²**: Below average (€5k - €8k).\n",
    "   - **Average dog size**: 42-44 cm (larger dogs).\n",
    "   - This cluster represents districts with lower wealth and larger dogs, supporting the hypothesis that less wealthy districts have larger dogs.\n",
    "\n",
    "2. **Cluster 1** (Red/Pink Dots):\n",
    "   - **Mean price per m²**: Average (€6k - €8k).\n",
    "   - **Average dog size**: 44-47 cm (larger dogs).\n",
    "   - These districts are moderately wealthy but still tend to have larger dogs. This could suggest more external space available in these districts (e.g., gardens or larger homes).\n",
    "\n",
    "3. **Cluster 2** (Yellow Dot):\n",
    "   - **Mean price per m²**: Significantly higher (around €18k).\n",
    "   - **Average dog size**: 46-47 cm (smaller dogs).\n",
    "   - This cluster represents the wealthiest districts, where smaller dogs are more common. This strongly supports the hypothesis that wealthier districts tend to have smaller dog breeds.\n",
    "\n",
    "#### Conclusion:\n",
    "- **Support for the Hypothesis**: The clustering analysis supports the hypothesis that smaller dog breeds are more common in wealthier districts. Cluster 2, representing the wealthiest districts, has significantly smaller dogs compared to the less wealthy clusters.\n",
    "- **Middle Income Districts**: Cluster 1, representing middle-income districts, still shows a tendency toward larger dogs, potentially due to more external space in these areas.\n",
    "\n",
    "Overall, the trend from this clustering analysis supports the hypothesis that smaller dogs are prevalent in wealthier districts, particularly in the highest wealth bracket.\n",
    "\n",
    "---"
   ]
  },
  {
   "cell_type": "code",
   "execution_count": null,
   "id": "e8de2057-39e0-4274-aa1e-9f45b10e1a4c",
   "metadata": {},
   "outputs": [],
   "source": [
    "import pandas as pd\n",
    "from scipy.stats import pearsonr\n",
    "\n",
    "# Group the data by 'Postal_CODE' to calculate mean dog size and mean price per district\n",
    "district_data = merged_data.groupby('Postal_CODE').agg({\n",
    "    'mean_price_m2': 'mean',   # Mean price per m² for each district\n",
    "    'mean_height': 'median'    # Median dog size in the district\n",
    "}).reset_index()\n",
    "\n",
    "# Drop any rows with missing data (if any)\n",
    "district_data = district_data.dropna()\n",
    "\n",
    "# Calculate Pearson's correlation coefficient\n",
    "correlation_coefficient, p_value = pearsonr(district_data['mean_price_m2'], district_data['mean_height'])\n",
    "\n",
    "# Display the correlation result\n",
    "print(f\"Pearson's Correlation Coefficient between Mean Price per m² and Median Dog Size: {correlation_coefficient:.3f}\")\n",
    "print(f\"P-Value: {p_value:.5f}\")\n",
    "\n",
    "# Interpret the result based on the correlation value\n",
    "if correlation_coefficient > 0:\n",
    "    print(\"Positive correlation: Larger dog breeds are more common in wealthier districts.\")\n",
    "elif correlation_coefficient < 0:\n",
    "    print(\"Negative correlation: Smaller dog breeds are more common in wealthier districts (supporting the hypothesis).\")\n",
    "else:\n",
    "    print(\"No significant correlation between district wealth and dog breed size.\")"
   ]
  },
  {
   "cell_type": "markdown",
   "id": "2e3a4c84-81ca-4a80-9bdc-8dde3c34e152",
   "metadata": {},
   "source": [
    "## Correlation Analysis (Wealth vs. Dog Size)\n",
    "\n",
    "We performed a Pearson's correlation analysis to examine the relationship between district wealth (mean_price_m²) and dog breed size (mean_height). This helps quantify the strength and direction of the relationship.\n",
    "\n",
    "**Results:**\n",
    "\n",
    "- **Pearson's Correlation Coefficient between Mean Price per m² and Median Dog Size:** `-0.491`\n",
    "- **P-Value:** `0.01743`\n",
    "\n",
    "**Interpretation:**\n",
    "\n",
    "- The correlation coefficient of `-0.491` indicates a **moderate negative correlation** between district wealth and dog breed size.\n",
    "- The **p-value** of `0.01743` shows that this result is statistically significant (p < 0.05), providing strong evidence that smaller dog breeds are more common in wealthier districts.\n",
    "\n",
    "**Conclusion:**\n",
    "\n",
    "This analysis **supports the hypothesis** that smaller breeds are more prevalent in wealthier districts with higher real estate prices.\n",
    "\n",
    "---"
   ]
  },
  {
   "cell_type": "code",
   "execution_count": null,
   "id": "0ee813f2-27bc-4cf8-ac2e-21a30eb06cb9",
   "metadata": {},
   "outputs": [],
   "source": [
    "# !pip install statsmodels # (This line has to be uncommented if statsmodels is not yet installed).()\n",
    "import statsmodels.api as sm\n",
    "import pandas as pd\n",
    "\n",
    "# Prepare the independent and dependent variables\n",
    "X = district_data['mean_price_m2']  # Mean price per m² (district wealth)\n",
    "y = district_data['mean_height']    # Median/mean dog size (cm)\n",
    "\n",
    "# Add a constant to the independent variable (for the intercept)\n",
    "X = sm.add_constant(X)\n",
    "\n",
    "# Perform the linear regression using OLS (Ordinary Least Squares)\n",
    "model = sm.OLS(y, X)\n",
    "results = model.fit()\n",
    "\n",
    "# Print the summary of the regression results\n",
    "print(results.summary())"
   ]
  },
  {
   "cell_type": "markdown",
   "id": "d1d652a9-23c5-415d-818a-f927e9317b0b",
   "metadata": {},
   "source": [
    "## Regression Analysis: Dog Size vs. District Wealth\n",
    "\n",
    "**Objective:** To evaluate how much dog breed size (mean height) is influenced by district wealth (mean price per m²) using a linear regression model.\n",
    "\n",
    "### Results:\n",
    "\n",
    "- **Dependent Variable (Y):** Mean Dog Size (cm)\n",
    "- **Independent Variable (X):** Mean Price per m² (€)\n",
    "\n",
    "**Model Summary:**\n",
    "- **R-squared:** 0.241  \n",
    "   The model explains approximately 24.1% of the variance in dog breed size based on district wealth.\n",
    "  \n",
    "- **Adjusted R-squared:** 0.205  \n",
    "   After accounting for the number of predictors in the model, the adjusted R-squared is 20.5%, indicating moderate explanatory power.\n",
    "\n",
    "- **F-statistic:** 6.660 (p-value = 0.0174)  \n",
    "   The F-statistic and its p-value indicate that the regression model is statistically significant, meaning district wealth has a measurable impact on dog size.\n",
    "\n",
    "### Coefficients:\n",
    "\n",
    "- **Intercept (const):** 46.3880  \n",
    "   When district wealth is zero, the predicted average dog size is 46.39 cm. While this is a theoretical value, it serves as the baseline of the model.\n",
    "\n",
    "- **Mean Price per m² (mean_price_m2) coefficient:** -0.0005  \n",
    "   For each €1 increase in the price per m², the average dog size decreases by 0.0005 cm. This small but consistent decrease supports the negative relationship between district wealth and dog breed size.\n",
    "\n",
    "### Statistical Significance:\n",
    "\n",
    "- **p-value (for Mean Price per m²):** 0.017  \n",
    "   A p-value below 0.05 suggests that the relationship between district wealth and dog size is statistically significant, meaning we can reject the null hypothesis that there's no relationship.\n",
    "\n",
    "### Conclusion:\n",
    "\n",
    "- The regression results show a statistically significant **negative relationship** between district wealth and dog size. As district wealth increases, dog size tends to decrease.\n",
    "- This finding **supports the hypothesis** that smaller dog breeds are more common in wealthier districts, as reflected by higher prices per m².\n",
    "\n",
    "---"
   ]
  },
  {
   "cell_type": "markdown",
   "id": "0588530a-868d-43dd-b258-9041aa566574",
   "metadata": {},
   "source": [
    "---\n",
    "\n",
    "### Final Conclusion on the Hypothesis: \"The Prevalence of Specific Dog Breeds in Vienna is Strongly Influenced by Real Estate Prices\"\n",
    "\n",
    "#### Hypothesis Recap:\n",
    "The hypothesis states that **the distribution and prevalence of specific dog breeds across districts in Vienna are influenced by real estate prices**. The idea is that wealthier districts may attract certain breeds, implying a relationship between real estate costs and the types of dogs found in these areas.\n",
    "\n",
    "#### 1. **Correlation Analysis**:\n",
    "   - **Pearson's correlation** showed a **moderate negative correlation** (-0.491) between **real estate prices (mean price per m²)** and **dog breed size**. This indicates that smaller dog breeds tend to be more prevalent in districts with higher real estate prices, suggesting that housing size and conditions may influence breed preferences in wealthier areas.\n",
    "\n",
    "#### 2. **Regression Analysis**:\n",
    "   - The **linear regression** model further supported the hypothesis, revealing a significant negative relationship between **real estate prices and dog size**. With a coefficient of **-0.0005** and an **R-squared value of 0.241**, the model suggests that **wealthier districts are more likely to have smaller dog breeds**, though other factors may also contribute to this distribution.\n",
    "\n",
    "#### 3. **Clustering Analysis**:\n",
    "   - **K-means clustering** identified three distinct clusters of districts based on wealth and dog size:\n",
    "     - **Wealthiest districts** tend to have smaller dog breeds.\n",
    "     - **Less wealthy districts** are home to larger dog breeds.\n",
    "     - An intermediate cluster represented a mix of these characteristics.\n",
    "   \n",
    "   The clustering pattern aligns with the hypothesis, as smaller breeds were more concentrated in wealthier clusters, supporting the idea that **real estate prices influence breed selection**.\n",
    "\n",
    "### Final Conclusion:\n",
    "- **The hypothesis is supported by the data**. Across multiple analyses, the findings consistently indicate a relationship between **real estate prices and the prevalence of certain dog breeds**. Wealthier districts tend to have **smaller dog breeds**, likely influenced by factors such as housing space, lifestyle, and socio-economic conditions.\n",
    "\n",
    "- **Strength of the Evidence**: The correlation and regression analyses show statistically significant relationships, while the clustering and other analyses provide strong visual and categorical support for the hypothesis. However, the **moderate R-squared value** in the regression suggests that other factors, such as housing conditions, family size, or personal preferences, may also play a role.\n",
    "\n",
    "### Recommendations for Further Research:\n",
    "1. **Expand the Analysis**: Include additional variables like the presence of **external space** (gardens or parks), **family size**, and **type of housing** (apartments vs. houses) to strengthen the model.\n",
    "   \n",
    "2. **Investigate Other Cities**: Conduct similar studies in other cities to validate whether this trend holds in different socio-economic environments.\n",
    "   \n",
    "3. **Time Series Analysis**: Perform a **temporal analysis** to determine how breed distribution and real estate prices have evolved over time. This could uncover longer-term trends in dog ownership and housing patterns.\n",
    "\n",
    "### Final Statement:\n",
    "- The hypothesis that **the prevalence of specific dog breeds in Vienna is strongly influenced by real estate prices** is valid based on the data analyzed. Smaller dog breeds are more common in wealthier districts, and this relationship is statistically significant. Further research is encouraged to explore additional influencing factors and broader applicability of this finding.\n",
    "\n",
    "---\n"
   ]
  },
  {
   "cell_type": "markdown",
   "id": "b1c08454-d5fe-4e5a-8dd7-1caf22003bb2",
   "metadata": {},
   "source": [
    "---"
   ]
  },
  {
   "cell_type": "markdown",
   "id": "8a404fa7-19f3-49bc-adc7-9a6ae07da0c9",
   "metadata": {
    "id": "8a404fa7-19f3-49bc-adc7-9a6ae07da0c9",
    "tags": []
   },
   "source": [
    "### E3-H2: \"There is a positive correlation between the ownership of Listenhunde and district, with a higher prevalence of Listenhunde ownership in outer viennese districts compared to inner districts.\"\n",
    "\n",
    "Listenhunde are specific dog breeds which must be registered and owning them comes with specific regulations, such as always walk your dog with a muzzle and a leash, except when in fully gated dog areas. Owners must complete a 'Hundeführerschein' as well, for which you have to be at least 16 years old. Thereby, if you are under the age of 16, you are not allowed to walk this dog breed. Note that all dogs, which contain one of the breeds from the list are considered a Listenhund.  \n",
    "\n",
    "Why could there be a correlation? It could be easier to own a Listenhund in an outer district, as there aren't as many people around (acceptance) as well as more dog space available in general. Additionally, other provinces have different regulations, which might be more favorable and would make traveling distances shorter. \n",
    "\n",
    "Data Needed: Dog breed data ('hunde-vie.csv'/hunde-wien.csv)\n",
    "\n",
    "Author: Theresa Spiel\n",
    "\n",
    "---\n",
    "\n",
    "**Sources**: \n",
    "1. [Haltung von Listenhunden in Wien](https://www.oesterreich.gv.at/themen/reisen_und_freizeit/haustiere/1/2/Seite.742280.html)\n",
    "2. [All regulations for Listenhunde in Austria](https://www.oesterreich.gv.at/themen/reisen_und_freizeit/haustiere/1/2.html)\n",
    "3. [Hundezonen Wien](https://www.wien.gv.at/umwelt/parks/hundezonen.html#einundzwanzig)\n",
    "---\n"
   ]
  },
  {
   "cell_type": "markdown",
   "id": "6d2b6802-802e-4cc9-ad8c-10c222c76df1",
   "metadata": {},
   "source": [
    "Start with getting all dog breeds per district."
   ]
  },
  {
   "cell_type": "code",
   "execution_count": null,
   "id": "4a3711e0-13d6-4115-9d64-c9f154d27f7f",
   "metadata": {
    "id": "4a3711e0-13d6-4115-9d64-c9f154d27f7f"
   },
   "outputs": [],
   "source": [
    "# create a dataframe with all dog breeds per district\n",
    "dog_breeds_per_district = combined_dog_types_by_year_and_district.reset_index().melt(id_vars=[ 'Ref_Date', 'Postal_CODE'], value_vars=combined_dog_types_by_year_and_district.columns, value_name='Count')\n",
    "dog_breeds_per_district[\"year\"] = dog_breeds_per_district[\"Ref_Date\"].dt.strftime(\"%Y\").astype(\"int32\")\n",
    "dog_breeds_per_district"
   ]
  },
  {
   "cell_type": "markdown",
   "id": "3e115b47-b47d-4bdf-addf-374860ec3f91",
   "metadata": {},
   "source": [
    "There are many mixed breeds --> aggregate mixed breeds and introduce Primary and Secondary Breed. "
   ]
  },
  {
   "cell_type": "code",
   "execution_count": null,
   "id": "f66f297b-6c64-45a9-aaa3-d459f9f9d67e",
   "metadata": {},
   "outputs": [],
   "source": [
    "dog_breeds_per_district['Dog Breed'] = dog_breeds_per_district['Dog Breed'].str.replace('-', '')\n",
    "dog_breeds_per_district[['Primary Breed', 'Secondary Breed']] = dog_breeds_per_district['Dog Breed'].str.split(' / ', n=1, expand=True).astype(str)\n",
    "dog_breeds_per_district['Secondary Breed'] = dog_breeds_per_district['Secondary Breed'].replace('None', np.nan)\n",
    "\n",
    "# Check for potentially redundant breed names\n",
    "potentially_redundant = {}\n",
    "\n",
    "# looping spefically to add to potentially_redundant \n",
    "for breed in dog_breeds_per_district[\"Primary Breed\"].unique():\n",
    "    stripped = re.sub(r'[^a-zA-Z]', '', breed).lower()\n",
    "    if stripped in potentially_redundant:\n",
    "        potentially_redundant[stripped].append(breed)\n",
    "    else:\n",
    "        potentially_redundant[stripped] = [breed]\n",
    "\n",
    "# fix redundant breeds (same breed, but written different, only upper lower differences, missing space and such) \n",
    "for stripped, breeds in potentially_redundant.items():\n",
    "    if len(breeds) > 1:\n",
    "        dog_breeds_per_district.loc[dog_breeds_per_district['Primary Breed'] == breeds[1], 'Primary Breed'] = str(breeds[0])\n",
    "\n",
    "# add (pure) to every entry where secondary is NaN to not mix pure breeds and mixed breeds\n",
    "dog_breeds_per_district.loc[dog_breeds_per_district['Secondary Breed'].isna(), 'Primary Breed'] += ' (pure)'\n",
    "dog_breeds_per_district.loc[~dog_breeds_per_district['Secondary Breed'].isna(), 'Primary Breed'] += ' (mixed)'\n",
    "\n",
    "# drop entries with Unbekannt (pure) \n",
    "dog_breeds_per_district = dog_breeds_per_district[dog_breeds_per_district['Primary Breed'] != 'Unbekannt (pure)']\n",
    "dog_breeds_per_district = dog_breeds_per_district[dog_breeds_per_district['Primary Breed'] != 'Unbekannt (mixed)']\n",
    "\n",
    "dog_breeds_per_district.sort_values(by=['Ref_Date'], ascending=True)\n",
    "dog_breeds_per_district.head()"
   ]
  },
  {
   "cell_type": "markdown",
   "id": "021b2f00-b770-4b3c-83b0-16fd17217b25",
   "metadata": {},
   "source": [
    "There is still 1044 unique values, but we need to take mixed vs pure into account. "
   ]
  },
  {
   "cell_type": "code",
   "execution_count": null,
   "id": "da46ef89-f705-47a9-991a-8f2a165fe9d7",
   "metadata": {},
   "outputs": [],
   "source": [
    "len(dog_breeds_per_district['Primary Breed'].unique())"
   ]
  },
  {
   "cell_type": "markdown",
   "id": "ebd7d3ff-367f-4abc-973c-55e68aaf7349",
   "metadata": {},
   "source": [
    "Plot all primary breeds as histogram per breed, separated by year (with an animation frame) and the histogram being split into the districts. Upon zooming in, we can see there is a prevalesence for specific dog breeds, but this plot is too crowded yet, to gain insights for Listenhunde. "
   ]
  },
  {
   "cell_type": "code",
   "execution_count": null,
   "id": "9a570543-c5ba-4248-9b1d-0d641ca44b28",
   "metadata": {},
   "outputs": [],
   "source": [
    "# Using a interactive histogram to display the distribution of dog breeds per district \n",
    "def show_interactive_histogram(dataframe, x, y, color, title, yaxes_text):\n",
    "    fig = px.histogram(data_frame=dataframe, x=x, y=y, color=color,\n",
    "                     title=title, animation_frame=\"year\")\n",
    "    fig.update_yaxes(title_text=yaxes_text)\n",
    "    fig.update_xaxes(tickangle=45)\n",
    "    fig.update_layout(\n",
    "        updatemenus=[dict(y=-0.22, x=-0.16, xanchor=\"left\", yanchor=\"top\")],\n",
    "        sliders=[dict(y=-0.2, x=0.1, xanchor=\"left\", yanchor=\"top\")],\n",
    "        margin=dict(b=150),\n",
    "        autosize=False,\n",
    "        width=1100,\n",
    "        height=1100,\n",
    "    )\n",
    "    fig.show()"
   ]
  },
  {
   "cell_type": "code",
   "execution_count": null,
   "id": "7aa95989-12a0-4e6b-8b6f-f238cb345c18",
   "metadata": {},
   "outputs": [],
   "source": [
    "show_interactive_histogram(\n",
    "    dataframe=dog_breeds_per_district, \n",
    "    x = 'Primary Breed', \n",
    "    y = 'Count', \n",
    "    color = 'Postal_CODE', \n",
    "    title='Dog Breeds per Year/District', \n",
    "    yaxes_text='Count',\n",
    ")"
   ]
  },
  {
   "cell_type": "code",
   "execution_count": null,
   "id": "23708289-2ddc-4c36-b43b-2565864f1ad5",
   "metadata": {},
   "outputs": [],
   "source": [
    "list_dogs = ['Bullterrier', 'Staffordshire Bullterrier', 'American Staffordshire Terrier', 'Mastino Napoletano', 'Mastin Espanol', 'Fila Brasileiro', 'Mastiff', 'Bullmastiff', 'Tosa Inu', \n",
    "    'Pit Bull Terrier', 'Rottweiler', 'Dogo Argentino', 'Argentinischer Mastiff']\n",
    "[x.strip(\" \") for x in list_dogs];"
   ]
  },
  {
   "cell_type": "markdown",
   "id": "14dbfc4f-4064-4f7f-8c64-f56cf3dbee93",
   "metadata": {},
   "source": [
    "Filter for Listenhunde and display those. Shows general distribution of Listenhunde. "
   ]
  },
  {
   "cell_type": "code",
   "execution_count": null,
   "id": "aa5cb19d-3240-4e2a-9b5b-d0b939d97f5e",
   "metadata": {},
   "outputs": [],
   "source": [
    "# create a mask which checks each Primary Breed entry if it contains an entry from the list of dogs caseinsensitive and without spaces\n",
    "mask = dog_breeds_per_district['Primary Breed'].str.strip(\" \").str.contains('|'.join(list_dogs), case=False, na=False)\n",
    "\n",
    "# get matching breeds and sort by date \n",
    "matching_breeds = dog_breeds_per_district[mask].sort_values(by=['Ref_Date'], ascending=True)\n",
    "matching_breeds['Primary Breed'] = matching_breeds['Primary Breed'].str.replace(\" (pure)\", \"\", regex=False).str.replace(\" (mixed)\", \"\", regex=False)"
   ]
  },
  {
   "cell_type": "code",
   "execution_count": null,
   "id": "cf44fa3c-ae1a-4964-b195-2c76882ae66f",
   "metadata": {},
   "outputs": [],
   "source": [
    "show_interactive_histogram(\n",
    "    dataframe=matching_breeds, \n",
    "    x = 'Primary Breed', \n",
    "    y = 'Count', \n",
    "    color = 'Postal_CODE', \n",
    "    title='Listenhunde per Year/District', \n",
    "    yaxes_text='Count',\n",
    ")"
   ]
  },
  {
   "cell_type": "markdown",
   "id": "ec48254c-11ab-4f41-8300-288a2f739b7c",
   "metadata": {},
   "source": [
    "Show Listenhunde by year and district. "
   ]
  },
  {
   "cell_type": "code",
   "execution_count": null,
   "id": "75854758-144d-47c5-b92f-74ad0123d3d1",
   "metadata": {},
   "outputs": [],
   "source": [
    "def show_interactive_histogram_per_district(dataframe, x, y, color, title, yaxes_text):\n",
    "    fig = px.histogram(data_frame=dataframe, \n",
    "                       x=x, \n",
    "                       y=y, \n",
    "                       color=color, \n",
    "                       title=title,\n",
    "                       animation_frame=\"year\",  \n",
    "                       nbins=len(matching_breeds['Postal_CODE'].unique())\n",
    "                      )\n",
    "    fig.update_yaxes(title_text=yaxes_text)\n",
    "    fig.update_xaxes(tickangle=45, tickvals=dataframe[x].unique() )\n",
    "    fig.update_layout(bargap=0.2, autosize=False, width=1100, height=1000)\n",
    "    fig.show()"
   ]
  },
  {
   "cell_type": "code",
   "execution_count": null,
   "id": "1cd0be93-4e78-4a98-a18f-62d6f251f5c1",
   "metadata": {},
   "outputs": [],
   "source": [
    "show_interactive_histogram_per_district(\n",
    "    dataframe=matching_breeds, \n",
    "    x = 'Postal_CODE', \n",
    "    y = 'Count', \n",
    "    color = 'Primary Breed', \n",
    "    title='Listenhunde per Year/District', \n",
    "    yaxes_text='Count',\n",
    ")"
   ]
  },
  {
   "cell_type": "markdown",
   "id": "23756f24-1ef4-440b-8f15-42aed23ecaf9",
   "metadata": {},
   "source": [
    "Recall Vienna's district borders. Outer districts are those districts which border to neighbouring provinces.\n",
    "- outer_districts = [1100, 1110, 1130, 1140, 1170,  1190, 1210, 1220, 1230]\n",
    "- inner_districts = [1010, 1020, 1030, 1040, 1050, 1060, 1070, 1080, 1090, 1120, 1150, 1160, 1180, 1200]\n",
    "\n"
   ]
  },
  {
   "cell_type": "code",
   "execution_count": null,
   "id": "3ae37e99-4e3a-4aad-b821-0210f0905d35",
   "metadata": {},
   "outputs": [],
   "source": [
    "#pip install pyogrio"
   ]
  },
  {
   "cell_type": "code",
   "execution_count": null,
   "id": "5dcc508d-2d8c-4af2-b4e8-a72b6adc37b7",
   "metadata": {},
   "outputs": [],
   "source": [
    "gdf = gpd.read_file(\"BEZIRKSGRENZEOGD.json\")\n",
    "gdf = gdf.set_index('BEZNR').sort_index()\n",
    "\n",
    "ax = gdf.plot(color='none', edgecolor='red')\n",
    "# gcf -> get current figure , set title\n",
    "plt.gcf().suptitle('Vienna\\'s district borders')\n",
    "ax.set_xlabel('Lon °')\n",
    "ax.set_ylabel('Lat °')\n",
    "\n",
    "# Plot the index for each district\n",
    "for idx, row in gdf.iterrows():\n",
    "    ax.text(row.geometry.centroid.x, row.geometry.centroid.y, str(idx), ha='center')\n",
    "\n",
    "plt.savefig(\"Vienna's districts.png\")\n",
    "\n",
    "plt.show()"
   ]
  },
  {
   "cell_type": "markdown",
   "id": "9cf248f6-300f-408f-b579-bfba7767853b",
   "metadata": {},
   "source": [
    "Split into outer and inner districts and look for distribution difference "
   ]
  },
  {
   "cell_type": "code",
   "execution_count": null,
   "id": "e0b82205-7a53-4278-a326-91d03f775eb5",
   "metadata": {},
   "outputs": [],
   "source": [
    "matching_breeds.head()"
   ]
  },
  {
   "cell_type": "code",
   "execution_count": null,
   "id": "c6b00bd2-7211-4dec-af13-7e32a39e53b4",
   "metadata": {},
   "outputs": [],
   "source": [
    "outer_districts = [1100, 1110, 1130, 1140, 1170,  1190, 1210, 1220, 1230]\n",
    "inner_districts = [1010, 1020, 1030, 1040, 1050, 1060, 1070, 1080, 1090, 1120, 1150, 1160, 1180, 1200]\n",
    "\n",
    "matching_breeds_inner = matching_breeds[matching_breeds['Postal_CODE'].isin(inner_districts)]\n",
    "matching_breeds_outer = matching_breeds[matching_breeds['Postal_CODE'].isin(outer_districts)]\n",
    "\n",
    "print(\"Sanity Check - number of postal codes in both dfs: \") \n",
    "matching_breeds_inner['Postal_CODE'].nunique() + matching_breeds_outer['Postal_CODE'].nunique()"
   ]
  },
  {
   "cell_type": "markdown",
   "id": "17350603-3cba-48e1-955f-1d5fbddf5219",
   "metadata": {},
   "source": [
    "Comparing the absolute sum of Listenhunde in inner and outer districts supports the hypothesis. "
   ]
  },
  {
   "cell_type": "code",
   "execution_count": null,
   "id": "ad9b3842-de06-40c7-8fd3-c19c92ff7738",
   "metadata": {},
   "outputs": [],
   "source": [
    "print(\"Listenhunde innere Bezirke: \", matching_breeds_inner['Count'].sum())\n",
    "print(\"Einträge: \", len(matching_breeds_inner))"
   ]
  },
  {
   "cell_type": "code",
   "execution_count": null,
   "id": "f3fe3407-bbc4-4398-966d-33072c5e7f83",
   "metadata": {},
   "outputs": [],
   "source": [
    "print(\"Listenhund äußere Bezirke: \", matching_breeds_outer['Count'].sum())\n",
    "print(\"Einträge: \", len(matching_breeds_outer))"
   ]
  },
  {
   "cell_type": "markdown",
   "id": "608a8fb6-b56a-455c-9050-fe395a1564cc",
   "metadata": {},
   "source": [
    "Lets look at the subgroups in more detail: "
   ]
  },
  {
   "cell_type": "code",
   "execution_count": null,
   "id": "61cbd7a6-b714-4715-a143-36b122ec14a5",
   "metadata": {},
   "outputs": [],
   "source": [
    "show_interactive_histogram_per_district(\n",
    "    dataframe=matching_breeds_inner, \n",
    "    x = 'Postal_CODE', \n",
    "    y = 'Count', \n",
    "    color = 'Primary Breed', \n",
    "    title='Listenhunde per Year / Inner Districts', \n",
    "    yaxes_text='Count',\n",
    ")"
   ]
  },
  {
   "cell_type": "code",
   "execution_count": null,
   "id": "a11fc1a0-c522-4236-9f14-c6c128d71683",
   "metadata": {},
   "outputs": [],
   "source": [
    "show_interactive_histogram_per_district(\n",
    "    dataframe=matching_breeds_outer, \n",
    "    x = 'Postal_CODE', \n",
    "    y = 'Count', \n",
    "    color = 'Primary Breed', \n",
    "    title='Listenhunde per Year/ Outer Districts', \n",
    "    yaxes_text='Count',\n",
    ")"
   ]
  },
  {
   "cell_type": "markdown",
   "id": "c31c1775-b9fb-489d-9033-235e68c6cbf3",
   "metadata": {},
   "source": [
    "Lets see if there is a correlation between breed and district. "
   ]
  },
  {
   "cell_type": "code",
   "execution_count": null,
   "id": "3beeb249-7657-46a1-80a6-e77f494826c8",
   "metadata": {},
   "outputs": [],
   "source": [
    "from scipy import stats\n",
    "\n",
    "# calculate correlation between Listenhund breed and postal code\n",
    "def calculate_correlation(breed):\n",
    "    breed_data = matching_breeds[matching_breeds['Primary Breed'] == breed]\n",
    "    return stats.pearsonr(breed_data['Count'], breed_data['Postal_CODE'])[0]\n",
    "\n",
    "top_breeds = matching_breeds.groupby('Primary Breed')['Count'].sum().index\n",
    "correlations = {breed: calculate_correlation(breed) for breed in top_breeds}\n",
    "\n",
    "plt.figure(figsize=(12, 6))\n",
    "breeds = [x.replace(\" \", \" \\n \") for x in correlations.keys()];\n",
    "values = list(correlations.values())\n",
    "\n",
    "# Separate points into two lists\n",
    "points_high = [(x, y) for x, y in zip(breeds, values) if y > 0.2]\n",
    "points_low = [(x, y) for x, y in zip(breeds, values) if y <= 0.2]\n",
    "\n",
    "# Plot points with y-value > 0.2 in green\n",
    "plt.scatter([x for x, y in points_high], [y for x, y in points_high], label='Correlation Coefficients > 0.2', color='green')\n",
    "\n",
    "# Plot points with y-value <= 0.2 in default color\n",
    "plt.scatter([x for x, y in points_low], [y for x, y in points_low], label='Correlation Coefficients <= 0.2', color='red')\n",
    "\n",
    "#plt.scatter(breeds, values, label='Correlation Coefficients', s=100)\n",
    "\n",
    "plt.title('Correlation between Listenhund Breed Popularity and District', fontsize=25)\n",
    "plt.xticks(rotation=45, ha='right', fontsize=15)\n",
    "plt.yticks(fontsize=15)\n",
    "plt.ylabel('Correlation Coefficient', fontsize=20)\n",
    "plt.xlabel('Breed', fontsize=20)\n",
    "plt.legend(fontsize=20)\n",
    "plt.tight_layout()\n",
    "plt.savefig(\"pearson_coefficient_listenhunde.png\")\n",
    "plt.show()"
   ]
  },
  {
   "cell_type": "markdown",
   "id": "303db61b-3072-43de-b53b-46adf1923d43",
   "metadata": {},
   "source": [
    "There is a weak correaltion between list dog breed owned and district, with only three breeds > 0.2. The lower the result, the less relationship there is, therefore, a value of ~0.3 and less is not statistically significant. \n",
    "[Pearson Correlation Coefficient](https://www.scribbr.com/statistics/pearson-correlation-coefficient/)"
   ]
  },
  {
   "cell_type": "markdown",
   "id": "778928e5-84bf-4417-bd51-8e97b851069e",
   "metadata": {},
   "source": [
    "Get the relation to dog ownership in inner and outer districts in general: "
   ]
  },
  {
   "cell_type": "code",
   "execution_count": null,
   "id": "8a2843d0-eda7-41b9-a71d-d92af34dfdf8",
   "metadata": {},
   "outputs": [],
   "source": [
    "district_dog_breeds_inner = dog_breeds_per_district[dog_breeds_per_district['Postal_CODE'].isin(inner_districts)]\n",
    "district_dog_breeds_outer = dog_breeds_per_district[dog_breeds_per_district['Postal_CODE'].isin(outer_districts)]"
   ]
  },
  {
   "cell_type": "code",
   "execution_count": null,
   "id": "cfdec592-0f0a-4ff6-b979-221cbf930d77",
   "metadata": {},
   "outputs": [],
   "source": [
    "def get_relative(matching_breeds, all_breeds): \n",
    "    print(\"Number of Listenhunde: \", matching_breeds['Count'].sum())\n",
    "    print(\"Number of dogs overall: \", all_breeds['Count'].sum())\n",
    "    print(f\"Percentage of Listenhunde in dogs overall: {((matching_breeds['Count'].sum()/all_breeds['Count'].sum()) *100):.2f} %\")\n",
    "    return matching_breeds['Count'].sum(), all_breeds['Count'].sum(), ((matching_breeds['Count'].sum()/all_breeds['Count'].sum()) *100)\n",
    "    "
   ]
  },
  {
   "cell_type": "code",
   "execution_count": null,
   "id": "e2fb7659-e746-4ac0-bd4f-7bd872d818ef",
   "metadata": {},
   "outputs": [],
   "source": [
    "print(\"Inner Districts: \")\n",
    "inner_listenhunde, inner_total_dogs, inner_percentage = get_relative(matching_breeds_inner, district_dog_breeds_inner)"
   ]
  },
  {
   "cell_type": "code",
   "execution_count": null,
   "id": "ac5e87b9-856d-4c7c-891f-68606218d687",
   "metadata": {},
   "outputs": [],
   "source": [
    "print(\"Outer Districts: \")\n",
    "outer_listenhunde, outer_total_dogs, outer_percentage = get_relative(matching_breeds_outer, district_dog_breeds_outer)"
   ]
  },
  {
   "cell_type": "code",
   "execution_count": null,
   "id": "95f9bf1d-38dc-4281-a077-3899ae275ed9",
   "metadata": {},
   "outputs": [],
   "source": [
    "inner_data = [inner_listenhunde, inner_total_dogs - inner_listenhunde]\n",
    "outer_data = [outer_listenhunde, outer_total_dogs - outer_listenhunde]\n",
    "\n",
    "inner_labels = ['Listenhunde', 'Other Dogs']\n",
    "outer_labels = ['Listenhunde', 'Other Dogs']\n",
    "\n",
    "explode = (0, 0.1)  # move listenhund slice a little out \n",
    "fig, axs = plt.subplots(1, 2, figsize=(12, 6))\n",
    "\n",
    "\n",
    "axs[0].pie(inner_data, explode=explode, autopct='%1.1f%%', textprops={'fontsize': 18},  colors=['lightblue', 'yellow'], pctdistance=.75)\n",
    "axs[0].set_title('Inner Districts', fontsize=25)\n",
    "\n",
    "axs[1].pie(outer_data, explode=explode, autopct='%1.1f%%', textprops={'fontsize': 18},  colors=['lightblue', 'yellow'], pctdistance=.75)\n",
    "axs[1].set_title('Outer Districts', fontsize=25)\n",
    "\n",
    "# Equal aspect ratio ensures that pie is drawn as a circle\n",
    "axs[0].axis('equal')  \n",
    "axs[1].axis('equal')\n",
    "axs[0].legend(labels=inner_labels, loc='upper center', bbox_to_anchor=(0.5, 0.05), ncol=1, fontsize=20)\n",
    "axs[1].legend(labels=outer_labels, loc='upper center', bbox_to_anchor=(0.5, 0.05), ncol=1, fontsize=20)\n",
    "\n",
    "# Display percentages outside of the pie chart\n",
    "'''for ax in axs:\n",
    "    patches, texts, autotexts = ax.pie(inner_data if ax == axs[0] else outer_data, labels=None, autopct='%1.1f%%', startangle=90)\n",
    "    for t in autotexts:\n",
    "        t.set_text(t.get_text())\n",
    "        t.set_fontsize(8)\n",
    "        t.set_color('black')\n",
    "        t.set_weight('bold')\n",
    "        t.set_ha('center')\n",
    "        t.set_va('center')\n",
    "        t.set_x(1.2)'''\n",
    "\n",
    "\n",
    "\n",
    "fig.tight_layout()\n",
    "plt.savefig(\"pie_charts_dogs_relative.png\")\n",
    "plt.show()"
   ]
  },
  {
   "cell_type": "markdown",
   "id": "775f2ade-f6f8-47ec-b561-30d661579686",
   "metadata": {},
   "source": [
    "#### Anser H2: \n",
    "No, there is no statistically significant positive correlation between the ownership of Listenhunde and districts. While the absolute number of Listenhunde is higher in the outer districts, the relative number of Listenhunde in outer districts is only slightly higher than the relative number of Listenhunde in inner districts. Additionally only a weak correlation between Listenhund breed owned and district could be found. "
   ]
  },
  {
   "cell_type": "markdown",
   "id": "70e60944-b857-4a32-872a-6db028c51c87",
   "metadata": {
    "id": "70e60944-b857-4a32-872a-6db028c51c87",
    "tags": []
   },
   "source": [
    "---\n",
    "\n",
    "### E3-H3: \"The Height of registered Dogs correlates positively with the ratio of green space in a district.\"\n",
    "\n",
    "Rationale: In districts with less green space, smaller dogs might be preferred because they need less area to run around. Bigger dogs usually need to be able to run/exercise more freely in a less confined area. They usually need more time outside.\n",
    "\n",
    "Use-Case: this could be important information for marketing purposes, e.g., dogs of different sizes need different foods, toys, etc. By knowing which group you can target in which districts, you can save money by not wasting it on the wrong audience.\n",
    "\n",
    "Author: Martin Stasek\n",
    "\n",
    "\n",
    "* Height categories (<a href=\"https://futalis.de/hunderatgeber/hunderassen#:~:text=Kleine%20Hunderassen%20haben%20eine%20Schulterh%C3%B6he,eine%20Schulterh%C3%B6he%20ab%2060%20cm.\">Link</a>):\n",
    "    * Small dogs: Shoulder Height < 40 cm \n",
    "    * Medium sized dogs:  40 cm <= Shoulder Height < 60 cm\n",
    "    * Big dogs: Shoulder Height >= 60 cm\n",
    "\n",
    "\n",
    "* Used datasets: the combined dataframe of hunde-vie.csv and hunde-wien.csv\n",
    "\n",
    "\n",
    "* Additional data (downloaded on 10.10.2024)\n",
    "    * to get height of dog breeds:\n",
    "        * https://hund-gewicht.de/rassenverzeichnis => exported to hypo3_material/breed_heights.csv\n",
    "        * https://www.hoomansfriend.com/dog-breed-size-chart => exported to hypo3_material/h3_hoomansfriend.csv\n",
    "    * green spaces: https://www.wien.gv.at/statistik/lebensraum/stadtgebiet/#daten => downloaded to hypo3_material/stadtgebiet_nutzungsflaechen.csv\n",
    "\n"
   ]
  },
  {
   "cell_type": "markdown",
   "id": "b0d7201a",
   "metadata": {},
   "source": [
    "Since we cannot know the height when the breed is unknown, we, first, take a look at how many entries have completely unknown breeds per year:"
   ]
  },
  {
   "cell_type": "code",
   "execution_count": null,
   "id": "f43e1734",
   "metadata": {},
   "outputs": [],
   "source": [
    "df_h3_dogs = combined_dog_types.drop(columns=\"DISTRICT_CODE\")\n",
    "df_h3_dogs[\"year\"] = pd.DatetimeIndex(df_h3_dogs[\"Ref_Date\"]).year\n",
    "tmp_check_unknown = df_h3_dogs.copy()\n",
    "tmp_check_unknown[\"is Unknown\"] = np.where((df_h3_dogs[\"Dog Breed\"] == \"Unbekannt\") | (df_h3_dogs[\"Dog Breed\"] == \"Unbekannt / Mischling\"),\n",
    "                                          True, False)\n",
    "tmp_check_unknown = pd.DataFrame(tmp_check_unknown.groupby([\"year\", \"is Unknown\"])[\"Anzahl\"].sum()).reset_index().pivot(index=\"year\",columns=\"is Unknown\", values=\"Anzahl\")\n",
    "tmp_check_unknown.plot(kind=\"bar\", stacked=True)\n",
    "plt.xticks(rotation=0)\n",
    "plt.title(\"Number of dogs per year that have completely unknown breeds\", fontweight=\"bold\")\n",
    "plt.ylabel(\"Abs. num of dogs\")\n",
    "plt.grid(axis=\"y\")\n",
    "\n",
    "print(\"Total number (across all years) of dogs where the breed is completely unknown:\",\n",
    "      df_h3_dogs[(df_h3_dogs[\"Dog Breed\"] == \"Unbekannt\") | (df_h3_dogs[\"Dog Breed\"] == \"Unbekannt / Mischling\")][\"Anzahl\"].sum()\n",
    ")\n",
    "df_h3_dogs_known = df_h3_dogs[(df_h3_dogs[\"Dog Breed\"] != \"Unbekannt\") & (df_h3_dogs[\"Dog Breed\"] != \"Unbekannt / Mischling\")]\n",
    "print(\"Total number (across all years) of dogs where at least one breed is known:\",\n",
    "      df_h3_dogs_known[\"Anzahl\"].sum()\n",
    ")\n",
    "print(\"Ratio of dogs where at least one breed is known in 2024:\",\n",
    "      (df_h3_dogs_known[df_h3_dogs_known[\"year\"] == 2024][\"Anzahl\"].sum() / df_h3_dogs[df_h3_dogs[\"year\"] == 2024][\"Anzahl\"].sum()) * 100,\"%\"\n",
    ")"
   ]
  },
  {
   "cell_type": "markdown",
   "id": "94b8fa58",
   "metadata": {},
   "source": [
    "We see that in the years 2012 to 2017 the percentage of completely unknown breeds is quite high. In 2024 only around 14% of the dogs have completely unknown breeds. Therefore, I will focus on the year 2024 so that the used data and also the results will resemble the actual truth more accurately."
   ]
  },
  {
   "cell_type": "markdown",
   "id": "569fde4e",
   "metadata": {},
   "source": [
    "The additional height-data is not provided as a csv on the websites. I scraped the data using a html parser. As an example, the next cell provides the code for scraping the website https://hund-gewicht.de/rassenverzeichnis. It is commented out right now, because I already exported the data as csv files in case something changes on the sites. So, I will just load these."
   ]
  },
  {
   "cell_type": "code",
   "execution_count": null,
   "id": "d3893f72",
   "metadata": {},
   "outputs": [],
   "source": [
    "# already exported it to breed_heights.csv in case something changes on website\n",
    "r'''\n",
    "from bs4 import BeautifulSoup # parse html\n",
    "import urllib.request # get html\n",
    "import re\n",
    "html_dog_heigths = urllib.request.urlopen(\"https://hund-gewicht.de/rassenverzeichnis\").read()\n",
    "parsed_html = BeautifulSoup(html_dog_heigths)\n",
    "breeds_html = parsed_html.body.find_all('a', attrs={'class':'card breed'})\n",
    "names = np.array([])\n",
    "height_min = np.array([])\n",
    "height_max = np.array([])\n",
    "for breed in breeds_html:\n",
    "    names = np.append(names, breed.find('div', attrs={'class':'name'}).text.strip())\n",
    "    infos_html = breed.find('div', attrs={'class':'breed-infos'})\n",
    "    infos_html = infos_html.find_all('li')\n",
    "    for info in infos_html:\n",
    "        if \"Größe\" in info.find('div', attrs={'class':'label'}).text:\n",
    "            heights = info.find('div', attrs={'class':'value'}).text.strip()\n",
    "            heights = re.findall(r\"\\d+\", heights)\n",
    "            height_min = np.append(height_min, heights[0])\n",
    "            height_max = np.append(height_max, heights[1])\n",
    "df_breed_heights = pd.DataFrame({\"Dog Breed\": names, \"Min Height\": height_min, \"Max Height\": height_max})\n",
    "df_breed_heights.to_csv(os.path.join(\"hypo3_material\",\"breed_heights.csv\"), sep=\",\", encoding=\"utf8\", index=False)\n",
    "df_breed_heights.head()\n",
    "'''\n",
    "# multiline comment returns warning without using r'''"
   ]
  },
  {
   "cell_type": "markdown",
   "id": "f282420a",
   "metadata": {},
   "source": [
    "Create a dataframe consisting of different breeds and their mean heights. As mentioned above, we use mainly two internet sources:"
   ]
  },
  {
   "cell_type": "code",
   "execution_count": null,
   "id": "c2d74b67",
   "metadata": {},
   "outputs": [],
   "source": [
    "df_breed_heights = pd.read_csv(os.path.join(\"hypo3_material\",\"breed_heights.csv\"), sep=\",\", encoding=\"utf8\") # load first dataset with heights\n",
    "df_breed_heights[\"Mean Height\"] = df_breed_heights.mean(axis=1, numeric_only=True) # data contains typical minimal and maximal heights of breeds => take mean\n",
    "df_breed_heights = df_breed_heights.drop(columns=[\"Min Height\", \"Max Height\"])\n",
    "\n",
    "df_breed_heights_hoomansfriend = pd.read_csv(os.path.join(\"hypo3_material\",\"h3_hoomansfriend.csv\"), sep=\",\")[[\"Dog Breed\", \"Mean Height\"]] # load second height data\n",
    "df_breed_heights_hoomansfriend.loc[:, \"Dog Breed\"] = df_breed_heights_hoomansfriend[\"Dog Breed\"].str.replace(r\"German\\s*\", \"\", regex=True, case=False) # dont need the word german in breeds\n",
    "\n",
    "df_breed_heights = pd.concat([df_breed_heights, \n",
    "                              df_breed_heights_hoomansfriend], axis=0)\n",
    "df_breed_heights.drop_duplicates(subset=[\"Dog Breed\"], inplace=True)\n",
    "df_breed_heights = df_breed_heights.reset_index(drop=True)\n",
    "df_breed_heights.loc[:, \"Dog Breed\"] = df_breed_heights[\"Dog Breed\"].str.lower()\n",
    "df_breed_heights"
   ]
  },
  {
   "cell_type": "markdown",
   "id": "143ef81a",
   "metadata": {},
   "source": [
    "We have to modify the dog breeds from our original combined dog dataframe quite heavily to make the breeds matchable to our height data:\n",
    "\n",
    "    * lowercase\n",
    "    * drop breed if there are not more than 5 dogs registered for it\n",
    "    * remove additional breed-info like the color and texture of the fur\n",
    "    * trim strings\n",
    "    * drop completely unknown breed"
   ]
  },
  {
   "cell_type": "code",
   "execution_count": null,
   "id": "951fbcdd",
   "metadata": {},
   "outputs": [],
   "source": [
    "df_h3_dogs = combined_dog_types.drop(columns=\"DISTRICT_CODE\")\n",
    "df_h3_dogs[\"Dog Breed\"] = df_h3_dogs[\"Dog Breed\"].str.lower()\n",
    "df_h3_dogs[\"year\"] = pd.DatetimeIndex(df_h3_dogs[\"Ref_Date\"]).year # add a year column for later\n",
    "df_h3_dogs[\"Dog Breed\"] = df_h3_dogs[\"Dog Breed\"].str.replace(\" / .*\", \"\", regex=True) # take first breed of mixed breeds since big differences in heights for the parent breeds are rather uncommon\n",
    "df_h3_dogs = df_h3_dogs[(df_h3_dogs[\"Anzahl\"]>5) & (df_h3_dogs[\"Dog Breed\"] != \"unbekannt\")].reset_index(drop=True)\n",
    "df_h3_dogbreeds = pd.DataFrame({\"Dog Breed\": df_h3_dogs[\"Dog Breed\"]}, dtype=\"object\")\n",
    "df_h3_dogbreeds.loc[:, \"Dog Breed\"] = df_h3_dogbreeds[\"Dog Breed\"].str.replace(r\"\\((?!zwergdackel).*\\)\", \"\", regex=True, case=False) # ?! to look forward to not remove zwergdackel\n",
    "df_h3_dogbreeds.loc[:, \"Dog Breed\"] = df_h3_dogbreeds[\"Dog Breed\"].str.replace(r\"(-|\\s)and(-|\\s)\", \"  \", regex=True, case=False)\n",
    "df_h3_dogbreeds.loc[:, \"Dog Breed\"] = df_h3_dogbreeds[\"Dog Breed\"].str.replace(r\"-\", \" \", regex=True, case=False)\n",
    "df_h3_dogbreeds.loc[:, \"Dog Breed\"] = df_h3_dogbreeds[\"Dog Breed\"].str.replace(r\"(kurz|lang|draht|glatt|raub|rauh)haar(ige(r)?)?\", \"\", regex=True, case=False)\n",
    "df_h3_dogbreeds.loc[:, \"Dog Breed\"] = df_h3_dogbreeds[\"Dog Breed\"].str.replace(r\"(^|\\s)(mehrfarben|black|white|tan|red|and)\\s\", \" \", regex=True, case=False)\n",
    "df_h3_dogbreeds.loc[:, \"Dog Breed\"] = df_h3_dogbreeds[\"Dog Breed\"].str.replace(r\"\\s(falb)?\\s*aus Mehrfarben\", \"\", regex=True, case=False)\n",
    "df_h3_dogbreeds.loc[:, \"Dog Breed\"] = df_h3_dogbreeds[\"Dog Breed\"].str.replace(r\"\\s(braun|grau|creme|rot|schwarz|(ein|mehr|anders|neu)(färbig|farben|farbig)|pfeffer|salz|apricot|weiss|silber|powderpuff)[^\\s]*\", \"\", regex=True, case=False)\n",
    "df_h3_dogbreeds.loc[:, \"Dog Breed\"] = df_h3_dogbreeds[\"Dog Breed\"].str.replace(r\"\\s(schlag|schla|s|loh)$\", \"\", regex=True, case=False)\n",
    "df_h3_dogbreeds.loc[:, \"Dog Breed\"] = df_h3_dogbreeds[\"Dog Breed\"].str.replace(r\"smooth|hairless|rough\", \"\", regex=True, case=False)\n",
    "df_h3_dogbreeds.loc[:, \"Dog Breed\"] = df_h3_dogbreeds[\"Dog Breed\"].str.replace(r\"\\spomeranian\\s\", \"\", regex=True, case=False)\n",
    "df_h3_dogbreeds.loc[:, \"Dog Breed\"] = df_h3_dogbreeds[\"Dog Breed\"].str.replace(r\"\\s(kaninchen|normal|zwerg|standard)(\\s|$)\", \"\", regex=True, case=False)\n",
    "df_h3_dogbreeds.loc[:, \"Dog Breed\"] = df_h3_dogbreeds[\"Dog Breed\"].str.strip()"
   ]
  },
  {
   "cell_type": "markdown",
   "id": "e3982223",
   "metadata": {},
   "source": [
    "Use tool similar to edit_distance/fuzzy_search to match breed names of height-dataframe to vienna-dataframe"
   ]
  },
  {
   "cell_type": "code",
   "execution_count": null,
   "id": "6fe8666d",
   "metadata": {},
   "outputs": [],
   "source": [
    "import difflib # could also use nltk edit_distance but difflib is standard library and way cleaner implementation this way\n",
    "df_h3_dogbreeds_tmp = df_h3_dogbreeds.copy()\n",
    "df_h3_dogbreeds_tmp[\"Dog Breed\"] = df_h3_dogbreeds[\"Dog Breed\"].apply(lambda x: (difflib.get_close_matches(x, df_breed_heights[\"Dog Breed\"], cutoff=0.6)[:1] or [x])[0]) # if good match is found harmonize breed name, if not leave it\n",
    "df_h3_dogbreeds_tmp.loc[:, \"Dog Breed\"] = df_h3_dogbreeds_tmp[\"Dog Breed\"].str.strip()"
   ]
  },
  {
   "cell_type": "markdown",
   "id": "5f25b22e",
   "metadata": {},
   "source": [
    "18 breeds not matchable at all:"
   ]
  },
  {
   "cell_type": "code",
   "execution_count": null,
   "id": "8667e64f",
   "metadata": {},
   "outputs": [],
   "source": [
    "df_all_breeds_heights = pd.DataFrame({\"Dog Breed\": df_h3_dogbreeds_tmp[\"Dog Breed\"].unique()}).merge(df_breed_heights, on=\"Dog Breed\", how=\"left\")\n",
    "tmp = df_all_breeds_heights[df_all_breeds_heights[\"Mean Height\"].isna()]\n",
    "len(tmp)"
   ]
  },
  {
   "cell_type": "code",
   "execution_count": null,
   "id": "e12448b2",
   "metadata": {},
   "outputs": [],
   "source": [
    "df_breed_heights = pd.concat([df_breed_heights,\n",
    "                              pd.DataFrame({ # add the few still missing ones\n",
    "                                  \"Dog Breed\": np.array(['sheltie', 'landseer', 'hollandse herdershond', 'prager rattler', 'schapendoes', 'italienisches windspiel', 'cao de agua portugues',\n",
    "                                                         'berger de pyrénées', 'welsh corgi pembroke', 'chinese crested dog', 'nova scotia duck tolling retriever', 'berger blanc suisse', 'perro de agua espanol',\n",
    "                                                         'welsh corgi cardigan', 'dog de bordeaux']),\n",
    "                                  \"Mean Height\": [36, 73, 60, 22, 45, 35, 50, 43, 27.5, 27, 49, 50.5, 40, 28, 62]\n",
    "                              })], axis=0)"
   ]
  },
  {
   "cell_type": "markdown",
   "id": "4ca8ae0b",
   "metadata": {},
   "source": [
    "I also compared the original breed names with the newly ones manually by converting them to a csv. Most matches are very good. But for some breeds we have to add a new entry to our height-data to fix wrong mappings"
   ]
  },
  {
   "cell_type": "code",
   "execution_count": null,
   "id": "6dcf246a",
   "metadata": {},
   "outputs": [],
   "source": [
    "df_h3_dogbreeds_tmp[[\"Dog Breed\"]].to_csv(os.path.join(\"hypo3_material\",\"after_first_column_matching.csv\"))\n",
    "df_h3_dogs[[\"Dog Breed\"]].to_csv(os.path.join(\"hypo3_material\",\"before_first_column_matching.csv\"))"
   ]
  },
  {
   "cell_type": "code",
   "execution_count": null,
   "id": "1024f1be",
   "metadata": {},
   "outputs": [],
   "source": [
    "df_breed_heights = pd.concat([df_breed_heights,\n",
    "                              pd.DataFrame({ # fix important wrong mappings using different dog source like zooplus.de\n",
    "                                  \"Dog Breed\": [\"gebirgsschweisshund\", \"zwergpinscher\", \"zwergschnauzer\", \"zwergdackel\", \"kleiner münsterländer\", \"entlebucher sennenhund\", \"bernhardiner\", \n",
    "                                                \"polnischer niederungshütehund\", \"jagdterrier\", \"biewer terrier\", \"schnauzer\", \"riesenschnauzer\", \"pudel\"],\n",
    "                                  \"Mean Height\": [48, 27.5, 33, 35, 53, 48, 78, 46, 37, 22, 48.5, 67.5, 50]\n",
    "                              })], axis=0)"
   ]
  },
  {
   "cell_type": "code",
   "execution_count": null,
   "id": "8bb7fde7",
   "metadata": {},
   "outputs": [],
   "source": [
    "# just in case format new height-entries again for better matching\n",
    "df_breed_heights.drop_duplicates(subset=[\"Dog Breed\"], inplace=True)\n",
    "df_breed_heights = df_breed_heights.reset_index(drop=True)\n",
    "df_breed_heights.loc[:, \"Dog Breed\"] = df_breed_heights[\"Dog Breed\"].str.lower()\n",
    "len(df_breed_heights)"
   ]
  },
  {
   "cell_type": "markdown",
   "id": "6b8d0121",
   "metadata": {},
   "source": [
    "Now, we can try the mapping again on all unique breeds => No non matchable breed remains"
   ]
  },
  {
   "cell_type": "code",
   "execution_count": null,
   "id": "bf6e2d7a",
   "metadata": {},
   "outputs": [],
   "source": [
    "df_h3_dogbreeds[\"Dog Breed\"] = df_h3_dogbreeds[\"Dog Breed\"].apply(lambda x: (difflib.get_close_matches(x, df_breed_heights[\"Dog Breed\"], cutoff=0.6)[:1] or [x])[0]) # if good match is found harmonize breed name, if not leave it\n",
    "df_h3_dogbreeds.loc[:, \"Dog Breed\"] = df_h3_dogbreeds[\"Dog Breed\"].str.strip()\n",
    "df_all_breeds_heights = pd.DataFrame({\"Dog Breed\": df_h3_dogbreeds[\"Dog Breed\"].unique()}).merge(df_breed_heights, on=\"Dog Breed\", how=\"left\")\n",
    "len(df_all_breeds_heights[df_all_breeds_heights[\"Mean Height\"].isna()])"
   ]
  },
  {
   "cell_type": "markdown",
   "id": "60eb3f5c",
   "metadata": {},
   "source": [
    "Manually comparing the two following csv's confirms that our mapping is very good this time:"
   ]
  },
  {
   "cell_type": "code",
   "execution_count": null,
   "id": "7e280a77",
   "metadata": {},
   "outputs": [],
   "source": [
    "df_h3_dogbreeds[[\"Dog Breed\"]].to_csv(os.path.join(\"hypo3_material\",\"after_second_column_matching.csv\"))\n",
    "df_h3_dogs[[\"Dog Breed\"]].to_csv(os.path.join(\"hypo3_material\",\"before_second_column_matching.csv\"))"
   ]
  },
  {
   "cell_type": "code",
   "execution_count": null,
   "id": "fc10cade",
   "metadata": {},
   "outputs": [],
   "source": [
    "# Overwrite original datacolumn\n",
    "df_h3_dogs[\"Dog Breed\"] = df_h3_dogbreeds[\"Dog Breed\"]"
   ]
  },
  {
   "cell_type": "markdown",
   "id": "c69fd3e5",
   "metadata": {},
   "source": [
    "Boxplot + Histogram: Check Mean Height per dog breed:"
   ]
  },
  {
   "cell_type": "code",
   "execution_count": null,
   "id": "afa9c48e",
   "metadata": {},
   "outputs": [],
   "source": [
    "fig, (ax_hist, ax_box) = plt.subplots(2, sharex=True, gridspec_kw={\"height_ratios\": (.60, .40)}, figsize=(12,6))\n",
    "sns.boxplot(df_all_breeds_heights, x=\"Mean Height\", width=.5, whis = 1.5, ax=ax_box)\n",
    "#sns.swarmplot(df_all_breeds_heights, x='Mean Height', size=2.65, legend=False, ax=ax_box)\n",
    "sns.histplot(df_all_breeds_heights, x=\"Mean Height\", kde=True, stat='density', ax=ax_hist)\n",
    "\n",
    "ax_box.set(yticks=[], xlabel=\"Mean Height [cm]\")\n",
    "sns.despine(ax=ax_hist)\n",
    "sns.despine(ax=ax_box, left=True)\n",
    "fig.suptitle(\"Mean Height per dog breed\", fontweight=\"bold\")"
   ]
  },
  {
   "cell_type": "markdown",
   "id": "cd8dcfcd",
   "metadata": {},
   "source": [
    "Most dog breeds are medium sized (40 <= height < 60). Roughly 25% of breeds are usually of bigger size. \n",
    "\n",
    "Distribution does not resemble a normal distribution."
   ]
  },
  {
   "cell_type": "markdown",
   "id": "d3b0b2af",
   "metadata": {},
   "source": [
    "Now, we can merge the vienna-dataframe with our height-dataframe:"
   ]
  },
  {
   "cell_type": "code",
   "execution_count": null,
   "id": "3322498f",
   "metadata": {},
   "outputs": [],
   "source": [
    "df_h3_dogs_height_merged = df_h3_dogs.merge(df_breed_heights[[\"Dog Breed\", \"Mean Height\"]], on=\"Dog Breed\", how=\"left\")\n",
    "df_h3_dogs_height_merged.head(5)"
   ]
  },
  {
   "cell_type": "markdown",
   "id": "1bf4ec03",
   "metadata": {},
   "source": [
    "Boxplot + Histogram: Height distribution across all breeds and districts [in 2024]"
   ]
  },
  {
   "cell_type": "code",
   "execution_count": null,
   "id": "acf3e230",
   "metadata": {},
   "outputs": [],
   "source": [
    "df_h3_dogs_height_exploded = df_h3_dogs_height_merged.loc[df_h3_dogs_height_merged.index.repeat(df_h3_dogs_height_merged[\"Anzahl\"])] # if Anzahl > 1, repeat entry 'Anzahl'-times\n",
    "df_h3_dogs_height_exploded = df_h3_dogs_height_exploded.reset_index(drop=True)\n",
    "fig, (ax_hist, ax_box) = plt.subplots(2, sharex=True, gridspec_kw={\"height_ratios\": (.85, .15)})\n",
    "sns.boxplot(df_h3_dogs_height_exploded[df_h3_dogs_height_exploded[\"year\"] == 2024][[\"Mean Height\"]], x=\"Mean Height\", width=.5, whis = 1.5, ax=ax_box)\n",
    "sns.histplot(df_h3_dogs_height_exploded[df_h3_dogs_height_exploded[\"year\"] == 2024][[\"Mean Height\"]], x=\"Mean Height\", kde=True, stat='density', ax=ax_hist)\n",
    "\n",
    "ax_box.set(yticks=[], xlabel=\"Height [cm]\")\n",
    "sns.despine(ax=ax_hist)\n",
    "sns.despine(ax=ax_box, left=True)\n",
    "fig.suptitle(\"Height distribution across all breeds and districts [in 2024]\", fontweight=\"bold\")"
   ]
  },
  {
   "cell_type": "markdown",
   "id": "562adddf",
   "metadata": {},
   "source": [
    "We can clearly see a tendency to two groups, a group for smaller dogs around 20 cm and one for bigger dogs around 58cm. In general, smaller dogs seem to be preferred."
   ]
  },
  {
   "cell_type": "markdown",
   "id": "e269ba34",
   "metadata": {},
   "source": [
    "Load in dataset for green spaces:\n",
    "\n",
    "* for every district it contains the size of different subareas, like green spaces, building space, body of waters."
   ]
  },
  {
   "cell_type": "code",
   "execution_count": null,
   "id": "70c4a999",
   "metadata": {},
   "outputs": [],
   "source": [
    "df_green_spaces = pd.read_csv(os.path.join(\"hypo3_material\",\"stadtgebiet_nutzungsflaechen.csv\"), sep=\";\", index_col=0)\n",
    "df_green_spaces.index = df_green_spaces.index.str.extract(r\"(\\d+)\")[0]\n",
    "df_green_spaces.index = [f\"10{nr}0\" if len(nr)==1 else f\"1{nr}0\" for nr in df_green_spaces.index.values]\n",
    "df_green_spaces.index.rename(\"Postal_CODE\", inplace=True)\n",
    "df_green_spaces = df_green_spaces.map(lambda x: x.replace(\",\",\".\"))\n",
    "df_green_spaces = df_green_spaces.replace(r\"–\",np.NaN)\n",
    "df_green_spaces[\"green ratio\"] = df_green_spaces.astype(\"float\").apply(lambda x: x[\"Grünland\"] / x.sum() *100, axis=1)\n",
    "df_green_spaces = df_green_spaces.reset_index()\n",
    "df_green_spaces[\"Postal_CODE\"] = df_green_spaces[\"Postal_CODE\"].astype(int)\n",
    "df_green_spaces.head()"
   ]
  },
  {
   "cell_type": "code",
   "execution_count": null,
   "id": "0f2d410f",
   "metadata": {},
   "outputs": [],
   "source": [
    "df_green_spaces.plot(kind=\"barh\", x=\"Postal_CODE\", y=\"green ratio\", legend=False, title=\"Ratio of green spaces in each district [2023]\")\n",
    "plt.xlabel(\"Ratio of green space out of total useable space [%]\")\n",
    "plt.ylabel(\"District\")"
   ]
  },
  {
   "cell_type": "markdown",
   "id": "61c283cc",
   "metadata": {},
   "source": [
    "I grouped the districts into two subgroups using the data from the barplot above. If the green ratio is above 20%, I count the district as a greener district."
   ]
  },
  {
   "cell_type": "code",
   "execution_count": null,
   "id": "e2584a04",
   "metadata": {},
   "outputs": [],
   "source": [
    "greener_districts = df_green_spaces[df_green_spaces[\"green ratio\"] > 20][\"Postal_CODE\"].values\n",
    "df_h3_dogs_height_exploded[\">20 % Green ratio\"] = [True if district in greener_districts else False for district in np.array(df_h3_dogs_height_exploded[\"Postal_CODE\"])]\n",
    "fig = px.box(data_frame=df_h3_dogs_height_exploded[df_h3_dogs_height_exploded[\"year\"] == 2024], \n",
    "             x='Mean Height', \n",
    "             y='Postal_CODE',\n",
    "             title=\"Height distribution across all breeds per district [in 2024]\",\n",
    "             orientation=\"h\",\n",
    "             color=\">20 % Green ratio\"\n",
    "            )\n",
    "fig.update_yaxes(title_text=\"District\")\n",
    "fig.update_yaxes(tickvals=df_h3_dogs_height_exploded[\"Postal_CODE\"].unique())\n",
    "fig.update_layout(boxgap = 0, boxgroupgap=0.4,boxmode = \"overlay\", autosize=False,\n",
    "        width=1100,\n",
    "        height=1000,)\n",
    "fig.show()"
   ]
  },
  {
   "cell_type": "markdown",
   "id": "2ee958d6",
   "metadata": {},
   "source": [
    "Using these boxplots we can already see that the median of our greener group usually tends to be higher than for the others."
   ]
  },
  {
   "cell_type": "code",
   "execution_count": null,
   "id": "28ae0f90",
   "metadata": {},
   "outputs": [],
   "source": [
    "df_h3_heights_2024 = df_h3_dogs_height_exploded[df_h3_dogs_height_exploded[\"year\"] == 2024]\n",
    "fig, (ax_hist, ax_box, ax_box2) = plt.subplots(3, sharex=True, gridspec_kw={\"height_ratios\": (.8, .1,.1)})\n",
    "palette = sns.color_palette(\"tab10\")[:2]\n",
    "sns.boxplot(df_h3_heights_2024[df_h3_heights_2024[\">20 % Green ratio\"] == True][[\"Mean Height\"]], x=\"Mean Height\", width=.5, whis = 1.5, ax=ax_box, color=palette[1])\n",
    "sns.boxplot(df_h3_heights_2024[df_h3_heights_2024[\">20 % Green ratio\"] == False][[\"Mean Height\"]], x=\"Mean Height\", width=.5, whis = 1.5, ax=ax_box2, color=palette[0])\n",
    "sns.histplot(df_h3_heights_2024[[\">20 % Green ratio\",\"Mean Height\"]], x=\"Mean Height\", kde=True, stat='density', ax=ax_hist, hue=\">20 % Green ratio\", \n",
    "             palette=sns.set_palette(palette), multiple=\"stack\", legend=True)\n",
    "ax_box2.set(yticks=[], xlabel=\"Mean Height [cm]\")\n",
    "sns.despine(ax=ax_hist)\n",
    "sns.despine(ax=ax_box, left=True)\n",
    "sns.despine(ax=ax_box2, left=True)\n",
    "fig.suptitle(\"Height distribution across all breeds and districts [in 2024]\", fontweight=\"bold\")"
   ]
  },
  {
   "cell_type": "markdown",
   "id": "a9c14087",
   "metadata": {},
   "source": [
    "Apart from the significant difference in the total number of entries in both groups (green and not so green districts), we can see that the inner box of the greener group is shifted a bit to higher values."
   ]
  },
  {
   "cell_type": "code",
   "execution_count": null,
   "id": "26f0fd55",
   "metadata": {},
   "outputs": [],
   "source": [
    "df_h3_heights_2024 = df_h3_heights_2024.merge(df_green_spaces, on=\"Postal_CODE\")\n",
    "df_h3_heights_2024[\"Mean Height\"].corr(df_h3_heights_2024[\"green ratio\"], method='pearson')"
   ]
  },
  {
   "cell_type": "markdown",
   "id": "19187e1e",
   "metadata": {},
   "source": [
    "The calculated correlation between the mean height of dogs and their corresponding green space ratio is very weak. These variables do not seem to correlate that much, even though we can see a small increase in the median and third quartile in the previous boxplot. We probably would have to dig more into the details/subgroups to explain why this difference emerges.\n",
    "\n",
    "Using this information, I would rather dismiss the hypothesis."
   ]
  },
  {
   "cell_type": "markdown",
   "id": "ede91b90-ee3d-40c0-b2c4-4712413fe0e6",
   "metadata": {
    "id": "ede91b90-ee3d-40c0-b2c4-4712413fe0e6",
    "tags": []
   },
   "source": [
    "### E3-H4: \"Dog ownership is inversely correlated with population density in Vienna districts.\"\n",
    "Rationale: In more densely populated areas, people might have less space for pets, leading to fewer dogs being owned. Additionally, less densly populated districst might have more green space, making it more favorable to dog ownership.\n",
    "\n",
    "Data Needed: Dog ownership (Data1/Data2), Population density dataset ([Link](https://www.data.gv.at/katalog/dataset/dc56ea9e-57be-47d5-ab50-d1e74fda7118))\n",
    "\n",
    "Author: Anna Punzengruber"
   ]
  },
  {
   "cell_type": "markdown",
   "id": "0a5612ab",
   "metadata": {},
   "source": [
    "##### Obtain and Scrub Dataset of Population Density in Vienna Districts"
   ]
  },
  {
   "cell_type": "markdown",
   "id": "36c4456f",
   "metadata": {},
   "source": [
    "This dataset shows the population and population density in each district of Vienna from the year 2002 to 2023.\n",
    "* NUTS | NUTS2-Region (Bundesland) DISTRICT_CODE | Gemeindebezirkskennzahl (Schema: 9BBZZ, BB=Nummer Bezirk, ZZ=00)\n",
    "\n",
    "* SUB_DISTRICT_CODE | Zählbezirkskennzahl gemäß Stadt Wien (Schema: 9BBZZ, 9=Kennzeichnung Wien, BB=Nummer Bezirk, ZZ=Nummer Zählbezirk)\n",
    "\n",
    "* REF_YEAR | Referenzjahr\n",
    "\n",
    "* REF_DATE | Referenzdatum POP_VALUE | Bevölkerungszahl zu Jahresbeginn\n",
    "\n",
    "* AREA | Fläche in km²\n",
    "\n",
    "* POP_DENSITY | Bevölkerungsdichte (Bevölkerung zu Jahresbeginn pro km²)\n",
    "\n",
    "\n",
    "Source: https://www.data.gv.at/katalog/dataset/1a48e78a-c660-41e0-ac32-8b675c0ea39c#additional-info"
   ]
  },
  {
   "cell_type": "code",
   "execution_count": 201,
   "id": "049914bd",
   "metadata": {},
   "outputs": [
    {
     "name": "stdout",
     "output_type": "stream",
     "text": [
      "Dataframe shape:  (528, 8)\n"
     ]
    },
    {
     "data": {
      "text/html": [
       "<div>\n",
       "<style scoped>\n",
       "    .dataframe tbody tr th:only-of-type {\n",
       "        vertical-align: middle;\n",
       "    }\n",
       "\n",
       "    .dataframe tbody tr th {\n",
       "        vertical-align: top;\n",
       "    }\n",
       "\n",
       "    .dataframe thead th {\n",
       "        text-align: right;\n",
       "    }\n",
       "</style>\n",
       "<table border=\"1\" class=\"dataframe\">\n",
       "  <thead>\n",
       "    <tr style=\"text-align: right;\">\n",
       "      <th></th>\n",
       "      <th>NUTS</th>\n",
       "      <th>DISTRICT_CODE</th>\n",
       "      <th>SUB_DISTRICT_CODE</th>\n",
       "      <th>REF_YEAR</th>\n",
       "      <th>REF_DATE</th>\n",
       "      <th>POP_VALUE</th>\n",
       "      <th>AREA</th>\n",
       "      <th>POP_DENSITY</th>\n",
       "    </tr>\n",
       "  </thead>\n",
       "  <tbody>\n",
       "    <tr>\n",
       "      <th>0</th>\n",
       "      <td>AT13</td>\n",
       "      <td>90000</td>\n",
       "      <td>90000</td>\n",
       "      <td>2002</td>\n",
       "      <td>20020101</td>\n",
       "      <td>1.571.123</td>\n",
       "      <td>414,87</td>\n",
       "      <td>3787,02</td>\n",
       "    </tr>\n",
       "    <tr>\n",
       "      <th>1</th>\n",
       "      <td>AT13</td>\n",
       "      <td>90000</td>\n",
       "      <td>90000</td>\n",
       "      <td>2003</td>\n",
       "      <td>20030101</td>\n",
       "      <td>1.592.846</td>\n",
       "      <td>414,87</td>\n",
       "      <td>3839,38</td>\n",
       "    </tr>\n",
       "    <tr>\n",
       "      <th>2</th>\n",
       "      <td>AT13</td>\n",
       "      <td>90000</td>\n",
       "      <td>90000</td>\n",
       "      <td>2004</td>\n",
       "      <td>20040101</td>\n",
       "      <td>1.610.410</td>\n",
       "      <td>414,87</td>\n",
       "      <td>3881,71</td>\n",
       "    </tr>\n",
       "    <tr>\n",
       "      <th>3</th>\n",
       "      <td>AT13</td>\n",
       "      <td>90000</td>\n",
       "      <td>90000</td>\n",
       "      <td>2005</td>\n",
       "      <td>20050101</td>\n",
       "      <td>1.632.569</td>\n",
       "      <td>414,87</td>\n",
       "      <td>3935,12</td>\n",
       "    </tr>\n",
       "    <tr>\n",
       "      <th>4</th>\n",
       "      <td>AT13</td>\n",
       "      <td>90000</td>\n",
       "      <td>90000</td>\n",
       "      <td>2006</td>\n",
       "      <td>20060101</td>\n",
       "      <td>1.652.449</td>\n",
       "      <td>414,87</td>\n",
       "      <td>3983,04</td>\n",
       "    </tr>\n",
       "  </tbody>\n",
       "</table>\n",
       "</div>"
      ],
      "text/plain": [
       "   NUTS  DISTRICT_CODE  SUB_DISTRICT_CODE  REF_YEAR  REF_DATE  POP_VALUE  \\\n",
       "0  AT13          90000              90000      2002  20020101  1.571.123   \n",
       "1  AT13          90000              90000      2003  20030101  1.592.846   \n",
       "2  AT13          90000              90000      2004  20040101  1.610.410   \n",
       "3  AT13          90000              90000      2005  20050101  1.632.569   \n",
       "4  AT13          90000              90000      2006  20060101  1.652.449   \n",
       "\n",
       "     AREA POP_DENSITY  \n",
       "0  414,87     3787,02  \n",
       "1  414,87     3839,38  \n",
       "2  414,87     3881,71  \n",
       "3  414,87     3935,12  \n",
       "4  414,87     3983,04  "
      ]
     },
     "execution_count": 201,
     "metadata": {},
     "output_type": "execute_result"
    }
   ],
   "source": [
    "#Load dataset\n",
    "#Only use columns with data with usecols (there are a lot of empty columns in the dataset)\n",
    "bev_dichte = pd.read_csv('vie-bez-biz-pop-den-2002f.csv', sep=';', skiprows=1, usecols=[0,1,2,3,4,5,6,7])\n",
    "print(\"Dataframe shape: \", bev_dichte.shape)\n",
    "bev_dichte.head(5)"
   ]
  },
  {
   "cell_type": "code",
   "execution_count": 202,
   "id": "710a7064-05e8-4d52-9c1b-a6dcd143a4ae",
   "metadata": {
    "id": "710a7064-05e8-4d52-9c1b-a6dcd143a4ae"
   },
   "outputs": [
    {
     "name": "stdout",
     "output_type": "stream",
     "text": [
      "Number of unique values in column NUTS: 1\n",
      "Columns DISTRICT_CODE and SUB_DISTRICT_CODE are the same: True\n"
     ]
    }
   ],
   "source": [
    "#Some columns are redundant\n",
    "# NUTS - is the same for every row\n",
    "print(\"Number of unique values in column NUTS:\",bev_dichte['NUTS'].nunique()) \n",
    "# SUB_DISTRICT_CODE - same as district code\n",
    "print(\"Columns DISTRICT_CODE and SUB_DISTRICT_CODE are the same:\",bev_dichte['DISTRICT_CODE'].equals(bev_dichte['SUB_DISTRICT_CODE']))"
   ]
  },
  {
   "cell_type": "code",
   "execution_count": 203,
   "id": "f341d228",
   "metadata": {},
   "outputs": [
    {
     "data": {
      "text/html": [
       "<div>\n",
       "<style scoped>\n",
       "    .dataframe tbody tr th:only-of-type {\n",
       "        vertical-align: middle;\n",
       "    }\n",
       "\n",
       "    .dataframe tbody tr th {\n",
       "        vertical-align: top;\n",
       "    }\n",
       "\n",
       "    .dataframe thead th {\n",
       "        text-align: right;\n",
       "    }\n",
       "</style>\n",
       "<table border=\"1\" class=\"dataframe\">\n",
       "  <thead>\n",
       "    <tr style=\"text-align: right;\">\n",
       "      <th></th>\n",
       "      <th>DISTRICT_CODE</th>\n",
       "      <th>REF_YEAR</th>\n",
       "      <th>REF_DATE</th>\n",
       "      <th>POP_VALUE</th>\n",
       "      <th>AREA</th>\n",
       "      <th>POP_DENSITY</th>\n",
       "    </tr>\n",
       "  </thead>\n",
       "  <tbody>\n",
       "    <tr>\n",
       "      <th>0</th>\n",
       "      <td>90000</td>\n",
       "      <td>2002</td>\n",
       "      <td>20020101</td>\n",
       "      <td>1.571.123</td>\n",
       "      <td>414,87</td>\n",
       "      <td>3787,02</td>\n",
       "    </tr>\n",
       "    <tr>\n",
       "      <th>1</th>\n",
       "      <td>90000</td>\n",
       "      <td>2003</td>\n",
       "      <td>20030101</td>\n",
       "      <td>1.592.846</td>\n",
       "      <td>414,87</td>\n",
       "      <td>3839,38</td>\n",
       "    </tr>\n",
       "    <tr>\n",
       "      <th>2</th>\n",
       "      <td>90000</td>\n",
       "      <td>2004</td>\n",
       "      <td>20040101</td>\n",
       "      <td>1.610.410</td>\n",
       "      <td>414,87</td>\n",
       "      <td>3881,71</td>\n",
       "    </tr>\n",
       "    <tr>\n",
       "      <th>3</th>\n",
       "      <td>90000</td>\n",
       "      <td>2005</td>\n",
       "      <td>20050101</td>\n",
       "      <td>1.632.569</td>\n",
       "      <td>414,87</td>\n",
       "      <td>3935,12</td>\n",
       "    </tr>\n",
       "    <tr>\n",
       "      <th>4</th>\n",
       "      <td>90000</td>\n",
       "      <td>2006</td>\n",
       "      <td>20060101</td>\n",
       "      <td>1.652.449</td>\n",
       "      <td>414,87</td>\n",
       "      <td>3983,04</td>\n",
       "    </tr>\n",
       "  </tbody>\n",
       "</table>\n",
       "</div>"
      ],
      "text/plain": [
       "   DISTRICT_CODE  REF_YEAR  REF_DATE  POP_VALUE    AREA POP_DENSITY\n",
       "0          90000      2002  20020101  1.571.123  414,87     3787,02\n",
       "1          90000      2003  20030101  1.592.846  414,87     3839,38\n",
       "2          90000      2004  20040101  1.610.410  414,87     3881,71\n",
       "3          90000      2005  20050101  1.632.569  414,87     3935,12\n",
       "4          90000      2006  20060101  1.652.449  414,87     3983,04"
      ]
     },
     "execution_count": 203,
     "metadata": {},
     "output_type": "execute_result"
    }
   ],
   "source": [
    "#Drop unnecessary columns:\n",
    "bev_dichte.drop(['NUTS','SUB_DISTRICT_CODE'], axis=1, inplace=True)\n",
    "bev_dichte.head()"
   ]
  },
  {
   "cell_type": "code",
   "execution_count": 204,
   "id": "29d0b245",
   "metadata": {},
   "outputs": [
    {
     "data": {
      "text/html": [
       "<div>\n",
       "<style scoped>\n",
       "    .dataframe tbody tr th:only-of-type {\n",
       "        vertical-align: middle;\n",
       "    }\n",
       "\n",
       "    .dataframe tbody tr th {\n",
       "        vertical-align: top;\n",
       "    }\n",
       "\n",
       "    .dataframe thead th {\n",
       "        text-align: right;\n",
       "    }\n",
       "</style>\n",
       "<table border=\"1\" class=\"dataframe\">\n",
       "  <thead>\n",
       "    <tr style=\"text-align: right;\">\n",
       "      <th></th>\n",
       "      <th>DISTRICT_CODE</th>\n",
       "      <th>REF_YEAR</th>\n",
       "      <th>REF_DATE</th>\n",
       "      <th>POP_VALUE</th>\n",
       "      <th>AREA</th>\n",
       "      <th>POP_DENSITY</th>\n",
       "    </tr>\n",
       "  </thead>\n",
       "  <tbody>\n",
       "    <tr>\n",
       "      <th>0</th>\n",
       "      <td>int64</td>\n",
       "      <td>int64</td>\n",
       "      <td>int64</td>\n",
       "      <td>object</td>\n",
       "      <td>object</td>\n",
       "      <td>object</td>\n",
       "    </tr>\n",
       "  </tbody>\n",
       "</table>\n",
       "</div>"
      ],
      "text/plain": [
       "  DISTRICT_CODE REF_YEAR REF_DATE POP_VALUE    AREA POP_DENSITY\n",
       "0         int64    int64    int64    object  object      object"
      ]
     },
     "execution_count": 204,
     "metadata": {},
     "output_type": "execute_result"
    }
   ],
   "source": [
    "#Datatypes of some of the columns aren't correct yet\n",
    "bev_dichte.dtypes.to_frame().T"
   ]
  },
  {
   "cell_type": "code",
   "execution_count": 205,
   "id": "edd07ef9",
   "metadata": {},
   "outputs": [
    {
     "data": {
      "text/html": [
       "<div>\n",
       "<style scoped>\n",
       "    .dataframe tbody tr th:only-of-type {\n",
       "        vertical-align: middle;\n",
       "    }\n",
       "\n",
       "    .dataframe tbody tr th {\n",
       "        vertical-align: top;\n",
       "    }\n",
       "\n",
       "    .dataframe thead th {\n",
       "        text-align: right;\n",
       "    }\n",
       "</style>\n",
       "<table border=\"1\" class=\"dataframe\">\n",
       "  <thead>\n",
       "    <tr style=\"text-align: right;\">\n",
       "      <th></th>\n",
       "      <th>DISTRICT_CODE</th>\n",
       "      <th>REF_YEAR</th>\n",
       "      <th>REF_DATE</th>\n",
       "      <th>POP_VALUE</th>\n",
       "      <th>AREA</th>\n",
       "      <th>POP_DENSITY</th>\n",
       "    </tr>\n",
       "  </thead>\n",
       "  <tbody>\n",
       "    <tr>\n",
       "      <th>0</th>\n",
       "      <td>int64</td>\n",
       "      <td>int64</td>\n",
       "      <td>datetime64[ns]</td>\n",
       "      <td>int32</td>\n",
       "      <td>float64</td>\n",
       "      <td>float64</td>\n",
       "    </tr>\n",
       "  </tbody>\n",
       "</table>\n",
       "</div>"
      ],
      "text/plain": [
       "  DISTRICT_CODE REF_YEAR        REF_DATE POP_VALUE     AREA POP_DENSITY\n",
       "0         int64    int64  datetime64[ns]     int32  float64     float64"
      ]
     },
     "execution_count": 205,
     "metadata": {},
     "output_type": "execute_result"
    }
   ],
   "source": [
    "#Change columns to correct datatypes\n",
    "#POP_VALUE to int\n",
    "bev_dichte['POP_VALUE'] = bev_dichte['POP_VALUE'].str.replace('.', '').astype(int)\n",
    "#AREA and POP_DENSITY to float\n",
    "bev_dichte['AREA'] = bev_dichte['AREA'].str.replace(',', '.').astype(float)\n",
    "bev_dichte['POP_DENSITY'] = bev_dichte['POP_DENSITY'].str.replace(',', '.').astype(float)\n",
    "#REF_DATE to date\n",
    "bev_dichte['REF_DATE'] = pd.to_datetime(bev_dichte['REF_DATE'].astype(str), format='%Y%m%d')\n",
    "\n",
    "bev_dichte.dtypes.to_frame().T"
   ]
  },
  {
   "cell_type": "code",
   "execution_count": 206,
   "id": "2973515d",
   "metadata": {},
   "outputs": [
    {
     "name": "stdout",
     "output_type": "stream",
     "text": [
      "(528, 6)\n",
      "DISTRICT_CODE    0.0\n",
      "REF_YEAR         0.0\n",
      "REF_DATE         0.0\n",
      "POP_VALUE        0.0\n",
      "AREA             0.0\n",
      "POP_DENSITY      0.0\n",
      "dtype: float64\n"
     ]
    }
   ],
   "source": [
    "#Check for missing data\n",
    "print(bev_dichte.shape)\n",
    "print(((bev_dichte.isnull().sum() / len(bev_dichte)) * 100).sort_values(ascending=False))"
   ]
  },
  {
   "cell_type": "code",
   "execution_count": 207,
   "id": "4efacdec",
   "metadata": {},
   "outputs": [
    {
     "data": {
      "image/png": "[encoded data removed]",
      "text/plain": [
       "<Figure size 640x480 with 2 Axes>"
      ]
     },
     "metadata": {},
     "output_type": "display_data"
    }
   ],
   "source": [
    "#Heatmap to show all data is there\n",
    "colours = ['blue','red'] \n",
    "ax = sns.heatmap(data=bev_dichte.isnull(),cmap=sns.color_palette(colours), vmin=0, vmax=1)\n",
    "colorbar = ax.collections[0].colorbar\n",
    "\n",
    "colorbar.set_ticks([0.25,0.75])\n",
    "colorbar.set_ticklabels(['Data', 'Null'])"
   ]
  },
  {
   "cell_type": "code",
   "execution_count": 208,
   "id": "b7067b84",
   "metadata": {},
   "outputs": [
    {
     "name": "stdout",
     "output_type": "stream",
     "text": [
      "[90000 90100 90200 90300 90400 90500 90600 90700 90800 90900 91000 91100\n",
      " 91200 91300 91400 91500 91600 91700 91800 91900 92000 92100 92200 92300]\n"
     ]
    },
    {
     "data": {
      "text/plain": [
       "REF_YEAR\n",
       "2002    24\n",
       "2003    24\n",
       "2004    24\n",
       "2005    24\n",
       "2006    24\n",
       "2007    24\n",
       "2008    24\n",
       "2009    24\n",
       "2010    24\n",
       "2011    24\n",
       "2012    24\n",
       "2013    24\n",
       "2014    24\n",
       "2015    24\n",
       "2016    24\n",
       "2017    24\n",
       "2018    24\n",
       "2019    24\n",
       "2020    24\n",
       "2021    24\n",
       "2022    24\n",
       "2023    24\n",
       "dtype: int64"
      ]
     },
     "execution_count": 208,
     "metadata": {},
     "output_type": "execute_result"
    }
   ],
   "source": [
    "#Check if all districts are represented\n",
    "print(bev_dichte['DISTRICT_CODE'].unique())\n",
    "#Check if all years have 24 rows (so 1 value for each district + 1 row for whole of Vienna)\n",
    "bev_dichte.groupby(by=['REF_YEAR']).size()"
   ]
  },
  {
   "cell_type": "code",
   "execution_count": 209,
   "id": "fa1d59bc",
   "metadata": {},
   "outputs": [
    {
     "data": {
      "text/plain": [
       "False"
      ]
     },
     "execution_count": 209,
     "metadata": {},
     "output_type": "execute_result"
    }
   ],
   "source": [
    "#Check for duplicates (no duplicate rows with same year and same district code)\n",
    "bev_dichte.duplicated(subset=['DISTRICT_CODE', 'REF_YEAR']).any()"
   ]
  },
  {
   "cell_type": "markdown",
   "id": "a7a28636",
   "metadata": {},
   "source": [
    "#### Analyse the Data\n",
    "\n",
    "Now that we have the population density data for each district we can merge it with the dog data and compare it"
   ]
  },
  {
   "cell_type": "code",
   "execution_count": 210,
   "id": "dd703fde",
   "metadata": {},
   "outputs": [
    {
     "data": {
      "text/html": [
       "<div>\n",
       "<style scoped>\n",
       "    .dataframe tbody tr th:only-of-type {\n",
       "        vertical-align: middle;\n",
       "    }\n",
       "\n",
       "    .dataframe tbody tr th {\n",
       "        vertical-align: top;\n",
       "    }\n",
       "\n",
       "    .dataframe thead th {\n",
       "        text-align: right;\n",
       "    }\n",
       "</style>\n",
       "<table border=\"1\" class=\"dataframe\">\n",
       "  <thead>\n",
       "    <tr style=\"text-align: right;\">\n",
       "      <th></th>\n",
       "      <th>NUTS</th>\n",
       "      <th>DISTRICT_CODE</th>\n",
       "      <th>REF_YEAR</th>\n",
       "      <th>REF_DATE_dogs</th>\n",
       "      <th>DOG_VALUE</th>\n",
       "      <th>DOG_DENSITY</th>\n",
       "      <th>Postal_CODE</th>\n",
       "      <th>REF_DATE_population</th>\n",
       "      <th>POP_VALUE</th>\n",
       "      <th>AREA</th>\n",
       "      <th>POP_DENSITY</th>\n",
       "    </tr>\n",
       "  </thead>\n",
       "  <tbody>\n",
       "    <tr>\n",
       "      <th>0</th>\n",
       "      <td>AT13</td>\n",
       "      <td>90000</td>\n",
       "      <td>2002</td>\n",
       "      <td>2002-01-01</td>\n",
       "      <td>46933</td>\n",
       "      <td>29.87</td>\n",
       "      <td>1000</td>\n",
       "      <td>2002-01-01</td>\n",
       "      <td>1571123</td>\n",
       "      <td>414.87</td>\n",
       "      <td>3787.02</td>\n",
       "    </tr>\n",
       "    <tr>\n",
       "      <th>1</th>\n",
       "      <td>AT13</td>\n",
       "      <td>90100</td>\n",
       "      <td>2002</td>\n",
       "      <td>2002-01-01</td>\n",
       "      <td>542</td>\n",
       "      <td>30.74</td>\n",
       "      <td>1010</td>\n",
       "      <td>2002-01-01</td>\n",
       "      <td>17630</td>\n",
       "      <td>2.87</td>\n",
       "      <td>6145.48</td>\n",
       "    </tr>\n",
       "    <tr>\n",
       "      <th>2</th>\n",
       "      <td>AT13</td>\n",
       "      <td>90200</td>\n",
       "      <td>2002</td>\n",
       "      <td>2002-01-01</td>\n",
       "      <td>2251</td>\n",
       "      <td>25.29</td>\n",
       "      <td>1020</td>\n",
       "      <td>2002-01-01</td>\n",
       "      <td>89016</td>\n",
       "      <td>19.24</td>\n",
       "      <td>4626.13</td>\n",
       "    </tr>\n",
       "    <tr>\n",
       "      <th>3</th>\n",
       "      <td>AT13</td>\n",
       "      <td>90300</td>\n",
       "      <td>2002</td>\n",
       "      <td>2002-01-01</td>\n",
       "      <td>1904</td>\n",
       "      <td>23.16</td>\n",
       "      <td>1030</td>\n",
       "      <td>2002-01-01</td>\n",
       "      <td>82227</td>\n",
       "      <td>7.40</td>\n",
       "      <td>11115.15</td>\n",
       "    </tr>\n",
       "    <tr>\n",
       "      <th>4</th>\n",
       "      <td>AT13</td>\n",
       "      <td>90400</td>\n",
       "      <td>2002</td>\n",
       "      <td>2002-01-01</td>\n",
       "      <td>615</td>\n",
       "      <td>21.23</td>\n",
       "      <td>1040</td>\n",
       "      <td>2002-01-01</td>\n",
       "      <td>28975</td>\n",
       "      <td>1.78</td>\n",
       "      <td>16322.03</td>\n",
       "    </tr>\n",
       "    <tr>\n",
       "      <th>5</th>\n",
       "      <td>AT13</td>\n",
       "      <td>90500</td>\n",
       "      <td>2002</td>\n",
       "      <td>2002-01-01</td>\n",
       "      <td>862</td>\n",
       "      <td>17.31</td>\n",
       "      <td>1050</td>\n",
       "      <td>2002-01-01</td>\n",
       "      <td>49785</td>\n",
       "      <td>2.01</td>\n",
       "      <td>24748.48</td>\n",
       "    </tr>\n",
       "    <tr>\n",
       "      <th>6</th>\n",
       "      <td>AT13</td>\n",
       "      <td>90600</td>\n",
       "      <td>2002</td>\n",
       "      <td>2002-01-01</td>\n",
       "      <td>604</td>\n",
       "      <td>21.17</td>\n",
       "      <td>1060</td>\n",
       "      <td>2002-01-01</td>\n",
       "      <td>28525</td>\n",
       "      <td>1.46</td>\n",
       "      <td>19604.22</td>\n",
       "    </tr>\n",
       "    <tr>\n",
       "      <th>7</th>\n",
       "      <td>AT13</td>\n",
       "      <td>90700</td>\n",
       "      <td>2002</td>\n",
       "      <td>2002-01-01</td>\n",
       "      <td>532</td>\n",
       "      <td>18.40</td>\n",
       "      <td>1070</td>\n",
       "      <td>2002-01-01</td>\n",
       "      <td>28912</td>\n",
       "      <td>1.61</td>\n",
       "      <td>17977.33</td>\n",
       "    </tr>\n",
       "    <tr>\n",
       "      <th>8</th>\n",
       "      <td>AT13</td>\n",
       "      <td>90800</td>\n",
       "      <td>2002</td>\n",
       "      <td>2002-01-01</td>\n",
       "      <td>474</td>\n",
       "      <td>21.33</td>\n",
       "      <td>1080</td>\n",
       "      <td>2002-01-01</td>\n",
       "      <td>22219</td>\n",
       "      <td>1.09</td>\n",
       "      <td>20385.42</td>\n",
       "    </tr>\n",
       "    <tr>\n",
       "      <th>9</th>\n",
       "      <td>AT13</td>\n",
       "      <td>90900</td>\n",
       "      <td>2002</td>\n",
       "      <td>2002-01-01</td>\n",
       "      <td>865</td>\n",
       "      <td>22.59</td>\n",
       "      <td>1090</td>\n",
       "      <td>2002-01-01</td>\n",
       "      <td>38290</td>\n",
       "      <td>2.97</td>\n",
       "      <td>12903.62</td>\n",
       "    </tr>\n",
       "  </tbody>\n",
       "</table>\n",
       "</div>"
      ],
      "text/plain": [
       "   NUTS  DISTRICT_CODE  REF_YEAR REF_DATE_dogs  DOG_VALUE  DOG_DENSITY  \\\n",
       "0  AT13          90000      2002    2002-01-01      46933        29.87   \n",
       "1  AT13          90100      2002    2002-01-01        542        30.74   \n",
       "2  AT13          90200      2002    2002-01-01       2251        25.29   \n",
       "3  AT13          90300      2002    2002-01-01       1904        23.16   \n",
       "4  AT13          90400      2002    2002-01-01        615        21.23   \n",
       "5  AT13          90500      2002    2002-01-01        862        17.31   \n",
       "6  AT13          90600      2002    2002-01-01        604        21.17   \n",
       "7  AT13          90700      2002    2002-01-01        532        18.40   \n",
       "8  AT13          90800      2002    2002-01-01        474        21.33   \n",
       "9  AT13          90900      2002    2002-01-01        865        22.59   \n",
       "\n",
       "  Postal_CODE REF_DATE_population  POP_VALUE    AREA  POP_DENSITY  \n",
       "0        1000          2002-01-01    1571123  414.87      3787.02  \n",
       "1        1010          2002-01-01      17630    2.87      6145.48  \n",
       "2        1020          2002-01-01      89016   19.24      4626.13  \n",
       "3        1030          2002-01-01      82227    7.40     11115.15  \n",
       "4        1040          2002-01-01      28975    1.78     16322.03  \n",
       "5        1050          2002-01-01      49785    2.01     24748.48  \n",
       "6        1060          2002-01-01      28525    1.46     19604.22  \n",
       "7        1070          2002-01-01      28912    1.61     17977.33  \n",
       "8        1080          2002-01-01      22219    1.09     20385.42  \n",
       "9        1090          2002-01-01      38290    2.97     12903.62  "
      ]
     },
     "execution_count": 210,
     "metadata": {},
     "output_type": "execute_result"
    }
   ],
   "source": [
    "#Merge population values and dog data, so we can analyse it\n",
    "df_h4_dogs_pop = dogs_2002.merge(bev_dichte, how='inner', left_on=['DISTRICT_CODE','REF_YEAR'], right_on=['DISTRICT_CODE','REF_YEAR'], suffixes=('_dogs', '_population'))\n",
    "df_h4_dogs_pop.head(10)"
   ]
  },
  {
   "cell_type": "code",
   "execution_count": 211,
   "id": "9ea0e3f9",
   "metadata": {},
   "outputs": [
    {
     "name": "stdout",
     "output_type": "stream",
     "text": [
      "[90000 90100 90200 90300 90400 90500 90600 90700 90800 90900 91000 91100\n",
      " 91200 91300 91400 91500 91600 91700 91800 91900 92000 92100 92200 92300]\n",
      "REF_YEAR\n",
      "2002    24\n",
      "2003    24\n",
      "2004    24\n",
      "2005    24\n",
      "2006    24\n",
      "2007    24\n",
      "2008    24\n",
      "2009    24\n",
      "2010    24\n",
      "2011    24\n",
      "2012    24\n",
      "2013    24\n",
      "2014    24\n",
      "2015    24\n",
      "2016    24\n",
      "2017    24\n",
      "2018    24\n",
      "2019    24\n",
      "2020    24\n",
      "2021    24\n",
      "2022    24\n",
      "2023    24\n",
      "dtype: int64\n"
     ]
    }
   ],
   "source": [
    "#Check if all districts are still there\n",
    "print(df_h4_dogs_pop['DISTRICT_CODE'].unique())\n",
    "#Check if all years have 24 rows (so 1 value for each district + 1 row for whole of Vienna)\n",
    "print(df_h4_dogs_pop.groupby(by=['REF_YEAR']).size())"
   ]
  },
  {
   "cell_type": "code",
   "execution_count": 212,
   "id": "a6b0c37e",
   "metadata": {},
   "outputs": [
    {
     "name": "stdout",
     "output_type": "stream",
     "text": [
      "NUTS                   0.0\n",
      "DISTRICT_CODE          0.0\n",
      "REF_YEAR               0.0\n",
      "REF_DATE_dogs          0.0\n",
      "DOG_VALUE              0.0\n",
      "DOG_DENSITY            0.0\n",
      "Postal_CODE            0.0\n",
      "REF_DATE_population    0.0\n",
      "POP_VALUE              0.0\n",
      "AREA                   0.0\n",
      "POP_DENSITY            0.0\n",
      "dtype: float64\n"
     ]
    }
   ],
   "source": [
    "#Check for missing values in merged dataframe\n",
    "print(((df_h4_dogs_pop.isnull().sum() / len(df_h4_dogs_pop)) * 100).sort_values(ascending=False))"
   ]
  },
  {
   "cell_type": "markdown",
   "id": "4b5e3bc2",
   "metadata": {},
   "source": [
    "Now that the data is merged we can analyse it"
   ]
  },
  {
   "cell_type": "code",
   "execution_count": 213,
   "id": "ee5a8218",
   "metadata": {},
   "outputs": [
    {
     "data": {
      "application/vnd.plotly.v1+json": {
       "config": {
        "plotlyServerURL": "https://plot.ly"
       },
       "data": [
        {
         "hovertemplate": "Postal Code=1010<br>Year=%{x}<br>Number of Dogs=%{y}<extra></extra>",
         "legendgroup": "1010",
         "line": {
          "color": "#636efa",
          "dash": "solid"
         },
         "marker": {
          "symbol": "circle"
         },
         "mode": "lines+markers",
         "name": "1010",
         "orientation": "v",
         "showlegend": true,
         "type": "scatter",
         "x": [
          2002,
          2003,
          2004,
          2005,
          2006,
          2007,
          2008,
          2009,
          2010,
          2011,
          2012,
          2013,
          2014,
          2015,
          2016,
          2017,
          2018,
          2019,
          2020,
          2021,
          2022,
          2023
         ],
         "xaxis": "x",
         "y": [
          542,
          537,
          515,
          516,
          517,
          522,
          511,
          513,
          502,
          518,
          524,
          497,
          482,
          467,
          454,
          474,
          463,
          474,
          483,
          488,
          479,
          497
         ],
         "yaxis": "y"
        },
        {
         "hovertemplate": "Postal Code=1020<br>Year=%{x}<br>Number of Dogs=%{y}<extra></extra>",
         "legendgroup": "1020",
         "line": {
          "color": "#EF553B",
          "dash": "solid"
         },
         "marker": {
          "symbol": "circle"
         },
         "mode": "lines+markers",
         "name": "1020",
         "orientation": "v",
         "showlegend": true,
         "type": "scatter",
         "x": [
          2002,
          2003,
          2004,
          2005,
          2006,
          2007,
          2008,
          2009,
          2010,
          2011,
          2012,
          2013,
          2014,
          2015,
          2016,
          2017,
          2018,
          2019,
          2020,
          2021,
          2022,
          2023
         ],
         "xaxis": "x",
         "y": [
          2251,
          2301,
          2332,
          2360,
          2368,
          2354,
          2320,
          2328,
          2377,
          2537,
          2603,
          2559,
          2535,
          2511,
          2538,
          2507,
          2472,
          2490,
          2510,
          2596,
          2573,
          2659
         ],
         "yaxis": "y"
        },
        {
         "hovertemplate": "Postal Code=1030<br>Year=%{x}<br>Number of Dogs=%{y}<extra></extra>",
         "legendgroup": "1030",
         "line": {
          "color": "#00cc96",
          "dash": "solid"
         },
         "marker": {
          "symbol": "circle"
         },
         "mode": "lines+markers",
         "name": "1030",
         "orientation": "v",
         "showlegend": true,
         "type": "scatter",
         "x": [
          2002,
          2003,
          2004,
          2005,
          2006,
          2007,
          2008,
          2009,
          2010,
          2011,
          2012,
          2013,
          2014,
          2015,
          2016,
          2017,
          2018,
          2019,
          2020,
          2021,
          2022,
          2023
         ],
         "xaxis": "x",
         "y": [
          1904,
          1923,
          1933,
          1932,
          1935,
          1925,
          1950,
          1981,
          2007,
          2087,
          2131,
          2106,
          2097,
          2088,
          2081,
          2114,
          2093,
          2156,
          2174,
          2281,
          2335,
          2463
         ],
         "yaxis": "y"
        },
        {
         "hovertemplate": "Postal Code=1040<br>Year=%{x}<br>Number of Dogs=%{y}<extra></extra>",
         "legendgroup": "1040",
         "line": {
          "color": "#ab63fa",
          "dash": "solid"
         },
         "marker": {
          "symbol": "circle"
         },
         "mode": "lines+markers",
         "name": "1040",
         "orientation": "v",
         "showlegend": true,
         "type": "scatter",
         "x": [
          2002,
          2003,
          2004,
          2005,
          2006,
          2007,
          2008,
          2009,
          2010,
          2011,
          2012,
          2013,
          2014,
          2015,
          2016,
          2017,
          2018,
          2019,
          2020,
          2021,
          2022,
          2023
         ],
         "xaxis": "x",
         "y": [
          615,
          597,
          586,
          614,
          625,
          623,
          604,
          610,
          628,
          656,
          658,
          643,
          630,
          617,
          618,
          618,
          644,
          658,
          654,
          690,
          689,
          711
         ],
         "yaxis": "y"
        },
        {
         "hovertemplate": "Postal Code=1050<br>Year=%{x}<br>Number of Dogs=%{y}<extra></extra>",
         "legendgroup": "1050",
         "line": {
          "color": "#FFA15A",
          "dash": "solid"
         },
         "marker": {
          "symbol": "circle"
         },
         "mode": "lines+markers",
         "name": "1050",
         "orientation": "v",
         "showlegend": true,
         "type": "scatter",
         "x": [
          2002,
          2003,
          2004,
          2005,
          2006,
          2007,
          2008,
          2009,
          2010,
          2011,
          2012,
          2013,
          2014,
          2015,
          2016,
          2017,
          2018,
          2019,
          2020,
          2021,
          2022,
          2023
         ],
         "xaxis": "x",
         "y": [
          862,
          881,
          882,
          939,
          940,
          973,
          986,
          969,
          999,
          1039,
          1052,
          1026,
          1024,
          1022,
          979,
          969,
          946,
          952,
          931,
          935,
          939,
          948
         ],
         "yaxis": "y"
        },
        {
         "hovertemplate": "Postal Code=1060<br>Year=%{x}<br>Number of Dogs=%{y}<extra></extra>",
         "legendgroup": "1060",
         "line": {
          "color": "#19d3f3",
          "dash": "solid"
         },
         "marker": {
          "symbol": "circle"
         },
         "mode": "lines+markers",
         "name": "1060",
         "orientation": "v",
         "showlegend": true,
         "type": "scatter",
         "x": [
          2002,
          2003,
          2004,
          2005,
          2006,
          2007,
          2008,
          2009,
          2010,
          2011,
          2012,
          2013,
          2014,
          2015,
          2016,
          2017,
          2018,
          2019,
          2020,
          2021,
          2022,
          2023
         ],
         "xaxis": "x",
         "y": [
          604,
          592,
          587,
          614,
          602,
          607,
          611,
          604,
          601,
          612,
          638,
          662,
          652,
          643,
          658,
          646,
          615,
          649,
          639,
          602,
          601,
          619
         ],
         "yaxis": "y"
        },
        {
         "hovertemplate": "Postal Code=1070<br>Year=%{x}<br>Number of Dogs=%{y}<extra></extra>",
         "legendgroup": "1070",
         "line": {
          "color": "#FF6692",
          "dash": "solid"
         },
         "marker": {
          "symbol": "circle"
         },
         "mode": "lines+markers",
         "name": "1070",
         "orientation": "v",
         "showlegend": true,
         "type": "scatter",
         "x": [
          2002,
          2003,
          2004,
          2005,
          2006,
          2007,
          2008,
          2009,
          2010,
          2011,
          2012,
          2013,
          2014,
          2015,
          2016,
          2017,
          2018,
          2019,
          2020,
          2021,
          2022,
          2023
         ],
         "xaxis": "x",
         "y": [
          532,
          545,
          577,
          553,
          558,
          562,
          558,
          535,
          555,
          593,
          581,
          580,
          589,
          599,
          612,
          610,
          577,
          578,
          580,
          610,
          606,
          641
         ],
         "yaxis": "y"
        },
        {
         "hovertemplate": "Postal Code=1080<br>Year=%{x}<br>Number of Dogs=%{y}<extra></extra>",
         "legendgroup": "1080",
         "line": {
          "color": "#B6E880",
          "dash": "solid"
         },
         "marker": {
          "symbol": "circle"
         },
         "mode": "lines+markers",
         "name": "1080",
         "orientation": "v",
         "showlegend": true,
         "type": "scatter",
         "x": [
          2002,
          2003,
          2004,
          2005,
          2006,
          2007,
          2008,
          2009,
          2010,
          2011,
          2012,
          2013,
          2014,
          2015,
          2016,
          2017,
          2018,
          2019,
          2020,
          2021,
          2022,
          2023
         ],
         "xaxis": "x",
         "y": [
          474,
          473,
          497,
          488,
          469,
          465,
          454,
          463,
          471,
          506,
          496,
          454,
          446,
          438,
          453,
          459,
          453,
          484,
          481,
          487,
          504,
          512
         ],
         "yaxis": "y"
        },
        {
         "hovertemplate": "Postal Code=1090<br>Year=%{x}<br>Number of Dogs=%{y}<extra></extra>",
         "legendgroup": "1090",
         "line": {
          "color": "#FF97FF",
          "dash": "solid"
         },
         "marker": {
          "symbol": "circle"
         },
         "mode": "lines+markers",
         "name": "1090",
         "orientation": "v",
         "showlegend": true,
         "type": "scatter",
         "x": [
          2002,
          2003,
          2004,
          2005,
          2006,
          2007,
          2008,
          2009,
          2010,
          2011,
          2012,
          2013,
          2014,
          2015,
          2016,
          2017,
          2018,
          2019,
          2020,
          2021,
          2022,
          2023
         ],
         "xaxis": "x",
         "y": [
          865,
          841,
          854,
          842,
          852,
          815,
          817,
          824,
          839,
          870,
          891,
          869,
          861,
          854,
          850,
          854,
          813,
          873,
          891,
          927,
          945,
          974
         ],
         "yaxis": "y"
        },
        {
         "hovertemplate": "Postal Code=1100<br>Year=%{x}<br>Number of Dogs=%{y}<extra></extra>",
         "legendgroup": "1100",
         "line": {
          "color": "#FECB52",
          "dash": "solid"
         },
         "marker": {
          "symbol": "circle"
         },
         "mode": "lines+markers",
         "name": "1100",
         "orientation": "v",
         "showlegend": true,
         "type": "scatter",
         "x": [
          2002,
          2003,
          2004,
          2005,
          2006,
          2007,
          2008,
          2009,
          2010,
          2011,
          2012,
          2013,
          2014,
          2015,
          2016,
          2017,
          2018,
          2019,
          2020,
          2021,
          2022,
          2023
         ],
         "xaxis": "x",
         "y": [
          4142,
          4247,
          4365,
          4630,
          4731,
          4975,
          4978,
          5128,
          5222,
          5527,
          5668,
          5613,
          5514,
          5417,
          5340,
          5268,
          5166,
          5138,
          5118,
          5128,
          5035,
          5162
         ],
         "yaxis": "y"
        },
        {
         "hovertemplate": "Postal Code=1110<br>Year=%{x}<br>Number of Dogs=%{y}<extra></extra>",
         "legendgroup": "1110",
         "line": {
          "color": "#636efa",
          "dash": "solid"
         },
         "marker": {
          "symbol": "circle"
         },
         "mode": "lines+markers",
         "name": "1110",
         "orientation": "v",
         "showlegend": true,
         "type": "scatter",
         "x": [
          2002,
          2003,
          2004,
          2005,
          2006,
          2007,
          2008,
          2009,
          2010,
          2011,
          2012,
          2013,
          2014,
          2015,
          2016,
          2017,
          2018,
          2019,
          2020,
          2021,
          2022,
          2023
         ],
         "xaxis": "x",
         "y": [
          2667,
          2693,
          2853,
          3022,
          3074,
          3166,
          3210,
          3278,
          3496,
          3665,
          3717,
          3682,
          3629,
          3577,
          3553,
          3545,
          3453,
          3489,
          3457,
          3443,
          3394,
          3356
         ],
         "yaxis": "y"
        },
        {
         "hovertemplate": "Postal Code=1120<br>Year=%{x}<br>Number of Dogs=%{y}<extra></extra>",
         "legendgroup": "1120",
         "line": {
          "color": "#EF553B",
          "dash": "solid"
         },
         "marker": {
          "symbol": "circle"
         },
         "mode": "lines+markers",
         "name": "1120",
         "orientation": "v",
         "showlegend": true,
         "type": "scatter",
         "x": [
          2002,
          2003,
          2004,
          2005,
          2006,
          2007,
          2008,
          2009,
          2010,
          2011,
          2012,
          2013,
          2014,
          2015,
          2016,
          2017,
          2018,
          2019,
          2020,
          2021,
          2022,
          2023
         ],
         "xaxis": "x",
         "y": [
          2215,
          2227,
          2253,
          2334,
          2345,
          2364,
          2362,
          2358,
          2380,
          2441,
          2448,
          2410,
          2381,
          2352,
          2318,
          2339,
          2348,
          2388,
          2331,
          2379,
          2333,
          2316
         ],
         "yaxis": "y"
        },
        {
         "hovertemplate": "Postal Code=1130<br>Year=%{x}<br>Number of Dogs=%{y}<extra></extra>",
         "legendgroup": "1130",
         "line": {
          "color": "#00cc96",
          "dash": "solid"
         },
         "marker": {
          "symbol": "circle"
         },
         "mode": "lines+markers",
         "name": "1130",
         "orientation": "v",
         "showlegend": true,
         "type": "scatter",
         "x": [
          2002,
          2003,
          2004,
          2005,
          2006,
          2007,
          2008,
          2009,
          2010,
          2011,
          2012,
          2013,
          2014,
          2015,
          2016,
          2017,
          2018,
          2019,
          2020,
          2021,
          2022,
          2023
         ],
         "xaxis": "x",
         "y": [
          1935,
          1928,
          1915,
          1926,
          1978,
          1948,
          1887,
          1881,
          1897,
          1969,
          2009,
          1983,
          1979,
          1976,
          1986,
          1980,
          1980,
          1996,
          1999,
          2009,
          2023,
          2075
         ],
         "yaxis": "y"
        },
        {
         "hovertemplate": "Postal Code=1140<br>Year=%{x}<br>Number of Dogs=%{y}<extra></extra>",
         "legendgroup": "1140",
         "line": {
          "color": "#ab63fa",
          "dash": "solid"
         },
         "marker": {
          "symbol": "circle"
         },
         "mode": "lines+markers",
         "name": "1140",
         "orientation": "v",
         "showlegend": true,
         "type": "scatter",
         "x": [
          2002,
          2003,
          2004,
          2005,
          2006,
          2007,
          2008,
          2009,
          2010,
          2011,
          2012,
          2013,
          2014,
          2015,
          2016,
          2017,
          2018,
          2019,
          2020,
          2021,
          2022,
          2023
         ],
         "xaxis": "x",
         "y": [
          2574,
          2574,
          2568,
          2671,
          2663,
          2744,
          2713,
          2763,
          2801,
          2916,
          2925,
          2891,
          2864,
          2838,
          2826,
          2816,
          2796,
          2822,
          2867,
          2927,
          2991,
          3062
         ],
         "yaxis": "y"
        },
        {
         "hovertemplate": "Postal Code=1150<br>Year=%{x}<br>Number of Dogs=%{y}<extra></extra>",
         "legendgroup": "1150",
         "line": {
          "color": "#FFA15A",
          "dash": "solid"
         },
         "marker": {
          "symbol": "circle"
         },
         "mode": "lines+markers",
         "name": "1150",
         "orientation": "v",
         "showlegend": true,
         "type": "scatter",
         "x": [
          2002,
          2003,
          2004,
          2005,
          2006,
          2007,
          2008,
          2009,
          2010,
          2011,
          2012,
          2013,
          2014,
          2015,
          2016,
          2017,
          2018,
          2019,
          2020,
          2021,
          2022,
          2023
         ],
         "xaxis": "x",
         "y": [
          1198,
          1228,
          1222,
          1272,
          1305,
          1256,
          1237,
          1279,
          1291,
          1328,
          1359,
          1384,
          1361,
          1338,
          1357,
          1326,
          1300,
          1315,
          1321,
          1366,
          1372,
          1383
         ],
         "yaxis": "y"
        },
        {
         "hovertemplate": "Postal Code=1160<br>Year=%{x}<br>Number of Dogs=%{y}<extra></extra>",
         "legendgroup": "1160",
         "line": {
          "color": "#19d3f3",
          "dash": "solid"
         },
         "marker": {
          "symbol": "circle"
         },
         "mode": "lines+markers",
         "name": "1160",
         "orientation": "v",
         "showlegend": true,
         "type": "scatter",
         "x": [
          2002,
          2003,
          2004,
          2005,
          2006,
          2007,
          2008,
          2009,
          2010,
          2011,
          2012,
          2013,
          2014,
          2015,
          2016,
          2017,
          2018,
          2019,
          2020,
          2021,
          2022,
          2023
         ],
         "xaxis": "x",
         "y": [
          1922,
          1894,
          1964,
          2019,
          2015,
          2007,
          1982,
          2034,
          2061,
          2122,
          2139,
          2138,
          2113,
          2089,
          2105,
          2040,
          1987,
          2004,
          2020,
          2027,
          1998,
          2024
         ],
         "yaxis": "y"
        },
        {
         "hovertemplate": "Postal Code=1170<br>Year=%{x}<br>Number of Dogs=%{y}<extra></extra>",
         "legendgroup": "1170",
         "line": {
          "color": "#FF6692",
          "dash": "solid"
         },
         "marker": {
          "symbol": "circle"
         },
         "mode": "lines+markers",
         "name": "1170",
         "orientation": "v",
         "showlegend": true,
         "type": "scatter",
         "x": [
          2002,
          2003,
          2004,
          2005,
          2006,
          2007,
          2008,
          2009,
          2010,
          2011,
          2012,
          2013,
          2014,
          2015,
          2016,
          2017,
          2018,
          2019,
          2020,
          2021,
          2022,
          2023
         ],
         "xaxis": "x",
         "y": [
          1252,
          1283,
          1300,
          1353,
          1345,
          1365,
          1372,
          1358,
          1380,
          1469,
          1496,
          1463,
          1457,
          1451,
          1431,
          1399,
          1381,
          1393,
          1372,
          1395,
          1404,
          1423
         ],
         "yaxis": "y"
        },
        {
         "hovertemplate": "Postal Code=1180<br>Year=%{x}<br>Number of Dogs=%{y}<extra></extra>",
         "legendgroup": "1180",
         "line": {
          "color": "#B6E880",
          "dash": "solid"
         },
         "marker": {
          "symbol": "circle"
         },
         "mode": "lines+markers",
         "name": "1180",
         "orientation": "v",
         "showlegend": true,
         "type": "scatter",
         "x": [
          2002,
          2003,
          2004,
          2005,
          2006,
          2007,
          2008,
          2009,
          2010,
          2011,
          2012,
          2013,
          2014,
          2015,
          2016,
          2017,
          2018,
          2019,
          2020,
          2021,
          2022,
          2023
         ],
         "xaxis": "x",
         "y": [
          1322,
          1357,
          1460,
          1368,
          1397,
          1359,
          1351,
          1356,
          1365,
          1374,
          1394,
          1368,
          1349,
          1330,
          1319,
          1300,
          1278,
          1321,
          1354,
          1424,
          1461,
          1511
         ],
         "yaxis": "y"
        },
        {
         "hovertemplate": "Postal Code=1190<br>Year=%{x}<br>Number of Dogs=%{y}<extra></extra>",
         "legendgroup": "1190",
         "line": {
          "color": "#FF97FF",
          "dash": "solid"
         },
         "marker": {
          "symbol": "circle"
         },
         "mode": "lines+markers",
         "name": "1190",
         "orientation": "v",
         "showlegend": true,
         "type": "scatter",
         "x": [
          2002,
          2003,
          2004,
          2005,
          2006,
          2007,
          2008,
          2009,
          2010,
          2011,
          2012,
          2013,
          2014,
          2015,
          2016,
          2017,
          2018,
          2019,
          2020,
          2021,
          2022,
          2023
         ],
         "xaxis": "x",
         "y": [
          2454,
          2472,
          2462,
          2538,
          2549,
          2549,
          2545,
          2526,
          2593,
          2750,
          2790,
          2803,
          2769,
          2735,
          2718,
          2721,
          2667,
          2646,
          2656,
          2712,
          2707,
          2763
         ],
         "yaxis": "y"
        },
        {
         "hovertemplate": "Postal Code=1200<br>Year=%{x}<br>Number of Dogs=%{y}<extra></extra>",
         "legendgroup": "1200",
         "line": {
          "color": "#FECB52",
          "dash": "solid"
         },
         "marker": {
          "symbol": "circle"
         },
         "mode": "lines+markers",
         "name": "1200",
         "orientation": "v",
         "showlegend": true,
         "type": "scatter",
         "x": [
          2002,
          2003,
          2004,
          2005,
          2006,
          2007,
          2008,
          2009,
          2010,
          2011,
          2012,
          2013,
          2014,
          2015,
          2016,
          2017,
          2018,
          2019,
          2020,
          2021,
          2022,
          2023
         ],
         "xaxis": "x",
         "y": [
          1801,
          1832,
          1861,
          1955,
          1910,
          1898,
          1933,
          1954,
          1955,
          2032,
          2065,
          2027,
          2006,
          1985,
          1911,
          1931,
          1865,
          1878,
          1780,
          1810,
          1764,
          1767
         ],
         "yaxis": "y"
        },
        {
         "hovertemplate": "Postal Code=1210<br>Year=%{x}<br>Number of Dogs=%{y}<extra></extra>",
         "legendgroup": "1210",
         "line": {
          "color": "#636efa",
          "dash": "solid"
         },
         "marker": {
          "symbol": "circle"
         },
         "mode": "lines+markers",
         "name": "1210",
         "orientation": "v",
         "showlegend": true,
         "type": "scatter",
         "x": [
          2002,
          2003,
          2004,
          2005,
          2006,
          2007,
          2008,
          2009,
          2010,
          2011,
          2012,
          2013,
          2014,
          2015,
          2016,
          2017,
          2018,
          2019,
          2020,
          2021,
          2022,
          2023
         ],
         "xaxis": "x",
         "y": [
          5461,
          5573,
          5606,
          5949,
          5931,
          6077,
          6274,
          6380,
          6681,
          7061,
          7142,
          7095,
          7063,
          7031,
          7101,
          7131,
          7147,
          7131,
          7106,
          7274,
          7271,
          7340
         ],
         "yaxis": "y"
        },
        {
         "hovertemplate": "Postal Code=1220<br>Year=%{x}<br>Number of Dogs=%{y}<extra></extra>",
         "legendgroup": "1220",
         "line": {
          "color": "#EF553B",
          "dash": "solid"
         },
         "marker": {
          "symbol": "circle"
         },
         "mode": "lines+markers",
         "name": "1220",
         "orientation": "v",
         "showlegend": true,
         "type": "scatter",
         "x": [
          2002,
          2003,
          2004,
          2005,
          2006,
          2007,
          2008,
          2009,
          2010,
          2011,
          2012,
          2013,
          2014,
          2015,
          2016,
          2017,
          2018,
          2019,
          2020,
          2021,
          2022,
          2023
         ],
         "xaxis": "x",
         "y": [
          5848,
          5913,
          5980,
          6360,
          6522,
          6838,
          6932,
          7021,
          7239,
          7735,
          7932,
          8125,
          8163,
          8201,
          8475,
          8518,
          8523,
          8567,
          8622,
          8796,
          8956,
          9170
         ],
         "yaxis": "y"
        },
        {
         "hovertemplate": "Postal Code=1230<br>Year=%{x}<br>Number of Dogs=%{y}<extra></extra>",
         "legendgroup": "1230",
         "line": {
          "color": "#00cc96",
          "dash": "solid"
         },
         "marker": {
          "symbol": "circle"
         },
         "mode": "lines+markers",
         "name": "1230",
         "orientation": "v",
         "showlegend": true,
         "type": "scatter",
         "x": [
          2002,
          2003,
          2004,
          2005,
          2006,
          2007,
          2008,
          2009,
          2010,
          2011,
          2012,
          2013,
          2014,
          2015,
          2016,
          2017,
          2018,
          2019,
          2020,
          2021,
          2022,
          2023
         ],
         "xaxis": "x",
         "y": [
          3493,
          3517,
          3521,
          3601,
          3651,
          3757,
          3805,
          3928,
          4005,
          4148,
          4214,
          4241,
          4187,
          4134,
          4117,
          4140,
          4132,
          4202,
          4303,
          4395,
          4412,
          4525
         ],
         "yaxis": "y"
        }
       ],
       "layout": {
        "height": 500,
        "legend": {
         "title": {
          "text": "Postal Code"
         },
         "tracegroupgap": 0
        },
        "template": {
         "data": {
          "bar": [
           {
            "error_x": {
             "color": "#2a3f5f"
            },
            "error_y": {
             "color": "#2a3f5f"
            },
            "marker": {
             "line": {
              "color": "#E5ECF6",
              "width": 0.5
             },
             "pattern": {
              "fillmode": "overlay",
              "size": 10,
              "solidity": 0.2
             }
            },
            "type": "bar"
           }
          ],
          "barpolar": [
           {
            "marker": {
             "line": {
              "color": "#E5ECF6",
              "width": 0.5
             },
             "pattern": {
              "fillmode": "overlay",
              "size": 10,
              "solidity": 0.2
             }
            },
            "type": "barpolar"
           }
          ],
          "carpet": [
           {
            "aaxis": {
             "endlinecolor": "#2a3f5f",
             "gridcolor": "white",
             "linecolor": "white",
             "minorgridcolor": "white",
             "startlinecolor": "#2a3f5f"
            },
            "baxis": {
             "endlinecolor": "#2a3f5f",
             "gridcolor": "white",
             "linecolor": "white",
             "minorgridcolor": "white",
             "startlinecolor": "#2a3f5f"
            },
            "type": "carpet"
           }
          ],
          "choropleth": [
           {
            "colorbar": {
             "outlinewidth": 0,
             "ticks": ""
            },
            "type": "choropleth"
           }
          ],
          "contour": [
           {
            "colorbar": {
             "outlinewidth": 0,
             "ticks": ""
            },
            "colorscale": [
             [
              0,
              "#0d0887"
             ],
             [
              0.1111111111111111,
              "#46039f"
             ],
             [
              0.2222222222222222,
              "#7201a8"
             ],
             [
              0.3333333333333333,
              "#9c179e"
             ],
             [
              0.4444444444444444,
              "#bd3786"
             ],
             [
              0.5555555555555556,
              "#d8576b"
             ],
             [
              0.6666666666666666,
              "#ed7953"
             ],
             [
              0.7777777777777778,
              "#fb9f3a"
             ],
             [
              0.8888888888888888,
              "#fdca26"
             ],
             [
              1,
              "#f0f921"
             ]
            ],
            "type": "contour"
           }
          ],
          "contourcarpet": [
           {
            "colorbar": {
             "outlinewidth": 0,
             "ticks": ""
            },
            "type": "contourcarpet"
           }
          ],
          "heatmap": [
           {
            "colorbar": {
             "outlinewidth": 0,
             "ticks": ""
            },
            "colorscale": [
             [
              0,
              "#0d0887"
             ],
             [
              0.1111111111111111,
              "#46039f"
             ],
             [
              0.2222222222222222,
              "#7201a8"
             ],
             [
              0.3333333333333333,
              "#9c179e"
             ],
             [
              0.4444444444444444,
              "#bd3786"
             ],
             [
              0.5555555555555556,
              "#d8576b"
             ],
             [
              0.6666666666666666,
              "#ed7953"
             ],
             [
              0.7777777777777778,
              "#fb9f3a"
             ],
             [
              0.8888888888888888,
              "#fdca26"
             ],
             [
              1,
              "#f0f921"
             ]
            ],
            "type": "heatmap"
           }
          ],
          "heatmapgl": [
           {
            "colorbar": {
             "outlinewidth": 0,
             "ticks": ""
            },
            "colorscale": [
             [
              0,
              "#0d0887"
             ],
             [
              0.1111111111111111,
              "#46039f"
             ],
             [
              0.2222222222222222,
              "#7201a8"
             ],
             [
              0.3333333333333333,
              "#9c179e"
             ],
             [
              0.4444444444444444,
              "#bd3786"
             ],
             [
              0.5555555555555556,
              "#d8576b"
             ],
             [
              0.6666666666666666,
              "#ed7953"
             ],
             [
              0.7777777777777778,
              "#fb9f3a"
             ],
             [
              0.8888888888888888,
              "#fdca26"
             ],
             [
              1,
              "#f0f921"
             ]
            ],
            "type": "heatmapgl"
           }
          ],
          "histogram": [
           {
            "marker": {
             "pattern": {
              "fillmode": "overlay",
              "size": 10,
              "solidity": 0.2
             }
            },
            "type": "histogram"
           }
          ],
          "histogram2d": [
           {
            "colorbar": {
             "outlinewidth": 0,
             "ticks": ""
            },
            "colorscale": [
             [
              0,
              "#0d0887"
             ],
             [
              0.1111111111111111,
              "#46039f"
             ],
             [
              0.2222222222222222,
              "#7201a8"
             ],
             [
              0.3333333333333333,
              "#9c179e"
             ],
             [
              0.4444444444444444,
              "#bd3786"
             ],
             [
              0.5555555555555556,
              "#d8576b"
             ],
             [
              0.6666666666666666,
              "#ed7953"
             ],
             [
              0.7777777777777778,
              "#fb9f3a"
             ],
             [
              0.8888888888888888,
              "#fdca26"
             ],
             [
              1,
              "#f0f921"
             ]
            ],
            "type": "histogram2d"
           }
          ],
          "histogram2dcontour": [
           {
            "colorbar": {
             "outlinewidth": 0,
             "ticks": ""
            },
            "colorscale": [
             [
              0,
              "#0d0887"
             ],
             [
              0.1111111111111111,
              "#46039f"
             ],
             [
              0.2222222222222222,
              "#7201a8"
             ],
             [
              0.3333333333333333,
              "#9c179e"
             ],
             [
              0.4444444444444444,
              "#bd3786"
             ],
             [
              0.5555555555555556,
              "#d8576b"
             ],
             [
              0.6666666666666666,
              "#ed7953"
             ],
             [
              0.7777777777777778,
              "#fb9f3a"
             ],
             [
              0.8888888888888888,
              "#fdca26"
             ],
             [
              1,
              "#f0f921"
             ]
            ],
            "type": "histogram2dcontour"
           }
          ],
          "mesh3d": [
           {
            "colorbar": {
             "outlinewidth": 0,
             "ticks": ""
            },
            "type": "mesh3d"
           }
          ],
          "parcoords": [
           {
            "line": {
             "colorbar": {
              "outlinewidth": 0,
              "ticks": ""
             }
            },
            "type": "parcoords"
           }
          ],
          "pie": [
           {
            "automargin": true,
            "type": "pie"
           }
          ],
          "scatter": [
           {
            "fillpattern": {
             "fillmode": "overlay",
             "size": 10,
             "solidity": 0.2
            },
            "type": "scatter"
           }
          ],
          "scatter3d": [
           {
            "line": {
             "colorbar": {
              "outlinewidth": 0,
              "ticks": ""
             }
            },
            "marker": {
             "colorbar": {
              "outlinewidth": 0,
              "ticks": ""
             }
            },
            "type": "scatter3d"
           }
          ],
          "scattercarpet": [
           {
            "marker": {
             "colorbar": {
              "outlinewidth": 0,
              "ticks": ""
             }
            },
            "type": "scattercarpet"
           }
          ],
          "scattergeo": [
           {
            "marker": {
             "colorbar": {
              "outlinewidth": 0,
              "ticks": ""
             }
            },
            "type": "scattergeo"
           }
          ],
          "scattergl": [
           {
            "marker": {
             "colorbar": {
              "outlinewidth": 0,
              "ticks": ""
             }
            },
            "type": "scattergl"
           }
          ],
          "scattermapbox": [
           {
            "marker": {
             "colorbar": {
              "outlinewidth": 0,
              "ticks": ""
             }
            },
            "type": "scattermapbox"
           }
          ],
          "scatterpolar": [
           {
            "marker": {
             "colorbar": {
              "outlinewidth": 0,
              "ticks": ""
             }
            },
            "type": "scatterpolar"
           }
          ],
          "scatterpolargl": [
           {
            "marker": {
             "colorbar": {
              "outlinewidth": 0,
              "ticks": ""
             }
            },
            "type": "scatterpolargl"
           }
          ],
          "scatterternary": [
           {
            "marker": {
             "colorbar": {
              "outlinewidth": 0,
              "ticks": ""
             }
            },
            "type": "scatterternary"
           }
          ],
          "surface": [
           {
            "colorbar": {
             "outlinewidth": 0,
             "ticks": ""
            },
            "colorscale": [
             [
              0,
              "#0d0887"
             ],
             [
              0.1111111111111111,
              "#46039f"
             ],
             [
              0.2222222222222222,
              "#7201a8"
             ],
             [
              0.3333333333333333,
              "#9c179e"
             ],
             [
              0.4444444444444444,
              "#bd3786"
             ],
             [
              0.5555555555555556,
              "#d8576b"
             ],
             [
              0.6666666666666666,
              "#ed7953"
             ],
             [
              0.7777777777777778,
              "#fb9f3a"
             ],
             [
              0.8888888888888888,
              "#fdca26"
             ],
             [
              1,
              "#f0f921"
             ]
            ],
            "type": "surface"
           }
          ],
          "table": [
           {
            "cells": {
             "fill": {
              "color": "#EBF0F8"
             },
             "line": {
              "color": "white"
             }
            },
            "header": {
             "fill": {
              "color": "#C8D4E3"
             },
             "line": {
              "color": "white"
             }
            },
            "type": "table"
           }
          ]
         },
         "layout": {
          "annotationdefaults": {
           "arrowcolor": "#2a3f5f",
           "arrowhead": 0,
           "arrowwidth": 1
          },
          "autotypenumbers": "strict",
          "coloraxis": {
           "colorbar": {
            "outlinewidth": 0,
            "ticks": ""
           }
          },
          "colorscale": {
           "diverging": [
            [
             0,
             "#8e0152"
            ],
            [
             0.1,
             "#c51b7d"
            ],
            [
             0.2,
             "#de77ae"
            ],
            [
             0.3,
             "#f1b6da"
            ],
            [
             0.4,
             "#fde0ef"
            ],
            [
             0.5,
             "#f7f7f7"
            ],
            [
             0.6,
             "#e6f5d0"
            ],
            [
             0.7,
             "#b8e186"
            ],
            [
             0.8,
             "#7fbc41"
            ],
            [
             0.9,
             "#4d9221"
            ],
            [
             1,
             "#276419"
            ]
           ],
           "sequential": [
            [
             0,
             "#0d0887"
            ],
            [
             0.1111111111111111,
             "#46039f"
            ],
            [
             0.2222222222222222,
             "#7201a8"
            ],
            [
             0.3333333333333333,
             "#9c179e"
            ],
            [
             0.4444444444444444,
             "#bd3786"
            ],
            [
             0.5555555555555556,
             "#d8576b"
            ],
            [
             0.6666666666666666,
             "#ed7953"
            ],
            [
             0.7777777777777778,
             "#fb9f3a"
            ],
            [
             0.8888888888888888,
             "#fdca26"
            ],
            [
             1,
             "#f0f921"
            ]
           ],
           "sequentialminus": [
            [
             0,
             "#0d0887"
            ],
            [
             0.1111111111111111,
             "#46039f"
            ],
            [
             0.2222222222222222,
             "#7201a8"
            ],
            [
             0.3333333333333333,
             "#9c179e"
            ],
            [
             0.4444444444444444,
             "#bd3786"
            ],
            [
             0.5555555555555556,
             "#d8576b"
            ],
            [
             0.6666666666666666,
             "#ed7953"
            ],
            [
             0.7777777777777778,
             "#fb9f3a"
            ],
            [
             0.8888888888888888,
             "#fdca26"
            ],
            [
             1,
             "#f0f921"
            ]
           ]
          },
          "colorway": [
           "#636efa",
           "#EF553B",
           "#00cc96",
           "#ab63fa",
           "#FFA15A",
           "#19d3f3",
           "#FF6692",
           "#B6E880",
           "#FF97FF",
           "#FECB52"
          ],
          "font": {
           "color": "#2a3f5f"
          },
          "geo": {
           "bgcolor": "white",
           "lakecolor": "white",
           "landcolor": "#E5ECF6",
           "showlakes": true,
           "showland": true,
           "subunitcolor": "white"
          },
          "hoverlabel": {
           "align": "left"
          },
          "hovermode": "closest",
          "mapbox": {
           "style": "light"
          },
          "paper_bgcolor": "white",
          "plot_bgcolor": "#E5ECF6",
          "polar": {
           "angularaxis": {
            "gridcolor": "white",
            "linecolor": "white",
            "ticks": ""
           },
           "bgcolor": "#E5ECF6",
           "radialaxis": {
            "gridcolor": "white",
            "linecolor": "white",
            "ticks": ""
           }
          },
          "scene": {
           "xaxis": {
            "backgroundcolor": "#E5ECF6",
            "gridcolor": "white",
            "gridwidth": 2,
            "linecolor": "white",
            "showbackground": true,
            "ticks": "",
            "zerolinecolor": "white"
           },
           "yaxis": {
            "backgroundcolor": "#E5ECF6",
            "gridcolor": "white",
            "gridwidth": 2,
            "linecolor": "white",
            "showbackground": true,
            "ticks": "",
            "zerolinecolor": "white"
           },
           "zaxis": {
            "backgroundcolor": "#E5ECF6",
            "gridcolor": "white",
            "gridwidth": 2,
            "linecolor": "white",
            "showbackground": true,
            "ticks": "",
            "zerolinecolor": "white"
           }
          },
          "shapedefaults": {
           "line": {
            "color": "#2a3f5f"
           }
          },
          "ternary": {
           "aaxis": {
            "gridcolor": "white",
            "linecolor": "white",
            "ticks": ""
           },
           "baxis": {
            "gridcolor": "white",
            "linecolor": "white",
            "ticks": ""
           },
           "bgcolor": "#E5ECF6",
           "caxis": {
            "gridcolor": "white",
            "linecolor": "white",
            "ticks": ""
           }
          },
          "title": {
           "x": 0.05
          },
          "xaxis": {
           "automargin": true,
           "gridcolor": "white",
           "linecolor": "white",
           "ticks": "",
           "title": {
            "standoff": 15
           },
           "zerolinecolor": "white",
           "zerolinewidth": 2
          },
          "yaxis": {
           "automargin": true,
           "gridcolor": "white",
           "linecolor": "white",
           "ticks": "",
           "title": {
            "standoff": 15
           },
           "zerolinecolor": "white",
           "zerolinewidth": 2
          }
         }
        },
        "title": {
         "text": "Number of Dogs in each District from 2002 to 2023"
        },
        "width": 800,
        "xaxis": {
         "anchor": "y",
         "domain": [
          0,
          1
         ],
         "title": {
          "text": "Year"
         }
        },
        "yaxis": {
         "anchor": "x",
         "domain": [
          0,
          1
         ],
         "title": {
          "text": "Number of Dogs"
         }
        }
       }
      }
     },
     "metadata": {},
     "output_type": "display_data"
    }
   ],
   "source": [
    "#Firstly, lets look at the number of dogs in districts over the years\n",
    "fig = px.line(dogs_2002[dogs_2002['DISTRICT_CODE']!=90000], x='REF_YEAR', y='DOG_VALUE',\n",
    "              color='Postal_CODE', markers=True,\n",
    "              width=800, height=500,\n",
    "                 labels={\n",
    "                     \"DOG_VALUE\": \"Number of Dogs\",\n",
    "                     \"REF_YEAR\": \"Year\",\n",
    "                     \"Postal_CODE\": \"Postal Code\"\n",
    "                  },\n",
    "              title='Number of Dogs in each District from 2002 to 2023')\n",
    "fig.show()"
   ]
  },
  {
   "cell_type": "code",
   "execution_count": 214,
   "id": "f6136330",
   "metadata": {},
   "outputs": [
    {
     "data": {
      "application/vnd.plotly.v1+json": {
       "config": {
        "plotlyServerURL": "https://plot.ly"
       },
       "data": [
        {
         "customdata": [
          [
           2002
          ],
          [
           2003
          ],
          [
           2004
          ],
          [
           2005
          ],
          [
           2006
          ],
          [
           2007
          ],
          [
           2008
          ],
          [
           2009
          ],
          [
           2010
          ],
          [
           2011
          ],
          [
           2012
          ],
          [
           2013
          ],
          [
           2014
          ],
          [
           2015
          ],
          [
           2016
          ],
          [
           2017
          ],
          [
           2018
          ],
          [
           2019
          ],
          [
           2020
          ],
          [
           2021
          ],
          [
           2022
          ],
          [
           2023
          ]
         ],
         "hovertemplate": "Postal Code=%{x}<br>Density of Population (Population per km^2)=%{y}<br>Year=%{customdata[0]}<extra></extra>",
         "legendgroup": "1010",
         "marker": {
          "color": "#636efa",
          "symbol": "circle"
         },
         "mode": "markers",
         "name": "1010",
         "orientation": "v",
         "showlegend": true,
         "type": "scatter",
         "x": [
          "1010",
          "1010",
          "1010",
          "1010",
          "1010",
          "1010",
          "1010",
          "1010",
          "1010",
          "1010",
          "1010",
          "1010",
          "1010",
          "1010",
          "1010",
          "1010",
          "1010",
          "1010",
          "1010",
          "1010",
          "1010",
          "1010"
         ],
         "xaxis": "x",
         "y": [
          6145.48,
          6114.46,
          6059.73,
          6028.36,
          6025.22,
          5977.12,
          5917.51,
          5794.46,
          5760.3,
          5711.5,
          5678.38,
          5670.72,
          5622.96,
          5695.46,
          5720.56,
          5739.39,
          5734.16,
          5683.96,
          5593.68,
          5530.93,
          5472.72,
          5793.42
         ],
         "yaxis": "y"
        },
        {
         "customdata": [
          [
           2002
          ],
          [
           2003
          ],
          [
           2004
          ],
          [
           2005
          ],
          [
           2006
          ],
          [
           2007
          ],
          [
           2008
          ],
          [
           2009
          ],
          [
           2010
          ],
          [
           2011
          ],
          [
           2012
          ],
          [
           2013
          ],
          [
           2014
          ],
          [
           2015
          ],
          [
           2016
          ],
          [
           2017
          ],
          [
           2018
          ],
          [
           2019
          ],
          [
           2020
          ],
          [
           2021
          ],
          [
           2022
          ],
          [
           2023
          ]
         ],
         "hovertemplate": "Postal Code=%{x}<br>Density of Population (Population per km^2)=%{y}<br>Year=%{customdata[0]}<extra></extra>",
         "legendgroup": "1020",
         "marker": {
          "color": "#EF553B",
          "symbol": "circle"
         },
         "mode": "markers",
         "name": "1020",
         "orientation": "v",
         "showlegend": true,
         "type": "scatter",
         "x": [
          "1020",
          "1020",
          "1020",
          "1020",
          "1020",
          "1020",
          "1020",
          "1020",
          "1020",
          "1020",
          "1020",
          "1020",
          "1020",
          "1020",
          "1020",
          "1020",
          "1020",
          "1020",
          "1020",
          "1020",
          "1020",
          "1020"
         ],
         "xaxis": "x",
         "y": [
          4626.13,
          4674.88,
          4720.77,
          4748.16,
          4790.04,
          4849.44,
          4857.24,
          4875.9,
          4923.35,
          4952.81,
          5019.33,
          5034.09,
          5176.02,
          5285.42,
          5364.57,
          5456.97,
          5486.64,
          5454.01,
          5500.88,
          5469.13,
          5440.6,
          5626.7
         ],
         "yaxis": "y"
        },
        {
         "customdata": [
          [
           2002
          ],
          [
           2003
          ],
          [
           2004
          ],
          [
           2005
          ],
          [
           2006
          ],
          [
           2007
          ],
          [
           2008
          ],
          [
           2009
          ],
          [
           2010
          ],
          [
           2011
          ],
          [
           2012
          ],
          [
           2013
          ],
          [
           2014
          ],
          [
           2015
          ],
          [
           2016
          ],
          [
           2017
          ],
          [
           2018
          ],
          [
           2019
          ],
          [
           2020
          ],
          [
           2021
          ],
          [
           2022
          ],
          [
           2023
          ]
         ],
         "hovertemplate": "Postal Code=%{x}<br>Density of Population (Population per km^2)=%{y}<br>Year=%{customdata[0]}<extra></extra>",
         "legendgroup": "1030",
         "marker": {
          "color": "#00cc96",
          "symbol": "circle"
         },
         "mode": "markers",
         "name": "1030",
         "orientation": "v",
         "showlegend": true,
         "type": "scatter",
         "x": [
          "1030",
          "1030",
          "1030",
          "1030",
          "1030",
          "1030",
          "1030",
          "1030",
          "1030",
          "1030",
          "1030",
          "1030",
          "1030",
          "1030",
          "1030",
          "1030",
          "1030",
          "1030",
          "1030",
          "1030",
          "1030",
          "1030"
         ],
         "xaxis": "x",
         "y": [
          11115.15,
          11124.61,
          11222.21,
          11331.43,
          11382.93,
          11343.87,
          11226.4,
          11216.8,
          11227.89,
          11348.73,
          11432.41,
          11558.66,
          11686.54,
          11912.42,
          12139.65,
          12190.61,
          12262.12,
          12401.76,
          12392.97,
          12604.93,
          12671.97,
          13079.13
         ],
         "yaxis": "y"
        },
        {
         "customdata": [
          [
           2002
          ],
          [
           2003
          ],
          [
           2004
          ],
          [
           2005
          ],
          [
           2006
          ],
          [
           2007
          ],
          [
           2008
          ],
          [
           2009
          ],
          [
           2010
          ],
          [
           2011
          ],
          [
           2012
          ],
          [
           2013
          ],
          [
           2014
          ],
          [
           2015
          ],
          [
           2016
          ],
          [
           2017
          ],
          [
           2018
          ],
          [
           2019
          ],
          [
           2020
          ],
          [
           2021
          ],
          [
           2022
          ],
          [
           2023
          ]
         ],
         "hovertemplate": "Postal Code=%{x}<br>Density of Population (Population per km^2)=%{y}<br>Year=%{customdata[0]}<extra></extra>",
         "legendgroup": "1040",
         "marker": {
          "color": "#ab63fa",
          "symbol": "circle"
         },
         "mode": "markers",
         "name": "1040",
         "orientation": "v",
         "showlegend": true,
         "type": "scatter",
         "x": [
          "1040",
          "1040",
          "1040",
          "1040",
          "1040",
          "1040",
          "1040",
          "1040",
          "1040",
          "1040",
          "1040",
          "1040",
          "1040",
          "1040",
          "1040",
          "1040",
          "1040",
          "1040",
          "1040",
          "1040",
          "1040",
          "1040"
         ],
         "xaxis": "x",
         "y": [
          16322.03,
          16532.15,
          16558.06,
          16658.89,
          16970.41,
          17005.89,
          17047.02,
          17095.46,
          17085.89,
          17204.18,
          17307.27,
          17456.55,
          17717.36,
          17851.99,
          18449.11,
          18609.09,
          18769.07,
          18737.52,
          18708.79,
          18631.62,
          18593.31,
          18945.95
         ],
         "yaxis": "y"
        },
        {
         "customdata": [
          [
           2002
          ],
          [
           2003
          ],
          [
           2004
          ],
          [
           2005
          ],
          [
           2006
          ],
          [
           2007
          ],
          [
           2008
          ],
          [
           2009
          ],
          [
           2010
          ],
          [
           2011
          ],
          [
           2012
          ],
          [
           2013
          ],
          [
           2014
          ],
          [
           2015
          ],
          [
           2016
          ],
          [
           2017
          ],
          [
           2018
          ],
          [
           2019
          ],
          [
           2020
          ],
          [
           2021
          ],
          [
           2022
          ],
          [
           2023
          ]
         ],
         "hovertemplate": "Postal Code=%{x}<br>Density of Population (Population per km^2)=%{y}<br>Year=%{customdata[0]}<extra></extra>",
         "legendgroup": "1050",
         "marker": {
          "color": "#FFA15A",
          "symbol": "circle"
         },
         "mode": "markers",
         "name": "1050",
         "orientation": "v",
         "showlegend": true,
         "type": "scatter",
         "x": [
          "1050",
          "1050",
          "1050",
          "1050",
          "1050",
          "1050",
          "1050",
          "1050",
          "1050",
          "1050",
          "1050",
          "1050",
          "1050",
          "1050",
          "1050",
          "1050",
          "1050",
          "1050",
          "1050",
          "1050",
          "1050",
          "1050"
         ],
         "xaxis": "x",
         "y": [
          24748.48,
          25037.8,
          25401.18,
          25790.91,
          26115.03,
          25991.75,
          26065.32,
          25992.74,
          26025.55,
          26223.89,
          26138.39,
          26381.97,
          26649.91,
          26966.08,
          27310.07,
          27517.86,
          27659.04,
          27543.22,
          27402.04,
          27029.21,
          26710.06,
          27349.84
         ],
         "yaxis": "y"
        },
        {
         "customdata": [
          [
           2002
          ],
          [
           2003
          ],
          [
           2004
          ],
          [
           2005
          ],
          [
           2006
          ],
          [
           2007
          ],
          [
           2008
          ],
          [
           2009
          ],
          [
           2010
          ],
          [
           2011
          ],
          [
           2012
          ],
          [
           2013
          ],
          [
           2014
          ],
          [
           2015
          ],
          [
           2016
          ],
          [
           2017
          ],
          [
           2018
          ],
          [
           2019
          ],
          [
           2020
          ],
          [
           2021
          ],
          [
           2022
          ],
          [
           2023
          ]
         ],
         "hovertemplate": "Postal Code=%{x}<br>Density of Population (Population per km^2)=%{y}<br>Year=%{customdata[0]}<extra></extra>",
         "legendgroup": "1060",
         "marker": {
          "color": "#19d3f3",
          "symbol": "circle"
         },
         "mode": "markers",
         "name": "1060",
         "orientation": "v",
         "showlegend": true,
         "type": "scatter",
         "x": [
          "1060",
          "1060",
          "1060",
          "1060",
          "1060",
          "1060",
          "1060",
          "1060",
          "1060",
          "1060",
          "1060",
          "1060",
          "1060",
          "1060",
          "1060",
          "1060",
          "1060",
          "1060",
          "1060",
          "1060",
          "1060",
          "1060"
         ],
         "xaxis": "x",
         "y": [
          19604.22,
          19796.66,
          19855.76,
          19938.92,
          20184.27,
          20248.88,
          20226.2,
          20066.06,
          20152.66,
          20142.35,
          20197.33,
          20698.35,
          21039.23,
          21305.2,
          21731.31,
          21899.69,
          22039.89,
          21899,
          21752.61,
          21536.12,
          21276.34,
          21595.92
         ],
         "yaxis": "y"
        },
        {
         "customdata": [
          [
           2002
          ],
          [
           2003
          ],
          [
           2004
          ],
          [
           2005
          ],
          [
           2006
          ],
          [
           2007
          ],
          [
           2008
          ],
          [
           2009
          ],
          [
           2010
          ],
          [
           2011
          ],
          [
           2012
          ],
          [
           2013
          ],
          [
           2014
          ],
          [
           2015
          ],
          [
           2016
          ],
          [
           2017
          ],
          [
           2018
          ],
          [
           2019
          ],
          [
           2020
          ],
          [
           2021
          ],
          [
           2022
          ],
          [
           2023
          ]
         ],
         "hovertemplate": "Postal Code=%{x}<br>Density of Population (Population per km^2)=%{y}<br>Year=%{customdata[0]}<extra></extra>",
         "legendgroup": "1070",
         "marker": {
          "color": "#FF6692",
          "symbol": "circle"
         },
         "mode": "markers",
         "name": "1070",
         "orientation": "v",
         "showlegend": true,
         "type": "scatter",
         "x": [
          "1070",
          "1070",
          "1070",
          "1070",
          "1070",
          "1070",
          "1070",
          "1070",
          "1070",
          "1070",
          "1070",
          "1070",
          "1070",
          "1070",
          "1070",
          "1070",
          "1070",
          "1070",
          "1070",
          "1070",
          "1070",
          "1070"
         ],
         "xaxis": "x",
         "y": [
          17977.33,
          18012.15,
          18039.51,
          18132.15,
          18912.5,
          18625.86,
          18687.42,
          18577.98,
          18696.74,
          18692.39,
          18716.64,
          18845.97,
          19146.3,
          19456.57,
          19909.86,
          20019.92,
          20187.81,
          20076.5,
          19873.18,
          19700.32,
          19478.34,
          19636.9
         ],
         "yaxis": "y"
        },
        {
         "customdata": [
          [
           2002
          ],
          [
           2003
          ],
          [
           2004
          ],
          [
           2005
          ],
          [
           2006
          ],
          [
           2007
          ],
          [
           2008
          ],
          [
           2009
          ],
          [
           2010
          ],
          [
           2011
          ],
          [
           2012
          ],
          [
           2013
          ],
          [
           2014
          ],
          [
           2015
          ],
          [
           2016
          ],
          [
           2017
          ],
          [
           2018
          ],
          [
           2019
          ],
          [
           2020
          ],
          [
           2021
          ],
          [
           2022
          ],
          [
           2023
          ]
         ],
         "hovertemplate": "Postal Code=%{x}<br>Density of Population (Population per km^2)=%{y}<br>Year=%{customdata[0]}<extra></extra>",
         "legendgroup": "1080",
         "marker": {
          "color": "#B6E880",
          "symbol": "circle"
         },
         "mode": "markers",
         "name": "1080",
         "orientation": "v",
         "showlegend": true,
         "type": "scatter",
         "x": [
          "1080",
          "1080",
          "1080",
          "1080",
          "1080",
          "1080",
          "1080",
          "1080",
          "1080",
          "1080",
          "1080",
          "1080",
          "1080",
          "1080",
          "1080",
          "1080",
          "1080",
          "1080",
          "1080",
          "1080",
          "1080",
          "1080"
         ],
         "xaxis": "x",
         "y": [
          20385.42,
          21245.1,
          21385.47,
          21641.45,
          21649.7,
          21664.38,
          21746.96,
          21688.24,
          21501.07,
          21449.69,
          21615.76,
          21955.22,
          22275.42,
          22494.7,
          22986.47,
          23421.35,
          23544.29,
          23364.47,
          22956.19,
          22354.32,
          22192.85,
          22637.83
         ],
         "yaxis": "y"
        },
        {
         "customdata": [
          [
           2002
          ],
          [
           2003
          ],
          [
           2004
          ],
          [
           2005
          ],
          [
           2006
          ],
          [
           2007
          ],
          [
           2008
          ],
          [
           2009
          ],
          [
           2010
          ],
          [
           2011
          ],
          [
           2012
          ],
          [
           2013
          ],
          [
           2014
          ],
          [
           2015
          ],
          [
           2016
          ],
          [
           2017
          ],
          [
           2018
          ],
          [
           2019
          ],
          [
           2020
          ],
          [
           2021
          ],
          [
           2022
          ],
          [
           2023
          ]
         ],
         "hovertemplate": "Postal Code=%{x}<br>Density of Population (Population per km^2)=%{y}<br>Year=%{customdata[0]}<extra></extra>",
         "legendgroup": "1090",
         "marker": {
          "color": "#FF97FF",
          "symbol": "circle"
         },
         "mode": "markers",
         "name": "1090",
         "orientation": "v",
         "showlegend": true,
         "type": "scatter",
         "x": [
          "1090",
          "1090",
          "1090",
          "1090",
          "1090",
          "1090",
          "1090",
          "1090",
          "1090",
          "1090",
          "1090",
          "1090",
          "1090",
          "1090",
          "1090",
          "1090",
          "1090",
          "1090",
          "1090",
          "1090",
          "1090",
          "1090"
         ],
         "xaxis": "x",
         "y": [
          12903.62,
          12908.34,
          13097.39,
          13301.95,
          13231.85,
          13196.81,
          13299.93,
          13199.16,
          13258.81,
          13249.04,
          13288.13,
          13469.1,
          13657.82,
          13777.11,
          14522.89,
          14392.81,
          14338.21,
          14139.72,
          14114.79,
          14090.52,
          13945.61,
          14223.3
         ],
         "yaxis": "y"
        },
        {
         "customdata": [
          [
           2002
          ],
          [
           2003
          ],
          [
           2004
          ],
          [
           2005
          ],
          [
           2006
          ],
          [
           2007
          ],
          [
           2008
          ],
          [
           2009
          ],
          [
           2010
          ],
          [
           2011
          ],
          [
           2012
          ],
          [
           2013
          ],
          [
           2014
          ],
          [
           2015
          ],
          [
           2016
          ],
          [
           2017
          ],
          [
           2018
          ],
          [
           2019
          ],
          [
           2020
          ],
          [
           2021
          ],
          [
           2022
          ],
          [
           2023
          ]
         ],
         "hovertemplate": "Postal Code=%{x}<br>Density of Population (Population per km^2)=%{y}<br>Year=%{customdata[0]}<extra></extra>",
         "legendgroup": "1100",
         "marker": {
          "color": "#FECB52",
          "symbol": "circle"
         },
         "mode": "markers",
         "name": "1100",
         "orientation": "v",
         "showlegend": true,
         "type": "scatter",
         "x": [
          "1100",
          "1100",
          "1100",
          "1100",
          "1100",
          "1100",
          "1100",
          "1100",
          "1100",
          "1100",
          "1100",
          "1100",
          "1100",
          "1100",
          "1100",
          "1100",
          "1100",
          "1100",
          "1100",
          "1100",
          "1100",
          "1100"
         ],
         "xaxis": "x",
         "y": [
          4800.6,
          4912.22,
          4998.81,
          5143.02,
          5254.34,
          5322.67,
          5376.08,
          5442.5,
          5490.32,
          5547.16,
          5603.71,
          5736.83,
          5857.95,
          5960.47,
          6118.59,
          6223.44,
          6342.8,
          6413.8,
          6509.66,
          6615.85,
          6668.7,
          6862.23
         ],
         "yaxis": "y"
        },
        {
         "customdata": [
          [
           2002
          ],
          [
           2003
          ],
          [
           2004
          ],
          [
           2005
          ],
          [
           2006
          ],
          [
           2007
          ],
          [
           2008
          ],
          [
           2009
          ],
          [
           2010
          ],
          [
           2011
          ],
          [
           2012
          ],
          [
           2013
          ],
          [
           2014
          ],
          [
           2015
          ],
          [
           2016
          ],
          [
           2017
          ],
          [
           2018
          ],
          [
           2019
          ],
          [
           2020
          ],
          [
           2021
          ],
          [
           2022
          ],
          [
           2023
          ]
         ],
         "hovertemplate": "Postal Code=%{x}<br>Density of Population (Population per km^2)=%{y}<br>Year=%{customdata[0]}<extra></extra>",
         "legendgroup": "1110",
         "marker": {
          "color": "#636efa",
          "symbol": "circle"
         },
         "mode": "markers",
         "name": "1110",
         "orientation": "v",
         "showlegend": true,
         "type": "scatter",
         "x": [
          "1110",
          "1110",
          "1110",
          "1110",
          "1110",
          "1110",
          "1110",
          "1110",
          "1110",
          "1110",
          "1110",
          "1110",
          "1110",
          "1110",
          "1110",
          "1110",
          "1110",
          "1110",
          "1110",
          "1110",
          "1110",
          "1110"
         ],
         "xaxis": "x",
         "y": [
          3387.68,
          3460.78,
          3498.79,
          3544.37,
          3556.97,
          3564.75,
          3690.78,
          3782.45,
          3846.74,
          3886.85,
          3922.5,
          3967.69,
          4017.83,
          4093.42,
          4185.61,
          4305.79,
          4360.96,
          4429.24,
          4490.56,
          4515.84,
          4561.25,
          4688.53
         ],
         "yaxis": "y"
        },
        {
         "customdata": [
          [
           2002
          ],
          [
           2003
          ],
          [
           2004
          ],
          [
           2005
          ],
          [
           2006
          ],
          [
           2007
          ],
          [
           2008
          ],
          [
           2009
          ],
          [
           2010
          ],
          [
           2011
          ],
          [
           2012
          ],
          [
           2013
          ],
          [
           2014
          ],
          [
           2015
          ],
          [
           2016
          ],
          [
           2017
          ],
          [
           2018
          ],
          [
           2019
          ],
          [
           2020
          ],
          [
           2021
          ],
          [
           2022
          ],
          [
           2023
          ]
         ],
         "hovertemplate": "Postal Code=%{x}<br>Density of Population (Population per km^2)=%{y}<br>Year=%{customdata[0]}<extra></extra>",
         "legendgroup": "1120",
         "marker": {
          "color": "#EF553B",
          "symbol": "circle"
         },
         "mode": "markers",
         "name": "1120",
         "orientation": "v",
         "showlegend": true,
         "type": "scatter",
         "x": [
          "1120",
          "1120",
          "1120",
          "1120",
          "1120",
          "1120",
          "1120",
          "1120",
          "1120",
          "1120",
          "1120",
          "1120",
          "1120",
          "1120",
          "1120",
          "1120",
          "1120",
          "1120",
          "1120",
          "1120",
          "1120",
          "1120"
         ],
         "xaxis": "x",
         "y": [
          9745.59,
          9905.9,
          10141.36,
          10288.71,
          10395.83,
          10490.97,
          10580.44,
          10730.26,
          10793.44,
          10862.68,
          10923.39,
          11059.26,
          11214.51,
          11381.73,
          11621.26,
          11841.54,
          12047.51,
          12048.74,
          11980.13,
          11970.26,
          12082.68,
          12375.4
         ],
         "yaxis": "y"
        },
        {
         "customdata": [
          [
           2002
          ],
          [
           2003
          ],
          [
           2004
          ],
          [
           2005
          ],
          [
           2006
          ],
          [
           2007
          ],
          [
           2008
          ],
          [
           2009
          ],
          [
           2010
          ],
          [
           2011
          ],
          [
           2012
          ],
          [
           2013
          ],
          [
           2014
          ],
          [
           2015
          ],
          [
           2016
          ],
          [
           2017
          ],
          [
           2018
          ],
          [
           2019
          ],
          [
           2020
          ],
          [
           2021
          ],
          [
           2022
          ],
          [
           2023
          ]
         ],
         "hovertemplate": "Postal Code=%{x}<br>Density of Population (Population per km^2)=%{y}<br>Year=%{customdata[0]}<extra></extra>",
         "legendgroup": "1130",
         "marker": {
          "color": "#00cc96",
          "symbol": "circle"
         },
         "mode": "markers",
         "name": "1130",
         "orientation": "v",
         "showlegend": true,
         "type": "scatter",
         "x": [
          "1130",
          "1130",
          "1130",
          "1130",
          "1130",
          "1130",
          "1130",
          "1130",
          "1130",
          "1130",
          "1130",
          "1130",
          "1130",
          "1130",
          "1130",
          "1130",
          "1130",
          "1130",
          "1130",
          "1130",
          "1130",
          "1130"
         ],
         "xaxis": "x",
         "y": [
          1334.78,
          1346.87,
          1349.5,
          1360.63,
          1361.69,
          1360.32,
          1355.62,
          1351.75,
          1352.65,
          1351.35,
          1342.98,
          1347.77,
          1359.55,
          1381.82,
          1426.84,
          1436.33,
          1438.83,
          1425.91,
          1432.86,
          1429.23,
          1430.71,
          1473.38
         ],
         "yaxis": "y"
        },
        {
         "customdata": [
          [
           2002
          ],
          [
           2003
          ],
          [
           2004
          ],
          [
           2005
          ],
          [
           2006
          ],
          [
           2007
          ],
          [
           2008
          ],
          [
           2009
          ],
          [
           2010
          ],
          [
           2011
          ],
          [
           2012
          ],
          [
           2013
          ],
          [
           2014
          ],
          [
           2015
          ],
          [
           2016
          ],
          [
           2017
          ],
          [
           2018
          ],
          [
           2019
          ],
          [
           2020
          ],
          [
           2021
          ],
          [
           2022
          ],
          [
           2023
          ]
         ],
         "hovertemplate": "Postal Code=%{x}<br>Density of Population (Population per km^2)=%{y}<br>Year=%{customdata[0]}<extra></extra>",
         "legendgroup": "1140",
         "marker": {
          "color": "#ab63fa",
          "symbol": "circle"
         },
         "mode": "markers",
         "name": "1140",
         "orientation": "v",
         "showlegend": true,
         "type": "scatter",
         "x": [
          "1140",
          "1140",
          "1140",
          "1140",
          "1140",
          "1140",
          "1140",
          "1140",
          "1140",
          "1140",
          "1140",
          "1140",
          "1140",
          "1140",
          "1140",
          "1140",
          "1140",
          "1140",
          "1140",
          "1140",
          "1140",
          "1140"
         ],
         "xaxis": "x",
         "y": [
          2344.03,
          2374.92,
          2384.4,
          2422.31,
          2453.23,
          2465.58,
          2480.54,
          2487.32,
          2490.58,
          2504.68,
          2516.73,
          2554.49,
          2594.45,
          2644.98,
          2712.89,
          2734.84,
          2747.13,
          2754.18,
          2773.25,
          2765.31,
          2754.15,
          2867.85
         ],
         "yaxis": "y"
        },
        {
         "customdata": [
          [
           2002
          ],
          [
           2003
          ],
          [
           2004
          ],
          [
           2005
          ],
          [
           2006
          ],
          [
           2007
          ],
          [
           2008
          ],
          [
           2009
          ],
          [
           2010
          ],
          [
           2011
          ],
          [
           2012
          ],
          [
           2013
          ],
          [
           2014
          ],
          [
           2015
          ],
          [
           2016
          ],
          [
           2017
          ],
          [
           2018
          ],
          [
           2019
          ],
          [
           2020
          ],
          [
           2021
          ],
          [
           2022
          ],
          [
           2023
          ]
         ],
         "hovertemplate": "Postal Code=%{x}<br>Density of Population (Population per km^2)=%{y}<br>Year=%{customdata[0]}<extra></extra>",
         "legendgroup": "1150",
         "marker": {
          "color": "#FFA15A",
          "symbol": "circle"
         },
         "mode": "markers",
         "name": "1150",
         "orientation": "v",
         "showlegend": true,
         "type": "scatter",
         "x": [
          "1150",
          "1150",
          "1150",
          "1150",
          "1150",
          "1150",
          "1150",
          "1150",
          "1150",
          "1150",
          "1150",
          "1150",
          "1150",
          "1150",
          "1150",
          "1150",
          "1150",
          "1150",
          "1150",
          "1150",
          "1150",
          "1150"
         ],
         "xaxis": "x",
         "y": [
          17221.55,
          17347.62,
          17547.7,
          17728.12,
          17924.12,
          17922.33,
          17938.41,
          18017.27,
          18075.96,
          18244.65,
          18285.48,
          18764.24,
          19086.82,
          19477.02,
          19994.83,
          20160.71,
          20168.37,
          19809.04,
          19602.84,
          19430.32,
          19302.21,
          19423.18
         ],
         "yaxis": "y"
        },
        {
         "customdata": [
          [
           2002
          ],
          [
           2003
          ],
          [
           2004
          ],
          [
           2005
          ],
          [
           2006
          ],
          [
           2007
          ],
          [
           2008
          ],
          [
           2009
          ],
          [
           2010
          ],
          [
           2011
          ],
          [
           2012
          ],
          [
           2013
          ],
          [
           2014
          ],
          [
           2015
          ],
          [
           2016
          ],
          [
           2017
          ],
          [
           2018
          ],
          [
           2019
          ],
          [
           2020
          ],
          [
           2021
          ],
          [
           2022
          ],
          [
           2023
          ]
         ],
         "hovertemplate": "Postal Code=%{x}<br>Density of Population (Population per km^2)=%{y}<br>Year=%{customdata[0]}<extra></extra>",
         "legendgroup": "1160",
         "marker": {
          "color": "#19d3f3",
          "symbol": "circle"
         },
         "mode": "markers",
         "name": "1160",
         "orientation": "v",
         "showlegend": true,
         "type": "scatter",
         "x": [
          "1160",
          "1160",
          "1160",
          "1160",
          "1160",
          "1160",
          "1160",
          "1160",
          "1160",
          "1160",
          "1160",
          "1160",
          "1160",
          "1160",
          "1160",
          "1160",
          "1160",
          "1160",
          "1160",
          "1160",
          "1160",
          "1160"
         ],
         "xaxis": "x",
         "y": [
          10136.46,
          10279.32,
          10356.45,
          10607.23,
          10817.07,
          10823.99,
          10860.43,
          10898.82,
          10932.26,
          10947.82,
          11034.64,
          11249.22,
          11425.51,
          11615.06,
          11830.33,
          12028.41,
          12063.46,
          11966.38,
          11889.36,
          11815.92,
          11718.83,
          11811.76
         ],
         "yaxis": "y"
        },
        {
         "customdata": [
          [
           2002
          ],
          [
           2003
          ],
          [
           2004
          ],
          [
           2005
          ],
          [
           2006
          ],
          [
           2007
          ],
          [
           2008
          ],
          [
           2009
          ],
          [
           2010
          ],
          [
           2011
          ],
          [
           2012
          ],
          [
           2013
          ],
          [
           2014
          ],
          [
           2015
          ],
          [
           2016
          ],
          [
           2017
          ],
          [
           2018
          ],
          [
           2019
          ],
          [
           2020
          ],
          [
           2021
          ],
          [
           2022
          ],
          [
           2023
          ]
         ],
         "hovertemplate": "Postal Code=%{x}<br>Density of Population (Population per km^2)=%{y}<br>Year=%{customdata[0]}<extra></extra>",
         "legendgroup": "1170",
         "marker": {
          "color": "#FF6692",
          "symbol": "circle"
         },
         "mode": "markers",
         "name": "1170",
         "orientation": "v",
         "showlegend": true,
         "type": "scatter",
         "x": [
          "1170",
          "1170",
          "1170",
          "1170",
          "1170",
          "1170",
          "1170",
          "1170",
          "1170",
          "1170",
          "1170",
          "1170",
          "1170",
          "1170",
          "1170",
          "1170",
          "1170",
          "1170",
          "1170",
          "1170",
          "1170",
          "1170"
         ],
         "xaxis": "x",
         "y": [
          4286.38,
          4339.14,
          4413.76,
          4504.88,
          4607.07,
          4619.88,
          4601.27,
          4587.14,
          4593.72,
          4590.65,
          4621.73,
          4695.64,
          4777.55,
          4883.42,
          4944.96,
          5019.66,
          5051.79,
          5029.5,
          5006.23,
          4958.92,
          4917.3,
          4918.97
         ],
         "yaxis": "y"
        },
        {
         "customdata": [
          [
           2002
          ],
          [
           2003
          ],
          [
           2004
          ],
          [
           2005
          ],
          [
           2006
          ],
          [
           2007
          ],
          [
           2008
          ],
          [
           2009
          ],
          [
           2010
          ],
          [
           2011
          ],
          [
           2012
          ],
          [
           2013
          ],
          [
           2014
          ],
          [
           2015
          ],
          [
           2016
          ],
          [
           2017
          ],
          [
           2018
          ],
          [
           2019
          ],
          [
           2020
          ],
          [
           2021
          ],
          [
           2022
          ],
          [
           2023
          ]
         ],
         "hovertemplate": "Postal Code=%{x}<br>Density of Population (Population per km^2)=%{y}<br>Year=%{customdata[0]}<extra></extra>",
         "legendgroup": "1180",
         "marker": {
          "color": "#B6E880",
          "symbol": "circle"
         },
         "mode": "markers",
         "name": "1180",
         "orientation": "v",
         "showlegend": true,
         "type": "scatter",
         "x": [
          "1180",
          "1180",
          "1180",
          "1180",
          "1180",
          "1180",
          "1180",
          "1180",
          "1180",
          "1180",
          "1180",
          "1180",
          "1180",
          "1180",
          "1180",
          "1180",
          "1180",
          "1180",
          "1180",
          "1180",
          "1180",
          "1180"
         ],
         "xaxis": "x",
         "y": [
          7169.3,
          7227.12,
          7295.97,
          7392.39,
          7450.68,
          7457.3,
          7480.14,
          7502.36,
          7514.02,
          7495.43,
          7504.41,
          7587.91,
          7619.89,
          7747.98,
          7922.07,
          8055.2,
          8136.97,
          8127.52,
          8113.34,
          8086.55,
          8013.77,
          8123.11
         ],
         "yaxis": "y"
        },
        {
         "customdata": [
          [
           2002
          ],
          [
           2003
          ],
          [
           2004
          ],
          [
           2005
          ],
          [
           2006
          ],
          [
           2007
          ],
          [
           2008
          ],
          [
           2009
          ],
          [
           2010
          ],
          [
           2011
          ],
          [
           2012
          ],
          [
           2013
          ],
          [
           2014
          ],
          [
           2015
          ],
          [
           2016
          ],
          [
           2017
          ],
          [
           2018
          ],
          [
           2019
          ],
          [
           2020
          ],
          [
           2021
          ],
          [
           2022
          ],
          [
           2023
          ]
         ],
         "hovertemplate": "Postal Code=%{x}<br>Density of Population (Population per km^2)=%{y}<br>Year=%{customdata[0]}<extra></extra>",
         "legendgroup": "1190",
         "marker": {
          "color": "#FF97FF",
          "symbol": "circle"
         },
         "mode": "markers",
         "name": "1190",
         "orientation": "v",
         "showlegend": true,
         "type": "scatter",
         "x": [
          "1190",
          "1190",
          "1190",
          "1190",
          "1190",
          "1190",
          "1190",
          "1190",
          "1190",
          "1190",
          "1190",
          "1190",
          "1190",
          "1190",
          "1190",
          "1190",
          "1190",
          "1190",
          "1190",
          "1190",
          "1190",
          "1190"
         ],
         "xaxis": "x",
         "y": [
          2618.96,
          2646.62,
          2663.46,
          2682.02,
          2701.62,
          2719.38,
          2724.56,
          2719.58,
          2720.71,
          2729.29,
          2744.56,
          2761.88,
          2775.91,
          2806.26,
          2870.8,
          2890.77,
          2912.54,
          2924.44,
          2962.69,
          2961.09,
          2961.57,
          3027.48
         ],
         "yaxis": "y"
        },
        {
         "customdata": [
          [
           2002
          ],
          [
           2003
          ],
          [
           2004
          ],
          [
           2005
          ],
          [
           2006
          ],
          [
           2007
          ],
          [
           2008
          ],
          [
           2009
          ],
          [
           2010
          ],
          [
           2011
          ],
          [
           2012
          ],
          [
           2013
          ],
          [
           2014
          ],
          [
           2015
          ],
          [
           2016
          ],
          [
           2017
          ],
          [
           2018
          ],
          [
           2019
          ],
          [
           2020
          ],
          [
           2021
          ],
          [
           2022
          ],
          [
           2023
          ]
         ],
         "hovertemplate": "Postal Code=%{x}<br>Density of Population (Population per km^2)=%{y}<br>Year=%{customdata[0]}<extra></extra>",
         "legendgroup": "1200",
         "marker": {
          "color": "#FECB52",
          "symbol": "circle"
         },
         "mode": "markers",
         "name": "1200",
         "orientation": "v",
         "showlegend": true,
         "type": "scatter",
         "x": [
          "1200",
          "1200",
          "1200",
          "1200",
          "1200",
          "1200",
          "1200",
          "1200",
          "1200",
          "1200",
          "1200",
          "1200",
          "1200",
          "1200",
          "1200",
          "1200",
          "1200",
          "1200",
          "1200",
          "1200",
          "1200",
          "1200"
         ],
         "xaxis": "x",
         "y": [
          13455.45,
          13797.8,
          13911.45,
          14142.08,
          14234.89,
          14310.37,
          14297.94,
          14357.13,
          14374.11,
          14529.27,
          14596.16,
          14705.78,
          14763.22,
          14976.86,
          15027.65,
          15212.05,
          15277.02,
          15147.95,
          15124.49,
          14931.16,
          14792.29,
          15005.76
         ],
         "yaxis": "y"
        },
        {
         "customdata": [
          [
           2002
          ],
          [
           2003
          ],
          [
           2004
          ],
          [
           2005
          ],
          [
           2006
          ],
          [
           2007
          ],
          [
           2008
          ],
          [
           2009
          ],
          [
           2010
          ],
          [
           2011
          ],
          [
           2012
          ],
          [
           2013
          ],
          [
           2014
          ],
          [
           2015
          ],
          [
           2016
          ],
          [
           2017
          ],
          [
           2018
          ],
          [
           2019
          ],
          [
           2020
          ],
          [
           2021
          ],
          [
           2022
          ],
          [
           2023
          ]
         ],
         "hovertemplate": "Postal Code=%{x}<br>Density of Population (Population per km^2)=%{y}<br>Year=%{customdata[0]}<extra></extra>",
         "legendgroup": "1210",
         "marker": {
          "color": "#636efa",
          "symbol": "circle"
         },
         "mode": "markers",
         "name": "1210",
         "orientation": "v",
         "showlegend": true,
         "type": "scatter",
         "x": [
          "1210",
          "1210",
          "1210",
          "1210",
          "1210",
          "1210",
          "1210",
          "1210",
          "1210",
          "1210",
          "1210",
          "1210",
          "1210",
          "1210",
          "1210",
          "1210",
          "1210",
          "1210",
          "1210",
          "1210",
          "1210",
          "1210"
         ],
         "xaxis": "x",
         "y": [
          2918.91,
          2967.65,
          3010.6,
          3035.42,
          3074.15,
          3090.12,
          3120.34,
          3138.79,
          3164.64,
          3199.56,
          3246.01,
          3296.7,
          3351.4,
          3416.58,
          3509.78,
          3571.12,
          3662.63,
          3727.74,
          3779.38,
          3913.22,
          4009.27,
          4137.75
         ],
         "yaxis": "y"
        },
        {
         "customdata": [
          [
           2002
          ],
          [
           2003
          ],
          [
           2004
          ],
          [
           2005
          ],
          [
           2006
          ],
          [
           2007
          ],
          [
           2008
          ],
          [
           2009
          ],
          [
           2010
          ],
          [
           2011
          ],
          [
           2012
          ],
          [
           2013
          ],
          [
           2014
          ],
          [
           2015
          ],
          [
           2016
          ],
          [
           2017
          ],
          [
           2018
          ],
          [
           2019
          ],
          [
           2020
          ],
          [
           2021
          ],
          [
           2022
          ],
          [
           2023
          ]
         ],
         "hovertemplate": "Postal Code=%{x}<br>Density of Population (Population per km^2)=%{y}<br>Year=%{customdata[0]}<extra></extra>",
         "legendgroup": "1220",
         "marker": {
          "color": "#EF553B",
          "symbol": "circle"
         },
         "mode": "markers",
         "name": "1220",
         "orientation": "v",
         "showlegend": true,
         "type": "scatter",
         "x": [
          "1220",
          "1220",
          "1220",
          "1220",
          "1220",
          "1220",
          "1220",
          "1220",
          "1220",
          "1220",
          "1220",
          "1220",
          "1220",
          "1220",
          "1220",
          "1220",
          "1220",
          "1220",
          "1220",
          "1220",
          "1220",
          "1220"
         ],
         "xaxis": "x",
         "y": [
          1349.96,
          1372.48,
          1394.14,
          1415.65,
          1435.9,
          1457.32,
          1475.74,
          1497.06,
          1520.31,
          1548.56,
          1583.17,
          1615.5,
          1646.09,
          1690.9,
          1762.2,
          1800.48,
          1828.03,
          1867.15,
          1908.42,
          1943.37,
          1992.41,
          2078.78
         ],
         "yaxis": "y"
        },
        {
         "customdata": [
          [
           2002
          ],
          [
           2003
          ],
          [
           2004
          ],
          [
           2005
          ],
          [
           2006
          ],
          [
           2007
          ],
          [
           2008
          ],
          [
           2009
          ],
          [
           2010
          ],
          [
           2011
          ],
          [
           2012
          ],
          [
           2013
          ],
          [
           2014
          ],
          [
           2015
          ],
          [
           2016
          ],
          [
           2017
          ],
          [
           2018
          ],
          [
           2019
          ],
          [
           2020
          ],
          [
           2021
          ],
          [
           2022
          ],
          [
           2023
          ]
         ],
         "hovertemplate": "Postal Code=%{x}<br>Density of Population (Population per km^2)=%{y}<br>Year=%{customdata[0]}<extra></extra>",
         "legendgroup": "1230",
         "marker": {
          "color": "#00cc96",
          "symbol": "circle"
         },
         "mode": "markers",
         "name": "1230",
         "orientation": "v",
         "showlegend": true,
         "type": "scatter",
         "x": [
          "1230",
          "1230",
          "1230",
          "1230",
          "1230",
          "1230",
          "1230",
          "1230",
          "1230",
          "1230",
          "1230",
          "1230",
          "1230",
          "1230",
          "1230",
          "1230",
          "1230",
          "1230",
          "1230",
          "1230",
          "1230",
          "1230"
         ],
         "xaxis": "x",
         "y": [
          2675.81,
          2697.48,
          2716.01,
          2735.85,
          2778.33,
          2816.16,
          2844.26,
          2857.71,
          2877.33,
          2912.32,
          2946.47,
          2971.24,
          2997.16,
          3018.4,
          3068.8,
          3151.83,
          3239.66,
          3314.89,
          3445.35,
          3487.4,
          3592.26,
          3676.72
         ],
         "yaxis": "y"
        }
       ],
       "layout": {
        "height": 650,
        "legend": {
         "title": {
          "text": "Postal Code"
         },
         "tracegroupgap": 0
        },
        "template": {
         "data": {
          "bar": [
           {
            "error_x": {
             "color": "#2a3f5f"
            },
            "error_y": {
             "color": "#2a3f5f"
            },
            "marker": {
             "line": {
              "color": "#E5ECF6",
              "width": 0.5
             },
             "pattern": {
              "fillmode": "overlay",
              "size": 10,
              "solidity": 0.2
             }
            },
            "type": "bar"
           }
          ],
          "barpolar": [
           {
            "marker": {
             "line": {
              "color": "#E5ECF6",
              "width": 0.5
             },
             "pattern": {
              "fillmode": "overlay",
              "size": 10,
              "solidity": 0.2
             }
            },
            "type": "barpolar"
           }
          ],
          "carpet": [
           {
            "aaxis": {
             "endlinecolor": "#2a3f5f",
             "gridcolor": "white",
             "linecolor": "white",
             "minorgridcolor": "white",
             "startlinecolor": "#2a3f5f"
            },
            "baxis": {
             "endlinecolor": "#2a3f5f",
             "gridcolor": "white",
             "linecolor": "white",
             "minorgridcolor": "white",
             "startlinecolor": "#2a3f5f"
            },
            "type": "carpet"
           }
          ],
          "choropleth": [
           {
            "colorbar": {
             "outlinewidth": 0,
             "ticks": ""
            },
            "type": "choropleth"
           }
          ],
          "contour": [
           {
            "colorbar": {
             "outlinewidth": 0,
             "ticks": ""
            },
            "colorscale": [
             [
              0,
              "#0d0887"
             ],
             [
              0.1111111111111111,
              "#46039f"
             ],
             [
              0.2222222222222222,
              "#7201a8"
             ],
             [
              0.3333333333333333,
              "#9c179e"
             ],
             [
              0.4444444444444444,
              "#bd3786"
             ],
             [
              0.5555555555555556,
              "#d8576b"
             ],
             [
              0.6666666666666666,
              "#ed7953"
             ],
             [
              0.7777777777777778,
              "#fb9f3a"
             ],
             [
              0.8888888888888888,
              "#fdca26"
             ],
             [
              1,
              "#f0f921"
             ]
            ],
            "type": "contour"
           }
          ],
          "contourcarpet": [
           {
            "colorbar": {
             "outlinewidth": 0,
             "ticks": ""
            },
            "type": "contourcarpet"
           }
          ],
          "heatmap": [
           {
            "colorbar": {
             "outlinewidth": 0,
             "ticks": ""
            },
            "colorscale": [
             [
              0,
              "#0d0887"
             ],
             [
              0.1111111111111111,
              "#46039f"
             ],
             [
              0.2222222222222222,
              "#7201a8"
             ],
             [
              0.3333333333333333,
              "#9c179e"
             ],
             [
              0.4444444444444444,
              "#bd3786"
             ],
             [
              0.5555555555555556,
              "#d8576b"
             ],
             [
              0.6666666666666666,
              "#ed7953"
             ],
             [
              0.7777777777777778,
              "#fb9f3a"
             ],
             [
              0.8888888888888888,
              "#fdca26"
             ],
             [
              1,
              "#f0f921"
             ]
            ],
            "type": "heatmap"
           }
          ],
          "heatmapgl": [
           {
            "colorbar": {
             "outlinewidth": 0,
             "ticks": ""
            },
            "colorscale": [
             [
              0,
              "#0d0887"
             ],
             [
              0.1111111111111111,
              "#46039f"
             ],
             [
              0.2222222222222222,
              "#7201a8"
             ],
             [
              0.3333333333333333,
              "#9c179e"
             ],
             [
              0.4444444444444444,
              "#bd3786"
             ],
             [
              0.5555555555555556,
              "#d8576b"
             ],
             [
              0.6666666666666666,
              "#ed7953"
             ],
             [
              0.7777777777777778,
              "#fb9f3a"
             ],
             [
              0.8888888888888888,
              "#fdca26"
             ],
             [
              1,
              "#f0f921"
             ]
            ],
            "type": "heatmapgl"
           }
          ],
          "histogram": [
           {
            "marker": {
             "pattern": {
              "fillmode": "overlay",
              "size": 10,
              "solidity": 0.2
             }
            },
            "type": "histogram"
           }
          ],
          "histogram2d": [
           {
            "colorbar": {
             "outlinewidth": 0,
             "ticks": ""
            },
            "colorscale": [
             [
              0,
              "#0d0887"
             ],
             [
              0.1111111111111111,
              "#46039f"
             ],
             [
              0.2222222222222222,
              "#7201a8"
             ],
             [
              0.3333333333333333,
              "#9c179e"
             ],
             [
              0.4444444444444444,
              "#bd3786"
             ],
             [
              0.5555555555555556,
              "#d8576b"
             ],
             [
              0.6666666666666666,
              "#ed7953"
             ],
             [
              0.7777777777777778,
              "#fb9f3a"
             ],
             [
              0.8888888888888888,
              "#fdca26"
             ],
             [
              1,
              "#f0f921"
             ]
            ],
            "type": "histogram2d"
           }
          ],
          "histogram2dcontour": [
           {
            "colorbar": {
             "outlinewidth": 0,
             "ticks": ""
            },
            "colorscale": [
             [
              0,
              "#0d0887"
             ],
             [
              0.1111111111111111,
              "#46039f"
             ],
             [
              0.2222222222222222,
              "#7201a8"
             ],
             [
              0.3333333333333333,
              "#9c179e"
             ],
             [
              0.4444444444444444,
              "#bd3786"
             ],
             [
              0.5555555555555556,
              "#d8576b"
             ],
             [
              0.6666666666666666,
              "#ed7953"
             ],
             [
              0.7777777777777778,
              "#fb9f3a"
             ],
             [
              0.8888888888888888,
              "#fdca26"
             ],
             [
              1,
              "#f0f921"
             ]
            ],
            "type": "histogram2dcontour"
           }
          ],
          "mesh3d": [
           {
            "colorbar": {
             "outlinewidth": 0,
             "ticks": ""
            },
            "type": "mesh3d"
           }
          ],
          "parcoords": [
           {
            "line": {
             "colorbar": {
              "outlinewidth": 0,
              "ticks": ""
             }
            },
            "type": "parcoords"
           }
          ],
          "pie": [
           {
            "automargin": true,
            "type": "pie"
           }
          ],
          "scatter": [
           {
            "fillpattern": {
             "fillmode": "overlay",
             "size": 10,
             "solidity": 0.2
            },
            "type": "scatter"
           }
          ],
          "scatter3d": [
           {
            "line": {
             "colorbar": {
              "outlinewidth": 0,
              "ticks": ""
             }
            },
            "marker": {
             "colorbar": {
              "outlinewidth": 0,
              "ticks": ""
             }
            },
            "type": "scatter3d"
           }
          ],
          "scattercarpet": [
           {
            "marker": {
             "colorbar": {
              "outlinewidth": 0,
              "ticks": ""
             }
            },
            "type": "scattercarpet"
           }
          ],
          "scattergeo": [
           {
            "marker": {
             "colorbar": {
              "outlinewidth": 0,
              "ticks": ""
             }
            },
            "type": "scattergeo"
           }
          ],
          "scattergl": [
           {
            "marker": {
             "colorbar": {
              "outlinewidth": 0,
              "ticks": ""
             }
            },
            "type": "scattergl"
           }
          ],
          "scattermapbox": [
           {
            "marker": {
             "colorbar": {
              "outlinewidth": 0,
              "ticks": ""
             }
            },
            "type": "scattermapbox"
           }
          ],
          "scatterpolar": [
           {
            "marker": {
             "colorbar": {
              "outlinewidth": 0,
              "ticks": ""
             }
            },
            "type": "scatterpolar"
           }
          ],
          "scatterpolargl": [
           {
            "marker": {
             "colorbar": {
              "outlinewidth": 0,
              "ticks": ""
             }
            },
            "type": "scatterpolargl"
           }
          ],
          "scatterternary": [
           {
            "marker": {
             "colorbar": {
              "outlinewidth": 0,
              "ticks": ""
             }
            },
            "type": "scatterternary"
           }
          ],
          "surface": [
           {
            "colorbar": {
             "outlinewidth": 0,
             "ticks": ""
            },
            "colorscale": [
             [
              0,
              "#0d0887"
             ],
             [
              0.1111111111111111,
              "#46039f"
             ],
             [
              0.2222222222222222,
              "#7201a8"
             ],
             [
              0.3333333333333333,
              "#9c179e"
             ],
             [
              0.4444444444444444,
              "#bd3786"
             ],
             [
              0.5555555555555556,
              "#d8576b"
             ],
             [
              0.6666666666666666,
              "#ed7953"
             ],
             [
              0.7777777777777778,
              "#fb9f3a"
             ],
             [
              0.8888888888888888,
              "#fdca26"
             ],
             [
              1,
              "#f0f921"
             ]
            ],
            "type": "surface"
           }
          ],
          "table": [
           {
            "cells": {
             "fill": {
              "color": "#EBF0F8"
             },
             "line": {
              "color": "white"
             }
            },
            "header": {
             "fill": {
              "color": "#C8D4E3"
             },
             "line": {
              "color": "white"
             }
            },
            "type": "table"
           }
          ]
         },
         "layout": {
          "annotationdefaults": {
           "arrowcolor": "#2a3f5f",
           "arrowhead": 0,
           "arrowwidth": 1
          },
          "autotypenumbers": "strict",
          "coloraxis": {
           "colorbar": {
            "outlinewidth": 0,
            "ticks": ""
           }
          },
          "colorscale": {
           "diverging": [
            [
             0,
             "#8e0152"
            ],
            [
             0.1,
             "#c51b7d"
            ],
            [
             0.2,
             "#de77ae"
            ],
            [
             0.3,
             "#f1b6da"
            ],
            [
             0.4,
             "#fde0ef"
            ],
            [
             0.5,
             "#f7f7f7"
            ],
            [
             0.6,
             "#e6f5d0"
            ],
            [
             0.7,
             "#b8e186"
            ],
            [
             0.8,
             "#7fbc41"
            ],
            [
             0.9,
             "#4d9221"
            ],
            [
             1,
             "#276419"
            ]
           ],
           "sequential": [
            [
             0,
             "#0d0887"
            ],
            [
             0.1111111111111111,
             "#46039f"
            ],
            [
             0.2222222222222222,
             "#7201a8"
            ],
            [
             0.3333333333333333,
             "#9c179e"
            ],
            [
             0.4444444444444444,
             "#bd3786"
            ],
            [
             0.5555555555555556,
             "#d8576b"
            ],
            [
             0.6666666666666666,
             "#ed7953"
            ],
            [
             0.7777777777777778,
             "#fb9f3a"
            ],
            [
             0.8888888888888888,
             "#fdca26"
            ],
            [
             1,
             "#f0f921"
            ]
           ],
           "sequentialminus": [
            [
             0,
             "#0d0887"
            ],
            [
             0.1111111111111111,
             "#46039f"
            ],
            [
             0.2222222222222222,
             "#7201a8"
            ],
            [
             0.3333333333333333,
             "#9c179e"
            ],
            [
             0.4444444444444444,
             "#bd3786"
            ],
            [
             0.5555555555555556,
             "#d8576b"
            ],
            [
             0.6666666666666666,
             "#ed7953"
            ],
            [
             0.7777777777777778,
             "#fb9f3a"
            ],
            [
             0.8888888888888888,
             "#fdca26"
            ],
            [
             1,
             "#f0f921"
            ]
           ]
          },
          "colorway": [
           "#636efa",
           "#EF553B",
           "#00cc96",
           "#ab63fa",
           "#FFA15A",
           "#19d3f3",
           "#FF6692",
           "#B6E880",
           "#FF97FF",
           "#FECB52"
          ],
          "font": {
           "color": "#2a3f5f"
          },
          "geo": {
           "bgcolor": "white",
           "lakecolor": "white",
           "landcolor": "#E5ECF6",
           "showlakes": true,
           "showland": true,
           "subunitcolor": "white"
          },
          "hoverlabel": {
           "align": "left"
          },
          "hovermode": "closest",
          "mapbox": {
           "style": "light"
          },
          "paper_bgcolor": "white",
          "plot_bgcolor": "#E5ECF6",
          "polar": {
           "angularaxis": {
            "gridcolor": "white",
            "linecolor": "white",
            "ticks": ""
           },
           "bgcolor": "#E5ECF6",
           "radialaxis": {
            "gridcolor": "white",
            "linecolor": "white",
            "ticks": ""
           }
          },
          "scene": {
           "xaxis": {
            "backgroundcolor": "#E5ECF6",
            "gridcolor": "white",
            "gridwidth": 2,
            "linecolor": "white",
            "showbackground": true,
            "ticks": "",
            "zerolinecolor": "white"
           },
           "yaxis": {
            "backgroundcolor": "#E5ECF6",
            "gridcolor": "white",
            "gridwidth": 2,
            "linecolor": "white",
            "showbackground": true,
            "ticks": "",
            "zerolinecolor": "white"
           },
           "zaxis": {
            "backgroundcolor": "#E5ECF6",
            "gridcolor": "white",
            "gridwidth": 2,
            "linecolor": "white",
            "showbackground": true,
            "ticks": "",
            "zerolinecolor": "white"
           }
          },
          "shapedefaults": {
           "line": {
            "color": "#2a3f5f"
           }
          },
          "ternary": {
           "aaxis": {
            "gridcolor": "white",
            "linecolor": "white",
            "ticks": ""
           },
           "baxis": {
            "gridcolor": "white",
            "linecolor": "white",
            "ticks": ""
           },
           "bgcolor": "#E5ECF6",
           "caxis": {
            "gridcolor": "white",
            "linecolor": "white",
            "ticks": ""
           }
          },
          "title": {
           "x": 0.05
          },
          "xaxis": {
           "automargin": true,
           "gridcolor": "white",
           "linecolor": "white",
           "ticks": "",
           "title": {
            "standoff": 15
           },
           "zerolinecolor": "white",
           "zerolinewidth": 2
          },
          "yaxis": {
           "automargin": true,
           "gridcolor": "white",
           "linecolor": "white",
           "ticks": "",
           "title": {
            "standoff": 15
           },
           "zerolinecolor": "white",
           "zerolinewidth": 2
          }
         }
        },
        "title": {
         "text": "Population Density in each District from 2002 to 2023"
        },
        "width": 800,
        "xaxis": {
         "anchor": "y",
         "categoryarray": [
          "1010",
          "1020",
          "1030",
          "1040",
          "1050",
          "1060",
          "1070",
          "1080",
          "1090",
          "1100",
          "1110",
          "1120",
          "1130",
          "1140",
          "1150",
          "1160",
          "1170",
          "1180",
          "1190",
          "1200",
          "1210",
          "1220",
          "1230"
         ],
         "categoryorder": "array",
         "domain": [
          0,
          1
         ],
         "title": {
          "text": "Postal Code"
         }
        },
        "yaxis": {
         "anchor": "x",
         "domain": [
          0,
          1
         ],
         "title": {
          "text": "Density of Population (Population per km^2)"
         }
        }
       }
      }
     },
     "metadata": {},
     "output_type": "display_data"
    }
   ],
   "source": [
    "#Plot the population density for each district\n",
    "#Need to exclude rows that show data for whole of Vienna\n",
    "df_h4_dogs_pop_dist = df_h4_dogs_pop[df_h4_dogs_pop['DISTRICT_CODE']!=90000]\n",
    "\n",
    "fig = px.scatter(df_h4_dogs_pop_dist, x='Postal_CODE', y='POP_DENSITY',\n",
    "              color='Postal_CODE',\n",
    "              hover_data='REF_YEAR',\n",
    "              width=800, height=650,\n",
    "                 labels={\n",
    "                     \"POP_DENSITY\": \"Density of Population (Population per km^2)\",\n",
    "                     \"Postal_CODE\": \"Postal Code\",\n",
    "                     \"REF_YEAR\": \"Year\"\n",
    "                  },\n",
    "              title='Population Density in each District from 2002 to 2023')\n",
    "fig.show()"
   ]
  },
  {
   "cell_type": "markdown",
   "id": "d75f2ad4",
   "metadata": {},
   "source": [
    "To find out if there is a correlation between the number of dogs and the population density we can plot the number of dogs in each district and the population density for those districts against each other"
   ]
  },
  {
   "cell_type": "code",
   "execution_count": 230,
   "id": "aa88b5b6",
   "metadata": {},
   "outputs": [
    {
     "data": {
      "application/vnd.plotly.v1+json": {
       "config": {
        "plotlyServerURL": "https://plot.ly"
       },
       "data": [
        {
         "customdata": [
          [
           "1010"
          ]
         ],
         "hovertemplate": "Postal Code=%{customdata[0]}<br>Density of Population=%{x}<br>Number of Dogs=%{y}<extra></extra>",
         "legendgroup": "1010",
         "marker": {
          "color": "#636efa",
          "size": 10,
          "symbol": "circle"
         },
         "mode": "markers+text",
         "name": "1010",
         "orientation": "v",
         "showlegend": false,
         "text": [
          "1010"
         ],
         "textposition": "top center",
         "type": "scatter",
         "x": [
          5793.42
         ],
         "xaxis": "x",
         "y": [
          497
         ],
         "yaxis": "y"
        },
        {
         "customdata": [
          [
           "1020"
          ]
         ],
         "hovertemplate": "Postal Code=%{customdata[0]}<br>Density of Population=%{x}<br>Number of Dogs=%{y}<extra></extra>",
         "legendgroup": "1020",
         "marker": {
          "color": "#EF553B",
          "size": 10,
          "symbol": "circle"
         },
         "mode": "markers+text",
         "name": "1020",
         "orientation": "v",
         "showlegend": false,
         "text": [
          "1020"
         ],
         "textposition": "top center",
         "type": "scatter",
         "x": [
          5626.7
         ],
         "xaxis": "x",
         "y": [
          2659
         ],
         "yaxis": "y"
        },
        {
         "customdata": [
          [
           "1030"
          ]
         ],
         "hovertemplate": "Postal Code=%{customdata[0]}<br>Density of Population=%{x}<br>Number of Dogs=%{y}<extra></extra>",
         "legendgroup": "1030",
         "marker": {
          "color": "#00cc96",
          "size": 10,
          "symbol": "circle"
         },
         "mode": "markers+text",
         "name": "1030",
         "orientation": "v",
         "showlegend": false,
         "text": [
          "1030"
         ],
         "textposition": "top center",
         "type": "scatter",
         "x": [
          13079.13
         ],
         "xaxis": "x",
         "y": [
          2463
         ],
         "yaxis": "y"
        },
        {
         "customdata": [
          [
           "1040"
          ]
         ],
         "hovertemplate": "Postal Code=%{customdata[0]}<br>Density of Population=%{x}<br>Number of Dogs=%{y}<extra></extra>",
         "legendgroup": "1040",
         "marker": {
          "color": "#ab63fa",
          "size": 10,
          "symbol": "circle"
         },
         "mode": "markers+text",
         "name": "1040",
         "orientation": "v",
         "showlegend": false,
         "text": [
          "1040"
         ],
         "textposition": "top center",
         "type": "scatter",
         "x": [
          18945.95
         ],
         "xaxis": "x",
         "y": [
          711
         ],
         "yaxis": "y"
        },
        {
         "customdata": [
          [
           "1050"
          ]
         ],
         "hovertemplate": "Postal Code=%{customdata[0]}<br>Density of Population=%{x}<br>Number of Dogs=%{y}<extra></extra>",
         "legendgroup": "1050",
         "marker": {
          "color": "#FFA15A",
          "size": 10,
          "symbol": "circle"
         },
         "mode": "markers+text",
         "name": "1050",
         "orientation": "v",
         "showlegend": false,
         "text": [
          "1050"
         ],
         "textposition": "top center",
         "type": "scatter",
         "x": [
          27349.84
         ],
         "xaxis": "x",
         "y": [
          948
         ],
         "yaxis": "y"
        },
        {
         "customdata": [
          [
           "1060"
          ]
         ],
         "hovertemplate": "Postal Code=%{customdata[0]}<br>Density of Population=%{x}<br>Number of Dogs=%{y}<extra></extra>",
         "legendgroup": "1060",
         "marker": {
          "color": "#19d3f3",
          "size": 10,
          "symbol": "circle"
         },
         "mode": "markers+text",
         "name": "1060",
         "orientation": "v",
         "showlegend": false,
         "text": [
          "1060"
         ],
         "textposition": "top center",
         "type": "scatter",
         "x": [
          21595.92
         ],
         "xaxis": "x",
         "y": [
          619
         ],
         "yaxis": "y"
        },
        {
         "customdata": [
          [
           "1070"
          ]
         ],
         "hovertemplate": "Postal Code=%{customdata[0]}<br>Density of Population=%{x}<br>Number of Dogs=%{y}<extra></extra>",
         "legendgroup": "1070",
         "marker": {
          "color": "#FF6692",
          "size": 10,
          "symbol": "circle"
         },
         "mode": "markers+text",
         "name": "1070",
         "orientation": "v",
         "showlegend": false,
         "text": [
          "1070"
         ],
         "textposition": "top center",
         "type": "scatter",
         "x": [
          19636.9
         ],
         "xaxis": "x",
         "y": [
          641
         ],
         "yaxis": "y"
        },
        {
         "customdata": [
          [
           "1080"
          ]
         ],
         "hovertemplate": "Postal Code=%{customdata[0]}<br>Density of Population=%{x}<br>Number of Dogs=%{y}<extra></extra>",
         "legendgroup": "1080",
         "marker": {
          "color": "#B6E880",
          "size": 10,
          "symbol": "circle"
         },
         "mode": "markers+text",
         "name": "1080",
         "orientation": "v",
         "showlegend": false,
         "text": [
          "1080"
         ],
         "textposition": "top center",
         "type": "scatter",
         "x": [
          22637.83
         ],
         "xaxis": "x",
         "y": [
          512
         ],
         "yaxis": "y"
        },
        {
         "customdata": [
          [
           "1090"
          ]
         ],
         "hovertemplate": "Postal Code=%{customdata[0]}<br>Density of Population=%{x}<br>Number of Dogs=%{y}<extra></extra>",
         "legendgroup": "1090",
         "marker": {
          "color": "#FF97FF",
          "size": 10,
          "symbol": "circle"
         },
         "mode": "markers+text",
         "name": "1090",
         "orientation": "v",
         "showlegend": false,
         "text": [
          "1090"
         ],
         "textposition": "top center",
         "type": "scatter",
         "x": [
          14223.3
         ],
         "xaxis": "x",
         "y": [
          974
         ],
         "yaxis": "y"
        },
        {
         "customdata": [
          [
           "1100"
          ]
         ],
         "hovertemplate": "Postal Code=%{customdata[0]}<br>Density of Population=%{x}<br>Number of Dogs=%{y}<extra></extra>",
         "legendgroup": "1100",
         "marker": {
          "color": "#FECB52",
          "size": 10,
          "symbol": "circle"
         },
         "mode": "markers+text",
         "name": "1100",
         "orientation": "v",
         "showlegend": false,
         "text": [
          "1100"
         ],
         "textposition": "top center",
         "type": "scatter",
         "x": [
          6862.23
         ],
         "xaxis": "x",
         "y": [
          5162
         ],
         "yaxis": "y"
        },
        {
         "customdata": [
          [
           "1110"
          ]
         ],
         "hovertemplate": "Postal Code=%{customdata[0]}<br>Density of Population=%{x}<br>Number of Dogs=%{y}<extra></extra>",
         "legendgroup": "1110",
         "marker": {
          "color": "#636efa",
          "size": 10,
          "symbol": "circle"
         },
         "mode": "markers+text",
         "name": "1110",
         "orientation": "v",
         "showlegend": false,
         "text": [
          "1110"
         ],
         "textposition": "top center",
         "type": "scatter",
         "x": [
          4688.53
         ],
         "xaxis": "x",
         "y": [
          3356
         ],
         "yaxis": "y"
        },
        {
         "customdata": [
          [
           "1120"
          ]
         ],
         "hovertemplate": "Postal Code=%{customdata[0]}<br>Density of Population=%{x}<br>Number of Dogs=%{y}<extra></extra>",
         "legendgroup": "1120",
         "marker": {
          "color": "#EF553B",
          "size": 10,
          "symbol": "circle"
         },
         "mode": "markers+text",
         "name": "1120",
         "orientation": "v",
         "showlegend": false,
         "text": [
          "1120"
         ],
         "textposition": "top center",
         "type": "scatter",
         "x": [
          12375.4
         ],
         "xaxis": "x",
         "y": [
          2316
         ],
         "yaxis": "y"
        },
        {
         "customdata": [
          [
           "1130"
          ]
         ],
         "hovertemplate": "Postal Code=%{customdata[0]}<br>Density of Population=%{x}<br>Number of Dogs=%{y}<extra></extra>",
         "legendgroup": "1130",
         "marker": {
          "color": "#00cc96",
          "size": 10,
          "symbol": "circle"
         },
         "mode": "markers+text",
         "name": "1130",
         "orientation": "v",
         "showlegend": false,
         "text": [
          "1130"
         ],
         "textposition": "top center",
         "type": "scatter",
         "x": [
          1473.38
         ],
         "xaxis": "x",
         "y": [
          2075
         ],
         "yaxis": "y"
        },
        {
         "customdata": [
          [
           "1140"
          ]
         ],
         "hovertemplate": "Postal Code=%{customdata[0]}<br>Density of Population=%{x}<br>Number of Dogs=%{y}<extra></extra>",
         "legendgroup": "1140",
         "marker": {
          "color": "#ab63fa",
          "size": 10,
          "symbol": "circle"
         },
         "mode": "markers+text",
         "name": "1140",
         "orientation": "v",
         "showlegend": false,
         "text": [
          "1140"
         ],
         "textposition": "top center",
         "type": "scatter",
         "x": [
          2867.85
         ],
         "xaxis": "x",
         "y": [
          3062
         ],
         "yaxis": "y"
        },
        {
         "customdata": [
          [
           "1150"
          ]
         ],
         "hovertemplate": "Postal Code=%{customdata[0]}<br>Density of Population=%{x}<br>Number of Dogs=%{y}<extra></extra>",
         "legendgroup": "1150",
         "marker": {
          "color": "#FFA15A",
          "size": 10,
          "symbol": "circle"
         },
         "mode": "markers+text",
         "name": "1150",
         "orientation": "v",
         "showlegend": false,
         "text": [
          "1150"
         ],
         "textposition": "top center",
         "type": "scatter",
         "x": [
          19423.18
         ],
         "xaxis": "x",
         "y": [
          1383
         ],
         "yaxis": "y"
        },
        {
         "customdata": [
          [
           "1160"
          ]
         ],
         "hovertemplate": "Postal Code=%{customdata[0]}<br>Density of Population=%{x}<br>Number of Dogs=%{y}<extra></extra>",
         "legendgroup": "1160",
         "marker": {
          "color": "#19d3f3",
          "size": 10,
          "symbol": "circle"
         },
         "mode": "markers+text",
         "name": "1160",
         "orientation": "v",
         "showlegend": false,
         "text": [
          "1160"
         ],
         "textposition": "top center",
         "type": "scatter",
         "x": [
          11811.76
         ],
         "xaxis": "x",
         "y": [
          2024
         ],
         "yaxis": "y"
        },
        {
         "customdata": [
          [
           "1170"
          ]
         ],
         "hovertemplate": "Postal Code=%{customdata[0]}<br>Density of Population=%{x}<br>Number of Dogs=%{y}<extra></extra>",
         "legendgroup": "1170",
         "marker": {
          "color": "#FF6692",
          "size": 10,
          "symbol": "circle"
         },
         "mode": "markers+text",
         "name": "1170",
         "orientation": "v",
         "showlegend": false,
         "text": [
          "1170"
         ],
         "textposition": "top center",
         "type": "scatter",
         "x": [
          4918.97
         ],
         "xaxis": "x",
         "y": [
          1423
         ],
         "yaxis": "y"
        },
        {
         "customdata": [
          [
           "1180"
          ]
         ],
         "hovertemplate": "Postal Code=%{customdata[0]}<br>Density of Population=%{x}<br>Number of Dogs=%{y}<extra></extra>",
         "legendgroup": "1180",
         "marker": {
          "color": "#B6E880",
          "size": 10,
          "symbol": "circle"
         },
         "mode": "markers+text",
         "name": "1180",
         "orientation": "v",
         "showlegend": false,
         "text": [
          "1180"
         ],
         "textposition": "top center",
         "type": "scatter",
         "x": [
          8123.11
         ],
         "xaxis": "x",
         "y": [
          1511
         ],
         "yaxis": "y"
        },
        {
         "customdata": [
          [
           "1190"
          ]
         ],
         "hovertemplate": "Postal Code=%{customdata[0]}<br>Density of Population=%{x}<br>Number of Dogs=%{y}<extra></extra>",
         "legendgroup": "1190",
         "marker": {
          "color": "#FF97FF",
          "size": 10,
          "symbol": "circle"
         },
         "mode": "markers+text",
         "name": "1190",
         "orientation": "v",
         "showlegend": false,
         "text": [
          "1190"
         ],
         "textposition": "top center",
         "type": "scatter",
         "x": [
          3027.48
         ],
         "xaxis": "x",
         "y": [
          2763
         ],
         "yaxis": "y"
        },
        {
         "customdata": [
          [
           "1200"
          ]
         ],
         "hovertemplate": "Postal Code=%{customdata[0]}<br>Density of Population=%{x}<br>Number of Dogs=%{y}<extra></extra>",
         "legendgroup": "1200",
         "marker": {
          "color": "#FECB52",
          "size": 10,
          "symbol": "circle"
         },
         "mode": "markers+text",
         "name": "1200",
         "orientation": "v",
         "showlegend": false,
         "text": [
          "1200"
         ],
         "textposition": "top center",
         "type": "scatter",
         "x": [
          15005.76
         ],
         "xaxis": "x",
         "y": [
          1767
         ],
         "yaxis": "y"
        },
        {
         "customdata": [
          [
           "1210"
          ]
         ],
         "hovertemplate": "Postal Code=%{customdata[0]}<br>Density of Population=%{x}<br>Number of Dogs=%{y}<extra></extra>",
         "legendgroup": "1210",
         "marker": {
          "color": "#636efa",
          "size": 10,
          "symbol": "circle"
         },
         "mode": "markers+text",
         "name": "1210",
         "orientation": "v",
         "showlegend": false,
         "text": [
          "1210"
         ],
         "textposition": "top center",
         "type": "scatter",
         "x": [
          4137.75
         ],
         "xaxis": "x",
         "y": [
          7340
         ],
         "yaxis": "y"
        },
        {
         "customdata": [
          [
           "1220"
          ]
         ],
         "hovertemplate": "Postal Code=%{customdata[0]}<br>Density of Population=%{x}<br>Number of Dogs=%{y}<extra></extra>",
         "legendgroup": "1220",
         "marker": {
          "color": "#EF553B",
          "size": 10,
          "symbol": "circle"
         },
         "mode": "markers+text",
         "name": "1220",
         "orientation": "v",
         "showlegend": false,
         "text": [
          "1220"
         ],
         "textposition": "top center",
         "type": "scatter",
         "x": [
          2078.78
         ],
         "xaxis": "x",
         "y": [
          9170
         ],
         "yaxis": "y"
        },
        {
         "customdata": [
          [
           "1230"
          ]
         ],
         "hovertemplate": "Postal Code=%{customdata[0]}<br>Density of Population=%{x}<br>Number of Dogs=%{y}<extra></extra>",
         "legendgroup": "1230",
         "marker": {
          "color": "#00cc96",
          "size": 10,
          "symbol": "circle"
         },
         "mode": "markers+text",
         "name": "1230",
         "orientation": "v",
         "showlegend": false,
         "text": [
          "1230"
         ],
         "textposition": "top center",
         "type": "scatter",
         "x": [
          3676.72
         ],
         "xaxis": "x",
         "y": [
          4525
         ],
         "yaxis": "y"
        }
       ],
       "layout": {
        "height": 700,
        "legend": {
         "title": {
          "text": "Postal Code"
         },
         "tracegroupgap": 0
        },
        "template": {
         "data": {
          "bar": [
           {
            "error_x": {
             "color": "#2a3f5f"
            },
            "error_y": {
             "color": "#2a3f5f"
            },
            "marker": {
             "line": {
              "color": "#E5ECF6",
              "width": 0.5
             },
             "pattern": {
              "fillmode": "overlay",
              "size": 10,
              "solidity": 0.2
             }
            },
            "type": "bar"
           }
          ],
          "barpolar": [
           {
            "marker": {
             "line": {
              "color": "#E5ECF6",
              "width": 0.5
             },
             "pattern": {
              "fillmode": "overlay",
              "size": 10,
              "solidity": 0.2
             }
            },
            "type": "barpolar"
           }
          ],
          "carpet": [
           {
            "aaxis": {
             "endlinecolor": "#2a3f5f",
             "gridcolor": "white",
             "linecolor": "white",
             "minorgridcolor": "white",
             "startlinecolor": "#2a3f5f"
            },
            "baxis": {
             "endlinecolor": "#2a3f5f",
             "gridcolor": "white",
             "linecolor": "white",
             "minorgridcolor": "white",
             "startlinecolor": "#2a3f5f"
            },
            "type": "carpet"
           }
          ],
          "choropleth": [
           {
            "colorbar": {
             "outlinewidth": 0,
             "ticks": ""
            },
            "type": "choropleth"
           }
          ],
          "contour": [
           {
            "colorbar": {
             "outlinewidth": 0,
             "ticks": ""
            },
            "colorscale": [
             [
              0,
              "#0d0887"
             ],
             [
              0.1111111111111111,
              "#46039f"
             ],
             [
              0.2222222222222222,
              "#7201a8"
             ],
             [
              0.3333333333333333,
              "#9c179e"
             ],
             [
              0.4444444444444444,
              "#bd3786"
             ],
             [
              0.5555555555555556,
              "#d8576b"
             ],
             [
              0.6666666666666666,
              "#ed7953"
             ],
             [
              0.7777777777777778,
              "#fb9f3a"
             ],
             [
              0.8888888888888888,
              "#fdca26"
             ],
             [
              1,
              "#f0f921"
             ]
            ],
            "type": "contour"
           }
          ],
          "contourcarpet": [
           {
            "colorbar": {
             "outlinewidth": 0,
             "ticks": ""
            },
            "type": "contourcarpet"
           }
          ],
          "heatmap": [
           {
            "colorbar": {
             "outlinewidth": 0,
             "ticks": ""
            },
            "colorscale": [
             [
              0,
              "#0d0887"
             ],
             [
              0.1111111111111111,
              "#46039f"
             ],
             [
              0.2222222222222222,
              "#7201a8"
             ],
             [
              0.3333333333333333,
              "#9c179e"
             ],
             [
              0.4444444444444444,
              "#bd3786"
             ],
             [
              0.5555555555555556,
              "#d8576b"
             ],
             [
              0.6666666666666666,
              "#ed7953"
             ],
             [
              0.7777777777777778,
              "#fb9f3a"
             ],
             [
              0.8888888888888888,
              "#fdca26"
             ],
             [
              1,
              "#f0f921"
             ]
            ],
            "type": "heatmap"
           }
          ],
          "heatmapgl": [
           {
            "colorbar": {
             "outlinewidth": 0,
             "ticks": ""
            },
            "colorscale": [
             [
              0,
              "#0d0887"
             ],
             [
              0.1111111111111111,
              "#46039f"
             ],
             [
              0.2222222222222222,
              "#7201a8"
             ],
             [
              0.3333333333333333,
              "#9c179e"
             ],
             [
              0.4444444444444444,
              "#bd3786"
             ],
             [
              0.5555555555555556,
              "#d8576b"
             ],
             [
              0.6666666666666666,
              "#ed7953"
             ],
             [
              0.7777777777777778,
              "#fb9f3a"
             ],
             [
              0.8888888888888888,
              "#fdca26"
             ],
             [
              1,
              "#f0f921"
             ]
            ],
            "type": "heatmapgl"
           }
          ],
          "histogram": [
           {
            "marker": {
             "pattern": {
              "fillmode": "overlay",
              "size": 10,
              "solidity": 0.2
             }
            },
            "type": "histogram"
           }
          ],
          "histogram2d": [
           {
            "colorbar": {
             "outlinewidth": 0,
             "ticks": ""
            },
            "colorscale": [
             [
              0,
              "#0d0887"
             ],
             [
              0.1111111111111111,
              "#46039f"
             ],
             [
              0.2222222222222222,
              "#7201a8"
             ],
             [
              0.3333333333333333,
              "#9c179e"
             ],
             [
              0.4444444444444444,
              "#bd3786"
             ],
             [
              0.5555555555555556,
              "#d8576b"
             ],
             [
              0.6666666666666666,
              "#ed7953"
             ],
             [
              0.7777777777777778,
              "#fb9f3a"
             ],
             [
              0.8888888888888888,
              "#fdca26"
             ],
             [
              1,
              "#f0f921"
             ]
            ],
            "type": "histogram2d"
           }
          ],
          "histogram2dcontour": [
           {
            "colorbar": {
             "outlinewidth": 0,
             "ticks": ""
            },
            "colorscale": [
             [
              0,
              "#0d0887"
             ],
             [
              0.1111111111111111,
              "#46039f"
             ],
             [
              0.2222222222222222,
              "#7201a8"
             ],
             [
              0.3333333333333333,
              "#9c179e"
             ],
             [
              0.4444444444444444,
              "#bd3786"
             ],
             [
              0.5555555555555556,
              "#d8576b"
             ],
             [
              0.6666666666666666,
              "#ed7953"
             ],
             [
              0.7777777777777778,
              "#fb9f3a"
             ],
             [
              0.8888888888888888,
              "#fdca26"
             ],
             [
              1,
              "#f0f921"
             ]
            ],
            "type": "histogram2dcontour"
           }
          ],
          "mesh3d": [
           {
            "colorbar": {
             "outlinewidth": 0,
             "ticks": ""
            },
            "type": "mesh3d"
           }
          ],
          "parcoords": [
           {
            "line": {
             "colorbar": {
              "outlinewidth": 0,
              "ticks": ""
             }
            },
            "type": "parcoords"
           }
          ],
          "pie": [
           {
            "automargin": true,
            "type": "pie"
           }
          ],
          "scatter": [
           {
            "fillpattern": {
             "fillmode": "overlay",
             "size": 10,
             "solidity": 0.2
            },
            "type": "scatter"
           }
          ],
          "scatter3d": [
           {
            "line": {
             "colorbar": {
              "outlinewidth": 0,
              "ticks": ""
             }
            },
            "marker": {
             "colorbar": {
              "outlinewidth": 0,
              "ticks": ""
             }
            },
            "type": "scatter3d"
           }
          ],
          "scattercarpet": [
           {
            "marker": {
             "colorbar": {
              "outlinewidth": 0,
              "ticks": ""
             }
            },
            "type": "scattercarpet"
           }
          ],
          "scattergeo": [
           {
            "marker": {
             "colorbar": {
              "outlinewidth": 0,
              "ticks": ""
             }
            },
            "type": "scattergeo"
           }
          ],
          "scattergl": [
           {
            "marker": {
             "colorbar": {
              "outlinewidth": 0,
              "ticks": ""
             }
            },
            "type": "scattergl"
           }
          ],
          "scattermapbox": [
           {
            "marker": {
             "colorbar": {
              "outlinewidth": 0,
              "ticks": ""
             }
            },
            "type": "scattermapbox"
           }
          ],
          "scatterpolar": [
           {
            "marker": {
             "colorbar": {
              "outlinewidth": 0,
              "ticks": ""
             }
            },
            "type": "scatterpolar"
           }
          ],
          "scatterpolargl": [
           {
            "marker": {
             "colorbar": {
              "outlinewidth": 0,
              "ticks": ""
             }
            },
            "type": "scatterpolargl"
           }
          ],
          "scatterternary": [
           {
            "marker": {
             "colorbar": {
              "outlinewidth": 0,
              "ticks": ""
             }
            },
            "type": "scatterternary"
           }
          ],
          "surface": [
           {
            "colorbar": {
             "outlinewidth": 0,
             "ticks": ""
            },
            "colorscale": [
             [
              0,
              "#0d0887"
             ],
             [
              0.1111111111111111,
              "#46039f"
             ],
             [
              0.2222222222222222,
              "#7201a8"
             ],
             [
              0.3333333333333333,
              "#9c179e"
             ],
             [
              0.4444444444444444,
              "#bd3786"
             ],
             [
              0.5555555555555556,
              "#d8576b"
             ],
             [
              0.6666666666666666,
              "#ed7953"
             ],
             [
              0.7777777777777778,
              "#fb9f3a"
             ],
             [
              0.8888888888888888,
              "#fdca26"
             ],
             [
              1,
              "#f0f921"
             ]
            ],
            "type": "surface"
           }
          ],
          "table": [
           {
            "cells": {
             "fill": {
              "color": "#EBF0F8"
             },
             "line": {
              "color": "white"
             }
            },
            "header": {
             "fill": {
              "color": "#C8D4E3"
             },
             "line": {
              "color": "white"
             }
            },
            "type": "table"
           }
          ]
         },
         "layout": {
          "annotationdefaults": {
           "arrowcolor": "#2a3f5f",
           "arrowhead": 0,
           "arrowwidth": 1
          },
          "autotypenumbers": "strict",
          "coloraxis": {
           "colorbar": {
            "outlinewidth": 0,
            "ticks": ""
           }
          },
          "colorscale": {
           "diverging": [
            [
             0,
             "#8e0152"
            ],
            [
             0.1,
             "#c51b7d"
            ],
            [
             0.2,
             "#de77ae"
            ],
            [
             0.3,
             "#f1b6da"
            ],
            [
             0.4,
             "#fde0ef"
            ],
            [
             0.5,
             "#f7f7f7"
            ],
            [
             0.6,
             "#e6f5d0"
            ],
            [
             0.7,
             "#b8e186"
            ],
            [
             0.8,
             "#7fbc41"
            ],
            [
             0.9,
             "#4d9221"
            ],
            [
             1,
             "#276419"
            ]
           ],
           "sequential": [
            [
             0,
             "#0d0887"
            ],
            [
             0.1111111111111111,
             "#46039f"
            ],
            [
             0.2222222222222222,
             "#7201a8"
            ],
            [
             0.3333333333333333,
             "#9c179e"
            ],
            [
             0.4444444444444444,
             "#bd3786"
            ],
            [
             0.5555555555555556,
             "#d8576b"
            ],
            [
             0.6666666666666666,
             "#ed7953"
            ],
            [
             0.7777777777777778,
             "#fb9f3a"
            ],
            [
             0.8888888888888888,
             "#fdca26"
            ],
            [
             1,
             "#f0f921"
            ]
           ],
           "sequentialminus": [
            [
             0,
             "#0d0887"
            ],
            [
             0.1111111111111111,
             "#46039f"
            ],
            [
             0.2222222222222222,
             "#7201a8"
            ],
            [
             0.3333333333333333,
             "#9c179e"
            ],
            [
             0.4444444444444444,
             "#bd3786"
            ],
            [
             0.5555555555555556,
             "#d8576b"
            ],
            [
             0.6666666666666666,
             "#ed7953"
            ],
            [
             0.7777777777777778,
             "#fb9f3a"
            ],
            [
             0.8888888888888888,
             "#fdca26"
            ],
            [
             1,
             "#f0f921"
            ]
           ]
          },
          "colorway": [
           "#636efa",
           "#EF553B",
           "#00cc96",
           "#ab63fa",
           "#FFA15A",
           "#19d3f3",
           "#FF6692",
           "#B6E880",
           "#FF97FF",
           "#FECB52"
          ],
          "font": {
           "color": "#2a3f5f"
          },
          "geo": {
           "bgcolor": "white",
           "lakecolor": "white",
           "landcolor": "#E5ECF6",
           "showlakes": true,
           "showland": true,
           "subunitcolor": "white"
          },
          "hoverlabel": {
           "align": "left"
          },
          "hovermode": "closest",
          "mapbox": {
           "style": "light"
          },
          "paper_bgcolor": "white",
          "plot_bgcolor": "#E5ECF6",
          "polar": {
           "angularaxis": {
            "gridcolor": "white",
            "linecolor": "white",
            "ticks": ""
           },
           "bgcolor": "#E5ECF6",
           "radialaxis": {
            "gridcolor": "white",
            "linecolor": "white",
            "ticks": ""
           }
          },
          "scene": {
           "xaxis": {
            "backgroundcolor": "#E5ECF6",
            "gridcolor": "white",
            "gridwidth": 2,
            "linecolor": "white",
            "showbackground": true,
            "ticks": "",
            "zerolinecolor": "white"
           },
           "yaxis": {
            "backgroundcolor": "#E5ECF6",
            "gridcolor": "white",
            "gridwidth": 2,
            "linecolor": "white",
            "showbackground": true,
            "ticks": "",
            "zerolinecolor": "white"
           },
           "zaxis": {
            "backgroundcolor": "#E5ECF6",
            "gridcolor": "white",
            "gridwidth": 2,
            "linecolor": "white",
            "showbackground": true,
            "ticks": "",
            "zerolinecolor": "white"
           }
          },
          "shapedefaults": {
           "line": {
            "color": "#2a3f5f"
           }
          },
          "ternary": {
           "aaxis": {
            "gridcolor": "white",
            "linecolor": "white",
            "ticks": ""
           },
           "baxis": {
            "gridcolor": "white",
            "linecolor": "white",
            "ticks": ""
           },
           "bgcolor": "#E5ECF6",
           "caxis": {
            "gridcolor": "white",
            "linecolor": "white",
            "ticks": ""
           }
          },
          "title": {
           "x": 0.05
          },
          "xaxis": {
           "automargin": true,
           "gridcolor": "white",
           "linecolor": "white",
           "ticks": "",
           "title": {
            "standoff": 15
           },
           "zerolinecolor": "white",
           "zerolinewidth": 2
          },
          "yaxis": {
           "automargin": true,
           "gridcolor": "white",
           "linecolor": "white",
           "ticks": "",
           "title": {
            "standoff": 15
           },
           "zerolinecolor": "white",
           "zerolinewidth": 2
          }
         }
        },
        "title": {
         "text": "Density of Population vs Number of Dogs in Vienna by District in 2023"
        },
        "width": 900,
        "xaxis": {
         "anchor": "y",
         "domain": [
          0,
          1
         ],
         "title": {
          "text": "Density of Population"
         }
        },
        "yaxis": {
         "anchor": "x",
         "domain": [
          0,
          1
         ],
         "title": {
          "text": "Number of Dogs"
         }
        }
       }
      }
     },
     "metadata": {},
     "output_type": "display_data"
    }
   ],
   "source": [
    "#Show the number of dogs vs the population density for the most recent year (2023)\n",
    "#Only data from 2023\n",
    "df_h4_dogs_pop_2023 = df_h4_dogs_pop_dist[df_h4_dogs_pop_dist['REF_YEAR']==2023]\n",
    "\n",
    "#Only show data for most recent year to make it clearer\n",
    "fig = px.scatter(df_h4_dogs_pop_dist[df_h4_dogs_pop_dist['REF_YEAR']==2023], \n",
    "                y='DOG_VALUE', x='POP_DENSITY',\n",
    "                hover_data='Postal_CODE',\n",
    "                 color='Postal_CODE',\n",
    "                 text='Postal_CODE',\n",
    "                 width=900, height=700,\n",
    "                 labels={\n",
    "                     \"DOG_VALUE\": \"Number of Dogs\",\n",
    "                     \"POP_DENSITY\": \"Density of Population\",\n",
    "                     \"Postal_CODE\": \"Postal Code\"\n",
    "                 },\n",
    "              title='Density of Population vs Number of Dogs in Vienna by District in 2023')\n",
    "fig.update_traces(marker=dict(size=10), showlegend=False)\n",
    "fig.update_traces(textposition='top center')\n",
    "#fig.update_traces(textposition=label_pos)\n",
    "fig.show()"
   ]
  },
  {
   "cell_type": "markdown",
   "id": "0b20a48e",
   "metadata": {},
   "source": [
    "You can already tell that there is a negative correlation between the number of dogs and the population density in this plot, but let's plot a trendline over the data to make it more visible."
   ]
  },
  {
   "cell_type": "code",
   "execution_count": 232,
   "id": "ee5f1266",
   "metadata": {},
   "outputs": [],
   "source": [
    "#Add trendline\n",
    "coeffs = np.polyfit(df_h4_dogs_pop_2023['POP_DENSITY'], df_h4_dogs_pop_2023['DOG_VALUE'], 1)\n",
    "vals = np.polyval(coeffs, df_h4_dogs_pop_2023['POP_DENSITY'])\n",
    "    \n",
    "line = px.line(x=df_h4_dogs_pop_2023['POP_DENSITY'], y=vals)\n",
    "\n",
    "fig.add_trace(line.data[0])\n",
    "\n",
    "fig.update_layout(font=dict(\n",
    "        #family=\"Arial, monospace\",\n",
    "        size=16,\n",
    "        color=\"black\"\n",
    "    ),showlegend=False\n",
    "    )\n",
    "\n",
    "fig.write_image(\"h4-plot.png\", engine=\"orca\") "
   ]
  },
  {
   "cell_type": "markdown",
   "id": "7a26ae60",
   "metadata": {},
   "source": [
    "The trendline shows there is a negative correlation.\n",
    "Let's also calculate the pearson correlation coefficient:"
   ]
  },
  {
   "cell_type": "code",
   "execution_count": null,
   "id": "bf924e09",
   "metadata": {},
   "outputs": [],
   "source": [
    "df_h4_dogs_pop_dist['POP_DENSITY'].corr(df_h4_dogs_pop_dist['DOG_VALUE'], method='pearson')"
   ]
  },
  {
   "cell_type": "markdown",
   "id": "7edee46e",
   "metadata": {},
   "source": [
    "The Pearson correlation coefficient indicates a negative correlation between the data, if the value is negative. Between 0 and –0.3 there is a weak negative correlation, between –0.3 and –0.5 there is a moderate negative correlation and if the value is less than –0.5 there is a strong negative correlation. \n",
    "\n",
    "The Pearson correlation coefficient we calculated is -0.61, which means that there is a moderate to strong correlation between the population density and the number of dogs."
   ]
  },
  {
   "cell_type": "markdown",
   "id": "5da06647-b803-4ad3-8e40-b372cf7044df",
   "metadata": {
    "id": "5da06647-b803-4ad3-8e40-b372cf7044df",
    "tags": []
   },
   "source": [
    "### E3-H5: \"The number of dogs in a Viennese district correlates positively with the number of dog waste bag dispensers that district.\"\n",
    "\n",
    "Rationale: With the increasing number of dogs in Vienna, it needs to be assured that dog waste does not become an environmental or a public health issue. For this reason, it is desirable to have more dog poo bag dispensers in districts with a higher dog population. Therefore, the distribution of dog poo bag dispensers in each district is a crucial part in achieving an effective dog waste disposal. However, it remains unclear if this correlation between the dog population and number of dispensers exists or how it looks like. Understanding this relationship can help identify districts which are either underserved or overserved in terms of dog waste bag dispensers. Such insight can be taken into account for future city planning.\n",
    "\n",
    "Datasets needed: vie-bez-biz-spo-dog-2002f.csv, HUNDESACKERLOGD.json, BEZIRKSGRENZEOGD.json\n",
    "\n",
    "Further considerations: The data for the dog waste bag dispenser is up-to-date (file downloaded on 2024-10-10) for the dog data only the most recent data is considered, which is 2023. It is assumed that there is a negligible fluctuation in number and location of dispensers since 2023. Additionally, dogs and their owners are not restricted to their home district for their walks and the need for a dog poo bag dispenser.\n",
    "\n",
    "Author: Anna Till\n"
   ]
  },
  {
   "cell_type": "markdown",
   "id": "1297be0ab4f8b677",
   "metadata": {},
   "source": [
    "#### Obtain and scrub additional dataset\n",
    "Dataset: Hundekotsackerlspender Standorte Wien (Dog poo bag dispensers)\n",
    "File name: HUNDESACKERLOGD.json \n",
    "Source: https://www.data.gv.at/katalog/dataset/98908792-f315-4834-9b5e-20fed66cbe5a\n",
    "Description: Location of each dog poo bag dispenser in Vienna up-to-date.\n",
    "\n",
    "BEZ: Bezirk\n",
    "STRNAM: Straßenname\n",
    "ONRTEXT: Ordnungsnummer oder zusätzliche Lagebeschreibung\n",
    "BEMERKUNG: weitere Informationen\n",
    "ID_NR: Identifikationsnummer des Standortes"
   ]
  },
  {
   "cell_type": "code",
   "execution_count": null,
   "id": "25d727fb3fe067f9",
   "metadata": {},
   "outputs": [],
   "source": [
    "import geopandas as gpd\n",
    "\n",
    "dog_poo_bag_dispensers= gpd.read_file('HUNDESACKERLOGD.json') # load dog waste bag dispenser data\n",
    "\n",
    "# Preview and info\n",
    "print(dog_poo_bag_dispensers.info())\n",
    "print(dog_poo_bag_dispensers.head())\n",
    "\n",
    "# Missing values\n",
    "print(\"Missing values: \",dog_poo_bag_dispensers.isnull().sum())\n",
    "# missing data is irrelevant except for the district ('Bezirk') which is needed for each dispenser, which is zero\n",
    "\n",
    "# Delete duplicates\n",
    "dog_poo_bag_dispensers = dog_poo_bag_dispensers.drop_duplicates()\n",
    "\n",
    "# Check geography (and delete if invalid)\n",
    "print(\"Valid geography: \", dog_poo_bag_dispensers.geometry.is_valid.all())\n",
    "dog_poo_bag_dispensers = dog_poo_bag_dispensers[dog_poo_bag_dispensers.geometry.is_valid]\n",
    "\n",
    "# Check coordinate system\n",
    "print(\"Coordindate system: \", dog_poo_bag_dispensers.crs)"
   ]
  },
  {
   "cell_type": "markdown",
   "id": "f523d8978e27dd2e",
   "metadata": {},
   "source": [
    "#### Results:"
   ]
  },
  {
   "cell_type": "code",
   "execution_count": null,
   "id": "9f174ed8-3291-4b1e-80a3-ea441b7efc19",
   "metadata": {
    "id": "9f174ed8-3291-4b1e-80a3-ea441b7efc19"
   },
   "outputs": [],
   "source": [
    "from scipy.stats import pearsonr\n",
    "\n",
    "# Data for dog poo bag dispenser\n",
    "dispensers_by_district = dog_poo_bag_dispensers.groupby('BEZIRK').size().reset_index(name='NUMBER_DISPENSER')  # count number of dispenser per district\n",
    "\n",
    "# Dog data\n",
    "dogs = dogs_2002.copy()\n",
    "dogs['DISTRICT_CODE'] = dogs['DISTRICT_CODE'].astype(str)\n",
    "\n",
    "# Filter for the latest year\n",
    "latest_year = dogs['REF_YEAR'].max()\n",
    "dogs_year = dogs[dogs['REF_YEAR'] == latest_year]\n",
    "\n",
    "dogs_year = dogs_year.assign(BEZIRK=dogs_year['DISTRICT_CODE'].str[1:3].astype(int)) # district code has form 9BBZZ, we want only BB in order to merge\n",
    "\n",
    "# Aggregate for each district\n",
    "dogs_year = dogs_year.groupby('BEZIRK', as_index=False)[['DOG_VALUE', 'DOG_DENSITY']].sum()\n",
    "\n",
    "# Merge data for dogs with data for dispensers\n",
    "merged_data = pd.merge(dogs_year, dispensers_by_district, left_on='BEZIRK', right_on='BEZIRK', how='left')\n",
    "merged_data['NUMBER_DISPENSER'] = merged_data['NUMBER_DISPENSER'].fillna(0)\n",
    "\n",
    "# Calculation correlation and rations\n",
    "correlation, _ = pearsonr(merged_data['DOG_DENSITY'], merged_data['NUMBER_DISPENSER'])\n",
    "print(f'Pearson correlation: {correlation:.2f}')\n",
    "# Ratios\n",
    "merged_data['DOGS_TO_DISPENSER'] = merged_data['DOG_VALUE'] / merged_data['NUMBER_DISPENSER']\n",
    "merged_data['DOGS_DENS_TO_DISPENSER'] = (merged_data['DOG_DENSITY'] / merged_data['NUMBER_DISPENSER'])*100\n",
    "\n",
    "# District borders for graphical presentation\n",
    "district_borders = gpd.read_file('BEZIRKSGRENZEOGD.json')\n",
    "district_borders = district_borders.to_crs(epsg=4326)  # transform coordinates\n",
    "\n",
    "# Merge district borders with dog and dispenser data\n",
    "merged_data = district_borders.merge(merged_data, left_on='BEZNR', right_on='BEZIRK', how='left')\n",
    "\n",
    "# Scatter plot for correlation\n",
    "plt.figure(figsize=(10, 6))\n",
    "plt.scatter(merged_data['DOG_DENSITY'], merged_data['NUMBER_DISPENSER'], color='blue')\n",
    "sns.regplot(x='DOG_DENSITY', y='NUMBER_DISPENSER', data=merged_data, scatter=False, ax=plt.gca(), color='red') # adds fit to plot\n",
    "plt.xlabel('Dog Density (Dogs per 1000 People)')\n",
    "plt.ylabel('Number of Dog Poo Bag Dispensers')\n",
    "plt.title(f'Correlation between Dog Density and Number of Dog Poo Bag Dispensers ({latest_year})')\n",
    "plt.grid()\n",
    "plt.show()\n",
    "\n",
    "# Maps with analysis of correlation in each district\n",
    "fig, (ax1, ax2) = plt.subplots(1, 2, figsize=(20, 10))\n",
    "merged_data.boundary.plot(ax=ax1, color='black')  # plot district borders\n",
    "merged_data.boundary.plot(ax=ax2, color='black')    \n",
    "fig.suptitle(f'Analysis of Dogs and Poo Bag Dispensers in Viennese Districts for {latest_year}', fontsize=16)\n",
    "\n",
    "# First map: absloute number of dogs\n",
    "merged_data.plot(column='DOGS_TO_DISPENSER', ax=ax1, legend=True, cmap='viridis', edgecolor='black', alpha=0.5, legend_kwds={'orientation': \"horizontal\", 'label': \"number of dogs / number of dispensers\", 'shrink': 0.8})\n",
    "ax1.set_title('Ratio: Number of dogs to number of poo bag dispensers')\n",
    "ax1.set_xlabel('Longitude [degrees]')\n",
    "ax1.set_ylabel('Latitude [degrees]')\n",
    "\n",
    "for idx, row in merged_data.iterrows():  # ratio in each district in plot\n",
    "    point = row.geometry.representative_point() \n",
    "    ax1.text(point.x, point.y, f'{int(round(row[\"DOGS_TO_DISPENSER\"]))}', fontsize=10, ha='center', va='center', color='black')\n",
    "\n",
    "# Second map: dog density per 1000 pop\n",
    "merged_data.plot(column='DOGS_DENS_TO_DISPENSER', ax=ax2, legend=True, cmap='viridis', edgecolor='black', alpha=0.5,\n",
    "                 legend_kwds={'orientation': \"horizontal\", 'label': \"dog density / number of dispensers\", 'shrink': 0.8})\n",
    "ax2.set_title('Ratio: Dog density to number of poo bag dispensers')\n",
    "ax2.set_xlabel('Longitude [degrees]')\n",
    "ax2.set_ylabel('Latitude [degrees]')\n",
    "for idx, row in merged_data.iterrows():\n",
    "    point = row.geometry.representative_point() \n",
    "    ax2.text(point.x, point.y, f'{row[\"DOGS_DENS_TO_DISPENSER\"]:.2f}', fontsize=10, ha='center', va='center', color='black')\n",
    "\n",
    "plt.tight_layout()\n",
    "plt.show()\n",
    "\n",
    "# categorization\n",
    "# low, medium, high\n",
    "def categorize(value):\n",
    "    if value <= merged_data['DOGS_DENS_TO_DISPENSER'].quantile(1/3):\n",
    "        return 'Low'\n",
    "    elif value <= merged_data['DOGS_DENS_TO_DISPENSER'].quantile(2/3):\n",
    "        return 'Medium'\n",
    "    else:\n",
    "        return 'High'\n",
    "\n",
    "merged_data['CATEGORY_DOG_TO_BAG'] = merged_data['DOGS_DENS_TO_DISPENSER'].apply(categorize)\n",
    "\n",
    "fig, ax = plt.subplots(1, 1, figsize=(12, 12))\n",
    "merged_data.boundary.plot(ax=ax, color='black')\n",
    "merged_data.plot(column='CATEGORY_DOG_TO_BAG', ax=ax, legend=True, cmap='Set1', edgecolor='black', alpha=0.5)\n",
    "ax.set_title(f'Categorization: Dog Density per 1000 people to Dog Poo Bag Dispenser ({latest_year})')\n",
    "ax.set_xlabel('Longitude [degrees]')\n",
    "ax.set_ylabel('Latitude [degrees]')\n",
    "for idx, row in merged_data.iterrows():\n",
    "    point = row.geometry.representative_point()\n",
    "    ax.text(point.x, point.y, row['BEZ_RZ'], fontsize=10, ha='center', va='center', color='black')\n",
    "\n",
    "plt.tight_layout()\n",
    "plt.show()"
   ]
  },
  {
   "cell_type": "markdown",
   "id": "4bf28ebf5f6298df",
   "metadata": {},
   "source": [
    "#### Answer:\n",
    "The Pearson correlation coefficient of 0.70 indicates a positive correlation between the number of dogs and of dispensers in a district. Which means, that indeed in districts with a higher dog population also a higher number of dog poo bag dispensers is installed. However, in the scatter plot (\"Correlation between Dog Density and Number of Dog Poo Bag Dispensers (2023)\") it can be seen that there are some outliers despite the correlation depicted by the trend line.\n",
    "\n",
    "Another aspect is the comparison (\"Analysis of Dogs and Poo Bag Dispensers in Viennese Districts for 2023\") between the ratios of the number of dogs per dog waste bag dispenser in each district and of the density of dogs per dispenser, which takes also population density into account. The direct comparison between the absolute numbers - dogs per dispenser - suggests that a higher ratio may need a more frequent refill, assuming one waste bag per dog poo. As displayed in the results (\"Ratio: Number of dogs to number of poo bag dispensers\") this is the case especially in the outer districts of Vienna. Whereas, the broader context of the dog density per dog waste bag dispenser, normalizing the number of dogs against the population, implies whether there are enough dispensers available for each resident (regardless if or how many dogs they own). In this case, the results (\"Ratio: Dog density to number of poo bag dispensers\") show a different picture than for the direct ratio. Here, the inner districts of Vienna are affected the most by having the higher dog density to dispenser ratio. For instance, the first district, \"Innere Stadt\", has a rather low number of dogs per dispenser. However, value of the dog density to dispensers is exceedingly high compared to other districts. \n",
    "\n",
    "Finally, the map \"Categorization: Dog Density per 1000 people to Dog Poo Bag Dispenser (2023)\" provides a further investigation of dog density per dispenser by categorizing the districts into \"high\", \"medium\" and \"low\" based on tertiles. It can be seen at glance that the innermost districts might profit most from additional dog waste bag dispensers with respect to each resident.\n",
    "\n",
    "In summary, there is a correlation between the dog population and the number of dog waste bag dispensers. The number of dogs per dispenser is larger in the outer districts of Vienna, whereas when also taking the population per district into account, the picture reverses."
   ]
  },
  {
   "cell_type": "markdown",
   "id": "5e128df06ac2f4e6",
   "metadata": {},
   "source": [
    "### E3-H6: \"xxx\"\n",
    "Author: Group member 6\n"
   ]
  },
  {
   "cell_type": "code",
   "execution_count": null,
   "id": "69813a6c37b3e54d",
   "metadata": {},
   "outputs": [],
   "source": []
  }
 ],
 "metadata": {
  "colab": {
   "provenance": []
  },
  "kernelspec": {
   "display_name": "Python 3 (ipykernel)",
   "language": "python",
   "name": "python3"
  },
  "language_info": {
   "codemirror_mode": {
    "name": "ipython",
    "version": 3
   },
   "file_extension": ".py",
   "mimetype": "text/x-python",
   "name": "python",
   "nbconvert_exporter": "python",
   "pygments_lexer": "ipython3",
   "version": "3.9.20"
  },
  "nbdime-conflicts": {
   "local_diff": [
    {
     "diff": [
      {
       "diff": [
        {
         "diff": [
          {
           "key": 5,
           "op": "addrange",
           "valuelist": "7"
          },
          {
           "key": 5,
           "length": 1,
           "op": "removerange"
          }
         ],
         "key": 0,
         "op": "patch"
        }
       ],
       "key": "version",
       "op": "patch"
      }
     ],
     "key": "language_info",
     "op": "patch"
    }
   ],
   "remote_diff": [
    {
     "diff": [
      {
       "diff": [
        {
         "key": 0,
         "length": 1,
         "op": "removerange"
        }
       ],
       "key": "version",
       "op": "patch"
      }
     ],
     "key": "language_info",
     "op": "patch"
    }
   ]
  }
 },
 "nbformat": 4,
 "nbformat_minor": 5
}
