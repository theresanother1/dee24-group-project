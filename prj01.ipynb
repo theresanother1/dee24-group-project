{
 "cells": [
  {
   "cell_type": "markdown",
   "id": "e12ece56-fcd4-4665-bf8b-773b5e8c789d",
   "metadata": {
    "id": "e12ece56-fcd4-4665-bf8b-773b5e8c789d",
    "tags": []
   },
   "source": [
    "# Project 1 - Data Engineering\n",
    "## 2 Data Exploration and Analysis\n",
    "This notebook is for the implementation of task \"2 Data Exploration and Analysis\", as listed in the **Project Instructions**."
   ]
  },
  {
   "cell_type": "markdown",
   "id": "45dfc955-b808-45ff-b0d8-c2425da31416",
   "metadata": {
    "id": "45dfc955-b808-45ff-b0d8-c2425da31416"
   },
   "source": [
    "<div class=\"alert alert-success\">\n",
    "<b>Overview:</b><br>\n",
    "Data Exploration and Analysis consists of the following parts worth 70 points:\n",
    "<ul>\n",
    "    <li><b>E1 - Obtain and Scrub</b> (15 points)</li>\n",
    "    <li><b>E2 - Exploratory data analysis (EDA) </b>(20 points)</li>\n",
    "    <li><b>E3 - Formulate hypotheses </b>(25 points)</li>\n",
    "    <li><b>Follow the guidelines for Data Exploration and Analysis below </b>(10 points)</li>\n",
    "</ul></div>"
   ]
  },
  {
   "cell_type": "markdown",
   "id": "3c8a055f",
   "metadata": {
    "id": "3c8a055f"
   },
   "source": [
    "<div class=\"alert alert-success\">\n",
    "<b>Guidelines for Data Exploration and Analysis:</b><br>\n",
    "    <ol>\n",
    "        <li>Use a single Jupyer notebook for your project.</li>\n",
    "        <li>Use only Python-code for your project.</li>\n",
    "        <li>The use of automatic and semi-automatic data analyis tools is not allowed (e. g., PandasGUI, D-Tale, Mito, etc.). Only use packages we used in the coded lectures.</li>\n",
    "        <li>Export your environment for submission as 'prj01-environment.txt'.</li>\n",
    "        <li>Upload your resulting work as a zip file containing only a single jupyter notebook and required files to run the notebook. All cell outputs and <b>figures must display in jupyter lab</b>. (Test this, in particular when you use another environment like VS Code.)</li>\n",
    "        <li>All code cells in your notebook must be runnable without errors or warnings (e. g., deprecated functions). Each error/warning subtracts -2 points (up to the full 10 points for following the  guidelines).</li>\n",
    "        <li>Use only relative paths in your project.</li>\n",
    "        <li>Avoid (excessive) code duplication.</li>\n",
    "        <li>Avoid loops iterating over pandas objects (Series, DataFrames). Explicitly justify each exception via a comment. </li>\n",
    "        <li>All coded steps in your analysis must be commented.</li>\n",
    "        <li>Keep your code as well as outputs short, precise and readable. Each long or unnecessary output subtracts -2 points (up to the full 10 points for following the project guidelines).</li>\n",
    "    </ol>\n",
    "    <b>Late submissions are not accepted and earn you 0 points on the python project. </b>\n",
    "</div>"
   ]
  },
  {
   "cell_type": "markdown",
   "id": "ea992ba9-f942-445d-a515-16dc32837466",
   "metadata": {
    "id": "ea992ba9-f942-445d-a515-16dc32837466"
   },
   "source": [
    "Explicitly list which notebook toolset was used (jupyter lab/jupyter notebook/VS Code/etc.)\n",
    "\n",
    "**here**: MY_TOOL, MY_BROWSER"
   ]
  },
  {
   "cell_type": "markdown",
   "id": "92f63424-1d61-4b8b-94a6-f50afea65d79",
   "metadata": {
    "id": "92f63424-1d61-4b8b-94a6-f50afea65d79",
    "tags": []
   },
   "source": [
    "Explicitly and clearly state the chosen dataset number and title:\n",
    "### Bevölkerung ODÖ Hunde\n",
    "#### Hundebestand seit 2002 - Bezirke Wien --> contains info about dog density per districts over years\n",
    "#### Hunde pro Bezirk Wien --> contains info about dog breeds count per district in 2024\n",
    "#### Hunderassen Wien --> contains info about dog breeds count per district 2012 - 2017\n"
   ]
  },
  {
   "cell_type": "markdown",
   "id": "0999a549-323a-4537-963f-3a1a746b77fd",
   "metadata": {
    "id": "0999a549-323a-4537-963f-3a1a746b77fd"
   },
   "source": [
    "## E1 - Obtain and Scrub"
   ]
  },
  {
   "cell_type": "markdown",
   "id": "937713cc-715f-4930-ae10-ebeeaec55685",
   "metadata": {
    "id": "937713cc-715f-4930-ae10-ebeeaec55685"
   },
   "source": [
    "### Obtain\n",
    "Download the dataset and understand both:\n",
    "- format: wide vs. long, separaters, decimal points, encoding, etc., and\n",
    "- content: what variables are in the columns, what is their meaning?\n",
    "To this end, identify and download metadata such as headers, category listings, explanatory reports, etc.\n",
    "### Scrub\n",
    "The aim of scrub is to create a clean version of the data for further analysis.\n",
    "- Load the dataset and take care of dtypes (dates, numbers, categories, etc.). Justify why you don't load/use specific columns.\n",
    "- Check for footnotes or any other notifications on special cell content, such as time series breaks. Follow up that information, and document your decision how to deal with it. Remember: A homework contained such info in the cell \"76.1 b\". The metadata defines what that \"b\" stands for.\n",
    "- Choose an appropriate (Multi-)Index.\n",
    "- Identify:\n",
    "    1. missing values and get row and column overviews. Use graphical and/or numeric approaches. Once identified, handle missing values according to column type, time series property and data set size.\n",
    "    2. duplicates (justify the used column subset). Remove duplicates - if any - and inspect what you removed.\n",
    "- Transform to shape (tidy vs. wide) best suited for further analysis.\n",
    "- Export the clean data to a file for inspection with an external data browser (e.g., MS Excel).\n",
    "- Provide an overview of the clean dataset:\n",
    "    1. show the dtypes\n",
    "    2. quantitative column descriptions:\n",
    "        1. categorical columns: number of unique values, counts\n",
    "        2. numeric columns: range and median"
   ]
  },
  {
   "cell_type": "code",
   "execution_count": 1,
   "id": "5417f795-37f5-4c57-bdbe-36c1a00fedfe",
   "metadata": {
    "id": "5417f795-37f5-4c57-bdbe-36c1a00fedfe"
   },
   "outputs": [],
   "source": [
    "# Importing necessary packages:\n",
    "import pandas as pd\n",
    "import numpy as np\n",
    "import seaborn as sns\n",
    "import plotly.express as px\n",
    "import plotly.io as pio\n",
    "import matplotlib.pyplot as plt\n",
    "import matplotlib.colors as mcolors\n",
    "from matplotlib import colormaps\n",
    "import geopandas as gpd\n",
    "import json # to read in geojson\n",
    "from matplotlib.lines import Line2D # for custom legend\n",
    "%matplotlib inline"
   ]
  },
  {
   "cell_type": "markdown",
   "id": "zmdvK0BezPWW",
   "metadata": {
    "id": "zmdvK0BezPWW"
   },
   "source": [
    "## 1) Obtain the datasets and scrub data\n"
   ]
  },
  {
   "cell_type": "markdown",
   "id": "CM15Z24i0wnM",
   "metadata": {
    "id": "CM15Z24i0wnM"
   },
   "source": [
    "#### 1) Dataset 1\n",
    "Number of dogs (absolute and per 1,000 inhabitants) since 2002 - districts of Vienna\n",
    " \t* NUTS | NUTS2-Region (Bundesland)\n",
    "  * DISTRICT_CODE | Gemeindebezirkskennzahl (Schema: 9BBZZ, BB=Nummer Bezirk, ZZ=00)\n",
    "  * SUB_DISTRICT_CODE | Zählbezirkskennzahl gemäß Stadt Wien (Schema: 9BBZZ, 9=Kennzeichnung Wien, BB=Nummer Bezirk, ZZ=Nummer Zählbezirk, **ZZ=99 bei fehlender Zählbezirkskennzeichnung**)\n",
    "  * REF_YEAR | Referenzjahr\n",
    "  * REF_DATE | Referenzdatum\n",
    "  * DOG_VALUE | Anzahl der Hunde (absolut)\n",
    "  * DOG_DENSITY | Anzahl der Hunde pro 1.000 EinwohnerInnen\n",
    "\n",
    "Source: https://www.data.gv.at/katalog/dataset/1a48e78a-c660-41e0-ac32-8b675c0ea39c#additional-info\n",
    "\n",
    "   TODO: add more description?"
   ]
  },
  {
   "cell_type": "markdown",
   "id": "SqP0q91O-iim",
   "metadata": {
    "id": "SqP0q91O-iim"
   },
   "source": [
    "##### Obtain"
   ]
  },
  {
   "cell_type": "code",
   "execution_count": 2,
   "id": "cc301dcd",
   "metadata": {},
   "outputs": [
    {
     "name": "stdout",
     "output_type": "stream",
     "text": [
      "Dataframe shape:  (528, 17)\n"
     ]
    },
    {
     "data": {
      "text/html": [
       "<div>\n",
       "<style scoped>\n",
       "    .dataframe tbody tr th:only-of-type {\n",
       "        vertical-align: middle;\n",
       "    }\n",
       "\n",
       "    .dataframe tbody tr th {\n",
       "        vertical-align: top;\n",
       "    }\n",
       "\n",
       "    .dataframe thead th {\n",
       "        text-align: right;\n",
       "    }\n",
       "</style>\n",
       "<table border=\"1\" class=\"dataframe\">\n",
       "  <thead>\n",
       "    <tr style=\"text-align: right;\">\n",
       "      <th></th>\n",
       "      <th>NUTS</th>\n",
       "      <th>DISTRICT_CODE</th>\n",
       "      <th>SUB_DISTRICT_CODE</th>\n",
       "      <th>REF_YEAR</th>\n",
       "      <th>REF_DATE</th>\n",
       "      <th>DOG_VALUE</th>\n",
       "      <th>DOG_DENSITY</th>\n",
       "      <th>Unnamed: 7</th>\n",
       "      <th>Unnamed: 8</th>\n",
       "      <th>Unnamed: 9</th>\n",
       "      <th>Unnamed: 10</th>\n",
       "      <th>Unnamed: 11</th>\n",
       "      <th>Unnamed: 12</th>\n",
       "      <th>Unnamed: 13</th>\n",
       "      <th>Unnamed: 14</th>\n",
       "      <th>Unnamed: 15</th>\n",
       "      <th>Unnamed: 16</th>\n",
       "    </tr>\n",
       "  </thead>\n",
       "  <tbody>\n",
       "    <tr>\n",
       "      <th>0</th>\n",
       "      <td>AT13</td>\n",
       "      <td>90000</td>\n",
       "      <td>90000</td>\n",
       "      <td>2002</td>\n",
       "      <td>20020101</td>\n",
       "      <td>46.933</td>\n",
       "      <td>29,87</td>\n",
       "      <td>NaN</td>\n",
       "      <td>NaN</td>\n",
       "      <td>NaN</td>\n",
       "      <td>NaN</td>\n",
       "      <td>NaN</td>\n",
       "      <td>NaN</td>\n",
       "      <td>NaN</td>\n",
       "      <td>NaN</td>\n",
       "      <td>NaN</td>\n",
       "      <td>NaN</td>\n",
       "    </tr>\n",
       "    <tr>\n",
       "      <th>1</th>\n",
       "      <td>AT13</td>\n",
       "      <td>90100</td>\n",
       "      <td>90100</td>\n",
       "      <td>2002</td>\n",
       "      <td>20020101</td>\n",
       "      <td>542</td>\n",
       "      <td>30,74</td>\n",
       "      <td>NaN</td>\n",
       "      <td>NaN</td>\n",
       "      <td>NaN</td>\n",
       "      <td>NaN</td>\n",
       "      <td>NaN</td>\n",
       "      <td>NaN</td>\n",
       "      <td>NaN</td>\n",
       "      <td>NaN</td>\n",
       "      <td>NaN</td>\n",
       "      <td>NaN</td>\n",
       "    </tr>\n",
       "    <tr>\n",
       "      <th>2</th>\n",
       "      <td>AT13</td>\n",
       "      <td>90200</td>\n",
       "      <td>90200</td>\n",
       "      <td>2002</td>\n",
       "      <td>20020101</td>\n",
       "      <td>2.251</td>\n",
       "      <td>25,29</td>\n",
       "      <td>NaN</td>\n",
       "      <td>NaN</td>\n",
       "      <td>NaN</td>\n",
       "      <td>NaN</td>\n",
       "      <td>NaN</td>\n",
       "      <td>NaN</td>\n",
       "      <td>NaN</td>\n",
       "      <td>NaN</td>\n",
       "      <td>NaN</td>\n",
       "      <td>NaN</td>\n",
       "    </tr>\n",
       "    <tr>\n",
       "      <th>3</th>\n",
       "      <td>AT13</td>\n",
       "      <td>90300</td>\n",
       "      <td>90300</td>\n",
       "      <td>2002</td>\n",
       "      <td>20020101</td>\n",
       "      <td>1.904</td>\n",
       "      <td>23,16</td>\n",
       "      <td>NaN</td>\n",
       "      <td>NaN</td>\n",
       "      <td>NaN</td>\n",
       "      <td>NaN</td>\n",
       "      <td>NaN</td>\n",
       "      <td>NaN</td>\n",
       "      <td>NaN</td>\n",
       "      <td>NaN</td>\n",
       "      <td>NaN</td>\n",
       "      <td>NaN</td>\n",
       "    </tr>\n",
       "    <tr>\n",
       "      <th>4</th>\n",
       "      <td>AT13</td>\n",
       "      <td>90400</td>\n",
       "      <td>90400</td>\n",
       "      <td>2002</td>\n",
       "      <td>20020101</td>\n",
       "      <td>615</td>\n",
       "      <td>21,23</td>\n",
       "      <td>NaN</td>\n",
       "      <td>NaN</td>\n",
       "      <td>NaN</td>\n",
       "      <td>NaN</td>\n",
       "      <td>NaN</td>\n",
       "      <td>NaN</td>\n",
       "      <td>NaN</td>\n",
       "      <td>NaN</td>\n",
       "      <td>NaN</td>\n",
       "      <td>NaN</td>\n",
       "    </tr>\n",
       "  </tbody>\n",
       "</table>\n",
       "</div>"
      ],
      "text/plain": [
       "   NUTS  DISTRICT_CODE  SUB_DISTRICT_CODE  REF_YEAR  REF_DATE DOG_VALUE  \\\n",
       "0  AT13          90000              90000      2002  20020101   46.933    \n",
       "1  AT13          90100              90100      2002  20020101      542    \n",
       "2  AT13          90200              90200      2002  20020101    2.251    \n",
       "3  AT13          90300              90300      2002  20020101    1.904    \n",
       "4  AT13          90400              90400      2002  20020101      615    \n",
       "\n",
       "  DOG_DENSITY  Unnamed: 7  Unnamed: 8  Unnamed: 9  Unnamed: 10  Unnamed: 11  \\\n",
       "0      29,87          NaN         NaN         NaN          NaN          NaN   \n",
       "1      30,74          NaN         NaN         NaN          NaN          NaN   \n",
       "2      25,29          NaN         NaN         NaN          NaN          NaN   \n",
       "3      23,16          NaN         NaN         NaN          NaN          NaN   \n",
       "4      21,23          NaN         NaN         NaN          NaN          NaN   \n",
       "\n",
       "   Unnamed: 12  Unnamed: 13  Unnamed: 14  Unnamed: 15  Unnamed: 16  \n",
       "0          NaN          NaN          NaN          NaN          NaN  \n",
       "1          NaN          NaN          NaN          NaN          NaN  \n",
       "2          NaN          NaN          NaN          NaN          NaN  \n",
       "3          NaN          NaN          NaN          NaN          NaN  \n",
       "4          NaN          NaN          NaN          NaN          NaN  "
      ]
     },
     "execution_count": 2,
     "metadata": {},
     "output_type": "execute_result"
    }
   ],
   "source": [
    "# Import the first data set\n",
    "dogs_2002 = pd.read_csv(\"vie-bez-biz-spo-dog-2002f.csv\", sep=';', skiprows=1, dtype={\"DOG_VALUE\": \"object\", \"DOG_DENSITY\": \"object\"})\n",
    "print(\"Dataframe shape: \", dogs_2002.shape)\n",
    "dogs_2002.head(5)"
   ]
  },
  {
   "cell_type": "markdown",
   "id": "cYHcuGm_0vRs",
   "metadata": {
    "id": "cYHcuGm_0vRs"
   },
   "source": [
    "* The separator is ';'.\n",
    "* The encoding is 'utf-8'.\n",
    "* The original shape is (528, 17) - but many columns full of NaNs (later: cleaned up data => shape=(528, 7)).\n",
    "* Long format:  \n",
    "  * Contains entries for years by district of overall dog density sorted by years.\n",
    "  * each row represents a single observation of district by year and dog breeds\n",
    "* The first row contains the csv title. It is dropped and the second row is used for column titles.\n",
    "* First column 'NUTS' (= identification and classification system for european states) contains always the same value, since 'AT13' stands for Vienna (and we only have data for Vienna in this dataset). We could drop it, but it also doesn't bother us too much right now\n",
    "* DISTRICT_CODE '90000' stands for all districts combined\n",
    "* Need to import DOG_VALUE as objects because the '.' in some values does not allow conversion to integer right now. Without specifying it, the values are recognised as floats.\n",
    "* We also import DOG_DENSITY as objects because we need to convert the ',' to '.' to allow conversion to floats afterwards\n"
   ]
  },
  {
   "cell_type": "markdown",
   "id": "PMX1AMbE-nAF",
   "metadata": {
    "id": "PMX1AMbE-nAF"
   },
   "source": [
    "##### Scrub"
   ]
  },
  {
   "cell_type": "code",
   "execution_count": 3,
   "id": "3685b415",
   "metadata": {},
   "outputs": [
    {
     "data": {
      "text/plain": [
       "Unnamed: 7           100.0\n",
       "Unnamed: 15          100.0\n",
       "Unnamed: 8           100.0\n",
       "Unnamed: 14          100.0\n",
       "Unnamed: 13          100.0\n",
       "Unnamed: 12          100.0\n",
       "Unnamed: 11          100.0\n",
       "Unnamed: 10          100.0\n",
       "Unnamed: 9           100.0\n",
       "Unnamed: 16          100.0\n",
       "NUTS                   0.0\n",
       "DOG_VALUE              0.0\n",
       "DOG_DENSITY            0.0\n",
       "SUB_DISTRICT_CODE      0.0\n",
       "DISTRICT_CODE          0.0\n",
       "REF_YEAR               0.0\n",
       "REF_DATE               0.0\n",
       "dtype: float64"
      ]
     },
     "execution_count": 3,
     "metadata": {},
     "output_type": "execute_result"
    }
   ],
   "source": [
    "# check columns and their missing data ratio\n",
    "((dogs_2002.isnull().sum() / len(dogs_2002)) * 100).sort_values(ascending=False)"
   ]
  },
  {
   "cell_type": "code",
   "execution_count": 4,
   "id": "4a5762f0",
   "metadata": {},
   "outputs": [
    {
     "name": "stdout",
     "output_type": "stream",
     "text": [
      "Dataframe shape:  (528, 7)\n"
     ]
    }
   ],
   "source": [
    "# drop all cols with NaN --> lots because of multiple 'unnecessary' seperators ';' in last columns\n",
    "# other columns have no missing values\n",
    "dogs_2002 = dogs_2002.dropna(axis=1, how='any')\n",
    "print(\"Dataframe shape: \", dogs_2002.shape)"
   ]
  },
  {
   "cell_type": "code",
   "execution_count": 5,
   "id": "PPMkfTio-dM1",
   "metadata": {
    "colab": {
     "base_uri": "https://localhost:8080/"
    },
    "id": "PPMkfTio-dM1",
    "outputId": "d71ebb33-3561-46d0-a5c9-232b19d34e3f"
   },
   "outputs": [
    {
     "name": "stdout",
     "output_type": "stream",
     "text": [
      "NUTS                 object\n",
      "DISTRICT_CODE         int64\n",
      "SUB_DISTRICT_CODE     int64\n",
      "REF_YEAR              int64\n",
      "REF_DATE              int64\n",
      "DOG_VALUE            object\n",
      "DOG_DENSITY          object\n",
      "dtype: object\n"
     ]
    }
   ],
   "source": [
    "print(dogs_2002.dtypes)"
   ]
  },
  {
   "cell_type": "markdown",
   "id": "C17S4bNNA_Kj",
   "metadata": {
    "id": "C17S4bNNA_Kj"
   },
   "source": [
    "Remove '.' in DOG_VALUE and convert to integer.\n",
    "\n",
    "Change DOG_DENSITY to use '.' instead of ',' and the format to float to be able to calculate with it, if needed.\n",
    "\n",
    "Change REF_DATE to format datetime since its currently int64."
   ]
  },
  {
   "cell_type": "code",
   "execution_count": 6,
   "id": "O_UvJZKM_Hba",
   "metadata": {
    "id": "O_UvJZKM_Hba"
   },
   "outputs": [],
   "source": [
    "dogs_2002['DOG_VALUE'] = dogs_2002['DOG_VALUE'].str.replace('.', '').astype(int)\n",
    "dogs_2002['DOG_DENSITY'] = dogs_2002['DOG_DENSITY'].str.replace(',', '.').astype(float)\n",
    "dogs_2002['REF_DATE'] = pd.to_datetime(dogs_2002['REF_DATE'].astype(str), format='%Y%m%d')"
   ]
  },
  {
   "cell_type": "code",
   "execution_count": 7,
   "id": "u8LNjDOZ_6LA",
   "metadata": {
    "colab": {
     "base_uri": "https://localhost:8080/",
     "height": 275
    },
    "id": "u8LNjDOZ_6LA",
    "outputId": "56ce61ba-57c2-45bb-c4ee-08bccb4b1388"
   },
   "outputs": [
    {
     "name": "stdout",
     "output_type": "stream",
     "text": [
      "NUTS                         object\n",
      "DISTRICT_CODE                 int64\n",
      "SUB_DISTRICT_CODE             int64\n",
      "REF_YEAR                      int64\n",
      "REF_DATE             datetime64[ns]\n",
      "DOG_VALUE                     int64\n",
      "DOG_DENSITY                 float64\n",
      "dtype: object\n"
     ]
    },
    {
     "data": {
      "text/html": [
       "<div>\n",
       "<style scoped>\n",
       "    .dataframe tbody tr th:only-of-type {\n",
       "        vertical-align: middle;\n",
       "    }\n",
       "\n",
       "    .dataframe tbody tr th {\n",
       "        vertical-align: top;\n",
       "    }\n",
       "\n",
       "    .dataframe thead th {\n",
       "        text-align: right;\n",
       "    }\n",
       "</style>\n",
       "<table border=\"1\" class=\"dataframe\">\n",
       "  <thead>\n",
       "    <tr style=\"text-align: right;\">\n",
       "      <th></th>\n",
       "      <th>NUTS</th>\n",
       "      <th>DISTRICT_CODE</th>\n",
       "      <th>SUB_DISTRICT_CODE</th>\n",
       "      <th>REF_YEAR</th>\n",
       "      <th>REF_DATE</th>\n",
       "      <th>DOG_VALUE</th>\n",
       "      <th>DOG_DENSITY</th>\n",
       "    </tr>\n",
       "  </thead>\n",
       "  <tbody>\n",
       "    <tr>\n",
       "      <th>0</th>\n",
       "      <td>AT13</td>\n",
       "      <td>90000</td>\n",
       "      <td>90000</td>\n",
       "      <td>2002</td>\n",
       "      <td>2002-01-01</td>\n",
       "      <td>46933</td>\n",
       "      <td>29.87</td>\n",
       "    </tr>\n",
       "    <tr>\n",
       "      <th>1</th>\n",
       "      <td>AT13</td>\n",
       "      <td>90100</td>\n",
       "      <td>90100</td>\n",
       "      <td>2002</td>\n",
       "      <td>2002-01-01</td>\n",
       "      <td>542</td>\n",
       "      <td>30.74</td>\n",
       "    </tr>\n",
       "  </tbody>\n",
       "</table>\n",
       "</div>"
      ],
      "text/plain": [
       "   NUTS  DISTRICT_CODE  SUB_DISTRICT_CODE  REF_YEAR   REF_DATE  DOG_VALUE  \\\n",
       "0  AT13          90000              90000      2002 2002-01-01      46933   \n",
       "1  AT13          90100              90100      2002 2002-01-01        542   \n",
       "\n",
       "   DOG_DENSITY  \n",
       "0        29.87  \n",
       "1        30.74  "
      ]
     },
     "execution_count": 7,
     "metadata": {},
     "output_type": "execute_result"
    }
   ],
   "source": [
    "print(dogs_2002.dtypes)\n",
    "dogs_2002.head(2)"
   ]
  },
  {
   "cell_type": "markdown",
   "id": "RSZJCWbVDdm_",
   "metadata": {
    "id": "RSZJCWbVDdm_"
   },
   "source": [
    "* District Code and Sub District Code are the same --> removing Sub District Code\n",
    "* add Postal_CODE column for better comparison between datasets"
   ]
  },
  {
   "cell_type": "code",
   "execution_count": 8,
   "id": "0ElC1KTTCTrW",
   "metadata": {
    "colab": {
     "base_uri": "https://localhost:8080/"
    },
    "id": "0ElC1KTTCTrW",
    "outputId": "363fd93d-c1d0-4c8c-bedc-489e3c407c54"
   },
   "outputs": [
    {
     "name": "stdout",
     "output_type": "stream",
     "text": [
      "(array([ True]), array([528]))\n"
     ]
    },
    {
     "data": {
      "text/html": [
       "<div>\n",
       "<style scoped>\n",
       "    .dataframe tbody tr th:only-of-type {\n",
       "        vertical-align: middle;\n",
       "    }\n",
       "\n",
       "    .dataframe tbody tr th {\n",
       "        vertical-align: top;\n",
       "    }\n",
       "\n",
       "    .dataframe thead th {\n",
       "        text-align: right;\n",
       "    }\n",
       "</style>\n",
       "<table border=\"1\" class=\"dataframe\">\n",
       "  <thead>\n",
       "    <tr style=\"text-align: right;\">\n",
       "      <th></th>\n",
       "      <th>NUTS</th>\n",
       "      <th>DISTRICT_CODE</th>\n",
       "      <th>REF_YEAR</th>\n",
       "      <th>REF_DATE</th>\n",
       "      <th>DOG_VALUE</th>\n",
       "      <th>DOG_DENSITY</th>\n",
       "      <th>Postal_CODE</th>\n",
       "    </tr>\n",
       "  </thead>\n",
       "  <tbody>\n",
       "    <tr>\n",
       "      <th>0</th>\n",
       "      <td>AT13</td>\n",
       "      <td>90000</td>\n",
       "      <td>2002</td>\n",
       "      <td>2002-01-01</td>\n",
       "      <td>46933</td>\n",
       "      <td>29.87</td>\n",
       "      <td>1000</td>\n",
       "    </tr>\n",
       "    <tr>\n",
       "      <th>1</th>\n",
       "      <td>AT13</td>\n",
       "      <td>90100</td>\n",
       "      <td>2002</td>\n",
       "      <td>2002-01-01</td>\n",
       "      <td>542</td>\n",
       "      <td>30.74</td>\n",
       "      <td>1010</td>\n",
       "    </tr>\n",
       "  </tbody>\n",
       "</table>\n",
       "</div>"
      ],
      "text/plain": [
       "   NUTS  DISTRICT_CODE  REF_YEAR   REF_DATE  DOG_VALUE  DOG_DENSITY  \\\n",
       "0  AT13          90000      2002 2002-01-01      46933        29.87   \n",
       "1  AT13          90100      2002 2002-01-01        542        30.74   \n",
       "\n",
       "  Postal_CODE  \n",
       "0        1000  \n",
       "1        1010  "
      ]
     },
     "execution_count": 8,
     "metadata": {},
     "output_type": "execute_result"
    }
   ],
   "source": [
    "# only execute if not already done (avoids errors)\n",
    "if 'SUB_DISTRICT_CODE' in dogs_2002.columns:\n",
    "    print(np.unique([dogs_2002['DISTRICT_CODE'] == dogs_2002['SUB_DISTRICT_CODE']], return_counts=True)) # check that columns are actually the same\n",
    "    dogs_2002.drop(columns=['SUB_DISTRICT_CODE'], inplace=True)\n",
    "dogs_2002[\"Postal_CODE\"] = \"1\" + dogs_2002['DISTRICT_CODE'].astype(str).str[1:3] + \"0\"\n",
    "dogs_2002.head(2) # Postal_CODE=1000 represents Vienna in total"
   ]
  },
  {
   "cell_type": "markdown",
   "id": "KP8umAEWEaKh",
   "metadata": {
    "id": "KP8umAEWEaKh"
   },
   "source": [
    "Check for duplicates --> looks good:"
   ]
  },
  {
   "cell_type": "code",
   "execution_count": 9,
   "id": "4c954974",
   "metadata": {},
   "outputs": [
    {
     "data": {
      "text/plain": [
       "np.False_"
      ]
     },
     "execution_count": 9,
     "metadata": {},
     "output_type": "execute_result"
    }
   ],
   "source": [
    "dogs_2002.duplicated(subset=['DISTRICT_CODE', 'REF_YEAR']).any()"
   ]
  },
  {
   "cell_type": "markdown",
   "id": "Yb9o7VSC3PmW",
   "metadata": {
    "id": "Yb9o7VSC3PmW"
   },
   "source": [
    "#### Dataset 2\n",
    "  Number of registered dogs in Vienna per district and dog breed in the year 2024.\n",
    "\n",
    "  * NUTS1 NUTS2 NUTS3: same as before, but NUTS3 in addition: provides district information for Vienna\n",
    "  * DISTRICT_CODE: same structure as before\n",
    "  * SUB_DISTRICT_CODE\n",
    "  * Postal_CODE\n",
    "  * Dog Breed\n",
    "  * Anzahl\n",
    "  * Ref_Date\n",
    "\n",
    "Source: https://www.data.gv.at/katalog/dataset/71edef44-9d6c-4042-ab71-7207dc930ba7#additional-info"
   ]
  },
  {
   "cell_type": "markdown",
   "id": "o3r727dnBgMa",
   "metadata": {
    "id": "o3r727dnBgMa"
   },
   "source": [
    "##### Obtain"
   ]
  },
  {
   "cell_type": "code",
   "execution_count": 10,
   "id": "OZ33eJS5uLoR",
   "metadata": {
    "colab": {
     "base_uri": "https://localhost:8080/",
     "height": 311
    },
    "id": "OZ33eJS5uLoR",
    "outputId": "d5847ce1-9657-4d88-f4ae-28ff9db150d5"
   },
   "outputs": [
    {
     "name": "stdout",
     "output_type": "stream",
     "text": [
      "Dataframe shape:  (11117, 9)\n"
     ]
    },
    {
     "data": {
      "text/html": [
       "<div>\n",
       "<style scoped>\n",
       "    .dataframe tbody tr th:only-of-type {\n",
       "        vertical-align: middle;\n",
       "    }\n",
       "\n",
       "    .dataframe tbody tr th {\n",
       "        vertical-align: top;\n",
       "    }\n",
       "\n",
       "    .dataframe thead th {\n",
       "        text-align: right;\n",
       "    }\n",
       "</style>\n",
       "<table border=\"1\" class=\"dataframe\">\n",
       "  <thead>\n",
       "    <tr style=\"text-align: right;\">\n",
       "      <th></th>\n",
       "      <th>NUTS1</th>\n",
       "      <th>NUTS2</th>\n",
       "      <th>NUTS3</th>\n",
       "      <th>DISTRICT_CODE</th>\n",
       "      <th>SUB_DISTRICT_CODE</th>\n",
       "      <th>Postal_CODE</th>\n",
       "      <th>Dog Breed</th>\n",
       "      <th>Anzahl</th>\n",
       "      <th>Ref_Date</th>\n",
       "    </tr>\n",
       "  </thead>\n",
       "  <tbody>\n",
       "    <tr>\n",
       "      <th>0</th>\n",
       "      <td>AT1</td>\n",
       "      <td>AT13</td>\n",
       "      <td>AT113</td>\n",
       "      <td>90100</td>\n",
       "      <td>.</td>\n",
       "      <td>1010</td>\n",
       "      <td>Afghanischer Windhund / Mischling</td>\n",
       "      <td>1</td>\n",
       "      <td>20240603</td>\n",
       "    </tr>\n",
       "    <tr>\n",
       "      <th>1</th>\n",
       "      <td>AT1</td>\n",
       "      <td>AT13</td>\n",
       "      <td>AT113</td>\n",
       "      <td>90100</td>\n",
       "      <td>.</td>\n",
       "      <td>1010</td>\n",
       "      <td>Akita / Belgischer Schäferhund</td>\n",
       "      <td>1</td>\n",
       "      <td>20240603</td>\n",
       "    </tr>\n",
       "    <tr>\n",
       "      <th>2</th>\n",
       "      <td>AT1</td>\n",
       "      <td>AT13</td>\n",
       "      <td>AT113</td>\n",
       "      <td>90100</td>\n",
       "      <td>.</td>\n",
       "      <td>1010</td>\n",
       "      <td>Alaskan Malamute</td>\n",
       "      <td>1</td>\n",
       "      <td>20240603</td>\n",
       "    </tr>\n",
       "    <tr>\n",
       "      <th>3</th>\n",
       "      <td>AT1</td>\n",
       "      <td>AT13</td>\n",
       "      <td>AT113</td>\n",
       "      <td>90100</td>\n",
       "      <td>.</td>\n",
       "      <td>1010</td>\n",
       "      <td>American Cocker Spaniel</td>\n",
       "      <td>2</td>\n",
       "      <td>20240603</td>\n",
       "    </tr>\n",
       "    <tr>\n",
       "      <th>4</th>\n",
       "      <td>AT1</td>\n",
       "      <td>AT13</td>\n",
       "      <td>AT113</td>\n",
       "      <td>90100</td>\n",
       "      <td>.</td>\n",
       "      <td>1010</td>\n",
       "      <td>American Cocker Spaniel / Kleinpudel Schwarz</td>\n",
       "      <td>1</td>\n",
       "      <td>20240603</td>\n",
       "    </tr>\n",
       "  </tbody>\n",
       "</table>\n",
       "</div>"
      ],
      "text/plain": [
       "  NUTS1 NUTS2  NUTS3  DISTRICT_CODE SUB_DISTRICT_CODE  Postal_CODE  \\\n",
       "0   AT1  AT13  AT113          90100                 .         1010   \n",
       "1   AT1  AT13  AT113          90100                 .         1010   \n",
       "2   AT1  AT13  AT113          90100                 .         1010   \n",
       "3   AT1  AT13  AT113          90100                 .         1010   \n",
       "4   AT1  AT13  AT113          90100                 .         1010   \n",
       "\n",
       "                                      Dog Breed Anzahl  Ref_Date  \n",
       "0             Afghanischer Windhund / Mischling      1  20240603  \n",
       "1                Akita / Belgischer Schäferhund      1  20240603  \n",
       "2                              Alaskan Malamute      1  20240603  \n",
       "3                       American Cocker Spaniel      2  20240603  \n",
       "4  American Cocker Spaniel / Kleinpudel Schwarz      1  20240603  "
      ]
     },
     "execution_count": 10,
     "metadata": {},
     "output_type": "execute_result"
    }
   ],
   "source": [
    "# Import dataset 2\n",
    "dog_types_2024 = pd.read_csv(\"hunde-wien.csv\", sep=';', encoding='latin-1', skiprows=1, dtype={\"Anzahl\": \"object\"})\n",
    "\n",
    "print(\"Dataframe shape: \", dog_types_2024.shape)\n",
    "dog_types_2024.head(5)"
   ]
  },
  {
   "cell_type": "markdown",
   "id": "wOsgnkig3lLM",
   "metadata": {
    "id": "wOsgnkig3lLM"
   },
   "source": [
    "* The separator is ';'\n",
    "* The encoding is 'latin-1'.\n",
    "* The shape is (11117, 9).\n",
    "* Mixed breeds are also included, like 'Hovawart / Golden Retriever'.\n",
    "* Format is long:\n",
    "  * dog breeds can appear multiple times in breed-column. This is the case if at least two dogs of a breed are registered in different districts. If there is no dog of a specific breed registered in a distric, it is not listed in the dataset for this district.\n",
    "  * Every district and breed combination has a single count value\n",
    "* We import 'Anzahl'-column as objects, because there is a value that contains a '.' (Point). Therefore, it would be recognised as a float even though these values should be all integers."
   ]
  },
  {
   "cell_type": "markdown",
   "id": "LD3kkP6yBjxE",
   "metadata": {
    "id": "LD3kkP6yBjxE"
   },
   "source": [
    "##### Scrub"
   ]
  },
  {
   "cell_type": "code",
   "execution_count": 11,
   "id": "b8c1c6dc",
   "metadata": {},
   "outputs": [
    {
     "data": {
      "text/plain": [
       "NUTS1                0.0\n",
       "NUTS2                0.0\n",
       "NUTS3                0.0\n",
       "DISTRICT_CODE        0.0\n",
       "SUB_DISTRICT_CODE    0.0\n",
       "Postal_CODE          0.0\n",
       "Dog Breed            0.0\n",
       "Anzahl               0.0\n",
       "Ref_Date             0.0\n",
       "dtype: float64"
      ]
     },
     "execution_count": 11,
     "metadata": {},
     "output_type": "execute_result"
    }
   ],
   "source": [
    "# check columns and their missing data ratio => no missing data\n",
    "((dog_types_2024.isnull().sum() / len(dog_types_2024)) * 100).sort_values(ascending=False)"
   ]
  },
  {
   "cell_type": "code",
   "execution_count": 12,
   "id": "P41XHNLCBktj",
   "metadata": {
    "colab": {
     "base_uri": "https://localhost:8080/"
    },
    "id": "P41XHNLCBktj",
    "outputId": "aef54597-595a-4d45-fd22-56336480ba50"
   },
   "outputs": [
    {
     "data": {
      "text/html": [
       "<div>\n",
       "<style scoped>\n",
       "    .dataframe tbody tr th:only-of-type {\n",
       "        vertical-align: middle;\n",
       "    }\n",
       "\n",
       "    .dataframe tbody tr th {\n",
       "        vertical-align: top;\n",
       "    }\n",
       "\n",
       "    .dataframe thead th {\n",
       "        text-align: right;\n",
       "    }\n",
       "</style>\n",
       "<table border=\"1\" class=\"dataframe\">\n",
       "  <thead>\n",
       "    <tr style=\"text-align: right;\">\n",
       "      <th></th>\n",
       "      <th>NUTS1</th>\n",
       "      <th>NUTS2</th>\n",
       "      <th>NUTS3</th>\n",
       "      <th>DISTRICT_CODE</th>\n",
       "      <th>SUB_DISTRICT_CODE</th>\n",
       "      <th>Postal_CODE</th>\n",
       "      <th>Dog Breed</th>\n",
       "      <th>Anzahl</th>\n",
       "      <th>Ref_Date</th>\n",
       "    </tr>\n",
       "  </thead>\n",
       "  <tbody>\n",
       "    <tr>\n",
       "      <th>0</th>\n",
       "      <td>object</td>\n",
       "      <td>object</td>\n",
       "      <td>object</td>\n",
       "      <td>int64</td>\n",
       "      <td>object</td>\n",
       "      <td>int64</td>\n",
       "      <td>object</td>\n",
       "      <td>object</td>\n",
       "      <td>int64</td>\n",
       "    </tr>\n",
       "  </tbody>\n",
       "</table>\n",
       "</div>"
      ],
      "text/plain": [
       "    NUTS1   NUTS2   NUTS3 DISTRICT_CODE SUB_DISTRICT_CODE Postal_CODE  \\\n",
       "0  object  object  object         int64            object       int64   \n",
       "\n",
       "  Dog Breed  Anzahl Ref_Date  \n",
       "0    object  object    int64  "
      ]
     },
     "execution_count": 12,
     "metadata": {},
     "output_type": "execute_result"
    }
   ],
   "source": [
    "dog_types_2024.dtypes.to_frame().T"
   ]
  },
  {
   "cell_type": "markdown",
   "id": "b_-WR17pGj9e",
   "metadata": {
    "id": "b_-WR17pGj9e"
   },
   "source": [
    "Looks like some columns only have 1 unique value => NUTS1-3, SUB_DISTRICT_CODE and Ref_Date to be exact. Also, no district is missing, which is good."
   ]
  },
  {
   "cell_type": "code",
   "execution_count": 13,
   "id": "0d75f7a4",
   "metadata": {},
   "outputs": [
    {
     "data": {
      "text/plain": [
       "NUTS1                   1\n",
       "NUTS2                   1\n",
       "NUTS3                   1\n",
       "DISTRICT_CODE          23\n",
       "SUB_DISTRICT_CODE       1\n",
       "Postal_CODE            23\n",
       "Dog Breed            3481\n",
       "Anzahl                152\n",
       "Ref_Date                1\n",
       "dtype: int64"
      ]
     },
     "execution_count": 13,
     "metadata": {},
     "output_type": "execute_result"
    }
   ],
   "source": [
    "dog_types_2024.nunique()"
   ]
  },
  {
   "cell_type": "code",
   "execution_count": 14,
   "id": "36757578",
   "metadata": {},
   "outputs": [
    {
     "name": "stdout",
     "output_type": "stream",
     "text": [
      "DISTRICT_CODE: [90100 90200 90300 90400 90500 90600 90700 90800 90900 91000 91100 91200\n",
      " 91300 91400 91500 91600 91700 91800 91900 92000 92100 92200 92300]\n",
      "Postal_CODE: [1010 1020 1030 1040 1050 1060 1070 1080 1090 1100 1110 1120 1130 1140\n",
      " 1150 1160 1170 1180 1190 1200 1210 1220 1230]\n"
     ]
    }
   ],
   "source": [
    "print(\"DISTRICT_CODE:\", dog_types_2024[\"DISTRICT_CODE\"].unique())\n",
    "print(\"Postal_CODE:\", dog_types_2024[\"Postal_CODE\"].unique())"
   ]
  },
  {
   "cell_type": "markdown",
   "id": "5hVfZLltI_8L",
   "metadata": {
    "id": "5hVfZLltI_8L"
   },
   "source": [
    "Drop NUTS1, NUTS2, NUTS3 and SUB_DISTRICT CODE. Don't want to drop Ref_Date yet, maybe could be used for some insights with the above data frame."
   ]
  },
  {
   "cell_type": "code",
   "execution_count": 15,
   "id": "KTKCaSY2JUqT",
   "metadata": {
    "id": "KTKCaSY2JUqT"
   },
   "outputs": [
    {
     "data": {
      "text/html": [
       "<div>\n",
       "<style scoped>\n",
       "    .dataframe tbody tr th:only-of-type {\n",
       "        vertical-align: middle;\n",
       "    }\n",
       "\n",
       "    .dataframe tbody tr th {\n",
       "        vertical-align: top;\n",
       "    }\n",
       "\n",
       "    .dataframe thead th {\n",
       "        text-align: right;\n",
       "    }\n",
       "</style>\n",
       "<table border=\"1\" class=\"dataframe\">\n",
       "  <thead>\n",
       "    <tr style=\"text-align: right;\">\n",
       "      <th></th>\n",
       "      <th>DISTRICT_CODE</th>\n",
       "      <th>Postal_CODE</th>\n",
       "      <th>Dog Breed</th>\n",
       "      <th>Anzahl</th>\n",
       "      <th>Ref_Date</th>\n",
       "    </tr>\n",
       "  </thead>\n",
       "  <tbody>\n",
       "    <tr>\n",
       "      <th>0</th>\n",
       "      <td>int64</td>\n",
       "      <td>int64</td>\n",
       "      <td>object</td>\n",
       "      <td>object</td>\n",
       "      <td>datetime64[ns]</td>\n",
       "    </tr>\n",
       "  </tbody>\n",
       "</table>\n",
       "</div>"
      ],
      "text/plain": [
       "  DISTRICT_CODE Postal_CODE Dog Breed  Anzahl        Ref_Date\n",
       "0         int64       int64    object  object  datetime64[ns]"
      ]
     },
     "execution_count": 15,
     "metadata": {},
     "output_type": "execute_result"
    }
   ],
   "source": [
    "dog_types_2024 = dog_types_2024.drop(['NUTS1', 'NUTS2', 'NUTS3', 'SUB_DISTRICT_CODE'], axis=1)\n",
    "dog_types_2024['Ref_Date'] = pd.to_datetime(dog_types_2024['Ref_Date'].astype(str), format='%Y%m%d')\n",
    "dog_types_2024.dtypes.to_frame().T"
   ]
  },
  {
   "cell_type": "markdown",
   "id": "012410ea",
   "metadata": {},
   "source": [
    "The 'Anzahl'-column contains one value that currently cannot be converted to an integer without losing information. It seems that there are 1012 dogs of mixed breed 'Unbekannt / Mischling', which would be recognised as a float with decimal places:"
   ]
  },
  {
   "cell_type": "code",
   "execution_count": 16,
   "id": "43f99915",
   "metadata": {},
   "outputs": [
    {
     "data": {
      "text/html": [
       "<div>\n",
       "<style scoped>\n",
       "    .dataframe tbody tr th:only-of-type {\n",
       "        vertical-align: middle;\n",
       "    }\n",
       "\n",
       "    .dataframe tbody tr th {\n",
       "        vertical-align: top;\n",
       "    }\n",
       "\n",
       "    .dataframe thead th {\n",
       "        text-align: right;\n",
       "    }\n",
       "</style>\n",
       "<table border=\"1\" class=\"dataframe\">\n",
       "  <thead>\n",
       "    <tr style=\"text-align: right;\">\n",
       "      <th></th>\n",
       "      <th>DISTRICT_CODE</th>\n",
       "      <th>Postal_CODE</th>\n",
       "      <th>Dog Breed</th>\n",
       "      <th>Anzahl</th>\n",
       "      <th>Ref_Date</th>\n",
       "    </tr>\n",
       "  </thead>\n",
       "  <tbody>\n",
       "    <tr>\n",
       "      <th>10314</th>\n",
       "      <td>92200</td>\n",
       "      <td>1220</td>\n",
       "      <td>Unbekannt / Mischling</td>\n",
       "      <td>1.012</td>\n",
       "      <td>2024-06-03</td>\n",
       "    </tr>\n",
       "  </tbody>\n",
       "</table>\n",
       "</div>"
      ],
      "text/plain": [
       "       DISTRICT_CODE  Postal_CODE              Dog Breed Anzahl   Ref_Date\n",
       "10314          92200         1220  Unbekannt / Mischling  1.012 2024-06-03"
      ]
     },
     "execution_count": 16,
     "metadata": {},
     "output_type": "execute_result"
    }
   ],
   "source": [
    "dog_types_2024[dog_types_2024[\"Anzahl\"].str.contains(\".\", regex=False)]"
   ]
  },
  {
   "cell_type": "code",
   "execution_count": 17,
   "id": "hfAVhC4hK1kd",
   "metadata": {
    "colab": {
     "base_uri": "https://localhost:8080/",
     "height": 219
    },
    "id": "hfAVhC4hK1kd",
    "outputId": "b7fc8a8f-73c7-413d-87d2-9a8f9889f64b"
   },
   "outputs": [
    {
     "name": "stdout",
     "output_type": "stream",
     "text": [
      "DISTRICT_CODE             int64\n",
      "Postal_CODE               int64\n",
      "Dog Breed                object\n",
      "Anzahl                    int64\n",
      "Ref_Date         datetime64[ns]\n",
      "dtype: object\n"
     ]
    },
    {
     "data": {
      "text/html": [
       "<div>\n",
       "<style scoped>\n",
       "    .dataframe tbody tr th:only-of-type {\n",
       "        vertical-align: middle;\n",
       "    }\n",
       "\n",
       "    .dataframe tbody tr th {\n",
       "        vertical-align: top;\n",
       "    }\n",
       "\n",
       "    .dataframe thead th {\n",
       "        text-align: right;\n",
       "    }\n",
       "</style>\n",
       "<table border=\"1\" class=\"dataframe\">\n",
       "  <thead>\n",
       "    <tr style=\"text-align: right;\">\n",
       "      <th></th>\n",
       "      <th>DISTRICT_CODE</th>\n",
       "      <th>Postal_CODE</th>\n",
       "      <th>Dog Breed</th>\n",
       "      <th>Anzahl</th>\n",
       "      <th>Ref_Date</th>\n",
       "    </tr>\n",
       "  </thead>\n",
       "  <tbody>\n",
       "    <tr>\n",
       "      <th>0</th>\n",
       "      <td>90100</td>\n",
       "      <td>1010</td>\n",
       "      <td>Afghanischer Windhund / Mischling</td>\n",
       "      <td>1</td>\n",
       "      <td>2024-06-03</td>\n",
       "    </tr>\n",
       "    <tr>\n",
       "      <th>1</th>\n",
       "      <td>90100</td>\n",
       "      <td>1010</td>\n",
       "      <td>Akita / Belgischer Schäferhund</td>\n",
       "      <td>1</td>\n",
       "      <td>2024-06-03</td>\n",
       "    </tr>\n",
       "  </tbody>\n",
       "</table>\n",
       "</div>"
      ],
      "text/plain": [
       "   DISTRICT_CODE  Postal_CODE                          Dog Breed  Anzahl  \\\n",
       "0          90100         1010  Afghanischer Windhund / Mischling       1   \n",
       "1          90100         1010     Akita / Belgischer Schäferhund       1   \n",
       "\n",
       "    Ref_Date  \n",
       "0 2024-06-03  \n",
       "1 2024-06-03  "
      ]
     },
     "execution_count": 17,
     "metadata": {},
     "output_type": "execute_result"
    }
   ],
   "source": [
    "dog_types_2024[\"Anzahl\"] = dog_types_2024[\"Anzahl\"].str.replace('.','', regex=False).astype(int)\n",
    "print(dog_types_2024.dtypes) # we could also change dtype for 'Dog Breed' to 'category', but 3500 categories are a bit much. We leave it for now\n",
    "dog_types_2024.head(2)"
   ]
  },
  {
   "cell_type": "markdown",
   "id": "6gGBC4cuKEXn",
   "metadata": {
    "id": "6gGBC4cuKEXn"
   },
   "source": [
    "Check if some Dog Breeds have duplicates per district --> looks good."
   ]
  },
  {
   "cell_type": "code",
   "execution_count": 18,
   "id": "_mhXva3xLtnm",
   "metadata": {
    "colab": {
     "base_uri": "https://localhost:8080/"
    },
    "id": "_mhXva3xLtnm",
    "outputId": "86ab4548-0ae4-4467-828b-67becf533b67"
   },
   "outputs": [
    {
     "data": {
      "text/plain": [
       "np.False_"
      ]
     },
     "execution_count": 18,
     "metadata": {},
     "output_type": "execute_result"
    }
   ],
   "source": [
    "dog_types_2024.duplicated(subset=['Dog Breed', 'Postal_CODE']).any()"
   ]
  },
  {
   "cell_type": "markdown",
   "id": "wA1JypRoMm_R",
   "metadata": {
    "id": "wA1JypRoMm_R"
   },
   "source": [
    "Check if there are unknown Dog Breeds:\n",
    "  * There appear to be in total 50 entries in the dataset with at least partly unknown Dog Breeds.\n",
    "  * There are in total 8200 dogs with an at least partly uknown dog breed.\n",
    "  * The dataset has only 6 unique values in the 'Dog Breed'-column that contain an unknown dog breed.\n",
    "  * They are kept for the moment."
   ]
  },
  {
   "cell_type": "code",
   "execution_count": 19,
   "id": "efZTyQAPMra8",
   "metadata": {
    "colab": {
     "base_uri": "https://localhost:8080/"
    },
    "id": "efZTyQAPMra8",
    "outputId": "d0033e84-e6c2-404f-f750-e1bd7e8bdc58"
   },
   "outputs": [
    {
     "name": "stdout",
     "output_type": "stream",
     "text": [
      "Total number of entries with unknown dog breed: 50\n",
      "Total number of dogs with at least partly unknown dog breed: 8200\n",
      "Number of unknown dog breeds: 6\n",
      "Unknown dog breeds: ['Unbekannt' 'Unbekannt / Mischling' 'Unbekannt / Dackel'\n",
      " 'Unbekannt / Kleiner Münsterländer' 'Unbekannt / Mudi'\n",
      " 'Unbekannt / Pit Bull Terrier']\n"
     ]
    }
   ],
   "source": [
    "def check_for_unknown_dog_breeds(df: pd.DataFrame):\n",
    "    bool_unknown = df['Dog Breed'].str.contains('Unbekannt', case=False)\n",
    "    print(\"Total number of entries with unknown dog breed:\", bool_unknown.sum())\n",
    "    print(\"Total number of dogs with at least partly unknown dog breed:\", df[bool_unknown][\"Anzahl\"].sum())\n",
    "    tmp_array = df[bool_unknown]['Dog Breed'].unique()\n",
    "    print(\"Number of unknown dog breeds:\", len(tmp_array))\n",
    "    print(\"Unknown dog breeds:\", tmp_array)\n",
    "\n",
    "check_for_unknown_dog_breeds(dog_types_2024)"
   ]
  },
  {
   "cell_type": "code",
   "execution_count": 20,
   "id": "k7MhWV0sQEf2",
   "metadata": {
    "colab": {
     "base_uri": "https://localhost:8080/",
     "height": 206
    },
    "id": "k7MhWV0sQEf2",
    "outputId": "25354a4c-fa8f-47cf-bb60-23eb3ccf77ce"
   },
   "outputs": [
    {
     "data": {
      "text/html": [
       "<div>\n",
       "<style scoped>\n",
       "    .dataframe tbody tr th:only-of-type {\n",
       "        vertical-align: middle;\n",
       "    }\n",
       "\n",
       "    .dataframe tbody tr th {\n",
       "        vertical-align: top;\n",
       "    }\n",
       "\n",
       "    .dataframe thead th {\n",
       "        text-align: right;\n",
       "    }\n",
       "</style>\n",
       "<table border=\"1\" class=\"dataframe\">\n",
       "  <thead>\n",
       "    <tr style=\"text-align: right;\">\n",
       "      <th></th>\n",
       "      <th>DISTRICT_CODE</th>\n",
       "      <th>Postal_CODE</th>\n",
       "      <th>Dog Breed</th>\n",
       "      <th>Anzahl</th>\n",
       "      <th>Ref_Date</th>\n",
       "    </tr>\n",
       "  </thead>\n",
       "  <tbody>\n",
       "    <tr>\n",
       "      <th>0</th>\n",
       "      <td>90100</td>\n",
       "      <td>1010</td>\n",
       "      <td>Afghanischer Windhund / Mischling</td>\n",
       "      <td>1</td>\n",
       "      <td>2024-06-03</td>\n",
       "    </tr>\n",
       "    <tr>\n",
       "      <th>1</th>\n",
       "      <td>90100</td>\n",
       "      <td>1010</td>\n",
       "      <td>Akita / Belgischer Schäferhund</td>\n",
       "      <td>1</td>\n",
       "      <td>2024-06-03</td>\n",
       "    </tr>\n",
       "    <tr>\n",
       "      <th>2</th>\n",
       "      <td>90100</td>\n",
       "      <td>1010</td>\n",
       "      <td>Alaskan Malamute</td>\n",
       "      <td>1</td>\n",
       "      <td>2024-06-03</td>\n",
       "    </tr>\n",
       "    <tr>\n",
       "      <th>3</th>\n",
       "      <td>90100</td>\n",
       "      <td>1010</td>\n",
       "      <td>American Cocker Spaniel</td>\n",
       "      <td>2</td>\n",
       "      <td>2024-06-03</td>\n",
       "    </tr>\n",
       "    <tr>\n",
       "      <th>4</th>\n",
       "      <td>90100</td>\n",
       "      <td>1010</td>\n",
       "      <td>American Cocker Spaniel / Kleinpudel Schwarz</td>\n",
       "      <td>1</td>\n",
       "      <td>2024-06-03</td>\n",
       "    </tr>\n",
       "  </tbody>\n",
       "</table>\n",
       "</div>"
      ],
      "text/plain": [
       "   DISTRICT_CODE  Postal_CODE                                     Dog Breed  \\\n",
       "0          90100         1010             Afghanischer Windhund / Mischling   \n",
       "1          90100         1010                Akita / Belgischer Schäferhund   \n",
       "2          90100         1010                              Alaskan Malamute   \n",
       "3          90100         1010                       American Cocker Spaniel   \n",
       "4          90100         1010  American Cocker Spaniel / Kleinpudel Schwarz   \n",
       "\n",
       "   Anzahl   Ref_Date  \n",
       "0       1 2024-06-03  \n",
       "1       1 2024-06-03  \n",
       "2       1 2024-06-03  \n",
       "3       2 2024-06-03  \n",
       "4       1 2024-06-03  "
      ]
     },
     "execution_count": 20,
     "metadata": {},
     "output_type": "execute_result"
    }
   ],
   "source": [
    "dog_types_2024.head()"
   ]
  },
  {
   "cell_type": "markdown",
   "id": "sN1aYp3MS4E1",
   "metadata": {
    "id": "sN1aYp3MS4E1"
   },
   "source": [
    "We could also drop the postal_code column, since it basically provides the same data as the district_code column:"
   ]
  },
  {
   "cell_type": "code",
   "execution_count": 21,
   "id": "422cb121",
   "metadata": {},
   "outputs": [
    {
     "data": {
      "text/plain": [
       "array([ True])"
      ]
     },
     "execution_count": 21,
     "metadata": {},
     "output_type": "execute_result"
    }
   ],
   "source": [
    "(dog_types_2024[\"DISTRICT_CODE\"].astype(str).str[1:3] == dog_types_2024[\"Postal_CODE\"].astype(str).str[1:3]).unique() # compare 2-digit district code"
   ]
  },
  {
   "cell_type": "markdown",
   "id": "olBy7Wpa9HEn",
   "metadata": {
    "id": "olBy7Wpa9HEn"
   },
   "source": [
    "#### Dataset 3\n",
    "Number of registered dogs in Vienna per district and dog breed in the years 2012 to 2017. \n",
    "\n",
    "The layout of the dataset is basically the same as the one before, we only have data for multiple years.\n",
    "\n",
    "  * NUTS1: AT1\n",
    "  * NUTS2: AT13\n",
    "  * NUTS3: AT113\n",
    "  * DISTRICT_CODE: Bezirke, Format 9BB00\n",
    "  * SUB_DISTRICT_CODE: Zählbezirk, leer\n",
    "  * Postal_CODE: Postleitzahl, Format 1BB0\n",
    "  * Dog Breed: Hunderasse\n",
    "  * Anzahl: Anzahl der jeweiligen Hunderasse\n",
    "  * Ref_Date: Jahr\n",
    "\n",
    "Source: https://www.data.gv.at/katalog/dataset/31f526f5-2cf2-49f8-a63d-0c63a0f87a3e"
   ]
  },
  {
   "cell_type": "code",
   "execution_count": 22,
   "id": "Z7IybtAVr_xa",
   "metadata": {
    "colab": {
     "base_uri": "https://localhost:8080/",
     "height": 276
    },
    "id": "Z7IybtAVr_xa",
    "outputId": "9377503e-bdf4-407b-ac2d-d5b28ba3a252"
   },
   "outputs": [
    {
     "name": "stdout",
     "output_type": "stream",
     "text": [
      "Dataframe shape:  (33793, 9)\n"
     ]
    },
    {
     "data": {
      "text/html": [
       "<div>\n",
       "<style scoped>\n",
       "    .dataframe tbody tr th:only-of-type {\n",
       "        vertical-align: middle;\n",
       "    }\n",
       "\n",
       "    .dataframe tbody tr th {\n",
       "        vertical-align: top;\n",
       "    }\n",
       "\n",
       "    .dataframe thead th {\n",
       "        text-align: right;\n",
       "    }\n",
       "</style>\n",
       "<table border=\"1\" class=\"dataframe\">\n",
       "  <thead>\n",
       "    <tr style=\"text-align: right;\">\n",
       "      <th></th>\n",
       "      <th>NUTS1</th>\n",
       "      <th>NUTS2</th>\n",
       "      <th>NUTS3</th>\n",
       "      <th>DISTRICT_CODE</th>\n",
       "      <th>SUB_DISTRICT_CODE</th>\n",
       "      <th>Postal_CODE</th>\n",
       "      <th>Dog Breed</th>\n",
       "      <th>Anzahl</th>\n",
       "      <th>Ref_Date</th>\n",
       "    </tr>\n",
       "  </thead>\n",
       "  <tbody>\n",
       "    <tr>\n",
       "      <th>0</th>\n",
       "      <td>AT1</td>\n",
       "      <td>AT13</td>\n",
       "      <td>AT113</td>\n",
       "      <td>90100</td>\n",
       "      <td>.</td>\n",
       "      <td>1010</td>\n",
       "      <td>Afghanischer Windhund</td>\n",
       "      <td>1</td>\n",
       "      <td>20123112</td>\n",
       "    </tr>\n",
       "    <tr>\n",
       "      <th>1</th>\n",
       "      <td>AT1</td>\n",
       "      <td>AT13</td>\n",
       "      <td>AT113</td>\n",
       "      <td>90100</td>\n",
       "      <td>.</td>\n",
       "      <td>1010</td>\n",
       "      <td>Amerikanischer Cockerspaniel</td>\n",
       "      <td>1</td>\n",
       "      <td>20123112</td>\n",
       "    </tr>\n",
       "    <tr>\n",
       "      <th>2</th>\n",
       "      <td>AT1</td>\n",
       "      <td>AT13</td>\n",
       "      <td>AT113</td>\n",
       "      <td>90100</td>\n",
       "      <td>.</td>\n",
       "      <td>1010</td>\n",
       "      <td>Amerikanischer Staffordshire-Terrier</td>\n",
       "      <td>2</td>\n",
       "      <td>20123112</td>\n",
       "    </tr>\n",
       "    <tr>\n",
       "      <th>3</th>\n",
       "      <td>AT1</td>\n",
       "      <td>AT13</td>\n",
       "      <td>AT113</td>\n",
       "      <td>90100</td>\n",
       "      <td>.</td>\n",
       "      <td>1010</td>\n",
       "      <td>Australian Shepherd Dog</td>\n",
       "      <td>2</td>\n",
       "      <td>20123112</td>\n",
       "    </tr>\n",
       "    <tr>\n",
       "      <th>4</th>\n",
       "      <td>AT1</td>\n",
       "      <td>AT13</td>\n",
       "      <td>AT113</td>\n",
       "      <td>90100</td>\n",
       "      <td>.</td>\n",
       "      <td>1010</td>\n",
       "      <td>Australian Terrier</td>\n",
       "      <td>1</td>\n",
       "      <td>20123112</td>\n",
       "    </tr>\n",
       "  </tbody>\n",
       "</table>\n",
       "</div>"
      ],
      "text/plain": [
       "  NUTS1 NUTS2  NUTS3  DISTRICT_CODE SUB_DISTRICT_CODE  Postal_CODE  \\\n",
       "0   AT1  AT13  AT113          90100                 .         1010   \n",
       "1   AT1  AT13  AT113          90100                 .         1010   \n",
       "2   AT1  AT13  AT113          90100                 .         1010   \n",
       "3   AT1  AT13  AT113          90100                 .         1010   \n",
       "4   AT1  AT13  AT113          90100                 .         1010   \n",
       "\n",
       "                              Dog Breed Anzahl  Ref_Date  \n",
       "0                 Afghanischer Windhund      1  20123112  \n",
       "1          Amerikanischer Cockerspaniel      1  20123112  \n",
       "2  Amerikanischer Staffordshire-Terrier      2  20123112  \n",
       "3               Australian Shepherd Dog      2  20123112  \n",
       "4                    Australian Terrier      1  20123112  "
      ]
     },
     "execution_count": 22,
     "metadata": {},
     "output_type": "execute_result"
    }
   ],
   "source": [
    "# Import dataset 3\n",
    "dog_types_2012 = pd.read_csv(\"hunde-vie.csv\", sep=';', encoding='latin-1', skiprows=1, dtype={\"Anzahl\": \"object\"})\n",
    "\n",
    "print(\"Dataframe shape: \", dog_types_2012.shape)\n",
    "dog_types_2012.head(5)"
   ]
  },
  {
   "cell_type": "markdown",
   "id": "BKBsLUD09YSo",
   "metadata": {
    "id": "BKBsLUD09YSo"
   },
   "source": [
    "* The separator is ';'\n",
    "* The encoding is 'latin-1'.\n",
    "* The shape is (33793, 9).\n",
    "* Format is long:\n",
    "  * dog breeds can appear multiple times in breed-column. This is the case if at least two dogs of a breed are registered in different districts or in different years. If there is no dog of a specific breed registered in a distric, it is not listed in the dataset for this district.\n",
    "  * Every district, ref_date and breed combination has a single count value\n",
    "* We import the 'Anzahl'-column as objects and process them the same way as in the previous dataset.\n"
   ]
  },
  {
   "cell_type": "markdown",
   "id": "_fynsjn1VPj7",
   "metadata": {
    "id": "_fynsjn1VPj7"
   },
   "source": [
    "Repeat steps as with dataframe 2, since they have the same format."
   ]
  },
  {
   "cell_type": "code",
   "execution_count": 23,
   "id": "06ddb564",
   "metadata": {},
   "outputs": [
    {
     "data": {
      "text/plain": [
       "NUTS1                0.0\n",
       "NUTS2                0.0\n",
       "NUTS3                0.0\n",
       "DISTRICT_CODE        0.0\n",
       "SUB_DISTRICT_CODE    0.0\n",
       "Postal_CODE          0.0\n",
       "Dog Breed            0.0\n",
       "Anzahl               0.0\n",
       "Ref_Date             0.0\n",
       "dtype: float64"
      ]
     },
     "execution_count": 23,
     "metadata": {},
     "output_type": "execute_result"
    }
   ],
   "source": [
    "# check columns and their missing data ratio => no missing data\n",
    "((dog_types_2012.isnull().sum() / len(dog_types_2012)) * 100).sort_values(ascending=False)"
   ]
  },
  {
   "cell_type": "markdown",
   "id": "18884731",
   "metadata": {},
   "source": [
    "Looks like some columns only have 1 unique value => NUTS1-3 and SUB_DISTRICT_CODE to be exact. Also, no district is missing, which is good. We have 6 different years in the dataset:"
   ]
  },
  {
   "cell_type": "code",
   "execution_count": 24,
   "id": "18f633b2",
   "metadata": {},
   "outputs": [
    {
     "data": {
      "text/plain": [
       "NUTS1                   1\n",
       "NUTS2                   1\n",
       "NUTS3                   1\n",
       "DISTRICT_CODE          23\n",
       "SUB_DISTRICT_CODE       1\n",
       "Postal_CODE            23\n",
       "Dog Breed            1286\n",
       "Anzahl                337\n",
       "Ref_Date                6\n",
       "dtype: int64"
      ]
     },
     "execution_count": 24,
     "metadata": {},
     "output_type": "execute_result"
    }
   ],
   "source": [
    "dog_types_2012.nunique()"
   ]
  },
  {
   "cell_type": "markdown",
   "id": "3fabd2ed-a34b-4fde-95af-dc5991e7732a",
   "metadata": {},
   "source": [
    "Column Ref_Date contains more entries than above, lets see which years are included: 2012 to 2017"
   ]
  },
  {
   "cell_type": "code",
   "execution_count": 25,
   "id": "814bb703-4a26-4e55-8fb2-2aad5fd033eb",
   "metadata": {},
   "outputs": [
    {
     "data": {
      "text/plain": [
       "Ref_Date\n",
       "20173112    5886\n",
       "20163112    5822\n",
       "20153112    5768\n",
       "20143112    5691\n",
       "20133112    5501\n",
       "20123112    5125\n",
       "Name: count, dtype: int64"
      ]
     },
     "execution_count": 25,
     "metadata": {},
     "output_type": "execute_result"
    }
   ],
   "source": [
    "dog_types_2012['Ref_Date'].value_counts()"
   ]
  },
  {
   "cell_type": "code",
   "execution_count": 26,
   "id": "407d4c02",
   "metadata": {},
   "outputs": [
    {
     "name": "stdout",
     "output_type": "stream",
     "text": [
      "Ref_Date\n",
      "20123112    23\n",
      "20133112    23\n",
      "20143112    23\n",
      "20153112    23\n",
      "20163112    23\n",
      "20173112    23\n",
      "Name: DISTRICT_CODE, dtype: int64\n",
      "Ref_Date\n",
      "20123112    23\n",
      "20133112    23\n",
      "20143112    23\n",
      "20153112    23\n",
      "20163112    23\n",
      "20173112    23\n",
      "Name: Postal_CODE, dtype: int64\n"
     ]
    }
   ],
   "source": [
    "print(dog_types_2012.groupby(\"Ref_Date\")[\"DISTRICT_CODE\"].nunique()) # no districts missing in each year\n",
    "print(dog_types_2012.groupby(\"Ref_Date\")[\"Postal_CODE\"].nunique())"
   ]
  },
  {
   "cell_type": "code",
   "execution_count": 27,
   "id": "c9bee236",
   "metadata": {},
   "outputs": [
    {
     "data": {
      "text/html": [
       "<div>\n",
       "<style scoped>\n",
       "    .dataframe tbody tr th:only-of-type {\n",
       "        vertical-align: middle;\n",
       "    }\n",
       "\n",
       "    .dataframe tbody tr th {\n",
       "        vertical-align: top;\n",
       "    }\n",
       "\n",
       "    .dataframe thead th {\n",
       "        text-align: right;\n",
       "    }\n",
       "</style>\n",
       "<table border=\"1\" class=\"dataframe\">\n",
       "  <thead>\n",
       "    <tr style=\"text-align: right;\">\n",
       "      <th></th>\n",
       "      <th>NUTS1</th>\n",
       "      <th>NUTS2</th>\n",
       "      <th>NUTS3</th>\n",
       "      <th>DISTRICT_CODE</th>\n",
       "      <th>SUB_DISTRICT_CODE</th>\n",
       "      <th>Postal_CODE</th>\n",
       "      <th>Dog Breed</th>\n",
       "      <th>Anzahl</th>\n",
       "      <th>Ref_Date</th>\n",
       "    </tr>\n",
       "  </thead>\n",
       "  <tbody>\n",
       "    <tr>\n",
       "      <th>0</th>\n",
       "      <td>object</td>\n",
       "      <td>object</td>\n",
       "      <td>object</td>\n",
       "      <td>int64</td>\n",
       "      <td>object</td>\n",
       "      <td>int64</td>\n",
       "      <td>object</td>\n",
       "      <td>object</td>\n",
       "      <td>int64</td>\n",
       "    </tr>\n",
       "  </tbody>\n",
       "</table>\n",
       "</div>"
      ],
      "text/plain": [
       "    NUTS1   NUTS2   NUTS3 DISTRICT_CODE SUB_DISTRICT_CODE Postal_CODE  \\\n",
       "0  object  object  object         int64            object       int64   \n",
       "\n",
       "  Dog Breed  Anzahl Ref_Date  \n",
       "0    object  object    int64  "
      ]
     },
     "execution_count": 27,
     "metadata": {},
     "output_type": "execute_result"
    }
   ],
   "source": [
    "dog_types_2012.dtypes.to_frame().T"
   ]
  },
  {
   "cell_type": "markdown",
   "id": "1a7f3a39",
   "metadata": {},
   "source": [
    "'Anzahl' can be converted to integer this time without any additional steps:"
   ]
  },
  {
   "cell_type": "code",
   "execution_count": 28,
   "id": "f83bb30d",
   "metadata": {},
   "outputs": [
    {
     "name": "stdout",
     "output_type": "stream",
     "text": [
      "Empty DataFrame\n",
      "Columns: [NUTS1, NUTS2, NUTS3, DISTRICT_CODE, SUB_DISTRICT_CODE, Postal_CODE, Dog Breed, Anzahl, Ref_Date]\n",
      "Index: []\n"
     ]
    }
   ],
   "source": [
    "print(dog_types_2012[dog_types_2012[\"Anzahl\"].str.contains(r\"[\\.\\,]\", regex=True)]) # no entry with '.' or ','\n",
    "dog_types_2012[\"Anzahl\"] = dog_types_2012[\"Anzahl\"].astype(int)"
   ]
  },
  {
   "cell_type": "markdown",
   "id": "g8AKqKFpjIsM",
   "metadata": {
    "id": "g8AKqKFpjIsM"
   },
   "source": [
    "Change Ref_Date from int64 to date (important: format is now different to before: yyyy**dd**mm, not yyyymm**dd**):"
   ]
  },
  {
   "cell_type": "code",
   "execution_count": 29,
   "id": "ov71siqvZqZR",
   "metadata": {
    "colab": {
     "base_uri": "https://localhost:8080/"
    },
    "id": "ov71siqvZqZR",
    "outputId": "e345e9d7-5ff0-403f-8032-9989a62c1b29"
   },
   "outputs": [
    {
     "name": "stdout",
     "output_type": "stream",
     "text": [
      "  DISTRICT_CODE Postal_CODE Dog Breed Anzahl        Ref_Date\n",
      "0         int64       int64    object  int64  datetime64[ns]\n"
     ]
    }
   ],
   "source": [
    "dog_types_2012 = dog_types_2012.drop(['NUTS1', 'NUTS2', 'NUTS3', 'SUB_DISTRICT_CODE'], axis=1)\n",
    "dog_types_2012['Ref_Date'] = pd.to_datetime(dog_types_2012['Ref_Date'].astype(str), format='%Y%d%m') # convert int to real datetime\n",
    "print(dog_types_2012.dtypes.to_frame().T)"
   ]
  },
  {
   "cell_type": "markdown",
   "id": "SFdnZM0ZZ3Kt",
   "metadata": {
    "id": "SFdnZM0ZZ3Kt"
   },
   "source": [
    "Check for duplicates and unkown dog breeds --> has only the unknown dog breed 'Unbekannt' and no duplicates too.\n",
    "* Unkown can stay for now, even though their number is very high with 98.707 dogs (even if we consider that the dataset contains multiple years of data).\n",
    "\n"
   ]
  },
  {
   "cell_type": "code",
   "execution_count": 30,
   "id": "fc4745b1",
   "metadata": {},
   "outputs": [
    {
     "data": {
      "text/plain": [
       "np.False_"
      ]
     },
     "execution_count": 30,
     "metadata": {},
     "output_type": "execute_result"
    }
   ],
   "source": [
    "dog_types_2012.duplicated(subset=['Dog Breed', 'Postal_CODE', 'Ref_Date']).any()"
   ]
  },
  {
   "cell_type": "code",
   "execution_count": 31,
   "id": "GKd5YQOrVOIv",
   "metadata": {
    "colab": {
     "base_uri": "https://localhost:8080/"
    },
    "id": "GKd5YQOrVOIv",
    "outputId": "4d53a1a4-6a00-4360-a77b-79ecca8fccdd"
   },
   "outputs": [
    {
     "name": "stdout",
     "output_type": "stream",
     "text": [
      "Total number of entries with unknown dog breed: 138\n",
      "Total number of dogs with at least partly unknown dog breed: 98707\n",
      "Number of unknown dog breeds: 1\n",
      "Unknown dog breeds: ['Unbekannt']\n"
     ]
    }
   ],
   "source": [
    "check_for_unknown_dog_breeds(dog_types_2012)"
   ]
  },
  {
   "cell_type": "markdown",
   "id": "MeNL89tTmUnb",
   "metadata": {
    "id": "MeNL89tTmUnb"
   },
   "source": [
    "### Merging Dataset 2 and 3 as they contain the same info for different years"
   ]
  },
  {
   "cell_type": "code",
   "execution_count": 32,
   "id": "ZIagR3NNdPEZ",
   "metadata": {
    "colab": {
     "base_uri": "https://localhost:8080/",
     "height": 421
    },
    "id": "ZIagR3NNdPEZ",
    "outputId": "2219585f-18a8-4db2-bae5-72ddbd8d31d4"
   },
   "outputs": [
    {
     "name": "stdout",
     "output_type": "stream",
     "text": [
      "  DISTRICT_CODE Postal_CODE Dog Breed Anzahl        Ref_Date\n",
      "0         int64       int64    object  int64  datetime64[ns]\n",
      "  DISTRICT_CODE Postal_CODE Dog Breed Anzahl        Ref_Date\n",
      "0         int64       int64    object  int64  datetime64[ns]\n"
     ]
    }
   ],
   "source": [
    "print(dog_types_2024.dtypes.to_frame().T)\n",
    "print(dog_types_2012.dtypes.to_frame().T)"
   ]
  },
  {
   "cell_type": "code",
   "execution_count": 33,
   "id": "FyBenE93erHj",
   "metadata": {
    "id": "FyBenE93erHj"
   },
   "outputs": [
    {
     "name": "stdout",
     "output_type": "stream",
     "text": [
      "Shape: (44910, 5)\n"
     ]
    }
   ],
   "source": [
    "combined_dog_types = pd.concat([dog_types_2012, dog_types_2024]) # dataframes have same columns => concat\n",
    "print(\"Shape:\", combined_dog_types.shape)"
   ]
  },
  {
   "cell_type": "code",
   "execution_count": 34,
   "id": "oUbGYC1hZnCy",
   "metadata": {
    "colab": {
     "base_uri": "https://localhost:8080/",
     "height": 245
    },
    "id": "oUbGYC1hZnCy",
    "outputId": "ea9ce383-27c4-41d2-fc81-b877d53aaa1d"
   },
   "outputs": [
    {
     "data": {
      "text/html": [
       "<div>\n",
       "<style scoped>\n",
       "    .dataframe tbody tr th:only-of-type {\n",
       "        vertical-align: middle;\n",
       "    }\n",
       "\n",
       "    .dataframe tbody tr th {\n",
       "        vertical-align: top;\n",
       "    }\n",
       "\n",
       "    .dataframe thead th {\n",
       "        text-align: right;\n",
       "    }\n",
       "</style>\n",
       "<table border=\"1\" class=\"dataframe\">\n",
       "  <thead>\n",
       "    <tr style=\"text-align: right;\">\n",
       "      <th></th>\n",
       "      <th>Dog Breed</th>\n",
       "      <th>Affenpinscher</th>\n",
       "      <th>Affenpinscher / Afghanischer Windhund</th>\n",
       "      <th>Affenpinscher / Beagle</th>\n",
       "      <th>Affenpinscher / Border Terrier</th>\n",
       "      <th>Affenpinscher / Cairn Terrier</th>\n",
       "      <th>Affenpinscher / Griffon belge</th>\n",
       "      <th>Affenpinscher / Mischling</th>\n",
       "      <th>Affenpinscher / Scottish Terrier</th>\n",
       "      <th>Affenpinscher / Shih Tzu</th>\n",
       "      <th>Affenpinscher / Zwergschnauzer pfeffer-salz</th>\n",
       "      <th>...</th>\n",
       "      <th>Österreichischer Pinscher / Prager Rattler</th>\n",
       "      <th>Österreichischer Pinscher / Rauhhaar Dachshund Normal</th>\n",
       "      <th>Österreichischer Pinscher / Shar Pei</th>\n",
       "      <th>Österreichischer Pinscher / Spitz</th>\n",
       "      <th>Österreichischer Pinscher / Tibetan Spaniel</th>\n",
       "      <th>Österreichischer Pinscher / Weimaraner Kurzhaar</th>\n",
       "      <th>Österreichischer Pinscher / Whippet</th>\n",
       "      <th>Österreichischer Pinscher / Yorkshire Terrier</th>\n",
       "      <th>Österreichischer Pinscher / Zwergpudel Rot</th>\n",
       "      <th>Österreichischer Pinscher / Zwergspitz (Pomeranian)</th>\n",
       "    </tr>\n",
       "    <tr>\n",
       "      <th>Ref_Date</th>\n",
       "      <th>Postal_CODE</th>\n",
       "      <th></th>\n",
       "      <th></th>\n",
       "      <th></th>\n",
       "      <th></th>\n",
       "      <th></th>\n",
       "      <th></th>\n",
       "      <th></th>\n",
       "      <th></th>\n",
       "      <th></th>\n",
       "      <th></th>\n",
       "      <th></th>\n",
       "      <th></th>\n",
       "      <th></th>\n",
       "      <th></th>\n",
       "      <th></th>\n",
       "      <th></th>\n",
       "      <th></th>\n",
       "      <th></th>\n",
       "      <th></th>\n",
       "      <th></th>\n",
       "      <th></th>\n",
       "    </tr>\n",
       "  </thead>\n",
       "  <tbody>\n",
       "    <tr>\n",
       "      <th rowspan=\"2\" valign=\"top\">2024-06-03</th>\n",
       "      <th>1230</th>\n",
       "      <td>0.0</td>\n",
       "      <td>0.0</td>\n",
       "      <td>0.0</td>\n",
       "      <td>0.0</td>\n",
       "      <td>0.0</td>\n",
       "      <td>0.0</td>\n",
       "      <td>2.0</td>\n",
       "      <td>0.0</td>\n",
       "      <td>0.0</td>\n",
       "      <td>0.0</td>\n",
       "      <td>...</td>\n",
       "      <td>0.0</td>\n",
       "      <td>0.0</td>\n",
       "      <td>0.0</td>\n",
       "      <td>0.0</td>\n",
       "      <td>0.0</td>\n",
       "      <td>0.0</td>\n",
       "      <td>0.0</td>\n",
       "      <td>0.0</td>\n",
       "      <td>0.0</td>\n",
       "      <td>0.0</td>\n",
       "    </tr>\n",
       "    <tr>\n",
       "      <th>1120</th>\n",
       "      <td>1.0</td>\n",
       "      <td>0.0</td>\n",
       "      <td>0.0</td>\n",
       "      <td>0.0</td>\n",
       "      <td>0.0</td>\n",
       "      <td>0.0</td>\n",
       "      <td>0.0</td>\n",
       "      <td>0.0</td>\n",
       "      <td>0.0</td>\n",
       "      <td>0.0</td>\n",
       "      <td>...</td>\n",
       "      <td>0.0</td>\n",
       "      <td>0.0</td>\n",
       "      <td>0.0</td>\n",
       "      <td>0.0</td>\n",
       "      <td>0.0</td>\n",
       "      <td>0.0</td>\n",
       "      <td>0.0</td>\n",
       "      <td>0.0</td>\n",
       "      <td>0.0</td>\n",
       "      <td>0.0</td>\n",
       "    </tr>\n",
       "  </tbody>\n",
       "</table>\n",
       "<p>2 rows × 4312 columns</p>\n",
       "</div>"
      ],
      "text/plain": [
       "Dog Breed               Affenpinscher  Affenpinscher / Afghanischer Windhund  \\\n",
       "Ref_Date   Postal_CODE                                                         \n",
       "2024-06-03 1230                   0.0                                    0.0   \n",
       "           1120                   1.0                                    0.0   \n",
       "\n",
       "Dog Breed               Affenpinscher / Beagle  \\\n",
       "Ref_Date   Postal_CODE                           \n",
       "2024-06-03 1230                            0.0   \n",
       "           1120                            0.0   \n",
       "\n",
       "Dog Breed               Affenpinscher / Border Terrier  \\\n",
       "Ref_Date   Postal_CODE                                   \n",
       "2024-06-03 1230                                    0.0   \n",
       "           1120                                    0.0   \n",
       "\n",
       "Dog Breed               Affenpinscher / Cairn Terrier  \\\n",
       "Ref_Date   Postal_CODE                                  \n",
       "2024-06-03 1230                                   0.0   \n",
       "           1120                                   0.0   \n",
       "\n",
       "Dog Breed               Affenpinscher / Griffon belge  \\\n",
       "Ref_Date   Postal_CODE                                  \n",
       "2024-06-03 1230                                   0.0   \n",
       "           1120                                   0.0   \n",
       "\n",
       "Dog Breed               Affenpinscher / Mischling  \\\n",
       "Ref_Date   Postal_CODE                              \n",
       "2024-06-03 1230                               2.0   \n",
       "           1120                               0.0   \n",
       "\n",
       "Dog Breed               Affenpinscher / Scottish Terrier  \\\n",
       "Ref_Date   Postal_CODE                                     \n",
       "2024-06-03 1230                                      0.0   \n",
       "           1120                                      0.0   \n",
       "\n",
       "Dog Breed               Affenpinscher / Shih Tzu  \\\n",
       "Ref_Date   Postal_CODE                             \n",
       "2024-06-03 1230                              0.0   \n",
       "           1120                              0.0   \n",
       "\n",
       "Dog Breed               Affenpinscher / Zwergschnauzer pfeffer-salz  ...  \\\n",
       "Ref_Date   Postal_CODE                                               ...   \n",
       "2024-06-03 1230                                                 0.0  ...   \n",
       "           1120                                                 0.0  ...   \n",
       "\n",
       "Dog Breed               Österreichischer Pinscher / Prager Rattler  \\\n",
       "Ref_Date   Postal_CODE                                               \n",
       "2024-06-03 1230                                                0.0   \n",
       "           1120                                                0.0   \n",
       "\n",
       "Dog Breed               Österreichischer Pinscher / Rauhhaar Dachshund Normal  \\\n",
       "Ref_Date   Postal_CODE                                                          \n",
       "2024-06-03 1230                                                       0.0       \n",
       "           1120                                                       0.0       \n",
       "\n",
       "Dog Breed               Österreichischer Pinscher / Shar Pei  \\\n",
       "Ref_Date   Postal_CODE                                         \n",
       "2024-06-03 1230                                          0.0   \n",
       "           1120                                          0.0   \n",
       "\n",
       "Dog Breed               Österreichischer Pinscher / Spitz  \\\n",
       "Ref_Date   Postal_CODE                                      \n",
       "2024-06-03 1230                                       0.0   \n",
       "           1120                                       0.0   \n",
       "\n",
       "Dog Breed               Österreichischer Pinscher / Tibetan Spaniel  \\\n",
       "Ref_Date   Postal_CODE                                                \n",
       "2024-06-03 1230                                                 0.0   \n",
       "           1120                                                 0.0   \n",
       "\n",
       "Dog Breed               Österreichischer Pinscher / Weimaraner Kurzhaar  \\\n",
       "Ref_Date   Postal_CODE                                                    \n",
       "2024-06-03 1230                                                     0.0   \n",
       "           1120                                                     0.0   \n",
       "\n",
       "Dog Breed               Österreichischer Pinscher / Whippet  \\\n",
       "Ref_Date   Postal_CODE                                        \n",
       "2024-06-03 1230                                         0.0   \n",
       "           1120                                         0.0   \n",
       "\n",
       "Dog Breed               Österreichischer Pinscher / Yorkshire Terrier  \\\n",
       "Ref_Date   Postal_CODE                                                  \n",
       "2024-06-03 1230                                                   0.0   \n",
       "           1120                                                   0.0   \n",
       "\n",
       "Dog Breed               Österreichischer Pinscher / Zwergpudel Rot  \\\n",
       "Ref_Date   Postal_CODE                                               \n",
       "2024-06-03 1230                                                0.0   \n",
       "           1120                                                0.0   \n",
       "\n",
       "Dog Breed               Österreichischer Pinscher / Zwergspitz (Pomeranian)  \n",
       "Ref_Date   Postal_CODE                                                       \n",
       "2024-06-03 1230                                                       0.0    \n",
       "           1120                                                       0.0    \n",
       "\n",
       "[2 rows x 4312 columns]"
      ]
     },
     "execution_count": 34,
     "metadata": {},
     "output_type": "execute_result"
    }
   ],
   "source": [
    "combined_dog_types_by_year_and_district = combined_dog_types.pivot_table(index=['Ref_Date', 'Postal_CODE'], columns='Dog Breed', values='Anzahl', fill_value=0).sort_values(by='Ref_Date', ascending=False)\n",
    "combined_dog_types_by_year_and_district.head(2)"
   ]
  },
  {
   "cell_type": "markdown",
   "id": "abbec008-d77f-4231-82dc-07badc957d84",
   "metadata": {},
   "source": [
    "Sanity Check: \n",
    "\n",
    "Values are the same (apart from 0) --> looks good. "
   ]
  },
  {
   "cell_type": "code",
   "execution_count": 35,
   "id": "2f2dac57-7a61-419b-8f6d-b68ba824a1ad",
   "metadata": {},
   "outputs": [
    {
     "name": "stdout",
     "output_type": "stream",
     "text": [
      "{np.float64(0.0)}\n"
     ]
    }
   ],
   "source": [
    "unique_values = []\n",
    "unique_values_single = []\n",
    "for col in combined_dog_types_by_year_and_district.columns:\n",
    "    unique_values.extend(combined_dog_types_by_year_and_district[col].unique())\n",
    "\n",
    "unique_values_single.extend(dog_types_2012['Anzahl'].unique())\n",
    "unique_values_single.extend(dog_types_2024['Anzahl'].unique())\n",
    "unique_values_single = set(unique_values_single)\n",
    "unique_values = set(unique_values)\n",
    "differences = unique_values.symmetric_difference(unique_values_single)\n",
    "print(differences)"
   ]
  },
  {
   "cell_type": "markdown",
   "id": "b041e827-fd81-4eb8-95d3-9e6ae1c77ca7",
   "metadata": {
    "id": "b041e827-fd81-4eb8-95d3-9e6ae1c77ca7"
   },
   "source": [
    "## E2 - Exploratory data analysis (EDA)\n",
    "Use the clean dataset and understand and explore the relationships in the data (numerical, visual, statistical). This includes at least but is not limited to:\n",
    "- A comprehensive textual description of meaning for relevant fields in the dataset\n",
    "- Statistical/numerical descriptions and visualization techniques we learned in the course inluding correlations, distributions and groupings of variing degrees.\n",
    "- Checks for data quality, e. g., completeness, plausibility, outliers\n",
    "- Handling any identified problems with the data\n",
    "- If necessary, use additional data wrangling in line with your EDA and only keep what's necessary for the following steps of your analysis with appropriate data granularity and form (\"tidy data\")\n",
    "\n",
    "Don't:\n",
    "- test/prove hypotheses here. EDA should only motivate hypotheses.\n",
    "\n",
    "Advanced/bonus:\n",
    "- Depending on your hypothesis you may want to join external data (e.g., merge external highest education level to existing vaccination data) for additional insights.\n",
    "\n",
    "Explain all steps taken and your thinking why you deem them necessary."
   ]
  },
  {
   "cell_type": "code",
   "execution_count": 36,
   "id": "370ab718-fa85-4fd8-adee-7643970042ad",
   "metadata": {
    "id": "370ab718-fa85-4fd8-adee-7643970042ad"
   },
   "outputs": [],
   "source": [
    "# No missing data - TODO: heatmaps still necessary?\n"
   ]
  },
  {
   "cell_type": "markdown",
   "id": "5215f224",
   "metadata": {},
   "source": [
    "BOXPLOTS"
   ]
  },
  {
   "cell_type": "code",
   "execution_count": null,
   "id": "763c2354",
   "metadata": {},
   "outputs": [],
   "source": [
    "# dogs_2002: Check which DOG_VALUEs are outliers for each year\n",
    "# TODO: add comments\n",
    "df_dogs_2002_boxplots = dogs_2002[(dogs_2002[\"Postal_CODE\"] != \"1000\")].sort_values(by=[\"REF_YEAR\", \"Postal_CODE\"], ascending=[True, True]) # sort for year first, so we can correctly append the isOutlier column\n",
    "array_is_outlier = np.array([], dtype=bool)\n",
    "whis_ratio = 1.5\n",
    "for year in range(df_dogs_2002_boxplots[\"REF_YEAR\"].min(), df_dogs_2002_boxplots[\"REF_YEAR\"].max() + 1): # using loop across years to calculate quartiles only once per year\n",
    "    tmp_filtered_df = df_dogs_2002_boxplots[df_dogs_2002_boxplots[\"REF_YEAR\"] == year] # save filtered df because we need it multiple times\n",
    "    first_quartile, median, third_quartile = tmp_filtered_df[\"DOG_VALUE\"].quantile([0.25, 0.5, 0.75])\n",
    "    len_whisk = (third_quartile - first_quartile) * whis_ratio\n",
    "    upper_whisk_limit = third_quartile + len_whisk\n",
    "    lower_whisk_limit = first_quartile - len_whisk\n",
    "    array_is_outlier = np.append(array_is_outlier, \n",
    "                                 np.where( (tmp_filtered_df[\"DOG_VALUE\"] > upper_whisk_limit) | (tmp_filtered_df[\"DOG_VALUE\"] < lower_whisk_limit), # if outlier, set True\n",
    "                                          True, False))\n",
    "df_dogs_2002_boxplots[\"Outlier\"] = array_is_outlier\n",
    "\n",
    "palette = sns.color_palette(\"Set2\")[0:2] # get two colors from a sns palette\n",
    "g = sns.boxplot(df_dogs_2002_boxplots, y=\"DOG_VALUE\", x='REF_YEAR', width=.5, whis = whis_ratio, legend=False)\n",
    "g = sns.swarmplot(df_dogs_2002_boxplots, y=\"DOG_VALUE\", x='REF_YEAR', size=3.25, hue='Outlier', palette=palette, legend=False)\n",
    "outlier_districts = df_dogs_2002_boxplots[df_dogs_2002_boxplots[\"Outlier\"]][\"Postal_CODE\"].unique()\n",
    "plt.legend(title=None, labels=[f\"Outlier districts: {', '.join(outlier_districts)}\"], handles=[Line2D([0],[0], marker='o', color='w', label='Scatter', markerfacecolor=palette[1], markersize=7)])\n",
    "sns.despine()    # remove the top and right line in graph\n",
    "g.figure.set_size_inches(15,6)\n",
    "g.set(xlabel=\"Year\", ylabel=\"Absolute number of dogs\")\n",
    "g.set_title(\"Absolute number of dogs in Vienna per year\", loc=\"left\", weight='bold', fontsize=18)\n",
    "x_location = g.axes.get_xticklabels()[-1].get_position()[0]\n",
    "for district in outlier_districts:\n",
    "    y_location = df_dogs_2002_boxplots[(df_dogs_2002_boxplots[\"REF_YEAR\"]==2023) & (df_dogs_2002_boxplots[\"Postal_CODE\"]==district)][\"DOG_VALUE\"].values[0] + 150\n",
    "    plt.annotate(text=district, xy=(x_location, y_location))\n",
    "plt.show()\n",
    "# TODO: please remove output of this cell (=plot) before commit"
   ]
  },
  {
   "cell_type": "markdown",
   "id": "d67258d0",
   "metadata": {},
   "source": [
    "BARPLOTS"
   ]
  },
  {
   "cell_type": "code",
   "execution_count": 38,
   "id": "211ac670",
   "metadata": {},
   "outputs": [],
   "source": [
    "# Not so good - Barplot: Dogs per breed in Vienna per year\n",
    "#df_top10_2012 = dog_types_2012.groupby([\"Ref_Date\", \"Dog Breed\"]).agg(count = (\"Anzahl\", \"sum\")).sort_values([\"count\"], ascending=False).groupby([\"Ref_Date\"]).head(100) # double groupby and agg using sum-function to avoid deprecation warning of other methods\n",
    "#df_top10_2012 = df_top10_2012.reset_index()\n",
    "#fig = px.bar(df_top10_2012, x=\"Ref_Date\", y=\"count\", color=\"Dog Breed\", title=\"Dogs per breed in Vienna per year\")\n",
    "# TODO: leftshift years 1 year\n",
    "#fig.show()"
   ]
  },
  {
   "cell_type": "code",
   "execution_count": null,
   "id": "f48127df",
   "metadata": {},
   "outputs": [],
   "source": [
    "# Plot: Absolute number of dogs of the top 30 breeds (across all districts in 2024)\n",
    "sum_dog_types_2024 = pd.DataFrame(dog_types_2024.groupby(\"Dog Breed\")[\"Anzahl\"].sum())\n",
    "top30_sum_dog_types_2024 = sum_dog_types_2024.sort_values(by=\"Anzahl\", ascending=False).head(30).reset_index()\n",
    "bool_unbekannt_top30_2024 = top30_sum_dog_types_2024[\"Dog Breed\"].str.contains(\"Unbekannt\", case=False)\n",
    "\n",
    "fig, ax = plt.subplots(figsize=(10,7))\n",
    "sns.barplot(top30_sum_dog_types_2024, x=\"Anzahl\", y=\"Dog Breed\", color=\"blue\", ax=ax)\n",
    "sns.despine(ax=ax, trim=True)\n",
    "for i in np.arange(len(top30_sum_dog_types_2024))[bool_unbekannt_top30_2024]:\n",
    "    ax.patches[i].set_color('orange')\n",
    "ax.set_title(\"Absolute number of dogs of the top 30 breeds (across all districts in 2024)\\n[Unknown marked in orange]\", loc=\"left\")\n",
    "ax.grid(axis=\"x\")\n",
    "# TODO: please remove output of this cell (=plot) before commit"
   ]
  },
  {
   "cell_type": "code",
   "execution_count": null,
   "id": "36da04cc",
   "metadata": {},
   "outputs": [],
   "source": [
    "# Barplot: Absolute number of dogs across all districts in Vienna per year (dogs_2002)\n",
    "fig = px.bar(dogs_2002[dogs_2002[\"Postal_CODE\"] != \"1000\"], x=\"REF_YEAR\", y=\"DOG_VALUE\", color=\"Postal_CODE\", title=\"Absolute number of dogs across all districts in Vienna per year (2002-2023)\",\n",
    "             labels={\"REF_YEAR\": \"year\",\"DOG_VALUE\": \"Absolute number of dogs\",\"Postal_CODE\": \"postal code\"}\n",
    "            )\n",
    "fig.update_xaxes(dtick=1)\n",
    "fig.show()\n",
    "# TODO: please remove output of this cell (=plot) before commit"
   ]
  },
  {
   "cell_type": "code",
   "execution_count": 41,
   "id": "ce4a1bf1",
   "metadata": {},
   "outputs": [],
   "source": [
    "# TODO: delete or find useful plot\n",
    "df_top10_2024 = dog_types_2024.groupby([\"Postal_CODE\", \"Dog Breed\"]).agg(count = (\"Anzahl\", \"sum\")).sort_values([\"count\"], ascending=False).groupby([\"Postal_CODE\"]).head(10) # double groupby and agg using sum-function to avoid deprecation warning of other methods\n",
    "df_top10_2024 = df_top10_2024.reset_index()"
   ]
  },
  {
   "cell_type": "code",
   "execution_count": null,
   "id": "bc62f132-be6d-46cc-9697-25546ac356cb",
   "metadata": {
    "id": "bc62f132-be6d-46cc-9697-25546ac356cb"
   },
   "outputs": [],
   "source": [
    "# plot: total number of dogs per district and year\n",
    "# TODO: how to handle jump between 2018 and 2024? Make colors better, maybe continuous color scale?\n",
    "df_years_district = pd.DataFrame(combined_dog_types.groupby([\"Ref_Date\", \"Postal_CODE\"])[\"Anzahl\"].sum().reset_index())\n",
    "px.line(df_years_district, x=\"Ref_Date\", y=\"Anzahl\", color='Postal_CODE', markers=True)\n",
    "# TODO: please remove output of this cell (=plot) before commit"
   ]
  },
  {
   "cell_type": "code",
   "execution_count": 43,
   "id": "73cfc26f",
   "metadata": {},
   "outputs": [
    {
     "data": {
      "text/html": [
       "<div>\n",
       "<style scoped>\n",
       "    .dataframe tbody tr th:only-of-type {\n",
       "        vertical-align: middle;\n",
       "    }\n",
       "\n",
       "    .dataframe tbody tr th {\n",
       "        vertical-align: top;\n",
       "    }\n",
       "\n",
       "    .dataframe thead th {\n",
       "        text-align: right;\n",
       "    }\n",
       "</style>\n",
       "<table border=\"1\" class=\"dataframe\">\n",
       "  <thead>\n",
       "    <tr style=\"text-align: right;\">\n",
       "      <th></th>\n",
       "      <th>BEZNR</th>\n",
       "      <th>District_Name</th>\n",
       "    </tr>\n",
       "  </thead>\n",
       "  <tbody>\n",
       "    <tr>\n",
       "      <th>0</th>\n",
       "      <td>1</td>\n",
       "      <td>Innere Stadt</td>\n",
       "    </tr>\n",
       "    <tr>\n",
       "      <th>1</th>\n",
       "      <td>2</td>\n",
       "      <td>Leopoldstadt</td>\n",
       "    </tr>\n",
       "  </tbody>\n",
       "</table>\n",
       "</div>"
      ],
      "text/plain": [
       "  BEZNR District_Name\n",
       "0     1  Innere Stadt\n",
       "1     2  Leopoldstadt"
      ]
     },
     "execution_count": 43,
     "metadata": {},
     "output_type": "execute_result"
    }
   ],
   "source": [
    "# preprocessing for geo-data plots\n",
    "df_beznr_district_mapping = pd.read_csv(\"beznr-district-mapping.csv\", sep=',', dtype={\"BEZNR\": object}) # additional mapping between beznr and district name because geojson contains only name of district\n",
    "df_beznr_district_mapping.head(2)"
   ]
  },
  {
   "cell_type": "code",
   "execution_count": null,
   "id": "751cdf69",
   "metadata": {},
   "outputs": [],
   "source": [
    "# plot: total number of dogs per district and year\n",
    "df_years_district[\"BEZNR\"] = df_years_district[\"Postal_CODE\"].astype(str).str[1:3].astype(\"int32\").astype(str)\n",
    "df_years_district[\"year\"] = df_years_district[\"Ref_Date\"].dt.strftime(\"%Y\").astype(\"int32\")\n",
    "df_years_district = df_years_district.merge(df_beznr_district_mapping, on=\"BEZNR\", how=\"left\")\n",
    "with open('vienna_.geojson', 'r') as file:\n",
    "    geo_json = json.load(file)\n",
    "fig = px.choropleth(df_years_district,\n",
    "                    geojson=geo_json,\n",
    "                    color=\"Anzahl\",\n",
    "                    animation_frame='year',\n",
    "                    locations=\"District_Name\",\n",
    "                    featureidkey=\"properties.name\",\n",
    "                    projection=\"mercator\",\n",
    "                    color_continuous_scale=\"deep\",\n",
    "                    title=\"Total number of dogs per district and year\"\n",
    "                   ) # TODO: maybe use log scaling\n",
    "fig.update_geos(fitbounds=\"locations\", visible=False)\n",
    "fig.update_layout(height=500,width=500)\n",
    "fig.show()\n",
    "# TODO: please remove output of this cell (=plot) before commit"
   ]
  },
  {
   "cell_type": "code",
   "execution_count": null,
   "id": "69d85c49",
   "metadata": {},
   "outputs": [],
   "source": [
    "# plot: absolute number of dogs since 2002\n",
    "geo_dogs_2002 = dogs_2002.copy()\n",
    "geo_dogs_2002[\"BEZNR\"] = geo_dogs_2002[\"DISTRICT_CODE\"].astype(str).str[1:3].astype(\"int32\").astype(str)\n",
    "geo_dogs_2002 = geo_dogs_2002.merge(df_beznr_district_mapping, on=\"BEZNR\", how=\"left\")\n",
    "fig = px.choropleth(geo_dogs_2002,\n",
    "                    geojson=geo_json,\n",
    "                    color=np.log2(geo_dogs_2002[\"DOG_VALUE\"]), # TODO: maybe use log scaling\n",
    "                    animation_frame='REF_YEAR',\n",
    "                    locations=\"District_Name\",\n",
    "                    featureidkey=\"properties.name\",\n",
    "                    projection=\"mercator\",\n",
    "                    color_continuous_scale=\"deep\",\n",
    "                    title=\"absolute number of dogs since 2002\"\n",
    "                   ) \n",
    "fig.update_geos(fitbounds=\"locations\", visible=False)\n",
    "fig.update_layout(height=500,width=500)\n",
    "fig.update_layout(coloraxis_colorbar=dict(\n",
    "    title=\"Absolute number [log2]\"#,\n",
    "    #tickvals=[6,7,8,9],\n",
    "    #ticktext=[\"\", \"10M\", \"100M\", \"1B\"],\n",
    "))\n",
    "fig.show()\n",
    "# TODO: maybe concentrate on some specific districts\n",
    "# TODO: please remove output of this cell (=plot) before commit"
   ]
  },
  {
   "cell_type": "markdown",
   "id": "277ea477-7d0c-407b-970e-212d64b5ec94",
   "metadata": {
    "id": "277ea477-7d0c-407b-970e-212d64b5ec94"
   },
   "source": [
    "## E3 - Formulate hypotheses\n",
    "\n",
    "*Note: Read this section entirely and understand it - every group member.*\n",
    "\n",
    "A hypothesis is an idea or explanation for something that is based on known facts but has not yet been proved. A hypothesis is a compact, concise statement, such as: \"Individuals with higher income have (on average) more offspring.\", that will be answered based on facts (the data). https://gradcoach.com/what-is-a-research-hypothesis-or-scientific-hypothesis/\n",
    "\n",
    "Formulate *N* non-trivial hypotheses, 1 per group member, and regard the following criteria:\n",
    "- State the hypothesis explicitly in concise language.\n",
    "- The hypothesis must be **motivated** by either **EDA results** or **literature** (citation in the report needed).\n",
    "- The hypothesis must refer to **endpoints** that are **testable**. Specifically, the endpoint must be derived from the data.\n",
    "- Think of real-life use cases/consequences of your results (textual description).\n",
    "- For each hypothesis explain all executed steps.\n",
    "- In case of extreme or implausible results check the validity of your data.\n",
    "- For each hypothesis export the artifacts (figures, tables, etc.) required for the report.\n",
    "- If you decide to use a statistical test, use it properly. In particular, check the validity and comparability of the samples.\n",
    "\n",
    "Do not:\n",
    "- State nebulous, vague hypotheses. These don't contain endpoints and are unclear to test (i.e., answer).\n",
    "- Use post-hoc hypotheses. Portraying an empirically inspired **post hoc hypothesis as a priori** violates the **falsification principle** crucial for hypothesis-driven (that is, confirmatory) empirical research. Falsification is severe scientific fraud.\n",
    "- State trivial hypotheses (e.g., hypthesis 2: \"Not Hypothesis 1\").\n",
    "- Answer based on \"common knowledge\".\n",
    "- Try to **produce positively tested hypotheses**. If a well motivated hypothesis is negative, this is an important finding (see Simpson's Paradox). The value of a tested hypothesis lies in the information or learning it provides.\n",
    "\n",
    "Example: The homework with Simpson's Paradox. The pooled overall comparison between the genders would be the EDA motivating the hypothesis: \"At UC Berkeley the by-department admissions rate for females is lower than for males.\" It should be tested using samples of department admission rates for the 2 **groups** male and female. No steps of the test should be done in EDA (or a priory to stating the hypothesis). The groups should be compared graphically, e.g., via a stripplot overlayed with a boxplot. The figure should be labelled properly and exported for the report. A (paired) t-test **may** be used (it's optional) to test this hypothesis statistically. For different data (e.g., time series) different approaches may be required. You don't have to use statistical tests, in particular if you don't know what they are doing.\n"
   ]
  },
  {
   "cell_type": "markdown",
   "id": "09613f9f-d3ff-4b8d-b975-88437a72815c",
   "metadata": {
    "id": "09613f9f-d3ff-4b8d-b975-88437a72815c"
   },
   "source": [
    "### E3-H1: \"The prevalence of specific dog breeds in Vienna is strongly influenced by real estate prices.\"\n",
    "Rationale: Higher real estate prices may attract certain dog breeds, indicating a potential link between the types of dogs found in high-income areas and local housing costs.\n",
    "Data Needed: Dog breed data ('hunde-vie.csv'/hunde-wien.csv), Real estate prices dataset.\n",
    "\n",
    "Author: Carlos Eduardo Tichy\n"
   ]
  },
  {
   "cell_type": "code",
   "execution_count": null,
   "id": "702cdce9-5d4f-41f3-8b9e-a4363ec5d8d5",
   "metadata": {
    "id": "702cdce9-5d4f-41f3-8b9e-a4363ec5d8d5"
   },
   "outputs": [],
   "source": []
  },
  {
   "cell_type": "markdown",
   "id": "8a404fa7-19f3-49bc-adc7-9a6ae07da0c9",
   "metadata": {
    "id": "8a404fa7-19f3-49bc-adc7-9a6ae07da0c9",
    "tags": []
   },
   "source": [
    "### E3-H2: \"Dog ownership trends are significantly different between high-cost and low-cost real estate areas of Vienna.\"\n",
    "Rationale: Real estate prices could affect the type of dog breeds owned, changes in real estate prices could correlate with changes in dog breeds owned. Data Needed: Dog breed data ('hunde-vie.csv'/hunde-wien.csv), Real estate prices dataset.\n",
    "\n",
    "\n",
    "Author: Theresa Spiel\n",
    "\n"
   ]
  },
  {
   "cell_type": "code",
   "execution_count": null,
   "id": "4a3711e0-13d6-4115-9d64-c9f154d27f7f",
   "metadata": {
    "id": "4a3711e0-13d6-4115-9d64-c9f154d27f7f"
   },
   "outputs": [],
   "source": []
  },
  {
   "cell_type": "markdown",
   "id": "70e60944-b857-4a32-872a-6db028c51c87",
   "metadata": {
    "id": "70e60944-b857-4a32-872a-6db028c51c87",
    "tags": []
   },
   "source": [
    "### E3-H3: \n",
    "* #### \"Dog ownership noticeably increased during the pandemic in comparison to the previous years.\"\n",
    "OR\n",
    "* #### \"Viennese dog owner tend to prefer smaller dogs instead of heavier ones.\"\n",
    "Author: Martin Stasek\n",
    "\n",
    "Literature / Articles: \n",
    " * https://www.amcny.org/blog/2021/01/06/covid19-pandemic-pet-ownership/\n",
    " * https://www.zeit.de/news/2021-03/22/eine-million-mehrhaustiere-in-der-pandemie\n",
    "\n",
    " OR\n",
    "\n",
    " * https://www.petfoodindustry.com/pet-food-market/article/15449230/ownership-of-small-dogs-on-the-rise\n"
   ]
  },
  {
   "cell_type": "code",
   "execution_count": null,
   "id": "6bf1314d-47bb-4440-90f9-bef900320597",
   "metadata": {
    "id": "6bf1314d-47bb-4440-90f9-bef900320597"
   },
   "outputs": [],
   "source": []
  },
  {
   "cell_type": "markdown",
   "id": "ede91b90-ee3d-40c0-b2c4-4712413fe0e6",
   "metadata": {
    "id": "ede91b90-ee3d-40c0-b2c4-4712413fe0e6",
    "tags": []
   },
   "source": [
    "### E3-H4: \"Dog ownership is (inversely) correlated with population density in Vienna districts.\"\n",
    "Rationale: In more densely populated areas, people might have less space for pets, leading to fewer dogs being owned. (Additionally, less densly populated districst have more green space, making it more favorable to dog ownership).\n",
    "Data Needed: Dog ownership (Data1/Data2), Population density dataset. (Dog zones/greenspaces dataset)\n",
    "\n",
    "Author: Anna Punzengruber"
   ]
  },
  {
   "cell_type": "code",
   "execution_count": null,
   "id": "710a7064-05e8-4d52-9c1b-a6dcd143a4ae",
   "metadata": {
    "id": "710a7064-05e8-4d52-9c1b-a6dcd143a4ae"
   },
   "outputs": [],
   "source": []
  },
  {
   "cell_type": "markdown",
   "id": "5da06647-b803-4ad3-8e40-b372cf7044df",
   "metadata": {
    "id": "5da06647-b803-4ad3-8e40-b372cf7044df",
    "tags": []
   },
   "source": [
    "### E3-H5: \"xxx\"\n",
    "Author: Group member 5\n"
   ]
  },
  {
   "cell_type": "code",
   "execution_count": null,
   "id": "9f174ed8-3291-4b1e-80a3-ea441b7efc19",
   "metadata": {
    "id": "9f174ed8-3291-4b1e-80a3-ea441b7efc19"
   },
   "outputs": [],
   "source": []
  }
 ],
 "metadata": {
  "colab": {
   "provenance": []
  },
  "kernelspec": {
   "display_name": "Python 3 (ipykernel)",
   "language": "python",
   "name": "python3"
  },
  "language_info": {
   "codemirror_mode": {
    "name": "ipython",
    "version": 3
   },
   "file_extension": ".py",
   "mimetype": "text/x-python",
   "name": "python",
   "nbconvert_exporter": "python",
   "pygments_lexer": "ipython3",
   "version": "3.12.7"
  },
  "nbdime-conflicts": {
   "local_diff": [
    {
     "diff": [
      {
       "diff": [
        {
         "diff": [
          {
           "key": 5,
           "op": "addrange",
           "valuelist": "7"
          },
          {
           "key": 5,
           "length": 1,
           "op": "removerange"
          }
         ],
         "key": 0,
         "op": "patch"
        }
       ],
       "key": "version",
       "op": "patch"
      }
     ],
     "key": "language_info",
     "op": "patch"
    }
   ],
   "remote_diff": [
    {
     "diff": [
      {
       "diff": [
        {
         "key": 0,
         "length": 1,
         "op": "removerange"
        }
       ],
       "key": "version",
       "op": "patch"
      }
     ],
     "key": "language_info",
     "op": "patch"
    }
   ]
  }
 },
 "nbformat": 4,
 "nbformat_minor": 5
}
