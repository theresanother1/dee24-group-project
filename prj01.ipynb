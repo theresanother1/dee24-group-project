{
 "cells": [
  {
   "cell_type": "markdown",
   "id": "e12ece56-fcd4-4665-bf8b-773b5e8c789d",
   "metadata": {
    "id": "e12ece56-fcd4-4665-bf8b-773b5e8c789d",
    "tags": []
   },
   "source": [
    "# Project 1 - Data Engineering\n",
    "## 2 Data Exploration and Analysis\n",
    "This notebook is for the implementation of task \"2 Data Exploration and Analysis\", as listed in the **Project Instructions**."
   ]
  },
  {
   "cell_type": "markdown",
   "id": "45dfc955-b808-45ff-b0d8-c2425da31416",
   "metadata": {
    "id": "45dfc955-b808-45ff-b0d8-c2425da31416"
   },
   "source": [
    "<div class=\"alert alert-success\">\n",
    "<b>Overview:</b><br>\n",
    "Data Exploration and Analysis consists of the following parts worth 70 points:\n",
    "<ul>\n",
    "    <li><b>E1 - Obtain and Scrub</b> (15 points)</li>\n",
    "    <li><b>E2 - Exploratory data analysis (EDA) </b>(20 points)</li>\n",
    "    <li><b>E3 - Formulate hypotheses </b>(25 points)</li>\n",
    "    <li><b>Follow the guidelines for Data Exploration and Analysis below </b>(10 points)</li>\n",
    "</ul></div>"
   ]
  },
  {
   "cell_type": "markdown",
   "id": "3c8a055f",
   "metadata": {
    "id": "3c8a055f"
   },
   "source": [
    "<div class=\"alert alert-success\">\n",
    "<b>Guidelines for Data Exploration and Analysis:</b><br>\n",
    "    <ol>\n",
    "        <li>Use a single Jupyer notebook for your project.</li>\n",
    "        <li>Use only Python-code for your project.</li>\n",
    "        <li>The use of automatic and semi-automatic data analyis tools is not allowed (e. g., PandasGUI, D-Tale, Mito, etc.). Only use packages we used in the coded lectures.</li>\n",
    "        <li>Export your environment for submission as 'prj01-environment.txt'.</li>\n",
    "        <li>Upload your resulting work as a zip file containing only a single jupyter notebook and required files to run the notebook. All cell outputs and <b>figures must display in jupyter lab</b>. (Test this, in particular when you use another environment like VS Code.)</li>\n",
    "        <li>All code cells in your notebook must be runnable without errors or warnings (e. g., deprecated functions). Each error/warning subtracts -2 points (up to the full 10 points for following the  guidelines).</li>\n",
    "        <li>Use only relative paths in your project.</li>\n",
    "        <li>Avoid (excessive) code duplication.</li>\n",
    "        <li>Avoid loops iterating over pandas objects (Series, DataFrames). Explicitly justify each exception via a comment. </li>\n",
    "        <li>All coded steps in your analysis must be commented.</li>\n",
    "        <li>Keep your code as well as outputs short, precise and readable. Each long or unnecessary output subtracts -2 points (up to the full 10 points for following the project guidelines).</li>\n",
    "    </ol>\n",
    "    <b>Late submissions are not accepted and earn you 0 points on the python project. </b>\n",
    "</div>"
   ]
  },
  {
   "cell_type": "markdown",
   "id": "ea992ba9-f942-445d-a515-16dc32837466",
   "metadata": {
    "id": "ea992ba9-f942-445d-a515-16dc32837466"
   },
   "source": [
    "Explicitly list which notebook toolset was used (jupyter lab/jupyter notebook/VS Code/etc.)\n",
    "\n",
    "**here**: MY_TOOL, MY_BROWSER"
   ]
  },
  {
   "cell_type": "markdown",
   "id": "92f63424-1d61-4b8b-94a6-f50afea65d79",
   "metadata": {
    "id": "92f63424-1d61-4b8b-94a6-f50afea65d79",
    "tags": []
   },
   "source": [
    "Explicitly and clearly state the chosen dataset number and title:\n",
    "### Bevölkerung ODÖ Hunde\n",
    "#### Hundebestand seit 2002 - Bezirke Wien --> contains info about dog density per districts over years\n",
    "#### Hunde pro Bezirk Wien --> contains info about dog breeds count per district in 2024\n",
    "#### Hunderassen Wien --> contains info about dog breeds count per district 2012 - 2017\n"
   ]
  },
  {
   "cell_type": "markdown",
   "id": "0999a549-323a-4537-963f-3a1a746b77fd",
   "metadata": {
    "id": "0999a549-323a-4537-963f-3a1a746b77fd"
   },
   "source": [
    "## E1 - Obtain and Scrub"
   ]
  },
  {
   "cell_type": "markdown",
   "id": "937713cc-715f-4930-ae10-ebeeaec55685",
   "metadata": {
    "id": "937713cc-715f-4930-ae10-ebeeaec55685"
   },
   "source": [
    "### Obtain\n",
    "Download the dataset and understand both:\n",
    "- format: wide vs. long, separaters, decimal points, encoding, etc., and\n",
    "- content: what variables are in the columns, what is their meaning?\n",
    "To this end, identify and download metadata such as headers, category listings, explanatory reports, etc.\n",
    "### Scrub\n",
    "The aim of scrub is to create a clean version of the data for further analysis.\n",
    "- Load the dataset and take care of dtypes (dates, numbers, categories, etc.). Justify why you don't load/use specific columns.\n",
    "- Check for footnotes or any other notifications on special cell content, such as time series breaks. Follow up that information, and document your decision how to deal with it. Remember: A homework contained such info in the cell \"76.1 b\". The metadata defines what that \"b\" stands for.\n",
    "- Choose an appropriate (Multi-)Index.\n",
    "- Identify:\n",
    "    1. missing values and get row and column overviews. Use graphical and/or numeric approaches. Once identified, handle missing values according to column type, time series property and data set size.\n",
    "    2. duplicates (justify the used column subset). Remove duplicates - if any - and inspect what you removed.\n",
    "- Transform to shape (tidy vs. wide) best suited for further analysis.\n",
    "- Export the clean data to a file for inspection with an external data browser (e.g., MS Excel).\n",
    "- Provide an overview of the clean dataset:\n",
    "    1. show the dtypes\n",
    "    2. quantitative column descriptions:\n",
    "        1. categorical columns: number of unique values, counts\n",
    "        2. numeric columns: range and median"
   ]
  },
  {
   "cell_type": "code",
   "execution_count": null,
   "id": "5417f795-37f5-4c57-bdbe-36c1a00fedfe",
   "metadata": {
    "id": "5417f795-37f5-4c57-bdbe-36c1a00fedfe"
   },
   "outputs": [],
   "source": [
    "# Importing necessary packages:\n",
    "import pandas as pd\n",
    "import numpy as np\n",
    "import seaborn as sns\n",
    "import plotly.express as px\n",
    "import plotly.io as pio\n",
    "import matplotlib.pyplot as plt\n",
    "import matplotlib.colors as mcolors\n",
    "from matplotlib import colormaps\n",
    "import geopandas as gpd\n",
    "import json # to read in geojson\n",
    "from matplotlib.lines import Line2D # for custom legend\n",
    "import re\n",
    "%matplotlib inline"
   ]
  },
  {
   "cell_type": "markdown",
   "id": "zmdvK0BezPWW",
   "metadata": {
    "id": "zmdvK0BezPWW"
   },
   "source": [
    "## 1) Obtain the datasets and scrub data\n"
   ]
  },
  {
   "cell_type": "markdown",
   "id": "CM15Z24i0wnM",
   "metadata": {
    "id": "CM15Z24i0wnM"
   },
   "source": [
    "#### 1) Dataset 1\n",
    "Number of dogs (absolute and per 1,000 inhabitants) since 2002 - districts of Vienna\n",
    " \t* NUTS | NUTS2-Region (Bundesland)\n",
    "  * DISTRICT_CODE | Gemeindebezirkskennzahl (Schema: 9BBZZ, BB=Nummer Bezirk, ZZ=00)\n",
    "  * SUB_DISTRICT_CODE | Zählbezirkskennzahl gemäß Stadt Wien (Schema: 9BBZZ, 9=Kennzeichnung Wien, BB=Nummer Bezirk, ZZ=Nummer Zählbezirk, **ZZ=99 bei fehlender Zählbezirkskennzeichnung**)\n",
    "  * REF_YEAR | Referenzjahr\n",
    "  * REF_DATE | Referenzdatum\n",
    "  * DOG_VALUE | Anzahl der Hunde (absolut)\n",
    "  * DOG_DENSITY | Anzahl der Hunde pro 1.000 EinwohnerInnen\n",
    "\n",
    "Source: https://www.data.gv.at/katalog/dataset/1a48e78a-c660-41e0-ac32-8b675c0ea39c#additional-info\n",
    "\n",
    "   TODO: add more description?"
   ]
  },
  {
   "cell_type": "markdown",
   "id": "SqP0q91O-iim",
   "metadata": {
    "id": "SqP0q91O-iim"
   },
   "source": [
    "##### Obtain"
   ]
  },
  {
   "cell_type": "code",
   "execution_count": null,
   "id": "cc301dcd",
   "metadata": {},
   "outputs": [],
   "source": [
    "# Import the first data set\n",
    "dogs_2002 = pd.read_csv(\"vie-bez-biz-spo-dog-2002f.csv\", sep=';', skiprows=1, dtype={\"DOG_VALUE\": \"object\", \"DOG_DENSITY\": \"object\"})\n",
    "print(\"Dataframe shape: \", dogs_2002.shape)\n",
    "dogs_2002.head(5)"
   ]
  },
  {
   "cell_type": "markdown",
   "id": "cYHcuGm_0vRs",
   "metadata": {
    "id": "cYHcuGm_0vRs"
   },
   "source": [
    "* The separator is ';'.\n",
    "* The encoding is 'utf-8'.\n",
    "* The original shape is (528, 17) - but many columns full of NaNs (later: cleaned up data => shape=(528, 7)).\n",
    "* Long format:  \n",
    "  * Contains entries for years by district of overall dog density sorted by years.\n",
    "  * each row represents a single observation of district by year and dog breeds\n",
    "* The first row contains the csv title. It is dropped and the second row is used for column titles.\n",
    "* First column 'NUTS' (= identification and classification system for european states) contains always the same value, since 'AT13' stands for Vienna (and we only have data for Vienna in this dataset). We could drop it, but it also doesn't bother us too much right now\n",
    "* DISTRICT_CODE '90000' stands for all districts combined\n",
    "* Need to import DOG_VALUE as objects because the '.' in some values does not allow conversion to integer right now. Without specifying it, the values are recognised as floats.\n",
    "* We also import DOG_DENSITY as objects because we need to convert the ',' to '.' to allow conversion to floats afterwards\n"
   ]
  },
  {
   "cell_type": "markdown",
   "id": "PMX1AMbE-nAF",
   "metadata": {
    "id": "PMX1AMbE-nAF"
   },
   "source": [
    "##### Scrub"
   ]
  },
  {
   "cell_type": "code",
   "execution_count": null,
   "id": "3685b415",
   "metadata": {},
   "outputs": [],
   "source": [
    "# check columns and their missing data ratio\n",
    "((dogs_2002.isnull().sum() / len(dogs_2002)) * 100).sort_values(ascending=False)"
   ]
  },
  {
   "cell_type": "code",
   "execution_count": null,
   "id": "4a5762f0",
   "metadata": {},
   "outputs": [],
   "source": [
    "# drop all cols with NaN --> lots because of multiple 'unnecessary' seperators ';' in last columns\n",
    "# other columns have no missing values\n",
    "dogs_2002 = dogs_2002.dropna(axis=1, how='any')\n",
    "print(\"Dataframe shape: \", dogs_2002.shape)"
   ]
  },
  {
   "cell_type": "code",
   "execution_count": null,
   "id": "PPMkfTio-dM1",
   "metadata": {
    "colab": {
     "base_uri": "https://localhost:8080/"
    },
    "id": "PPMkfTio-dM1",
    "outputId": "d71ebb33-3561-46d0-a5c9-232b19d34e3f"
   },
   "outputs": [],
   "source": [
    "print(dogs_2002.dtypes)"
   ]
  },
  {
   "cell_type": "markdown",
   "id": "C17S4bNNA_Kj",
   "metadata": {
    "id": "C17S4bNNA_Kj"
   },
   "source": [
    "Remove '.' in DOG_VALUE and convert to integer.\n",
    "\n",
    "Change DOG_DENSITY to use '.' instead of ',' and the format to float to be able to calculate with it, if needed.\n",
    "\n",
    "Change REF_DATE to format datetime since its currently int64."
   ]
  },
  {
   "cell_type": "code",
   "execution_count": null,
   "id": "O_UvJZKM_Hba",
   "metadata": {
    "id": "O_UvJZKM_Hba"
   },
   "outputs": [],
   "source": [
    "dogs_2002['DOG_VALUE'] = dogs_2002['DOG_VALUE'].str.replace('.', '', regex=False).astype(int)\n",
    "dogs_2002['DOG_DENSITY'] = dogs_2002['DOG_DENSITY'].str.replace(',', '.', regex=False).astype(float)\n",
    "dogs_2002['REF_DATE'] = pd.to_datetime(dogs_2002['REF_DATE'].astype(str), format='%Y%m%d')"
   ]
  },
  {
   "cell_type": "code",
   "execution_count": null,
   "id": "u8LNjDOZ_6LA",
   "metadata": {
    "colab": {
     "base_uri": "https://localhost:8080/",
     "height": 275
    },
    "id": "u8LNjDOZ_6LA",
    "outputId": "56ce61ba-57c2-45bb-c4ee-08bccb4b1388"
   },
   "outputs": [],
   "source": [
    "print(dogs_2002.dtypes)\n",
    "dogs_2002.head(2)"
   ]
  },
  {
   "cell_type": "markdown",
   "id": "RSZJCWbVDdm_",
   "metadata": {
    "id": "RSZJCWbVDdm_"
   },
   "source": [
    "* District Code and Sub District Code are the same --> removing Sub District Code\n",
    "* add Postal_CODE column for better comparison between datasets"
   ]
  },
  {
   "cell_type": "code",
   "execution_count": null,
   "id": "0ElC1KTTCTrW",
   "metadata": {
    "colab": {
     "base_uri": "https://localhost:8080/"
    },
    "id": "0ElC1KTTCTrW",
    "outputId": "363fd93d-c1d0-4c8c-bedc-489e3c407c54"
   },
   "outputs": [],
   "source": [
    "# only execute if not already done (avoids errors)\n",
    "if 'SUB_DISTRICT_CODE' in dogs_2002.columns:\n",
    "    print(np.unique([dogs_2002['DISTRICT_CODE'] == dogs_2002['SUB_DISTRICT_CODE']], return_counts=True)) # check that columns are actually the same\n",
    "    dogs_2002.drop(columns=['SUB_DISTRICT_CODE'], inplace=True)\n",
    "dogs_2002[\"Postal_CODE\"] = \"1\" + dogs_2002['DISTRICT_CODE'].astype(str).str[1:3] + \"0\"\n",
    "dogs_2002.head(2) # Postal_CODE=1000 represents Vienna in total"
   ]
  },
  {
   "cell_type": "markdown",
   "id": "KP8umAEWEaKh",
   "metadata": {
    "id": "KP8umAEWEaKh"
   },
   "source": [
    "Check for duplicates --> looks good:"
   ]
  },
  {
   "cell_type": "code",
   "execution_count": null,
   "id": "4c954974",
   "metadata": {},
   "outputs": [],
   "source": [
    "dogs_2002.duplicated(subset=['DISTRICT_CODE', 'REF_YEAR']).any()"
   ]
  },
  {
   "cell_type": "markdown",
   "id": "Yb9o7VSC3PmW",
   "metadata": {
    "id": "Yb9o7VSC3PmW"
   },
   "source": [
    "#### Dataset 2\n",
    "  Number of registered dogs in Vienna per district and dog breed in the year 2024.\n",
    "\n",
    "  * NUTS1 NUTS2 NUTS3: same as before, but NUTS3 in addition: provides district information for Vienna\n",
    "  * DISTRICT_CODE: same structure as before\n",
    "  * SUB_DISTRICT_CODE\n",
    "  * Postal_CODE\n",
    "  * Dog Breed\n",
    "  * Anzahl\n",
    "  * Ref_Date\n",
    "\n",
    "Source: https://www.data.gv.at/katalog/dataset/71edef44-9d6c-4042-ab71-7207dc930ba7#additional-info"
   ]
  },
  {
   "cell_type": "markdown",
   "id": "o3r727dnBgMa",
   "metadata": {
    "id": "o3r727dnBgMa"
   },
   "source": [
    "##### Obtain"
   ]
  },
  {
   "cell_type": "code",
   "execution_count": null,
   "id": "OZ33eJS5uLoR",
   "metadata": {
    "colab": {
     "base_uri": "https://localhost:8080/",
     "height": 311
    },
    "id": "OZ33eJS5uLoR",
    "outputId": "d5847ce1-9657-4d88-f4ae-28ff9db150d5"
   },
   "outputs": [],
   "source": [
    "# Import dataset 2\n",
    "dog_types_2024 = pd.read_csv(\"hunde-wien.csv\", sep=';', encoding='latin-1', skiprows=1, dtype={\"Anzahl\": \"object\"})\n",
    "\n",
    "print(\"Dataframe shape: \", dog_types_2024.shape)\n",
    "dog_types_2024.head(5)"
   ]
  },
  {
   "cell_type": "markdown",
   "id": "wOsgnkig3lLM",
   "metadata": {
    "id": "wOsgnkig3lLM"
   },
   "source": [
    "* The separator is ';'\n",
    "* The encoding is 'latin-1'.\n",
    "* The shape is (11117, 9).\n",
    "* Mixed breeds are also included, like 'Hovawart / Golden Retriever'.\n",
    "* Format is long:\n",
    "  * dog breeds can appear multiple times in breed-column. This is the case if at least two dogs of a breed are registered in different districts. If there is no dog of a specific breed registered in a distric, it is not listed in the dataset for this district.\n",
    "  * Every district and breed combination has a single count value\n",
    "* We import 'Anzahl'-column as objects, because there is a value that contains a '.' (Point). Therefore, it would be recognised as a float even though these values should be all integers."
   ]
  },
  {
   "cell_type": "markdown",
   "id": "LD3kkP6yBjxE",
   "metadata": {
    "id": "LD3kkP6yBjxE"
   },
   "source": [
    "##### Scrub"
   ]
  },
  {
   "cell_type": "code",
   "execution_count": null,
   "id": "b8c1c6dc",
   "metadata": {},
   "outputs": [],
   "source": [
    "# check columns and their missing data ratio => no missing data\n",
    "((dog_types_2024.isnull().sum() / len(dog_types_2024)) * 100).sort_values(ascending=False)"
   ]
  },
  {
   "cell_type": "code",
   "execution_count": null,
   "id": "P41XHNLCBktj",
   "metadata": {
    "colab": {
     "base_uri": "https://localhost:8080/"
    },
    "id": "P41XHNLCBktj",
    "outputId": "aef54597-595a-4d45-fd22-56336480ba50"
   },
   "outputs": [],
   "source": [
    "dog_types_2024.dtypes.to_frame().T"
   ]
  },
  {
   "cell_type": "markdown",
   "id": "b_-WR17pGj9e",
   "metadata": {
    "id": "b_-WR17pGj9e"
   },
   "source": [
    "Looks like some columns only have 1 unique value => NUTS1-3, SUB_DISTRICT_CODE and Ref_Date to be exact. Also, no district is missing, which is good."
   ]
  },
  {
   "cell_type": "code",
   "execution_count": null,
   "id": "0d75f7a4",
   "metadata": {},
   "outputs": [],
   "source": [
    "dog_types_2024.nunique()"
   ]
  },
  {
   "cell_type": "code",
   "execution_count": null,
   "id": "36757578",
   "metadata": {},
   "outputs": [],
   "source": [
    "print(\"DISTRICT_CODE:\", dog_types_2024[\"DISTRICT_CODE\"].unique())\n",
    "print(\"Postal_CODE:\", dog_types_2024[\"Postal_CODE\"].unique())"
   ]
  },
  {
   "cell_type": "markdown",
   "id": "5hVfZLltI_8L",
   "metadata": {
    "id": "5hVfZLltI_8L"
   },
   "source": [
    "Drop NUTS1, NUTS2, NUTS3 and SUB_DISTRICT CODE. Don't want to drop Ref_Date yet, maybe could be used for some insights with the above data frame."
   ]
  },
  {
   "cell_type": "code",
   "execution_count": null,
   "id": "KTKCaSY2JUqT",
   "metadata": {
    "id": "KTKCaSY2JUqT"
   },
   "outputs": [],
   "source": [
    "dog_types_2024 = dog_types_2024.drop(['NUTS1', 'NUTS2', 'NUTS3', 'SUB_DISTRICT_CODE'], axis=1)\n",
    "dog_types_2024['Ref_Date'] = pd.to_datetime(dog_types_2024['Ref_Date'].astype(str), format='%Y%m%d')\n",
    "dog_types_2024.dtypes.to_frame().T"
   ]
  },
  {
   "cell_type": "markdown",
   "id": "012410ea",
   "metadata": {},
   "source": [
    "The 'Anzahl'-column contains one value that currently cannot be converted to an integer without losing information. It seems that there are 1012 dogs of mixed breed 'Unbekannt / Mischling', which would be recognised as a float with decimal places:"
   ]
  },
  {
   "cell_type": "code",
   "execution_count": null,
   "id": "43f99915",
   "metadata": {},
   "outputs": [],
   "source": [
    "dog_types_2024[dog_types_2024[\"Anzahl\"].str.contains(\".\", regex=False)]"
   ]
  },
  {
   "cell_type": "code",
   "execution_count": null,
   "id": "hfAVhC4hK1kd",
   "metadata": {
    "colab": {
     "base_uri": "https://localhost:8080/",
     "height": 219
    },
    "id": "hfAVhC4hK1kd",
    "outputId": "b7fc8a8f-73c7-413d-87d2-9a8f9889f64b"
   },
   "outputs": [],
   "source": [
    "dog_types_2024[\"Anzahl\"] = dog_types_2024[\"Anzahl\"].str.replace('.','', regex=False).astype(int)\n",
    "print(dog_types_2024.dtypes) # we could also change dtype for 'Dog Breed' to 'category', but 3500 categories are a bit much. We leave it for now\n",
    "dog_types_2024.head(2)"
   ]
  },
  {
   "cell_type": "markdown",
   "id": "6gGBC4cuKEXn",
   "metadata": {
    "id": "6gGBC4cuKEXn"
   },
   "source": [
    "Check if some Dog Breeds have duplicates per district --> looks good."
   ]
  },
  {
   "cell_type": "code",
   "execution_count": null,
   "id": "_mhXva3xLtnm",
   "metadata": {
    "colab": {
     "base_uri": "https://localhost:8080/"
    },
    "id": "_mhXva3xLtnm",
    "outputId": "86ab4548-0ae4-4467-828b-67becf533b67"
   },
   "outputs": [],
   "source": [
    "dog_types_2024.duplicated(subset=['Dog Breed', 'Postal_CODE']).any()"
   ]
  },
  {
   "cell_type": "markdown",
   "id": "wA1JypRoMm_R",
   "metadata": {
    "id": "wA1JypRoMm_R"
   },
   "source": [
    "Check if there are unknown Dog Breeds:\n",
    "  * There appear to be in total 50 entries in the dataset with at least partly unknown Dog Breeds.\n",
    "  * There are in total 8200 dogs with an at least partly uknown dog breed.\n",
    "  * The dataset has only 6 unique values in the 'Dog Breed'-column that contain an unknown dog breed.\n",
    "  * They are kept for the moment."
   ]
  },
  {
   "cell_type": "code",
   "execution_count": null,
   "id": "efZTyQAPMra8",
   "metadata": {
    "colab": {
     "base_uri": "https://localhost:8080/"
    },
    "id": "efZTyQAPMra8",
    "outputId": "d0033e84-e6c2-404f-f750-e1bd7e8bdc58"
   },
   "outputs": [],
   "source": [
    "def check_for_unknown_dog_breeds(df: pd.DataFrame):\n",
    "    bool_unknown = df['Dog Breed'].str.contains('Unbekannt', case=False)\n",
    "    print(\"Total number of entries with unknown dog breed:\", bool_unknown.sum())\n",
    "    print(\"Total number of dogs with at least partly unknown dog breed:\", df[bool_unknown][\"Anzahl\"].sum())\n",
    "    tmp_array = df[bool_unknown]['Dog Breed'].unique()\n",
    "    print(\"Number of unknown dog breeds:\", len(tmp_array))\n",
    "    print(\"Unknown dog breeds:\", tmp_array)\n",
    "\n",
    "check_for_unknown_dog_breeds(dog_types_2024)"
   ]
  },
  {
   "cell_type": "code",
   "execution_count": null,
   "id": "k7MhWV0sQEf2",
   "metadata": {
    "colab": {
     "base_uri": "https://localhost:8080/",
     "height": 206
    },
    "id": "k7MhWV0sQEf2",
    "outputId": "25354a4c-fa8f-47cf-bb60-23eb3ccf77ce"
   },
   "outputs": [],
   "source": [
    "dog_types_2024.head()"
   ]
  },
  {
   "cell_type": "markdown",
   "id": "sN1aYp3MS4E1",
   "metadata": {
    "id": "sN1aYp3MS4E1"
   },
   "source": [
    "We could also drop the postal_code column, since it basically provides the same data as the district_code column:"
   ]
  },
  {
   "cell_type": "code",
   "execution_count": null,
   "id": "422cb121",
   "metadata": {},
   "outputs": [],
   "source": [
    "(dog_types_2024[\"DISTRICT_CODE\"].astype(str).str[1:3] == dog_types_2024[\"Postal_CODE\"].astype(str).str[1:3]).unique() # compare 2-digit district code"
   ]
  },
  {
   "cell_type": "markdown",
   "id": "olBy7Wpa9HEn",
   "metadata": {
    "id": "olBy7Wpa9HEn"
   },
   "source": [
    "#### Dataset 3\n",
    "Number of registered dogs in Vienna per district and dog breed in the years 2012 to 2017. \n",
    "\n",
    "The layout of the dataset is basically the same as the one before, we only have data for multiple years.\n",
    "\n",
    "  * NUTS1: AT1\n",
    "  * NUTS2: AT13\n",
    "  * NUTS3: AT113\n",
    "  * DISTRICT_CODE: Bezirke, Format 9BB00\n",
    "  * SUB_DISTRICT_CODE: Zählbezirk, leer\n",
    "  * Postal_CODE: Postleitzahl, Format 1BB0\n",
    "  * Dog Breed: Hunderasse\n",
    "  * Anzahl: Anzahl der jeweiligen Hunderasse\n",
    "  * Ref_Date: Jahr\n",
    "\n",
    "Source: https://www.data.gv.at/katalog/dataset/31f526f5-2cf2-49f8-a63d-0c63a0f87a3e"
   ]
  },
  {
   "cell_type": "code",
   "execution_count": null,
   "id": "Z7IybtAVr_xa",
   "metadata": {
    "colab": {
     "base_uri": "https://localhost:8080/",
     "height": 276
    },
    "id": "Z7IybtAVr_xa",
    "outputId": "9377503e-bdf4-407b-ac2d-d5b28ba3a252"
   },
   "outputs": [],
   "source": [
    "# Import dataset 3\n",
    "dog_types_2012 = pd.read_csv(\"hunde-vie.csv\", sep=';', encoding='latin-1', skiprows=1, dtype={\"Anzahl\": \"object\"})\n",
    "\n",
    "print(\"Dataframe shape: \", dog_types_2012.shape)\n",
    "dog_types_2012.head(5)"
   ]
  },
  {
   "cell_type": "markdown",
   "id": "BKBsLUD09YSo",
   "metadata": {
    "id": "BKBsLUD09YSo"
   },
   "source": [
    "* The separator is ';'\n",
    "* The encoding is 'latin-1'.\n",
    "* The shape is (33793, 9).\n",
    "* Format is long:\n",
    "  * dog breeds can appear multiple times in breed-column. This is the case if at least two dogs of a breed are registered in different districts or in different years. If there is no dog of a specific breed registered in a distric, it is not listed in the dataset for this district.\n",
    "  * Every district, ref_date and breed combination has a single count value\n",
    "* We import the 'Anzahl'-column as objects and process them the same way as in the previous dataset.\n"
   ]
  },
  {
   "cell_type": "markdown",
   "id": "_fynsjn1VPj7",
   "metadata": {
    "id": "_fynsjn1VPj7"
   },
   "source": [
    "Repeat steps as with dataframe 2, since they have the same format."
   ]
  },
  {
   "cell_type": "code",
   "execution_count": null,
   "id": "06ddb564",
   "metadata": {},
   "outputs": [],
   "source": [
    "# check columns and their missing data ratio => no missing data\n",
    "((dog_types_2012.isnull().sum() / len(dog_types_2012)) * 100).sort_values(ascending=False)"
   ]
  },
  {
   "cell_type": "markdown",
   "id": "18884731",
   "metadata": {},
   "source": [
    "Looks like some columns only have 1 unique value => NUTS1-3 and SUB_DISTRICT_CODE to be exact. Also, no district is missing, which is good. We have 6 different years in the dataset:"
   ]
  },
  {
   "cell_type": "code",
   "execution_count": null,
   "id": "18f633b2",
   "metadata": {},
   "outputs": [],
   "source": [
    "dog_types_2012.nunique()"
   ]
  },
  {
   "cell_type": "markdown",
   "id": "3fabd2ed-a34b-4fde-95af-dc5991e7732a",
   "metadata": {},
   "source": [
    "Column Ref_Date contains more entries than above, lets see which years are included: 2012 to 2017"
   ]
  },
  {
   "cell_type": "code",
   "execution_count": null,
   "id": "814bb703-4a26-4e55-8fb2-2aad5fd033eb",
   "metadata": {},
   "outputs": [],
   "source": [
    "dog_types_2012['Ref_Date'].value_counts()"
   ]
  },
  {
   "cell_type": "code",
   "execution_count": null,
   "id": "407d4c02",
   "metadata": {},
   "outputs": [],
   "source": [
    "print(dog_types_2012.groupby(\"Ref_Date\")[\"DISTRICT_CODE\"].nunique()) # no districts missing in each year\n",
    "print(dog_types_2012.groupby(\"Ref_Date\")[\"Postal_CODE\"].nunique())"
   ]
  },
  {
   "cell_type": "code",
   "execution_count": null,
   "id": "c9bee236",
   "metadata": {},
   "outputs": [],
   "source": [
    "dog_types_2012.dtypes.to_frame().T"
   ]
  },
  {
   "cell_type": "markdown",
   "id": "1a7f3a39",
   "metadata": {},
   "source": [
    "'Anzahl' can be converted to integer this time without any additional steps:"
   ]
  },
  {
   "cell_type": "code",
   "execution_count": null,
   "id": "f83bb30d",
   "metadata": {},
   "outputs": [],
   "source": [
    "print(dog_types_2012[dog_types_2012[\"Anzahl\"].str.contains(r\"[\\.\\,]\", regex=True)]) # no entry with '.' or ','\n",
    "dog_types_2012[\"Anzahl\"] = dog_types_2012[\"Anzahl\"].astype(int)"
   ]
  },
  {
   "cell_type": "markdown",
   "id": "g8AKqKFpjIsM",
   "metadata": {
    "id": "g8AKqKFpjIsM"
   },
   "source": [
    "Change Ref_Date from int64 to date (important: format is now different to before: yyyy**dd**mm, not yyyymm**dd**):"
   ]
  },
  {
   "cell_type": "code",
   "execution_count": null,
   "id": "ov71siqvZqZR",
   "metadata": {
    "colab": {
     "base_uri": "https://localhost:8080/"
    },
    "id": "ov71siqvZqZR",
    "outputId": "e345e9d7-5ff0-403f-8032-9989a62c1b29"
   },
   "outputs": [],
   "source": [
    "dog_types_2012 = dog_types_2012.drop(['NUTS1', 'NUTS2', 'NUTS3', 'SUB_DISTRICT_CODE'], axis=1)\n",
    "dog_types_2012['Ref_Date'] = pd.to_datetime(dog_types_2012['Ref_Date'].astype(str), format='%Y%d%m') # convert int to real datetime\n",
    "print(dog_types_2012.dtypes.to_frame().T)"
   ]
  },
  {
   "cell_type": "markdown",
   "id": "SFdnZM0ZZ3Kt",
   "metadata": {
    "id": "SFdnZM0ZZ3Kt"
   },
   "source": [
    "Check for duplicates and unkown dog breeds --> has only the unknown dog breed 'Unbekannt' and no duplicates too.\n",
    "* Unkown can stay for now, even though their number is very high with 98.707 dogs (even if we consider that the dataset contains multiple years of data).\n",
    "\n"
   ]
  },
  {
   "cell_type": "code",
   "execution_count": null,
   "id": "fc4745b1",
   "metadata": {},
   "outputs": [],
   "source": [
    "dog_types_2012.duplicated(subset=['Dog Breed', 'Postal_CODE', 'Ref_Date']).any()"
   ]
  },
  {
   "cell_type": "code",
   "execution_count": null,
   "id": "GKd5YQOrVOIv",
   "metadata": {
    "colab": {
     "base_uri": "https://localhost:8080/"
    },
    "id": "GKd5YQOrVOIv",
    "outputId": "4d53a1a4-6a00-4360-a77b-79ecca8fccdd"
   },
   "outputs": [],
   "source": [
    "check_for_unknown_dog_breeds(dog_types_2012)"
   ]
  },
  {
   "cell_type": "markdown",
   "id": "MeNL89tTmUnb",
   "metadata": {
    "id": "MeNL89tTmUnb"
   },
   "source": [
    "### Merging Dataset 2 and 3 as they contain the same info for different years"
   ]
  },
  {
   "cell_type": "code",
   "execution_count": null,
   "id": "ZIagR3NNdPEZ",
   "metadata": {
    "colab": {
     "base_uri": "https://localhost:8080/",
     "height": 421
    },
    "id": "ZIagR3NNdPEZ",
    "outputId": "2219585f-18a8-4db2-bae5-72ddbd8d31d4"
   },
   "outputs": [],
   "source": [
    "print(dog_types_2024.dtypes.to_frame().T)\n",
    "print(dog_types_2012.dtypes.to_frame().T)"
   ]
  },
  {
   "cell_type": "code",
   "execution_count": null,
   "id": "FyBenE93erHj",
   "metadata": {
    "id": "FyBenE93erHj"
   },
   "outputs": [],
   "source": [
    "combined_dog_types = pd.concat([dog_types_2012, dog_types_2024]) # dataframes have same columns => concat\n",
    "print(\"Shape:\", combined_dog_types.shape)"
   ]
  },
  {
   "cell_type": "code",
   "execution_count": null,
   "id": "oUbGYC1hZnCy",
   "metadata": {
    "colab": {
     "base_uri": "https://localhost:8080/",
     "height": 245
    },
    "id": "oUbGYC1hZnCy",
    "outputId": "ea9ce383-27c4-41d2-fc81-b877d53aaa1d"
   },
   "outputs": [],
   "source": [
    "combined_dog_types_by_year_and_district = combined_dog_types.pivot_table(index=['Ref_Date', 'Postal_CODE'], columns='Dog Breed', values='Anzahl', fill_value=0).sort_values(by='Ref_Date', ascending=False)\n",
    "combined_dog_types_by_year_and_district.head(2)"
   ]
  },
  {
   "cell_type": "markdown",
   "id": "abbec008-d77f-4231-82dc-07badc957d84",
   "metadata": {},
   "source": [
    "Sanity Check: \n",
    "\n",
    "Values are the same (apart from 0) --> looks good. "
   ]
  },
  {
   "cell_type": "code",
   "execution_count": null,
   "id": "2f2dac57-7a61-419b-8f6d-b68ba824a1ad",
   "metadata": {},
   "outputs": [],
   "source": [
    "unique_values = []\n",
    "unique_values_single = []\n",
    "for col in combined_dog_types_by_year_and_district.columns:\n",
    "    unique_values.extend(combined_dog_types_by_year_and_district[col].unique())\n",
    "\n",
    "unique_values_single.extend(dog_types_2012['Anzahl'].unique())\n",
    "unique_values_single.extend(dog_types_2024['Anzahl'].unique())\n",
    "unique_values_single = set(unique_values_single)\n",
    "unique_values = set(unique_values)\n",
    "differences = unique_values.symmetric_difference(unique_values_single)\n",
    "print(differences)"
   ]
  },
  {
   "cell_type": "markdown",
   "id": "b041e827-fd81-4eb8-95d3-9e6ae1c77ca7",
   "metadata": {
    "id": "b041e827-fd81-4eb8-95d3-9e6ae1c77ca7"
   },
   "source": [
    "## E2 - Exploratory data analysis (EDA)\n",
    "Use the clean dataset and understand and explore the relationships in the data (numerical, visual, statistical). This includes at least but is not limited to:\n",
    "- A comprehensive textual description of meaning for relevant fields in the dataset\n",
    "- Statistical/numerical descriptions and visualization techniques we learned in the course inluding correlations, distributions and groupings of variing degrees.\n",
    "- Checks for data quality, e. g., completeness, plausibility, outliers\n",
    "- Handling any identified problems with the data\n",
    "- If necessary, use additional data wrangling in line with your EDA and only keep what's necessary for the following steps of your analysis with appropriate data granularity and form (\"tidy data\")\n",
    "\n",
    "Don't:\n",
    "- test/prove hypotheses here. EDA should only motivate hypotheses.\n",
    "\n",
    "Advanced/bonus:\n",
    "- Depending on your hypothesis you may want to join external data (e.g., merge external highest education level to existing vaccination data) for additional insights.\n",
    "\n",
    "Explain all steps taken and your thinking why you deem them necessary."
   ]
  },
  {
   "cell_type": "code",
   "execution_count": null,
   "id": "370ab718-fa85-4fd8-adee-7643970042ad",
   "metadata": {
    "id": "370ab718-fa85-4fd8-adee-7643970042ad"
   },
   "outputs": [],
   "source": [
    "# No missing data - TODO: heatmaps still necessary?\n"
   ]
  },
  {
   "cell_type": "markdown",
   "id": "5215f224",
   "metadata": {},
   "source": [
    "BOXPLOTS"
   ]
  },
  {
   "cell_type": "code",
   "execution_count": null,
   "id": "763c2354",
   "metadata": {},
   "outputs": [],
   "source": [
    "# dogs_2002: Check which DOG_VALUEs are outliers for each year\n",
    "# TODO: add comments\n",
    "df_dogs_2002_boxplots = dogs_2002[(dogs_2002[\"Postal_CODE\"] != \"1000\")].sort_values(by=[\"REF_YEAR\", \"Postal_CODE\"], ascending=[True, True]) # sort for year first, so we can correctly append the isOutlier column\n",
    "array_is_outlier = np.array([], dtype=bool)\n",
    "whis_ratio = 1.5\n",
    "for year in range(df_dogs_2002_boxplots[\"REF_YEAR\"].min(), df_dogs_2002_boxplots[\"REF_YEAR\"].max() + 1): # using loop across years to calculate quartiles only once per year\n",
    "    tmp_filtered_df = df_dogs_2002_boxplots[df_dogs_2002_boxplots[\"REF_YEAR\"] == year] # save filtered df because we need it multiple times\n",
    "    first_quartile, median, third_quartile = tmp_filtered_df[\"DOG_VALUE\"].quantile([0.25, 0.5, 0.75])\n",
    "    len_whisk = (third_quartile - first_quartile) * whis_ratio\n",
    "    upper_whisk_limit = third_quartile + len_whisk\n",
    "    lower_whisk_limit = first_quartile - len_whisk\n",
    "    array_is_outlier = np.append(array_is_outlier, \n",
    "                                 np.where( (tmp_filtered_df[\"DOG_VALUE\"] > upper_whisk_limit) | (tmp_filtered_df[\"DOG_VALUE\"] < lower_whisk_limit), # if outlier, set True\n",
    "                                          True, False))\n",
    "df_dogs_2002_boxplots[\"Outlier\"] = array_is_outlier\n",
    "\n",
    "palette = sns.color_palette(\"Set2\")[0:2] # get two colors from a sns palette\n",
    "g = sns.boxplot(df_dogs_2002_boxplots, y=\"DOG_VALUE\", x='REF_YEAR', width=.5, whis = whis_ratio, legend=False)\n",
    "g = sns.swarmplot(df_dogs_2002_boxplots, y=\"DOG_VALUE\", x='REF_YEAR', size=3.25, hue='Outlier', palette=palette, legend=False)\n",
    "outlier_districts = df_dogs_2002_boxplots[df_dogs_2002_boxplots[\"Outlier\"]][\"Postal_CODE\"].unique()\n",
    "plt.legend(title=None, labels=[f\"Outlier districts: {', '.join(outlier_districts)}\"], handles=[Line2D([0],[0], marker='o', color='w', label='Scatter', markerfacecolor=palette[1], markersize=7)])\n",
    "sns.despine()    # remove the top and right line in graph\n",
    "g.figure.set_size_inches(15,6)\n",
    "g.set(xlabel=\"Year\", ylabel=\"Absolute number of dogs\")\n",
    "g.set_title(\"Absolute number of dogs in Vienna per year\", loc=\"left\", weight='bold', fontsize=18)\n",
    "x_location = g.axes.get_xticklabels()[-1].get_position()[0]\n",
    "for district in outlier_districts:\n",
    "    y_location = df_dogs_2002_boxplots[(df_dogs_2002_boxplots[\"REF_YEAR\"]==2023) & (df_dogs_2002_boxplots[\"Postal_CODE\"]==district)][\"DOG_VALUE\"].values[0] + 150\n",
    "    plt.annotate(text=district, xy=(x_location, y_location))\n",
    "plt.show()\n",
    "# TODO: please remove output of this cell (=plot) before commit"
   ]
  },
  {
   "cell_type": "markdown",
   "id": "d67258d0",
   "metadata": {},
   "source": [
    "BARPLOTS"
   ]
  },
  {
   "cell_type": "code",
   "execution_count": null,
   "id": "211ac670",
   "metadata": {},
   "outputs": [],
   "source": [
    "# Not so good - Barplot: Dogs per breed in Vienna per year\n",
    "#df_top10_2012 = dog_types_2012.groupby([\"Ref_Date\", \"Dog Breed\"]).agg(count = (\"Anzahl\", \"sum\")).sort_values([\"count\"], ascending=False).groupby([\"Ref_Date\"]).head(100) # double groupby and agg using sum-function to avoid deprecation warning of other methods\n",
    "#df_top10_2012 = df_top10_2012.reset_index()\n",
    "#fig = px.bar(df_top10_2012, x=\"Ref_Date\", y=\"count\", color=\"Dog Breed\", title=\"Dogs per breed in Vienna per year\")\n",
    "# TODO: leftshift years 1 year\n",
    "#fig.show()"
   ]
  },
  {
   "cell_type": "code",
   "execution_count": null,
   "id": "f48127df",
   "metadata": {},
   "outputs": [],
   "source": [
    "# Plot: Absolute number of dogs of the top 30 breeds (across all districts in 2024)\n",
    "sum_dog_types_2024 = pd.DataFrame(dog_types_2024.groupby(\"Dog Breed\")[\"Anzahl\"].sum())\n",
    "top30_sum_dog_types_2024 = sum_dog_types_2024.sort_values(by=\"Anzahl\", ascending=False).head(30).reset_index()\n",
    "bool_unbekannt_top30_2024 = top30_sum_dog_types_2024[\"Dog Breed\"].str.contains(\"Unbekannt\", case=False)\n",
    "\n",
    "fig, ax = plt.subplots(figsize=(10,7))\n",
    "sns.barplot(top30_sum_dog_types_2024, x=\"Anzahl\", y=\"Dog Breed\", color=\"blue\", ax=ax)\n",
    "sns.despine(ax=ax, trim=True)\n",
    "for i in np.arange(len(top30_sum_dog_types_2024))[bool_unbekannt_top30_2024]:\n",
    "    ax.patches[i].set_color('orange')\n",
    "ax.set_title(\"Absolute number of dogs of the top 30 breeds (across all districts in 2024)\\n[Unknown marked in orange]\", loc=\"left\")\n",
    "ax.grid(axis=\"x\")\n",
    "# TODO: please remove output of this cell (=plot) before commit"
   ]
  },
  {
   "cell_type": "markdown",
   "id": "e2487a57",
   "metadata": {},
   "source": [
    "**Barplot motivates Hypothesis 3**: Small dogs like Chihuahuas, Malteser, French Bulldog are very popular. Are smaller dogs generally preferred as pets?"
   ]
  },
  {
   "cell_type": "code",
   "execution_count": null,
   "id": "36da04cc",
   "metadata": {},
   "outputs": [],
   "source": [
    "# Barplot: Absolute number of dogs across all districts in Vienna per year (dogs_2002)\n",
    "fig = px.bar(dogs_2002[dogs_2002[\"Postal_CODE\"] != \"1000\"], x=\"REF_YEAR\", y=\"DOG_VALUE\", color=\"Postal_CODE\", title=\"Absolute number of dogs across all districts in Vienna per year (2002-2023)\",\n",
    "             labels={\"REF_YEAR\": \"year\",\"DOG_VALUE\": \"Absolute number of dogs\",\"Postal_CODE\": \"postal code\"}\n",
    "            )\n",
    "fig.update_xaxes(dtick=1)\n",
    "fig.show()\n",
    "# TODO: please remove output of this cell (=plot) before commit"
   ]
  },
  {
   "cell_type": "code",
   "execution_count": null,
   "id": "ce4a1bf1",
   "metadata": {},
   "outputs": [],
   "source": [
    "# TODO: delete or find useful plot\n",
    "df_top10_2024 = dog_types_2024.groupby([\"Postal_CODE\", \"Dog Breed\"]).agg(count = (\"Anzahl\", \"sum\")).sort_values([\"count\"], ascending=False).groupby([\"Postal_CODE\"]).head(10) # double groupby and agg using sum-function to avoid deprecation warning of other methods\n",
    "df_top10_2024 = df_top10_2024.reset_index()"
   ]
  },
  {
   "cell_type": "code",
   "execution_count": null,
   "id": "bc62f132-be6d-46cc-9697-25546ac356cb",
   "metadata": {
    "id": "bc62f132-be6d-46cc-9697-25546ac356cb"
   },
   "outputs": [],
   "source": [
    "# plot: total number of dogs per district and year\n",
    "# TODO: how to handle jump between 2018 and 2024? Make colors better, maybe continuous color scale?\n",
    "df_years_district = pd.DataFrame(combined_dog_types.groupby([\"Ref_Date\", \"Postal_CODE\"])[\"Anzahl\"].sum().reset_index())\n",
    "px.line(df_years_district, x=\"Ref_Date\", y=\"Anzahl\", color='Postal_CODE', markers=True)\n",
    "# TODO: please remove output of this cell (=plot) before commit"
   ]
  },
  {
   "cell_type": "code",
   "execution_count": null,
   "id": "73cfc26f",
   "metadata": {},
   "outputs": [],
   "source": [
    "# preprocessing for geo-data plots\n",
    "df_beznr_district_mapping = pd.read_csv(\"beznr-district-mapping.csv\", sep=',', dtype={\"BEZNR\": object}) # additional mapping between beznr and district name because geojson contains only name of district\n",
    "df_beznr_district_mapping.head(2)"
   ]
  },
  {
   "cell_type": "code",
   "execution_count": null,
   "id": "751cdf69",
   "metadata": {},
   "outputs": [],
   "source": [
    "# plot: total number of dogs per district and year\n",
    "df_years_district[\"BEZNR\"] = df_years_district[\"Postal_CODE\"].astype(str).str[1:3].astype(\"int32\").astype(str)\n",
    "df_years_district[\"year\"] = df_years_district[\"Ref_Date\"].dt.strftime(\"%Y\").astype(\"int32\")\n",
    "df_years_district = df_years_district.merge(df_beznr_district_mapping, on=\"BEZNR\", how=\"left\")\n",
    "with open('vienna_.geojson', 'r', encoding=\"utf8\") as file:\n",
    "    geo_json = json.load(file)\n",
    "fig = px.choropleth(df_years_district,\n",
    "                    geojson=geo_json,\n",
    "                    color=\"Anzahl\",\n",
    "                    animation_frame='year',\n",
    "                    locations=\"District_Name\",\n",
    "                    featureidkey=\"properties.name\",\n",
    "                    projection=\"mercator\",\n",
    "                    color_continuous_scale=\"deep\",\n",
    "                    title=\"Total number of dogs per district and year\"\n",
    "                   ) # TODO: maybe use log scaling\n",
    "fig.update_geos(fitbounds=\"locations\", visible=False)\n",
    "fig.update_layout(height=500,width=500)\n",
    "fig.show()\n",
    "# TODO: please remove output of this cell (=plot) before commit"
   ]
  },
  {
   "cell_type": "code",
   "execution_count": null,
   "id": "69d85c49",
   "metadata": {},
   "outputs": [],
   "source": [
    "# plot: absolute number of dogs since 2002\n",
    "geo_dogs_2002 = dogs_2002.copy()\n",
    "geo_dogs_2002[\"BEZNR\"] = geo_dogs_2002[\"DISTRICT_CODE\"].astype(str).str[1:3].astype(\"int32\").astype(str)\n",
    "geo_dogs_2002 = geo_dogs_2002.merge(df_beznr_district_mapping, on=\"BEZNR\", how=\"left\")\n",
    "fig = px.choropleth(geo_dogs_2002,\n",
    "                    geojson=geo_json,\n",
    "                    color=np.log2(geo_dogs_2002[\"DOG_VALUE\"]), # TODO: maybe use log scaling\n",
    "                    animation_frame='REF_YEAR',\n",
    "                    locations=\"District_Name\",\n",
    "                    featureidkey=\"properties.name\",\n",
    "                    projection=\"mercator\",\n",
    "                    color_continuous_scale=\"deep\",\n",
    "                    title=\"absolute number of dogs since 2002\"\n",
    "                   ) \n",
    "fig.update_geos(fitbounds=\"locations\", visible=False)\n",
    "fig.update_layout(height=500,width=500)\n",
    "fig.update_layout(coloraxis_colorbar=dict(\n",
    "    title=\"Absolute number [log2]\"#,\n",
    "    #tickvals=[6,7,8,9],\n",
    "    #ticktext=[\"\", \"10M\", \"100M\", \"1B\"],\n",
    "))\n",
    "fig.show()\n",
    "# TODO: maybe concentrate on some specific districts\n",
    "# TODO: please remove output of this cell (=plot) before commit"
   ]
  },
  {
   "cell_type": "markdown",
   "id": "24f413c3-912c-4e38-aa31-fb3b925edf17",
   "metadata": {},
   "source": [
    "Distribution of dog breeds over districts --> how many different dog breeds are there per district?"
   ]
  },
  {
   "cell_type": "code",
   "execution_count": null,
   "id": "42e95deb-b273-4bbb-941b-555dc5dbb92a",
   "metadata": {},
   "outputs": [],
   "source": [
    "df_count_breeds_per_district = (combined_dog_types_by_year_and_district > 0).astype(int).sum(axis=1)\n",
    "df_count_breeds_per_district = df_count_breeds_per_district.reset_index().sort_values(by=['Ref_Date'])\n",
    "df_count_breeds_per_district.columns = ['Ref_Date', 'Postal_CODE', 'Count']\n",
    "df_count_breeds_per_district"
   ]
  },
  {
   "cell_type": "code",
   "execution_count": null,
   "id": "42c6e92b-717a-4cce-91cc-541e309b49af",
   "metadata": {},
   "outputs": [],
   "source": [
    "df_count_breeds_per_district['Ref_Date'] = df_count_breeds_per_district['Ref_Date'].dt.date\n",
    "\n",
    "# Plot the data in a facet grid\n",
    "plt.figure(figsize=(10, 6))\n",
    "sns.set_style('whitegrid')\n",
    "\n",
    "# used catplot for categorical data \n",
    "g = sns.catplot(\n",
    "    x='Postal_CODE', \n",
    "    y='Count', \n",
    "    col='Ref_Date', \n",
    "    col_wrap=3, \n",
    "    data=df_count_breeds_per_district, \n",
    "    kind='bar'\n",
    ")\n",
    "for ax in g.axes.flat:\n",
    "    ax.tick_params(axis='x', rotation=45)\n",
    "plt.tight_layout()\n",
    "\n",
    "plt.show();"
   ]
  },
  {
   "cell_type": "markdown",
   "id": "bf222027-4ae2-4862-af37-29d6c13d870e",
   "metadata": {},
   "source": [
    "Observation: The diversity of dogs in Vienna increased noticeably between 2017 and 2024."
   ]
  },
  {
   "cell_type": "markdown",
   "id": "277ea477-7d0c-407b-970e-212d64b5ec94",
   "metadata": {
    "id": "277ea477-7d0c-407b-970e-212d64b5ec94"
   },
   "source": [
    "## E3 - Formulate hypotheses\n",
    "\n",
    "*Note: Read this section entirely and understand it - every group member.*\n",
    "\n",
    "A hypothesis is an idea or explanation for something that is based on known facts but has not yet been proved. A hypothesis is a compact, concise statement, such as: \"Individuals with higher income have (on average) more offspring.\", that will be answered based on facts (the data). https://gradcoach.com/what-is-a-research-hypothesis-or-scientific-hypothesis/\n",
    "\n",
    "Formulate *N* non-trivial hypotheses, 1 per group member, and regard the following criteria:\n",
    "- State the hypothesis explicitly in concise language.\n",
    "- The hypothesis must be **motivated** by either **EDA results** or **literature** (citation in the report needed).\n",
    "- The hypothesis must refer to **endpoints** that are **testable**. Specifically, the endpoint must be derived from the data.\n",
    "- Think of real-life use cases/consequences of your results (textual description).\n",
    "- For each hypothesis explain all executed steps.\n",
    "- In case of extreme or implausible results check the validity of your data.\n",
    "- For each hypothesis export the artifacts (figures, tables, etc.) required for the report.\n",
    "- If you decide to use a statistical test, use it properly. In particular, check the validity and comparability of the samples.\n",
    "\n",
    "Do not:\n",
    "- State nebulous, vague hypotheses. These don't contain endpoints and are unclear to test (i.e., answer).\n",
    "- Use post-hoc hypotheses. Portraying an empirically inspired **post hoc hypothesis as a priori** violates the **falsification principle** crucial for hypothesis-driven (that is, confirmatory) empirical research. Falsification is severe scientific fraud.\n",
    "- State trivial hypotheses (e.g., hypthesis 2: \"Not Hypothesis 1\").\n",
    "- Answer based on \"common knowledge\".\n",
    "- Try to **produce positively tested hypotheses**. If a well motivated hypothesis is negative, this is an important finding (see Simpson's Paradox). The value of a tested hypothesis lies in the information or learning it provides.\n",
    "\n",
    "Example: The homework with Simpson's Paradox. The pooled overall comparison between the genders would be the EDA motivating the hypothesis: \"At UC Berkeley the by-department admissions rate for females is lower than for males.\" It should be tested using samples of department admission rates for the 2 **groups** male and female. No steps of the test should be done in EDA (or a priory to stating the hypothesis). The groups should be compared graphically, e.g., via a stripplot overlayed with a boxplot. The figure should be labelled properly and exported for the report. A (paired) t-test **may** be used (it's optional) to test this hypothesis statistically. For different data (e.g., time series) different approaches may be required. You don't have to use statistical tests, in particular if you don't know what they are doing.\n"
   ]
  },
  {
   "cell_type": "markdown",
   "id": "09613f9f-d3ff-4b8d-b975-88437a72815c",
   "metadata": {
    "id": "09613f9f-d3ff-4b8d-b975-88437a72815c"
   },
   "source": [
    "---\n",
    "\n",
    "### E3-H1: \"The prevalence of specific dog breeds in Vienna is strongly influenced by real estate prices.\"\n",
    "\n",
    "Rationale: Higher real estate prices may attract certain dog breeds, indicating a potential link between the types of dogs found in high-income areas and local housing costs.\n",
    "\n",
    "Data Needed: \n",
    "- Dog breed data (`hunde-vie.csv` / `hunde-wien.csv`).\n",
    "- Real estate prices dataset.\n",
    "\n",
    "Author: Carlos Eduardo Tichy\n",
    "\n",
    "---\n",
    "\n",
    "### Supporting Evidence and Insights\n",
    "\n",
    "While there is no direct study linking **dog breed prevalence** to **real estate prices** specifically in Vienna, several sources suggest that **housing conditions and socio-economic factors** do influence dog breed choices across Europe.\n",
    "\n",
    "1. **Housing Conditions**: A study noted that housing conditions, such as **living in an apartment or house with a garden**, strongly influence the types of dogs people own. In urban areas with high real estate prices, smaller breeds, like **French Bulldogs or Chihuahuas**, are more common due to space constraints. In contrast, **larger breeds**, such as Golden Retrievers or German Shepherds, tend to be more prevalent in suburban or rural areas where properties are larger and more affordable  .\n",
    "\n",
    "2. **Socio-Demographic Factors**: Research also highlights that wealthier households or those in areas with **higher disposable income** are more likely to own certain breeds that are more expensive to maintain, such as **purebred dogs**. Similarly, a rise in **single-person households** and more flexible work patterns (like remote work) have made dog ownership more common in urban areas, further influencing breed choices based on lifestyle  .\n",
    "\n",
    "3. **Popularity and Behavior**: Another study found that certain breeds become popular in specific socio-economic environments due to **behavioral traits** that suit urban living. For example, dogs that are **trainable, less aggressive, or more adaptable to confined spaces** are preferred in cities .\n",
    "\n",
    "These insights suggest a clear relationship between the environment (including **real estate prices**) and **dog breed selection**, even if specific studies on Vienna are yet to emerge.\n",
    "\n",
    "---\n",
    "\n",
    "**Sources**:\n",
    "\n",
    "1. [The Influence of Breed, Sex, Origin and Housing Conditions on Undesirable Behaviors in Ancient Dog Breeds](https://www.mdpi.com/2076-2615/11/5/1435)\n",
    "2. [The Rise of Dog Ownership in Europe: A Decade in Review](https://rochsociety.com/research-european-dog-ownership-2010-2022/)\n",
    "3. [Socio-demographic factors associated with pet ownership amongst adolescents from a UK birth cohort](https://bmcvetres.biomedcentral.com/articles/10.1186/s12917-019-2063-x)\n",
    "4. [Fashion vs. Function in Cultural Evolution: The Case of Dog Breed Popularity](https://journals.plos.org/plosone/article?id=10.1371/journal.pone.0074770)\n",
    "\n",
    "---"
   ]
  },
  {
   "cell_type": "code",
   "execution_count": null,
   "id": "702cdce9-5d4f-41f3-8b9e-a4363ec5d8d5",
   "metadata": {
    "id": "702cdce9-5d4f-41f3-8b9e-a4363ec5d8d5"
   },
   "outputs": [],
   "source": []
  },
  {
   "cell_type": "markdown",
   "id": "8a404fa7-19f3-49bc-adc7-9a6ae07da0c9",
   "metadata": {
    "id": "8a404fa7-19f3-49bc-adc7-9a6ae07da0c9",
    "tags": []
   },
   "source": [
    "### E3-H2: \"There is a positive correlation between the ownership of Listenhunde and district, with a higher prevalence of Listenhunde ownership in outer viennese districts compared to inner districts.\"\n",
    "\n",
    "Listenhunde are specific dog breeds which must be registered and owning them comes with specific regulations, such as always walk your dog with a muzzle and a leash, except when in fully gated dog areas. Owners must complete a 'Hundeführerschein' as well, for which you have to be at least 16 years old. Thereby, if you are under the age of 16, you are not allowed to walk this dog breed. Note that all dogs, which contain one of the breeds from the list are considered a Listenhund.  \n",
    "\n",
    "Rationale: It could be easier to own a Listenhund in an outer district, as there aren't as many people around (acceptance) as well as more free spaces. Additionally, other provinces have different regulations, which might be more favorable and would make traveling distances shorter. \n",
    "\n",
    "Data Needed: Dog breed data ('hunde-vie.csv'/hunde-wien.csv)\n",
    "\n",
    "Author: Theresa Spiel\n",
    "\n",
    "---\n",
    "\n",
    "**Sources**: \n",
    "1. [Haltung von Listenhunden in Wien](https://www.oesterreich.gv.at/themen/reisen_und_freizeit/haustiere/1/2/Seite.742280.html)\n",
    "2. [All regulations for Listenhunde in Austria](https://www.oesterreich.gv.at/themen/reisen_und_freizeit/haustiere/1/2.html)\n",
    "---\n"
   ]
  },
  {
   "cell_type": "markdown",
   "id": "6d2b6802-802e-4cc9-ad8c-10c222c76df1",
   "metadata": {},
   "source": [
    "Start with getting all dog breeds per district."
   ]
  },
  {
   "cell_type": "code",
   "execution_count": null,
   "id": "4a3711e0-13d6-4115-9d64-c9f154d27f7f",
   "metadata": {
    "id": "4a3711e0-13d6-4115-9d64-c9f154d27f7f"
   },
   "outputs": [],
   "source": [
    "dog_breeds_per_district = combined_dog_types_by_year_and_district.reset_index().melt(id_vars=[ 'Ref_Date', 'Postal_CODE'], value_vars=combined_dog_types_by_year_and_district.columns, value_name='Count')\n",
    "dog_breeds_per_district[\"year\"] = dog_breeds_per_district[\"Ref_Date\"].dt.strftime(\"%Y\").astype(\"int32\")\n",
    "dog_breeds_per_district"
   ]
  },
  {
   "cell_type": "markdown",
   "id": "3e115b47-b47d-4bdf-addf-374860ec3f91",
   "metadata": {},
   "source": [
    "There are many mixed breeds --> aggregate mixed breeds and introduce Primary and Secondary Breed. "
   ]
  },
  {
   "cell_type": "code",
   "execution_count": null,
   "id": "f66f297b-6c64-45a9-aaa3-d459f9f9d67e",
   "metadata": {},
   "outputs": [],
   "source": [
    "#[print(x) for x in dog_breeds_per_district[\"Dog Breed\"].unique()];\n",
    "dog_breeds_per_district['Dog Breed'] = dog_breeds_per_district['Dog Breed'].str.replace('-', '')\n",
    "\n",
    "dog_breeds_per_district[['Primary Breed', 'Secondary Breed']] = dog_breeds_per_district['Dog Breed'].str.split(' / ', n=1, expand=True).astype(str)\n",
    "dog_breeds_per_district['Secondary Breed'] = dog_breeds_per_district['Secondary Breed'].replace('None', np.nan)\n",
    "\n",
    "# Check for potentially redundant breed names\n",
    "potentially_redundant = {}\n",
    "for breed in dog_breeds_per_district[\"Primary Breed\"].unique():\n",
    "    stripped = re.sub(r'[^a-zA-Z]', '', breed).lower()\n",
    "    if stripped in potentially_redundant:\n",
    "        potentially_redundant[stripped].append(breed)\n",
    "    else:\n",
    "        potentially_redundant[stripped] = [breed]\n",
    "\n",
    "# fix redundant breeds (same breed, but written different, only upper lower differences, missing space and such) \n",
    "for stripped, breeds in potentially_redundant.items():\n",
    "    if len(breeds) > 1:\n",
    "        dog_breeds_per_district.loc[dog_breeds_per_district['Primary Breed'] == breeds[1], 'Primary Breed'] = str(breeds[0])\n",
    "\n",
    "# add (rein) to every entry where secondary is NaN to not mix pure breeds and mixed breeds\n",
    "dog_breeds_per_district.loc[dog_breeds_per_district['Secondary Breed'].isna(), 'Primary Breed'] += ' (pure)'\n",
    "dog_breeds_per_district.loc[~dog_breeds_per_district['Secondary Breed'].isna(), 'Primary Breed'] += ' (mixed)'\n",
    "\n",
    "# drop entries with Unbekannt (rein) \n",
    "dog_breeds_per_district = dog_breeds_per_district[dog_breeds_per_district['Primary Breed'] != 'Unbekannt (pure)']\n",
    "dog_breeds_per_district = dog_breeds_per_district[dog_breeds_per_district['Primary Breed'] != 'Unbekannt (mixed)']\n",
    "\n",
    "dog_breeds_per_district.sort_values(by=['Ref_Date'], ascending=True)\n",
    "dog_breeds_per_district.head()"
   ]
  },
  {
   "cell_type": "markdown",
   "id": "021b2f00-b770-4b3c-83b0-16fd17217b25",
   "metadata": {},
   "source": [
    "There is still 1044 unique values, but we need to take mixed vs pure into account. "
   ]
  },
  {
   "cell_type": "code",
   "execution_count": null,
   "id": "da46ef89-f705-47a9-991a-8f2a165fe9d7",
   "metadata": {},
   "outputs": [],
   "source": [
    "len(dog_breeds_per_district['Primary Breed'].unique())"
   ]
  },
  {
   "cell_type": "markdown",
   "id": "ebd7d3ff-367f-4abc-973c-55e68aaf7349",
   "metadata": {},
   "source": [
    "Plot all primary breeds as histogram per breed, separated by year (with an animation frame) and the histogram being split into the districts. Upon zooming in, we can see there is a prevalesence for specific dog breeds, but this plot is too crowded yet, to gain insights for Listenhunde. "
   ]
  },
  {
   "cell_type": "code",
   "execution_count": null,
   "id": "9a570543-c5ba-4248-9b1d-0d641ca44b28",
   "metadata": {},
   "outputs": [],
   "source": [
    "# Using a interactive histogram to display the distribution of dog breeds per district \n",
    "def show_interactive_histogram(dataframe, x, y, color, title, yaxes_text):\n",
    "    fig = px.histogram(data_frame=dataframe, x=x, y=y, color=color, height=1000,\n",
    "                     title=title, animation_frame=\"year\")\n",
    "    fig.update_yaxes(title_text=yaxes_text)\n",
    "    fig.update_xaxes(tickangle=45)\n",
    "    fig.update_layout(\n",
    "        updatemenus=[dict(y=-0.22, x=-0.16, xanchor=\"left\", yanchor=\"top\")],\n",
    "        sliders=[dict(y=-0.2, x=0.1, xanchor=\"left\", yanchor=\"top\")],\n",
    "        margin=dict(b=150)\n",
    "    )\n",
    "    fig.show()"
   ]
  },
  {
   "cell_type": "code",
   "execution_count": null,
   "id": "7aa95989-12a0-4e6b-8b6f-f238cb345c18",
   "metadata": {},
   "outputs": [],
   "source": [
    "show_interactive_histogram(\n",
    "    dataframe=dog_breeds_per_district, \n",
    "    x = 'Primary Breed', \n",
    "    y = 'Count', \n",
    "    color = 'Postal_CODE', \n",
    "    title='Dog Breeds per Year/District', \n",
    "    yaxes_text='Count',\n",
    ")"
   ]
  },
  {
   "cell_type": "code",
   "execution_count": null,
   "id": "23708289-2ddc-4c36-b43b-2565864f1ad5",
   "metadata": {},
   "outputs": [],
   "source": [
    "list_dogs = ['Bullterrier', 'Staffordshire Bullterrier', 'American Staffordshire Terrier', 'Mastino Napoletano', 'Mastin Espanol', 'Fila Brasileiro', 'Mastiff', 'Bullmastiff', 'Tosa Inu', \n",
    "    'Pit Bull Terrier', 'Rottweiler', 'Dogo Argentino', 'Argentinischer Mastiff']\n",
    "[x.strip(\" \") for x in list_dogs];"
   ]
  },
  {
   "cell_type": "markdown",
   "id": "14dbfc4f-4064-4f7f-8c64-f56cf3dbee93",
   "metadata": {},
   "source": [
    "Filter for Listenhunde and display those. Shows general distribution of Listenhunde. "
   ]
  },
  {
   "cell_type": "code",
   "execution_count": null,
   "id": "aa5cb19d-3240-4e2a-9b5b-d0b939d97f5e",
   "metadata": {},
   "outputs": [],
   "source": [
    "mask = dog_breeds_per_district['Primary Breed'].str.strip(\" \").str.contains('|'.join(list_dogs), case=False, na=False)\n",
    "matching_breeds = dog_breeds_per_district[mask].sort_values(by=['Ref_Date'], ascending=True)\n",
    "matching_breeds['Primary Breed'] = matching_breeds['Primary Breed'].str.replace(\" (pure)\", \"\", regex=False).str.replace(\" (mixed)\", \"\", regex=False)"
   ]
  },
  {
   "cell_type": "code",
   "execution_count": null,
   "id": "cf44fa3c-ae1a-4964-b195-2c76882ae66f",
   "metadata": {},
   "outputs": [],
   "source": [
    "show_interactive_histogram(\n",
    "    dataframe=matching_breeds, \n",
    "    x = 'Primary Breed', \n",
    "    y = 'Count', \n",
    "    color = 'Postal_CODE', \n",
    "    title='Listenhunde per Year/District', \n",
    "    yaxes_text='Count',\n",
    ")"
   ]
  },
  {
   "cell_type": "markdown",
   "id": "ec48254c-11ab-4f41-8300-288a2f739b7c",
   "metadata": {},
   "source": [
    "Show Listenhunde by year and district. "
   ]
  },
  {
   "cell_type": "code",
   "execution_count": null,
   "id": "75854758-144d-47c5-b92f-74ad0123d3d1",
   "metadata": {},
   "outputs": [],
   "source": [
    "def show_interactive_histogram_per_district(dataframe, x, y, color, title, yaxes_text):\n",
    "    fig = px.histogram(data_frame=dataframe, \n",
    "                       x=x, \n",
    "                       y=y, \n",
    "                       color=color, \n",
    "                       height=1000,\n",
    "                       title=title,\n",
    "                       animation_frame=\"year\",  \n",
    "                       nbins=len(matching_breeds['Postal_CODE'].unique())\n",
    "                      )\n",
    "    fig.update_yaxes(title_text=yaxes_text)\n",
    "    fig.update_xaxes(tickangle=45, tickvals=dataframe[x].unique() )\n",
    "    fig.update_layout(bargap=0.2)\n",
    "    fig.show()"
   ]
  },
  {
   "cell_type": "code",
   "execution_count": null,
   "id": "1cd0be93-4e78-4a98-a18f-62d6f251f5c1",
   "metadata": {},
   "outputs": [],
   "source": [
    "show_interactive_histogram_per_district(\n",
    "    dataframe=matching_breeds, \n",
    "    x = 'Postal_CODE', \n",
    "    y = 'Count', \n",
    "    color = 'Primary Breed', \n",
    "    title='Listenhunde per Year/District', \n",
    "    yaxes_text='Count',\n",
    ")"
   ]
  },
  {
   "cell_type": "markdown",
   "id": "23756f24-1ef4-440b-8f15-42aed23ecaf9",
   "metadata": {},
   "source": [
    "Recall Vienna's district borders. Outer districts are those districts which border to neighbouring provinces.\n",
    "- outer_districts = [1100, 1110, 1130, 1140, 1170,  1190, 1210, 1220, 1230]\n",
    "- inner_districts = [1010, 1020, 1030, 1040, 1050, 1060, 1070, 1080, 1090, 1120, 1150, 1160, 1180, 1200]\n",
    "\n"
   ]
  },
  {
   "cell_type": "code",
   "execution_count": null,
   "id": "5dcc508d-2d8c-4af2-b4e8-a72b6adc37b7",
   "metadata": {},
   "outputs": [],
   "source": [
    "gdf = gpd.read_file(\"BEZIRKSGRENZEOGD.json\")\n",
    "gdf = gdf.set_index('BEZNR').sort_index()\n",
    "\n",
    "ax = gdf.plot(color='none', edgecolor='red')\n",
    "# gcf -> get current figure , set title\n",
    "plt.gcf().suptitle('Vienna\\'s district borders')\n",
    "ax.set_xlabel('Lon °')\n",
    "ax.set_ylabel('Lat °')\n",
    "\n",
    "# Plot the index for each district\n",
    "for idx, row in gdf.iterrows():\n",
    "    ax.text(row.geometry.centroid.x, row.geometry.centroid.y, str(idx), ha='center')\n",
    "\n",
    "plt.show()"
   ]
  },
  {
   "cell_type": "markdown",
   "id": "9cf248f6-300f-408f-b579-bfba7767853b",
   "metadata": {},
   "source": [
    "Split into outer and inner districts and look for distribution difference "
   ]
  },
  {
   "cell_type": "code",
   "execution_count": null,
   "id": "e0b82205-7a53-4278-a326-91d03f775eb5",
   "metadata": {},
   "outputs": [],
   "source": [
    "matching_breeds.head()"
   ]
  },
  {
   "cell_type": "code",
   "execution_count": null,
   "id": "c6b00bd2-7211-4dec-af13-7e32a39e53b4",
   "metadata": {},
   "outputs": [],
   "source": [
    "outer_districts = [1100, 1110, 1130, 1140, 1170,  1190, 1210, 1220, 1230]\n",
    "inner_districts = [1010, 1020, 1030, 1040, 1050, 1060, 1070, 1080, 1090, 1120, 1150, 1160, 1180, 1200]\n",
    "\n",
    "matching_breeds_inner = matching_breeds[matching_breeds['Postal_CODE'].isin(inner_districts)]\n",
    "matching_breeds_outer = matching_breeds[matching_breeds['Postal_CODE'].isin(outer_districts)]\n",
    "\n",
    "print(\"Sanity Check - number of postal codes in both dfs: \") \n",
    "matching_breeds_inner['Postal_CODE'].nunique() + matching_breeds_outer['Postal_CODE'].nunique()"
   ]
  },
  {
   "cell_type": "markdown",
   "id": "17350603-3cba-48e1-955f-1d5fbddf5219",
   "metadata": {},
   "source": [
    "Comparing the absolute sum of Listenhunde in inner and outer districts supports the hypothesis. "
   ]
  },
  {
   "cell_type": "code",
   "execution_count": null,
   "id": "ad9b3842-de06-40c7-8fd3-c19c92ff7738",
   "metadata": {},
   "outputs": [],
   "source": [
    "print(\"Listenhunde innere Bezirke: \", matching_breeds_inner['Count'].sum())\n",
    "print(\"Einträge: \", len(matching_breeds_inner))"
   ]
  },
  {
   "cell_type": "code",
   "execution_count": null,
   "id": "f3fe3407-bbc4-4398-966d-33072c5e7f83",
   "metadata": {},
   "outputs": [],
   "source": [
    "print(\"Listenhund äußere Bezirke: \", matching_breeds_outer['Count'].sum())\n",
    "print(\"Einträge: \", len(matching_breeds_outer))"
   ]
  },
  {
   "cell_type": "markdown",
   "id": "608a8fb6-b56a-455c-9050-fe395a1564cc",
   "metadata": {},
   "source": [
    "Lets look at the subgroups in more detail: "
   ]
  },
  {
   "cell_type": "code",
   "execution_count": null,
   "id": "61cbd7a6-b714-4715-a143-36b122ec14a5",
   "metadata": {},
   "outputs": [],
   "source": [
    "show_interactive_histogram_per_district(\n",
    "    dataframe=matching_breeds_inner, \n",
    "    x = 'Postal_CODE', \n",
    "    y = 'Count', \n",
    "    color = 'Primary Breed', \n",
    "    title='Listenhunde per Year / Inner Districts', \n",
    "    yaxes_text='Count',\n",
    ")"
   ]
  },
  {
   "cell_type": "code",
   "execution_count": null,
   "id": "a11fc1a0-c522-4236-9f14-c6c128d71683",
   "metadata": {},
   "outputs": [],
   "source": [
    "show_interactive_histogram_per_district(\n",
    "    dataframe=matching_breeds_outer, \n",
    "    x = 'Postal_CODE', \n",
    "    y = 'Count', \n",
    "    color = 'Primary Breed', \n",
    "    title='Listenhunde per Year/ Outer Districts', \n",
    "    yaxes_text='Count',\n",
    ")"
   ]
  },
  {
   "cell_type": "markdown",
   "id": "c31c1775-b9fb-489d-9033-235e68c6cbf3",
   "metadata": {},
   "source": [
    "Lets see if there is a correlation between breed and district. "
   ]
  },
  {
   "cell_type": "code",
   "execution_count": null,
   "id": "3beeb249-7657-46a1-80a6-e77f494826c8",
   "metadata": {},
   "outputs": [],
   "source": [
    "from scipy import stats\n",
    "\n",
    "# calculate correlation between Listenhund breed and postal code\n",
    "def calculate_correlation(breed):\n",
    "    breed_data = matching_breeds[matching_breeds['Primary Breed'] == breed]\n",
    "    return stats.pearsonr(breed_data['Count'], breed_data['Postal_CODE'])[0]\n",
    "\n",
    "top_breeds = matching_breeds.groupby('Primary Breed')['Count'].sum().index\n",
    "correlations = {breed: calculate_correlation(breed) for breed in top_breeds}\n",
    "\n",
    "plt.figure(figsize=(12, 6))\n",
    "breeds = list(correlations.keys())\n",
    "values = list(correlations.values())\n",
    "plt.scatter(breeds, values, label='Correlation Coefficients')\n",
    "\n",
    "plt.title('Correlation between Listenhund Breed Popularity and District')\n",
    "plt.xticks(rotation=45, ha='right')\n",
    "plt.ylabel('Correlation Coefficient')\n",
    "plt.xlabel('Breed')\n",
    "plt.legend()\n",
    "plt.tight_layout()\n",
    "plt.show()"
   ]
  },
  {
   "cell_type": "markdown",
   "id": "303db61b-3072-43de-b53b-46adf1923d43",
   "metadata": {},
   "source": [
    "There is a weak correaltion between list dog breed owned and district, with only three breeds > 0.2. The lower the result, the less relationship there is, therefore, a value of ~0.3 and less is not statistically significant. \n",
    "[Pearson Correlation Coefficient](https://www.scribbr.com/statistics/pearson-correlation-coefficient/)"
   ]
  },
  {
   "cell_type": "markdown",
   "id": "778928e5-84bf-4417-bd51-8e97b851069e",
   "metadata": {},
   "source": [
    "Get the relation to dog ownership in inner and outer districts in general: "
   ]
  },
  {
   "cell_type": "code",
   "execution_count": null,
   "id": "8a2843d0-eda7-41b9-a71d-d92af34dfdf8",
   "metadata": {},
   "outputs": [],
   "source": [
    "district_dog_breeds_inner = dog_breeds_per_district[dog_breeds_per_district['Postal_CODE'].isin(inner_districts)]\n",
    "district_dog_breeds_outer = dog_breeds_per_district[dog_breeds_per_district['Postal_CODE'].isin(outer_districts)]"
   ]
  },
  {
   "cell_type": "code",
   "execution_count": null,
   "id": "cfdec592-0f0a-4ff6-b979-221cbf930d77",
   "metadata": {},
   "outputs": [],
   "source": [
    "def print_relative(matching_breeds, all_breeds): \n",
    "    print(\"Number of Listenhunde: \", matching_breeds['Count'].sum())\n",
    "    print(\"Number of dogs overall: \", all_breeds['Count'].sum())\n",
    "    print(f\"Percentage of Listenhunde in dogs overall: {((matching_breeds['Count'].sum()/all_breeds['Count'].sum()) *100):.2f} %\")"
   ]
  },
  {
   "cell_type": "code",
   "execution_count": null,
   "id": "e2fb7659-e746-4ac0-bd4f-7bd872d818ef",
   "metadata": {},
   "outputs": [],
   "source": [
    "print(\"Inner Districts: \")\n",
    "print_relative(matching_breeds_inner, district_dog_breeds_inner)"
   ]
  },
  {
   "cell_type": "code",
   "execution_count": null,
   "id": "ac5e87b9-856d-4c7c-891f-68606218d687",
   "metadata": {},
   "outputs": [],
   "source": [
    "print(\"Outer Districts: \")\n",
    "print_relative(matching_breeds_outer, district_dog_breeds_outer)"
   ]
  },
  {
   "cell_type": "markdown",
   "id": "775f2ade-f6f8-47ec-b561-30d661579686",
   "metadata": {},
   "source": [
    "#### Anser H2: \n",
    "No, there is no statistically significant positive correlation between the ownership of Listenhunde and districts. While the absolute number of Listenhunde is higher in the outer districts, the relative number of Listenhunde in outer districts is only slightly higher than the relative number of Listenhunde in inner districts. Additionally only a weak correlation between Listenhund breed owned and district could be found. "
   ]
  },
  {
   "cell_type": "markdown",
   "id": "70e60944-b857-4a32-872a-6db028c51c87",
   "metadata": {
    "id": "70e60944-b857-4a32-872a-6db028c51c87",
    "tags": []
   },
   "source": [
    "### E3-H3: \n",
    "* #### \"Dog ownership noticeably increased during the pandemic in comparison to the previous years.\"\n",
    "OR\n",
    "* #### \"Viennese dog owner tend to prefer smaller dogs instead of bigger ones (in 2024).\"\n",
    "Author: Martin Stasek\n",
    "\n",
    "* Literature / Articles: \n",
    "    * https://www.amcny.org/blog/2021/01/06/covid19-pandemic-pet-ownership/\n",
    "    * https://www.zeit.de/news/2021-03/22/eine-million-mehrhaustiere-in-der-pandemie\n",
    "\n",
    " OR\n",
    "\n",
    "    * https://www.petfoodindustry.com/pet-food-market/article/15449230/ownership-of-small-dogs-on-the-rise\n",
    "\n",
    "* Height categories (<a href=\"https://futalis.de/hunderatgeber/hunderassen#:~:text=Kleine%20Hunderassen%20haben%20eine%20Schulterh%C3%B6he,eine%20Schulterh%C3%B6he%20ab%2060%20cm.\">Link</a>):\n",
    "    * Small dogs: Shoulder Height < 40 cm \n",
    "    * Medium sized dogs:  40 cm <= Shoulder Height < 60 cm\n",
    "    * Big dogs: Shoulder Height >= 60 cm\n"
   ]
  },
  {
   "cell_type": "code",
   "execution_count": null,
   "id": "6bf1314d-47bb-4440-90f9-bef900320597",
   "metadata": {
    "id": "6bf1314d-47bb-4440-90f9-bef900320597"
   },
   "outputs": [],
   "source": [
    "# scrape data from website https://hund-gewicht.de/rassenverzeichnis\n",
    "# already exported it to breed_heights.csv in case something changes on website\n",
    "r'''\n",
    "from bs4 import BeautifulSoup # parse html\n",
    "import urllib.request # get html\n",
    "import re\n",
    "html_dog_heigths = urllib.request.urlopen(\"https://hund-gewicht.de/rassenverzeichnis\").read()\n",
    "parsed_html = BeautifulSoup(html_dog_heigths)\n",
    "breeds_html = parsed_html.body.find_all('a', attrs={'class':'card breed'})\n",
    "names = np.array([])\n",
    "height_min = np.array([])\n",
    "height_max = np.array([])\n",
    "for breed in breeds_html:\n",
    "    names = np.append(names, breed.find('div', attrs={'class':'name'}).text.strip())\n",
    "    infos_html = breed.find('div', attrs={'class':'breed-infos'})\n",
    "    infos_html = infos_html.find_all('li')\n",
    "    for info in infos_html:\n",
    "        if \"Größe\" in info.find('div', attrs={'class':'label'}).text:\n",
    "            heights = info.find('div', attrs={'class':'value'}).text.strip()\n",
    "            heights = re.findall(r\"\\d+\", heights)\n",
    "            height_min = np.append(height_min, heights[0])\n",
    "            height_max = np.append(height_max, heights[1])\n",
    "df_breed_heights = pd.DataFrame({\"Dog Breed\": names, \"Min Height\": height_min, \"Max Height\": height_max})\n",
    "df_breed_heights.to_csv(\"breed_heights.csv\", sep=\",\", encoding=\"utf8\", index=False)\n",
    "df_breed_heights.head()\n",
    "'''\n",
    "# multiline comment returns warning without using r'''"
   ]
  },
  {
   "cell_type": "code",
   "execution_count": null,
   "id": "edd7ee09",
   "metadata": {},
   "outputs": [],
   "source": [
    "df_breed_heights = pd.read_csv(\"breed_heights.csv\", sep=\",\", encoding=\"utf8\")\n",
    "df_breed_heights.head()"
   ]
  },
  {
   "cell_type": "code",
   "execution_count": null,
   "id": "ca8048bd",
   "metadata": {},
   "outputs": [],
   "source": [
    "import difflib # could also use nltk edit_distance but difflib is standard library and way cleaner implementation this way\n",
    "df_h3_dogs = combined_dog_types.drop(columns=\"DISTRICT_CODE\")\n",
    "df_h3_dogs[\"Year\"] = pd.DatetimeIndex(df_h3_dogs[\"Ref_Date\"]).year\n",
    "df_h3_dogbreeds = df_h3_dogs[\"Dog Breed\"].str.replace(\" / .*\", \"\", regex=True) # take first breed of mixed breeds since big differences in heights for the parent breeds are rather uncommon\n",
    "df_h3_dogbreeds = pd.DataFrame({\"Dog Breed\": df_h3_dogbreeds}, dtype=\"object\")\n",
    "df_h3_dogbreeds[\"Dog Breed\"] = df_h3_dogbreeds[\"Dog Breed\"].apply(lambda x: (difflib.get_close_matches(x, df_breed_heights[\"Dog Breed\"], cutoff=0.7)[:1] or [x])[0]) # if good match is found harmonize breed name, if not leave it\n",
    "df_h3_dogs[\"Dog Breed\"] = df_h3_dogbreeds[\"Dog Breed\"]"
   ]
  },
  {
   "cell_type": "code",
   "execution_count": null,
   "id": "0a037228",
   "metadata": {},
   "outputs": [],
   "source": [
    "df_all_breeds_heights = pd.DataFrame({\"Dog Breed\": df_h3_dogbreeds[\"Dog Breed\"].unique()}).merge(df_breed_heights, on=\"Dog Breed\", how=\"left\")\n",
    "df_all_breeds_heights.isna().sum() # still many breeds that cannot be mapped to entry in breed_heights.csv"
   ]
  },
  {
   "cell_type": "markdown",
   "id": "69031595",
   "metadata": {},
   "source": [
    "There are still many breeds that cannot be mapped to entry in breed_heights.csv. \n",
    "* Scrape missing data using Edge Copilot (instead of manually doing it to save time) => saved in H3_missing_breeds_information.csv\n",
    "* I validated many many entries to lower risk of completely wrong heights, but found nothing wrong. Data looks really good."
   ]
  },
  {
   "cell_type": "code",
   "execution_count": null,
   "id": "145e0c0d",
   "metadata": {},
   "outputs": [],
   "source": [
    "df_breed_heights = pd.concat([df_breed_heights, pd.read_csv(\"H3_missing_breeds_information.csv\", sep=\",\", encoding=\"utf8\")])"
   ]
  },
  {
   "cell_type": "code",
   "execution_count": null,
   "id": "2f182baa",
   "metadata": {},
   "outputs": [],
   "source": [
    "df_all_breeds_heights = pd.DataFrame({\"Dog Breed\": df_h3_dogbreeds[\"Dog Breed\"].unique()}).merge(df_breed_heights, on=\"Dog Breed\", how=\"left\")\n",
    "df_all_breeds_heights[df_all_breeds_heights[\"Max Height\"].isna()][\"Dog Breed\"] # only 'unknown' breed"
   ]
  },
  {
   "cell_type": "code",
   "execution_count": null,
   "id": "cf934a44",
   "metadata": {},
   "outputs": [],
   "source": [
    "tmp_check_unknown = df_h3_dogs.copy()\n",
    "tmp_check_unknown[\"is Unknown\"] = np.where((df_h3_dogs[\"Dog Breed\"] == \"Unbekannt\") | (df_h3_dogs[\"Dog Breed\"] == \"Unbekannt / Mischling\"),\n",
    "                                          True, False)\n",
    "tmp_check_unknown = pd.DataFrame(tmp_check_unknown.groupby([\"Year\", \"is Unknown\"])[\"Anzahl\"].sum()).reset_index().pivot(index=\"Year\",columns=\"is Unknown\", values=\"Anzahl\")\n",
    "tmp_check_unknown.plot(kind=\"bar\", stacked=True)\n",
    "plt.xticks(rotation=0)\n",
    "plt.title(\"Distribution per year of dogs that have completely unknown breeds\", fontweight=\"bold\")\n",
    "plt.ylabel(\"Abs. num of dogs\")\n",
    "plt.grid(axis=\"y\")\n",
    "\n",
    "print(\"Total number (across all years) of dogs where the breed is completely unknown:\",\n",
    "      df_h3_dogs[(df_h3_dogs[\"Dog Breed\"] == \"Unbekannt\") | (df_h3_dogs[\"Dog Breed\"] == \"Unbekannt / Mischling\")][\"Anzahl\"].sum()\n",
    ")\n",
    "df_h3_dogs_known = df_h3_dogs[(df_h3_dogs[\"Dog Breed\"] != \"Unbekannt\") & (df_h3_dogs[\"Dog Breed\"] != \"Unbekannt / Mischling\")]\n",
    "print(\"Total number (across all years) of dogs where at least one breed is known:\",\n",
    "      df_h3_dogs_known[\"Anzahl\"].sum()\n",
    ")"
   ]
  },
  {
   "cell_type": "markdown",
   "id": "e28698ab",
   "metadata": {},
   "source": [
    "TODO: Add description"
   ]
  },
  {
   "cell_type": "code",
   "execution_count": null,
   "id": "e9c6ea46",
   "metadata": {},
   "outputs": [],
   "source": [
    "# Add mean height to all breeds in mapping df\n",
    "df_all_breeds_heights = df_all_breeds_heights[df_all_breeds_heights[\"Dog Breed\"] != \"Unbekannt\"] # leave 'Unbekannt' out of breed-height-mapping\n",
    "df_all_breeds_heights[\"Mean Height\"] = df_all_breeds_heights.mean(axis=1, numeric_only=True)\n",
    "df_all_breeds_heights.head()"
   ]
  },
  {
   "cell_type": "code",
   "execution_count": null,
   "id": "cdcc3c91",
   "metadata": {},
   "outputs": [],
   "source": [
    "# Boxplot + Histogram: Mean Height per dog breed\n",
    "fig, (ax_hist, ax_box) = plt.subplots(2, sharex=True, gridspec_kw={\"height_ratios\": (.60, .40)}, figsize=(12,6))\n",
    "sns.boxplot(df_all_breeds_heights, x=\"Mean Height\", width=.5, whis = 1.5, ax=ax_box)\n",
    "#sns.swarmplot(df_all_breeds_heights, x='Mean Height', size=2.65, legend=False, ax=ax_box)\n",
    "sns.histplot(df_all_breeds_heights, x=\"Mean Height\", kde=True, stat='density', ax=ax_hist)\n",
    "\n",
    "ax_box.set(yticks=[], xlabel=\"Mean Height [cm]\")\n",
    "sns.despine(ax=ax_hist)\n",
    "sns.despine(ax=ax_box, left=True)\n",
    "fig.suptitle(\"Mean Height per dog breed\", fontweight=\"bold\")"
   ]
  },
  {
   "cell_type": "markdown",
   "id": "0ef80c2c",
   "metadata": {},
   "source": [
    "Most dog breeds are medium sized (40 <= height < 60). Roughly 25% of breeds are usually of bigger size. \n",
    "\n",
    "Distribution does not resemble a normal distribution."
   ]
  },
  {
   "cell_type": "code",
   "execution_count": null,
   "id": "7bd7de7e",
   "metadata": {},
   "outputs": [],
   "source": [
    "# Merge dataset with mean heights\n",
    "df_h3_dogs_known = df_h3_dogs_known.merge(df_all_breeds_heights[[\"Dog Breed\", \"Mean Height\"]], on=\"Dog Breed\", how=\"left\")\n",
    "df_h3_dogs_known.head(5)"
   ]
  },
  {
   "cell_type": "code",
   "execution_count": null,
   "id": "b14bf18f",
   "metadata": {},
   "outputs": [],
   "source": [
    "# Mean Heights across als breads per district over time\n",
    "#df_h3_dogs_known[\"Sum Heights\"] = df_h3_dogs_known[\"Anzahl\"] * df_h3_dogs_known[\"Mean Height\"]\n",
    "#tmp_mean_heights_disctrict = df_h3_dogs_known.groupby([\"Year\", \"Postal_CODE\"])[\"Sum Heights\"].sum() / df_h3_dogs_known.groupby([\"Year\", \"Postal_CODE\"])[\"Anzahl\"].sum()\n",
    "#tmp_mean_heights_disctrict = pd.DataFrame({\"Mean Heights\": tmp_mean_heights_disctrict}).reset_index().pivot(index=\"Year\", columns=\"Postal_CODE\", values=\"Mean Heights\")\n",
    "#tmp_mean_heights_disctrict.plot(kind=\"line\", figsize=(15,6)) # TODO: plotly plot"
   ]
  },
  {
   "cell_type": "code",
   "execution_count": null,
   "id": "6fc2bdc2",
   "metadata": {},
   "outputs": [],
   "source": [
    "# Boxplot + Histogram: Height distribution across all breeds and districts [in 2024]\n",
    "df_h3_dogs_known_exploded = df_h3_dogs_known.loc[df_h3_dogs_known.index.repeat(df_h3_dogs_known[\"Anzahl\"])] # if Anzahl > 1, repeat entry 'Anzahl'-times\n",
    "\n",
    "fig, (ax_hist, ax_box) = plt.subplots(2, sharex=True, gridspec_kw={\"height_ratios\": (.85, .15)})\n",
    "sns.boxplot(df_h3_dogs_known_exploded[df_h3_dogs_known_exploded[\"Year\"] == 2024][[\"Mean Height\"]], x=\"Mean Height\", width=.5, whis = 1.5, ax=ax_box)\n",
    "sns.histplot(df_h3_dogs_known_exploded[df_h3_dogs_known_exploded[\"Year\"] == 2024][[\"Mean Height\"]], x=\"Mean Height\", kde=True, stat='density', ax=ax_hist)\n",
    "\n",
    "ax_box.set(yticks=[], xlabel=\"Height [cm]\")\n",
    "sns.despine(ax=ax_hist)\n",
    "sns.despine(ax=ax_box, left=True)\n",
    "fig.suptitle(\"Height distribution across all breeds and districts [in 2024]\", fontweight=\"bold\")"
   ]
  },
  {
   "cell_type": "code",
   "execution_count": null,
   "id": "9d36cb2d",
   "metadata": {},
   "outputs": [],
   "source": [
    "from scipy.stats import wilcoxon\n",
    "res = wilcoxon(list(df_h3_dogs_known_exploded[df_h3_dogs_known_exploded[\"Year\"] == 2024][\"Mean Height\"]-50), alternative=\"less\")\n",
    "print(res.statistic, res.pvalue)\n",
    "res = wilcoxon(list(df_h3_dogs_known_exploded[df_h3_dogs_known_exploded[\"Year\"] == 2024][\"Mean Height\"]-42), alternative=\"less\")\n",
    "print(res.statistic, res.pvalue)\n",
    "res = wilcoxon(list(df_h3_dogs_known_exploded[df_h3_dogs_known_exploded[\"Year\"] == 2024][\"Mean Height\"]-40), alternative=\"less\")\n",
    "print(res.statistic, res.pvalue)"
   ]
  },
  {
   "cell_type": "markdown",
   "id": "d8b2959a",
   "metadata": {},
   "source": [
    "Significant tendency to smaller dogs can be seen."
   ]
  },
  {
   "cell_type": "markdown",
   "id": "ede91b90-ee3d-40c0-b2c4-4712413fe0e6",
   "metadata": {
    "id": "ede91b90-ee3d-40c0-b2c4-4712413fe0e6",
    "tags": []
   },
   "source": [
    "### E3-H4: \"Dog ownership is inversely correlated with population density in Vienna districts.\"\n",
    "Rationale: In more densely populated areas, people might have less space for pets, leading to fewer dogs being owned. Additionally, less densly populated districst might have more green space, making it more favorable to dog ownership.\n",
    "\n",
    "Data Needed: Dog ownership (Data1/Data2), Population density dataset ([Link](https://www.data.gv.at/katalog/dataset/091a085f-2652-429f-8dde-c69199440ddf))\n",
    "\n",
    "Author: Anna Punzengruber"
   ]
  },
  {
   "cell_type": "markdown",
   "id": "0a5612ab",
   "metadata": {},
   "source": [
    "##### Obtain and Scrub Dataset of Population Density in Vienna Districts"
   ]
  },
  {
   "cell_type": "markdown",
   "id": "36c4456f",
   "metadata": {},
   "source": [
    "This dataset shows the population and population density in each district of Vienna from the year 2002 to 2023.\n",
    "* NUTS | NUTS2-Region (Bundesland) DISTRICT_CODE | Gemeindebezirkskennzahl (Schema: 9BBZZ, BB=Nummer Bezirk, ZZ=00)\n",
    "\n",
    "* SUB_DISTRICT_CODE | Zählbezirkskennzahl gemäß Stadt Wien (Schema: 9BBZZ, 9=Kennzeichnung Wien, BB=Nummer Bezirk, ZZ=Nummer Zählbezirk)\n",
    "\n",
    "* REF_YEAR | Referenzjahr\n",
    "\n",
    "* REF_DATE | Referenzdatum POP_VALUE | Bevölkerungszahl zu Jahresbeginn\n",
    "\n",
    "* AREA | Fläche in km²\n",
    "\n",
    "* POP_DENSITY | Bevölkerungsdichte (Bevölkerung zu Jahresbeginn pro km²)\n",
    "\n",
    "\n",
    "Source: https://www.data.gv.at/katalog/dataset/1a48e78a-c660-41e0-ac32-8b675c0ea39c#additional-info"
   ]
  },
  {
   "cell_type": "code",
   "execution_count": 238,
   "id": "049914bd",
   "metadata": {},
   "outputs": [
    {
     "name": "stdout",
     "output_type": "stream",
     "text": [
      "Dataframe shape:  (528, 8)\n"
     ]
    },
    {
     "data": {
      "text/html": [
       "<div>\n",
       "<style scoped>\n",
       "    .dataframe tbody tr th:only-of-type {\n",
       "        vertical-align: middle;\n",
       "    }\n",
       "\n",
       "    .dataframe tbody tr th {\n",
       "        vertical-align: top;\n",
       "    }\n",
       "\n",
       "    .dataframe thead th {\n",
       "        text-align: right;\n",
       "    }\n",
       "</style>\n",
       "<table border=\"1\" class=\"dataframe\">\n",
       "  <thead>\n",
       "    <tr style=\"text-align: right;\">\n",
       "      <th></th>\n",
       "      <th>NUTS</th>\n",
       "      <th>DISTRICT_CODE</th>\n",
       "      <th>SUB_DISTRICT_CODE</th>\n",
       "      <th>REF_YEAR</th>\n",
       "      <th>REF_DATE</th>\n",
       "      <th>POP_VALUE</th>\n",
       "      <th>AREA</th>\n",
       "      <th>POP_DENSITY</th>\n",
       "    </tr>\n",
       "  </thead>\n",
       "  <tbody>\n",
       "    <tr>\n",
       "      <th>0</th>\n",
       "      <td>AT13</td>\n",
       "      <td>90000</td>\n",
       "      <td>90000</td>\n",
       "      <td>2002</td>\n",
       "      <td>20020101</td>\n",
       "      <td>1.571.123</td>\n",
       "      <td>414,87</td>\n",
       "      <td>3787,02</td>\n",
       "    </tr>\n",
       "    <tr>\n",
       "      <th>1</th>\n",
       "      <td>AT13</td>\n",
       "      <td>90000</td>\n",
       "      <td>90000</td>\n",
       "      <td>2003</td>\n",
       "      <td>20030101</td>\n",
       "      <td>1.592.846</td>\n",
       "      <td>414,87</td>\n",
       "      <td>3839,38</td>\n",
       "    </tr>\n",
       "    <tr>\n",
       "      <th>2</th>\n",
       "      <td>AT13</td>\n",
       "      <td>90000</td>\n",
       "      <td>90000</td>\n",
       "      <td>2004</td>\n",
       "      <td>20040101</td>\n",
       "      <td>1.610.410</td>\n",
       "      <td>414,87</td>\n",
       "      <td>3881,71</td>\n",
       "    </tr>\n",
       "    <tr>\n",
       "      <th>3</th>\n",
       "      <td>AT13</td>\n",
       "      <td>90000</td>\n",
       "      <td>90000</td>\n",
       "      <td>2005</td>\n",
       "      <td>20050101</td>\n",
       "      <td>1.632.569</td>\n",
       "      <td>414,87</td>\n",
       "      <td>3935,12</td>\n",
       "    </tr>\n",
       "    <tr>\n",
       "      <th>4</th>\n",
       "      <td>AT13</td>\n",
       "      <td>90000</td>\n",
       "      <td>90000</td>\n",
       "      <td>2006</td>\n",
       "      <td>20060101</td>\n",
       "      <td>1.652.449</td>\n",
       "      <td>414,87</td>\n",
       "      <td>3983,04</td>\n",
       "    </tr>\n",
       "  </tbody>\n",
       "</table>\n",
       "</div>"
      ],
      "text/plain": [
       "   NUTS  DISTRICT_CODE  SUB_DISTRICT_CODE  REF_YEAR  REF_DATE  POP_VALUE  \\\n",
       "0  AT13          90000              90000      2002  20020101  1.571.123   \n",
       "1  AT13          90000              90000      2003  20030101  1.592.846   \n",
       "2  AT13          90000              90000      2004  20040101  1.610.410   \n",
       "3  AT13          90000              90000      2005  20050101  1.632.569   \n",
       "4  AT13          90000              90000      2006  20060101  1.652.449   \n",
       "\n",
       "     AREA POP_DENSITY  \n",
       "0  414,87     3787,02  \n",
       "1  414,87     3839,38  \n",
       "2  414,87     3881,71  \n",
       "3  414,87     3935,12  \n",
       "4  414,87     3983,04  "
      ]
     },
     "execution_count": 238,
     "metadata": {},
     "output_type": "execute_result"
    }
   ],
   "source": [
    "#Load dataset\n",
    "#Only use columns with data with usecols (there are a lot of empty columns in the dataset)\n",
    "bev_dichte = pd.read_csv('vie-bez-biz-pop-den-2002f.csv', sep=';', skiprows=1, usecols=[0,1,2,3,4,5,6,7])\n",
    "print(\"Dataframe shape: \", bev_dichte.shape)\n",
    "bev_dichte.head(5)"
   ]
  },
  {
   "cell_type": "code",
   "execution_count": 239,
   "id": "710a7064-05e8-4d52-9c1b-a6dcd143a4ae",
   "metadata": {
    "id": "710a7064-05e8-4d52-9c1b-a6dcd143a4ae"
   },
   "outputs": [
    {
     "name": "stdout",
     "output_type": "stream",
     "text": [
      "Number of unique values in column NUTS: 1\n",
      "Columns DISTRICT_CODE and SUB_DISTRICT_CODE are the same: True\n"
     ]
    }
   ],
   "source": [
    "#Some columns are redundant\n",
    "# NUTS - is the same for every row\n",
    "print(\"Number of unique values in column NUTS:\",bev_dichte['NUTS'].nunique()) \n",
    "# SUB_DISTRICT_CODE - same as district code\n",
    "print(\"Columns DISTRICT_CODE and SUB_DISTRICT_CODE are the same:\",bev_dichte['DISTRICT_CODE'].equals(bev_dichte['SUB_DISTRICT_CODE']))"
   ]
  },
  {
   "cell_type": "code",
   "execution_count": 240,
   "id": "f341d228",
   "metadata": {},
   "outputs": [
    {
     "data": {
      "text/html": [
       "<div>\n",
       "<style scoped>\n",
       "    .dataframe tbody tr th:only-of-type {\n",
       "        vertical-align: middle;\n",
       "    }\n",
       "\n",
       "    .dataframe tbody tr th {\n",
       "        vertical-align: top;\n",
       "    }\n",
       "\n",
       "    .dataframe thead th {\n",
       "        text-align: right;\n",
       "    }\n",
       "</style>\n",
       "<table border=\"1\" class=\"dataframe\">\n",
       "  <thead>\n",
       "    <tr style=\"text-align: right;\">\n",
       "      <th></th>\n",
       "      <th>DISTRICT_CODE</th>\n",
       "      <th>REF_YEAR</th>\n",
       "      <th>REF_DATE</th>\n",
       "      <th>POP_VALUE</th>\n",
       "      <th>AREA</th>\n",
       "      <th>POP_DENSITY</th>\n",
       "    </tr>\n",
       "  </thead>\n",
       "  <tbody>\n",
       "    <tr>\n",
       "      <th>0</th>\n",
       "      <td>90000</td>\n",
       "      <td>2002</td>\n",
       "      <td>20020101</td>\n",
       "      <td>1.571.123</td>\n",
       "      <td>414,87</td>\n",
       "      <td>3787,02</td>\n",
       "    </tr>\n",
       "    <tr>\n",
       "      <th>1</th>\n",
       "      <td>90000</td>\n",
       "      <td>2003</td>\n",
       "      <td>20030101</td>\n",
       "      <td>1.592.846</td>\n",
       "      <td>414,87</td>\n",
       "      <td>3839,38</td>\n",
       "    </tr>\n",
       "    <tr>\n",
       "      <th>2</th>\n",
       "      <td>90000</td>\n",
       "      <td>2004</td>\n",
       "      <td>20040101</td>\n",
       "      <td>1.610.410</td>\n",
       "      <td>414,87</td>\n",
       "      <td>3881,71</td>\n",
       "    </tr>\n",
       "    <tr>\n",
       "      <th>3</th>\n",
       "      <td>90000</td>\n",
       "      <td>2005</td>\n",
       "      <td>20050101</td>\n",
       "      <td>1.632.569</td>\n",
       "      <td>414,87</td>\n",
       "      <td>3935,12</td>\n",
       "    </tr>\n",
       "    <tr>\n",
       "      <th>4</th>\n",
       "      <td>90000</td>\n",
       "      <td>2006</td>\n",
       "      <td>20060101</td>\n",
       "      <td>1.652.449</td>\n",
       "      <td>414,87</td>\n",
       "      <td>3983,04</td>\n",
       "    </tr>\n",
       "  </tbody>\n",
       "</table>\n",
       "</div>"
      ],
      "text/plain": [
       "   DISTRICT_CODE  REF_YEAR  REF_DATE  POP_VALUE    AREA POP_DENSITY\n",
       "0          90000      2002  20020101  1.571.123  414,87     3787,02\n",
       "1          90000      2003  20030101  1.592.846  414,87     3839,38\n",
       "2          90000      2004  20040101  1.610.410  414,87     3881,71\n",
       "3          90000      2005  20050101  1.632.569  414,87     3935,12\n",
       "4          90000      2006  20060101  1.652.449  414,87     3983,04"
      ]
     },
     "execution_count": 240,
     "metadata": {},
     "output_type": "execute_result"
    }
   ],
   "source": [
    "#Drop unnecessary columns:\n",
    "bev_dichte.drop(['NUTS','SUB_DISTRICT_CODE'], axis=1, inplace=True)\n",
    "bev_dichte.head()"
   ]
  },
  {
   "cell_type": "code",
   "execution_count": 241,
   "id": "29d0b245",
   "metadata": {},
   "outputs": [
    {
     "data": {
      "text/html": [
       "<div>\n",
       "<style scoped>\n",
       "    .dataframe tbody tr th:only-of-type {\n",
       "        vertical-align: middle;\n",
       "    }\n",
       "\n",
       "    .dataframe tbody tr th {\n",
       "        vertical-align: top;\n",
       "    }\n",
       "\n",
       "    .dataframe thead th {\n",
       "        text-align: right;\n",
       "    }\n",
       "</style>\n",
       "<table border=\"1\" class=\"dataframe\">\n",
       "  <thead>\n",
       "    <tr style=\"text-align: right;\">\n",
       "      <th></th>\n",
       "      <th>DISTRICT_CODE</th>\n",
       "      <th>REF_YEAR</th>\n",
       "      <th>REF_DATE</th>\n",
       "      <th>POP_VALUE</th>\n",
       "      <th>AREA</th>\n",
       "      <th>POP_DENSITY</th>\n",
       "    </tr>\n",
       "  </thead>\n",
       "  <tbody>\n",
       "    <tr>\n",
       "      <th>0</th>\n",
       "      <td>int64</td>\n",
       "      <td>int64</td>\n",
       "      <td>int64</td>\n",
       "      <td>object</td>\n",
       "      <td>object</td>\n",
       "      <td>object</td>\n",
       "    </tr>\n",
       "  </tbody>\n",
       "</table>\n",
       "</div>"
      ],
      "text/plain": [
       "  DISTRICT_CODE REF_YEAR REF_DATE POP_VALUE    AREA POP_DENSITY\n",
       "0         int64    int64    int64    object  object      object"
      ]
     },
     "execution_count": 241,
     "metadata": {},
     "output_type": "execute_result"
    }
   ],
   "source": [
    "#Datatypes of some of the columns aren't correct yet\n",
    "bev_dichte.dtypes.to_frame().T"
   ]
  },
  {
   "cell_type": "code",
   "execution_count": 242,
   "id": "edd07ef9",
   "metadata": {},
   "outputs": [
    {
     "data": {
      "text/html": [
       "<div>\n",
       "<style scoped>\n",
       "    .dataframe tbody tr th:only-of-type {\n",
       "        vertical-align: middle;\n",
       "    }\n",
       "\n",
       "    .dataframe tbody tr th {\n",
       "        vertical-align: top;\n",
       "    }\n",
       "\n",
       "    .dataframe thead th {\n",
       "        text-align: right;\n",
       "    }\n",
       "</style>\n",
       "<table border=\"1\" class=\"dataframe\">\n",
       "  <thead>\n",
       "    <tr style=\"text-align: right;\">\n",
       "      <th></th>\n",
       "      <th>DISTRICT_CODE</th>\n",
       "      <th>REF_YEAR</th>\n",
       "      <th>REF_DATE</th>\n",
       "      <th>POP_VALUE</th>\n",
       "      <th>AREA</th>\n",
       "      <th>POP_DENSITY</th>\n",
       "    </tr>\n",
       "  </thead>\n",
       "  <tbody>\n",
       "    <tr>\n",
       "      <th>0</th>\n",
       "      <td>int64</td>\n",
       "      <td>int64</td>\n",
       "      <td>datetime64[ns]</td>\n",
       "      <td>int32</td>\n",
       "      <td>float64</td>\n",
       "      <td>float64</td>\n",
       "    </tr>\n",
       "  </tbody>\n",
       "</table>\n",
       "</div>"
      ],
      "text/plain": [
       "  DISTRICT_CODE REF_YEAR        REF_DATE POP_VALUE     AREA POP_DENSITY\n",
       "0         int64    int64  datetime64[ns]     int32  float64     float64"
      ]
     },
     "execution_count": 242,
     "metadata": {},
     "output_type": "execute_result"
    }
   ],
   "source": [
    "#Change columns to correct datatypes\n",
    "#POP_VALUE to int\n",
    "bev_dichte['POP_VALUE'] = bev_dichte['POP_VALUE'].str.replace('.', '').astype(int)\n",
    "#AREA and POP_DENSITY to float\n",
    "bev_dichte['AREA'] = bev_dichte['AREA'].str.replace(',', '.').astype(float)\n",
    "bev_dichte['POP_DENSITY'] = bev_dichte['POP_DENSITY'].str.replace(',', '.').astype(float)\n",
    "#REF_DATE to date\n",
    "bev_dichte['REF_DATE'] = pd.to_datetime(bev_dichte['REF_DATE'].astype(str), format='%Y%m%d')\n",
    "\n",
    "bev_dichte.dtypes.to_frame().T"
   ]
  },
  {
   "cell_type": "code",
   "execution_count": 243,
   "id": "2973515d",
   "metadata": {},
   "outputs": [
    {
     "name": "stdout",
     "output_type": "stream",
     "text": [
      "(528, 6)\n",
      "DISTRICT_CODE    0.0\n",
      "REF_YEAR         0.0\n",
      "REF_DATE         0.0\n",
      "POP_VALUE        0.0\n",
      "AREA             0.0\n",
      "POP_DENSITY      0.0\n",
      "dtype: float64\n"
     ]
    }
   ],
   "source": [
    "#Check for missing data\n",
    "print(bev_dichte.shape)\n",
    "print(((bev_dichte.isnull().sum() / len(bev_dichte)) * 100).sort_values(ascending=False))"
   ]
  },
  {
   "cell_type": "code",
   "execution_count": 244,
   "id": "4efacdec",
   "metadata": {},
   "outputs": [
    {
     "data": {
      "image/png": "[encoded data removed]",
      "text/plain": [
       "<Figure size 640x480 with 2 Axes>"
      ]
     },
     "metadata": {},
     "output_type": "display_data"
    }
   ],
   "source": [
    "#Heatmap to show all data is there\n",
    "colours = ['blue','red'] \n",
    "ax = sns.heatmap(data=bev_dichte.isnull(),cmap=sns.color_palette(colours), vmin=0, vmax=1)\n",
    "colorbar = ax.collections[0].colorbar\n",
    "\n",
    "colorbar.set_ticks([0.25,0.75])\n",
    "colorbar.set_ticklabels(['Data', 'Null'])"
   ]
  },
  {
   "cell_type": "code",
   "execution_count": 245,
   "id": "b7067b84",
   "metadata": {},
   "outputs": [
    {
     "name": "stdout",
     "output_type": "stream",
     "text": [
      "[90000 90100 90200 90300 90400 90500 90600 90700 90800 90900 91000 91100\n",
      " 91200 91300 91400 91500 91600 91700 91800 91900 92000 92100 92200 92300]\n"
     ]
    },
    {
     "data": {
      "text/plain": [
       "REF_YEAR\n",
       "2002    24\n",
       "2003    24\n",
       "2004    24\n",
       "2005    24\n",
       "2006    24\n",
       "2007    24\n",
       "2008    24\n",
       "2009    24\n",
       "2010    24\n",
       "2011    24\n",
       "2012    24\n",
       "2013    24\n",
       "2014    24\n",
       "2015    24\n",
       "2016    24\n",
       "2017    24\n",
       "2018    24\n",
       "2019    24\n",
       "2020    24\n",
       "2021    24\n",
       "2022    24\n",
       "2023    24\n",
       "dtype: int64"
      ]
     },
     "execution_count": 245,
     "metadata": {},
     "output_type": "execute_result"
    }
   ],
   "source": [
    "#Check if all districts are represented\n",
    "print(bev_dichte['DISTRICT_CODE'].unique())\n",
    "#Check if all years have 24 rows (so 1 value for each district + 1 row for whole of Vienna)\n",
    "bev_dichte.groupby(by=['REF_YEAR']).size()"
   ]
  },
  {
   "cell_type": "code",
   "execution_count": 246,
   "id": "fa1d59bc",
   "metadata": {},
   "outputs": [
    {
     "data": {
      "text/plain": [
       "False"
      ]
     },
     "execution_count": 246,
     "metadata": {},
     "output_type": "execute_result"
    }
   ],
   "source": [
    "#Check for duplicates (no duplicate rows with same year and same district code)\n",
    "bev_dichte.duplicated(subset=['DISTRICT_CODE', 'REF_YEAR']).any()"
   ]
  },
  {
   "cell_type": "markdown",
   "id": "a7a28636",
   "metadata": {},
   "source": [
    "#### Analyse the Data\n",
    "\n",
    "Now that we have the population density data for each district we can merge it with the dog data and compare it"
   ]
  },
  {
   "cell_type": "code",
   "execution_count": 247,
   "id": "dd703fde",
   "metadata": {},
   "outputs": [
    {
     "data": {
      "text/html": [
       "<div>\n",
       "<style scoped>\n",
       "    .dataframe tbody tr th:only-of-type {\n",
       "        vertical-align: middle;\n",
       "    }\n",
       "\n",
       "    .dataframe tbody tr th {\n",
       "        vertical-align: top;\n",
       "    }\n",
       "\n",
       "    .dataframe thead th {\n",
       "        text-align: right;\n",
       "    }\n",
       "</style>\n",
       "<table border=\"1\" class=\"dataframe\">\n",
       "  <thead>\n",
       "    <tr style=\"text-align: right;\">\n",
       "      <th></th>\n",
       "      <th>NUTS</th>\n",
       "      <th>DISTRICT_CODE</th>\n",
       "      <th>REF_YEAR</th>\n",
       "      <th>REF_DATE_dogs</th>\n",
       "      <th>DOG_VALUE</th>\n",
       "      <th>DOG_DENSITY</th>\n",
       "      <th>Postal_CODE</th>\n",
       "      <th>REF_DATE_population</th>\n",
       "      <th>POP_VALUE</th>\n",
       "      <th>AREA</th>\n",
       "      <th>POP_DENSITY</th>\n",
       "    </tr>\n",
       "  </thead>\n",
       "  <tbody>\n",
       "    <tr>\n",
       "      <th>0</th>\n",
       "      <td>AT13</td>\n",
       "      <td>90000</td>\n",
       "      <td>2002</td>\n",
       "      <td>2002-01-01</td>\n",
       "      <td>46933</td>\n",
       "      <td>29.87</td>\n",
       "      <td>1000</td>\n",
       "      <td>2002-01-01</td>\n",
       "      <td>1571123</td>\n",
       "      <td>414.87</td>\n",
       "      <td>3787.02</td>\n",
       "    </tr>\n",
       "    <tr>\n",
       "      <th>1</th>\n",
       "      <td>AT13</td>\n",
       "      <td>90100</td>\n",
       "      <td>2002</td>\n",
       "      <td>2002-01-01</td>\n",
       "      <td>542</td>\n",
       "      <td>30.74</td>\n",
       "      <td>1010</td>\n",
       "      <td>2002-01-01</td>\n",
       "      <td>17630</td>\n",
       "      <td>2.87</td>\n",
       "      <td>6145.48</td>\n",
       "    </tr>\n",
       "    <tr>\n",
       "      <th>2</th>\n",
       "      <td>AT13</td>\n",
       "      <td>90200</td>\n",
       "      <td>2002</td>\n",
       "      <td>2002-01-01</td>\n",
       "      <td>2251</td>\n",
       "      <td>25.29</td>\n",
       "      <td>1020</td>\n",
       "      <td>2002-01-01</td>\n",
       "      <td>89016</td>\n",
       "      <td>19.24</td>\n",
       "      <td>4626.13</td>\n",
       "    </tr>\n",
       "    <tr>\n",
       "      <th>3</th>\n",
       "      <td>AT13</td>\n",
       "      <td>90300</td>\n",
       "      <td>2002</td>\n",
       "      <td>2002-01-01</td>\n",
       "      <td>1904</td>\n",
       "      <td>23.16</td>\n",
       "      <td>1030</td>\n",
       "      <td>2002-01-01</td>\n",
       "      <td>82227</td>\n",
       "      <td>7.40</td>\n",
       "      <td>11115.15</td>\n",
       "    </tr>\n",
       "    <tr>\n",
       "      <th>4</th>\n",
       "      <td>AT13</td>\n",
       "      <td>90400</td>\n",
       "      <td>2002</td>\n",
       "      <td>2002-01-01</td>\n",
       "      <td>615</td>\n",
       "      <td>21.23</td>\n",
       "      <td>1040</td>\n",
       "      <td>2002-01-01</td>\n",
       "      <td>28975</td>\n",
       "      <td>1.78</td>\n",
       "      <td>16322.03</td>\n",
       "    </tr>\n",
       "    <tr>\n",
       "      <th>5</th>\n",
       "      <td>AT13</td>\n",
       "      <td>90500</td>\n",
       "      <td>2002</td>\n",
       "      <td>2002-01-01</td>\n",
       "      <td>862</td>\n",
       "      <td>17.31</td>\n",
       "      <td>1050</td>\n",
       "      <td>2002-01-01</td>\n",
       "      <td>49785</td>\n",
       "      <td>2.01</td>\n",
       "      <td>24748.48</td>\n",
       "    </tr>\n",
       "    <tr>\n",
       "      <th>6</th>\n",
       "      <td>AT13</td>\n",
       "      <td>90600</td>\n",
       "      <td>2002</td>\n",
       "      <td>2002-01-01</td>\n",
       "      <td>604</td>\n",
       "      <td>21.17</td>\n",
       "      <td>1060</td>\n",
       "      <td>2002-01-01</td>\n",
       "      <td>28525</td>\n",
       "      <td>1.46</td>\n",
       "      <td>19604.22</td>\n",
       "    </tr>\n",
       "    <tr>\n",
       "      <th>7</th>\n",
       "      <td>AT13</td>\n",
       "      <td>90700</td>\n",
       "      <td>2002</td>\n",
       "      <td>2002-01-01</td>\n",
       "      <td>532</td>\n",
       "      <td>18.40</td>\n",
       "      <td>1070</td>\n",
       "      <td>2002-01-01</td>\n",
       "      <td>28912</td>\n",
       "      <td>1.61</td>\n",
       "      <td>17977.33</td>\n",
       "    </tr>\n",
       "    <tr>\n",
       "      <th>8</th>\n",
       "      <td>AT13</td>\n",
       "      <td>90800</td>\n",
       "      <td>2002</td>\n",
       "      <td>2002-01-01</td>\n",
       "      <td>474</td>\n",
       "      <td>21.33</td>\n",
       "      <td>1080</td>\n",
       "      <td>2002-01-01</td>\n",
       "      <td>22219</td>\n",
       "      <td>1.09</td>\n",
       "      <td>20385.42</td>\n",
       "    </tr>\n",
       "    <tr>\n",
       "      <th>9</th>\n",
       "      <td>AT13</td>\n",
       "      <td>90900</td>\n",
       "      <td>2002</td>\n",
       "      <td>2002-01-01</td>\n",
       "      <td>865</td>\n",
       "      <td>22.59</td>\n",
       "      <td>1090</td>\n",
       "      <td>2002-01-01</td>\n",
       "      <td>38290</td>\n",
       "      <td>2.97</td>\n",
       "      <td>12903.62</td>\n",
       "    </tr>\n",
       "  </tbody>\n",
       "</table>\n",
       "</div>"
      ],
      "text/plain": [
       "   NUTS  DISTRICT_CODE  REF_YEAR REF_DATE_dogs  DOG_VALUE  DOG_DENSITY  \\\n",
       "0  AT13          90000      2002    2002-01-01      46933        29.87   \n",
       "1  AT13          90100      2002    2002-01-01        542        30.74   \n",
       "2  AT13          90200      2002    2002-01-01       2251        25.29   \n",
       "3  AT13          90300      2002    2002-01-01       1904        23.16   \n",
       "4  AT13          90400      2002    2002-01-01        615        21.23   \n",
       "5  AT13          90500      2002    2002-01-01        862        17.31   \n",
       "6  AT13          90600      2002    2002-01-01        604        21.17   \n",
       "7  AT13          90700      2002    2002-01-01        532        18.40   \n",
       "8  AT13          90800      2002    2002-01-01        474        21.33   \n",
       "9  AT13          90900      2002    2002-01-01        865        22.59   \n",
       "\n",
       "  Postal_CODE REF_DATE_population  POP_VALUE    AREA  POP_DENSITY  \n",
       "0        1000          2002-01-01    1571123  414.87      3787.02  \n",
       "1        1010          2002-01-01      17630    2.87      6145.48  \n",
       "2        1020          2002-01-01      89016   19.24      4626.13  \n",
       "3        1030          2002-01-01      82227    7.40     11115.15  \n",
       "4        1040          2002-01-01      28975    1.78     16322.03  \n",
       "5        1050          2002-01-01      49785    2.01     24748.48  \n",
       "6        1060          2002-01-01      28525    1.46     19604.22  \n",
       "7        1070          2002-01-01      28912    1.61     17977.33  \n",
       "8        1080          2002-01-01      22219    1.09     20385.42  \n",
       "9        1090          2002-01-01      38290    2.97     12903.62  "
      ]
     },
     "execution_count": 247,
     "metadata": {},
     "output_type": "execute_result"
    }
   ],
   "source": [
    "#Merge population values and dog data, so we can analyse it\n",
    "df_h4_dogs_pop = dogs_2002.merge(bev_dichte, how='inner', left_on=['DISTRICT_CODE','REF_YEAR'], right_on=['DISTRICT_CODE','REF_YEAR'], suffixes=('_dogs', '_population'))\n",
    "df_h4_dogs_pop.head(10)"
   ]
  },
  {
   "cell_type": "code",
   "execution_count": 248,
   "id": "9ea0e3f9",
   "metadata": {},
   "outputs": [
    {
     "name": "stdout",
     "output_type": "stream",
     "text": [
      "[90000 90100 90200 90300 90400 90500 90600 90700 90800 90900 91000 91100\n",
      " 91200 91300 91400 91500 91600 91700 91800 91900 92000 92100 92200 92300]\n",
      "REF_YEAR\n",
      "2002    24\n",
      "2003    24\n",
      "2004    24\n",
      "2005    24\n",
      "2006    24\n",
      "2007    24\n",
      "2008    24\n",
      "2009    24\n",
      "2010    24\n",
      "2011    24\n",
      "2012    24\n",
      "2013    24\n",
      "2014    24\n",
      "2015    24\n",
      "2016    24\n",
      "2017    24\n",
      "2018    24\n",
      "2019    24\n",
      "2020    24\n",
      "2021    24\n",
      "2022    24\n",
      "2023    24\n",
      "dtype: int64\n"
     ]
    }
   ],
   "source": [
    "#Check if all districts are still there\n",
    "print(df_h4_dogs_pop['DISTRICT_CODE'].unique())\n",
    "#Check if all years have 24 rows (so 1 value for each district + 1 row for whole of Vienna)\n",
    "print(df_h4_dogs_pop.groupby(by=['REF_YEAR']).size())"
   ]
  },
  {
   "cell_type": "code",
   "execution_count": 249,
   "id": "a6b0c37e",
   "metadata": {},
   "outputs": [
    {
     "name": "stdout",
     "output_type": "stream",
     "text": [
      "NUTS                   0.0\n",
      "DISTRICT_CODE          0.0\n",
      "REF_YEAR               0.0\n",
      "REF_DATE_dogs          0.0\n",
      "DOG_VALUE              0.0\n",
      "DOG_DENSITY            0.0\n",
      "Postal_CODE            0.0\n",
      "REF_DATE_population    0.0\n",
      "POP_VALUE              0.0\n",
      "AREA                   0.0\n",
      "POP_DENSITY            0.0\n",
      "dtype: float64\n"
     ]
    }
   ],
   "source": [
    "#Check for missing values in merged dataframe\n",
    "print(((df_h4_dogs_pop.isnull().sum() / len(df_h4_dogs_pop)) * 100).sort_values(ascending=False))"
   ]
  },
  {
   "cell_type": "markdown",
   "id": "4b5e3bc2",
   "metadata": {},
   "source": [
    "Now that the data is merged we can analyse it"
   ]
  },
  {
   "cell_type": "code",
   "execution_count": 250,
   "id": "ee5a8218",
   "metadata": {},
   "outputs": [
    {
     "data": {
      "application/vnd.plotly.v1+json": {
       "config": {
        "plotlyServerURL": "https://plot.ly"
       },
       "data": [
        {
         "hovertemplate": "Postal Code=1010<br>Year=%{x}<br>Number of Dogs=%{y}<extra></extra>",
         "legendgroup": "1010",
         "line": {
          "color": "#636efa",
          "dash": "solid"
         },
         "marker": {
          "symbol": "circle"
         },
         "mode": "lines+markers",
         "name": "1010",
         "orientation": "v",
         "showlegend": true,
         "type": "scatter",
         "x": [
          2002,
          2003,
          2004,
          2005,
          2006,
          2007,
          2008,
          2009,
          2010,
          2011,
          2012,
          2013,
          2014,
          2015,
          2016,
          2017,
          2018,
          2019,
          2020,
          2021,
          2022,
          2023
         ],
         "xaxis": "x",
         "y": [
          542,
          537,
          515,
          516,
          517,
          522,
          511,
          513,
          502,
          518,
          524,
          497,
          482,
          467,
          454,
          474,
          463,
          474,
          483,
          488,
          479,
          497
         ],
         "yaxis": "y"
        },
        {
         "hovertemplate": "Postal Code=1020<br>Year=%{x}<br>Number of Dogs=%{y}<extra></extra>",
         "legendgroup": "1020",
         "line": {
          "color": "#EF553B",
          "dash": "solid"
         },
         "marker": {
          "symbol": "circle"
         },
         "mode": "lines+markers",
         "name": "1020",
         "orientation": "v",
         "showlegend": true,
         "type": "scatter",
         "x": [
          2002,
          2003,
          2004,
          2005,
          2006,
          2007,
          2008,
          2009,
          2010,
          2011,
          2012,
          2013,
          2014,
          2015,
          2016,
          2017,
          2018,
          2019,
          2020,
          2021,
          2022,
          2023
         ],
         "xaxis": "x",
         "y": [
          2251,
          2301,
          2332,
          2360,
          2368,
          2354,
          2320,
          2328,
          2377,
          2537,
          2603,
          2559,
          2535,
          2511,
          2538,
          2507,
          2472,
          2490,
          2510,
          2596,
          2573,
          2659
         ],
         "yaxis": "y"
        },
        {
         "hovertemplate": "Postal Code=1030<br>Year=%{x}<br>Number of Dogs=%{y}<extra></extra>",
         "legendgroup": "1030",
         "line": {
          "color": "#00cc96",
          "dash": "solid"
         },
         "marker": {
          "symbol": "circle"
         },
         "mode": "lines+markers",
         "name": "1030",
         "orientation": "v",
         "showlegend": true,
         "type": "scatter",
         "x": [
          2002,
          2003,
          2004,
          2005,
          2006,
          2007,
          2008,
          2009,
          2010,
          2011,
          2012,
          2013,
          2014,
          2015,
          2016,
          2017,
          2018,
          2019,
          2020,
          2021,
          2022,
          2023
         ],
         "xaxis": "x",
         "y": [
          1904,
          1923,
          1933,
          1932,
          1935,
          1925,
          1950,
          1981,
          2007,
          2087,
          2131,
          2106,
          2097,
          2088,
          2081,
          2114,
          2093,
          2156,
          2174,
          2281,
          2335,
          2463
         ],
         "yaxis": "y"
        },
        {
         "hovertemplate": "Postal Code=1040<br>Year=%{x}<br>Number of Dogs=%{y}<extra></extra>",
         "legendgroup": "1040",
         "line": {
          "color": "#ab63fa",
          "dash": "solid"
         },
         "marker": {
          "symbol": "circle"
         },
         "mode": "lines+markers",
         "name": "1040",
         "orientation": "v",
         "showlegend": true,
         "type": "scatter",
         "x": [
          2002,
          2003,
          2004,
          2005,
          2006,
          2007,
          2008,
          2009,
          2010,
          2011,
          2012,
          2013,
          2014,
          2015,
          2016,
          2017,
          2018,
          2019,
          2020,
          2021,
          2022,
          2023
         ],
         "xaxis": "x",
         "y": [
          615,
          597,
          586,
          614,
          625,
          623,
          604,
          610,
          628,
          656,
          658,
          643,
          630,
          617,
          618,
          618,
          644,
          658,
          654,
          690,
          689,
          711
         ],
         "yaxis": "y"
        },
        {
         "hovertemplate": "Postal Code=1050<br>Year=%{x}<br>Number of Dogs=%{y}<extra></extra>",
         "legendgroup": "1050",
         "line": {
          "color": "#FFA15A",
          "dash": "solid"
         },
         "marker": {
          "symbol": "circle"
         },
         "mode": "lines+markers",
         "name": "1050",
         "orientation": "v",
         "showlegend": true,
         "type": "scatter",
         "x": [
          2002,
          2003,
          2004,
          2005,
          2006,
          2007,
          2008,
          2009,
          2010,
          2011,
          2012,
          2013,
          2014,
          2015,
          2016,
          2017,
          2018,
          2019,
          2020,
          2021,
          2022,
          2023
         ],
         "xaxis": "x",
         "y": [
          862,
          881,
          882,
          939,
          940,
          973,
          986,
          969,
          999,
          1039,
          1052,
          1026,
          1024,
          1022,
          979,
          969,
          946,
          952,
          931,
          935,
          939,
          948
         ],
         "yaxis": "y"
        },
        {
         "hovertemplate": "Postal Code=1060<br>Year=%{x}<br>Number of Dogs=%{y}<extra></extra>",
         "legendgroup": "1060",
         "line": {
          "color": "#19d3f3",
          "dash": "solid"
         },
         "marker": {
          "symbol": "circle"
         },
         "mode": "lines+markers",
         "name": "1060",
         "orientation": "v",
         "showlegend": true,
         "type": "scatter",
         "x": [
          2002,
          2003,
          2004,
          2005,
          2006,
          2007,
          2008,
          2009,
          2010,
          2011,
          2012,
          2013,
          2014,
          2015,
          2016,
          2017,
          2018,
          2019,
          2020,
          2021,
          2022,
          2023
         ],
         "xaxis": "x",
         "y": [
          604,
          592,
          587,
          614,
          602,
          607,
          611,
          604,
          601,
          612,
          638,
          662,
          652,
          643,
          658,
          646,
          615,
          649,
          639,
          602,
          601,
          619
         ],
         "yaxis": "y"
        },
        {
         "hovertemplate": "Postal Code=1070<br>Year=%{x}<br>Number of Dogs=%{y}<extra></extra>",
         "legendgroup": "1070",
         "line": {
          "color": "#FF6692",
          "dash": "solid"
         },
         "marker": {
          "symbol": "circle"
         },
         "mode": "lines+markers",
         "name": "1070",
         "orientation": "v",
         "showlegend": true,
         "type": "scatter",
         "x": [
          2002,
          2003,
          2004,
          2005,
          2006,
          2007,
          2008,
          2009,
          2010,
          2011,
          2012,
          2013,
          2014,
          2015,
          2016,
          2017,
          2018,
          2019,
          2020,
          2021,
          2022,
          2023
         ],
         "xaxis": "x",
         "y": [
          532,
          545,
          577,
          553,
          558,
          562,
          558,
          535,
          555,
          593,
          581,
          580,
          589,
          599,
          612,
          610,
          577,
          578,
          580,
          610,
          606,
          641
         ],
         "yaxis": "y"
        },
        {
         "hovertemplate": "Postal Code=1080<br>Year=%{x}<br>Number of Dogs=%{y}<extra></extra>",
         "legendgroup": "1080",
         "line": {
          "color": "#B6E880",
          "dash": "solid"
         },
         "marker": {
          "symbol": "circle"
         },
         "mode": "lines+markers",
         "name": "1080",
         "orientation": "v",
         "showlegend": true,
         "type": "scatter",
         "x": [
          2002,
          2003,
          2004,
          2005,
          2006,
          2007,
          2008,
          2009,
          2010,
          2011,
          2012,
          2013,
          2014,
          2015,
          2016,
          2017,
          2018,
          2019,
          2020,
          2021,
          2022,
          2023
         ],
         "xaxis": "x",
         "y": [
          474,
          473,
          497,
          488,
          469,
          465,
          454,
          463,
          471,
          506,
          496,
          454,
          446,
          438,
          453,
          459,
          453,
          484,
          481,
          487,
          504,
          512
         ],
         "yaxis": "y"
        },
        {
         "hovertemplate": "Postal Code=1090<br>Year=%{x}<br>Number of Dogs=%{y}<extra></extra>",
         "legendgroup": "1090",
         "line": {
          "color": "#FF97FF",
          "dash": "solid"
         },
         "marker": {
          "symbol": "circle"
         },
         "mode": "lines+markers",
         "name": "1090",
         "orientation": "v",
         "showlegend": true,
         "type": "scatter",
         "x": [
          2002,
          2003,
          2004,
          2005,
          2006,
          2007,
          2008,
          2009,
          2010,
          2011,
          2012,
          2013,
          2014,
          2015,
          2016,
          2017,
          2018,
          2019,
          2020,
          2021,
          2022,
          2023
         ],
         "xaxis": "x",
         "y": [
          865,
          841,
          854,
          842,
          852,
          815,
          817,
          824,
          839,
          870,
          891,
          869,
          861,
          854,
          850,
          854,
          813,
          873,
          891,
          927,
          945,
          974
         ],
         "yaxis": "y"
        },
        {
         "hovertemplate": "Postal Code=1100<br>Year=%{x}<br>Number of Dogs=%{y}<extra></extra>",
         "legendgroup": "1100",
         "line": {
          "color": "#FECB52",
          "dash": "solid"
         },
         "marker": {
          "symbol": "circle"
         },
         "mode": "lines+markers",
         "name": "1100",
         "orientation": "v",
         "showlegend": true,
         "type": "scatter",
         "x": [
          2002,
          2003,
          2004,
          2005,
          2006,
          2007,
          2008,
          2009,
          2010,
          2011,
          2012,
          2013,
          2014,
          2015,
          2016,
          2017,
          2018,
          2019,
          2020,
          2021,
          2022,
          2023
         ],
         "xaxis": "x",
         "y": [
          4142,
          4247,
          4365,
          4630,
          4731,
          4975,
          4978,
          5128,
          5222,
          5527,
          5668,
          5613,
          5514,
          5417,
          5340,
          5268,
          5166,
          5138,
          5118,
          5128,
          5035,
          5162
         ],
         "yaxis": "y"
        },
        {
         "hovertemplate": "Postal Code=1110<br>Year=%{x}<br>Number of Dogs=%{y}<extra></extra>",
         "legendgroup": "1110",
         "line": {
          "color": "#636efa",
          "dash": "solid"
         },
         "marker": {
          "symbol": "circle"
         },
         "mode": "lines+markers",
         "name": "1110",
         "orientation": "v",
         "showlegend": true,
         "type": "scatter",
         "x": [
          2002,
          2003,
          2004,
          2005,
          2006,
          2007,
          2008,
          2009,
          2010,
          2011,
          2012,
          2013,
          2014,
          2015,
          2016,
          2017,
          2018,
          2019,
          2020,
          2021,
          2022,
          2023
         ],
         "xaxis": "x",
         "y": [
          2667,
          2693,
          2853,
          3022,
          3074,
          3166,
          3210,
          3278,
          3496,
          3665,
          3717,
          3682,
          3629,
          3577,
          3553,
          3545,
          3453,
          3489,
          3457,
          3443,
          3394,
          3356
         ],
         "yaxis": "y"
        },
        {
         "hovertemplate": "Postal Code=1120<br>Year=%{x}<br>Number of Dogs=%{y}<extra></extra>",
         "legendgroup": "1120",
         "line": {
          "color": "#EF553B",
          "dash": "solid"
         },
         "marker": {
          "symbol": "circle"
         },
         "mode": "lines+markers",
         "name": "1120",
         "orientation": "v",
         "showlegend": true,
         "type": "scatter",
         "x": [
          2002,
          2003,
          2004,
          2005,
          2006,
          2007,
          2008,
          2009,
          2010,
          2011,
          2012,
          2013,
          2014,
          2015,
          2016,
          2017,
          2018,
          2019,
          2020,
          2021,
          2022,
          2023
         ],
         "xaxis": "x",
         "y": [
          2215,
          2227,
          2253,
          2334,
          2345,
          2364,
          2362,
          2358,
          2380,
          2441,
          2448,
          2410,
          2381,
          2352,
          2318,
          2339,
          2348,
          2388,
          2331,
          2379,
          2333,
          2316
         ],
         "yaxis": "y"
        },
        {
         "hovertemplate": "Postal Code=1130<br>Year=%{x}<br>Number of Dogs=%{y}<extra></extra>",
         "legendgroup": "1130",
         "line": {
          "color": "#00cc96",
          "dash": "solid"
         },
         "marker": {
          "symbol": "circle"
         },
         "mode": "lines+markers",
         "name": "1130",
         "orientation": "v",
         "showlegend": true,
         "type": "scatter",
         "x": [
          2002,
          2003,
          2004,
          2005,
          2006,
          2007,
          2008,
          2009,
          2010,
          2011,
          2012,
          2013,
          2014,
          2015,
          2016,
          2017,
          2018,
          2019,
          2020,
          2021,
          2022,
          2023
         ],
         "xaxis": "x",
         "y": [
          1935,
          1928,
          1915,
          1926,
          1978,
          1948,
          1887,
          1881,
          1897,
          1969,
          2009,
          1983,
          1979,
          1976,
          1986,
          1980,
          1980,
          1996,
          1999,
          2009,
          2023,
          2075
         ],
         "yaxis": "y"
        },
        {
         "hovertemplate": "Postal Code=1140<br>Year=%{x}<br>Number of Dogs=%{y}<extra></extra>",
         "legendgroup": "1140",
         "line": {
          "color": "#ab63fa",
          "dash": "solid"
         },
         "marker": {
          "symbol": "circle"
         },
         "mode": "lines+markers",
         "name": "1140",
         "orientation": "v",
         "showlegend": true,
         "type": "scatter",
         "x": [
          2002,
          2003,
          2004,
          2005,
          2006,
          2007,
          2008,
          2009,
          2010,
          2011,
          2012,
          2013,
          2014,
          2015,
          2016,
          2017,
          2018,
          2019,
          2020,
          2021,
          2022,
          2023
         ],
         "xaxis": "x",
         "y": [
          2574,
          2574,
          2568,
          2671,
          2663,
          2744,
          2713,
          2763,
          2801,
          2916,
          2925,
          2891,
          2864,
          2838,
          2826,
          2816,
          2796,
          2822,
          2867,
          2927,
          2991,
          3062
         ],
         "yaxis": "y"
        },
        {
         "hovertemplate": "Postal Code=1150<br>Year=%{x}<br>Number of Dogs=%{y}<extra></extra>",
         "legendgroup": "1150",
         "line": {
          "color": "#FFA15A",
          "dash": "solid"
         },
         "marker": {
          "symbol": "circle"
         },
         "mode": "lines+markers",
         "name": "1150",
         "orientation": "v",
         "showlegend": true,
         "type": "scatter",
         "x": [
          2002,
          2003,
          2004,
          2005,
          2006,
          2007,
          2008,
          2009,
          2010,
          2011,
          2012,
          2013,
          2014,
          2015,
          2016,
          2017,
          2018,
          2019,
          2020,
          2021,
          2022,
          2023
         ],
         "xaxis": "x",
         "y": [
          1198,
          1228,
          1222,
          1272,
          1305,
          1256,
          1237,
          1279,
          1291,
          1328,
          1359,
          1384,
          1361,
          1338,
          1357,
          1326,
          1300,
          1315,
          1321,
          1366,
          1372,
          1383
         ],
         "yaxis": "y"
        },
        {
         "hovertemplate": "Postal Code=1160<br>Year=%{x}<br>Number of Dogs=%{y}<extra></extra>",
         "legendgroup": "1160",
         "line": {
          "color": "#19d3f3",
          "dash": "solid"
         },
         "marker": {
          "symbol": "circle"
         },
         "mode": "lines+markers",
         "name": "1160",
         "orientation": "v",
         "showlegend": true,
         "type": "scatter",
         "x": [
          2002,
          2003,
          2004,
          2005,
          2006,
          2007,
          2008,
          2009,
          2010,
          2011,
          2012,
          2013,
          2014,
          2015,
          2016,
          2017,
          2018,
          2019,
          2020,
          2021,
          2022,
          2023
         ],
         "xaxis": "x",
         "y": [
          1922,
          1894,
          1964,
          2019,
          2015,
          2007,
          1982,
          2034,
          2061,
          2122,
          2139,
          2138,
          2113,
          2089,
          2105,
          2040,
          1987,
          2004,
          2020,
          2027,
          1998,
          2024
         ],
         "yaxis": "y"
        },
        {
         "hovertemplate": "Postal Code=1170<br>Year=%{x}<br>Number of Dogs=%{y}<extra></extra>",
         "legendgroup": "1170",
         "line": {
          "color": "#FF6692",
          "dash": "solid"
         },
         "marker": {
          "symbol": "circle"
         },
         "mode": "lines+markers",
         "name": "1170",
         "orientation": "v",
         "showlegend": true,
         "type": "scatter",
         "x": [
          2002,
          2003,
          2004,
          2005,
          2006,
          2007,
          2008,
          2009,
          2010,
          2011,
          2012,
          2013,
          2014,
          2015,
          2016,
          2017,
          2018,
          2019,
          2020,
          2021,
          2022,
          2023
         ],
         "xaxis": "x",
         "y": [
          1252,
          1283,
          1300,
          1353,
          1345,
          1365,
          1372,
          1358,
          1380,
          1469,
          1496,
          1463,
          1457,
          1451,
          1431,
          1399,
          1381,
          1393,
          1372,
          1395,
          1404,
          1423
         ],
         "yaxis": "y"
        },
        {
         "hovertemplate": "Postal Code=1180<br>Year=%{x}<br>Number of Dogs=%{y}<extra></extra>",
         "legendgroup": "1180",
         "line": {
          "color": "#B6E880",
          "dash": "solid"
         },
         "marker": {
          "symbol": "circle"
         },
         "mode": "lines+markers",
         "name": "1180",
         "orientation": "v",
         "showlegend": true,
         "type": "scatter",
         "x": [
          2002,
          2003,
          2004,
          2005,
          2006,
          2007,
          2008,
          2009,
          2010,
          2011,
          2012,
          2013,
          2014,
          2015,
          2016,
          2017,
          2018,
          2019,
          2020,
          2021,
          2022,
          2023
         ],
         "xaxis": "x",
         "y": [
          1322,
          1357,
          1460,
          1368,
          1397,
          1359,
          1351,
          1356,
          1365,
          1374,
          1394,
          1368,
          1349,
          1330,
          1319,
          1300,
          1278,
          1321,
          1354,
          1424,
          1461,
          1511
         ],
         "yaxis": "y"
        },
        {
         "hovertemplate": "Postal Code=1190<br>Year=%{x}<br>Number of Dogs=%{y}<extra></extra>",
         "legendgroup": "1190",
         "line": {
          "color": "#FF97FF",
          "dash": "solid"
         },
         "marker": {
          "symbol": "circle"
         },
         "mode": "lines+markers",
         "name": "1190",
         "orientation": "v",
         "showlegend": true,
         "type": "scatter",
         "x": [
          2002,
          2003,
          2004,
          2005,
          2006,
          2007,
          2008,
          2009,
          2010,
          2011,
          2012,
          2013,
          2014,
          2015,
          2016,
          2017,
          2018,
          2019,
          2020,
          2021,
          2022,
          2023
         ],
         "xaxis": "x",
         "y": [
          2454,
          2472,
          2462,
          2538,
          2549,
          2549,
          2545,
          2526,
          2593,
          2750,
          2790,
          2803,
          2769,
          2735,
          2718,
          2721,
          2667,
          2646,
          2656,
          2712,
          2707,
          2763
         ],
         "yaxis": "y"
        },
        {
         "hovertemplate": "Postal Code=1200<br>Year=%{x}<br>Number of Dogs=%{y}<extra></extra>",
         "legendgroup": "1200",
         "line": {
          "color": "#FECB52",
          "dash": "solid"
         },
         "marker": {
          "symbol": "circle"
         },
         "mode": "lines+markers",
         "name": "1200",
         "orientation": "v",
         "showlegend": true,
         "type": "scatter",
         "x": [
          2002,
          2003,
          2004,
          2005,
          2006,
          2007,
          2008,
          2009,
          2010,
          2011,
          2012,
          2013,
          2014,
          2015,
          2016,
          2017,
          2018,
          2019,
          2020,
          2021,
          2022,
          2023
         ],
         "xaxis": "x",
         "y": [
          1801,
          1832,
          1861,
          1955,
          1910,
          1898,
          1933,
          1954,
          1955,
          2032,
          2065,
          2027,
          2006,
          1985,
          1911,
          1931,
          1865,
          1878,
          1780,
          1810,
          1764,
          1767
         ],
         "yaxis": "y"
        },
        {
         "hovertemplate": "Postal Code=1210<br>Year=%{x}<br>Number of Dogs=%{y}<extra></extra>",
         "legendgroup": "1210",
         "line": {
          "color": "#636efa",
          "dash": "solid"
         },
         "marker": {
          "symbol": "circle"
         },
         "mode": "lines+markers",
         "name": "1210",
         "orientation": "v",
         "showlegend": true,
         "type": "scatter",
         "x": [
          2002,
          2003,
          2004,
          2005,
          2006,
          2007,
          2008,
          2009,
          2010,
          2011,
          2012,
          2013,
          2014,
          2015,
          2016,
          2017,
          2018,
          2019,
          2020,
          2021,
          2022,
          2023
         ],
         "xaxis": "x",
         "y": [
          5461,
          5573,
          5606,
          5949,
          5931,
          6077,
          6274,
          6380,
          6681,
          7061,
          7142,
          7095,
          7063,
          7031,
          7101,
          7131,
          7147,
          7131,
          7106,
          7274,
          7271,
          7340
         ],
         "yaxis": "y"
        },
        {
         "hovertemplate": "Postal Code=1220<br>Year=%{x}<br>Number of Dogs=%{y}<extra></extra>",
         "legendgroup": "1220",
         "line": {
          "color": "#EF553B",
          "dash": "solid"
         },
         "marker": {
          "symbol": "circle"
         },
         "mode": "lines+markers",
         "name": "1220",
         "orientation": "v",
         "showlegend": true,
         "type": "scatter",
         "x": [
          2002,
          2003,
          2004,
          2005,
          2006,
          2007,
          2008,
          2009,
          2010,
          2011,
          2012,
          2013,
          2014,
          2015,
          2016,
          2017,
          2018,
          2019,
          2020,
          2021,
          2022,
          2023
         ],
         "xaxis": "x",
         "y": [
          5848,
          5913,
          5980,
          6360,
          6522,
          6838,
          6932,
          7021,
          7239,
          7735,
          7932,
          8125,
          8163,
          8201,
          8475,
          8518,
          8523,
          8567,
          8622,
          8796,
          8956,
          9170
         ],
         "yaxis": "y"
        },
        {
         "hovertemplate": "Postal Code=1230<br>Year=%{x}<br>Number of Dogs=%{y}<extra></extra>",
         "legendgroup": "1230",
         "line": {
          "color": "#00cc96",
          "dash": "solid"
         },
         "marker": {
          "symbol": "circle"
         },
         "mode": "lines+markers",
         "name": "1230",
         "orientation": "v",
         "showlegend": true,
         "type": "scatter",
         "x": [
          2002,
          2003,
          2004,
          2005,
          2006,
          2007,
          2008,
          2009,
          2010,
          2011,
          2012,
          2013,
          2014,
          2015,
          2016,
          2017,
          2018,
          2019,
          2020,
          2021,
          2022,
          2023
         ],
         "xaxis": "x",
         "y": [
          3493,
          3517,
          3521,
          3601,
          3651,
          3757,
          3805,
          3928,
          4005,
          4148,
          4214,
          4241,
          4187,
          4134,
          4117,
          4140,
          4132,
          4202,
          4303,
          4395,
          4412,
          4525
         ],
         "yaxis": "y"
        }
       ],
       "layout": {
        "height": 500,
        "legend": {
         "title": {
          "text": "Postal Code"
         },
         "tracegroupgap": 0
        },
        "template": {
         "data": {
          "bar": [
           {
            "error_x": {
             "color": "#2a3f5f"
            },
            "error_y": {
             "color": "#2a3f5f"
            },
            "marker": {
             "line": {
              "color": "#E5ECF6",
              "width": 0.5
             },
             "pattern": {
              "fillmode": "overlay",
              "size": 10,
              "solidity": 0.2
             }
            },
            "type": "bar"
           }
          ],
          "barpolar": [
           {
            "marker": {
             "line": {
              "color": "#E5ECF6",
              "width": 0.5
             },
             "pattern": {
              "fillmode": "overlay",
              "size": 10,
              "solidity": 0.2
             }
            },
            "type": "barpolar"
           }
          ],
          "carpet": [
           {
            "aaxis": {
             "endlinecolor": "#2a3f5f",
             "gridcolor": "white",
             "linecolor": "white",
             "minorgridcolor": "white",
             "startlinecolor": "#2a3f5f"
            },
            "baxis": {
             "endlinecolor": "#2a3f5f",
             "gridcolor": "white",
             "linecolor": "white",
             "minorgridcolor": "white",
             "startlinecolor": "#2a3f5f"
            },
            "type": "carpet"
           }
          ],
          "choropleth": [
           {
            "colorbar": {
             "outlinewidth": 0,
             "ticks": ""
            },
            "type": "choropleth"
           }
          ],
          "contour": [
           {
            "colorbar": {
             "outlinewidth": 0,
             "ticks": ""
            },
            "colorscale": [
             [
              0,
              "#0d0887"
             ],
             [
              0.1111111111111111,
              "#46039f"
             ],
             [
              0.2222222222222222,
              "#7201a8"
             ],
             [
              0.3333333333333333,
              "#9c179e"
             ],
             [
              0.4444444444444444,
              "#bd3786"
             ],
             [
              0.5555555555555556,
              "#d8576b"
             ],
             [
              0.6666666666666666,
              "#ed7953"
             ],
             [
              0.7777777777777778,
              "#fb9f3a"
             ],
             [
              0.8888888888888888,
              "#fdca26"
             ],
             [
              1,
              "#f0f921"
             ]
            ],
            "type": "contour"
           }
          ],
          "contourcarpet": [
           {
            "colorbar": {
             "outlinewidth": 0,
             "ticks": ""
            },
            "type": "contourcarpet"
           }
          ],
          "heatmap": [
           {
            "colorbar": {
             "outlinewidth": 0,
             "ticks": ""
            },
            "colorscale": [
             [
              0,
              "#0d0887"
             ],
             [
              0.1111111111111111,
              "#46039f"
             ],
             [
              0.2222222222222222,
              "#7201a8"
             ],
             [
              0.3333333333333333,
              "#9c179e"
             ],
             [
              0.4444444444444444,
              "#bd3786"
             ],
             [
              0.5555555555555556,
              "#d8576b"
             ],
             [
              0.6666666666666666,
              "#ed7953"
             ],
             [
              0.7777777777777778,
              "#fb9f3a"
             ],
             [
              0.8888888888888888,
              "#fdca26"
             ],
             [
              1,
              "#f0f921"
             ]
            ],
            "type": "heatmap"
           }
          ],
          "heatmapgl": [
           {
            "colorbar": {
             "outlinewidth": 0,
             "ticks": ""
            },
            "colorscale": [
             [
              0,
              "#0d0887"
             ],
             [
              0.1111111111111111,
              "#46039f"
             ],
             [
              0.2222222222222222,
              "#7201a8"
             ],
             [
              0.3333333333333333,
              "#9c179e"
             ],
             [
              0.4444444444444444,
              "#bd3786"
             ],
             [
              0.5555555555555556,
              "#d8576b"
             ],
             [
              0.6666666666666666,
              "#ed7953"
             ],
             [
              0.7777777777777778,
              "#fb9f3a"
             ],
             [
              0.8888888888888888,
              "#fdca26"
             ],
             [
              1,
              "#f0f921"
             ]
            ],
            "type": "heatmapgl"
           }
          ],
          "histogram": [
           {
            "marker": {
             "pattern": {
              "fillmode": "overlay",
              "size": 10,
              "solidity": 0.2
             }
            },
            "type": "histogram"
           }
          ],
          "histogram2d": [
           {
            "colorbar": {
             "outlinewidth": 0,
             "ticks": ""
            },
            "colorscale": [
             [
              0,
              "#0d0887"
             ],
             [
              0.1111111111111111,
              "#46039f"
             ],
             [
              0.2222222222222222,
              "#7201a8"
             ],
             [
              0.3333333333333333,
              "#9c179e"
             ],
             [
              0.4444444444444444,
              "#bd3786"
             ],
             [
              0.5555555555555556,
              "#d8576b"
             ],
             [
              0.6666666666666666,
              "#ed7953"
             ],
             [
              0.7777777777777778,
              "#fb9f3a"
             ],
             [
              0.8888888888888888,
              "#fdca26"
             ],
             [
              1,
              "#f0f921"
             ]
            ],
            "type": "histogram2d"
           }
          ],
          "histogram2dcontour": [
           {
            "colorbar": {
             "outlinewidth": 0,
             "ticks": ""
            },
            "colorscale": [
             [
              0,
              "#0d0887"
             ],
             [
              0.1111111111111111,
              "#46039f"
             ],
             [
              0.2222222222222222,
              "#7201a8"
             ],
             [
              0.3333333333333333,
              "#9c179e"
             ],
             [
              0.4444444444444444,
              "#bd3786"
             ],
             [
              0.5555555555555556,
              "#d8576b"
             ],
             [
              0.6666666666666666,
              "#ed7953"
             ],
             [
              0.7777777777777778,
              "#fb9f3a"
             ],
             [
              0.8888888888888888,
              "#fdca26"
             ],
             [
              1,
              "#f0f921"
             ]
            ],
            "type": "histogram2dcontour"
           }
          ],
          "mesh3d": [
           {
            "colorbar": {
             "outlinewidth": 0,
             "ticks": ""
            },
            "type": "mesh3d"
           }
          ],
          "parcoords": [
           {
            "line": {
             "colorbar": {
              "outlinewidth": 0,
              "ticks": ""
             }
            },
            "type": "parcoords"
           }
          ],
          "pie": [
           {
            "automargin": true,
            "type": "pie"
           }
          ],
          "scatter": [
           {
            "fillpattern": {
             "fillmode": "overlay",
             "size": 10,
             "solidity": 0.2
            },
            "type": "scatter"
           }
          ],
          "scatter3d": [
           {
            "line": {
             "colorbar": {
              "outlinewidth": 0,
              "ticks": ""
             }
            },
            "marker": {
             "colorbar": {
              "outlinewidth": 0,
              "ticks": ""
             }
            },
            "type": "scatter3d"
           }
          ],
          "scattercarpet": [
           {
            "marker": {
             "colorbar": {
              "outlinewidth": 0,
              "ticks": ""
             }
            },
            "type": "scattercarpet"
           }
          ],
          "scattergeo": [
           {
            "marker": {
             "colorbar": {
              "outlinewidth": 0,
              "ticks": ""
             }
            },
            "type": "scattergeo"
           }
          ],
          "scattergl": [
           {
            "marker": {
             "colorbar": {
              "outlinewidth": 0,
              "ticks": ""
             }
            },
            "type": "scattergl"
           }
          ],
          "scattermapbox": [
           {
            "marker": {
             "colorbar": {
              "outlinewidth": 0,
              "ticks": ""
             }
            },
            "type": "scattermapbox"
           }
          ],
          "scatterpolar": [
           {
            "marker": {
             "colorbar": {
              "outlinewidth": 0,
              "ticks": ""
             }
            },
            "type": "scatterpolar"
           }
          ],
          "scatterpolargl": [
           {
            "marker": {
             "colorbar": {
              "outlinewidth": 0,
              "ticks": ""
             }
            },
            "type": "scatterpolargl"
           }
          ],
          "scatterternary": [
           {
            "marker": {
             "colorbar": {
              "outlinewidth": 0,
              "ticks": ""
             }
            },
            "type": "scatterternary"
           }
          ],
          "surface": [
           {
            "colorbar": {
             "outlinewidth": 0,
             "ticks": ""
            },
            "colorscale": [
             [
              0,
              "#0d0887"
             ],
             [
              0.1111111111111111,
              "#46039f"
             ],
             [
              0.2222222222222222,
              "#7201a8"
             ],
             [
              0.3333333333333333,
              "#9c179e"
             ],
             [
              0.4444444444444444,
              "#bd3786"
             ],
             [
              0.5555555555555556,
              "#d8576b"
             ],
             [
              0.6666666666666666,
              "#ed7953"
             ],
             [
              0.7777777777777778,
              "#fb9f3a"
             ],
             [
              0.8888888888888888,
              "#fdca26"
             ],
             [
              1,
              "#f0f921"
             ]
            ],
            "type": "surface"
           }
          ],
          "table": [
           {
            "cells": {
             "fill": {
              "color": "#EBF0F8"
             },
             "line": {
              "color": "white"
             }
            },
            "header": {
             "fill": {
              "color": "#C8D4E3"
             },
             "line": {
              "color": "white"
             }
            },
            "type": "table"
           }
          ]
         },
         "layout": {
          "annotationdefaults": {
           "arrowcolor": "#2a3f5f",
           "arrowhead": 0,
           "arrowwidth": 1
          },
          "autotypenumbers": "strict",
          "coloraxis": {
           "colorbar": {
            "outlinewidth": 0,
            "ticks": ""
           }
          },
          "colorscale": {
           "diverging": [
            [
             0,
             "#8e0152"
            ],
            [
             0.1,
             "#c51b7d"
            ],
            [
             0.2,
             "#de77ae"
            ],
            [
             0.3,
             "#f1b6da"
            ],
            [
             0.4,
             "#fde0ef"
            ],
            [
             0.5,
             "#f7f7f7"
            ],
            [
             0.6,
             "#e6f5d0"
            ],
            [
             0.7,
             "#b8e186"
            ],
            [
             0.8,
             "#7fbc41"
            ],
            [
             0.9,
             "#4d9221"
            ],
            [
             1,
             "#276419"
            ]
           ],
           "sequential": [
            [
             0,
             "#0d0887"
            ],
            [
             0.1111111111111111,
             "#46039f"
            ],
            [
             0.2222222222222222,
             "#7201a8"
            ],
            [
             0.3333333333333333,
             "#9c179e"
            ],
            [
             0.4444444444444444,
             "#bd3786"
            ],
            [
             0.5555555555555556,
             "#d8576b"
            ],
            [
             0.6666666666666666,
             "#ed7953"
            ],
            [
             0.7777777777777778,
             "#fb9f3a"
            ],
            [
             0.8888888888888888,
             "#fdca26"
            ],
            [
             1,
             "#f0f921"
            ]
           ],
           "sequentialminus": [
            [
             0,
             "#0d0887"
            ],
            [
             0.1111111111111111,
             "#46039f"
            ],
            [
             0.2222222222222222,
             "#7201a8"
            ],
            [
             0.3333333333333333,
             "#9c179e"
            ],
            [
             0.4444444444444444,
             "#bd3786"
            ],
            [
             0.5555555555555556,
             "#d8576b"
            ],
            [
             0.6666666666666666,
             "#ed7953"
            ],
            [
             0.7777777777777778,
             "#fb9f3a"
            ],
            [
             0.8888888888888888,
             "#fdca26"
            ],
            [
             1,
             "#f0f921"
            ]
           ]
          },
          "colorway": [
           "#636efa",
           "#EF553B",
           "#00cc96",
           "#ab63fa",
           "#FFA15A",
           "#19d3f3",
           "#FF6692",
           "#B6E880",
           "#FF97FF",
           "#FECB52"
          ],
          "font": {
           "color": "#2a3f5f"
          },
          "geo": {
           "bgcolor": "white",
           "lakecolor": "white",
           "landcolor": "#E5ECF6",
           "showlakes": true,
           "showland": true,
           "subunitcolor": "white"
          },
          "hoverlabel": {
           "align": "left"
          },
          "hovermode": "closest",
          "mapbox": {
           "style": "light"
          },
          "paper_bgcolor": "white",
          "plot_bgcolor": "#E5ECF6",
          "polar": {
           "angularaxis": {
            "gridcolor": "white",
            "linecolor": "white",
            "ticks": ""
           },
           "bgcolor": "#E5ECF6",
           "radialaxis": {
            "gridcolor": "white",
            "linecolor": "white",
            "ticks": ""
           }
          },
          "scene": {
           "xaxis": {
            "backgroundcolor": "#E5ECF6",
            "gridcolor": "white",
            "gridwidth": 2,
            "linecolor": "white",
            "showbackground": true,
            "ticks": "",
            "zerolinecolor": "white"
           },
           "yaxis": {
            "backgroundcolor": "#E5ECF6",
            "gridcolor": "white",
            "gridwidth": 2,
            "linecolor": "white",
            "showbackground": true,
            "ticks": "",
            "zerolinecolor": "white"
           },
           "zaxis": {
            "backgroundcolor": "#E5ECF6",
            "gridcolor": "white",
            "gridwidth": 2,
            "linecolor": "white",
            "showbackground": true,
            "ticks": "",
            "zerolinecolor": "white"
           }
          },
          "shapedefaults": {
           "line": {
            "color": "#2a3f5f"
           }
          },
          "ternary": {
           "aaxis": {
            "gridcolor": "white",
            "linecolor": "white",
            "ticks": ""
           },
           "baxis": {
            "gridcolor": "white",
            "linecolor": "white",
            "ticks": ""
           },
           "bgcolor": "#E5ECF6",
           "caxis": {
            "gridcolor": "white",
            "linecolor": "white",
            "ticks": ""
           }
          },
          "title": {
           "x": 0.05
          },
          "xaxis": {
           "automargin": true,
           "gridcolor": "white",
           "linecolor": "white",
           "ticks": "",
           "title": {
            "standoff": 15
           },
           "zerolinecolor": "white",
           "zerolinewidth": 2
          },
          "yaxis": {
           "automargin": true,
           "gridcolor": "white",
           "linecolor": "white",
           "ticks": "",
           "title": {
            "standoff": 15
           },
           "zerolinecolor": "white",
           "zerolinewidth": 2
          }
         }
        },
        "title": {
         "text": "Number of Dogs in each District from 2002 to 2023"
        },
        "width": 800,
        "xaxis": {
         "anchor": "y",
         "domain": [
          0,
          1
         ],
         "title": {
          "text": "Year"
         }
        },
        "yaxis": {
         "anchor": "x",
         "domain": [
          0,
          1
         ],
         "title": {
          "text": "Number of Dogs"
         }
        }
       }
      }
     },
     "metadata": {},
     "output_type": "display_data"
    }
   ],
   "source": [
    "#Firstly, lets look at the number of dogs in districts over the years\n",
    "fig = px.line(dogs_2002[dogs_2002['DISTRICT_CODE']!=90000], x='REF_YEAR', y='DOG_VALUE',\n",
    "              color='Postal_CODE', markers=True,\n",
    "              width=800, height=500,\n",
    "                 labels={\n",
    "                     \"DOG_VALUE\": \"Number of Dogs\",\n",
    "                     \"REF_YEAR\": \"Year\",\n",
    "                     \"Postal_CODE\": \"Postal Code\"\n",
    "                  },\n",
    "              title='Number of Dogs in each District from 2002 to 2023')\n",
    "fig.show()"
   ]
  },
  {
   "cell_type": "code",
   "execution_count": 251,
   "id": "f6136330",
   "metadata": {},
   "outputs": [
    {
     "data": {
      "application/vnd.plotly.v1+json": {
       "config": {
        "plotlyServerURL": "https://plot.ly"
       },
       "data": [
        {
         "customdata": [
          [
           2002
          ],
          [
           2003
          ],
          [
           2004
          ],
          [
           2005
          ],
          [
           2006
          ],
          [
           2007
          ],
          [
           2008
          ],
          [
           2009
          ],
          [
           2010
          ],
          [
           2011
          ],
          [
           2012
          ],
          [
           2013
          ],
          [
           2014
          ],
          [
           2015
          ],
          [
           2016
          ],
          [
           2017
          ],
          [
           2018
          ],
          [
           2019
          ],
          [
           2020
          ],
          [
           2021
          ],
          [
           2022
          ],
          [
           2023
          ]
         ],
         "hovertemplate": "Postal Code=%{x}<br>Density of Population (Population per km^2)=%{y}<br>Year=%{customdata[0]}<extra></extra>",
         "legendgroup": "1010",
         "marker": {
          "color": "#636efa",
          "symbol": "circle"
         },
         "mode": "markers",
         "name": "1010",
         "orientation": "v",
         "showlegend": true,
         "type": "scatter",
         "x": [
          "1010",
          "1010",
          "1010",
          "1010",
          "1010",
          "1010",
          "1010",
          "1010",
          "1010",
          "1010",
          "1010",
          "1010",
          "1010",
          "1010",
          "1010",
          "1010",
          "1010",
          "1010",
          "1010",
          "1010",
          "1010",
          "1010"
         ],
         "xaxis": "x",
         "y": [
          6145.48,
          6114.46,
          6059.73,
          6028.36,
          6025.22,
          5977.12,
          5917.51,
          5794.46,
          5760.3,
          5711.5,
          5678.38,
          5670.72,
          5622.96,
          5695.46,
          5720.56,
          5739.39,
          5734.16,
          5683.96,
          5593.68,
          5530.93,
          5472.72,
          5793.42
         ],
         "yaxis": "y"
        },
        {
         "customdata": [
          [
           2002
          ],
          [
           2003
          ],
          [
           2004
          ],
          [
           2005
          ],
          [
           2006
          ],
          [
           2007
          ],
          [
           2008
          ],
          [
           2009
          ],
          [
           2010
          ],
          [
           2011
          ],
          [
           2012
          ],
          [
           2013
          ],
          [
           2014
          ],
          [
           2015
          ],
          [
           2016
          ],
          [
           2017
          ],
          [
           2018
          ],
          [
           2019
          ],
          [
           2020
          ],
          [
           2021
          ],
          [
           2022
          ],
          [
           2023
          ]
         ],
         "hovertemplate": "Postal Code=%{x}<br>Density of Population (Population per km^2)=%{y}<br>Year=%{customdata[0]}<extra></extra>",
         "legendgroup": "1020",
         "marker": {
          "color": "#EF553B",
          "symbol": "circle"
         },
         "mode": "markers",
         "name": "1020",
         "orientation": "v",
         "showlegend": true,
         "type": "scatter",
         "x": [
          "1020",
          "1020",
          "1020",
          "1020",
          "1020",
          "1020",
          "1020",
          "1020",
          "1020",
          "1020",
          "1020",
          "1020",
          "1020",
          "1020",
          "1020",
          "1020",
          "1020",
          "1020",
          "1020",
          "1020",
          "1020",
          "1020"
         ],
         "xaxis": "x",
         "y": [
          4626.13,
          4674.88,
          4720.77,
          4748.16,
          4790.04,
          4849.44,
          4857.24,
          4875.9,
          4923.35,
          4952.81,
          5019.33,
          5034.09,
          5176.02,
          5285.42,
          5364.57,
          5456.97,
          5486.64,
          5454.01,
          5500.88,
          5469.13,
          5440.6,
          5626.7
         ],
         "yaxis": "y"
        },
        {
         "customdata": [
          [
           2002
          ],
          [
           2003
          ],
          [
           2004
          ],
          [
           2005
          ],
          [
           2006
          ],
          [
           2007
          ],
          [
           2008
          ],
          [
           2009
          ],
          [
           2010
          ],
          [
           2011
          ],
          [
           2012
          ],
          [
           2013
          ],
          [
           2014
          ],
          [
           2015
          ],
          [
           2016
          ],
          [
           2017
          ],
          [
           2018
          ],
          [
           2019
          ],
          [
           2020
          ],
          [
           2021
          ],
          [
           2022
          ],
          [
           2023
          ]
         ],
         "hovertemplate": "Postal Code=%{x}<br>Density of Population (Population per km^2)=%{y}<br>Year=%{customdata[0]}<extra></extra>",
         "legendgroup": "1030",
         "marker": {
          "color": "#00cc96",
          "symbol": "circle"
         },
         "mode": "markers",
         "name": "1030",
         "orientation": "v",
         "showlegend": true,
         "type": "scatter",
         "x": [
          "1030",
          "1030",
          "1030",
          "1030",
          "1030",
          "1030",
          "1030",
          "1030",
          "1030",
          "1030",
          "1030",
          "1030",
          "1030",
          "1030",
          "1030",
          "1030",
          "1030",
          "1030",
          "1030",
          "1030",
          "1030",
          "1030"
         ],
         "xaxis": "x",
         "y": [
          11115.15,
          11124.61,
          11222.21,
          11331.43,
          11382.93,
          11343.87,
          11226.4,
          11216.8,
          11227.89,
          11348.73,
          11432.41,
          11558.66,
          11686.54,
          11912.42,
          12139.65,
          12190.61,
          12262.12,
          12401.76,
          12392.97,
          12604.93,
          12671.97,
          13079.13
         ],
         "yaxis": "y"
        },
        {
         "customdata": [
          [
           2002
          ],
          [
           2003
          ],
          [
           2004
          ],
          [
           2005
          ],
          [
           2006
          ],
          [
           2007
          ],
          [
           2008
          ],
          [
           2009
          ],
          [
           2010
          ],
          [
           2011
          ],
          [
           2012
          ],
          [
           2013
          ],
          [
           2014
          ],
          [
           2015
          ],
          [
           2016
          ],
          [
           2017
          ],
          [
           2018
          ],
          [
           2019
          ],
          [
           2020
          ],
          [
           2021
          ],
          [
           2022
          ],
          [
           2023
          ]
         ],
         "hovertemplate": "Postal Code=%{x}<br>Density of Population (Population per km^2)=%{y}<br>Year=%{customdata[0]}<extra></extra>",
         "legendgroup": "1040",
         "marker": {
          "color": "#ab63fa",
          "symbol": "circle"
         },
         "mode": "markers",
         "name": "1040",
         "orientation": "v",
         "showlegend": true,
         "type": "scatter",
         "x": [
          "1040",
          "1040",
          "1040",
          "1040",
          "1040",
          "1040",
          "1040",
          "1040",
          "1040",
          "1040",
          "1040",
          "1040",
          "1040",
          "1040",
          "1040",
          "1040",
          "1040",
          "1040",
          "1040",
          "1040",
          "1040",
          "1040"
         ],
         "xaxis": "x",
         "y": [
          16322.03,
          16532.15,
          16558.06,
          16658.89,
          16970.41,
          17005.89,
          17047.02,
          17095.46,
          17085.89,
          17204.18,
          17307.27,
          17456.55,
          17717.36,
          17851.99,
          18449.11,
          18609.09,
          18769.07,
          18737.52,
          18708.79,
          18631.62,
          18593.31,
          18945.95
         ],
         "yaxis": "y"
        },
        {
         "customdata": [
          [
           2002
          ],
          [
           2003
          ],
          [
           2004
          ],
          [
           2005
          ],
          [
           2006
          ],
          [
           2007
          ],
          [
           2008
          ],
          [
           2009
          ],
          [
           2010
          ],
          [
           2011
          ],
          [
           2012
          ],
          [
           2013
          ],
          [
           2014
          ],
          [
           2015
          ],
          [
           2016
          ],
          [
           2017
          ],
          [
           2018
          ],
          [
           2019
          ],
          [
           2020
          ],
          [
           2021
          ],
          [
           2022
          ],
          [
           2023
          ]
         ],
         "hovertemplate": "Postal Code=%{x}<br>Density of Population (Population per km^2)=%{y}<br>Year=%{customdata[0]}<extra></extra>",
         "legendgroup": "1050",
         "marker": {
          "color": "#FFA15A",
          "symbol": "circle"
         },
         "mode": "markers",
         "name": "1050",
         "orientation": "v",
         "showlegend": true,
         "type": "scatter",
         "x": [
          "1050",
          "1050",
          "1050",
          "1050",
          "1050",
          "1050",
          "1050",
          "1050",
          "1050",
          "1050",
          "1050",
          "1050",
          "1050",
          "1050",
          "1050",
          "1050",
          "1050",
          "1050",
          "1050",
          "1050",
          "1050",
          "1050"
         ],
         "xaxis": "x",
         "y": [
          24748.48,
          25037.8,
          25401.18,
          25790.91,
          26115.03,
          25991.75,
          26065.32,
          25992.74,
          26025.55,
          26223.89,
          26138.39,
          26381.97,
          26649.91,
          26966.08,
          27310.07,
          27517.86,
          27659.04,
          27543.22,
          27402.04,
          27029.21,
          26710.06,
          27349.84
         ],
         "yaxis": "y"
        },
        {
         "customdata": [
          [
           2002
          ],
          [
           2003
          ],
          [
           2004
          ],
          [
           2005
          ],
          [
           2006
          ],
          [
           2007
          ],
          [
           2008
          ],
          [
           2009
          ],
          [
           2010
          ],
          [
           2011
          ],
          [
           2012
          ],
          [
           2013
          ],
          [
           2014
          ],
          [
           2015
          ],
          [
           2016
          ],
          [
           2017
          ],
          [
           2018
          ],
          [
           2019
          ],
          [
           2020
          ],
          [
           2021
          ],
          [
           2022
          ],
          [
           2023
          ]
         ],
         "hovertemplate": "Postal Code=%{x}<br>Density of Population (Population per km^2)=%{y}<br>Year=%{customdata[0]}<extra></extra>",
         "legendgroup": "1060",
         "marker": {
          "color": "#19d3f3",
          "symbol": "circle"
         },
         "mode": "markers",
         "name": "1060",
         "orientation": "v",
         "showlegend": true,
         "type": "scatter",
         "x": [
          "1060",
          "1060",
          "1060",
          "1060",
          "1060",
          "1060",
          "1060",
          "1060",
          "1060",
          "1060",
          "1060",
          "1060",
          "1060",
          "1060",
          "1060",
          "1060",
          "1060",
          "1060",
          "1060",
          "1060",
          "1060",
          "1060"
         ],
         "xaxis": "x",
         "y": [
          19604.22,
          19796.66,
          19855.76,
          19938.92,
          20184.27,
          20248.88,
          20226.2,
          20066.06,
          20152.66,
          20142.35,
          20197.33,
          20698.35,
          21039.23,
          21305.2,
          21731.31,
          21899.69,
          22039.89,
          21899,
          21752.61,
          21536.12,
          21276.34,
          21595.92
         ],
         "yaxis": "y"
        },
        {
         "customdata": [
          [
           2002
          ],
          [
           2003
          ],
          [
           2004
          ],
          [
           2005
          ],
          [
           2006
          ],
          [
           2007
          ],
          [
           2008
          ],
          [
           2009
          ],
          [
           2010
          ],
          [
           2011
          ],
          [
           2012
          ],
          [
           2013
          ],
          [
           2014
          ],
          [
           2015
          ],
          [
           2016
          ],
          [
           2017
          ],
          [
           2018
          ],
          [
           2019
          ],
          [
           2020
          ],
          [
           2021
          ],
          [
           2022
          ],
          [
           2023
          ]
         ],
         "hovertemplate": "Postal Code=%{x}<br>Density of Population (Population per km^2)=%{y}<br>Year=%{customdata[0]}<extra></extra>",
         "legendgroup": "1070",
         "marker": {
          "color": "#FF6692",
          "symbol": "circle"
         },
         "mode": "markers",
         "name": "1070",
         "orientation": "v",
         "showlegend": true,
         "type": "scatter",
         "x": [
          "1070",
          "1070",
          "1070",
          "1070",
          "1070",
          "1070",
          "1070",
          "1070",
          "1070",
          "1070",
          "1070",
          "1070",
          "1070",
          "1070",
          "1070",
          "1070",
          "1070",
          "1070",
          "1070",
          "1070",
          "1070",
          "1070"
         ],
         "xaxis": "x",
         "y": [
          17977.33,
          18012.15,
          18039.51,
          18132.15,
          18912.5,
          18625.86,
          18687.42,
          18577.98,
          18696.74,
          18692.39,
          18716.64,
          18845.97,
          19146.3,
          19456.57,
          19909.86,
          20019.92,
          20187.81,
          20076.5,
          19873.18,
          19700.32,
          19478.34,
          19636.9
         ],
         "yaxis": "y"
        },
        {
         "customdata": [
          [
           2002
          ],
          [
           2003
          ],
          [
           2004
          ],
          [
           2005
          ],
          [
           2006
          ],
          [
           2007
          ],
          [
           2008
          ],
          [
           2009
          ],
          [
           2010
          ],
          [
           2011
          ],
          [
           2012
          ],
          [
           2013
          ],
          [
           2014
          ],
          [
           2015
          ],
          [
           2016
          ],
          [
           2017
          ],
          [
           2018
          ],
          [
           2019
          ],
          [
           2020
          ],
          [
           2021
          ],
          [
           2022
          ],
          [
           2023
          ]
         ],
         "hovertemplate": "Postal Code=%{x}<br>Density of Population (Population per km^2)=%{y}<br>Year=%{customdata[0]}<extra></extra>",
         "legendgroup": "1080",
         "marker": {
          "color": "#B6E880",
          "symbol": "circle"
         },
         "mode": "markers",
         "name": "1080",
         "orientation": "v",
         "showlegend": true,
         "type": "scatter",
         "x": [
          "1080",
          "1080",
          "1080",
          "1080",
          "1080",
          "1080",
          "1080",
          "1080",
          "1080",
          "1080",
          "1080",
          "1080",
          "1080",
          "1080",
          "1080",
          "1080",
          "1080",
          "1080",
          "1080",
          "1080",
          "1080",
          "1080"
         ],
         "xaxis": "x",
         "y": [
          20385.42,
          21245.1,
          21385.47,
          21641.45,
          21649.7,
          21664.38,
          21746.96,
          21688.24,
          21501.07,
          21449.69,
          21615.76,
          21955.22,
          22275.42,
          22494.7,
          22986.47,
          23421.35,
          23544.29,
          23364.47,
          22956.19,
          22354.32,
          22192.85,
          22637.83
         ],
         "yaxis": "y"
        },
        {
         "customdata": [
          [
           2002
          ],
          [
           2003
          ],
          [
           2004
          ],
          [
           2005
          ],
          [
           2006
          ],
          [
           2007
          ],
          [
           2008
          ],
          [
           2009
          ],
          [
           2010
          ],
          [
           2011
          ],
          [
           2012
          ],
          [
           2013
          ],
          [
           2014
          ],
          [
           2015
          ],
          [
           2016
          ],
          [
           2017
          ],
          [
           2018
          ],
          [
           2019
          ],
          [
           2020
          ],
          [
           2021
          ],
          [
           2022
          ],
          [
           2023
          ]
         ],
         "hovertemplate": "Postal Code=%{x}<br>Density of Population (Population per km^2)=%{y}<br>Year=%{customdata[0]}<extra></extra>",
         "legendgroup": "1090",
         "marker": {
          "color": "#FF97FF",
          "symbol": "circle"
         },
         "mode": "markers",
         "name": "1090",
         "orientation": "v",
         "showlegend": true,
         "type": "scatter",
         "x": [
          "1090",
          "1090",
          "1090",
          "1090",
          "1090",
          "1090",
          "1090",
          "1090",
          "1090",
          "1090",
          "1090",
          "1090",
          "1090",
          "1090",
          "1090",
          "1090",
          "1090",
          "1090",
          "1090",
          "1090",
          "1090",
          "1090"
         ],
         "xaxis": "x",
         "y": [
          12903.62,
          12908.34,
          13097.39,
          13301.95,
          13231.85,
          13196.81,
          13299.93,
          13199.16,
          13258.81,
          13249.04,
          13288.13,
          13469.1,
          13657.82,
          13777.11,
          14522.89,
          14392.81,
          14338.21,
          14139.72,
          14114.79,
          14090.52,
          13945.61,
          14223.3
         ],
         "yaxis": "y"
        },
        {
         "customdata": [
          [
           2002
          ],
          [
           2003
          ],
          [
           2004
          ],
          [
           2005
          ],
          [
           2006
          ],
          [
           2007
          ],
          [
           2008
          ],
          [
           2009
          ],
          [
           2010
          ],
          [
           2011
          ],
          [
           2012
          ],
          [
           2013
          ],
          [
           2014
          ],
          [
           2015
          ],
          [
           2016
          ],
          [
           2017
          ],
          [
           2018
          ],
          [
           2019
          ],
          [
           2020
          ],
          [
           2021
          ],
          [
           2022
          ],
          [
           2023
          ]
         ],
         "hovertemplate": "Postal Code=%{x}<br>Density of Population (Population per km^2)=%{y}<br>Year=%{customdata[0]}<extra></extra>",
         "legendgroup": "1100",
         "marker": {
          "color": "#FECB52",
          "symbol": "circle"
         },
         "mode": "markers",
         "name": "1100",
         "orientation": "v",
         "showlegend": true,
         "type": "scatter",
         "x": [
          "1100",
          "1100",
          "1100",
          "1100",
          "1100",
          "1100",
          "1100",
          "1100",
          "1100",
          "1100",
          "1100",
          "1100",
          "1100",
          "1100",
          "1100",
          "1100",
          "1100",
          "1100",
          "1100",
          "1100",
          "1100",
          "1100"
         ],
         "xaxis": "x",
         "y": [
          4800.6,
          4912.22,
          4998.81,
          5143.02,
          5254.34,
          5322.67,
          5376.08,
          5442.5,
          5490.32,
          5547.16,
          5603.71,
          5736.83,
          5857.95,
          5960.47,
          6118.59,
          6223.44,
          6342.8,
          6413.8,
          6509.66,
          6615.85,
          6668.7,
          6862.23
         ],
         "yaxis": "y"
        },
        {
         "customdata": [
          [
           2002
          ],
          [
           2003
          ],
          [
           2004
          ],
          [
           2005
          ],
          [
           2006
          ],
          [
           2007
          ],
          [
           2008
          ],
          [
           2009
          ],
          [
           2010
          ],
          [
           2011
          ],
          [
           2012
          ],
          [
           2013
          ],
          [
           2014
          ],
          [
           2015
          ],
          [
           2016
          ],
          [
           2017
          ],
          [
           2018
          ],
          [
           2019
          ],
          [
           2020
          ],
          [
           2021
          ],
          [
           2022
          ],
          [
           2023
          ]
         ],
         "hovertemplate": "Postal Code=%{x}<br>Density of Population (Population per km^2)=%{y}<br>Year=%{customdata[0]}<extra></extra>",
         "legendgroup": "1110",
         "marker": {
          "color": "#636efa",
          "symbol": "circle"
         },
         "mode": "markers",
         "name": "1110",
         "orientation": "v",
         "showlegend": true,
         "type": "scatter",
         "x": [
          "1110",
          "1110",
          "1110",
          "1110",
          "1110",
          "1110",
          "1110",
          "1110",
          "1110",
          "1110",
          "1110",
          "1110",
          "1110",
          "1110",
          "1110",
          "1110",
          "1110",
          "1110",
          "1110",
          "1110",
          "1110",
          "1110"
         ],
         "xaxis": "x",
         "y": [
          3387.68,
          3460.78,
          3498.79,
          3544.37,
          3556.97,
          3564.75,
          3690.78,
          3782.45,
          3846.74,
          3886.85,
          3922.5,
          3967.69,
          4017.83,
          4093.42,
          4185.61,
          4305.79,
          4360.96,
          4429.24,
          4490.56,
          4515.84,
          4561.25,
          4688.53
         ],
         "yaxis": "y"
        },
        {
         "customdata": [
          [
           2002
          ],
          [
           2003
          ],
          [
           2004
          ],
          [
           2005
          ],
          [
           2006
          ],
          [
           2007
          ],
          [
           2008
          ],
          [
           2009
          ],
          [
           2010
          ],
          [
           2011
          ],
          [
           2012
          ],
          [
           2013
          ],
          [
           2014
          ],
          [
           2015
          ],
          [
           2016
          ],
          [
           2017
          ],
          [
           2018
          ],
          [
           2019
          ],
          [
           2020
          ],
          [
           2021
          ],
          [
           2022
          ],
          [
           2023
          ]
         ],
         "hovertemplate": "Postal Code=%{x}<br>Density of Population (Population per km^2)=%{y}<br>Year=%{customdata[0]}<extra></extra>",
         "legendgroup": "1120",
         "marker": {
          "color": "#EF553B",
          "symbol": "circle"
         },
         "mode": "markers",
         "name": "1120",
         "orientation": "v",
         "showlegend": true,
         "type": "scatter",
         "x": [
          "1120",
          "1120",
          "1120",
          "1120",
          "1120",
          "1120",
          "1120",
          "1120",
          "1120",
          "1120",
          "1120",
          "1120",
          "1120",
          "1120",
          "1120",
          "1120",
          "1120",
          "1120",
          "1120",
          "1120",
          "1120",
          "1120"
         ],
         "xaxis": "x",
         "y": [
          9745.59,
          9905.9,
          10141.36,
          10288.71,
          10395.83,
          10490.97,
          10580.44,
          10730.26,
          10793.44,
          10862.68,
          10923.39,
          11059.26,
          11214.51,
          11381.73,
          11621.26,
          11841.54,
          12047.51,
          12048.74,
          11980.13,
          11970.26,
          12082.68,
          12375.4
         ],
         "yaxis": "y"
        },
        {
         "customdata": [
          [
           2002
          ],
          [
           2003
          ],
          [
           2004
          ],
          [
           2005
          ],
          [
           2006
          ],
          [
           2007
          ],
          [
           2008
          ],
          [
           2009
          ],
          [
           2010
          ],
          [
           2011
          ],
          [
           2012
          ],
          [
           2013
          ],
          [
           2014
          ],
          [
           2015
          ],
          [
           2016
          ],
          [
           2017
          ],
          [
           2018
          ],
          [
           2019
          ],
          [
           2020
          ],
          [
           2021
          ],
          [
           2022
          ],
          [
           2023
          ]
         ],
         "hovertemplate": "Postal Code=%{x}<br>Density of Population (Population per km^2)=%{y}<br>Year=%{customdata[0]}<extra></extra>",
         "legendgroup": "1130",
         "marker": {
          "color": "#00cc96",
          "symbol": "circle"
         },
         "mode": "markers",
         "name": "1130",
         "orientation": "v",
         "showlegend": true,
         "type": "scatter",
         "x": [
          "1130",
          "1130",
          "1130",
          "1130",
          "1130",
          "1130",
          "1130",
          "1130",
          "1130",
          "1130",
          "1130",
          "1130",
          "1130",
          "1130",
          "1130",
          "1130",
          "1130",
          "1130",
          "1130",
          "1130",
          "1130",
          "1130"
         ],
         "xaxis": "x",
         "y": [
          1334.78,
          1346.87,
          1349.5,
          1360.63,
          1361.69,
          1360.32,
          1355.62,
          1351.75,
          1352.65,
          1351.35,
          1342.98,
          1347.77,
          1359.55,
          1381.82,
          1426.84,
          1436.33,
          1438.83,
          1425.91,
          1432.86,
          1429.23,
          1430.71,
          1473.38
         ],
         "yaxis": "y"
        },
        {
         "customdata": [
          [
           2002
          ],
          [
           2003
          ],
          [
           2004
          ],
          [
           2005
          ],
          [
           2006
          ],
          [
           2007
          ],
          [
           2008
          ],
          [
           2009
          ],
          [
           2010
          ],
          [
           2011
          ],
          [
           2012
          ],
          [
           2013
          ],
          [
           2014
          ],
          [
           2015
          ],
          [
           2016
          ],
          [
           2017
          ],
          [
           2018
          ],
          [
           2019
          ],
          [
           2020
          ],
          [
           2021
          ],
          [
           2022
          ],
          [
           2023
          ]
         ],
         "hovertemplate": "Postal Code=%{x}<br>Density of Population (Population per km^2)=%{y}<br>Year=%{customdata[0]}<extra></extra>",
         "legendgroup": "1140",
         "marker": {
          "color": "#ab63fa",
          "symbol": "circle"
         },
         "mode": "markers",
         "name": "1140",
         "orientation": "v",
         "showlegend": true,
         "type": "scatter",
         "x": [
          "1140",
          "1140",
          "1140",
          "1140",
          "1140",
          "1140",
          "1140",
          "1140",
          "1140",
          "1140",
          "1140",
          "1140",
          "1140",
          "1140",
          "1140",
          "1140",
          "1140",
          "1140",
          "1140",
          "1140",
          "1140",
          "1140"
         ],
         "xaxis": "x",
         "y": [
          2344.03,
          2374.92,
          2384.4,
          2422.31,
          2453.23,
          2465.58,
          2480.54,
          2487.32,
          2490.58,
          2504.68,
          2516.73,
          2554.49,
          2594.45,
          2644.98,
          2712.89,
          2734.84,
          2747.13,
          2754.18,
          2773.25,
          2765.31,
          2754.15,
          2867.85
         ],
         "yaxis": "y"
        },
        {
         "customdata": [
          [
           2002
          ],
          [
           2003
          ],
          [
           2004
          ],
          [
           2005
          ],
          [
           2006
          ],
          [
           2007
          ],
          [
           2008
          ],
          [
           2009
          ],
          [
           2010
          ],
          [
           2011
          ],
          [
           2012
          ],
          [
           2013
          ],
          [
           2014
          ],
          [
           2015
          ],
          [
           2016
          ],
          [
           2017
          ],
          [
           2018
          ],
          [
           2019
          ],
          [
           2020
          ],
          [
           2021
          ],
          [
           2022
          ],
          [
           2023
          ]
         ],
         "hovertemplate": "Postal Code=%{x}<br>Density of Population (Population per km^2)=%{y}<br>Year=%{customdata[0]}<extra></extra>",
         "legendgroup": "1150",
         "marker": {
          "color": "#FFA15A",
          "symbol": "circle"
         },
         "mode": "markers",
         "name": "1150",
         "orientation": "v",
         "showlegend": true,
         "type": "scatter",
         "x": [
          "1150",
          "1150",
          "1150",
          "1150",
          "1150",
          "1150",
          "1150",
          "1150",
          "1150",
          "1150",
          "1150",
          "1150",
          "1150",
          "1150",
          "1150",
          "1150",
          "1150",
          "1150",
          "1150",
          "1150",
          "1150",
          "1150"
         ],
         "xaxis": "x",
         "y": [
          17221.55,
          17347.62,
          17547.7,
          17728.12,
          17924.12,
          17922.33,
          17938.41,
          18017.27,
          18075.96,
          18244.65,
          18285.48,
          18764.24,
          19086.82,
          19477.02,
          19994.83,
          20160.71,
          20168.37,
          19809.04,
          19602.84,
          19430.32,
          19302.21,
          19423.18
         ],
         "yaxis": "y"
        },
        {
         "customdata": [
          [
           2002
          ],
          [
           2003
          ],
          [
           2004
          ],
          [
           2005
          ],
          [
           2006
          ],
          [
           2007
          ],
          [
           2008
          ],
          [
           2009
          ],
          [
           2010
          ],
          [
           2011
          ],
          [
           2012
          ],
          [
           2013
          ],
          [
           2014
          ],
          [
           2015
          ],
          [
           2016
          ],
          [
           2017
          ],
          [
           2018
          ],
          [
           2019
          ],
          [
           2020
          ],
          [
           2021
          ],
          [
           2022
          ],
          [
           2023
          ]
         ],
         "hovertemplate": "Postal Code=%{x}<br>Density of Population (Population per km^2)=%{y}<br>Year=%{customdata[0]}<extra></extra>",
         "legendgroup": "1160",
         "marker": {
          "color": "#19d3f3",
          "symbol": "circle"
         },
         "mode": "markers",
         "name": "1160",
         "orientation": "v",
         "showlegend": true,
         "type": "scatter",
         "x": [
          "1160",
          "1160",
          "1160",
          "1160",
          "1160",
          "1160",
          "1160",
          "1160",
          "1160",
          "1160",
          "1160",
          "1160",
          "1160",
          "1160",
          "1160",
          "1160",
          "1160",
          "1160",
          "1160",
          "1160",
          "1160",
          "1160"
         ],
         "xaxis": "x",
         "y": [
          10136.46,
          10279.32,
          10356.45,
          10607.23,
          10817.07,
          10823.99,
          10860.43,
          10898.82,
          10932.26,
          10947.82,
          11034.64,
          11249.22,
          11425.51,
          11615.06,
          11830.33,
          12028.41,
          12063.46,
          11966.38,
          11889.36,
          11815.92,
          11718.83,
          11811.76
         ],
         "yaxis": "y"
        },
        {
         "customdata": [
          [
           2002
          ],
          [
           2003
          ],
          [
           2004
          ],
          [
           2005
          ],
          [
           2006
          ],
          [
           2007
          ],
          [
           2008
          ],
          [
           2009
          ],
          [
           2010
          ],
          [
           2011
          ],
          [
           2012
          ],
          [
           2013
          ],
          [
           2014
          ],
          [
           2015
          ],
          [
           2016
          ],
          [
           2017
          ],
          [
           2018
          ],
          [
           2019
          ],
          [
           2020
          ],
          [
           2021
          ],
          [
           2022
          ],
          [
           2023
          ]
         ],
         "hovertemplate": "Postal Code=%{x}<br>Density of Population (Population per km^2)=%{y}<br>Year=%{customdata[0]}<extra></extra>",
         "legendgroup": "1170",
         "marker": {
          "color": "#FF6692",
          "symbol": "circle"
         },
         "mode": "markers",
         "name": "1170",
         "orientation": "v",
         "showlegend": true,
         "type": "scatter",
         "x": [
          "1170",
          "1170",
          "1170",
          "1170",
          "1170",
          "1170",
          "1170",
          "1170",
          "1170",
          "1170",
          "1170",
          "1170",
          "1170",
          "1170",
          "1170",
          "1170",
          "1170",
          "1170",
          "1170",
          "1170",
          "1170",
          "1170"
         ],
         "xaxis": "x",
         "y": [
          4286.38,
          4339.14,
          4413.76,
          4504.88,
          4607.07,
          4619.88,
          4601.27,
          4587.14,
          4593.72,
          4590.65,
          4621.73,
          4695.64,
          4777.55,
          4883.42,
          4944.96,
          5019.66,
          5051.79,
          5029.5,
          5006.23,
          4958.92,
          4917.3,
          4918.97
         ],
         "yaxis": "y"
        },
        {
         "customdata": [
          [
           2002
          ],
          [
           2003
          ],
          [
           2004
          ],
          [
           2005
          ],
          [
           2006
          ],
          [
           2007
          ],
          [
           2008
          ],
          [
           2009
          ],
          [
           2010
          ],
          [
           2011
          ],
          [
           2012
          ],
          [
           2013
          ],
          [
           2014
          ],
          [
           2015
          ],
          [
           2016
          ],
          [
           2017
          ],
          [
           2018
          ],
          [
           2019
          ],
          [
           2020
          ],
          [
           2021
          ],
          [
           2022
          ],
          [
           2023
          ]
         ],
         "hovertemplate": "Postal Code=%{x}<br>Density of Population (Population per km^2)=%{y}<br>Year=%{customdata[0]}<extra></extra>",
         "legendgroup": "1180",
         "marker": {
          "color": "#B6E880",
          "symbol": "circle"
         },
         "mode": "markers",
         "name": "1180",
         "orientation": "v",
         "showlegend": true,
         "type": "scatter",
         "x": [
          "1180",
          "1180",
          "1180",
          "1180",
          "1180",
          "1180",
          "1180",
          "1180",
          "1180",
          "1180",
          "1180",
          "1180",
          "1180",
          "1180",
          "1180",
          "1180",
          "1180",
          "1180",
          "1180",
          "1180",
          "1180",
          "1180"
         ],
         "xaxis": "x",
         "y": [
          7169.3,
          7227.12,
          7295.97,
          7392.39,
          7450.68,
          7457.3,
          7480.14,
          7502.36,
          7514.02,
          7495.43,
          7504.41,
          7587.91,
          7619.89,
          7747.98,
          7922.07,
          8055.2,
          8136.97,
          8127.52,
          8113.34,
          8086.55,
          8013.77,
          8123.11
         ],
         "yaxis": "y"
        },
        {
         "customdata": [
          [
           2002
          ],
          [
           2003
          ],
          [
           2004
          ],
          [
           2005
          ],
          [
           2006
          ],
          [
           2007
          ],
          [
           2008
          ],
          [
           2009
          ],
          [
           2010
          ],
          [
           2011
          ],
          [
           2012
          ],
          [
           2013
          ],
          [
           2014
          ],
          [
           2015
          ],
          [
           2016
          ],
          [
           2017
          ],
          [
           2018
          ],
          [
           2019
          ],
          [
           2020
          ],
          [
           2021
          ],
          [
           2022
          ],
          [
           2023
          ]
         ],
         "hovertemplate": "Postal Code=%{x}<br>Density of Population (Population per km^2)=%{y}<br>Year=%{customdata[0]}<extra></extra>",
         "legendgroup": "1190",
         "marker": {
          "color": "#FF97FF",
          "symbol": "circle"
         },
         "mode": "markers",
         "name": "1190",
         "orientation": "v",
         "showlegend": true,
         "type": "scatter",
         "x": [
          "1190",
          "1190",
          "1190",
          "1190",
          "1190",
          "1190",
          "1190",
          "1190",
          "1190",
          "1190",
          "1190",
          "1190",
          "1190",
          "1190",
          "1190",
          "1190",
          "1190",
          "1190",
          "1190",
          "1190",
          "1190",
          "1190"
         ],
         "xaxis": "x",
         "y": [
          2618.96,
          2646.62,
          2663.46,
          2682.02,
          2701.62,
          2719.38,
          2724.56,
          2719.58,
          2720.71,
          2729.29,
          2744.56,
          2761.88,
          2775.91,
          2806.26,
          2870.8,
          2890.77,
          2912.54,
          2924.44,
          2962.69,
          2961.09,
          2961.57,
          3027.48
         ],
         "yaxis": "y"
        },
        {
         "customdata": [
          [
           2002
          ],
          [
           2003
          ],
          [
           2004
          ],
          [
           2005
          ],
          [
           2006
          ],
          [
           2007
          ],
          [
           2008
          ],
          [
           2009
          ],
          [
           2010
          ],
          [
           2011
          ],
          [
           2012
          ],
          [
           2013
          ],
          [
           2014
          ],
          [
           2015
          ],
          [
           2016
          ],
          [
           2017
          ],
          [
           2018
          ],
          [
           2019
          ],
          [
           2020
          ],
          [
           2021
          ],
          [
           2022
          ],
          [
           2023
          ]
         ],
         "hovertemplate": "Postal Code=%{x}<br>Density of Population (Population per km^2)=%{y}<br>Year=%{customdata[0]}<extra></extra>",
         "legendgroup": "1200",
         "marker": {
          "color": "#FECB52",
          "symbol": "circle"
         },
         "mode": "markers",
         "name": "1200",
         "orientation": "v",
         "showlegend": true,
         "type": "scatter",
         "x": [
          "1200",
          "1200",
          "1200",
          "1200",
          "1200",
          "1200",
          "1200",
          "1200",
          "1200",
          "1200",
          "1200",
          "1200",
          "1200",
          "1200",
          "1200",
          "1200",
          "1200",
          "1200",
          "1200",
          "1200",
          "1200",
          "1200"
         ],
         "xaxis": "x",
         "y": [
          13455.45,
          13797.8,
          13911.45,
          14142.08,
          14234.89,
          14310.37,
          14297.94,
          14357.13,
          14374.11,
          14529.27,
          14596.16,
          14705.78,
          14763.22,
          14976.86,
          15027.65,
          15212.05,
          15277.02,
          15147.95,
          15124.49,
          14931.16,
          14792.29,
          15005.76
         ],
         "yaxis": "y"
        },
        {
         "customdata": [
          [
           2002
          ],
          [
           2003
          ],
          [
           2004
          ],
          [
           2005
          ],
          [
           2006
          ],
          [
           2007
          ],
          [
           2008
          ],
          [
           2009
          ],
          [
           2010
          ],
          [
           2011
          ],
          [
           2012
          ],
          [
           2013
          ],
          [
           2014
          ],
          [
           2015
          ],
          [
           2016
          ],
          [
           2017
          ],
          [
           2018
          ],
          [
           2019
          ],
          [
           2020
          ],
          [
           2021
          ],
          [
           2022
          ],
          [
           2023
          ]
         ],
         "hovertemplate": "Postal Code=%{x}<br>Density of Population (Population per km^2)=%{y}<br>Year=%{customdata[0]}<extra></extra>",
         "legendgroup": "1210",
         "marker": {
          "color": "#636efa",
          "symbol": "circle"
         },
         "mode": "markers",
         "name": "1210",
         "orientation": "v",
         "showlegend": true,
         "type": "scatter",
         "x": [
          "1210",
          "1210",
          "1210",
          "1210",
          "1210",
          "1210",
          "1210",
          "1210",
          "1210",
          "1210",
          "1210",
          "1210",
          "1210",
          "1210",
          "1210",
          "1210",
          "1210",
          "1210",
          "1210",
          "1210",
          "1210",
          "1210"
         ],
         "xaxis": "x",
         "y": [
          2918.91,
          2967.65,
          3010.6,
          3035.42,
          3074.15,
          3090.12,
          3120.34,
          3138.79,
          3164.64,
          3199.56,
          3246.01,
          3296.7,
          3351.4,
          3416.58,
          3509.78,
          3571.12,
          3662.63,
          3727.74,
          3779.38,
          3913.22,
          4009.27,
          4137.75
         ],
         "yaxis": "y"
        },
        {
         "customdata": [
          [
           2002
          ],
          [
           2003
          ],
          [
           2004
          ],
          [
           2005
          ],
          [
           2006
          ],
          [
           2007
          ],
          [
           2008
          ],
          [
           2009
          ],
          [
           2010
          ],
          [
           2011
          ],
          [
           2012
          ],
          [
           2013
          ],
          [
           2014
          ],
          [
           2015
          ],
          [
           2016
          ],
          [
           2017
          ],
          [
           2018
          ],
          [
           2019
          ],
          [
           2020
          ],
          [
           2021
          ],
          [
           2022
          ],
          [
           2023
          ]
         ],
         "hovertemplate": "Postal Code=%{x}<br>Density of Population (Population per km^2)=%{y}<br>Year=%{customdata[0]}<extra></extra>",
         "legendgroup": "1220",
         "marker": {
          "color": "#EF553B",
          "symbol": "circle"
         },
         "mode": "markers",
         "name": "1220",
         "orientation": "v",
         "showlegend": true,
         "type": "scatter",
         "x": [
          "1220",
          "1220",
          "1220",
          "1220",
          "1220",
          "1220",
          "1220",
          "1220",
          "1220",
          "1220",
          "1220",
          "1220",
          "1220",
          "1220",
          "1220",
          "1220",
          "1220",
          "1220",
          "1220",
          "1220",
          "1220",
          "1220"
         ],
         "xaxis": "x",
         "y": [
          1349.96,
          1372.48,
          1394.14,
          1415.65,
          1435.9,
          1457.32,
          1475.74,
          1497.06,
          1520.31,
          1548.56,
          1583.17,
          1615.5,
          1646.09,
          1690.9,
          1762.2,
          1800.48,
          1828.03,
          1867.15,
          1908.42,
          1943.37,
          1992.41,
          2078.78
         ],
         "yaxis": "y"
        },
        {
         "customdata": [
          [
           2002
          ],
          [
           2003
          ],
          [
           2004
          ],
          [
           2005
          ],
          [
           2006
          ],
          [
           2007
          ],
          [
           2008
          ],
          [
           2009
          ],
          [
           2010
          ],
          [
           2011
          ],
          [
           2012
          ],
          [
           2013
          ],
          [
           2014
          ],
          [
           2015
          ],
          [
           2016
          ],
          [
           2017
          ],
          [
           2018
          ],
          [
           2019
          ],
          [
           2020
          ],
          [
           2021
          ],
          [
           2022
          ],
          [
           2023
          ]
         ],
         "hovertemplate": "Postal Code=%{x}<br>Density of Population (Population per km^2)=%{y}<br>Year=%{customdata[0]}<extra></extra>",
         "legendgroup": "1230",
         "marker": {
          "color": "#00cc96",
          "symbol": "circle"
         },
         "mode": "markers",
         "name": "1230",
         "orientation": "v",
         "showlegend": true,
         "type": "scatter",
         "x": [
          "1230",
          "1230",
          "1230",
          "1230",
          "1230",
          "1230",
          "1230",
          "1230",
          "1230",
          "1230",
          "1230",
          "1230",
          "1230",
          "1230",
          "1230",
          "1230",
          "1230",
          "1230",
          "1230",
          "1230",
          "1230",
          "1230"
         ],
         "xaxis": "x",
         "y": [
          2675.81,
          2697.48,
          2716.01,
          2735.85,
          2778.33,
          2816.16,
          2844.26,
          2857.71,
          2877.33,
          2912.32,
          2946.47,
          2971.24,
          2997.16,
          3018.4,
          3068.8,
          3151.83,
          3239.66,
          3314.89,
          3445.35,
          3487.4,
          3592.26,
          3676.72
         ],
         "yaxis": "y"
        }
       ],
       "layout": {
        "height": 650,
        "legend": {
         "title": {
          "text": "Postal Code"
         },
         "tracegroupgap": 0
        },
        "template": {
         "data": {
          "bar": [
           {
            "error_x": {
             "color": "#2a3f5f"
            },
            "error_y": {
             "color": "#2a3f5f"
            },
            "marker": {
             "line": {
              "color": "#E5ECF6",
              "width": 0.5
             },
             "pattern": {
              "fillmode": "overlay",
              "size": 10,
              "solidity": 0.2
             }
            },
            "type": "bar"
           }
          ],
          "barpolar": [
           {
            "marker": {
             "line": {
              "color": "#E5ECF6",
              "width": 0.5
             },
             "pattern": {
              "fillmode": "overlay",
              "size": 10,
              "solidity": 0.2
             }
            },
            "type": "barpolar"
           }
          ],
          "carpet": [
           {
            "aaxis": {
             "endlinecolor": "#2a3f5f",
             "gridcolor": "white",
             "linecolor": "white",
             "minorgridcolor": "white",
             "startlinecolor": "#2a3f5f"
            },
            "baxis": {
             "endlinecolor": "#2a3f5f",
             "gridcolor": "white",
             "linecolor": "white",
             "minorgridcolor": "white",
             "startlinecolor": "#2a3f5f"
            },
            "type": "carpet"
           }
          ],
          "choropleth": [
           {
            "colorbar": {
             "outlinewidth": 0,
             "ticks": ""
            },
            "type": "choropleth"
           }
          ],
          "contour": [
           {
            "colorbar": {
             "outlinewidth": 0,
             "ticks": ""
            },
            "colorscale": [
             [
              0,
              "#0d0887"
             ],
             [
              0.1111111111111111,
              "#46039f"
             ],
             [
              0.2222222222222222,
              "#7201a8"
             ],
             [
              0.3333333333333333,
              "#9c179e"
             ],
             [
              0.4444444444444444,
              "#bd3786"
             ],
             [
              0.5555555555555556,
              "#d8576b"
             ],
             [
              0.6666666666666666,
              "#ed7953"
             ],
             [
              0.7777777777777778,
              "#fb9f3a"
             ],
             [
              0.8888888888888888,
              "#fdca26"
             ],
             [
              1,
              "#f0f921"
             ]
            ],
            "type": "contour"
           }
          ],
          "contourcarpet": [
           {
            "colorbar": {
             "outlinewidth": 0,
             "ticks": ""
            },
            "type": "contourcarpet"
           }
          ],
          "heatmap": [
           {
            "colorbar": {
             "outlinewidth": 0,
             "ticks": ""
            },
            "colorscale": [
             [
              0,
              "#0d0887"
             ],
             [
              0.1111111111111111,
              "#46039f"
             ],
             [
              0.2222222222222222,
              "#7201a8"
             ],
             [
              0.3333333333333333,
              "#9c179e"
             ],
             [
              0.4444444444444444,
              "#bd3786"
             ],
             [
              0.5555555555555556,
              "#d8576b"
             ],
             [
              0.6666666666666666,
              "#ed7953"
             ],
             [
              0.7777777777777778,
              "#fb9f3a"
             ],
             [
              0.8888888888888888,
              "#fdca26"
             ],
             [
              1,
              "#f0f921"
             ]
            ],
            "type": "heatmap"
           }
          ],
          "heatmapgl": [
           {
            "colorbar": {
             "outlinewidth": 0,
             "ticks": ""
            },
            "colorscale": [
             [
              0,
              "#0d0887"
             ],
             [
              0.1111111111111111,
              "#46039f"
             ],
             [
              0.2222222222222222,
              "#7201a8"
             ],
             [
              0.3333333333333333,
              "#9c179e"
             ],
             [
              0.4444444444444444,
              "#bd3786"
             ],
             [
              0.5555555555555556,
              "#d8576b"
             ],
             [
              0.6666666666666666,
              "#ed7953"
             ],
             [
              0.7777777777777778,
              "#fb9f3a"
             ],
             [
              0.8888888888888888,
              "#fdca26"
             ],
             [
              1,
              "#f0f921"
             ]
            ],
            "type": "heatmapgl"
           }
          ],
          "histogram": [
           {
            "marker": {
             "pattern": {
              "fillmode": "overlay",
              "size": 10,
              "solidity": 0.2
             }
            },
            "type": "histogram"
           }
          ],
          "histogram2d": [
           {
            "colorbar": {
             "outlinewidth": 0,
             "ticks": ""
            },
            "colorscale": [
             [
              0,
              "#0d0887"
             ],
             [
              0.1111111111111111,
              "#46039f"
             ],
             [
              0.2222222222222222,
              "#7201a8"
             ],
             [
              0.3333333333333333,
              "#9c179e"
             ],
             [
              0.4444444444444444,
              "#bd3786"
             ],
             [
              0.5555555555555556,
              "#d8576b"
             ],
             [
              0.6666666666666666,
              "#ed7953"
             ],
             [
              0.7777777777777778,
              "#fb9f3a"
             ],
             [
              0.8888888888888888,
              "#fdca26"
             ],
             [
              1,
              "#f0f921"
             ]
            ],
            "type": "histogram2d"
           }
          ],
          "histogram2dcontour": [
           {
            "colorbar": {
             "outlinewidth": 0,
             "ticks": ""
            },
            "colorscale": [
             [
              0,
              "#0d0887"
             ],
             [
              0.1111111111111111,
              "#46039f"
             ],
             [
              0.2222222222222222,
              "#7201a8"
             ],
             [
              0.3333333333333333,
              "#9c179e"
             ],
             [
              0.4444444444444444,
              "#bd3786"
             ],
             [
              0.5555555555555556,
              "#d8576b"
             ],
             [
              0.6666666666666666,
              "#ed7953"
             ],
             [
              0.7777777777777778,
              "#fb9f3a"
             ],
             [
              0.8888888888888888,
              "#fdca26"
             ],
             [
              1,
              "#f0f921"
             ]
            ],
            "type": "histogram2dcontour"
           }
          ],
          "mesh3d": [
           {
            "colorbar": {
             "outlinewidth": 0,
             "ticks": ""
            },
            "type": "mesh3d"
           }
          ],
          "parcoords": [
           {
            "line": {
             "colorbar": {
              "outlinewidth": 0,
              "ticks": ""
             }
            },
            "type": "parcoords"
           }
          ],
          "pie": [
           {
            "automargin": true,
            "type": "pie"
           }
          ],
          "scatter": [
           {
            "fillpattern": {
             "fillmode": "overlay",
             "size": 10,
             "solidity": 0.2
            },
            "type": "scatter"
           }
          ],
          "scatter3d": [
           {
            "line": {
             "colorbar": {
              "outlinewidth": 0,
              "ticks": ""
             }
            },
            "marker": {
             "colorbar": {
              "outlinewidth": 0,
              "ticks": ""
             }
            },
            "type": "scatter3d"
           }
          ],
          "scattercarpet": [
           {
            "marker": {
             "colorbar": {
              "outlinewidth": 0,
              "ticks": ""
             }
            },
            "type": "scattercarpet"
           }
          ],
          "scattergeo": [
           {
            "marker": {
             "colorbar": {
              "outlinewidth": 0,
              "ticks": ""
             }
            },
            "type": "scattergeo"
           }
          ],
          "scattergl": [
           {
            "marker": {
             "colorbar": {
              "outlinewidth": 0,
              "ticks": ""
             }
            },
            "type": "scattergl"
           }
          ],
          "scattermapbox": [
           {
            "marker": {
             "colorbar": {
              "outlinewidth": 0,
              "ticks": ""
             }
            },
            "type": "scattermapbox"
           }
          ],
          "scatterpolar": [
           {
            "marker": {
             "colorbar": {
              "outlinewidth": 0,
              "ticks": ""
             }
            },
            "type": "scatterpolar"
           }
          ],
          "scatterpolargl": [
           {
            "marker": {
             "colorbar": {
              "outlinewidth": 0,
              "ticks": ""
             }
            },
            "type": "scatterpolargl"
           }
          ],
          "scatterternary": [
           {
            "marker": {
             "colorbar": {
              "outlinewidth": 0,
              "ticks": ""
             }
            },
            "type": "scatterternary"
           }
          ],
          "surface": [
           {
            "colorbar": {
             "outlinewidth": 0,
             "ticks": ""
            },
            "colorscale": [
             [
              0,
              "#0d0887"
             ],
             [
              0.1111111111111111,
              "#46039f"
             ],
             [
              0.2222222222222222,
              "#7201a8"
             ],
             [
              0.3333333333333333,
              "#9c179e"
             ],
             [
              0.4444444444444444,
              "#bd3786"
             ],
             [
              0.5555555555555556,
              "#d8576b"
             ],
             [
              0.6666666666666666,
              "#ed7953"
             ],
             [
              0.7777777777777778,
              "#fb9f3a"
             ],
             [
              0.8888888888888888,
              "#fdca26"
             ],
             [
              1,
              "#f0f921"
             ]
            ],
            "type": "surface"
           }
          ],
          "table": [
           {
            "cells": {
             "fill": {
              "color": "#EBF0F8"
             },
             "line": {
              "color": "white"
             }
            },
            "header": {
             "fill": {
              "color": "#C8D4E3"
             },
             "line": {
              "color": "white"
             }
            },
            "type": "table"
           }
          ]
         },
         "layout": {
          "annotationdefaults": {
           "arrowcolor": "#2a3f5f",
           "arrowhead": 0,
           "arrowwidth": 1
          },
          "autotypenumbers": "strict",
          "coloraxis": {
           "colorbar": {
            "outlinewidth": 0,
            "ticks": ""
           }
          },
          "colorscale": {
           "diverging": [
            [
             0,
             "#8e0152"
            ],
            [
             0.1,
             "#c51b7d"
            ],
            [
             0.2,
             "#de77ae"
            ],
            [
             0.3,
             "#f1b6da"
            ],
            [
             0.4,
             "#fde0ef"
            ],
            [
             0.5,
             "#f7f7f7"
            ],
            [
             0.6,
             "#e6f5d0"
            ],
            [
             0.7,
             "#b8e186"
            ],
            [
             0.8,
             "#7fbc41"
            ],
            [
             0.9,
             "#4d9221"
            ],
            [
             1,
             "#276419"
            ]
           ],
           "sequential": [
            [
             0,
             "#0d0887"
            ],
            [
             0.1111111111111111,
             "#46039f"
            ],
            [
             0.2222222222222222,
             "#7201a8"
            ],
            [
             0.3333333333333333,
             "#9c179e"
            ],
            [
             0.4444444444444444,
             "#bd3786"
            ],
            [
             0.5555555555555556,
             "#d8576b"
            ],
            [
             0.6666666666666666,
             "#ed7953"
            ],
            [
             0.7777777777777778,
             "#fb9f3a"
            ],
            [
             0.8888888888888888,
             "#fdca26"
            ],
            [
             1,
             "#f0f921"
            ]
           ],
           "sequentialminus": [
            [
             0,
             "#0d0887"
            ],
            [
             0.1111111111111111,
             "#46039f"
            ],
            [
             0.2222222222222222,
             "#7201a8"
            ],
            [
             0.3333333333333333,
             "#9c179e"
            ],
            [
             0.4444444444444444,
             "#bd3786"
            ],
            [
             0.5555555555555556,
             "#d8576b"
            ],
            [
             0.6666666666666666,
             "#ed7953"
            ],
            [
             0.7777777777777778,
             "#fb9f3a"
            ],
            [
             0.8888888888888888,
             "#fdca26"
            ],
            [
             1,
             "#f0f921"
            ]
           ]
          },
          "colorway": [
           "#636efa",
           "#EF553B",
           "#00cc96",
           "#ab63fa",
           "#FFA15A",
           "#19d3f3",
           "#FF6692",
           "#B6E880",
           "#FF97FF",
           "#FECB52"
          ],
          "font": {
           "color": "#2a3f5f"
          },
          "geo": {
           "bgcolor": "white",
           "lakecolor": "white",
           "landcolor": "#E5ECF6",
           "showlakes": true,
           "showland": true,
           "subunitcolor": "white"
          },
          "hoverlabel": {
           "align": "left"
          },
          "hovermode": "closest",
          "mapbox": {
           "style": "light"
          },
          "paper_bgcolor": "white",
          "plot_bgcolor": "#E5ECF6",
          "polar": {
           "angularaxis": {
            "gridcolor": "white",
            "linecolor": "white",
            "ticks": ""
           },
           "bgcolor": "#E5ECF6",
           "radialaxis": {
            "gridcolor": "white",
            "linecolor": "white",
            "ticks": ""
           }
          },
          "scene": {
           "xaxis": {
            "backgroundcolor": "#E5ECF6",
            "gridcolor": "white",
            "gridwidth": 2,
            "linecolor": "white",
            "showbackground": true,
            "ticks": "",
            "zerolinecolor": "white"
           },
           "yaxis": {
            "backgroundcolor": "#E5ECF6",
            "gridcolor": "white",
            "gridwidth": 2,
            "linecolor": "white",
            "showbackground": true,
            "ticks": "",
            "zerolinecolor": "white"
           },
           "zaxis": {
            "backgroundcolor": "#E5ECF6",
            "gridcolor": "white",
            "gridwidth": 2,
            "linecolor": "white",
            "showbackground": true,
            "ticks": "",
            "zerolinecolor": "white"
           }
          },
          "shapedefaults": {
           "line": {
            "color": "#2a3f5f"
           }
          },
          "ternary": {
           "aaxis": {
            "gridcolor": "white",
            "linecolor": "white",
            "ticks": ""
           },
           "baxis": {
            "gridcolor": "white",
            "linecolor": "white",
            "ticks": ""
           },
           "bgcolor": "#E5ECF6",
           "caxis": {
            "gridcolor": "white",
            "linecolor": "white",
            "ticks": ""
           }
          },
          "title": {
           "x": 0.05
          },
          "xaxis": {
           "automargin": true,
           "gridcolor": "white",
           "linecolor": "white",
           "ticks": "",
           "title": {
            "standoff": 15
           },
           "zerolinecolor": "white",
           "zerolinewidth": 2
          },
          "yaxis": {
           "automargin": true,
           "gridcolor": "white",
           "linecolor": "white",
           "ticks": "",
           "title": {
            "standoff": 15
           },
           "zerolinecolor": "white",
           "zerolinewidth": 2
          }
         }
        },
        "title": {
         "text": "Population Density in each District from 2002 to 2023"
        },
        "width": 800,
        "xaxis": {
         "anchor": "y",
         "categoryarray": [
          "1010",
          "1020",
          "1030",
          "1040",
          "1050",
          "1060",
          "1070",
          "1080",
          "1090",
          "1100",
          "1110",
          "1120",
          "1130",
          "1140",
          "1150",
          "1160",
          "1170",
          "1180",
          "1190",
          "1200",
          "1210",
          "1220",
          "1230"
         ],
         "categoryorder": "array",
         "domain": [
          0,
          1
         ],
         "title": {
          "text": "Postal Code"
         }
        },
        "yaxis": {
         "anchor": "x",
         "domain": [
          0,
          1
         ],
         "title": {
          "text": "Density of Population (Population per km^2)"
         }
        }
       }
      }
     },
     "metadata": {},
     "output_type": "display_data"
    }
   ],
   "source": [
    "#Plot the population density for each district\n",
    "#Need to exclude rows that show data for whole of Vienna\n",
    "df_h4_dogs_pop_dist = df_h4_dogs_pop[df_h4_dogs_pop['DISTRICT_CODE']!=90000]\n",
    "\n",
    "fig = px.scatter(df_h4_dogs_pop_dist, x='Postal_CODE', y='POP_DENSITY',\n",
    "              color='Postal_CODE',\n",
    "              hover_data='REF_YEAR',\n",
    "              width=800, height=650,\n",
    "                 labels={\n",
    "                     \"POP_DENSITY\": \"Density of Population (Population per km^2)\",\n",
    "                     \"Postal_CODE\": \"Postal Code\",\n",
    "                     \"REF_YEAR\": \"Year\"\n",
    "                  },\n",
    "              title='Population Density in each District from 2002 to 2023')\n",
    "fig.show()"
   ]
  },
  {
   "cell_type": "markdown",
   "id": "d75f2ad4",
   "metadata": {},
   "source": [
    "To find out if there is a correlation between the number of dogs and the population density we can plot the number of dogs in each district and the population density for those districts against each other"
   ]
  },
  {
   "cell_type": "code",
   "execution_count": 252,
   "id": "aa88b5b6",
   "metadata": {},
   "outputs": [
    {
     "data": {
      "application/vnd.plotly.v1+json": {
       "config": {
        "plotlyServerURL": "https://plot.ly"
       },
       "data": [
        {
         "customdata": [
          [
           "1010"
          ]
         ],
         "hovertemplate": "Postal Code=%{customdata[0]}<br>Density of Population=%{x}<br>Number of Dogs=%{y}<extra></extra>",
         "legendgroup": "1010",
         "marker": {
          "color": "#636efa",
          "size": 10,
          "symbol": "circle"
         },
         "mode": "markers",
         "name": "1010",
         "orientation": "v",
         "showlegend": true,
         "type": "scatter",
         "x": [
          5793.42
         ],
         "xaxis": "x",
         "y": [
          497
         ],
         "yaxis": "y"
        },
        {
         "customdata": [
          [
           "1020"
          ]
         ],
         "hovertemplate": "Postal Code=%{customdata[0]}<br>Density of Population=%{x}<br>Number of Dogs=%{y}<extra></extra>",
         "legendgroup": "1020",
         "marker": {
          "color": "#EF553B",
          "size": 10,
          "symbol": "circle"
         },
         "mode": "markers",
         "name": "1020",
         "orientation": "v",
         "showlegend": true,
         "type": "scatter",
         "x": [
          5626.7
         ],
         "xaxis": "x",
         "y": [
          2659
         ],
         "yaxis": "y"
        },
        {
         "customdata": [
          [
           "1030"
          ]
         ],
         "hovertemplate": "Postal Code=%{customdata[0]}<br>Density of Population=%{x}<br>Number of Dogs=%{y}<extra></extra>",
         "legendgroup": "1030",
         "marker": {
          "color": "#00cc96",
          "size": 10,
          "symbol": "circle"
         },
         "mode": "markers",
         "name": "1030",
         "orientation": "v",
         "showlegend": true,
         "type": "scatter",
         "x": [
          13079.13
         ],
         "xaxis": "x",
         "y": [
          2463
         ],
         "yaxis": "y"
        },
        {
         "customdata": [
          [
           "1040"
          ]
         ],
         "hovertemplate": "Postal Code=%{customdata[0]}<br>Density of Population=%{x}<br>Number of Dogs=%{y}<extra></extra>",
         "legendgroup": "1040",
         "marker": {
          "color": "#ab63fa",
          "size": 10,
          "symbol": "circle"
         },
         "mode": "markers",
         "name": "1040",
         "orientation": "v",
         "showlegend": true,
         "type": "scatter",
         "x": [
          18945.95
         ],
         "xaxis": "x",
         "y": [
          711
         ],
         "yaxis": "y"
        },
        {
         "customdata": [
          [
           "1050"
          ]
         ],
         "hovertemplate": "Postal Code=%{customdata[0]}<br>Density of Population=%{x}<br>Number of Dogs=%{y}<extra></extra>",
         "legendgroup": "1050",
         "marker": {
          "color": "#FFA15A",
          "size": 10,
          "symbol": "circle"
         },
         "mode": "markers",
         "name": "1050",
         "orientation": "v",
         "showlegend": true,
         "type": "scatter",
         "x": [
          27349.84
         ],
         "xaxis": "x",
         "y": [
          948
         ],
         "yaxis": "y"
        },
        {
         "customdata": [
          [
           "1060"
          ]
         ],
         "hovertemplate": "Postal Code=%{customdata[0]}<br>Density of Population=%{x}<br>Number of Dogs=%{y}<extra></extra>",
         "legendgroup": "1060",
         "marker": {
          "color": "#19d3f3",
          "size": 10,
          "symbol": "circle"
         },
         "mode": "markers",
         "name": "1060",
         "orientation": "v",
         "showlegend": true,
         "type": "scatter",
         "x": [
          21595.92
         ],
         "xaxis": "x",
         "y": [
          619
         ],
         "yaxis": "y"
        },
        {
         "customdata": [
          [
           "1070"
          ]
         ],
         "hovertemplate": "Postal Code=%{customdata[0]}<br>Density of Population=%{x}<br>Number of Dogs=%{y}<extra></extra>",
         "legendgroup": "1070",
         "marker": {
          "color": "#FF6692",
          "size": 10,
          "symbol": "circle"
         },
         "mode": "markers",
         "name": "1070",
         "orientation": "v",
         "showlegend": true,
         "type": "scatter",
         "x": [
          19636.9
         ],
         "xaxis": "x",
         "y": [
          641
         ],
         "yaxis": "y"
        },
        {
         "customdata": [
          [
           "1080"
          ]
         ],
         "hovertemplate": "Postal Code=%{customdata[0]}<br>Density of Population=%{x}<br>Number of Dogs=%{y}<extra></extra>",
         "legendgroup": "1080",
         "marker": {
          "color": "#B6E880",
          "size": 10,
          "symbol": "circle"
         },
         "mode": "markers",
         "name": "1080",
         "orientation": "v",
         "showlegend": true,
         "type": "scatter",
         "x": [
          22637.83
         ],
         "xaxis": "x",
         "y": [
          512
         ],
         "yaxis": "y"
        },
        {
         "customdata": [
          [
           "1090"
          ]
         ],
         "hovertemplate": "Postal Code=%{customdata[0]}<br>Density of Population=%{x}<br>Number of Dogs=%{y}<extra></extra>",
         "legendgroup": "1090",
         "marker": {
          "color": "#FF97FF",
          "size": 10,
          "symbol": "circle"
         },
         "mode": "markers",
         "name": "1090",
         "orientation": "v",
         "showlegend": true,
         "type": "scatter",
         "x": [
          14223.3
         ],
         "xaxis": "x",
         "y": [
          974
         ],
         "yaxis": "y"
        },
        {
         "customdata": [
          [
           "1100"
          ]
         ],
         "hovertemplate": "Postal Code=%{customdata[0]}<br>Density of Population=%{x}<br>Number of Dogs=%{y}<extra></extra>",
         "legendgroup": "1100",
         "marker": {
          "color": "#FECB52",
          "size": 10,
          "symbol": "circle"
         },
         "mode": "markers",
         "name": "1100",
         "orientation": "v",
         "showlegend": true,
         "type": "scatter",
         "x": [
          6862.23
         ],
         "xaxis": "x",
         "y": [
          5162
         ],
         "yaxis": "y"
        },
        {
         "customdata": [
          [
           "1110"
          ]
         ],
         "hovertemplate": "Postal Code=%{customdata[0]}<br>Density of Population=%{x}<br>Number of Dogs=%{y}<extra></extra>",
         "legendgroup": "1110",
         "marker": {
          "color": "#636efa",
          "size": 10,
          "symbol": "circle"
         },
         "mode": "markers",
         "name": "1110",
         "orientation": "v",
         "showlegend": true,
         "type": "scatter",
         "x": [
          4688.53
         ],
         "xaxis": "x",
         "y": [
          3356
         ],
         "yaxis": "y"
        },
        {
         "customdata": [
          [
           "1120"
          ]
         ],
         "hovertemplate": "Postal Code=%{customdata[0]}<br>Density of Population=%{x}<br>Number of Dogs=%{y}<extra></extra>",
         "legendgroup": "1120",
         "marker": {
          "color": "#EF553B",
          "size": 10,
          "symbol": "circle"
         },
         "mode": "markers",
         "name": "1120",
         "orientation": "v",
         "showlegend": true,
         "type": "scatter",
         "x": [
          12375.4
         ],
         "xaxis": "x",
         "y": [
          2316
         ],
         "yaxis": "y"
        },
        {
         "customdata": [
          [
           "1130"
          ]
         ],
         "hovertemplate": "Postal Code=%{customdata[0]}<br>Density of Population=%{x}<br>Number of Dogs=%{y}<extra></extra>",
         "legendgroup": "1130",
         "marker": {
          "color": "#00cc96",
          "size": 10,
          "symbol": "circle"
         },
         "mode": "markers",
         "name": "1130",
         "orientation": "v",
         "showlegend": true,
         "type": "scatter",
         "x": [
          1473.38
         ],
         "xaxis": "x",
         "y": [
          2075
         ],
         "yaxis": "y"
        },
        {
         "customdata": [
          [
           "1140"
          ]
         ],
         "hovertemplate": "Postal Code=%{customdata[0]}<br>Density of Population=%{x}<br>Number of Dogs=%{y}<extra></extra>",
         "legendgroup": "1140",
         "marker": {
          "color": "#ab63fa",
          "size": 10,
          "symbol": "circle"
         },
         "mode": "markers",
         "name": "1140",
         "orientation": "v",
         "showlegend": true,
         "type": "scatter",
         "x": [
          2867.85
         ],
         "xaxis": "x",
         "y": [
          3062
         ],
         "yaxis": "y"
        },
        {
         "customdata": [
          [
           "1150"
          ]
         ],
         "hovertemplate": "Postal Code=%{customdata[0]}<br>Density of Population=%{x}<br>Number of Dogs=%{y}<extra></extra>",
         "legendgroup": "1150",
         "marker": {
          "color": "#FFA15A",
          "size": 10,
          "symbol": "circle"
         },
         "mode": "markers",
         "name": "1150",
         "orientation": "v",
         "showlegend": true,
         "type": "scatter",
         "x": [
          19423.18
         ],
         "xaxis": "x",
         "y": [
          1383
         ],
         "yaxis": "y"
        },
        {
         "customdata": [
          [
           "1160"
          ]
         ],
         "hovertemplate": "Postal Code=%{customdata[0]}<br>Density of Population=%{x}<br>Number of Dogs=%{y}<extra></extra>",
         "legendgroup": "1160",
         "marker": {
          "color": "#19d3f3",
          "size": 10,
          "symbol": "circle"
         },
         "mode": "markers",
         "name": "1160",
         "orientation": "v",
         "showlegend": true,
         "type": "scatter",
         "x": [
          11811.76
         ],
         "xaxis": "x",
         "y": [
          2024
         ],
         "yaxis": "y"
        },
        {
         "customdata": [
          [
           "1170"
          ]
         ],
         "hovertemplate": "Postal Code=%{customdata[0]}<br>Density of Population=%{x}<br>Number of Dogs=%{y}<extra></extra>",
         "legendgroup": "1170",
         "marker": {
          "color": "#FF6692",
          "size": 10,
          "symbol": "circle"
         },
         "mode": "markers",
         "name": "1170",
         "orientation": "v",
         "showlegend": true,
         "type": "scatter",
         "x": [
          4918.97
         ],
         "xaxis": "x",
         "y": [
          1423
         ],
         "yaxis": "y"
        },
        {
         "customdata": [
          [
           "1180"
          ]
         ],
         "hovertemplate": "Postal Code=%{customdata[0]}<br>Density of Population=%{x}<br>Number of Dogs=%{y}<extra></extra>",
         "legendgroup": "1180",
         "marker": {
          "color": "#B6E880",
          "size": 10,
          "symbol": "circle"
         },
         "mode": "markers",
         "name": "1180",
         "orientation": "v",
         "showlegend": true,
         "type": "scatter",
         "x": [
          8123.11
         ],
         "xaxis": "x",
         "y": [
          1511
         ],
         "yaxis": "y"
        },
        {
         "customdata": [
          [
           "1190"
          ]
         ],
         "hovertemplate": "Postal Code=%{customdata[0]}<br>Density of Population=%{x}<br>Number of Dogs=%{y}<extra></extra>",
         "legendgroup": "1190",
         "marker": {
          "color": "#FF97FF",
          "size": 10,
          "symbol": "circle"
         },
         "mode": "markers",
         "name": "1190",
         "orientation": "v",
         "showlegend": true,
         "type": "scatter",
         "x": [
          3027.48
         ],
         "xaxis": "x",
         "y": [
          2763
         ],
         "yaxis": "y"
        },
        {
         "customdata": [
          [
           "1200"
          ]
         ],
         "hovertemplate": "Postal Code=%{customdata[0]}<br>Density of Population=%{x}<br>Number of Dogs=%{y}<extra></extra>",
         "legendgroup": "1200",
         "marker": {
          "color": "#FECB52",
          "size": 10,
          "symbol": "circle"
         },
         "mode": "markers",
         "name": "1200",
         "orientation": "v",
         "showlegend": true,
         "type": "scatter",
         "x": [
          15005.76
         ],
         "xaxis": "x",
         "y": [
          1767
         ],
         "yaxis": "y"
        },
        {
         "customdata": [
          [
           "1210"
          ]
         ],
         "hovertemplate": "Postal Code=%{customdata[0]}<br>Density of Population=%{x}<br>Number of Dogs=%{y}<extra></extra>",
         "legendgroup": "1210",
         "marker": {
          "color": "#636efa",
          "size": 10,
          "symbol": "circle"
         },
         "mode": "markers",
         "name": "1210",
         "orientation": "v",
         "showlegend": true,
         "type": "scatter",
         "x": [
          4137.75
         ],
         "xaxis": "x",
         "y": [
          7340
         ],
         "yaxis": "y"
        },
        {
         "customdata": [
          [
           "1220"
          ]
         ],
         "hovertemplate": "Postal Code=%{customdata[0]}<br>Density of Population=%{x}<br>Number of Dogs=%{y}<extra></extra>",
         "legendgroup": "1220",
         "marker": {
          "color": "#EF553B",
          "size": 10,
          "symbol": "circle"
         },
         "mode": "markers",
         "name": "1220",
         "orientation": "v",
         "showlegend": true,
         "type": "scatter",
         "x": [
          2078.78
         ],
         "xaxis": "x",
         "y": [
          9170
         ],
         "yaxis": "y"
        },
        {
         "customdata": [
          [
           "1230"
          ]
         ],
         "hovertemplate": "Postal Code=%{customdata[0]}<br>Density of Population=%{x}<br>Number of Dogs=%{y}<extra></extra>",
         "legendgroup": "1230",
         "marker": {
          "color": "#00cc96",
          "size": 10,
          "symbol": "circle"
         },
         "mode": "markers",
         "name": "1230",
         "orientation": "v",
         "showlegend": true,
         "type": "scatter",
         "x": [
          3676.72
         ],
         "xaxis": "x",
         "y": [
          4525
         ],
         "yaxis": "y"
        }
       ],
       "layout": {
        "height": 700,
        "legend": {
         "title": {
          "text": "Postal Code"
         },
         "tracegroupgap": 0
        },
        "template": {
         "data": {
          "bar": [
           {
            "error_x": {
             "color": "#2a3f5f"
            },
            "error_y": {
             "color": "#2a3f5f"
            },
            "marker": {
             "line": {
              "color": "#E5ECF6",
              "width": 0.5
             },
             "pattern": {
              "fillmode": "overlay",
              "size": 10,
              "solidity": 0.2
             }
            },
            "type": "bar"
           }
          ],
          "barpolar": [
           {
            "marker": {
             "line": {
              "color": "#E5ECF6",
              "width": 0.5
             },
             "pattern": {
              "fillmode": "overlay",
              "size": 10,
              "solidity": 0.2
             }
            },
            "type": "barpolar"
           }
          ],
          "carpet": [
           {
            "aaxis": {
             "endlinecolor": "#2a3f5f",
             "gridcolor": "white",
             "linecolor": "white",
             "minorgridcolor": "white",
             "startlinecolor": "#2a3f5f"
            },
            "baxis": {
             "endlinecolor": "#2a3f5f",
             "gridcolor": "white",
             "linecolor": "white",
             "minorgridcolor": "white",
             "startlinecolor": "#2a3f5f"
            },
            "type": "carpet"
           }
          ],
          "choropleth": [
           {
            "colorbar": {
             "outlinewidth": 0,
             "ticks": ""
            },
            "type": "choropleth"
           }
          ],
          "contour": [
           {
            "colorbar": {
             "outlinewidth": 0,
             "ticks": ""
            },
            "colorscale": [
             [
              0,
              "#0d0887"
             ],
             [
              0.1111111111111111,
              "#46039f"
             ],
             [
              0.2222222222222222,
              "#7201a8"
             ],
             [
              0.3333333333333333,
              "#9c179e"
             ],
             [
              0.4444444444444444,
              "#bd3786"
             ],
             [
              0.5555555555555556,
              "#d8576b"
             ],
             [
              0.6666666666666666,
              "#ed7953"
             ],
             [
              0.7777777777777778,
              "#fb9f3a"
             ],
             [
              0.8888888888888888,
              "#fdca26"
             ],
             [
              1,
              "#f0f921"
             ]
            ],
            "type": "contour"
           }
          ],
          "contourcarpet": [
           {
            "colorbar": {
             "outlinewidth": 0,
             "ticks": ""
            },
            "type": "contourcarpet"
           }
          ],
          "heatmap": [
           {
            "colorbar": {
             "outlinewidth": 0,
             "ticks": ""
            },
            "colorscale": [
             [
              0,
              "#0d0887"
             ],
             [
              0.1111111111111111,
              "#46039f"
             ],
             [
              0.2222222222222222,
              "#7201a8"
             ],
             [
              0.3333333333333333,
              "#9c179e"
             ],
             [
              0.4444444444444444,
              "#bd3786"
             ],
             [
              0.5555555555555556,
              "#d8576b"
             ],
             [
              0.6666666666666666,
              "#ed7953"
             ],
             [
              0.7777777777777778,
              "#fb9f3a"
             ],
             [
              0.8888888888888888,
              "#fdca26"
             ],
             [
              1,
              "#f0f921"
             ]
            ],
            "type": "heatmap"
           }
          ],
          "heatmapgl": [
           {
            "colorbar": {
             "outlinewidth": 0,
             "ticks": ""
            },
            "colorscale": [
             [
              0,
              "#0d0887"
             ],
             [
              0.1111111111111111,
              "#46039f"
             ],
             [
              0.2222222222222222,
              "#7201a8"
             ],
             [
              0.3333333333333333,
              "#9c179e"
             ],
             [
              0.4444444444444444,
              "#bd3786"
             ],
             [
              0.5555555555555556,
              "#d8576b"
             ],
             [
              0.6666666666666666,
              "#ed7953"
             ],
             [
              0.7777777777777778,
              "#fb9f3a"
             ],
             [
              0.8888888888888888,
              "#fdca26"
             ],
             [
              1,
              "#f0f921"
             ]
            ],
            "type": "heatmapgl"
           }
          ],
          "histogram": [
           {
            "marker": {
             "pattern": {
              "fillmode": "overlay",
              "size": 10,
              "solidity": 0.2
             }
            },
            "type": "histogram"
           }
          ],
          "histogram2d": [
           {
            "colorbar": {
             "outlinewidth": 0,
             "ticks": ""
            },
            "colorscale": [
             [
              0,
              "#0d0887"
             ],
             [
              0.1111111111111111,
              "#46039f"
             ],
             [
              0.2222222222222222,
              "#7201a8"
             ],
             [
              0.3333333333333333,
              "#9c179e"
             ],
             [
              0.4444444444444444,
              "#bd3786"
             ],
             [
              0.5555555555555556,
              "#d8576b"
             ],
             [
              0.6666666666666666,
              "#ed7953"
             ],
             [
              0.7777777777777778,
              "#fb9f3a"
             ],
             [
              0.8888888888888888,
              "#fdca26"
             ],
             [
              1,
              "#f0f921"
             ]
            ],
            "type": "histogram2d"
           }
          ],
          "histogram2dcontour": [
           {
            "colorbar": {
             "outlinewidth": 0,
             "ticks": ""
            },
            "colorscale": [
             [
              0,
              "#0d0887"
             ],
             [
              0.1111111111111111,
              "#46039f"
             ],
             [
              0.2222222222222222,
              "#7201a8"
             ],
             [
              0.3333333333333333,
              "#9c179e"
             ],
             [
              0.4444444444444444,
              "#bd3786"
             ],
             [
              0.5555555555555556,
              "#d8576b"
             ],
             [
              0.6666666666666666,
              "#ed7953"
             ],
             [
              0.7777777777777778,
              "#fb9f3a"
             ],
             [
              0.8888888888888888,
              "#fdca26"
             ],
             [
              1,
              "#f0f921"
             ]
            ],
            "type": "histogram2dcontour"
           }
          ],
          "mesh3d": [
           {
            "colorbar": {
             "outlinewidth": 0,
             "ticks": ""
            },
            "type": "mesh3d"
           }
          ],
          "parcoords": [
           {
            "line": {
             "colorbar": {
              "outlinewidth": 0,
              "ticks": ""
             }
            },
            "type": "parcoords"
           }
          ],
          "pie": [
           {
            "automargin": true,
            "type": "pie"
           }
          ],
          "scatter": [
           {
            "fillpattern": {
             "fillmode": "overlay",
             "size": 10,
             "solidity": 0.2
            },
            "type": "scatter"
           }
          ],
          "scatter3d": [
           {
            "line": {
             "colorbar": {
              "outlinewidth": 0,
              "ticks": ""
             }
            },
            "marker": {
             "colorbar": {
              "outlinewidth": 0,
              "ticks": ""
             }
            },
            "type": "scatter3d"
           }
          ],
          "scattercarpet": [
           {
            "marker": {
             "colorbar": {
              "outlinewidth": 0,
              "ticks": ""
             }
            },
            "type": "scattercarpet"
           }
          ],
          "scattergeo": [
           {
            "marker": {
             "colorbar": {
              "outlinewidth": 0,
              "ticks": ""
             }
            },
            "type": "scattergeo"
           }
          ],
          "scattergl": [
           {
            "marker": {
             "colorbar": {
              "outlinewidth": 0,
              "ticks": ""
             }
            },
            "type": "scattergl"
           }
          ],
          "scattermapbox": [
           {
            "marker": {
             "colorbar": {
              "outlinewidth": 0,
              "ticks": ""
             }
            },
            "type": "scattermapbox"
           }
          ],
          "scatterpolar": [
           {
            "marker": {
             "colorbar": {
              "outlinewidth": 0,
              "ticks": ""
             }
            },
            "type": "scatterpolar"
           }
          ],
          "scatterpolargl": [
           {
            "marker": {
             "colorbar": {
              "outlinewidth": 0,
              "ticks": ""
             }
            },
            "type": "scatterpolargl"
           }
          ],
          "scatterternary": [
           {
            "marker": {
             "colorbar": {
              "outlinewidth": 0,
              "ticks": ""
             }
            },
            "type": "scatterternary"
           }
          ],
          "surface": [
           {
            "colorbar": {
             "outlinewidth": 0,
             "ticks": ""
            },
            "colorscale": [
             [
              0,
              "#0d0887"
             ],
             [
              0.1111111111111111,
              "#46039f"
             ],
             [
              0.2222222222222222,
              "#7201a8"
             ],
             [
              0.3333333333333333,
              "#9c179e"
             ],
             [
              0.4444444444444444,
              "#bd3786"
             ],
             [
              0.5555555555555556,
              "#d8576b"
             ],
             [
              0.6666666666666666,
              "#ed7953"
             ],
             [
              0.7777777777777778,
              "#fb9f3a"
             ],
             [
              0.8888888888888888,
              "#fdca26"
             ],
             [
              1,
              "#f0f921"
             ]
            ],
            "type": "surface"
           }
          ],
          "table": [
           {
            "cells": {
             "fill": {
              "color": "#EBF0F8"
             },
             "line": {
              "color": "white"
             }
            },
            "header": {
             "fill": {
              "color": "#C8D4E3"
             },
             "line": {
              "color": "white"
             }
            },
            "type": "table"
           }
          ]
         },
         "layout": {
          "annotationdefaults": {
           "arrowcolor": "#2a3f5f",
           "arrowhead": 0,
           "arrowwidth": 1
          },
          "autotypenumbers": "strict",
          "coloraxis": {
           "colorbar": {
            "outlinewidth": 0,
            "ticks": ""
           }
          },
          "colorscale": {
           "diverging": [
            [
             0,
             "#8e0152"
            ],
            [
             0.1,
             "#c51b7d"
            ],
            [
             0.2,
             "#de77ae"
            ],
            [
             0.3,
             "#f1b6da"
            ],
            [
             0.4,
             "#fde0ef"
            ],
            [
             0.5,
             "#f7f7f7"
            ],
            [
             0.6,
             "#e6f5d0"
            ],
            [
             0.7,
             "#b8e186"
            ],
            [
             0.8,
             "#7fbc41"
            ],
            [
             0.9,
             "#4d9221"
            ],
            [
             1,
             "#276419"
            ]
           ],
           "sequential": [
            [
             0,
             "#0d0887"
            ],
            [
             0.1111111111111111,
             "#46039f"
            ],
            [
             0.2222222222222222,
             "#7201a8"
            ],
            [
             0.3333333333333333,
             "#9c179e"
            ],
            [
             0.4444444444444444,
             "#bd3786"
            ],
            [
             0.5555555555555556,
             "#d8576b"
            ],
            [
             0.6666666666666666,
             "#ed7953"
            ],
            [
             0.7777777777777778,
             "#fb9f3a"
            ],
            [
             0.8888888888888888,
             "#fdca26"
            ],
            [
             1,
             "#f0f921"
            ]
           ],
           "sequentialminus": [
            [
             0,
             "#0d0887"
            ],
            [
             0.1111111111111111,
             "#46039f"
            ],
            [
             0.2222222222222222,
             "#7201a8"
            ],
            [
             0.3333333333333333,
             "#9c179e"
            ],
            [
             0.4444444444444444,
             "#bd3786"
            ],
            [
             0.5555555555555556,
             "#d8576b"
            ],
            [
             0.6666666666666666,
             "#ed7953"
            ],
            [
             0.7777777777777778,
             "#fb9f3a"
            ],
            [
             0.8888888888888888,
             "#fdca26"
            ],
            [
             1,
             "#f0f921"
            ]
           ]
          },
          "colorway": [
           "#636efa",
           "#EF553B",
           "#00cc96",
           "#ab63fa",
           "#FFA15A",
           "#19d3f3",
           "#FF6692",
           "#B6E880",
           "#FF97FF",
           "#FECB52"
          ],
          "font": {
           "color": "#2a3f5f"
          },
          "geo": {
           "bgcolor": "white",
           "lakecolor": "white",
           "landcolor": "#E5ECF6",
           "showlakes": true,
           "showland": true,
           "subunitcolor": "white"
          },
          "hoverlabel": {
           "align": "left"
          },
          "hovermode": "closest",
          "mapbox": {
           "style": "light"
          },
          "paper_bgcolor": "white",
          "plot_bgcolor": "#E5ECF6",
          "polar": {
           "angularaxis": {
            "gridcolor": "white",
            "linecolor": "white",
            "ticks": ""
           },
           "bgcolor": "#E5ECF6",
           "radialaxis": {
            "gridcolor": "white",
            "linecolor": "white",
            "ticks": ""
           }
          },
          "scene": {
           "xaxis": {
            "backgroundcolor": "#E5ECF6",
            "gridcolor": "white",
            "gridwidth": 2,
            "linecolor": "white",
            "showbackground": true,
            "ticks": "",
            "zerolinecolor": "white"
           },
           "yaxis": {
            "backgroundcolor": "#E5ECF6",
            "gridcolor": "white",
            "gridwidth": 2,
            "linecolor": "white",
            "showbackground": true,
            "ticks": "",
            "zerolinecolor": "white"
           },
           "zaxis": {
            "backgroundcolor": "#E5ECF6",
            "gridcolor": "white",
            "gridwidth": 2,
            "linecolor": "white",
            "showbackground": true,
            "ticks": "",
            "zerolinecolor": "white"
           }
          },
          "shapedefaults": {
           "line": {
            "color": "#2a3f5f"
           }
          },
          "ternary": {
           "aaxis": {
            "gridcolor": "white",
            "linecolor": "white",
            "ticks": ""
           },
           "baxis": {
            "gridcolor": "white",
            "linecolor": "white",
            "ticks": ""
           },
           "bgcolor": "#E5ECF6",
           "caxis": {
            "gridcolor": "white",
            "linecolor": "white",
            "ticks": ""
           }
          },
          "title": {
           "x": 0.05
          },
          "xaxis": {
           "automargin": true,
           "gridcolor": "white",
           "linecolor": "white",
           "ticks": "",
           "title": {
            "standoff": 15
           },
           "zerolinecolor": "white",
           "zerolinewidth": 2
          },
          "yaxis": {
           "automargin": true,
           "gridcolor": "white",
           "linecolor": "white",
           "ticks": "",
           "title": {
            "standoff": 15
           },
           "zerolinecolor": "white",
           "zerolinewidth": 2
          }
         }
        },
        "title": {
         "text": "Density of Population vs Number of Dogs in Vienna by District in 2023"
        },
        "width": 800,
        "xaxis": {
         "anchor": "y",
         "domain": [
          0,
          1
         ],
         "title": {
          "text": "Density of Population"
         }
        },
        "yaxis": {
         "anchor": "x",
         "domain": [
          0,
          1
         ],
         "title": {
          "text": "Number of Dogs"
         }
        }
       }
      }
     },
     "metadata": {},
     "output_type": "display_data"
    }
   ],
   "source": [
    "#Show the number of dogs vs the population density for the most recent year (2023)\n",
    "#Only data from 2023\n",
    "df_h4_dogs_pop_2023 = df_h4_dogs_pop_dist[df_h4_dogs_pop_dist['REF_YEAR']==2023]\n",
    "\n",
    "#Only show data for most recent year to make it clearer\n",
    "fig = px.scatter(df_h4_dogs_pop_dist[df_h4_dogs_pop_dist['REF_YEAR']==2023], \n",
    "                y='DOG_VALUE', x='POP_DENSITY',\n",
    "                hover_data='Postal_CODE',\n",
    "                 color='Postal_CODE',\n",
    "                 #text='Postal_CODE',\n",
    "                 width=800, height=700,\n",
    "                 labels={\n",
    "                     \"DOG_VALUE\": \"Number of Dogs\",\n",
    "                     \"POP_DENSITY\": \"Density of Population\",\n",
    "                     \"Postal_CODE\": \"Postal Code\"\n",
    "                 },\n",
    "              title='Density of Population vs Number of Dogs in Vienna by District in 2023')\n",
    "fig.update_traces(marker=dict(size=10))\n",
    "#fig.update_traces(textposition=label_pos)\n",
    "fig.show()"
   ]
  },
  {
   "cell_type": "markdown",
   "id": "0b20a48e",
   "metadata": {},
   "source": [
    "You can already tell that there is a negative correlation between the number of dogs and the population density in this plot, but let's plot a trendline over the data to make it more visible."
   ]
  },
  {
   "cell_type": "code",
   "execution_count": 253,
   "id": "ee5f1266",
   "metadata": {},
   "outputs": [
    {
     "data": {
      "application/vnd.plotly.v1+json": {
       "config": {
        "plotlyServerURL": "https://plot.ly"
       },
       "data": [
        {
         "customdata": [
          [
           "1010"
          ]
         ],
         "hovertemplate": "Postal Code=%{customdata[0]}<br>Density of Population=%{x}<br>Number of Dogs=%{y}<extra></extra>",
         "legendgroup": "1010",
         "marker": {
          "color": "#636efa",
          "size": 10,
          "symbol": "circle"
         },
         "mode": "markers",
         "name": "1010",
         "orientation": "v",
         "showlegend": true,
         "type": "scatter",
         "x": [
          5793.42
         ],
         "xaxis": "x",
         "y": [
          497
         ],
         "yaxis": "y"
        },
        {
         "customdata": [
          [
           "1020"
          ]
         ],
         "hovertemplate": "Postal Code=%{customdata[0]}<br>Density of Population=%{x}<br>Number of Dogs=%{y}<extra></extra>",
         "legendgroup": "1020",
         "marker": {
          "color": "#EF553B",
          "size": 10,
          "symbol": "circle"
         },
         "mode": "markers",
         "name": "1020",
         "orientation": "v",
         "showlegend": true,
         "type": "scatter",
         "x": [
          5626.7
         ],
         "xaxis": "x",
         "y": [
          2659
         ],
         "yaxis": "y"
        },
        {
         "customdata": [
          [
           "1030"
          ]
         ],
         "hovertemplate": "Postal Code=%{customdata[0]}<br>Density of Population=%{x}<br>Number of Dogs=%{y}<extra></extra>",
         "legendgroup": "1030",
         "marker": {
          "color": "#00cc96",
          "size": 10,
          "symbol": "circle"
         },
         "mode": "markers",
         "name": "1030",
         "orientation": "v",
         "showlegend": true,
         "type": "scatter",
         "x": [
          13079.13
         ],
         "xaxis": "x",
         "y": [
          2463
         ],
         "yaxis": "y"
        },
        {
         "customdata": [
          [
           "1040"
          ]
         ],
         "hovertemplate": "Postal Code=%{customdata[0]}<br>Density of Population=%{x}<br>Number of Dogs=%{y}<extra></extra>",
         "legendgroup": "1040",
         "marker": {
          "color": "#ab63fa",
          "size": 10,
          "symbol": "circle"
         },
         "mode": "markers",
         "name": "1040",
         "orientation": "v",
         "showlegend": true,
         "type": "scatter",
         "x": [
          18945.95
         ],
         "xaxis": "x",
         "y": [
          711
         ],
         "yaxis": "y"
        },
        {
         "customdata": [
          [
           "1050"
          ]
         ],
         "hovertemplate": "Postal Code=%{customdata[0]}<br>Density of Population=%{x}<br>Number of Dogs=%{y}<extra></extra>",
         "legendgroup": "1050",
         "marker": {
          "color": "#FFA15A",
          "size": 10,
          "symbol": "circle"
         },
         "mode": "markers",
         "name": "1050",
         "orientation": "v",
         "showlegend": true,
         "type": "scatter",
         "x": [
          27349.84
         ],
         "xaxis": "x",
         "y": [
          948
         ],
         "yaxis": "y"
        },
        {
         "customdata": [
          [
           "1060"
          ]
         ],
         "hovertemplate": "Postal Code=%{customdata[0]}<br>Density of Population=%{x}<br>Number of Dogs=%{y}<extra></extra>",
         "legendgroup": "1060",
         "marker": {
          "color": "#19d3f3",
          "size": 10,
          "symbol": "circle"
         },
         "mode": "markers",
         "name": "1060",
         "orientation": "v",
         "showlegend": true,
         "type": "scatter",
         "x": [
          21595.92
         ],
         "xaxis": "x",
         "y": [
          619
         ],
         "yaxis": "y"
        },
        {
         "customdata": [
          [
           "1070"
          ]
         ],
         "hovertemplate": "Postal Code=%{customdata[0]}<br>Density of Population=%{x}<br>Number of Dogs=%{y}<extra></extra>",
         "legendgroup": "1070",
         "marker": {
          "color": "#FF6692",
          "size": 10,
          "symbol": "circle"
         },
         "mode": "markers",
         "name": "1070",
         "orientation": "v",
         "showlegend": true,
         "type": "scatter",
         "x": [
          19636.9
         ],
         "xaxis": "x",
         "y": [
          641
         ],
         "yaxis": "y"
        },
        {
         "customdata": [
          [
           "1080"
          ]
         ],
         "hovertemplate": "Postal Code=%{customdata[0]}<br>Density of Population=%{x}<br>Number of Dogs=%{y}<extra></extra>",
         "legendgroup": "1080",
         "marker": {
          "color": "#B6E880",
          "size": 10,
          "symbol": "circle"
         },
         "mode": "markers",
         "name": "1080",
         "orientation": "v",
         "showlegend": true,
         "type": "scatter",
         "x": [
          22637.83
         ],
         "xaxis": "x",
         "y": [
          512
         ],
         "yaxis": "y"
        },
        {
         "customdata": [
          [
           "1090"
          ]
         ],
         "hovertemplate": "Postal Code=%{customdata[0]}<br>Density of Population=%{x}<br>Number of Dogs=%{y}<extra></extra>",
         "legendgroup": "1090",
         "marker": {
          "color": "#FF97FF",
          "size": 10,
          "symbol": "circle"
         },
         "mode": "markers",
         "name": "1090",
         "orientation": "v",
         "showlegend": true,
         "type": "scatter",
         "x": [
          14223.3
         ],
         "xaxis": "x",
         "y": [
          974
         ],
         "yaxis": "y"
        },
        {
         "customdata": [
          [
           "1100"
          ]
         ],
         "hovertemplate": "Postal Code=%{customdata[0]}<br>Density of Population=%{x}<br>Number of Dogs=%{y}<extra></extra>",
         "legendgroup": "1100",
         "marker": {
          "color": "#FECB52",
          "size": 10,
          "symbol": "circle"
         },
         "mode": "markers",
         "name": "1100",
         "orientation": "v",
         "showlegend": true,
         "type": "scatter",
         "x": [
          6862.23
         ],
         "xaxis": "x",
         "y": [
          5162
         ],
         "yaxis": "y"
        },
        {
         "customdata": [
          [
           "1110"
          ]
         ],
         "hovertemplate": "Postal Code=%{customdata[0]}<br>Density of Population=%{x}<br>Number of Dogs=%{y}<extra></extra>",
         "legendgroup": "1110",
         "marker": {
          "color": "#636efa",
          "size": 10,
          "symbol": "circle"
         },
         "mode": "markers",
         "name": "1110",
         "orientation": "v",
         "showlegend": true,
         "type": "scatter",
         "x": [
          4688.53
         ],
         "xaxis": "x",
         "y": [
          3356
         ],
         "yaxis": "y"
        },
        {
         "customdata": [
          [
           "1120"
          ]
         ],
         "hovertemplate": "Postal Code=%{customdata[0]}<br>Density of Population=%{x}<br>Number of Dogs=%{y}<extra></extra>",
         "legendgroup": "1120",
         "marker": {
          "color": "#EF553B",
          "size": 10,
          "symbol": "circle"
         },
         "mode": "markers",
         "name": "1120",
         "orientation": "v",
         "showlegend": true,
         "type": "scatter",
         "x": [
          12375.4
         ],
         "xaxis": "x",
         "y": [
          2316
         ],
         "yaxis": "y"
        },
        {
         "customdata": [
          [
           "1130"
          ]
         ],
         "hovertemplate": "Postal Code=%{customdata[0]}<br>Density of Population=%{x}<br>Number of Dogs=%{y}<extra></extra>",
         "legendgroup": "1130",
         "marker": {
          "color": "#00cc96",
          "size": 10,
          "symbol": "circle"
         },
         "mode": "markers",
         "name": "1130",
         "orientation": "v",
         "showlegend": true,
         "type": "scatter",
         "x": [
          1473.38
         ],
         "xaxis": "x",
         "y": [
          2075
         ],
         "yaxis": "y"
        },
        {
         "customdata": [
          [
           "1140"
          ]
         ],
         "hovertemplate": "Postal Code=%{customdata[0]}<br>Density of Population=%{x}<br>Number of Dogs=%{y}<extra></extra>",
         "legendgroup": "1140",
         "marker": {
          "color": "#ab63fa",
          "size": 10,
          "symbol": "circle"
         },
         "mode": "markers",
         "name": "1140",
         "orientation": "v",
         "showlegend": true,
         "type": "scatter",
         "x": [
          2867.85
         ],
         "xaxis": "x",
         "y": [
          3062
         ],
         "yaxis": "y"
        },
        {
         "customdata": [
          [
           "1150"
          ]
         ],
         "hovertemplate": "Postal Code=%{customdata[0]}<br>Density of Population=%{x}<br>Number of Dogs=%{y}<extra></extra>",
         "legendgroup": "1150",
         "marker": {
          "color": "#FFA15A",
          "size": 10,
          "symbol": "circle"
         },
         "mode": "markers",
         "name": "1150",
         "orientation": "v",
         "showlegend": true,
         "type": "scatter",
         "x": [
          19423.18
         ],
         "xaxis": "x",
         "y": [
          1383
         ],
         "yaxis": "y"
        },
        {
         "customdata": [
          [
           "1160"
          ]
         ],
         "hovertemplate": "Postal Code=%{customdata[0]}<br>Density of Population=%{x}<br>Number of Dogs=%{y}<extra></extra>",
         "legendgroup": "1160",
         "marker": {
          "color": "#19d3f3",
          "size": 10,
          "symbol": "circle"
         },
         "mode": "markers",
         "name": "1160",
         "orientation": "v",
         "showlegend": true,
         "type": "scatter",
         "x": [
          11811.76
         ],
         "xaxis": "x",
         "y": [
          2024
         ],
         "yaxis": "y"
        },
        {
         "customdata": [
          [
           "1170"
          ]
         ],
         "hovertemplate": "Postal Code=%{customdata[0]}<br>Density of Population=%{x}<br>Number of Dogs=%{y}<extra></extra>",
         "legendgroup": "1170",
         "marker": {
          "color": "#FF6692",
          "size": 10,
          "symbol": "circle"
         },
         "mode": "markers",
         "name": "1170",
         "orientation": "v",
         "showlegend": true,
         "type": "scatter",
         "x": [
          4918.97
         ],
         "xaxis": "x",
         "y": [
          1423
         ],
         "yaxis": "y"
        },
        {
         "customdata": [
          [
           "1180"
          ]
         ],
         "hovertemplate": "Postal Code=%{customdata[0]}<br>Density of Population=%{x}<br>Number of Dogs=%{y}<extra></extra>",
         "legendgroup": "1180",
         "marker": {
          "color": "#B6E880",
          "size": 10,
          "symbol": "circle"
         },
         "mode": "markers",
         "name": "1180",
         "orientation": "v",
         "showlegend": true,
         "type": "scatter",
         "x": [
          8123.11
         ],
         "xaxis": "x",
         "y": [
          1511
         ],
         "yaxis": "y"
        },
        {
         "customdata": [
          [
           "1190"
          ]
         ],
         "hovertemplate": "Postal Code=%{customdata[0]}<br>Density of Population=%{x}<br>Number of Dogs=%{y}<extra></extra>",
         "legendgroup": "1190",
         "marker": {
          "color": "#FF97FF",
          "size": 10,
          "symbol": "circle"
         },
         "mode": "markers",
         "name": "1190",
         "orientation": "v",
         "showlegend": true,
         "type": "scatter",
         "x": [
          3027.48
         ],
         "xaxis": "x",
         "y": [
          2763
         ],
         "yaxis": "y"
        },
        {
         "customdata": [
          [
           "1200"
          ]
         ],
         "hovertemplate": "Postal Code=%{customdata[0]}<br>Density of Population=%{x}<br>Number of Dogs=%{y}<extra></extra>",
         "legendgroup": "1200",
         "marker": {
          "color": "#FECB52",
          "size": 10,
          "symbol": "circle"
         },
         "mode": "markers",
         "name": "1200",
         "orientation": "v",
         "showlegend": true,
         "type": "scatter",
         "x": [
          15005.76
         ],
         "xaxis": "x",
         "y": [
          1767
         ],
         "yaxis": "y"
        },
        {
         "customdata": [
          [
           "1210"
          ]
         ],
         "hovertemplate": "Postal Code=%{customdata[0]}<br>Density of Population=%{x}<br>Number of Dogs=%{y}<extra></extra>",
         "legendgroup": "1210",
         "marker": {
          "color": "#636efa",
          "size": 10,
          "symbol": "circle"
         },
         "mode": "markers",
         "name": "1210",
         "orientation": "v",
         "showlegend": true,
         "type": "scatter",
         "x": [
          4137.75
         ],
         "xaxis": "x",
         "y": [
          7340
         ],
         "yaxis": "y"
        },
        {
         "customdata": [
          [
           "1220"
          ]
         ],
         "hovertemplate": "Postal Code=%{customdata[0]}<br>Density of Population=%{x}<br>Number of Dogs=%{y}<extra></extra>",
         "legendgroup": "1220",
         "marker": {
          "color": "#EF553B",
          "size": 10,
          "symbol": "circle"
         },
         "mode": "markers",
         "name": "1220",
         "orientation": "v",
         "showlegend": true,
         "type": "scatter",
         "x": [
          2078.78
         ],
         "xaxis": "x",
         "y": [
          9170
         ],
         "yaxis": "y"
        },
        {
         "customdata": [
          [
           "1230"
          ]
         ],
         "hovertemplate": "Postal Code=%{customdata[0]}<br>Density of Population=%{x}<br>Number of Dogs=%{y}<extra></extra>",
         "legendgroup": "1230",
         "marker": {
          "color": "#00cc96",
          "size": 10,
          "symbol": "circle"
         },
         "mode": "markers",
         "name": "1230",
         "orientation": "v",
         "showlegend": true,
         "type": "scatter",
         "x": [
          3676.72
         ],
         "xaxis": "x",
         "y": [
          4525
         ],
         "yaxis": "y"
        },
        {
         "hovertemplate": "x=%{x}<br>y=%{y}<extra></extra>",
         "legendgroup": "",
         "line": {
          "color": "#636efa",
          "dash": "solid"
         },
         "marker": {
          "symbol": "circle"
         },
         "mode": "lines",
         "name": "",
         "orientation": "v",
         "showlegend": false,
         "type": "scatter",
         "x": [
          5793.42,
          5626.7,
          13079.13,
          18945.95,
          27349.84,
          21595.92,
          19636.9,
          22637.83,
          14223.3,
          6862.23,
          4688.53,
          12375.4,
          1473.38,
          2867.85,
          19423.18,
          11811.76,
          4918.97,
          8123.11,
          3027.48,
          15005.76,
          4137.75,
          2078.78,
          3676.72
         ],
         "xaxis": "x",
         "y": [
          3378.0518939106487,
          3406.473674907319,
          2136.012222454014,
          1135.8594322255785,
          -296.80324231920804,
          684.1027924238388,
          1018.0689477027299,
          506.4820040466748,
          1940.9585446531496,
          3195.845297539181,
          3566.4092691830274,
          2255.981391964491,
          4114.515610182572,
          3876.791756137307,
          1054.5031069794118,
          2352.0685599165254,
          3527.124748952265,
          2980.8953501838455,
          3849.5786509279833,
          1807.567789142985,
          3660.304114056744,
          4011.3093588906813,
          3738.8987259383107
         ],
         "yaxis": "y"
        }
       ],
       "layout": {
        "height": 700,
        "legend": {
         "title": {
          "text": "Postal Code"
         },
         "tracegroupgap": 0
        },
        "template": {
         "data": {
          "bar": [
           {
            "error_x": {
             "color": "#2a3f5f"
            },
            "error_y": {
             "color": "#2a3f5f"
            },
            "marker": {
             "line": {
              "color": "#E5ECF6",
              "width": 0.5
             },
             "pattern": {
              "fillmode": "overlay",
              "size": 10,
              "solidity": 0.2
             }
            },
            "type": "bar"
           }
          ],
          "barpolar": [
           {
            "marker": {
             "line": {
              "color": "#E5ECF6",
              "width": 0.5
             },
             "pattern": {
              "fillmode": "overlay",
              "size": 10,
              "solidity": 0.2
             }
            },
            "type": "barpolar"
           }
          ],
          "carpet": [
           {
            "aaxis": {
             "endlinecolor": "#2a3f5f",
             "gridcolor": "white",
             "linecolor": "white",
             "minorgridcolor": "white",
             "startlinecolor": "#2a3f5f"
            },
            "baxis": {
             "endlinecolor": "#2a3f5f",
             "gridcolor": "white",
             "linecolor": "white",
             "minorgridcolor": "white",
             "startlinecolor": "#2a3f5f"
            },
            "type": "carpet"
           }
          ],
          "choropleth": [
           {
            "colorbar": {
             "outlinewidth": 0,
             "ticks": ""
            },
            "type": "choropleth"
           }
          ],
          "contour": [
           {
            "colorbar": {
             "outlinewidth": 0,
             "ticks": ""
            },
            "colorscale": [
             [
              0,
              "#0d0887"
             ],
             [
              0.1111111111111111,
              "#46039f"
             ],
             [
              0.2222222222222222,
              "#7201a8"
             ],
             [
              0.3333333333333333,
              "#9c179e"
             ],
             [
              0.4444444444444444,
              "#bd3786"
             ],
             [
              0.5555555555555556,
              "#d8576b"
             ],
             [
              0.6666666666666666,
              "#ed7953"
             ],
             [
              0.7777777777777778,
              "#fb9f3a"
             ],
             [
              0.8888888888888888,
              "#fdca26"
             ],
             [
              1,
              "#f0f921"
             ]
            ],
            "type": "contour"
           }
          ],
          "contourcarpet": [
           {
            "colorbar": {
             "outlinewidth": 0,
             "ticks": ""
            },
            "type": "contourcarpet"
           }
          ],
          "heatmap": [
           {
            "colorbar": {
             "outlinewidth": 0,
             "ticks": ""
            },
            "colorscale": [
             [
              0,
              "#0d0887"
             ],
             [
              0.1111111111111111,
              "#46039f"
             ],
             [
              0.2222222222222222,
              "#7201a8"
             ],
             [
              0.3333333333333333,
              "#9c179e"
             ],
             [
              0.4444444444444444,
              "#bd3786"
             ],
             [
              0.5555555555555556,
              "#d8576b"
             ],
             [
              0.6666666666666666,
              "#ed7953"
             ],
             [
              0.7777777777777778,
              "#fb9f3a"
             ],
             [
              0.8888888888888888,
              "#fdca26"
             ],
             [
              1,
              "#f0f921"
             ]
            ],
            "type": "heatmap"
           }
          ],
          "heatmapgl": [
           {
            "colorbar": {
             "outlinewidth": 0,
             "ticks": ""
            },
            "colorscale": [
             [
              0,
              "#0d0887"
             ],
             [
              0.1111111111111111,
              "#46039f"
             ],
             [
              0.2222222222222222,
              "#7201a8"
             ],
             [
              0.3333333333333333,
              "#9c179e"
             ],
             [
              0.4444444444444444,
              "#bd3786"
             ],
             [
              0.5555555555555556,
              "#d8576b"
             ],
             [
              0.6666666666666666,
              "#ed7953"
             ],
             [
              0.7777777777777778,
              "#fb9f3a"
             ],
             [
              0.8888888888888888,
              "#fdca26"
             ],
             [
              1,
              "#f0f921"
             ]
            ],
            "type": "heatmapgl"
           }
          ],
          "histogram": [
           {
            "marker": {
             "pattern": {
              "fillmode": "overlay",
              "size": 10,
              "solidity": 0.2
             }
            },
            "type": "histogram"
           }
          ],
          "histogram2d": [
           {
            "colorbar": {
             "outlinewidth": 0,
             "ticks": ""
            },
            "colorscale": [
             [
              0,
              "#0d0887"
             ],
             [
              0.1111111111111111,
              "#46039f"
             ],
             [
              0.2222222222222222,
              "#7201a8"
             ],
             [
              0.3333333333333333,
              "#9c179e"
             ],
             [
              0.4444444444444444,
              "#bd3786"
             ],
             [
              0.5555555555555556,
              "#d8576b"
             ],
             [
              0.6666666666666666,
              "#ed7953"
             ],
             [
              0.7777777777777778,
              "#fb9f3a"
             ],
             [
              0.8888888888888888,
              "#fdca26"
             ],
             [
              1,
              "#f0f921"
             ]
            ],
            "type": "histogram2d"
           }
          ],
          "histogram2dcontour": [
           {
            "colorbar": {
             "outlinewidth": 0,
             "ticks": ""
            },
            "colorscale": [
             [
              0,
              "#0d0887"
             ],
             [
              0.1111111111111111,
              "#46039f"
             ],
             [
              0.2222222222222222,
              "#7201a8"
             ],
             [
              0.3333333333333333,
              "#9c179e"
             ],
             [
              0.4444444444444444,
              "#bd3786"
             ],
             [
              0.5555555555555556,
              "#d8576b"
             ],
             [
              0.6666666666666666,
              "#ed7953"
             ],
             [
              0.7777777777777778,
              "#fb9f3a"
             ],
             [
              0.8888888888888888,
              "#fdca26"
             ],
             [
              1,
              "#f0f921"
             ]
            ],
            "type": "histogram2dcontour"
           }
          ],
          "mesh3d": [
           {
            "colorbar": {
             "outlinewidth": 0,
             "ticks": ""
            },
            "type": "mesh3d"
           }
          ],
          "parcoords": [
           {
            "line": {
             "colorbar": {
              "outlinewidth": 0,
              "ticks": ""
             }
            },
            "type": "parcoords"
           }
          ],
          "pie": [
           {
            "automargin": true,
            "type": "pie"
           }
          ],
          "scatter": [
           {
            "fillpattern": {
             "fillmode": "overlay",
             "size": 10,
             "solidity": 0.2
            },
            "type": "scatter"
           }
          ],
          "scatter3d": [
           {
            "line": {
             "colorbar": {
              "outlinewidth": 0,
              "ticks": ""
             }
            },
            "marker": {
             "colorbar": {
              "outlinewidth": 0,
              "ticks": ""
             }
            },
            "type": "scatter3d"
           }
          ],
          "scattercarpet": [
           {
            "marker": {
             "colorbar": {
              "outlinewidth": 0,
              "ticks": ""
             }
            },
            "type": "scattercarpet"
           }
          ],
          "scattergeo": [
           {
            "marker": {
             "colorbar": {
              "outlinewidth": 0,
              "ticks": ""
             }
            },
            "type": "scattergeo"
           }
          ],
          "scattergl": [
           {
            "marker": {
             "colorbar": {
              "outlinewidth": 0,
              "ticks": ""
             }
            },
            "type": "scattergl"
           }
          ],
          "scattermapbox": [
           {
            "marker": {
             "colorbar": {
              "outlinewidth": 0,
              "ticks": ""
             }
            },
            "type": "scattermapbox"
           }
          ],
          "scatterpolar": [
           {
            "marker": {
             "colorbar": {
              "outlinewidth": 0,
              "ticks": ""
             }
            },
            "type": "scatterpolar"
           }
          ],
          "scatterpolargl": [
           {
            "marker": {
             "colorbar": {
              "outlinewidth": 0,
              "ticks": ""
             }
            },
            "type": "scatterpolargl"
           }
          ],
          "scatterternary": [
           {
            "marker": {
             "colorbar": {
              "outlinewidth": 0,
              "ticks": ""
             }
            },
            "type": "scatterternary"
           }
          ],
          "surface": [
           {
            "colorbar": {
             "outlinewidth": 0,
             "ticks": ""
            },
            "colorscale": [
             [
              0,
              "#0d0887"
             ],
             [
              0.1111111111111111,
              "#46039f"
             ],
             [
              0.2222222222222222,
              "#7201a8"
             ],
             [
              0.3333333333333333,
              "#9c179e"
             ],
             [
              0.4444444444444444,
              "#bd3786"
             ],
             [
              0.5555555555555556,
              "#d8576b"
             ],
             [
              0.6666666666666666,
              "#ed7953"
             ],
             [
              0.7777777777777778,
              "#fb9f3a"
             ],
             [
              0.8888888888888888,
              "#fdca26"
             ],
             [
              1,
              "#f0f921"
             ]
            ],
            "type": "surface"
           }
          ],
          "table": [
           {
            "cells": {
             "fill": {
              "color": "#EBF0F8"
             },
             "line": {
              "color": "white"
             }
            },
            "header": {
             "fill": {
              "color": "#C8D4E3"
             },
             "line": {
              "color": "white"
             }
            },
            "type": "table"
           }
          ]
         },
         "layout": {
          "annotationdefaults": {
           "arrowcolor": "#2a3f5f",
           "arrowhead": 0,
           "arrowwidth": 1
          },
          "autotypenumbers": "strict",
          "coloraxis": {
           "colorbar": {
            "outlinewidth": 0,
            "ticks": ""
           }
          },
          "colorscale": {
           "diverging": [
            [
             0,
             "#8e0152"
            ],
            [
             0.1,
             "#c51b7d"
            ],
            [
             0.2,
             "#de77ae"
            ],
            [
             0.3,
             "#f1b6da"
            ],
            [
             0.4,
             "#fde0ef"
            ],
            [
             0.5,
             "#f7f7f7"
            ],
            [
             0.6,
             "#e6f5d0"
            ],
            [
             0.7,
             "#b8e186"
            ],
            [
             0.8,
             "#7fbc41"
            ],
            [
             0.9,
             "#4d9221"
            ],
            [
             1,
             "#276419"
            ]
           ],
           "sequential": [
            [
             0,
             "#0d0887"
            ],
            [
             0.1111111111111111,
             "#46039f"
            ],
            [
             0.2222222222222222,
             "#7201a8"
            ],
            [
             0.3333333333333333,
             "#9c179e"
            ],
            [
             0.4444444444444444,
             "#bd3786"
            ],
            [
             0.5555555555555556,
             "#d8576b"
            ],
            [
             0.6666666666666666,
             "#ed7953"
            ],
            [
             0.7777777777777778,
             "#fb9f3a"
            ],
            [
             0.8888888888888888,
             "#fdca26"
            ],
            [
             1,
             "#f0f921"
            ]
           ],
           "sequentialminus": [
            [
             0,
             "#0d0887"
            ],
            [
             0.1111111111111111,
             "#46039f"
            ],
            [
             0.2222222222222222,
             "#7201a8"
            ],
            [
             0.3333333333333333,
             "#9c179e"
            ],
            [
             0.4444444444444444,
             "#bd3786"
            ],
            [
             0.5555555555555556,
             "#d8576b"
            ],
            [
             0.6666666666666666,
             "#ed7953"
            ],
            [
             0.7777777777777778,
             "#fb9f3a"
            ],
            [
             0.8888888888888888,
             "#fdca26"
            ],
            [
             1,
             "#f0f921"
            ]
           ]
          },
          "colorway": [
           "#636efa",
           "#EF553B",
           "#00cc96",
           "#ab63fa",
           "#FFA15A",
           "#19d3f3",
           "#FF6692",
           "#B6E880",
           "#FF97FF",
           "#FECB52"
          ],
          "font": {
           "color": "#2a3f5f"
          },
          "geo": {
           "bgcolor": "white",
           "lakecolor": "white",
           "landcolor": "#E5ECF6",
           "showlakes": true,
           "showland": true,
           "subunitcolor": "white"
          },
          "hoverlabel": {
           "align": "left"
          },
          "hovermode": "closest",
          "mapbox": {
           "style": "light"
          },
          "paper_bgcolor": "white",
          "plot_bgcolor": "#E5ECF6",
          "polar": {
           "angularaxis": {
            "gridcolor": "white",
            "linecolor": "white",
            "ticks": ""
           },
           "bgcolor": "#E5ECF6",
           "radialaxis": {
            "gridcolor": "white",
            "linecolor": "white",
            "ticks": ""
           }
          },
          "scene": {
           "xaxis": {
            "backgroundcolor": "#E5ECF6",
            "gridcolor": "white",
            "gridwidth": 2,
            "linecolor": "white",
            "showbackground": true,
            "ticks": "",
            "zerolinecolor": "white"
           },
           "yaxis": {
            "backgroundcolor": "#E5ECF6",
            "gridcolor": "white",
            "gridwidth": 2,
            "linecolor": "white",
            "showbackground": true,
            "ticks": "",
            "zerolinecolor": "white"
           },
           "zaxis": {
            "backgroundcolor": "#E5ECF6",
            "gridcolor": "white",
            "gridwidth": 2,
            "linecolor": "white",
            "showbackground": true,
            "ticks": "",
            "zerolinecolor": "white"
           }
          },
          "shapedefaults": {
           "line": {
            "color": "#2a3f5f"
           }
          },
          "ternary": {
           "aaxis": {
            "gridcolor": "white",
            "linecolor": "white",
            "ticks": ""
           },
           "baxis": {
            "gridcolor": "white",
            "linecolor": "white",
            "ticks": ""
           },
           "bgcolor": "#E5ECF6",
           "caxis": {
            "gridcolor": "white",
            "linecolor": "white",
            "ticks": ""
           }
          },
          "title": {
           "x": 0.05
          },
          "xaxis": {
           "automargin": true,
           "gridcolor": "white",
           "linecolor": "white",
           "ticks": "",
           "title": {
            "standoff": 15
           },
           "zerolinecolor": "white",
           "zerolinewidth": 2
          },
          "yaxis": {
           "automargin": true,
           "gridcolor": "white",
           "linecolor": "white",
           "ticks": "",
           "title": {
            "standoff": 15
           },
           "zerolinecolor": "white",
           "zerolinewidth": 2
          }
         }
        },
        "title": {
         "text": "Density of Population vs Number of Dogs in Vienna by District in 2023"
        },
        "width": 800,
        "xaxis": {
         "anchor": "y",
         "domain": [
          0,
          1
         ],
         "title": {
          "text": "Density of Population"
         }
        },
        "yaxis": {
         "anchor": "x",
         "domain": [
          0,
          1
         ],
         "title": {
          "text": "Number of Dogs"
         }
        }
       }
      }
     },
     "metadata": {},
     "output_type": "display_data"
    }
   ],
   "source": [
    "#Add trendline\n",
    "coeffs = np.polyfit(df_h4_dogs_pop_2023['POP_DENSITY'], df_h4_dogs_pop_2023['DOG_VALUE'], 1)\n",
    "vals = np.polyval(coeffs, df_h4_dogs_pop_2023['POP_DENSITY'])\n",
    "    \n",
    "line = px.line(x=df_h4_dogs_pop_2023['POP_DENSITY'], y=vals)\n",
    "\n",
    "fig.add_trace(line.data[0])"
   ]
  },
  {
   "cell_type": "markdown",
   "id": "7a26ae60",
   "metadata": {},
   "source": [
    "The trendline shows there is a negative correlation.\n",
    "Let's also calculate the pearson correlation coefficient:"
   ]
  },
  {
   "cell_type": "code",
   "execution_count": 254,
   "id": "bf924e09",
   "metadata": {},
   "outputs": [
    {
     "data": {
      "text/plain": [
       "-0.6109261359731252"
      ]
     },
     "execution_count": 254,
     "metadata": {},
     "output_type": "execute_result"
    }
   ],
   "source": [
    "df_h4_dogs_pop_dist['POP_DENSITY'].corr(df_h4_dogs_pop_dist['DOG_VALUE'], method='pearson')"
   ]
  },
  {
   "cell_type": "markdown",
   "id": "7edee46e",
   "metadata": {},
   "source": [
    "The Pearson correlation coefficient indicates a negative correlation between the data, if the value is negative. Between 0 and –0.3 there is a weak negative correlation, between –0.3 and –0.5 there is a moderate negative correlation and if the value is less than –0.5 there is a strong negative correlation. \n",
    "\n",
    "The Pearson correlation coefficient we calculated is -0.61, which means that there is a moderate to strong correlation between the population density and the number of dogs."
   ]
  },
  {
   "cell_type": "markdown",
   "id": "5da06647-b803-4ad3-8e40-b372cf7044df",
   "metadata": {
    "id": "5da06647-b803-4ad3-8e40-b372cf7044df",
    "tags": []
   },
   "source": [
    "### E3-H5: \"The number of dogs in a Viennese district correlates positively with the number of dog waste bag dispensers that district.\"\n",
    "\n",
    "Rationale: With the increasing number of dogs in Vienna, it needs to be assured that dog waste does not become an environmental or a public health issue. For this reason, it is desirable to have more dog poo bag dispensers in districts with a higher dog population. Therefore, the distribution of dog poo bag dispensers in each district is a crucial part in achieving an effective dog waste disposal. However, it remains unclear if this correlation between the dog population and number of dispensers exists or how it looks like. Understanding this relationship can help identify districts which are either underserved or overserved in terms of dog waste bag dispensers. Such insight can be taken into account for future city planning.\n",
    "\n",
    "Datasets needed: vie-bez-biz-spo-dog-2002f.csv, HUNDESACKERLOGD.json, BEZIRKSGRENZEOGD.json\n",
    "\n",
    "Further considerations: The data for the dog waste bag dispenser is up-to-date (file downloaded on 2024-10-10) for the dog data only the most recent data is considered, which is 2023. It is assumed that there is a negligible fluctuation in number and location of dispensers since 2023. Additionally, dogs and their owners are not restricted to their home district for their walks and the need for a dog poo bag dispenser.\n",
    "\n",
    "Author: Anna Till\n"
   ]
  },
  {
   "cell_type": "markdown",
   "id": "1297be0ab4f8b677",
   "metadata": {},
   "source": [
    "#### Obtain and scrub additional dataset\n",
    "Dataset: Hundekotsackerlspender Standorte Wien (Dog poo bag dispensers)\n",
    "File name: HUNDESACKERLOGD.json \n",
    "Source: https://www.data.gv.at/katalog/dataset/98908792-f315-4834-9b5e-20fed66cbe5a\n",
    "Description: Location of each dog poo bag dispenser in Vienna up-to-date.\n",
    "\n",
    "BEZ: Bezirk\n",
    "STRNAM: Straßenname\n",
    "ONRTEXT: Ordnungsnummer oder zusätzliche Lagebeschreibung\n",
    "BEMERKUNG: weitere Informationen\n",
    "ID_NR: Identifikationsnummer des Standortes"
   ]
  },
  {
   "cell_type": "code",
   "execution_count": null,
   "id": "25d727fb3fe067f9",
   "metadata": {},
   "outputs": [],
   "source": [
    "import geopandas as gpd\n",
    "\n",
    "dog_poo_bag_dispensers= gpd.read_file('HUNDESACKERLOGD.json') # load dog waste bag dispenser data\n",
    "\n",
    "# Preview and info\n",
    "print(dog_poo_bag_dispensers.info())\n",
    "print(dog_poo_bag_dispensers.head())\n",
    "\n",
    "# Missing values\n",
    "print(\"Missing values: \",dog_poo_bag_dispensers.isnull().sum())\n",
    "# missing data is irrelevant except for the district ('Bezirk') which is needed for each dispenser, which is zero\n",
    "\n",
    "# Delete duplicates\n",
    "dog_poo_bag_dispensers = dog_poo_bag_dispensers.drop_duplicates()\n",
    "\n",
    "# Check geography (and delete if invalid)\n",
    "print(\"Valid geography: \", dog_poo_bag_dispensers.geometry.is_valid.all())\n",
    "dog_poo_bag_dispensers = dog_poo_bag_dispensers[dog_poo_bag_dispensers.geometry.is_valid]\n",
    "\n",
    "# Check coordinate system\n",
    "print(\"Coordindate system: \", dog_poo_bag_dispensers.crs)"
   ]
  },
  {
   "cell_type": "markdown",
   "id": "f523d8978e27dd2e",
   "metadata": {},
   "source": [
    "#### Results:"
   ]
  },
  {
   "cell_type": "code",
   "execution_count": null,
   "id": "9f174ed8-3291-4b1e-80a3-ea441b7efc19",
   "metadata": {
    "id": "9f174ed8-3291-4b1e-80a3-ea441b7efc19"
   },
   "outputs": [],
   "source": [
    "from scipy.stats import pearsonr\n",
    "\n",
    "# Data for dog poo bag dispenser\n",
    "dispensers_by_district = dog_poo_bag_dispensers.groupby('BEZIRK').size().reset_index(name='NUMBER_DISPENSER')  # count number of dispenser per district\n",
    "\n",
    "# Dog data\n",
    "dogs = dogs_2002.copy()\n",
    "dogs['DISTRICT_CODE'] = dogs['DISTRICT_CODE'].astype(str)\n",
    "\n",
    "# Filter for the latest year\n",
    "latest_year = dogs['REF_YEAR'].max()\n",
    "dogs_year = dogs[dogs['REF_YEAR'] == latest_year]\n",
    "\n",
    "dogs_year = dogs_year.assign(BEZIRK=dogs_year['DISTRICT_CODE'].str[1:3].astype(int)) # district code has form 9BBZZ, we want only BB in order to merge\n",
    "\n",
    "# Aggregate for each district\n",
    "dogs_year = dogs_year.groupby('BEZIRK', as_index=False)[['DOG_VALUE', 'DOG_DENSITY']].sum()\n",
    "\n",
    "# Merge data for dogs with data for dispensers\n",
    "merged_data = pd.merge(dogs_year, dispensers_by_district, left_on='BEZIRK', right_on='BEZIRK', how='left')\n",
    "merged_data['NUMBER_DISPENSER'] = merged_data['NUMBER_DISPENSER'].fillna(0)\n",
    "\n",
    "# Calculation correlation and rations\n",
    "correlation, _ = pearsonr(merged_data['DOG_DENSITY'], merged_data['NUMBER_DISPENSER'])\n",
    "print(f'Pearson correlation: {correlation:.2f}')\n",
    "# Ratios\n",
    "merged_data['DOGS_TO_DISPENSER'] = merged_data['DOG_VALUE'] / merged_data['NUMBER_DISPENSER']\n",
    "merged_data['DOGS_DENS_TO_DISPENSER'] = (merged_data['DOG_DENSITY'] / merged_data['NUMBER_DISPENSER'])*100\n",
    "\n",
    "# District borders for graphical presentation\n",
    "district_borders = gpd.read_file('BEZIRKSGRENZEOGD.json')\n",
    "district_borders = district_borders.to_crs(epsg=4326)  # transform coordinates\n",
    "\n",
    "# Merge district borders with dog and dispenser data\n",
    "merged_data = district_borders.merge(merged_data, left_on='BEZNR', right_on='BEZIRK', how='left')\n",
    "\n",
    "# Scatter plot for correlation\n",
    "plt.figure(figsize=(10, 6))\n",
    "plt.scatter(merged_data['DOG_DENSITY'], merged_data['NUMBER_DISPENSER'], color='blue')\n",
    "sns.regplot(x='DOG_DENSITY', y='NUMBER_DISPENSER', data=merged_data, scatter=False, ax=plt.gca(), color='red') # adds fit to plot\n",
    "plt.xlabel('Dog Density (Dogs per 1000 People)')\n",
    "plt.ylabel('Number of Dog Poo Bag Dispensers')\n",
    "plt.title(f'Correlation between Dog Density and Number of Dog Poo Bag Dispensers ({latest_year})')\n",
    "plt.grid()\n",
    "plt.show()\n",
    "\n",
    "# Maps with analysis of correlation in each district\n",
    "fig, (ax1, ax2) = plt.subplots(1, 2, figsize=(20, 10))\n",
    "merged_data.boundary.plot(ax=ax1, color='black')  # plot district borders\n",
    "merged_data.boundary.plot(ax=ax2, color='black')    \n",
    "fig.suptitle(f'Analysis of Dogs and Poo Bag Dispensers in Viennese Districts for {latest_year}', fontsize=16)\n",
    "\n",
    "# First map: absloute number of dogs\n",
    "merged_data.plot(column='DOGS_TO_DISPENSER', ax=ax1, legend=True, cmap='viridis', edgecolor='black', alpha=0.5, legend_kwds={'orientation': \"horizontal\", 'label': \"number of dogs / number of dispensers\", 'shrink': 0.8})\n",
    "ax1.set_title('Ratio: Number of dogs to number of poo bag dispensers')\n",
    "ax1.set_xlabel('Longitude [degrees]')\n",
    "ax1.set_ylabel('Latitude [degrees]')\n",
    "\n",
    "for idx, row in merged_data.iterrows():  # ratio in each district in plot\n",
    "    point = row.geometry.representative_point() \n",
    "    ax1.text(point.x, point.y, f'{int(round(row[\"DOGS_TO_DISPENSER\"]))}', fontsize=10, ha='center', va='center', color='black')\n",
    "\n",
    "# Second map: dog density per 1000 pop\n",
    "merged_data.plot(column='DOGS_DENS_TO_DISPENSER', ax=ax2, legend=True, cmap='viridis', edgecolor='black', alpha=0.5,\n",
    "                 legend_kwds={'orientation': \"horizontal\", 'label': \"dog density / number of dispensers\", 'shrink': 0.8})\n",
    "ax2.set_title('Ratio: Dog density to number of poo bag dispensers')\n",
    "ax2.set_xlabel('Longitude [degrees]')\n",
    "ax2.set_ylabel('Latitude [degrees]')\n",
    "for idx, row in merged_data.iterrows():\n",
    "    point = row.geometry.representative_point() \n",
    "    ax2.text(point.x, point.y, f'{row[\"DOGS_DENS_TO_DISPENSER\"]:.2f}', fontsize=10, ha='center', va='center', color='black')\n",
    "\n",
    "plt.tight_layout()\n",
    "plt.show()\n",
    "\n",
    "# categorization\n",
    "# low, medium, high\n",
    "def categorize(value):\n",
    "    if value <= merged_data['DOGS_DENS_TO_DISPENSER'].quantile(1/3):\n",
    "        return 'Low'\n",
    "    elif value <= merged_data['DOGS_DENS_TO_DISPENSER'].quantile(2/3):\n",
    "        return 'Medium'\n",
    "    else:\n",
    "        return 'High'\n",
    "\n",
    "merged_data['CATEGORY_DOG_TO_BAG'] = merged_data['DOGS_DENS_TO_DISPENSER'].apply(categorize)\n",
    "\n",
    "fig, ax = plt.subplots(1, 1, figsize=(12, 12))\n",
    "merged_data.boundary.plot(ax=ax, color='black')\n",
    "merged_data.plot(column='CATEGORY_DOG_TO_BAG', ax=ax, legend=True, cmap='Set1', edgecolor='black', alpha=0.5)\n",
    "ax.set_title(f'Categorization: Dog Density per 1000 people to Dog Poo Bag Dispenser ({latest_year})')\n",
    "ax.set_xlabel('Longitude [degrees]')\n",
    "ax.set_ylabel('Latitude [degrees]')\n",
    "for idx, row in merged_data.iterrows():\n",
    "    point = row.geometry.representative_point()\n",
    "    ax.text(point.x, point.y, row['BEZ_RZ'], fontsize=10, ha='center', va='center', color='black')\n",
    "\n",
    "plt.tight_layout()\n",
    "plt.show()"
   ]
  },
  {
   "cell_type": "markdown",
   "id": "4bf28ebf5f6298df",
   "metadata": {},
   "source": [
    "#### Answer:\n",
    "The Pearson correlation coefficient of 0.70 indicates a positive correlation between the number of dogs and of dispensers in a district. Which means, that indeed in districts with a higher dog population also a higher number of dog poo bag dispensers is installed. However, in the scatter plot (\"Correlation between Dog Density and Number of Dog Poo Bag Dispensers (2023)\") it can be seen that there are some outliers despite the correlation depicted by the trend line.\n",
    "\n",
    "Another aspect is the comparison (\"Analysis of Dogs and Poo Bag Dispensers in Viennese Districts for 2023\") between the ratios of the number of dogs per dog waste bag dispenser in each district and of the density of dogs per dispenser, which takes also population density into account. The direct comparison between the absolute numbers - dogs per dispenser - suggests that a higher ratio may need a more frequent refill, assuming one waste bag per dog poo. As displayed in the results (\"Ratio: Number of dogs to number of poo bag dispensers\") this is the case especially in the outer districts of Vienna. Whereas, the broader context of the dog density per dog waste bag dispenser, normalizing the number of dogs against the population, implies whether there are enough dispensers available for each resident (regardless if or how many dogs they own). In this case, the results (\"Ratio: Dog density to number of poo bag dispensers\") show a different picture than for the direct ratio. Here, the inner districts of Vienna are affected the most by having the higher dog density to dispenser ratio. For instance, the first district, \"Innere Stadt\", has a rather low number of dogs per dispenser. However, value of the dog density to dispensers is exceedingly high compared to other districts. \n",
    "\n",
    "Finally, the map \"Categorization: Dog Density per 1000 people to Dog Poo Bag Dispenser (2023)\" provides a further investigation of dog density per dispenser by categorizing the districts into \"high\", \"medium\" and \"low\" based on tertiles. It can be seen at glance that the innermost districts might profit most from additional dog waste bag dispensers with respect to each resident.\n",
    "\n",
    "In summary, there is a correlation between the dog population and the number of dog waste bag dispensers. The number of dogs per dispenser is larger in the outer districts of Vienna, whereas when also taking the population per district into account, the picture reverses."
   ]
  },
  {
   "cell_type": "markdown",
   "id": "5e128df06ac2f4e6",
   "metadata": {},
   "source": [
    "### E3-H6: \"xxx\"\n",
    "Author: Group member 6\n"
   ]
  },
  {
   "cell_type": "code",
   "execution_count": null,
   "id": "69813a6c37b3e54d",
   "metadata": {},
   "outputs": [],
   "source": []
  }
 ],
 "metadata": {
  "colab": {
   "provenance": []
  },
  "kernelspec": {
   "display_name": "Python 3 (ipykernel)",
   "language": "python",
   "name": "python3"
  },
  "language_info": {
   "codemirror_mode": {
    "name": "ipython",
    "version": 3
   },
   "file_extension": ".py",
   "mimetype": "text/x-python",
   "name": "python",
   "nbconvert_exporter": "python",
   "pygments_lexer": "ipython3",
   "version": "3.9.19"
  },
  "nbdime-conflicts": {
   "local_diff": [
    {
     "diff": [
      {
       "diff": [
        {
         "diff": [
          {
           "key": 5,
           "op": "addrange",
           "valuelist": "7"
          },
          {
           "key": 5,
           "length": 1,
           "op": "removerange"
          }
         ],
         "key": 0,
         "op": "patch"
        }
       ],
       "key": "version",
       "op": "patch"
      }
     ],
     "key": "language_info",
     "op": "patch"
    }
   ],
   "remote_diff": [
    {
     "diff": [
      {
       "diff": [
        {
         "key": 0,
         "length": 1,
         "op": "removerange"
        }
       ],
       "key": "version",
       "op": "patch"
      }
     ],
     "key": "language_info",
     "op": "patch"
    }
   ]
  }
 },
 "nbformat": 4,
 "nbformat_minor": 5
}
