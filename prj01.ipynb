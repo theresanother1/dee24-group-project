{
 "cells": [
  {
   "cell_type": "markdown",
   "id": "e12ece56-fcd4-4665-bf8b-773b5e8c789d",
   "metadata": {
    "id": "e12ece56-fcd4-4665-bf8b-773b5e8c789d",
    "tags": []
   },
   "source": [
    "# Project 1 - Data Engineering\n",
    "## 2 Data Exploration and Analysis\n",
    "This notebook is for the implementation of task \"2 Data Exploration and Analysis\", as listed in the **Project Instructions**."
   ]
  },
  {
   "cell_type": "markdown",
   "id": "45dfc955-b808-45ff-b0d8-c2425da31416",
   "metadata": {
    "id": "45dfc955-b808-45ff-b0d8-c2425da31416"
   },
   "source": [
    "<div class=\"alert alert-success\">\n",
    "<b>Overview:</b><br>\n",
    "Data Exploration and Analysis consists of the following parts worth 70 points:\n",
    "<ul>\n",
    "    <li><b>E1 - Obtain and Scrub</b> (15 points)</li>\n",
    "    <li><b>E2 - Exploratory data analysis (EDA) </b>(20 points)</li>\n",
    "    <li><b>E3 - Formulate hypotheses </b>(25 points)</li>\n",
    "    <li><b>Follow the guidelines for Data Exploration and Analysis below </b>(10 points)</li>\n",
    "</ul></div>"
   ]
  },
  {
   "cell_type": "markdown",
   "id": "3c8a055f",
   "metadata": {
    "id": "3c8a055f"
   },
   "source": [
    "<div class=\"alert alert-success\">\n",
    "<b>Guidelines for Data Exploration and Analysis:</b><br>\n",
    "    <ol>\n",
    "        <li>Use a single Jupyer notebook for your project.</li>\n",
    "        <li>Use only Python-code for your project.</li>\n",
    "        <li>The use of automatic and semi-automatic data analyis tools is not allowed (e. g., PandasGUI, D-Tale, Mito, etc.). Only use packages we used in the coded lectures.</li>\n",
    "        <li>Export your environment for submission as 'prj01-environment.txt'.</li>\n",
    "        <li>Upload your resulting work as a zip file containing only a single jupyter notebook and required files to run the notebook. All cell outputs and <b>figures must display in jupyter lab</b>. (Test this, in particular when you use another environment like VS Code.)</li>\n",
    "        <li>All code cells in your notebook must be runnable without errors or warnings (e. g., deprecated functions). Each error/warning subtracts -2 points (up to the full 10 points for following the  guidelines).</li>\n",
    "        <li>Use only relative paths in your project.</li>\n",
    "        <li>Avoid (excessive) code duplication.</li>\n",
    "        <li>Avoid loops iterating over pandas objects (Series, DataFrames). Explicitly justify each exception via a comment. </li>\n",
    "        <li>All coded steps in your analysis must be commented.</li>\n",
    "        <li>Keep your code as well as outputs short, precise and readable. Each long or unnecessary output subtracts -2 points (up to the full 10 points for following the project guidelines).</li>\n",
    "    </ol>\n",
    "    <b>Late submissions are not accepted and earn you 0 points on the python project. </b>\n",
    "</div>"
   ]
  },
  {
   "cell_type": "markdown",
   "id": "ea992ba9-f942-445d-a515-16dc32837466",
   "metadata": {
    "id": "ea992ba9-f942-445d-a515-16dc32837466"
   },
   "source": [
    "Explicitly list which notebook toolset was used (jupyter lab/jupyter notebook/VS Code/etc.)\n",
    "\n",
    "**here**: MY_TOOL, MY_BROWSER"
   ]
  },
  {
   "cell_type": "markdown",
   "id": "92f63424-1d61-4b8b-94a6-f50afea65d79",
   "metadata": {
    "id": "92f63424-1d61-4b8b-94a6-f50afea65d79",
    "tags": []
   },
   "source": [
    "Explicitly and clearly state the chosen dataset number and title:\n",
    "### Bevölkerung ODÖ Hunde\n",
    "#### Hundebestand seit 2002 - Bezirke Wien --> contains info about dog density per districts over years\n",
    "#### Hunde pro Bezirk Wien --> contains info about dog breeds count per district in 2024\n",
    "#### Hunderassen Wien --> contains info about dog breeds count per district 2012 - 2017\n"
   ]
  },
  {
   "cell_type": "markdown",
   "id": "0999a549-323a-4537-963f-3a1a746b77fd",
   "metadata": {
    "id": "0999a549-323a-4537-963f-3a1a746b77fd"
   },
   "source": [
    "## E1 - Obtain and Scrub"
   ]
  },
  {
   "cell_type": "markdown",
   "id": "937713cc-715f-4930-ae10-ebeeaec55685",
   "metadata": {
    "id": "937713cc-715f-4930-ae10-ebeeaec55685"
   },
   "source": [
    "### Obtain\n",
    "Download the dataset and understand both:\n",
    "- format: wide vs. long, separaters, decimal points, encoding, etc., and\n",
    "- content: what variables are in the columns, what is their meaning?\n",
    "To this end, identify and download metadata such as headers, category listings, explanatory reports, etc.\n",
    "### Scrub\n",
    "The aim of scrub is to create a clean version of the data for further analysis.\n",
    "- Load the dataset and take care of dtypes (dates, numbers, categories, etc.). Justify why you don't load/use specific columns.\n",
    "- Check for footnotes or any other notifications on special cell content, such as time series breaks. Follow up that information, and document your decision how to deal with it. Remember: A homework contained such info in the cell \"76.1 b\". The metadata defines what that \"b\" stands for.\n",
    "![image.png](attachment:8eab5647-0d31-4875-a3ac-990349e90b76.png)\n",
    "- Choose an appropriate (Multi-)Index.\n",
    "- Identify:\n",
    "    1. missing values and get row and column overviews. Use graphical and/or numeric approaches. Once identified, handle missing values according to column type, time series property and data set size.\n",
    "    2. duplicates (justify the used column subset). Remove duplicates - if any - and inspect what you removed.\n",
    "- Transform to shape (tidy vs. wide) best suited for further analysis.\n",
    "- Export the clean data to a file for inspection with an external data browser (e.g., MS Excel).\n",
    "- Provide an overview of the clean dataset:\n",
    "    1. show the dtypes\n",
    "    2. quantitative column descriptions:\n",
    "        1. categorical columns: number of unique values, counts\n",
    "        2. numeric columns: range and median"
   ]
  },
  {
   "cell_type": "code",
   "execution_count": 1,
   "id": "5417f795-37f5-4c57-bdbe-36c1a00fedfe",
   "metadata": {
    "id": "5417f795-37f5-4c57-bdbe-36c1a00fedfe"
   },
   "outputs": [],
   "source": [
    "# Importing necessary packages:\n",
    "import pandas as pd\n",
    "import numpy as np\n",
    "import plotly.express as px\n",
    "import plotly.io as pio\n",
    "import matplotlib.pyplot as plt\n",
    "import matplotlib.colors as mcolors\n",
    "from matplotlib import colormaps\n",
    "import geopandas as gpd"
   ]
  },
  {
   "cell_type": "markdown",
   "id": "zmdvK0BezPWW",
   "metadata": {
    "id": "zmdvK0BezPWW"
   },
   "source": [
    "## 1) Obtain the datasets and scrub data\n"
   ]
  },
  {
   "cell_type": "markdown",
   "id": "CM15Z24i0wnM",
   "metadata": {
    "id": "CM15Z24i0wnM"
   },
   "source": [
    "#### 1) Dataset 1\n",
    "Number of dogs (absolute and per 1,000 inhabitants) since 2002 - districts of Vienna\n",
    " \t* NUTS | NUTS2-Region (Bundesland)\n",
    "  * DISTRICT_CODE | Gemeindebezirkskennzahl (Schema: 9BBZZ, BB=Nummer Bezirk, ZZ=00)\n",
    "  * SUB_DISTRICT_CODE | Zählbezirkskennzahl gemäß Stadt Wien (Schema: 9BBZZ, 9=Kennzeichnung Wien, BB=Nummer Bezirk, ZZ=Nummer Zählbezirk, ZZ=99 bei fehlender Zählbezirkskennzeichnung)\n",
    "  * REF_YEAR | Referenzjahr\n",
    "  * REF_DATE | Referenzdatum\n",
    "  * DOG_VALUE | Anzahl der Hunde (absolut)\n",
    "  * DOG_DENSITY | Anzahl der Hunde pro 1.000 EinwohnerInnen\n",
    "\n",
    "   TODO: add more description?"
   ]
  },
  {
   "cell_type": "markdown",
   "id": "SqP0q91O-iim",
   "metadata": {
    "id": "SqP0q91O-iim"
   },
   "source": [
    "##### Obtain"
   ]
  },
  {
   "cell_type": "code",
   "execution_count": 2,
   "id": "IjNtA3-rtIpe",
   "metadata": {
    "colab": {
     "base_uri": "https://localhost:8080/",
     "height": 244
    },
    "id": "IjNtA3-rtIpe",
    "outputId": "e3b5e138-3cb5-48dc-c516-f5b453555173"
   },
   "outputs": [
    {
     "name": "stdout",
     "output_type": "stream",
     "text": [
      "Dataframe shape:  (528, 7)\n"
     ]
    },
    {
     "data": {
      "text/html": [
       "<div>\n",
       "<style scoped>\n",
       "    .dataframe tbody tr th:only-of-type {\n",
       "        vertical-align: middle;\n",
       "    }\n",
       "\n",
       "    .dataframe tbody tr th {\n",
       "        vertical-align: top;\n",
       "    }\n",
       "\n",
       "    .dataframe thead th {\n",
       "        text-align: right;\n",
       "    }\n",
       "</style>\n",
       "<table border=\"1\" class=\"dataframe\">\n",
       "  <thead>\n",
       "    <tr style=\"text-align: right;\">\n",
       "      <th></th>\n",
       "      <th>NUTS</th>\n",
       "      <th>DISTRICT_CODE</th>\n",
       "      <th>SUB_DISTRICT_CODE</th>\n",
       "      <th>REF_YEAR</th>\n",
       "      <th>REF_DATE</th>\n",
       "      <th>DOG_VALUE</th>\n",
       "      <th>DOG_DENSITY</th>\n",
       "    </tr>\n",
       "  </thead>\n",
       "  <tbody>\n",
       "    <tr>\n",
       "      <th>0</th>\n",
       "      <td>AT13</td>\n",
       "      <td>90000</td>\n",
       "      <td>90000</td>\n",
       "      <td>2002</td>\n",
       "      <td>20020101</td>\n",
       "      <td>46.933</td>\n",
       "      <td>29,87</td>\n",
       "    </tr>\n",
       "    <tr>\n",
       "      <th>1</th>\n",
       "      <td>AT13</td>\n",
       "      <td>90100</td>\n",
       "      <td>90100</td>\n",
       "      <td>2002</td>\n",
       "      <td>20020101</td>\n",
       "      <td>542.000</td>\n",
       "      <td>30,74</td>\n",
       "    </tr>\n",
       "    <tr>\n",
       "      <th>2</th>\n",
       "      <td>AT13</td>\n",
       "      <td>90200</td>\n",
       "      <td>90200</td>\n",
       "      <td>2002</td>\n",
       "      <td>20020101</td>\n",
       "      <td>2.251</td>\n",
       "      <td>25,29</td>\n",
       "    </tr>\n",
       "    <tr>\n",
       "      <th>3</th>\n",
       "      <td>AT13</td>\n",
       "      <td>90300</td>\n",
       "      <td>90300</td>\n",
       "      <td>2002</td>\n",
       "      <td>20020101</td>\n",
       "      <td>1.904</td>\n",
       "      <td>23,16</td>\n",
       "    </tr>\n",
       "    <tr>\n",
       "      <th>4</th>\n",
       "      <td>AT13</td>\n",
       "      <td>90400</td>\n",
       "      <td>90400</td>\n",
       "      <td>2002</td>\n",
       "      <td>20020101</td>\n",
       "      <td>615.000</td>\n",
       "      <td>21,23</td>\n",
       "    </tr>\n",
       "  </tbody>\n",
       "</table>\n",
       "</div>"
      ],
      "text/plain": [
       "   NUTS  DISTRICT_CODE  SUB_DISTRICT_CODE  REF_YEAR  REF_DATE  DOG_VALUE  \\\n",
       "0  AT13          90000              90000      2002  20020101     46.933   \n",
       "1  AT13          90100              90100      2002  20020101    542.000   \n",
       "2  AT13          90200              90200      2002  20020101      2.251   \n",
       "3  AT13          90300              90300      2002  20020101      1.904   \n",
       "4  AT13          90400              90400      2002  20020101    615.000   \n",
       "\n",
       "  DOG_DENSITY  \n",
       "0      29,87   \n",
       "1      30,74   \n",
       "2      25,29   \n",
       "3      23,16   \n",
       "4      21,23   "
      ]
     },
     "execution_count": 2,
     "metadata": {},
     "output_type": "execute_result"
    }
   ],
   "source": [
    "# Import the first data set\n",
    "# import and drop all cols with NaN --> lots because of sep ';' but the sep splits the first col into its values\n",
    "dogs_2002 = pd.read_csv(\"vie-bez-biz-spo-dog-2002f.csv\", sep=';', skiprows=1).dropna(axis=1, how='any')\n",
    "\n",
    "print(\"Dataframe shape: \", dogs_2002.shape)\n",
    "dogs_2002.head(5)"
   ]
  },
  {
   "cell_type": "markdown",
   "id": "cYHcuGm_0vRs",
   "metadata": {
    "id": "cYHcuGm_0vRs"
   },
   "source": [
    "* The separator is ';'\n",
    "  * even though it creates many NaN columns --> due to the delimiter specified as ',', but importing with separator ';' splits the columns correctly and dropping NaN columns is better to handle.\n",
    "* The encoding is 'utf-8'.\n",
    "* The shape is (528, 7).\n",
    "* Format is unsure:  \n",
    "  * Contains entries for years by district of overall dog density sorted by years.\n",
    "  * each row represents a single observation of district by year and dog breeds\n",
    "  * but has multiple entries regarding time line and district\n",
    "* The first row contains the csv title. It is dropped and the second row is used for column titles.\n",
    "\n"
   ]
  },
  {
   "cell_type": "markdown",
   "id": "PMX1AMbE-nAF",
   "metadata": {
    "id": "PMX1AMbE-nAF"
   },
   "source": [
    "##### Scrub"
   ]
  },
  {
   "cell_type": "code",
   "execution_count": 3,
   "id": "PPMkfTio-dM1",
   "metadata": {
    "colab": {
     "base_uri": "https://localhost:8080/"
    },
    "id": "PPMkfTio-dM1",
    "outputId": "d71ebb33-3561-46d0-a5c9-232b19d34e3f"
   },
   "outputs": [
    {
     "name": "stdout",
     "output_type": "stream",
     "text": [
      "NUTS                  object\n",
      "DISTRICT_CODE          int64\n",
      "SUB_DISTRICT_CODE      int64\n",
      "REF_YEAR               int64\n",
      "REF_DATE               int64\n",
      "DOG_VALUE            float64\n",
      "DOG_DENSITY           object\n",
      "dtype: object\n"
     ]
    }
   ],
   "source": [
    "print(dogs_2002.dtypes)"
   ]
  },
  {
   "cell_type": "markdown",
   "id": "C17S4bNNA_Kj",
   "metadata": {
    "id": "C17S4bNNA_Kj"
   },
   "source": [
    "Change DOG_DENSITY to use . instead of , and the format to float to be able to calculate with it, if needed.\n",
    "\n",
    "Change REF_DATE to format datetime since its currently int64."
   ]
  },
  {
   "cell_type": "code",
   "execution_count": 4,
   "id": "O_UvJZKM_Hba",
   "metadata": {
    "id": "O_UvJZKM_Hba"
   },
   "outputs": [],
   "source": [
    "dogs_2002['DOG_DENSITY'] = dogs_2002['DOG_DENSITY'].str.replace(',', '.').astype(float)\n",
    "dogs_2002['REF_DATE'] = pd.to_datetime(dogs_2002['REF_DATE'].astype(str), format='%Y%m%d')"
   ]
  },
  {
   "cell_type": "code",
   "execution_count": 5,
   "id": "u8LNjDOZ_6LA",
   "metadata": {
    "colab": {
     "base_uri": "https://localhost:8080/",
     "height": 275
    },
    "id": "u8LNjDOZ_6LA",
    "outputId": "56ce61ba-57c2-45bb-c4ee-08bccb4b1388"
   },
   "outputs": [
    {
     "name": "stdout",
     "output_type": "stream",
     "text": [
      "NUTS                         object\n",
      "DISTRICT_CODE                 int64\n",
      "SUB_DISTRICT_CODE             int64\n",
      "REF_YEAR                      int64\n",
      "REF_DATE             datetime64[ns]\n",
      "DOG_VALUE                   float64\n",
      "DOG_DENSITY                 float64\n",
      "dtype: object\n"
     ]
    },
    {
     "data": {
      "text/html": [
       "<div>\n",
       "<style scoped>\n",
       "    .dataframe tbody tr th:only-of-type {\n",
       "        vertical-align: middle;\n",
       "    }\n",
       "\n",
       "    .dataframe tbody tr th {\n",
       "        vertical-align: top;\n",
       "    }\n",
       "\n",
       "    .dataframe thead th {\n",
       "        text-align: right;\n",
       "    }\n",
       "</style>\n",
       "<table border=\"1\" class=\"dataframe\">\n",
       "  <thead>\n",
       "    <tr style=\"text-align: right;\">\n",
       "      <th></th>\n",
       "      <th>NUTS</th>\n",
       "      <th>DISTRICT_CODE</th>\n",
       "      <th>SUB_DISTRICT_CODE</th>\n",
       "      <th>REF_YEAR</th>\n",
       "      <th>REF_DATE</th>\n",
       "      <th>DOG_VALUE</th>\n",
       "      <th>DOG_DENSITY</th>\n",
       "    </tr>\n",
       "  </thead>\n",
       "  <tbody>\n",
       "    <tr>\n",
       "      <th>0</th>\n",
       "      <td>AT13</td>\n",
       "      <td>90000</td>\n",
       "      <td>90000</td>\n",
       "      <td>2002</td>\n",
       "      <td>2002-01-01</td>\n",
       "      <td>46.933</td>\n",
       "      <td>29.87</td>\n",
       "    </tr>\n",
       "    <tr>\n",
       "      <th>1</th>\n",
       "      <td>AT13</td>\n",
       "      <td>90100</td>\n",
       "      <td>90100</td>\n",
       "      <td>2002</td>\n",
       "      <td>2002-01-01</td>\n",
       "      <td>542.000</td>\n",
       "      <td>30.74</td>\n",
       "    </tr>\n",
       "  </tbody>\n",
       "</table>\n",
       "</div>"
      ],
      "text/plain": [
       "   NUTS  DISTRICT_CODE  SUB_DISTRICT_CODE  REF_YEAR   REF_DATE  DOG_VALUE  \\\n",
       "0  AT13          90000              90000      2002 2002-01-01     46.933   \n",
       "1  AT13          90100              90100      2002 2002-01-01    542.000   \n",
       "\n",
       "   DOG_DENSITY  \n",
       "0        29.87  \n",
       "1        30.74  "
      ]
     },
     "execution_count": 5,
     "metadata": {},
     "output_type": "execute_result"
    }
   ],
   "source": [
    "print(dogs_2002.dtypes)\n",
    "dogs_2002.head(2)"
   ]
  },
  {
   "cell_type": "markdown",
   "id": "RSZJCWbVDdm_",
   "metadata": {
    "id": "RSZJCWbVDdm_"
   },
   "source": [
    "District Code and Sub District Code are the same --> removing Sub District Code."
   ]
  },
  {
   "cell_type": "code",
   "execution_count": 6,
   "id": "0ElC1KTTCTrW",
   "metadata": {
    "colab": {
     "base_uri": "https://localhost:8080/"
    },
    "id": "0ElC1KTTCTrW",
    "outputId": "363fd93d-c1d0-4c8c-bedc-489e3c407c54"
   },
   "outputs": [
    {
     "name": "stdout",
     "output_type": "stream",
     "text": [
      "(array([ True]), array([528], dtype=int64))\n"
     ]
    }
   ],
   "source": [
    "# only execute if not already done (avoids errors)\n",
    "if 'SUB_DISTRICT_CODE' in dogs_2002.columns:\n",
    "    print(np.unique([dogs_2002['DISTRICT_CODE'] == dogs_2002['SUB_DISTRICT_CODE']], return_counts=True))\n",
    "    dogs_2002.drop(columns=['SUB_DISTRICT_CODE'], inplace=True)"
   ]
  },
  {
   "cell_type": "markdown",
   "id": "KP8umAEWEaKh",
   "metadata": {
    "id": "KP8umAEWEaKh"
   },
   "source": [
    "Check for duplicates --> looks good."
   ]
  },
  {
   "cell_type": "code",
   "execution_count": 7,
   "id": "JSv3u188EZMh",
   "metadata": {
    "colab": {
     "base_uri": "https://localhost:8080/",
     "height": 310
    },
    "id": "JSv3u188EZMh",
    "outputId": "bb7af945-01e2-4dc5-fefd-2984956e1491"
   },
   "outputs": [
    {
     "data": {
      "text/plain": [
       "DOG_VALUE  REF_YEAR  DISTRICT_CODE\n",
       "1.022      2015      90500            1\n",
       "8.163      2014      92200            1\n",
       "50.282     2006      90000            1\n",
       "49.856     2005      90000            1\n",
       "48.093     2004      90000            1\n",
       "Name: REF_YEAR, dtype: int64"
      ]
     },
     "execution_count": 7,
     "metadata": {},
     "output_type": "execute_result"
    }
   ],
   "source": [
    "key=['DOG_VALUE', 'REF_YEAR', 'DISTRICT_CODE']\n",
    "dogs_2002.groupby(key)['REF_YEAR'].count().sort_values(ascending=False).head(5)"
   ]
  },
  {
   "cell_type": "markdown",
   "id": "CAP3A-HtFUll",
   "metadata": {
    "id": "CAP3A-HtFUll"
   },
   "source": [
    "Check for null values --> looks good."
   ]
  },
  {
   "cell_type": "code",
   "execution_count": 8,
   "id": "u5SLSslkFTY_",
   "metadata": {
    "colab": {
     "base_uri": "https://localhost:8080/"
    },
    "id": "u5SLSslkFTY_",
    "outputId": "c12d8a75-80c8-4133-9831-70eaedba0490"
   },
   "outputs": [
    {
     "data": {
      "text/plain": [
       "False"
      ]
     },
     "execution_count": 8,
     "metadata": {},
     "output_type": "execute_result"
    }
   ],
   "source": [
    "dogs_2002.isnull().values.any()"
   ]
  },
  {
   "cell_type": "markdown",
   "id": "Yb9o7VSC3PmW",
   "metadata": {
    "id": "Yb9o7VSC3PmW"
   },
   "source": [
    "#### Dataset 2\n",
    "  * NUTS1 NUTS2 NUTS3\n",
    "  * DISTRICT_CODE\n",
    "  * SUB_DISTRICT_CODE\n",
    "  * Postal_CODE\n",
    "  * Dog Breed\n",
    "  * Anzahl\n",
    "  * Ref_Date"
   ]
  },
  {
   "cell_type": "markdown",
   "id": "o3r727dnBgMa",
   "metadata": {
    "id": "o3r727dnBgMa"
   },
   "source": [
    "##### Obtain"
   ]
  },
  {
   "cell_type": "code",
   "execution_count": 9,
   "id": "OZ33eJS5uLoR",
   "metadata": {
    "colab": {
     "base_uri": "https://localhost:8080/",
     "height": 311
    },
    "id": "OZ33eJS5uLoR",
    "outputId": "d5847ce1-9657-4d88-f4ae-28ff9db150d5"
   },
   "outputs": [
    {
     "name": "stdout",
     "output_type": "stream",
     "text": [
      "Dataframe shape:  (11117, 9)\n"
     ]
    },
    {
     "data": {
      "text/html": [
       "<div>\n",
       "<style scoped>\n",
       "    .dataframe tbody tr th:only-of-type {\n",
       "        vertical-align: middle;\n",
       "    }\n",
       "\n",
       "    .dataframe tbody tr th {\n",
       "        vertical-align: top;\n",
       "    }\n",
       "\n",
       "    .dataframe thead th {\n",
       "        text-align: right;\n",
       "    }\n",
       "</style>\n",
       "<table border=\"1\" class=\"dataframe\">\n",
       "  <thead>\n",
       "    <tr style=\"text-align: right;\">\n",
       "      <th></th>\n",
       "      <th>NUTS1</th>\n",
       "      <th>NUTS2</th>\n",
       "      <th>NUTS3</th>\n",
       "      <th>DISTRICT_CODE</th>\n",
       "      <th>SUB_DISTRICT_CODE</th>\n",
       "      <th>Postal_CODE</th>\n",
       "      <th>Dog Breed</th>\n",
       "      <th>Anzahl</th>\n",
       "      <th>Ref_Date</th>\n",
       "    </tr>\n",
       "  </thead>\n",
       "  <tbody>\n",
       "    <tr>\n",
       "      <th>0</th>\n",
       "      <td>AT1</td>\n",
       "      <td>AT13</td>\n",
       "      <td>AT113</td>\n",
       "      <td>90100</td>\n",
       "      <td>.</td>\n",
       "      <td>1010</td>\n",
       "      <td>Afghanischer Windhund / Mischling</td>\n",
       "      <td>1.0</td>\n",
       "      <td>20240603</td>\n",
       "    </tr>\n",
       "    <tr>\n",
       "      <th>1</th>\n",
       "      <td>AT1</td>\n",
       "      <td>AT13</td>\n",
       "      <td>AT113</td>\n",
       "      <td>90100</td>\n",
       "      <td>.</td>\n",
       "      <td>1010</td>\n",
       "      <td>Akita / Belgischer Schäferhund</td>\n",
       "      <td>1.0</td>\n",
       "      <td>20240603</td>\n",
       "    </tr>\n",
       "    <tr>\n",
       "      <th>2</th>\n",
       "      <td>AT1</td>\n",
       "      <td>AT13</td>\n",
       "      <td>AT113</td>\n",
       "      <td>90100</td>\n",
       "      <td>.</td>\n",
       "      <td>1010</td>\n",
       "      <td>Alaskan Malamute</td>\n",
       "      <td>1.0</td>\n",
       "      <td>20240603</td>\n",
       "    </tr>\n",
       "    <tr>\n",
       "      <th>3</th>\n",
       "      <td>AT1</td>\n",
       "      <td>AT13</td>\n",
       "      <td>AT113</td>\n",
       "      <td>90100</td>\n",
       "      <td>.</td>\n",
       "      <td>1010</td>\n",
       "      <td>American Cocker Spaniel</td>\n",
       "      <td>2.0</td>\n",
       "      <td>20240603</td>\n",
       "    </tr>\n",
       "    <tr>\n",
       "      <th>4</th>\n",
       "      <td>AT1</td>\n",
       "      <td>AT13</td>\n",
       "      <td>AT113</td>\n",
       "      <td>90100</td>\n",
       "      <td>.</td>\n",
       "      <td>1010</td>\n",
       "      <td>American Cocker Spaniel / Kleinpudel Schwarz</td>\n",
       "      <td>1.0</td>\n",
       "      <td>20240603</td>\n",
       "    </tr>\n",
       "  </tbody>\n",
       "</table>\n",
       "</div>"
      ],
      "text/plain": [
       "  NUTS1 NUTS2  NUTS3  DISTRICT_CODE SUB_DISTRICT_CODE  Postal_CODE  \\\n",
       "0   AT1  AT13  AT113          90100                 .         1010   \n",
       "1   AT1  AT13  AT113          90100                 .         1010   \n",
       "2   AT1  AT13  AT113          90100                 .         1010   \n",
       "3   AT1  AT13  AT113          90100                 .         1010   \n",
       "4   AT1  AT13  AT113          90100                 .         1010   \n",
       "\n",
       "                                      Dog Breed  Anzahl  Ref_Date  \n",
       "0             Afghanischer Windhund / Mischling     1.0  20240603  \n",
       "1                Akita / Belgischer Schäferhund     1.0  20240603  \n",
       "2                              Alaskan Malamute     1.0  20240603  \n",
       "3                       American Cocker Spaniel     2.0  20240603  \n",
       "4  American Cocker Spaniel / Kleinpudel Schwarz     1.0  20240603  "
      ]
     },
     "execution_count": 9,
     "metadata": {},
     "output_type": "execute_result"
    }
   ],
   "source": [
    "# Import dataset 2\n",
    "dog_types_2024 = pd.read_csv(\"hunde-wien.csv\", sep=';', encoding='latin-1', skiprows=1)\n",
    "\n",
    "print(\"Dataframe shape: \", dog_types_2024.shape)\n",
    "dog_types_2024.head(5)"
   ]
  },
  {
   "cell_type": "markdown",
   "id": "wOsgnkig3lLM",
   "metadata": {
    "id": "wOsgnkig3lLM"
   },
   "source": [
    "* The separator is ';'\n",
    "* The encoding is 'latin-1'.\n",
    "* The shape is (11117, 9).\n",
    "* Format is long (?) :\n",
    "  * contains a single count row for each dog breed (if we consider entries like 'Hovawart' and 'Hovawart / Golden Retriever' to be different)\n",
    "  * but contains multiple entries on districts"
   ]
  },
  {
   "cell_type": "markdown",
   "id": "LD3kkP6yBjxE",
   "metadata": {
    "id": "LD3kkP6yBjxE"
   },
   "source": [
    "##### Scrub"
   ]
  },
  {
   "cell_type": "code",
   "execution_count": 10,
   "id": "P41XHNLCBktj",
   "metadata": {
    "colab": {
     "base_uri": "https://localhost:8080/"
    },
    "id": "P41XHNLCBktj",
    "outputId": "aef54597-595a-4d45-fd22-56336480ba50"
   },
   "outputs": [
    {
     "name": "stdout",
     "output_type": "stream",
     "text": [
      "NUTS1                 object\n",
      "NUTS2                 object\n",
      "NUTS3                 object\n",
      "DISTRICT_CODE          int64\n",
      "SUB_DISTRICT_CODE     object\n",
      "Postal_CODE            int64\n",
      "Dog Breed             object\n",
      "Anzahl               float64\n",
      "Ref_Date               int64\n",
      "dtype: object\n"
     ]
    }
   ],
   "source": [
    "print(dog_types_2024.dtypes)"
   ]
  },
  {
   "cell_type": "markdown",
   "id": "b_-WR17pGj9e",
   "metadata": {
    "id": "b_-WR17pGj9e"
   },
   "source": [
    "Looks like columns could have only one value in some colums --> check for that. Also, no district is missing, which is good."
   ]
  },
  {
   "cell_type": "code",
   "execution_count": 11,
   "id": "Q01qF2GsGMcj",
   "metadata": {
    "colab": {
     "base_uri": "https://localhost:8080/"
    },
    "id": "Q01qF2GsGMcj",
    "outputId": "230c1b41-f6ad-493a-ef55-02cc009778e6"
   },
   "outputs": [
    {
     "name": "stdout",
     "output_type": "stream",
     "text": [
      "NUTS1 ['AT1']\n",
      "NUTS2 ['AT13']\n",
      "NUTS3 ['AT113']\n",
      "DISTRICT_CODE [90100 90200 90300 90400 90500 90600 90700 90800 90900 91000 91100 91200\n",
      " 91300 91400 91500 91600 91700 91800 91900 92000 92100 92200 92300]\n",
      "SUB_DISTRICT_CODE ['.']\n",
      "Postal_CODE [1010 1020 1030 1040 1050 1060 1070 1080 1090 1100 1110 1120 1130 1140\n",
      " 1150 1160 1170 1180 1190 1200 1210 1220 1230]\n",
      "Dog Breed ['Afghanischer Windhund / Mischling' 'Akita / Belgischer Schäferhund'\n",
      " 'Alaskan Malamute' ... 'Zwergschnauzer schwarz / Deutsch Drahthaar'\n",
      " 'Zwergspitz (Pomeranian) / Border Collie'\n",
      " 'Zwergspitz (Pomeranian) / Zwergspitz (Pomeranian)']\n",
      "Anzahl [  1.      2.      3.      4.      6.     17.      5.     10.      7.\n",
      "   8.     13.     12.     25.     20.     19.     48.      9.     47.\n",
      "  23.     29.     21.     11.    108.     49.     67.     52.     31.\n",
      "  37.    103.     56.     27.     86.     14.     30.     84.    288.\n",
      "  18.     83.     15.     45.     51.     28.     91.     40.     32.\n",
      "  24.     63.     53.     22.     97.     36.     73.     35.    253.\n",
      "  26.     76.     34.     90.     16.     75.     61.    101.    161.\n",
      "  54.     68.     43.    130.    154.     72.     46.     39.    148.\n",
      " 112.    217.     55.    191.    529.    121.     96.     94.    206.\n",
      "  87.     44.     41.    118.     69.     64.    115.     62.    150.\n",
      "  33.    129.    362.     98.     71.    122.    242.    107.     93.\n",
      " 224.     65.     82.     92.    119.    385.     60.    141.     79.\n",
      "  58.     42.    156.    145.     66.     74.    146.    310.    173.\n",
      " 225.     89.    411.    172.    136.    105.    258.    139.    234.\n",
      "  38.    260.    749.    195.    208.     50.     80.    144.    430.\n",
      " 189.    279.    222.    117.    400.    317.     95.    269.      1.012\n",
      " 207.    100.    142.    194.    123.    133.    153.    521.   ]\n",
      "Ref_Date [20240603]\n"
     ]
    }
   ],
   "source": [
    "def check_unique_values(df):\n",
    "    for col in df.columns:\n",
    "        print(col, df[col].unique())\n",
    "\n",
    "check_unique_values(dog_types_2024)"
   ]
  },
  {
   "cell_type": "markdown",
   "id": "5hVfZLltI_8L",
   "metadata": {
    "id": "5hVfZLltI_8L"
   },
   "source": [
    "Drop NUTS1, NUTS, NUTS3 and SUB_DISTRICT CODE. Don't want to drop Ref_Date yet, maybe could be used for some insights with the above data frame."
   ]
  },
  {
   "cell_type": "code",
   "execution_count": 12,
   "id": "KTKCaSY2JUqT",
   "metadata": {
    "id": "KTKCaSY2JUqT"
   },
   "outputs": [],
   "source": [
    "def adapt_df(df: pd.DataFrame):\n",
    "    df = df.drop(['NUTS1', 'NUTS2', 'NUTS3', 'SUB_DISTRICT_CODE'], axis=1)\n",
    "    df['Ref_Date'] = pd.to_datetime(df['Ref_Date'].astype(str), format='%Y%m%d')\n",
    "    return df\n",
    "\n",
    "dog_types_2024 = adapt_df(dog_types_2024)"
   ]
  },
  {
   "cell_type": "code",
   "execution_count": 13,
   "id": "hfAVhC4hK1kd",
   "metadata": {
    "colab": {
     "base_uri": "https://localhost:8080/",
     "height": 219
    },
    "id": "hfAVhC4hK1kd",
    "outputId": "b7fc8a8f-73c7-413d-87d2-9a8f9889f64b"
   },
   "outputs": [
    {
     "name": "stdout",
     "output_type": "stream",
     "text": [
      "DISTRICT_CODE             int64\n",
      "Postal_CODE               int64\n",
      "Dog Breed                object\n",
      "Anzahl                  float64\n",
      "Ref_Date         datetime64[ns]\n",
      "dtype: object\n"
     ]
    },
    {
     "data": {
      "text/html": [
       "<div>\n",
       "<style scoped>\n",
       "    .dataframe tbody tr th:only-of-type {\n",
       "        vertical-align: middle;\n",
       "    }\n",
       "\n",
       "    .dataframe tbody tr th {\n",
       "        vertical-align: top;\n",
       "    }\n",
       "\n",
       "    .dataframe thead th {\n",
       "        text-align: right;\n",
       "    }\n",
       "</style>\n",
       "<table border=\"1\" class=\"dataframe\">\n",
       "  <thead>\n",
       "    <tr style=\"text-align: right;\">\n",
       "      <th></th>\n",
       "      <th>DISTRICT_CODE</th>\n",
       "      <th>Postal_CODE</th>\n",
       "      <th>Dog Breed</th>\n",
       "      <th>Anzahl</th>\n",
       "      <th>Ref_Date</th>\n",
       "    </tr>\n",
       "  </thead>\n",
       "  <tbody>\n",
       "    <tr>\n",
       "      <th>0</th>\n",
       "      <td>90100</td>\n",
       "      <td>1010</td>\n",
       "      <td>Afghanischer Windhund / Mischling</td>\n",
       "      <td>1.0</td>\n",
       "      <td>2024-06-03</td>\n",
       "    </tr>\n",
       "    <tr>\n",
       "      <th>1</th>\n",
       "      <td>90100</td>\n",
       "      <td>1010</td>\n",
       "      <td>Akita / Belgischer Schäferhund</td>\n",
       "      <td>1.0</td>\n",
       "      <td>2024-06-03</td>\n",
       "    </tr>\n",
       "  </tbody>\n",
       "</table>\n",
       "</div>"
      ],
      "text/plain": [
       "   DISTRICT_CODE  Postal_CODE                          Dog Breed  Anzahl  \\\n",
       "0          90100         1010  Afghanischer Windhund / Mischling     1.0   \n",
       "1          90100         1010     Akita / Belgischer Schäferhund     1.0   \n",
       "\n",
       "    Ref_Date  \n",
       "0 2024-06-03  \n",
       "1 2024-06-03  "
      ]
     },
     "execution_count": 13,
     "metadata": {},
     "output_type": "execute_result"
    }
   ],
   "source": [
    "print(dog_types_2024.dtypes)\n",
    "dog_types_2024.head(2)"
   ]
  },
  {
   "cell_type": "markdown",
   "id": "oI7oOWK7KBnM",
   "metadata": {
    "id": "oI7oOWK7KBnM"
   },
   "source": [
    "Check for null values --> looks good."
   ]
  },
  {
   "cell_type": "code",
   "execution_count": 14,
   "id": "Xw4WF079KFvE",
   "metadata": {
    "colab": {
     "base_uri": "https://localhost:8080/"
    },
    "id": "Xw4WF079KFvE",
    "outputId": "aacc4174-c142-4450-a3c2-b7f64bddb556"
   },
   "outputs": [
    {
     "data": {
      "text/plain": [
       "False"
      ]
     },
     "execution_count": 14,
     "metadata": {},
     "output_type": "execute_result"
    }
   ],
   "source": [
    "dog_types_2024.isnull().values.any()"
   ]
  },
  {
   "cell_type": "markdown",
   "id": "6gGBC4cuKEXn",
   "metadata": {
    "id": "6gGBC4cuKEXn"
   },
   "source": [
    "Check if some Dog Breeds are duplicated --> looks good."
   ]
  },
  {
   "cell_type": "code",
   "execution_count": 15,
   "id": "_mhXva3xLtnm",
   "metadata": {
    "colab": {
     "base_uri": "https://localhost:8080/"
    },
    "id": "_mhXva3xLtnm",
    "outputId": "86ab4548-0ae4-4467-828b-67becf533b67"
   },
   "outputs": [
    {
     "name": "stdout",
     "output_type": "stream",
     "text": [
      "Dog Breed             Postal_CODE\n",
      "Affenpinscher         1020           1\n",
      "Malteser / Pudel      1020           1\n",
      "Malteser / Pekingese  1140           1\n",
      "                      1160           1\n",
      "                      1180           1\n",
      "Name: Postal_CODE, dtype: int64\n"
     ]
    }
   ],
   "source": [
    "def check_for_duplicates(df):\n",
    "    key=['Dog Breed', 'Postal_CODE']\n",
    "    print(dog_types_2024.groupby(key)['Postal_CODE'].count().sort_values(ascending=False).head(5))\n",
    "\n",
    "check_for_duplicates(dog_types_2024)"
   ]
  },
  {
   "cell_type": "markdown",
   "id": "wA1JypRoMm_R",
   "metadata": {
    "id": "wA1JypRoMm_R"
   },
   "source": [
    "Check if there are unknown Dog Breeds:\n",
    "  * There appear to be 250 entries with at least partly unknown Dog Breeds.\n",
    "  * They are kept for the moment."
   ]
  },
  {
   "cell_type": "code",
   "execution_count": 16,
   "id": "efZTyQAPMra8",
   "metadata": {
    "colab": {
     "base_uri": "https://localhost:8080/"
    },
    "id": "efZTyQAPMra8",
    "outputId": "d0033e84-e6c2-404f-f750-e1bd7e8bdc58"
   },
   "outputs": [
    {
     "name": "stdout",
     "output_type": "stream",
     "text": [
      "250\n",
      "['Unbekannt' 'Unbekannt / Mischling' 'Unbekannt / Dackel'\n",
      " 'Unbekannt / Kleiner Münsterländer' 'Unbekannt / Mudi'\n",
      " 'Unbekannt / Pit Bull Terrier']\n"
     ]
    }
   ],
   "source": [
    "def check_for_unknown_dog_breeds(df: pd.DataFrame):\n",
    "    print(df[df['Dog Breed'].str.contains('Unbekannt')].size)\n",
    "    print(df[df['Dog Breed'].str.contains('Unbekannt')]['Dog Breed'].unique())\n",
    "\n",
    "check_for_unknown_dog_breeds(dog_types_2024)"
   ]
  },
  {
   "cell_type": "code",
   "execution_count": 17,
   "id": "p-J6ytobgUUS",
   "metadata": {
    "id": "p-J6ytobgUUS"
   },
   "outputs": [],
   "source": [
    "dog_types_2024['Anzahl'] = dog_types_2024['Anzahl'].astype(int)"
   ]
  },
  {
   "cell_type": "code",
   "execution_count": 18,
   "id": "k7MhWV0sQEf2",
   "metadata": {
    "colab": {
     "base_uri": "https://localhost:8080/",
     "height": 206
    },
    "id": "k7MhWV0sQEf2",
    "outputId": "25354a4c-fa8f-47cf-bb60-23eb3ccf77ce"
   },
   "outputs": [
    {
     "data": {
      "text/html": [
       "<div>\n",
       "<style scoped>\n",
       "    .dataframe tbody tr th:only-of-type {\n",
       "        vertical-align: middle;\n",
       "    }\n",
       "\n",
       "    .dataframe tbody tr th {\n",
       "        vertical-align: top;\n",
       "    }\n",
       "\n",
       "    .dataframe thead th {\n",
       "        text-align: right;\n",
       "    }\n",
       "</style>\n",
       "<table border=\"1\" class=\"dataframe\">\n",
       "  <thead>\n",
       "    <tr style=\"text-align: right;\">\n",
       "      <th></th>\n",
       "      <th>DISTRICT_CODE</th>\n",
       "      <th>Postal_CODE</th>\n",
       "      <th>Dog Breed</th>\n",
       "      <th>Anzahl</th>\n",
       "      <th>Ref_Date</th>\n",
       "    </tr>\n",
       "  </thead>\n",
       "  <tbody>\n",
       "    <tr>\n",
       "      <th>0</th>\n",
       "      <td>90100</td>\n",
       "      <td>1010</td>\n",
       "      <td>Afghanischer Windhund / Mischling</td>\n",
       "      <td>1</td>\n",
       "      <td>2024-06-03</td>\n",
       "    </tr>\n",
       "    <tr>\n",
       "      <th>1</th>\n",
       "      <td>90100</td>\n",
       "      <td>1010</td>\n",
       "      <td>Akita / Belgischer Schäferhund</td>\n",
       "      <td>1</td>\n",
       "      <td>2024-06-03</td>\n",
       "    </tr>\n",
       "    <tr>\n",
       "      <th>2</th>\n",
       "      <td>90100</td>\n",
       "      <td>1010</td>\n",
       "      <td>Alaskan Malamute</td>\n",
       "      <td>1</td>\n",
       "      <td>2024-06-03</td>\n",
       "    </tr>\n",
       "    <tr>\n",
       "      <th>3</th>\n",
       "      <td>90100</td>\n",
       "      <td>1010</td>\n",
       "      <td>American Cocker Spaniel</td>\n",
       "      <td>2</td>\n",
       "      <td>2024-06-03</td>\n",
       "    </tr>\n",
       "    <tr>\n",
       "      <th>4</th>\n",
       "      <td>90100</td>\n",
       "      <td>1010</td>\n",
       "      <td>American Cocker Spaniel / Kleinpudel Schwarz</td>\n",
       "      <td>1</td>\n",
       "      <td>2024-06-03</td>\n",
       "    </tr>\n",
       "  </tbody>\n",
       "</table>\n",
       "</div>"
      ],
      "text/plain": [
       "   DISTRICT_CODE  Postal_CODE                                     Dog Breed  \\\n",
       "0          90100         1010             Afghanischer Windhund / Mischling   \n",
       "1          90100         1010                Akita / Belgischer Schäferhund   \n",
       "2          90100         1010                              Alaskan Malamute   \n",
       "3          90100         1010                       American Cocker Spaniel   \n",
       "4          90100         1010  American Cocker Spaniel / Kleinpudel Schwarz   \n",
       "\n",
       "   Anzahl   Ref_Date  \n",
       "0       1 2024-06-03  \n",
       "1       1 2024-06-03  \n",
       "2       1 2024-06-03  \n",
       "3       2 2024-06-03  \n",
       "4       1 2024-06-03  "
      ]
     },
     "execution_count": 18,
     "metadata": {},
     "output_type": "execute_result"
    }
   ],
   "source": [
    "dog_types_2024.head()"
   ]
  },
  {
   "cell_type": "markdown",
   "id": "sN1aYp3MS4E1",
   "metadata": {
    "id": "sN1aYp3MS4E1"
   },
   "source": [
    "Could combine colors to one col? If needed."
   ]
  },
  {
   "cell_type": "markdown",
   "id": "olBy7Wpa9HEn",
   "metadata": {
    "id": "olBy7Wpa9HEn"
   },
   "source": [
    "#### Dataset 3\n",
    "  * NUTS1: AT1\n",
    "  * NUTS2: AT13\n",
    "  * NUTS3: AT113\n",
    "  * DISTRICT_CODE: Bezirke, Format 9BB00\n",
    "  * SUB_DISTRICT_CODE: Zählbezirk, leer\n",
    "  * Postal_CODE: Postleitzahl, Format 1BB0\n",
    "  * Dog Breed: Hunderasse\n",
    "  * Anzahl: Anzahl der jeweiligen Hunderasse\n",
    "  * Ref_Date: Jahr"
   ]
  },
  {
   "cell_type": "code",
   "execution_count": 19,
   "id": "Z7IybtAVr_xa",
   "metadata": {
    "colab": {
     "base_uri": "https://localhost:8080/",
     "height": 276
    },
    "id": "Z7IybtAVr_xa",
    "outputId": "9377503e-bdf4-407b-ac2d-d5b28ba3a252"
   },
   "outputs": [
    {
     "name": "stdout",
     "output_type": "stream",
     "text": [
      "Dataframe shape:  (33793, 9)\n"
     ]
    },
    {
     "data": {
      "text/html": [
       "<div>\n",
       "<style scoped>\n",
       "    .dataframe tbody tr th:only-of-type {\n",
       "        vertical-align: middle;\n",
       "    }\n",
       "\n",
       "    .dataframe tbody tr th {\n",
       "        vertical-align: top;\n",
       "    }\n",
       "\n",
       "    .dataframe thead th {\n",
       "        text-align: right;\n",
       "    }\n",
       "</style>\n",
       "<table border=\"1\" class=\"dataframe\">\n",
       "  <thead>\n",
       "    <tr style=\"text-align: right;\">\n",
       "      <th></th>\n",
       "      <th>NUTS1</th>\n",
       "      <th>NUTS2</th>\n",
       "      <th>NUTS3</th>\n",
       "      <th>DISTRICT_CODE</th>\n",
       "      <th>SUB_DISTRICT_CODE</th>\n",
       "      <th>Postal_CODE</th>\n",
       "      <th>Dog Breed</th>\n",
       "      <th>Anzahl</th>\n",
       "      <th>Ref_Date</th>\n",
       "    </tr>\n",
       "  </thead>\n",
       "  <tbody>\n",
       "    <tr>\n",
       "      <th>0</th>\n",
       "      <td>AT1</td>\n",
       "      <td>AT13</td>\n",
       "      <td>AT113</td>\n",
       "      <td>90100</td>\n",
       "      <td>.</td>\n",
       "      <td>1010</td>\n",
       "      <td>Afghanischer Windhund</td>\n",
       "      <td>1</td>\n",
       "      <td>20123112</td>\n",
       "    </tr>\n",
       "    <tr>\n",
       "      <th>1</th>\n",
       "      <td>AT1</td>\n",
       "      <td>AT13</td>\n",
       "      <td>AT113</td>\n",
       "      <td>90100</td>\n",
       "      <td>.</td>\n",
       "      <td>1010</td>\n",
       "      <td>Amerikanischer Cockerspaniel</td>\n",
       "      <td>1</td>\n",
       "      <td>20123112</td>\n",
       "    </tr>\n",
       "    <tr>\n",
       "      <th>2</th>\n",
       "      <td>AT1</td>\n",
       "      <td>AT13</td>\n",
       "      <td>AT113</td>\n",
       "      <td>90100</td>\n",
       "      <td>.</td>\n",
       "      <td>1010</td>\n",
       "      <td>Amerikanischer Staffordshire-Terrier</td>\n",
       "      <td>2</td>\n",
       "      <td>20123112</td>\n",
       "    </tr>\n",
       "    <tr>\n",
       "      <th>3</th>\n",
       "      <td>AT1</td>\n",
       "      <td>AT13</td>\n",
       "      <td>AT113</td>\n",
       "      <td>90100</td>\n",
       "      <td>.</td>\n",
       "      <td>1010</td>\n",
       "      <td>Australian Shepherd Dog</td>\n",
       "      <td>2</td>\n",
       "      <td>20123112</td>\n",
       "    </tr>\n",
       "    <tr>\n",
       "      <th>4</th>\n",
       "      <td>AT1</td>\n",
       "      <td>AT13</td>\n",
       "      <td>AT113</td>\n",
       "      <td>90100</td>\n",
       "      <td>.</td>\n",
       "      <td>1010</td>\n",
       "      <td>Australian Terrier</td>\n",
       "      <td>1</td>\n",
       "      <td>20123112</td>\n",
       "    </tr>\n",
       "  </tbody>\n",
       "</table>\n",
       "</div>"
      ],
      "text/plain": [
       "  NUTS1 NUTS2  NUTS3  DISTRICT_CODE SUB_DISTRICT_CODE  Postal_CODE  \\\n",
       "0   AT1  AT13  AT113          90100                 .         1010   \n",
       "1   AT1  AT13  AT113          90100                 .         1010   \n",
       "2   AT1  AT13  AT113          90100                 .         1010   \n",
       "3   AT1  AT13  AT113          90100                 .         1010   \n",
       "4   AT1  AT13  AT113          90100                 .         1010   \n",
       "\n",
       "                              Dog Breed  Anzahl  Ref_Date  \n",
       "0                 Afghanischer Windhund       1  20123112  \n",
       "1          Amerikanischer Cockerspaniel       1  20123112  \n",
       "2  Amerikanischer Staffordshire-Terrier       2  20123112  \n",
       "3               Australian Shepherd Dog       2  20123112  \n",
       "4                    Australian Terrier       1  20123112  "
      ]
     },
     "execution_count": 19,
     "metadata": {},
     "output_type": "execute_result"
    }
   ],
   "source": [
    "# Import dataset 3\n",
    "dog_types_2012 = pd.read_csv(\"hunde-vie.csv\", sep=';', encoding='latin-1', skiprows=1)\n",
    "\n",
    "print(\"Dataframe shape: \", dog_types_2012.shape)\n",
    "dog_types_2012.head(5)"
   ]
  },
  {
   "cell_type": "markdown",
   "id": "BKBsLUD09YSo",
   "metadata": {
    "id": "BKBsLUD09YSo"
   },
   "source": [
    "* The separator is ';'\n",
    "* The encoding is 'latin-1'.\n",
    "* The shape is (33793, 9).\n",
    "* Format is long (?):\n",
    "  * contains a single count row for each dog breed (if we consider entries like 'Hovawart' and 'Hovawart / Golden Retriever' to be different)\n",
    "  * but again multiple entries\n"
   ]
  },
  {
   "cell_type": "markdown",
   "id": "_fynsjn1VPj7",
   "metadata": {
    "id": "_fynsjn1VPj7"
   },
   "source": [
    "Repeat steps as with dataframe 2, since they have the same format."
   ]
  },
  {
   "cell_type": "code",
   "execution_count": 20,
   "id": "TmOE2eJUYR9g",
   "metadata": {
    "colab": {
     "base_uri": "https://localhost:8080/"
    },
    "id": "TmOE2eJUYR9g",
    "outputId": "30954da1-433a-408f-b30c-cb8ec035c358"
   },
   "outputs": [
    {
     "name": "stdout",
     "output_type": "stream",
     "text": [
      "NUTS1 ['AT1']\n",
      "NUTS2 ['AT13']\n",
      "NUTS3 ['AT113']\n",
      "DISTRICT_CODE [90100 90200 90300 90400 90500 90600 90700 90800 90900 91000 91100 91200\n",
      " 91300 91400 91500 91600 91700 91800 91900 92000 92100 92200 92300]\n",
      "SUB_DISTRICT_CODE ['.']\n",
      "Postal_CODE [1010 1020 1030 1040 1050 1060 1070 1080 1090 1100 1110 1120 1130 1140\n",
      " 1150 1160 1170 1180 1190 1200 1210 1220 1230]\n",
      "Dog Breed ['Afghanischer Windhund' 'Amerikanischer Cockerspaniel'\n",
      " 'Amerikanischer Staffordshire-Terrier' ... 'Shikoku'\n",
      " 'Olde English Bulldogge / Podenco Ibicenco' 'Whippet / Border-Collie']\n",
      "Anzahl [   1    2    9    4    3    8    5    7    6   14  154   42   20   12\n",
      "   31   15   17   86   13   19   33   41   47   32   30   72   22   81\n",
      "   60   29   11  856   25   76   10   59   62   23   75   50   18  777\n",
      "   44  206   24   21   26  330  229  196  143  263   40  127   43   16\n",
      "   27  205   35   37  107  104  120   69   56  197   83   64   45  139\n",
      "  175   67   65 1750  169   91   39   70  153   88   80   58   49  117\n",
      "  109 1182  101   51  100   48   36   28   38   54   34  772   95  673\n",
      "   46  113  141  943   52  415  686   55  477   68  431  114  125  922\n",
      "   57  628   61  142   73  241  119  132  144  284  228  161 2354   53\n",
      "  179  281  130  204  171  112   66  352  118   87  310  194   85   82\n",
      " 2717  213   93   99  186  195   84 1397  140   79  783   77  710  316\n",
      "  214  191  258  129  173  183 1628   90  121 1103  102  108   63  711\n",
      "  631  106  135  884  379  666  446  413  835  579   71  287  124  145\n",
      "   78  257  225  172 2160  174   89  331  134  185  163  347  295  208\n",
      "   97 2526  217  182   74  189 1312  131  729  667  301  192  243  246\n",
      "  122  167  137 1504  160   92  219  111  116 1040  661  604   96   98\n",
      "  826  382  626  417  407  792  533  341  123  235 2051  177  126  378\n",
      "  128  170  149  329  292  227 2441  221  147  164 1230  639  290  146\n",
      "  245  278  110  151 1443  152  993  618  578  794  372  601  403  380\n",
      "  773   94  515  148  387  199  176 1977  399  297  115  233 2381  222\n",
      "  162  157 1199  709  650  294 1403  239  953  566  799  373  577  398\n",
      "  757  500  392  187  150  198 1951  423  260  200  272  234 2346 1161\n",
      "  715  640  248  299 1391  242  928  630  568  810  376  585  395  383\n",
      "  763  502  411 1965  158  420  155  240  250  230  105 2371  207  159\n",
      " 1163]\n",
      "Ref_Date [20123112 20133112 20143112 20153112 20163112 20173112]\n"
     ]
    }
   ],
   "source": [
    "check_unique_values(dog_types_2012)"
   ]
  },
  {
   "cell_type": "markdown",
   "id": "g8AKqKFpjIsM",
   "metadata": {
    "id": "g8AKqKFpjIsM"
   },
   "source": [
    "Change date format to yyyymmdd to be the same as in dataframe above."
   ]
  },
  {
   "cell_type": "code",
   "execution_count": 21,
   "id": "ov71siqvZqZR",
   "metadata": {
    "colab": {
     "base_uri": "https://localhost:8080/"
    },
    "id": "ov71siqvZqZR",
    "outputId": "e345e9d7-5ff0-403f-8032-9989a62c1b29"
   },
   "outputs": [
    {
     "name": "stdout",
     "output_type": "stream",
     "text": [
      "False\n"
     ]
    }
   ],
   "source": [
    "dog_types_2012['Ref_Date'] = pd.to_datetime(dog_types_2012['Ref_Date'], format='%Y%d%m').dt.strftime('%Y%m%d')\n",
    "dog_types_2012 = adapt_df(dog_types_2012)\n",
    "print(dog_types_2012.isnull().values.any())"
   ]
  },
  {
   "cell_type": "markdown",
   "id": "SFdnZM0ZZ3Kt",
   "metadata": {
    "id": "SFdnZM0ZZ3Kt"
   },
   "source": [
    "Check for duplicates and unkown dog breeds --> has values with the breed not known completely as well as duplicates.\n",
    "* Unkown can stay for now.\n",
    "* Drop duplicates.\n",
    "\n"
   ]
  },
  {
   "cell_type": "code",
   "execution_count": 22,
   "id": "GKd5YQOrVOIv",
   "metadata": {
    "colab": {
     "base_uri": "https://localhost:8080/"
    },
    "id": "GKd5YQOrVOIv",
    "outputId": "4d53a1a4-6a00-4360-a77b-79ecca8fccdd"
   },
   "outputs": [
    {
     "name": "stdout",
     "output_type": "stream",
     "text": [
      "Dog Breed             Postal_CODE\n",
      "Affenpinscher         1020           1\n",
      "Malteser / Pudel      1020           1\n",
      "Malteser / Pekingese  1140           1\n",
      "                      1160           1\n",
      "                      1180           1\n",
      "Name: Postal_CODE, dtype: int64\n",
      "690\n",
      "['Unbekannt']\n"
     ]
    }
   ],
   "source": [
    "check_for_duplicates(dog_types_2012)\n",
    "check_for_unknown_dog_breeds(dog_types_2012)"
   ]
  },
  {
   "cell_type": "code",
   "execution_count": 23,
   "id": "-X1odN8xc1uq",
   "metadata": {
    "id": "-X1odN8xc1uq"
   },
   "outputs": [],
   "source": [
    "# drop duplicates\n",
    "key=['Dog Breed', 'Postal_CODE']\n",
    "dog_types_2012=dog_types_2012.drop_duplicates(subset=key)"
   ]
  },
  {
   "cell_type": "markdown",
   "id": "MeNL89tTmUnb",
   "metadata": {
    "id": "MeNL89tTmUnb"
   },
   "source": [
    "### Merging Dataset 2 and 3 as they contain the same info for different years"
   ]
  },
  {
   "cell_type": "code",
   "execution_count": 24,
   "id": "ZIagR3NNdPEZ",
   "metadata": {
    "colab": {
     "base_uri": "https://localhost:8080/",
     "height": 421
    },
    "id": "ZIagR3NNdPEZ",
    "outputId": "2219585f-18a8-4db2-bae5-72ddbd8d31d4"
   },
   "outputs": [
    {
     "name": "stdout",
     "output_type": "stream",
     "text": [
      "DISTRICT_CODE             int64\n",
      "Postal_CODE               int64\n",
      "Dog Breed                object\n",
      "Anzahl                    int32\n",
      "Ref_Date         datetime64[ns]\n",
      "dtype: object\n",
      "DISTRICT_CODE             int64\n",
      "Postal_CODE               int64\n",
      "Dog Breed                object\n",
      "Anzahl                    int64\n",
      "Ref_Date         datetime64[ns]\n",
      "dtype: object\n"
     ]
    },
    {
     "data": {
      "text/html": [
       "<div>\n",
       "<style scoped>\n",
       "    .dataframe tbody tr th:only-of-type {\n",
       "        vertical-align: middle;\n",
       "    }\n",
       "\n",
       "    .dataframe tbody tr th {\n",
       "        vertical-align: top;\n",
       "    }\n",
       "\n",
       "    .dataframe thead th {\n",
       "        text-align: right;\n",
       "    }\n",
       "</style>\n",
       "<table border=\"1\" class=\"dataframe\">\n",
       "  <thead>\n",
       "    <tr style=\"text-align: right;\">\n",
       "      <th></th>\n",
       "      <th>DISTRICT_CODE</th>\n",
       "      <th>Postal_CODE</th>\n",
       "      <th>Dog Breed</th>\n",
       "      <th>Anzahl</th>\n",
       "      <th>Ref_Date</th>\n",
       "    </tr>\n",
       "  </thead>\n",
       "  <tbody>\n",
       "    <tr>\n",
       "      <th>0</th>\n",
       "      <td>90100</td>\n",
       "      <td>1010</td>\n",
       "      <td>Afghanischer Windhund</td>\n",
       "      <td>1</td>\n",
       "      <td>2012-12-31</td>\n",
       "    </tr>\n",
       "    <tr>\n",
       "      <th>1</th>\n",
       "      <td>90100</td>\n",
       "      <td>1010</td>\n",
       "      <td>Amerikanischer Cockerspaniel</td>\n",
       "      <td>1</td>\n",
       "      <td>2012-12-31</td>\n",
       "    </tr>\n",
       "    <tr>\n",
       "      <th>2</th>\n",
       "      <td>90100</td>\n",
       "      <td>1010</td>\n",
       "      <td>Amerikanischer Staffordshire-Terrier</td>\n",
       "      <td>2</td>\n",
       "      <td>2012-12-31</td>\n",
       "    </tr>\n",
       "    <tr>\n",
       "      <th>3</th>\n",
       "      <td>90100</td>\n",
       "      <td>1010</td>\n",
       "      <td>Australian Shepherd Dog</td>\n",
       "      <td>2</td>\n",
       "      <td>2012-12-31</td>\n",
       "    </tr>\n",
       "    <tr>\n",
       "      <th>4</th>\n",
       "      <td>90100</td>\n",
       "      <td>1010</td>\n",
       "      <td>Australian Terrier</td>\n",
       "      <td>1</td>\n",
       "      <td>2012-12-31</td>\n",
       "    </tr>\n",
       "  </tbody>\n",
       "</table>\n",
       "</div>"
      ],
      "text/plain": [
       "   DISTRICT_CODE  Postal_CODE                             Dog Breed  Anzahl  \\\n",
       "0          90100         1010                 Afghanischer Windhund       1   \n",
       "1          90100         1010          Amerikanischer Cockerspaniel       1   \n",
       "2          90100         1010  Amerikanischer Staffordshire-Terrier       2   \n",
       "3          90100         1010               Australian Shepherd Dog       2   \n",
       "4          90100         1010                    Australian Terrier       1   \n",
       "\n",
       "    Ref_Date  \n",
       "0 2012-12-31  \n",
       "1 2012-12-31  \n",
       "2 2012-12-31  \n",
       "3 2012-12-31  \n",
       "4 2012-12-31  "
      ]
     },
     "execution_count": 24,
     "metadata": {},
     "output_type": "execute_result"
    }
   ],
   "source": [
    "print(dog_types_2024.dtypes)\n",
    "print(dog_types_2012.dtypes)\n",
    "dog_types_2012.head(5)"
   ]
  },
  {
   "cell_type": "code",
   "execution_count": 25,
   "id": "FyBenE93erHj",
   "metadata": {
    "id": "FyBenE93erHj"
   },
   "outputs": [],
   "source": [
    "combined_dog_types = pd.concat([dog_types_2012, dog_types_2024])"
   ]
  },
  {
   "cell_type": "code",
   "execution_count": 26,
   "id": "Gy-bR95Gg6vd",
   "metadata": {
    "colab": {
     "base_uri": "https://localhost:8080/",
     "height": 313
    },
    "id": "Gy-bR95Gg6vd",
    "outputId": "a806a2aa-2a79-4d25-f358-ef357b1c15f7"
   },
   "outputs": [
    {
     "name": "stdout",
     "output_type": "stream",
     "text": [
      "DISTRICT_CODE             int64\n",
      "Postal_CODE               int64\n",
      "Dog Breed                object\n",
      "Anzahl                    int64\n",
      "Ref_Date         datetime64[ns]\n",
      "dtype: object (18178, 5)\n"
     ]
    },
    {
     "data": {
      "text/html": [
       "<div>\n",
       "<style scoped>\n",
       "    .dataframe tbody tr th:only-of-type {\n",
       "        vertical-align: middle;\n",
       "    }\n",
       "\n",
       "    .dataframe tbody tr th {\n",
       "        vertical-align: top;\n",
       "    }\n",
       "\n",
       "    .dataframe thead th {\n",
       "        text-align: right;\n",
       "    }\n",
       "</style>\n",
       "<table border=\"1\" class=\"dataframe\">\n",
       "  <thead>\n",
       "    <tr style=\"text-align: right;\">\n",
       "      <th></th>\n",
       "      <th>DISTRICT_CODE</th>\n",
       "      <th>Postal_CODE</th>\n",
       "      <th>Dog Breed</th>\n",
       "      <th>Anzahl</th>\n",
       "      <th>Ref_Date</th>\n",
       "    </tr>\n",
       "  </thead>\n",
       "  <tbody>\n",
       "    <tr>\n",
       "      <th>0</th>\n",
       "      <td>90100</td>\n",
       "      <td>1010</td>\n",
       "      <td>Afghanischer Windhund</td>\n",
       "      <td>1</td>\n",
       "      <td>2012-12-31</td>\n",
       "    </tr>\n",
       "    <tr>\n",
       "      <th>1</th>\n",
       "      <td>90100</td>\n",
       "      <td>1010</td>\n",
       "      <td>Amerikanischer Cockerspaniel</td>\n",
       "      <td>1</td>\n",
       "      <td>2012-12-31</td>\n",
       "    </tr>\n",
       "    <tr>\n",
       "      <th>2</th>\n",
       "      <td>90100</td>\n",
       "      <td>1010</td>\n",
       "      <td>Amerikanischer Staffordshire-Terrier</td>\n",
       "      <td>2</td>\n",
       "      <td>2012-12-31</td>\n",
       "    </tr>\n",
       "    <tr>\n",
       "      <th>3</th>\n",
       "      <td>90100</td>\n",
       "      <td>1010</td>\n",
       "      <td>Australian Shepherd Dog</td>\n",
       "      <td>2</td>\n",
       "      <td>2012-12-31</td>\n",
       "    </tr>\n",
       "    <tr>\n",
       "      <th>4</th>\n",
       "      <td>90100</td>\n",
       "      <td>1010</td>\n",
       "      <td>Australian Terrier</td>\n",
       "      <td>1</td>\n",
       "      <td>2012-12-31</td>\n",
       "    </tr>\n",
       "  </tbody>\n",
       "</table>\n",
       "</div>"
      ],
      "text/plain": [
       "   DISTRICT_CODE  Postal_CODE                             Dog Breed  Anzahl  \\\n",
       "0          90100         1010                 Afghanischer Windhund       1   \n",
       "1          90100         1010          Amerikanischer Cockerspaniel       1   \n",
       "2          90100         1010  Amerikanischer Staffordshire-Terrier       2   \n",
       "3          90100         1010               Australian Shepherd Dog       2   \n",
       "4          90100         1010                    Australian Terrier       1   \n",
       "\n",
       "    Ref_Date  \n",
       "0 2012-12-31  \n",
       "1 2012-12-31  \n",
       "2 2012-12-31  \n",
       "3 2012-12-31  \n",
       "4 2012-12-31  "
      ]
     },
     "execution_count": 26,
     "metadata": {},
     "output_type": "execute_result"
    }
   ],
   "source": [
    "print(combined_dog_types.dtypes, combined_dog_types.shape)\n",
    "combined_dog_types.head(5)"
   ]
  },
  {
   "cell_type": "code",
   "execution_count": 27,
   "id": "oUbGYC1hZnCy",
   "metadata": {
    "colab": {
     "base_uri": "https://localhost:8080/",
     "height": 245
    },
    "id": "oUbGYC1hZnCy",
    "outputId": "ea9ce383-27c4-41d2-fc81-b877d53aaa1d"
   },
   "outputs": [
    {
     "data": {
      "text/html": [
       "<div>\n",
       "<style scoped>\n",
       "    .dataframe tbody tr th:only-of-type {\n",
       "        vertical-align: middle;\n",
       "    }\n",
       "\n",
       "    .dataframe tbody tr th {\n",
       "        vertical-align: top;\n",
       "    }\n",
       "\n",
       "    .dataframe thead th {\n",
       "        text-align: right;\n",
       "    }\n",
       "</style>\n",
       "<table border=\"1\" class=\"dataframe\">\n",
       "  <thead>\n",
       "    <tr style=\"text-align: right;\">\n",
       "      <th></th>\n",
       "      <th>Dog Breed</th>\n",
       "      <th>Affenpinscher</th>\n",
       "      <th>Affenpinscher / Afghanischer Windhund</th>\n",
       "      <th>Affenpinscher / Beagle</th>\n",
       "      <th>Affenpinscher / Border Terrier</th>\n",
       "      <th>Affenpinscher / Cairn Terrier</th>\n",
       "      <th>Affenpinscher / Griffon belge</th>\n",
       "      <th>Affenpinscher / Mischling</th>\n",
       "      <th>Affenpinscher / Scottish Terrier</th>\n",
       "      <th>Affenpinscher / Shih Tzu</th>\n",
       "      <th>Affenpinscher / Zwergschnauzer pfeffer-salz</th>\n",
       "      <th>...</th>\n",
       "      <th>Österreichischer Pinscher / Prager Rattler</th>\n",
       "      <th>Österreichischer Pinscher / Rauhhaar Dachshund Normal</th>\n",
       "      <th>Österreichischer Pinscher / Shar Pei</th>\n",
       "      <th>Österreichischer Pinscher / Spitz</th>\n",
       "      <th>Österreichischer Pinscher / Tibetan Spaniel</th>\n",
       "      <th>Österreichischer Pinscher / Weimaraner Kurzhaar</th>\n",
       "      <th>Österreichischer Pinscher / Whippet</th>\n",
       "      <th>Österreichischer Pinscher / Yorkshire Terrier</th>\n",
       "      <th>Österreichischer Pinscher / Zwergpudel Rot</th>\n",
       "      <th>Österreichischer Pinscher / Zwergspitz (Pomeranian)</th>\n",
       "    </tr>\n",
       "    <tr>\n",
       "      <th>Ref_Date</th>\n",
       "      <th>Postal_CODE</th>\n",
       "      <th></th>\n",
       "      <th></th>\n",
       "      <th></th>\n",
       "      <th></th>\n",
       "      <th></th>\n",
       "      <th></th>\n",
       "      <th></th>\n",
       "      <th></th>\n",
       "      <th></th>\n",
       "      <th></th>\n",
       "      <th></th>\n",
       "      <th></th>\n",
       "      <th></th>\n",
       "      <th></th>\n",
       "      <th></th>\n",
       "      <th></th>\n",
       "      <th></th>\n",
       "      <th></th>\n",
       "      <th></th>\n",
       "      <th></th>\n",
       "      <th></th>\n",
       "    </tr>\n",
       "  </thead>\n",
       "  <tbody>\n",
       "    <tr>\n",
       "      <th rowspan=\"2\" valign=\"top\">2024-06-03</th>\n",
       "      <th>1230</th>\n",
       "      <td>0</td>\n",
       "      <td>0</td>\n",
       "      <td>0</td>\n",
       "      <td>0</td>\n",
       "      <td>0</td>\n",
       "      <td>0</td>\n",
       "      <td>2</td>\n",
       "      <td>0</td>\n",
       "      <td>0</td>\n",
       "      <td>0</td>\n",
       "      <td>...</td>\n",
       "      <td>0</td>\n",
       "      <td>0</td>\n",
       "      <td>0</td>\n",
       "      <td>0</td>\n",
       "      <td>0</td>\n",
       "      <td>0</td>\n",
       "      <td>0</td>\n",
       "      <td>0</td>\n",
       "      <td>0</td>\n",
       "      <td>0</td>\n",
       "    </tr>\n",
       "    <tr>\n",
       "      <th>1120</th>\n",
       "      <td>1</td>\n",
       "      <td>0</td>\n",
       "      <td>0</td>\n",
       "      <td>0</td>\n",
       "      <td>0</td>\n",
       "      <td>0</td>\n",
       "      <td>0</td>\n",
       "      <td>0</td>\n",
       "      <td>0</td>\n",
       "      <td>0</td>\n",
       "      <td>...</td>\n",
       "      <td>0</td>\n",
       "      <td>0</td>\n",
       "      <td>0</td>\n",
       "      <td>0</td>\n",
       "      <td>0</td>\n",
       "      <td>0</td>\n",
       "      <td>0</td>\n",
       "      <td>0</td>\n",
       "      <td>0</td>\n",
       "      <td>0</td>\n",
       "    </tr>\n",
       "  </tbody>\n",
       "</table>\n",
       "<p>2 rows × 4312 columns</p>\n",
       "</div>"
      ],
      "text/plain": [
       "Dog Breed               Affenpinscher  Affenpinscher / Afghanischer Windhund  \\\n",
       "Ref_Date   Postal_CODE                                                         \n",
       "2024-06-03 1230                     0                                      0   \n",
       "           1120                     1                                      0   \n",
       "\n",
       "Dog Breed               Affenpinscher / Beagle  \\\n",
       "Ref_Date   Postal_CODE                           \n",
       "2024-06-03 1230                              0   \n",
       "           1120                              0   \n",
       "\n",
       "Dog Breed               Affenpinscher / Border Terrier  \\\n",
       "Ref_Date   Postal_CODE                                   \n",
       "2024-06-03 1230                                      0   \n",
       "           1120                                      0   \n",
       "\n",
       "Dog Breed               Affenpinscher / Cairn Terrier  \\\n",
       "Ref_Date   Postal_CODE                                  \n",
       "2024-06-03 1230                                     0   \n",
       "           1120                                     0   \n",
       "\n",
       "Dog Breed               Affenpinscher / Griffon belge  \\\n",
       "Ref_Date   Postal_CODE                                  \n",
       "2024-06-03 1230                                     0   \n",
       "           1120                                     0   \n",
       "\n",
       "Dog Breed               Affenpinscher / Mischling  \\\n",
       "Ref_Date   Postal_CODE                              \n",
       "2024-06-03 1230                                 2   \n",
       "           1120                                 0   \n",
       "\n",
       "Dog Breed               Affenpinscher / Scottish Terrier  \\\n",
       "Ref_Date   Postal_CODE                                     \n",
       "2024-06-03 1230                                        0   \n",
       "           1120                                        0   \n",
       "\n",
       "Dog Breed               Affenpinscher / Shih Tzu  \\\n",
       "Ref_Date   Postal_CODE                             \n",
       "2024-06-03 1230                                0   \n",
       "           1120                                0   \n",
       "\n",
       "Dog Breed               Affenpinscher / Zwergschnauzer pfeffer-salz  ...  \\\n",
       "Ref_Date   Postal_CODE                                               ...   \n",
       "2024-06-03 1230                                                   0  ...   \n",
       "           1120                                                   0  ...   \n",
       "\n",
       "Dog Breed               Österreichischer Pinscher / Prager Rattler  \\\n",
       "Ref_Date   Postal_CODE                                               \n",
       "2024-06-03 1230                                                  0   \n",
       "           1120                                                  0   \n",
       "\n",
       "Dog Breed               Österreichischer Pinscher / Rauhhaar Dachshund Normal  \\\n",
       "Ref_Date   Postal_CODE                                                          \n",
       "2024-06-03 1230                                                         0       \n",
       "           1120                                                         0       \n",
       "\n",
       "Dog Breed               Österreichischer Pinscher / Shar Pei  \\\n",
       "Ref_Date   Postal_CODE                                         \n",
       "2024-06-03 1230                                            0   \n",
       "           1120                                            0   \n",
       "\n",
       "Dog Breed               Österreichischer Pinscher / Spitz  \\\n",
       "Ref_Date   Postal_CODE                                      \n",
       "2024-06-03 1230                                         0   \n",
       "           1120                                         0   \n",
       "\n",
       "Dog Breed               Österreichischer Pinscher / Tibetan Spaniel  \\\n",
       "Ref_Date   Postal_CODE                                                \n",
       "2024-06-03 1230                                                   0   \n",
       "           1120                                                   0   \n",
       "\n",
       "Dog Breed               Österreichischer Pinscher / Weimaraner Kurzhaar  \\\n",
       "Ref_Date   Postal_CODE                                                    \n",
       "2024-06-03 1230                                                       0   \n",
       "           1120                                                       0   \n",
       "\n",
       "Dog Breed               Österreichischer Pinscher / Whippet  \\\n",
       "Ref_Date   Postal_CODE                                        \n",
       "2024-06-03 1230                                           0   \n",
       "           1120                                           0   \n",
       "\n",
       "Dog Breed               Österreichischer Pinscher / Yorkshire Terrier  \\\n",
       "Ref_Date   Postal_CODE                                                  \n",
       "2024-06-03 1230                                                     0   \n",
       "           1120                                                     0   \n",
       "\n",
       "Dog Breed               Österreichischer Pinscher / Zwergpudel Rot  \\\n",
       "Ref_Date   Postal_CODE                                               \n",
       "2024-06-03 1230                                                  0   \n",
       "           1120                                                  0   \n",
       "\n",
       "Dog Breed               Österreichischer Pinscher / Zwergspitz (Pomeranian)  \n",
       "Ref_Date   Postal_CODE                                                       \n",
       "2024-06-03 1230                                                         0    \n",
       "           1120                                                         0    \n",
       "\n",
       "[2 rows x 4312 columns]"
      ]
     },
     "execution_count": 27,
     "metadata": {},
     "output_type": "execute_result"
    }
   ],
   "source": [
    "combined_dog_types_by_year_and_district = combined_dog_types.pivot_table(index=['Ref_Date', 'Postal_CODE'], columns='Dog Breed', values='Anzahl', fill_value=0).sort_values(by='Ref_Date', ascending=False)\n",
    "combined_dog_types_by_year_and_district.head(2)"
   ]
  },
  {
   "cell_type": "markdown",
   "id": "abbec008-d77f-4231-82dc-07badc957d84",
   "metadata": {},
   "source": [
    "Sanity Check: \n",
    "\n",
    "Values are the same (apart from 0) --> looks good. "
   ]
  },
  {
   "cell_type": "code",
   "execution_count": 35,
   "id": "2f2dac57-7a61-419b-8f6d-b68ba824a1ad",
   "metadata": {},
   "outputs": [
    {
     "name": "stdout",
     "output_type": "stream",
     "text": [
      "{0}\n",
      "{0, 1, 2, 3, 4, 5, 6, 7, 8, 9, 10, 11, 12, 13, 14, 15, 16, 17, 18, 19, 20, 21, 22, 23, 24, 25, 26, 27, 28, 29, 30, 31, 32, 33, 34, 35, 36, 37, 38, 39, 40, 41, 42, 43, 44, 45, 46, 47, 48, 49, 50, 51, 52, 53, 54, 55, 56, 57, 58, 59, 60, 61, 62, 63, 64, 65, 66, 67, 68, 69, 70, 71, 72, 73, 74, 75, 76, 79, 80, 81, 82, 83, 84, 85, 86, 87, 88, 89, 90, 91, 92, 93, 94, 95, 96, 97, 98, 99, 100, 101, 529, 103, 104, 105, 107, 108, 109, 112, 113, 114, 115, 628, 117, 118, 119, 120, 121, 122, 123, 125, 127, 129, 130, 132, 133, 136, 139, 141, 142, 143, 144, 145, 146, 148, 150, 153, 154, 156, 2717, 1182, 161, 673, 169, 171, 172, 173, 686, 175, 179, 186, 189, 191, 194, 195, 196, 197, 204, 205, 206, 207, 208, 213, 1750, 217, 222, 224, 225, 228, 229, 234, 749, 241, 242, 253, 258, 260, 772, 263, 777, 269, 279, 281, 284, 288, 2354, 310, 521, 317, 330, 856, 352, 362, 1397, 385, 400, 922, 411, 415, 430, 943, 431, 477}\n",
      "{1, 2, 3, 4, 5, 6, 7, 8, 9, 10, 11, 12, 13, 14, 15, 16, 17, 18, 19, 20, 21, 22, 23, 24, 25, 26, 27, 28, 29, 30, 31, 32, 33, 34, 35, 36, 37, 38, 39, 40, 41, 42, 43, 44, 45, 46, 47, 48, 49, 50, 51, 52, 53, 54, 55, 56, 57, 58, 59, 60, 61, 62, 63, 64, 65, 66, 67, 68, 69, 70, 71, 72, 73, 74, 75, 76, 79, 80, 81, 82, 83, 84, 85, 86, 87, 88, 89, 90, 91, 92, 93, 94, 95, 96, 97, 98, 99, 100, 101, 529, 103, 104, 105, 107, 108, 109, 112, 113, 114, 115, 628, 117, 118, 119, 120, 121, 122, 123, 125, 127, 129, 130, 132, 133, 136, 139, 141, 142, 143, 144, 145, 146, 148, 150, 153, 154, 156, 2717, 1182, 673, 161, 169, 171, 172, 173, 686, 175, 179, 186, 189, 191, 194, 195, 196, 197, 204, 205, 206, 207, 208, 213, 1750, 217, 222, 224, 225, 228, 229, 234, 749, 241, 242, 253, 258, 772, 260, 263, 777, 269, 279, 281, 284, 288, 2354, 310, 521, 317, 330, 856, 352, 362, 1397, 385, 400, 922, 411, 415, 430, 943, 431, 477}\n",
      "False\n"
     ]
    }
   ],
   "source": [
    "unique_values = []\n",
    "unique_values_single = []\n",
    "for col in combined_dog_types_by_year_and_district.columns:\n",
    "    unique_values.extend(combined_dog_types_by_year_and_district[col].unique())\n",
    "\n",
    "unique_values_single.extend(dog_types_2012['Anzahl'].unique())\n",
    "unique_values_single.extend(dog_types_2024['Anzahl'].unique())\n",
    "unique_values_single = set(unique_values_single)\n",
    "unique_values = set(unique_values)\n",
    "differences = unique_values.symmetric_difference(unique_values_single)\n",
    "print(differences)"
   ]
  },
  {
   "cell_type": "code",
   "execution_count": null,
   "id": "8240d46a-026b-4ef6-82ff-b6c234b35466",
   "metadata": {},
   "outputs": [],
   "source": []
  },
  {
   "cell_type": "markdown",
   "id": "b041e827-fd81-4eb8-95d3-9e6ae1c77ca7",
   "metadata": {
    "id": "b041e827-fd81-4eb8-95d3-9e6ae1c77ca7"
   },
   "source": [
    "## E2 - Exploratory data analysis (EDA)\n",
    "Use the clean dataset and understand and explore the relationships in the data (numerical, visual, statistical). This includes at least but is not limited to:\n",
    "- A comprehensive textual description of meaning for relevant fields in the dataset\n",
    "- Statistical/numerical descriptions and visualization techniques we learned in the course inluding correlations, distributions and groupings of variing degrees.\n",
    "- Checks for data quality, e. g., completeness, plausibility, outliers\n",
    "- Handling any identified problems with the data\n",
    "- If necessary, use additional data wrangling in line with your EDA and only keep what's necessary for the following steps of your analysis with appropriate data granularity and form (\"tidy data\")\n",
    "\n",
    "Don't:\n",
    "- test/prove hypotheses here. EDA should only motivate hypotheses.\n",
    "\n",
    "Advanced/bonus:\n",
    "- Depending on your hypothesis you may want to join external data (e.g., merge external highest education level to existing vaccination data) for additional insights.\n",
    "\n",
    "Explain all steps taken and your thinking why you deem them necessary."
   ]
  },
  {
   "cell_type": "code",
   "execution_count": 28,
   "id": "370ab718-fa85-4fd8-adee-7643970042ad",
   "metadata": {
    "id": "370ab718-fa85-4fd8-adee-7643970042ad"
   },
   "outputs": [],
   "source": [
    "# E2:\n",
    "\n",
    "\n",
    "\n",
    "\n",
    "\n",
    "\n"
   ]
  },
  {
   "cell_type": "code",
   "execution_count": null,
   "id": "bc62f132-be6d-46cc-9697-25546ac356cb",
   "metadata": {
    "id": "bc62f132-be6d-46cc-9697-25546ac356cb"
   },
   "outputs": [],
   "source": []
  },
  {
   "cell_type": "markdown",
   "id": "277ea477-7d0c-407b-970e-212d64b5ec94",
   "metadata": {
    "id": "277ea477-7d0c-407b-970e-212d64b5ec94"
   },
   "source": [
    "## E3 - Formulate hypotheses\n",
    "\n",
    "*Note: Read this section entirely and understand it - every group member.*\n",
    "\n",
    "A hypothesis is an idea or explanation for something that is based on known facts but has not yet been proved. A hypothesis is a compact, concise statement, such as: \"Individuals with higher income have (on average) more offspring.\", that will be answered based on facts (the data). https://gradcoach.com/what-is-a-research-hypothesis-or-scientific-hypothesis/\n",
    "\n",
    "Formulate *N* non-trivial hypotheses, 1 per group member, and regard the following criteria:\n",
    "- State the hypothesis explicitly in concise language.\n",
    "- The hypothesis must be **motivated** by either **EDA results** or **literature** (citation in the report needed).\n",
    "- The hypothesis must refer to **endpoints** that are **testable**. Specifically, the endpoint must be derived from the data.\n",
    "- Think of real-life use cases/consequences of your results (textual description).\n",
    "- For each hypothesis explain all executed steps.\n",
    "- In case of extreme or implausible results check the validity of your data.\n",
    "- For each hypothesis export the artifacts (figures, tables, etc.) required for the report.\n",
    "- If you decide to use a statistical test, use it properly. In particular, check the validity and comparability of the samples.\n",
    "\n",
    "Do not:\n",
    "- State nebulous, vague hypotheses. These don't contain endpoints and are unclear to test (i.e., answer).\n",
    "- Use post-hoc hypotheses. Portraying an empirically inspired **post hoc hypothesis as a priori** violates the **falsification principle** crucial for hypothesis-driven (that is, confirmatory) empirical research. Falsification is severe scientific fraud.\n",
    "- State trivial hypotheses (e.g., hypthesis 2: \"Not Hypothesis 1\").\n",
    "- Answer based on \"common knowledge\".\n",
    "- Try to **produce positively tested hypotheses**. If a well motivated hypothesis is negative, this is an important finding (see Simpson's Paradox). The value of a tested hypothesis lies in the information or learning it provides.\n",
    "\n",
    "Example: The homework with Simpson's Paradox. The pooled overall comparison between the genders would be the EDA motivating the hypothesis: \"At UC Berkeley the by-department admissions rate for females is lower than for males.\" It should be tested using samples of department admission rates for the 2 **groups** male and female. No steps of the test should be done in EDA (or a priory to stating the hypothesis). The groups should be compared graphically, e.g., via a stripplot overlayed with a boxplot. The figure should be labelled properly and exported for the report. A (paired) t-test **may** be used (it's optional) to test this hypothesis statistically. For different data (e.g., time series) different approaches may be required. You don't have to use statistical tests, in particular if you don't know what they are doing.\n"
   ]
  },
  {
   "cell_type": "markdown",
   "id": "09613f9f-d3ff-4b8d-b975-88437a72815c",
   "metadata": {
    "id": "09613f9f-d3ff-4b8d-b975-88437a72815c"
   },
   "source": [
    "### E3-H1: \"The prevalence of specific dog breeds in Vienna is strongly influenced by real estate prices.\"\n",
    "Rationale: Higher real estate prices may attract certain dog breeds, indicating a potential link between the types of dogs found in high-income areas and local housing costs.\n",
    "Data Needed: Dog breed data ('hunde-vie.csv'/hunde-wien.csv), Real estate prices dataset.\n",
    "\n",
    "Author: Carlos Eduardo Tichy\n"
   ]
  },
  {
   "cell_type": "code",
   "execution_count": null,
   "id": "702cdce9-5d4f-41f3-8b9e-a4363ec5d8d5",
   "metadata": {
    "id": "702cdce9-5d4f-41f3-8b9e-a4363ec5d8d5"
   },
   "outputs": [],
   "source": []
  },
  {
   "cell_type": "markdown",
   "id": "8a404fa7-19f3-49bc-adc7-9a6ae07da0c9",
   "metadata": {
    "id": "8a404fa7-19f3-49bc-adc7-9a6ae07da0c9",
    "tags": []
   },
   "source": [
    "### E3-H2: \"Dog ownership trends are significantly different between high-cost and low-cost real estate areas of Vienna.\"\n",
    "Rationale: Real estate prices could affect the type of dog breeds owned, changes in real estate prices could correlate with changes in dog breeds owned. Data Needed: Dog breed data ('hunde-vie.csv'/hunde-wien.csv), Real estate prices dataset.\n",
    "\n",
    "\n",
    "Author: Theresa Spiel\n",
    "\n"
   ]
  },
  {
   "cell_type": "code",
   "execution_count": null,
   "id": "4a3711e0-13d6-4115-9d64-c9f154d27f7f",
   "metadata": {
    "id": "4a3711e0-13d6-4115-9d64-c9f154d27f7f"
   },
   "outputs": [],
   "source": []
  },
  {
   "cell_type": "markdown",
   "id": "70e60944-b857-4a32-872a-6db028c51c87",
   "metadata": {
    "id": "70e60944-b857-4a32-872a-6db028c51c87",
    "tags": []
   },
   "source": [
    "### E3-H3: \"xxx\"\n",
    "Author: Group member 3\n"
   ]
  },
  {
   "cell_type": "code",
   "execution_count": null,
   "id": "6bf1314d-47bb-4440-90f9-bef900320597",
   "metadata": {
    "id": "6bf1314d-47bb-4440-90f9-bef900320597"
   },
   "outputs": [],
   "source": []
  },
  {
   "cell_type": "markdown",
   "id": "ede91b90-ee3d-40c0-b2c4-4712413fe0e6",
   "metadata": {
    "id": "ede91b90-ee3d-40c0-b2c4-4712413fe0e6",
    "tags": []
   },
   "source": [
    "### E3-H4: \"xxx\"\n",
    "Author: Group member 4\n"
   ]
  },
  {
   "cell_type": "code",
   "execution_count": null,
   "id": "710a7064-05e8-4d52-9c1b-a6dcd143a4ae",
   "metadata": {
    "id": "710a7064-05e8-4d52-9c1b-a6dcd143a4ae"
   },
   "outputs": [],
   "source": []
  },
  {
   "cell_type": "markdown",
   "id": "5da06647-b803-4ad3-8e40-b372cf7044df",
   "metadata": {
    "id": "5da06647-b803-4ad3-8e40-b372cf7044df",
    "tags": []
   },
   "source": [
    "### E3-H5: \"xxx\"\n",
    "Author: Group member 5\n"
   ]
  },
  {
   "cell_type": "code",
   "execution_count": null,
   "id": "9f174ed8-3291-4b1e-80a3-ea441b7efc19",
   "metadata": {
    "id": "9f174ed8-3291-4b1e-80a3-ea441b7efc19"
   },
   "outputs": [],
   "source": []
  }
 ],
 "metadata": {
  "colab": {
   "provenance": []
  },
  "kernelspec": {
   "display_name": "Python 3 (ipykernel)",
   "language": "python",
   "name": "python3"
  },
  "language_info": {
   "codemirror_mode": {
    "name": "ipython",
    "version": 3
   },
   "file_extension": ".py",
   "mimetype": "text/x-python",
   "name": "python",
   "nbconvert_exporter": "python",
   "pygments_lexer": "ipython3",
   "version": "3.9.19"
  }
 },
 "nbformat": 4,
 "nbformat_minor": 5
}
